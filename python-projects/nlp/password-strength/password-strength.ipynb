{
 "cells": [
  {
   "cell_type": "code",
   "execution_count": 55,
   "metadata": {
    "executionInfo": {
     "elapsed": 3228,
     "status": "ok",
     "timestamp": 1682652598591,
     "user": {
      "displayName": "yeehaw",
      "userId": "00614237284897735384"
     },
     "user_tz": -420
    },
    "id": "D4LSangQ1_oI"
   },
   "outputs": [],
   "source": [
    "import pandas as pd\n",
    "import numpy as np\n",
    "import seaborn as sns\n",
    "import warnings\n",
    "warnings.filterwarnings('ignore')"
   ]
  },
  {
   "cell_type": "code",
   "execution_count": 56,
   "metadata": {
    "executionInfo": {
     "elapsed": 38,
     "status": "ok",
     "timestamp": 1682652598592,
     "user": {
      "displayName": "yeehaw",
      "userId": "00614237284897735384"
     },
     "user_tz": -420
    },
    "id": "pYJV2CI2EH_k"
   },
   "outputs": [],
   "source": [
    "# read the data"
   ]
  },
  {
   "cell_type": "code",
   "execution_count": 57,
   "metadata": {
    "colab": {
     "base_uri": "https://localhost:8080/"
    },
    "executionInfo": {
     "elapsed": 37,
     "status": "ok",
     "timestamp": 1682652598593,
     "user": {
      "displayName": "yeehaw",
      "userId": "00614237284897735384"
     },
     "user_tz": -420
    },
    "id": "3zCB7-yIUf0W",
    "outputId": "71370bbb-c6f2-41a3-ec76-38a7688ea818"
   },
   "outputs": [],
   "source": [
    "data=pd.read_csv('data/data.csv', on_bad_lines='skip')"
   ]
  },
  {
   "cell_type": "code",
   "execution_count": 58,
   "metadata": {
    "colab": {
     "base_uri": "https://localhost:8080/",
     "height": 206
    },
    "executionInfo": {
     "elapsed": 34,
     "status": "ok",
     "timestamp": 1682652598594,
     "user": {
      "displayName": "yeehaw",
      "userId": "00614237284897735384"
     },
     "user_tz": -420
    },
    "id": "ete7Ay5ZUjeZ",
    "outputId": "961a82c8-62c7-4989-e876-d3799ff76f4b"
   },
   "outputs": [
    {
     "data": {
      "text/html": [
       "<div>\n",
       "<style scoped>\n",
       "    .dataframe tbody tr th:only-of-type {\n",
       "        vertical-align: middle;\n",
       "    }\n",
       "\n",
       "    .dataframe tbody tr th {\n",
       "        vertical-align: top;\n",
       "    }\n",
       "\n",
       "    .dataframe thead th {\n",
       "        text-align: right;\n",
       "    }\n",
       "</style>\n",
       "<table border=\"1\" class=\"dataframe\">\n",
       "  <thead>\n",
       "    <tr style=\"text-align: right;\">\n",
       "      <th></th>\n",
       "      <th>password</th>\n",
       "      <th>strength</th>\n",
       "    </tr>\n",
       "  </thead>\n",
       "  <tbody>\n",
       "    <tr>\n",
       "      <th>0</th>\n",
       "      <td>kzde5577</td>\n",
       "      <td>1</td>\n",
       "    </tr>\n",
       "    <tr>\n",
       "      <th>1</th>\n",
       "      <td>kino3434</td>\n",
       "      <td>1</td>\n",
       "    </tr>\n",
       "    <tr>\n",
       "      <th>2</th>\n",
       "      <td>visi7k1yr</td>\n",
       "      <td>1</td>\n",
       "    </tr>\n",
       "    <tr>\n",
       "      <th>3</th>\n",
       "      <td>megzy123</td>\n",
       "      <td>1</td>\n",
       "    </tr>\n",
       "    <tr>\n",
       "      <th>4</th>\n",
       "      <td>lamborghin1</td>\n",
       "      <td>1</td>\n",
       "    </tr>\n",
       "  </tbody>\n",
       "</table>\n",
       "</div>"
      ],
      "text/plain": [
       "      password  strength\n",
       "0     kzde5577         1\n",
       "1     kino3434         1\n",
       "2    visi7k1yr         1\n",
       "3     megzy123         1\n",
       "4  lamborghin1         1"
      ]
     },
     "execution_count": 58,
     "metadata": {},
     "output_type": "execute_result"
    }
   ],
   "source": [
    "data.head()"
   ]
  },
  {
   "cell_type": "code",
   "execution_count": 59,
   "metadata": {
    "colab": {
     "base_uri": "https://localhost:8080/"
    },
    "executionInfo": {
     "elapsed": 32,
     "status": "ok",
     "timestamp": 1682652598594,
     "user": {
      "displayName": "yeehaw",
      "userId": "00614237284897735384"
     },
     "user_tz": -420
    },
    "id": "IHK-C3ULU8df",
    "outputId": "a77f1455-8401-4684-dd99-e7aaea4279dc"
   },
   "outputs": [
    {
     "data": {
      "text/plain": [
       "array([1, 2, 0])"
      ]
     },
     "execution_count": 59,
     "metadata": {},
     "output_type": "execute_result"
    }
   ],
   "source": [
    "data['strength'].unique()"
   ]
  },
  {
   "cell_type": "code",
   "execution_count": 60,
   "metadata": {
    "colab": {
     "base_uri": "https://localhost:8080/"
    },
    "executionInfo": {
     "elapsed": 27,
     "status": "ok",
     "timestamp": 1682652598595,
     "user": {
      "displayName": "yeehaw",
      "userId": "00614237284897735384"
     },
     "user_tz": -420
    },
    "id": "d2mFHve5VALp",
    "outputId": "142e5e63-2f82-4c81-86bc-164ac56d83e2"
   },
   "outputs": [
    {
     "data": {
      "text/plain": [
       "password    1\n",
       "strength    0\n",
       "dtype: int64"
      ]
     },
     "execution_count": 60,
     "metadata": {},
     "output_type": "execute_result"
    }
   ],
   "source": [
    "data.isna().sum()"
   ]
  },
  {
   "cell_type": "code",
   "execution_count": 61,
   "metadata": {
    "colab": {
     "base_uri": "https://localhost:8080/",
     "height": 81
    },
    "executionInfo": {
     "elapsed": 23,
     "status": "ok",
     "timestamp": 1682652598595,
     "user": {
      "displayName": "yeehaw",
      "userId": "00614237284897735384"
     },
     "user_tz": -420
    },
    "id": "Y65H8o7HVvfl",
    "outputId": "9ddf79e7-b1b9-4f81-d855-96a90c91150f"
   },
   "outputs": [
    {
     "data": {
      "text/html": [
       "<div>\n",
       "<style scoped>\n",
       "    .dataframe tbody tr th:only-of-type {\n",
       "        vertical-align: middle;\n",
       "    }\n",
       "\n",
       "    .dataframe tbody tr th {\n",
       "        vertical-align: top;\n",
       "    }\n",
       "\n",
       "    .dataframe thead th {\n",
       "        text-align: right;\n",
       "    }\n",
       "</style>\n",
       "<table border=\"1\" class=\"dataframe\">\n",
       "  <thead>\n",
       "    <tr style=\"text-align: right;\">\n",
       "      <th></th>\n",
       "      <th>password</th>\n",
       "      <th>strength</th>\n",
       "    </tr>\n",
       "  </thead>\n",
       "  <tbody>\n",
       "    <tr>\n",
       "      <th>367579</th>\n",
       "      <td>NaN</td>\n",
       "      <td>0</td>\n",
       "    </tr>\n",
       "  </tbody>\n",
       "</table>\n",
       "</div>"
      ],
      "text/plain": [
       "       password  strength\n",
       "367579      NaN         0"
      ]
     },
     "execution_count": 61,
     "metadata": {},
     "output_type": "execute_result"
    }
   ],
   "source": [
    "data[data['password'].isnull()]"
   ]
  },
  {
   "cell_type": "code",
   "execution_count": 62,
   "metadata": {
    "executionInfo": {
     "elapsed": 21,
     "status": "ok",
     "timestamp": 1682652598595,
     "user": {
      "displayName": "yeehaw",
      "userId": "00614237284897735384"
     },
     "user_tz": -420
    },
    "id": "kVN7nzjsWFsl"
   },
   "outputs": [],
   "source": [
    "data.dropna(inplace=True)"
   ]
  },
  {
   "cell_type": "code",
   "execution_count": 63,
   "metadata": {
    "colab": {
     "base_uri": "https://localhost:8080/",
     "height": 49
    },
    "executionInfo": {
     "elapsed": 22,
     "status": "ok",
     "timestamp": 1682652598596,
     "user": {
      "displayName": "yeehaw",
      "userId": "00614237284897735384"
     },
     "user_tz": -420
    },
    "id": "XmJqMX95D40J",
    "outputId": "276f6fc4-1f0b-4578-984a-bef1a7abb2a6"
   },
   "outputs": [
    {
     "data": {
      "text/html": [
       "<div>\n",
       "<style scoped>\n",
       "    .dataframe tbody tr th:only-of-type {\n",
       "        vertical-align: middle;\n",
       "    }\n",
       "\n",
       "    .dataframe tbody tr th {\n",
       "        vertical-align: top;\n",
       "    }\n",
       "\n",
       "    .dataframe thead th {\n",
       "        text-align: right;\n",
       "    }\n",
       "</style>\n",
       "<table border=\"1\" class=\"dataframe\">\n",
       "  <thead>\n",
       "    <tr style=\"text-align: right;\">\n",
       "      <th></th>\n",
       "      <th>password</th>\n",
       "      <th>strength</th>\n",
       "    </tr>\n",
       "  </thead>\n",
       "  <tbody>\n",
       "  </tbody>\n",
       "</table>\n",
       "</div>"
      ],
      "text/plain": [
       "Empty DataFrame\n",
       "Columns: [password, strength]\n",
       "Index: []"
      ]
     },
     "execution_count": 63,
     "metadata": {},
     "output_type": "execute_result"
    }
   ],
   "source": [
    "data[data['password'].isnull()]"
   ]
  },
  {
   "cell_type": "code",
   "execution_count": 64,
   "metadata": {},
   "outputs": [
    {
     "data": {
      "text/plain": [
       "<Axes: xlabel='strength'>"
      ]
     },
     "execution_count": 64,
     "metadata": {},
     "output_type": "execute_result"
    },
    {
     "data": {
      "image/png": "[encoded data removed]",
      "text/plain": [
       "<Figure size 640x480 with 1 Axes>"
      ]
     },
     "metadata": {},
     "output_type": "display_data"
    }
   ],
   "source": [
    "data['strength'].value_counts().sort_index().plot(kind='bar')"
   ]
  },
  {
   "cell_type": "code",
   "execution_count": 65,
   "metadata": {
    "executionInfo": {
     "elapsed": 49,
     "status": "ok",
     "timestamp": 1682652600346,
     "user": {
      "displayName": "yeehaw",
      "userId": "00614237284897735384"
     },
     "user_tz": -420
    },
    "id": "gmHtqNsPD9vu"
   },
   "outputs": [],
   "source": [
    "password_tuple=np.array(data)"
   ]
  },
  {
   "cell_type": "code",
   "execution_count": 66,
   "metadata": {
    "colab": {
     "base_uri": "https://localhost:8080/"
    },
    "executionInfo": {
     "elapsed": 49,
     "status": "ok",
     "timestamp": 1682652600347,
     "user": {
      "displayName": "yeehaw",
      "userId": "00614237284897735384"
     },
     "user_tz": -420
    },
    "id": "0Z33hl8gEPCv",
    "outputId": "5221346b-42ed-4b65-d6a2-cc17833d525b"
   },
   "outputs": [
    {
     "data": {
      "text/plain": [
       "array([['kzde5577', 1],\n",
       "       ['kino3434', 1],\n",
       "       ['visi7k1yr', 1],\n",
       "       ...,\n",
       "       ['184520socram', 1],\n",
       "       ['marken22a', 1],\n",
       "       ['fxx4pw4g', 1]], shape=(669639, 2), dtype=object)"
      ]
     },
     "execution_count": 66,
     "metadata": {},
     "output_type": "execute_result"
    }
   ],
   "source": [
    "password_tuple"
   ]
  },
  {
   "cell_type": "code",
   "execution_count": 67,
   "metadata": {
    "executionInfo": {
     "elapsed": 47,
     "status": "ok",
     "timestamp": 1682652600349,
     "user": {
      "displayName": "yeehaw",
      "userId": "00614237284897735384"
     },
     "user_tz": -420
    },
    "id": "T2lGwVpqESO7"
   },
   "outputs": [],
   "source": [
    "import random\n",
    "random.shuffle(password_tuple)"
   ]
  },
  {
   "cell_type": "code",
   "execution_count": 68,
   "metadata": {
    "executionInfo": {
     "elapsed": 47,
     "status": "ok",
     "timestamp": 1682652600350,
     "user": {
      "displayName": "yeehaw",
      "userId": "00614237284897735384"
     },
     "user_tz": -420
    },
    "id": "zGkEbVpOEctC"
   },
   "outputs": [],
   "source": [
    "x=[labels[0] for labels in password_tuple]\n",
    "y=[labels[1] for labels in password_tuple]"
   ]
  },
  {
   "cell_type": "code",
   "execution_count": 69,
   "metadata": {
    "colab": {
     "base_uri": "https://localhost:8080/"
    },
    "executionInfo": {
     "elapsed": 47,
     "status": "ok",
     "timestamp": 1682652600351,
     "user": {
      "displayName": "yeehaw",
      "userId": "00614237284897735384"
     },
     "user_tz": -420
    },
    "id": "uHPi6TGBEtBs",
    "outputId": "5692930d-3535-4da7-a739-d3c0532e1d20"
   },
   "outputs": [
    {
     "data": {
      "text/plain": [
       "['kzde5577',\n",
       " 'kino3434',\n",
       " 'kzde5577',\n",
       " 'kzde5577',\n",
       " 'lamborghin1',\n",
       " 'visi7k1yr',\n",
       " 'visi7k1yr',\n",
       " 'v1118714',\n",
       " 'kino3434',\n",
       " 'u6c8vhow',\n",
       " 'AVYq1lDE4MgAZfNt',\n",
       " 'kino3434',\n",
       " 'kzde5577',\n",
       " 'megzy123',\n",
       " '612035180tok',\n",
       " 'megzy123',\n",
       " 'kzde5577',\n",
       " 'AVYq1lDE4MgAZfNt',\n",
       " 'lamborghin1',\n",
       " 'sbl571017',\n",
       " 'asv5o9yu',\n",
       " '52558000aaa',\n",
       " 'v1118714',\n",
       " 'lamborghin1',\n",
       " 'visi7k1yr',\n",
       " '6975038lp',\n",
       " 'czuodhj972',\n",
       " 'jerusalem393',\n",
       " 'u6c8vhow',\n",
       " 'cigicigi123',\n",
       " 'klara-tershina3H',\n",
       " 'megzy123',\n",
       " 'cigicigi123',\n",
       " 'jerusalem393',\n",
       " 'asgaliu11',\n",
       " 'WUt9IZzE0OQ7PkNE',\n",
       " 'kzde5577',\n",
       " 'lamborghin1',\n",
       " 'fahad123',\n",
       " 'megzy123',\n",
       " 'trabajonet9',\n",
       " 'megzy123',\n",
       " 'asv5o9yu',\n",
       " 'elyass15@ajilent-ci',\n",
       " 'faranumar91',\n",
       " '612035180tok',\n",
       " '612035180tok',\n",
       " '52558000aaa',\n",
       " 'g067057895',\n",
       " 'alimagik1',\n",
       " 'jerusalem393',\n",
       " '0169395484a',\n",
       " 'yitbos77',\n",
       " 'lsdlsd1',\n",
       " 'trabajonet9',\n",
       " 'as326159',\n",
       " 'asgaliu11',\n",
       " 'calcifer32',\n",
       " 'jytifok873',\n",
       " 'juliel009',\n",
       " 'jytifok873',\n",
       " 'megzy123',\n",
       " 'lsdlsd1',\n",
       " 'schalke04',\n",
       " 'yqugu927',\n",
       " 'fk9qi21m',\n",
       " 'juliel009',\n",
       " 'openup12',\n",
       " 'memjan123',\n",
       " 'memjan123',\n",
       " 'kjkjkj1',\n",
       " 'ok>bdk',\n",
       " 'c3h8bkzr',\n",
       " 'elyass15@ajilent-ci',\n",
       " 'yqugu927',\n",
       " 'asv5o9yu',\n",
       " 'ejeko677',\n",
       " 'lsdlsd1',\n",
       " 'Iamthelegend1!',\n",
       " 'megzy123',\n",
       " 'd04m11',\n",
       " 'ga98SIzk0NwhiZaE',\n",
       " 'asv5o9yu',\n",
       " 'ok>bdk',\n",
       " 'trabajonet9',\n",
       " 'bgrvl80',\n",
       " 'AVYq1lDE4MgAZfNt',\n",
       " 'b4NbTxDEyNgG141J',\n",
       " '52558000aaa',\n",
       " 'asgaliu11',\n",
       " 'asgaliu11',\n",
       " 'prisonbreak1',\n",
       " 'memjan123',\n",
       " 'v1118714',\n",
       " 'jerusalem393',\n",
       " '2021848709.',\n",
       " 'olmaz.',\n",
       " 'ok>bdk',\n",
       " 'sbl571017',\n",
       " 'asgaliu11',\n",
       " 'kswa2mrv',\n",
       " 'memjan123',\n",
       " 'trabajonet9',\n",
       " 'il0vey0u',\n",
       " 'bgrvl80',\n",
       " 'Iamthelegend1!',\n",
       " 'fahad123',\n",
       " '6975038lp',\n",
       " '838188linh',\n",
       " 'gdfn76',\n",
       " 'sknq7m0',\n",
       " 'cigicigi123',\n",
       " 'mickael12',\n",
       " 'kVczcljg4OA25Aeb',\n",
       " 'p2share',\n",
       " 'universe2908',\n",
       " '612035180tok',\n",
       " 'ass359',\n",
       " 'zoobike04',\n",
       " 'megzy123',\n",
       " 'cigicigi123',\n",
       " 'AVYq1lDE4MgAZfNt',\n",
       " 'mmm23mm',\n",
       " 'obstacle25',\n",
       " 'TyWM72UNEex8Q8Y',\n",
       " 'z3ro1sm',\n",
       " '929865yt',\n",
       " 'AVYq1lDE4MgAZfNt',\n",
       " 'bgrvl80',\n",
       " 'xyws951753',\n",
       " 'kVczcljg4OA25Aeb',\n",
       " 'TyWM72UNEex8Q8Y',\n",
       " 'yqugu927',\n",
       " 'visi7k1yr',\n",
       " 'il0vey0u',\n",
       " 'fk9qi21m',\n",
       " 'yllime123',\n",
       " 'pHyqueDIyNQ8vmhb',\n",
       " 'yitbos77',\n",
       " '10Erjrlmebup0n',\n",
       " 'juliana19',\n",
       " 'gill02',\n",
       " 'kunyukbabi69',\n",
       " '5gzj5uf',\n",
       " 'tamanagung6',\n",
       " 'vehat387',\n",
       " 'patri1973',\n",
       " 'asv5o9yu',\n",
       " 'jalingo1',\n",
       " '64959rodro',\n",
       " 'juliel009',\n",
       " 'ass359',\n",
       " 'pHyqueDIyNQ8vmhb',\n",
       " 'a2531106',\n",
       " 'k9b8cz6aj2',\n",
       " 'calcifer32',\n",
       " 'prisonbreak1',\n",
       " 'memjan123',\n",
       " 'jytifok873',\n",
       " '612035180tok',\n",
       " 'megzy123',\n",
       " 'juliel009',\n",
       " 'prisonbreak1',\n",
       " '20Dgw7TQ0OQVdly7',\n",
       " 'ga98SIzk0NwhiZaE',\n",
       " 'hodygid757',\n",
       " 'kunyukbabi69',\n",
       " 'omakiva153',\n",
       " '283671gus',\n",
       " 'fnmsdha476',\n",
       " 'polo2014',\n",
       " 'sknq7m0',\n",
       " 'yitbos77',\n",
       " 'prisonbreak1',\n",
       " 'jUV4dSDQwNwPpA36',\n",
       " 'pato221182',\n",
       " 'fahad123',\n",
       " 'fk9qi21m',\n",
       " '10Erjrlmebup0n',\n",
       " 'moken7',\n",
       " 'ekufite742',\n",
       " 'ldteugao6',\n",
       " 'hodygid757',\n",
       " 'jUV4dSDQwNwPpA36',\n",
       " 'cigicigi123',\n",
       " 'elonex24',\n",
       " '6975038lp',\n",
       " 's0xwym7h',\n",
       " 'asgaliu11',\n",
       " 'denise18',\n",
       " 's9830950044',\n",
       " 'jalingo1',\n",
       " 'teste10',\n",
       " 'yqugu927',\n",
       " '20010509wang',\n",
       " 'calcifer32',\n",
       " 'jytifok873',\n",
       " 'pato221182',\n",
       " 'd04m11',\n",
       " '6tequila6',\n",
       " 'polo2014',\n",
       " 'u6c8vhow',\n",
       " 'finisterra1',\n",
       " 'asv5o9yu',\n",
       " 'jalal123456',\n",
       " 'yitbos77',\n",
       " 'z888888',\n",
       " 's4m2dx9e6',\n",
       " 'ga98SIzk0NwhiZaE',\n",
       " 'x8512514',\n",
       " 'IjUcOtYqAwel725',\n",
       " 'hayhayq2',\n",
       " 'kswa2mrv',\n",
       " 'fahad123',\n",
       " 'jUV4dSDQwNwPpA36',\n",
       " 'u6c8vhow',\n",
       " 'jalal123456',\n",
       " '283671gus',\n",
       " 'jonothepoop1',\n",
       " 'znbl5tj1',\n",
       " '26522876p',\n",
       " 'a0972986650',\n",
       " 'yuri110995',\n",
       " 'jerusalem393',\n",
       " '6975038lp',\n",
       " 'kayal123',\n",
       " 'franczuk33',\n",
       " 'pikey231',\n",
       " 'c3h8bkzr',\n",
       " 'kswa2mrv',\n",
       " 'universe2908',\n",
       " 'farrukhcse12',\n",
       " 'gozv3e5',\n",
       " 'u6c8vhow',\n",
       " 'x8512514',\n",
       " 'tia150979',\n",
       " 'WUt9IZzE0OQ7PkNE',\n",
       " 'nello11',\n",
       " 'bgrvl80',\n",
       " 'ldteugao6',\n",
       " 'www32223222',\n",
       " 'cockw0mble',\n",
       " 'faranumar91',\n",
       " 'omakiva153',\n",
       " '4fqa52vecr',\n",
       " 'v1118714',\n",
       " 'ns2b0727',\n",
       " 'AVYq1lDE4MgAZfNt',\n",
       " 'jerusalem393',\n",
       " 'owote852',\n",
       " 'puegwajy416',\n",
       " 'rogyh820',\n",
       " 'lrhxmevb620',\n",
       " 'taurofive16',\n",
       " 'farrukhcse12',\n",
       " 'denise18',\n",
       " 'metopelo1623',\n",
       " '52558000aaa',\n",
       " 'ubojig109',\n",
       " 'megzy123',\n",
       " 'WUt9IZzE0OQ7PkNE',\n",
       " 'ga98SIzk0NwhiZaE',\n",
       " 'meriton23',\n",
       " 'gtlek',\n",
       " 'alchimie79',\n",
       " 'yut0838828185',\n",
       " 'AVYq1lDE4MgAZfNt',\n",
       " '20010509wang',\n",
       " 'u6c8vhow',\n",
       " 'wisal1234',\n",
       " 'franczuk33',\n",
       " '33kanun03',\n",
       " 'kry1z9',\n",
       " 'faranumar91',\n",
       " 'klara-tershina3H',\n",
       " 'kVczcljg4OA25Aeb',\n",
       " 'wxS2ztDk4OATjBfI',\n",
       " 'pHyqueDIyNQ8vmhb',\n",
       " 'exitos2009',\n",
       " 'warriors08',\n",
       " 'prisonbreak1',\n",
       " 'meriton23',\n",
       " '20010509wang',\n",
       " 'fnmsdha476',\n",
       " 'pato221182',\n",
       " 'kikeq102',\n",
       " 'a2531106',\n",
       " 'jUV4dSDQwNwPpA36',\n",
       " 'v1118714',\n",
       " 'z7zbgIDkzMQeHUd9',\n",
       " '20Dgw7TQ0OQVdly7',\n",
       " 'gaymaids1',\n",
       " 'hayhayq2',\n",
       " 's9830950044',\n",
       " 'ajyrew547',\n",
       " 'patty94',\n",
       " 'X9WVojjE4MgVAIiR',\n",
       " 'ldteugao6',\n",
       " 'kunyukbabi69',\n",
       " 'djngeyut2707',\n",
       " '2yz4ewwg',\n",
       " 'denise18',\n",
       " 'cesarmaio1',\n",
       " 'kyxvufl37',\n",
       " 'josue12',\n",
       " 'wisal1234',\n",
       " 'hosna1368',\n",
       " 'owote852',\n",
       " 'ram@!sita15392',\n",
       " 'aslpls2009',\n",
       " '838188linh',\n",
       " 'tia150979',\n",
       " 'XqMB7vDMzOQocAFV',\n",
       " 'moimoimoi9',\n",
       " 'z7zbgIDkzMQeHUd9',\n",
       " 'aslpls2009',\n",
       " 'k9b8cz6aj2',\n",
       " 'x8512514',\n",
       " 'okn9zp9o',\n",
       " 'tia150979',\n",
       " 'd4xQ3LjUwMQFVCYQ',\n",
       " 'z3ro1sm',\n",
       " 'xanyrum650',\n",
       " 'farrukhcse12',\n",
       " 'icap12',\n",
       " 'sbl571017',\n",
       " 'a2486315',\n",
       " 'owote852',\n",
       " 'tucagu356',\n",
       " 'hasan18',\n",
       " 'barboza221294',\n",
       " 'e667794c1d',\n",
       " 'tucagu356',\n",
       " 'as326159',\n",
       " 'kVczcljg4OA25Aeb',\n",
       " 'kunyukbabi69',\n",
       " 'koabcswzt3',\n",
       " 'cdann123',\n",
       " 'tamanagung6',\n",
       " 'njmania114',\n",
       " 'pablo321159',\n",
       " 'planes123',\n",
       " 'gtlek',\n",
       " 'wibi182d',\n",
       " 'xW8-3w7-MFB-CKH',\n",
       " 'mazdarx7',\n",
       " 'faranumar91',\n",
       " 'IRZA98',\n",
       " 'peluchin4',\n",
       " 'portales1',\n",
       " 'q0pv0fk',\n",
       " '4fqa52vecr',\n",
       " 'frhnsvelhfr1',\n",
       " 'metopelo1623',\n",
       " 'znbl5tj1',\n",
       " 'ebacuro434',\n",
       " 'wycinu436',\n",
       " 'examy624',\n",
       " 'www32223222',\n",
       " 'a2486315',\n",
       " 'czuodhj972',\n",
       " 'aslpls2009',\n",
       " 'YADHJIGSAWS11',\n",
       " 'ns2b0727',\n",
       " '10Erjrlmebup0n',\n",
       " 'kyxvufl37',\n",
       " '3vszncp4',\n",
       " 'bellsuki1',\n",
       " 'kayal123',\n",
       " 'uxyloga692',\n",
       " 'memjan123',\n",
       " 'jEzZXUTE3MgJ4fVk',\n",
       " 'xiau5ff',\n",
       " '3CgRg8DA1NQY1iEj',\n",
       " 'k1k2k3k4k5k6',\n",
       " 'kino3434',\n",
       " 'pazzini24',\n",
       " 'zidadoh258',\n",
       " '6yy6yy',\n",
       " 'cdann123',\n",
       " 'gozv3e5',\n",
       " 'den019520',\n",
       " 'omakiva153',\n",
       " 'k9b8cz6aj2',\n",
       " 'frhnsvelhfr1',\n",
       " 'p2share',\n",
       " 'pablo321159',\n",
       " 'a110804032',\n",
       " 'wxS2ztDk4OATjBfI',\n",
       " '4165000yakub',\n",
       " 'kP82iqDMxNgBMxBP',\n",
       " 'krishna2',\n",
       " 'virush1n1',\n",
       " 'teste10',\n",
       " 'jonothepoop1',\n",
       " 'mike09',\n",
       " 'Oshity07142014',\n",
       " 'fnmsdha476',\n",
       " 'memjan123',\n",
       " 'ga98SIzk0NwhiZaE',\n",
       " 'metopelo1623',\n",
       " '2fakjv',\n",
       " 'nokia6020',\n",
       " 'khurram_',\n",
       " 'ikanez886',\n",
       " 'ns2b0727',\n",
       " 'sknq7m0',\n",
       " 'yuri110995',\n",
       " 'exitos2009',\n",
       " 'openup12',\n",
       " 'IjUcOtYqAwel725',\n",
       " 'sanki1',\n",
       " 'tomas7896',\n",
       " 'okn9zp9o',\n",
       " 'XqMB7vDMzOQocAFV',\n",
       " 'mickael12',\n",
       " 'kswa2mrv',\n",
       " 'alchimie79',\n",
       " 'owote852',\n",
       " '6975038lp',\n",
       " 'hayhayq2',\n",
       " 'ok>bdk',\n",
       " 'rLLh4WDQ2OAWbDO5',\n",
       " 'tucagu356',\n",
       " 'mario489800',\n",
       " 'lzhzad1989',\n",
       " 'a2486315',\n",
       " 'gkrqjs6',\n",
       " 'mmm23mm',\n",
       " 'shotiko18',\n",
       " 'clave2013',\n",
       " 'pazzini24',\n",
       " 'j09000',\n",
       " 'bugatti01',\n",
       " 'novelia21',\n",
       " 'RqsuUsDYxNgr8T40',\n",
       " 'hpqkoxsn5',\n",
       " 'bencike7',\n",
       " 'kuntz80',\n",
       " 'jUV4dSDQwNwPpA36',\n",
       " '929865yt',\n",
       " 'afs34214',\n",
       " 'a2531106',\n",
       " 'sofietou74',\n",
       " 'puegwajy416',\n",
       " 'finisterra1',\n",
       " 'vehat387',\n",
       " 'pugceya468',\n",
       " 'jonothepoop1',\n",
       " 'portales1',\n",
       " '20Dgw7TQ0OQVdly7',\n",
       " 'hasan18',\n",
       " 'virush1n1',\n",
       " 'enziitoo1234',\n",
       " 'fnmsdha476',\n",
       " 'wuzyci421',\n",
       " 'taiga0088',\n",
       " 'sanki1',\n",
       " 'y0unus',\n",
       " 'u03kz6ez',\n",
       " 'pazzini24',\n",
       " '52558000aaa',\n",
       " 'grazi0201',\n",
       " 'as8594505',\n",
       " 'poseidon2011',\n",
       " 'isqizkg1',\n",
       " 'gdfn76',\n",
       " 'faranumar91',\n",
       " 'kdl9cl53',\n",
       " 'a0972986650',\n",
       " 'mmm23mm',\n",
       " 'ram@!sita15392',\n",
       " 'QWERTY0011',\n",
       " 'ebacuro434',\n",
       " 'nello11',\n",
       " 'xanyrum650',\n",
       " 'tamanagung6',\n",
       " 'vgnfs495vp',\n",
       " 'nicolas05',\n",
       " 'nello11',\n",
       " 'llahetihw1',\n",
       " 'oscar2002',\n",
       " 'elonex24',\n",
       " '1qa2ws3ed4r',\n",
       " '19840510kkk1',\n",
       " 'tahseen75',\n",
       " 'mayur@8netinfotech',\n",
       " '0169395484a',\n",
       " 'djngeyut2707',\n",
       " 'jalal123456',\n",
       " 'jsm159167',\n",
       " 't8IkFRDIxMAFV2JW',\n",
       " 'moken7',\n",
       " 'ginger972',\n",
       " 'mashhood_afzal21087',\n",
       " 'RqsuUsDYxNgr8T40',\n",
       " '2yz4ewwg',\n",
       " 'abizar08',\n",
       " 'b4NbTxDEyNgG141J',\n",
       " 'yitbos77',\n",
       " 'clumsy0619',\n",
       " 'isqizkg1',\n",
       " 'xlxlxl777',\n",
       " 'rakag279',\n",
       " '64whbrb351',\n",
       " 'pugceya468',\n",
       " 'k9b8cz6aj2',\n",
       " 'kswa2mrv',\n",
       " 'abizar08',\n",
       " 'yy4129',\n",
       " '2yz4ewwg',\n",
       " 'e667794c1d',\n",
       " 'gkrqjs6',\n",
       " 'yllime123',\n",
       " 'zcsntdmhe098',\n",
       " 'bang6k',\n",
       " 'lsdlsd1',\n",
       " 'a2531106',\n",
       " 'wycinu436',\n",
       " 'virush1n1',\n",
       " 'ahibyg892',\n",
       " 'muoaqxwc21',\n",
       " 'princ3sa',\n",
       " 'walterivl13',\n",
       " 'oscar2002',\n",
       " 'yu86640132',\n",
       " 'sydney213',\n",
       " 'e667794c1d',\n",
       " '2GnTStTE4Mw4MTwv',\n",
       " 'gkrqjs6',\n",
       " 'p3rf3ct0',\n",
       " '0870330135a',\n",
       " 'seller1',\n",
       " '6975038lp',\n",
       " 'sydney213',\n",
       " 'plumilla1',\n",
       " '5gzj5uf',\n",
       " 'farrukhcse12',\n",
       " 'butisugo39',\n",
       " 'koabcswzt3',\n",
       " 'nLIGyhTU1NQTAp6u',\n",
       " 'e667794c1d',\n",
       " 'olyucskw52',\n",
       " 'mickael12',\n",
       " 'tim80327',\n",
       " 'ixehawojEPe418',\n",
       " 'pastorius88',\n",
       " 'spl51190595',\n",
       " 'sebo82',\n",
       " '9950twofour0',\n",
       " '123maxbala',\n",
       " '1qa2ws3ed4r',\n",
       " 'atigi839',\n",
       " 'arigato3',\n",
       " 'vehat387',\n",
       " 'diarie1',\n",
       " '2863e00016',\n",
       " 'tin030201',\n",
       " 'clyioqzgw42',\n",
       " 'elabadmin1386',\n",
       " 'Oshity07142014',\n",
       " 'roxana1993',\n",
       " 'webstudio8',\n",
       " 'demon10',\n",
       " 'qn5xpg3k00',\n",
       " 'sw10d014',\n",
       " '19821010a',\n",
       " 'aslanmarco007',\n",
       " 'mussuh4',\n",
       " 'metopelo1623',\n",
       " 'ts34a3fodh3i',\n",
       " 'servbot88',\n",
       " 'fudijep286',\n",
       " 'hlQ8gDTExMQWkeda',\n",
       " '5gzj5uf',\n",
       " 'elabadmin1386',\n",
       " 'z7zbgIDkzMQeHUd9',\n",
       " 'yami12',\n",
       " '64959rodro',\n",
       " 'olyucskw52',\n",
       " 'papasito1991',\n",
       " 'meriton23',\n",
       " 'clumsy0619',\n",
       " '1qa2ws3ed4r',\n",
       " 'kswa2mrv',\n",
       " 'princ3sa',\n",
       " 'lymuvop730',\n",
       " 'vardhan19',\n",
       " 'ayles2266',\n",
       " 'L2i2ZwTg1MQajeBm',\n",
       " 'yogesh143',\n",
       " 'folashade1',\n",
       " 'woon12',\n",
       " 'yhwbzci130',\n",
       " 'wo9aiwangyan',\n",
       " 'rqmswof2llb0',\n",
       " 'e667794c1d',\n",
       " '12345yolanda',\n",
       " 'yy4129',\n",
       " '20010509wang',\n",
       " 'moken7',\n",
       " 'warriors08',\n",
       " 'ikanez886',\n",
       " 'wbtdrieus345',\n",
       " '7942vikas',\n",
       " 'mario489800',\n",
       " 'control9',\n",
       " 'satelite31',\n",
       " 'tomas7896',\n",
       " 'zgmfnwuq25',\n",
       " 'sanjaime1',\n",
       " 'k1k2k3k4k5k6',\n",
       " 'ryjypes139',\n",
       " 'kabrito1',\n",
       " 'sbaUsoTA1OAzuevI',\n",
       " 'buqodym199',\n",
       " 'desmondkok21',\n",
       " 'zoobike04',\n",
       " 'ekufite742',\n",
       " 'ppnyadam09',\n",
       " '05bumd',\n",
       " 'nhfdff2512',\n",
       " 'p2share',\n",
       " 'papasito1991',\n",
       " 'ajyrew547',\n",
       " 'oekojWyH120063',\n",
       " 'pastorius88',\n",
       " 'xve33ea',\n",
       " 'WUt9IZzE0OQ7PkNE',\n",
       " '07dpv1127b',\n",
       " 'nhfdff2512',\n",
       " 'zedika521',\n",
       " 'd6VyrkFV6oblxNs5N8cW',\n",
       " '2GnTStTE4Mw4MTwv',\n",
       " 'jeeves123',\n",
       " 'control9',\n",
       " 'jsm159167',\n",
       " 'visi7k1yr',\n",
       " 'BZVQZBTM1MApRV7s',\n",
       " 'yuri110995',\n",
       " 'j09000',\n",
       " 'jonothepoop1',\n",
       " 'kP82iqDMxNgBMxBP',\n",
       " 'graciela2',\n",
       " 'hasan18',\n",
       " '12345yolanda',\n",
       " 'aio42fv',\n",
       " 'shotiko18',\n",
       " 'ci0n3exor',\n",
       " 'bellsuki1',\n",
       " 'z888888',\n",
       " 'hqh2eYjQxOQPYIsA',\n",
       " 'patri1973',\n",
       " 'kenyu001',\n",
       " 'pastorius88',\n",
       " 'upomel180',\n",
       " 'www32223222',\n",
       " 'mohantra1',\n",
       " 'matiz4533',\n",
       " 'parvizrus13',\n",
       " 'lamborghin1',\n",
       " 'khurram_',\n",
       " 'bugatti01',\n",
       " 'yami12',\n",
       " 'nLIGyhTU1NQTAp6u',\n",
       " '1991vikash',\n",
       " 'nicolas05',\n",
       " '4TXr5KDYxNQVTo4g',\n",
       " 'novelia21',\n",
       " 'ahibyg892',\n",
       " 'z7zbgIDkzMQeHUd9',\n",
       " '07dpv1127b',\n",
       " 'ixehawojEPe418',\n",
       " 'ninja420',\n",
       " 'viri13',\n",
       " 'go7kew7a2po',\n",
       " '07dpv1127b',\n",
       " 'pacific52',\n",
       " 'nLIGyhTU1NQTAp6u',\n",
       " 'keithar1',\n",
       " 'warriors08',\n",
       " 'folashade1',\n",
       " 'poseidon2011',\n",
       " 'keithcutlip99',\n",
       " '7942vikas',\n",
       " 'raykuaz32',\n",
       " 'sanki1',\n",
       " 'u03kz6ez',\n",
       " '2d0d7qfz',\n",
       " 'jeeves123',\n",
       " 'samael666',\n",
       " 'BsKbJHTY4NgesCOs',\n",
       " 'cerner09',\n",
       " 'elonex24',\n",
       " 'as8594505',\n",
       " 'bang6k',\n",
       " '4lgYVfzk1MwuzHcn',\n",
       " 'azizi120583',\n",
       " '101010hadis',\n",
       " 'kjkjkj1',\n",
       " '1qa2ws3ed4r',\n",
       " 'acgyj188',\n",
       " '283671gus',\n",
       " 'natalia12',\n",
       " 'sknq7m0',\n",
       " 'koulapic33',\n",
       " 'gohan2602',\n",
       " 'bozoxik602',\n",
       " '20010509wang',\n",
       " 'portales1',\n",
       " 'pass0port',\n",
       " 'ryjypes139',\n",
       " '2010server',\n",
       " 'TyWM72UNEex8Q8Y',\n",
       " 'jorge1489',\n",
       " 'yjuqseb416',\n",
       " 'acgyj188',\n",
       " 'jEzZXUTE3MgJ4fVk',\n",
       " 'elabadmin1386',\n",
       " 'planes123',\n",
       " 'zjl0kx03',\n",
       " 'p2share',\n",
       " 'angelinajol52',\n",
       " 'kdl9cl53',\n",
       " 'bgrvl80',\n",
       " 'denise18',\n",
       " 'khaled12',\n",
       " 'kinga22',\n",
       " 'yhwbzci130',\n",
       " 'cribrot1200',\n",
       " 'w9209640',\n",
       " 'XqMB7vDMzOQocAFV',\n",
       " '1katertje',\n",
       " 'owote852',\n",
       " 'studenko123',\n",
       " 'bafiqkxwu0',\n",
       " 'cdann123',\n",
       " 'hamqrc6',\n",
       " 'fudijep286',\n",
       " 'mmm23mm',\n",
       " 'barboza221294',\n",
       " 'deivid1991',\n",
       " 'kzde5577',\n",
       " 'alchimie79',\n",
       " 'juany57',\n",
       " 'asdasdf1',\n",
       " '1991vikash',\n",
       " 'calcifer32',\n",
       " 'IP1yaTDUzOQWAeI5',\n",
       " 'universe2908',\n",
       " 'mdaffandi74',\n",
       " 'Ju6BIMTU0MwYXtL4',\n",
       " 'xW8-3w7-MFB-CKH',\n",
       " 'a1233210',\n",
       " 'fr8OClDY1MAdEhHa',\n",
       " 'jntjmh7',\n",
       " 'Oshity07142014',\n",
       " 'spl51190595',\n",
       " 'poilkjmnb987',\n",
       " 'Scipio21152030067254',\n",
       " 'meopvywk628',\n",
       " 'nLIGyhTU1NQTAp6u',\n",
       " 'rakag279',\n",
       " 'seng987321',\n",
       " 'zu20081965',\n",
       " 'megzy123',\n",
       " 'balamuc123',\n",
       " 'hqh2eYjQxOQPYIsA',\n",
       " 'wuzyci421',\n",
       " 'universe2908',\n",
       " 'njmania114',\n",
       " 'regodib479',\n",
       " 'xzeyfbi495',\n",
       " 'natalia12',\n",
       " 'oekojWyH120063',\n",
       " 'tomas7896',\n",
       " 'ok>bdk',\n",
       " '4TXr5KDYxNQVTo4g',\n",
       " 'hpqkoxsn5',\n",
       " 'afs34214',\n",
       " 'tspirits08',\n",
       " 'arum210684',\n",
       " 'xawipy995',\n",
       " 'smart95',\n",
       " '0870330135a',\n",
       " '6975038lp',\n",
       " '2010server',\n",
       " 'samael666',\n",
       " 'itengf12',\n",
       " 'padhila30',\n",
       " 'groster152',\n",
       " 'yy4129',\n",
       " 'ebacuro434',\n",
       " 'cristiano7',\n",
       " 'numero2',\n",
       " 'taulant123',\n",
       " '6yy6yy',\n",
       " 'amoadios321',\n",
       " 'kayal123',\n",
       " 'qn5xpg3k00',\n",
       " 'paladinas1',\n",
       " '2fakjv',\n",
       " 'upomel180',\n",
       " 'sasuke4',\n",
       " 'diarie1',\n",
       " 'tiga33',\n",
       " '64959rodro',\n",
       " 'sebo82',\n",
       " '123477889a',\n",
       " '0847440744z',\n",
       " 'yllime123',\n",
       " 'igejasy712',\n",
       " 'uou2dae',\n",
       " 'yhwbzci130',\n",
       " 'diarie1',\n",
       " 'woaini0',\n",
       " 'daaxvie1',\n",
       " 'Oshity07142014',\n",
       " 'znbl5tj1',\n",
       " 'wycinu436',\n",
       " 'ykfums1',\n",
       " 'ilonu497',\n",
       " 'ns2b0727',\n",
       " 'cribrot1200',\n",
       " 'lamborghin1',\n",
       " 'peter04',\n",
       " 'komorek11',\n",
       " 'z7zbgIDkzMQeHUd9',\n",
       " '0123one47',\n",
       " 'elabadmin1386',\n",
       " '16731673ir',\n",
       " 'korea2010',\n",
       " 'xf6385494',\n",
       " 'd4xQ3LjUwMQFVCYQ',\n",
       " 'peluchin4',\n",
       " 'sebo82',\n",
       " 'barboza221294',\n",
       " '0847440744z',\n",
       " 'kah4544875',\n",
       " '7l1hu1xa',\n",
       " 'a0972986650',\n",
       " 'bang6k',\n",
       " 'kyodai666',\n",
       " 'adminmao888',\n",
       " '123maxbala',\n",
       " 'hlQ8gDTExMQWkeda',\n",
       " 'megdam55',\n",
       " 'pizxmwaos537',\n",
       " 'calcifer32',\n",
       " 'ihana906',\n",
       " 'woaini0',\n",
       " 'c3h8bkzr',\n",
       " 'clumsy0619',\n",
       " 'aslpls2009',\n",
       " '123net123',\n",
       " 'h1h2h3h4h5',\n",
       " 'killer5',\n",
       " '2akira2',\n",
       " 'w9209640',\n",
       " 'mustang337',\n",
       " 'hello2104',\n",
       " '20Dgw7TQ0OQVdly7',\n",
       " 'vuqADUSatAJO800',\n",
       " 'midgeman8505',\n",
       " 'kVczcljg4OA25Aeb',\n",
       " 'bghuyku37',\n",
       " '4165000yakub',\n",
       " 'deivid1991',\n",
       " 'growerz543',\n",
       " '3clrcaevu7',\n",
       " '4TXr5KDYxNQVTo4g',\n",
       " 'finisterra1',\n",
       " 'shooting1965j',\n",
       " 'l4torr3',\n",
       " 'lymuvop730',\n",
       " 'gandhi8513',\n",
       " 's0xwym7h',\n",
       " 'growerz543',\n",
       " 'Scipio21152030067254',\n",
       " 'khmer100.03278&?><Mnb',\n",
       " '123charger',\n",
       " 'kXzWOozU2MQ1Jv1h',\n",
       " 'zgmfnwuq25',\n",
       " 'tPGMkBjkyMg3hGzu',\n",
       " 'ycqtgdso3',\n",
       " 'sandra0547',\n",
       " 'cockw0mble',\n",
       " 'igoj0w740luj',\n",
       " 'jUV4dSDQwNwPpA36',\n",
       " 'gopal8420',\n",
       " '19821010a',\n",
       " 's9830950044',\n",
       " 'ajyrew547',\n",
       " 'ldteugao6',\n",
       " 'moimoimoi9',\n",
       " 'macias2010',\n",
       " 'q0pv0fk',\n",
       " 'cUFUSYKIPuGo024',\n",
       " 'juliana00',\n",
       " 'just1n0k',\n",
       " 'ym2130104',\n",
       " 'edcmki90',\n",
       " 'parvizrus13',\n",
       " 'kong0074',\n",
       " 'luiskeko31',\n",
       " 'yy4129',\n",
       " 'gtlek',\n",
       " 'omakiva153',\n",
       " 'aquhih220',\n",
       " 'h1h2h3h4h5',\n",
       " 'DRAGON25',\n",
       " 'v1s2c3456',\n",
       " 'parvizrus13',\n",
       " 'kukimuki123',\n",
       " 'cUFUSYKIPuGo024',\n",
       " 'mohantra1',\n",
       " 'ic8i6ac',\n",
       " 'teste10',\n",
       " 'hqh2eYjQxOQPYIsA',\n",
       " 'jEzZXUTE3MgJ4fVk',\n",
       " 'mathilde54550',\n",
       " 'adminmao888',\n",
       " 'may112001',\n",
       " 'natalia12',\n",
       " 'eeae14li',\n",
       " 'woogee04',\n",
       " 'e667794c1d',\n",
       " 'j2yj2yj2y',\n",
       " 'woogee04',\n",
       " 'tspirits08',\n",
       " 'ilonu497',\n",
       " 'diegote10',\n",
       " 'cifinew817',\n",
       " '4165000yakub',\n",
       " '612035180tok',\n",
       " 'princ3sa',\n",
       " 'yzxwvgbdu503',\n",
       " 'a2486315',\n",
       " 'cotezun996',\n",
       " 'a0972986650',\n",
       " 'a03242241431a',\n",
       " 'mega0109',\n",
       " 'q0pv0fk',\n",
       " 'tukaxo486',\n",
       " 'acgyj188',\n",
       " '1972vishara',\n",
       " 'mustang337',\n",
       " 'vardhan19',\n",
       " 'wuzsadav933',\n",
       " 'ninja420',\n",
       " 'k1k2k3k4k5k6',\n",
       " 'patata91',\n",
       " 'ivanxl33t010',\n",
       " 'uxabeqo309',\n",
       " '1katertje',\n",
       " 'tia150979',\n",
       " 'tollak123',\n",
       " 'uziwocy148',\n",
       " 'fudijep286',\n",
       " 'oekojWyH120063',\n",
       " 'gpc151192',\n",
       " 'exitos2009',\n",
       " '27121995qw',\n",
       " 'vertikal12',\n",
       " 'uziwocy148',\n",
       " 'junaid5',\n",
       " 'ivanxl33t010',\n",
       " '241189dumai',\n",
       " 'kVczcljg4OA25Aeb',\n",
       " '8521901bzk',\n",
       " 'amoadios321',\n",
       " 'z888888',\n",
       " '94311163nobp',\n",
       " '8g8x2su3',\n",
       " 'clyioqzgw42',\n",
       " '07dpv1127b',\n",
       " 'satrjcrj6',\n",
       " 'oatcake87',\n",
       " 'lrhxmevb620',\n",
       " 'saule123',\n",
       " 'krowka18',\n",
       " 'yy4129',\n",
       " 'mzhrmir786',\n",
       " 'yjuqseb416',\n",
       " 'amandine666',\n",
       " 'Zanekurosak10%',\n",
       " 'JEQuloqOFUd102',\n",
       " 'syjtdxlo81',\n",
       " 'may112001',\n",
       " 'samael666',\n",
       " 'm4r4hne',\n",
       " 'xtswdypgh936',\n",
       " 'mzhrmir786',\n",
       " 'rsuvxz08b',\n",
       " 'joy112495',\n",
       " '0lELoCDI1NAy8u7D',\n",
       " 'v10rica',\n",
       " 'juliel009',\n",
       " 'hqh2eYjQxOQPYIsA',\n",
       " 'mialr325',\n",
       " ...]"
      ]
     },
     "execution_count": 69,
     "metadata": {},
     "output_type": "execute_result"
    }
   ],
   "source": [
    "x"
   ]
  },
  {
   "cell_type": "code",
   "execution_count": 70,
   "metadata": {
    "executionInfo": {
     "elapsed": 41,
     "status": "ok",
     "timestamp": 1682652600351,
     "user": {
      "displayName": "yeehaw",
      "userId": "00614237284897735384"
     },
     "user_tz": -420
    },
    "id": "-4Gl9UK8EySR"
   },
   "outputs": [],
   "source": [
    "def word_divide_char(inputs):\n",
    "  character=[]\n",
    "  for i in inputs:\n",
    "    character.append(i)\n",
    "  return character"
   ]
  },
  {
   "cell_type": "code",
   "execution_count": 71,
   "metadata": {
    "colab": {
     "base_uri": "https://localhost:8080/"
    },
    "executionInfo": {
     "elapsed": 41,
     "status": "ok",
     "timestamp": 1682652600352,
     "user": {
      "displayName": "yeehaw",
      "userId": "00614237284897735384"
     },
     "user_tz": -420
    },
    "id": "oQG4Bk7CzHlJ",
    "outputId": "a102754e-83ae-430f-b593-155335b341d1"
   },
   "outputs": [
    {
     "data": {
      "text/plain": [
       "['1', '9', '8', '4', '0', '5', '1', '0', 'k', 'k', 'k', '1']"
      ]
     },
     "execution_count": 71,
     "metadata": {},
     "output_type": "execute_result"
    }
   ],
   "source": [
    "word_divide_char('19840510kkk1')"
   ]
  },
  {
   "cell_type": "code",
   "execution_count": 72,
   "metadata": {
    "executionInfo": {
     "elapsed": 639,
     "status": "ok",
     "timestamp": 1682652600975,
     "user": {
      "displayName": "yeehaw",
      "userId": "00614237284897735384"
     },
     "user_tz": -420
    },
    "id": "tjbP-IPvzOrK"
   },
   "outputs": [],
   "source": [
    "from sklearn.feature_extraction.text import TfidfVectorizer"
   ]
  },
  {
   "cell_type": "code",
   "execution_count": 73,
   "metadata": {
    "executionInfo": {
     "elapsed": 5,
     "status": "ok",
     "timestamp": 1682652600975,
     "user": {
      "displayName": "yeehaw",
      "userId": "00614237284897735384"
     },
     "user_tz": -420
    },
    "id": "wtnuZjCNzktj"
   },
   "outputs": [],
   "source": [
    "vectorizer=TfidfVectorizer(tokenizer=word_divide_char)"
   ]
  },
  {
   "cell_type": "code",
   "execution_count": 74,
   "metadata": {
    "executionInfo": {
     "elapsed": 7297,
     "status": "ok",
     "timestamp": 1682652608268,
     "user": {
      "displayName": "yeehaw",
      "userId": "00614237284897735384"
     },
     "user_tz": -420
    },
    "id": "a3jRH4vKzrM7"
   },
   "outputs": [],
   "source": [
    "X=vectorizer.fit_transform(x)"
   ]
  },
  {
   "cell_type": "code",
   "execution_count": 75,
   "metadata": {
    "executionInfo": {
     "elapsed": 11494,
     "status": "ok",
     "timestamp": 1682652619758,
     "user": {
      "displayName": "yeehaw",
      "userId": "00614237284897735384"
     },
     "user_tz": -420
    },
    "id": "if88MJdJzX0J"
   },
   "outputs": [],
   "source": [
    "X=vectorizer.fit_transform(x)"
   ]
  },
  {
   "cell_type": "code",
   "execution_count": 76,
   "metadata": {
    "colab": {
     "base_uri": "https://localhost:8080/"
    },
    "executionInfo": {
     "elapsed": 21,
     "status": "ok",
     "timestamp": 1682652619759,
     "user": {
      "displayName": "yeehaw",
      "userId": "00614237284897735384"
     },
     "user_tz": -420
    },
    "id": "gTvu4Oi6zcGH",
    "outputId": "ea667239-26c8-490d-e629-71d1635daeb1"
   },
   "outputs": [
    {
     "data": {
      "text/plain": [
       "(669639, 128)"
      ]
     },
     "execution_count": 76,
     "metadata": {},
     "output_type": "execute_result"
    }
   ],
   "source": [
    "X.shape"
   ]
  },
  {
   "cell_type": "code",
   "execution_count": 77,
   "metadata": {
    "colab": {
     "base_uri": "https://localhost:8080/"
    },
    "executionInfo": {
     "elapsed": 680,
     "status": "ok",
     "timestamp": 1682652727976,
     "user": {
      "displayName": "yeehaw",
      "userId": "00614237284897735384"
     },
     "user_tz": -420
    },
    "id": "wP5bzAJkz2tE",
    "outputId": "0104de0a-f5b6-43de-d183-8928762ad087"
   },
   "outputs": [
    {
     "data": {
      "text/plain": [
       "array(['\\x02', '\\x05', '\\x06', '\\x08', '\\x10', '\\x16', '\\x17', '\\x19',\n",
       "       '\\x1b', '\\x1c', '\\x1e', ' ', '!', '\"', '#', '$', '%', '&', '(',\n",
       "       ')', '*', '+', '-', '.', '/', '0', '1', '2', '3', '4', '5', '6',\n",
       "       '7', '8', '9', ';', '<', '=', '>', '?', '@', '[', '\\\\', ']', '^',\n",
       "       '_', '`', 'a', 'b', 'c', 'd', 'e', 'f', 'g', 'h', 'i', 'j', 'k',\n",
       "       'l', 'm', 'n', 'o', 'p', 'q', 'r', 's', 't', 'u', 'v', 'w', 'x',\n",
       "       'y', 'z', '{', '|', '}', '~', '\\x7f', '\\x81', '\\x8d', '\\xa0', '¡',\n",
       "       '¨', '«', '°', '±', '²', '³', '´', 'µ', '¶', '·', '¹', 'º', '¾',\n",
       "       '¿', '×', 'ß', 'à', 'á', 'â', 'ä', 'å', 'æ', 'ç', 'è', 'é', 'ê',\n",
       "       'î', 'ð', 'ñ', 'ò', 'ó', 'ô', 'õ', '÷', 'ù', 'ú', 'û', 'ü', 'ý',\n",
       "       'þ', 'ÿ', '—', '‚', '‡', '…', '™'], dtype=object)"
      ]
     },
     "execution_count": 77,
     "metadata": {},
     "output_type": "execute_result"
    }
   ],
   "source": [
    "vectorizer.get_feature_names_out()"
   ]
  },
  {
   "cell_type": "code",
   "execution_count": 78,
   "metadata": {
    "executionInfo": {
     "elapsed": 2,
     "status": "ok",
     "timestamp": 1682652759574,
     "user": {
      "displayName": "yeehaw",
      "userId": "00614237284897735384"
     },
     "user_tz": -420
    },
    "id": "wgJABGg16YRn"
   },
   "outputs": [],
   "source": [
    "first_doc_vector=X[0]"
   ]
  },
  {
   "cell_type": "code",
   "execution_count": 79,
   "metadata": {
    "colab": {
     "base_uri": "https://localhost:8080/"
    },
    "executionInfo": {
     "elapsed": 5,
     "status": "ok",
     "timestamp": 1682652769129,
     "user": {
      "displayName": "yeehaw",
      "userId": "00614237284897735384"
     },
     "user_tz": -420
    },
    "id": "PWjSpOoZ63hC",
    "outputId": "0338d595-e5cd-49ec-ab7e-c0e82a191346"
   },
   "outputs": [
    {
     "data": {
      "text/plain": [
       "<Compressed Sparse Row sparse matrix of dtype 'float64'\n",
       "\twith 6 stored elements and shape (1, 128)>"
      ]
     },
     "execution_count": 79,
     "metadata": {},
     "output_type": "execute_result"
    }
   ],
   "source": [
    "first_doc_vector"
   ]
  },
  {
   "cell_type": "code",
   "execution_count": 80,
   "metadata": {
    "colab": {
     "base_uri": "https://localhost:8080/"
    },
    "executionInfo": {
     "elapsed": 7,
     "status": "ok",
     "timestamp": 1682652777898,
     "user": {
      "displayName": "yeehaw",
      "userId": "00614237284897735384"
     },
     "user_tz": -420
    },
    "id": "oN-VAlJd65m0",
    "outputId": "c96d8d71-7ab5-4dce-8d61-d8c615e2b7db"
   },
   "outputs": [
    {
     "data": {
      "text/plain": [
       "matrix([[0.        ],\n",
       "        [0.        ],\n",
       "        [0.        ],\n",
       "        [0.        ],\n",
       "        [0.        ],\n",
       "        [0.        ],\n",
       "        [0.        ],\n",
       "        [0.        ],\n",
       "        [0.        ],\n",
       "        [0.        ],\n",
       "        [0.        ],\n",
       "        [0.        ],\n",
       "        [0.        ],\n",
       "        [0.        ],\n",
       "        [0.        ],\n",
       "        [0.        ],\n",
       "        [0.        ],\n",
       "        [0.        ],\n",
       "        [0.        ],\n",
       "        [0.        ],\n",
       "        [0.        ],\n",
       "        [0.        ],\n",
       "        [0.        ],\n",
       "        [0.        ],\n",
       "        [0.        ],\n",
       "        [0.        ],\n",
       "        [0.        ],\n",
       "        [0.        ],\n",
       "        [0.        ],\n",
       "        [0.        ],\n",
       "        [0.56617885],\n",
       "        [0.        ],\n",
       "        [0.59216809],\n",
       "        [0.        ],\n",
       "        [0.        ],\n",
       "        [0.        ],\n",
       "        [0.        ],\n",
       "        [0.        ],\n",
       "        [0.        ],\n",
       "        [0.        ],\n",
       "        [0.        ],\n",
       "        [0.        ],\n",
       "        [0.        ],\n",
       "        [0.        ],\n",
       "        [0.        ],\n",
       "        [0.        ],\n",
       "        [0.        ],\n",
       "        [0.        ],\n",
       "        [0.        ],\n",
       "        [0.        ],\n",
       "        [0.28578638],\n",
       "        [0.22154501],\n",
       "        [0.        ],\n",
       "        [0.        ],\n",
       "        [0.        ],\n",
       "        [0.        ],\n",
       "        [0.        ],\n",
       "        [0.29176874],\n",
       "        [0.        ],\n",
       "        [0.        ],\n",
       "        [0.        ],\n",
       "        [0.        ],\n",
       "        [0.        ],\n",
       "        [0.        ],\n",
       "        [0.        ],\n",
       "        [0.        ],\n",
       "        [0.        ],\n",
       "        [0.        ],\n",
       "        [0.        ],\n",
       "        [0.        ],\n",
       "        [0.        ],\n",
       "        [0.        ],\n",
       "        [0.33599615],\n",
       "        [0.        ],\n",
       "        [0.        ],\n",
       "        [0.        ],\n",
       "        [0.        ],\n",
       "        [0.        ],\n",
       "        [0.        ],\n",
       "        [0.        ],\n",
       "        [0.        ],\n",
       "        [0.        ],\n",
       "        [0.        ],\n",
       "        [0.        ],\n",
       "        [0.        ],\n",
       "        [0.        ],\n",
       "        [0.        ],\n",
       "        [0.        ],\n",
       "        [0.        ],\n",
       "        [0.        ],\n",
       "        [0.        ],\n",
       "        [0.        ],\n",
       "        [0.        ],\n",
       "        [0.        ],\n",
       "        [0.        ],\n",
       "        [0.        ],\n",
       "        [0.        ],\n",
       "        [0.        ],\n",
       "        [0.        ],\n",
       "        [0.        ],\n",
       "        [0.        ],\n",
       "        [0.        ],\n",
       "        [0.        ],\n",
       "        [0.        ],\n",
       "        [0.        ],\n",
       "        [0.        ],\n",
       "        [0.        ],\n",
       "        [0.        ],\n",
       "        [0.        ],\n",
       "        [0.        ],\n",
       "        [0.        ],\n",
       "        [0.        ],\n",
       "        [0.        ],\n",
       "        [0.        ],\n",
       "        [0.        ],\n",
       "        [0.        ],\n",
       "        [0.        ],\n",
       "        [0.        ],\n",
       "        [0.        ],\n",
       "        [0.        ],\n",
       "        [0.        ],\n",
       "        [0.        ],\n",
       "        [0.        ],\n",
       "        [0.        ],\n",
       "        [0.        ],\n",
       "        [0.        ],\n",
       "        [0.        ],\n",
       "        [0.        ]])"
      ]
     },
     "execution_count": 80,
     "metadata": {},
     "output_type": "execute_result"
    }
   ],
   "source": [
    "first_doc_vector.T.todense()"
   ]
  },
  {
   "cell_type": "code",
   "execution_count": 81,
   "metadata": {
    "executionInfo": {
     "elapsed": 6,
     "status": "ok",
     "timestamp": 1682652860369,
     "user": {
      "displayName": "yeehaw",
      "userId": "00614237284897735384"
     },
     "user_tz": -420
    },
    "id": "Zww88SN268gr"
   },
   "outputs": [],
   "source": [
    "df=pd.DataFrame(first_doc_vector.T.todense(), index=vectorizer.get_feature_names_out(), columns=['TF-IDF'])"
   ]
  },
  {
   "cell_type": "code",
   "execution_count": 82,
   "metadata": {
    "colab": {
     "base_uri": "https://localhost:8080/",
     "height": 423
    },
    "executionInfo": {
     "elapsed": 11,
     "status": "ok",
     "timestamp": 1682653005968,
     "user": {
      "displayName": "yeehaw",
      "userId": "00614237284897735384"
     },
     "user_tz": -420
    },
    "id": "umqTJDKq7NOk",
    "outputId": "f6dc6441-8800-43fd-ed7c-e0dc5fc91466"
   },
   "outputs": [
    {
     "data": {
      "text/html": [
       "<div>\n",
       "<style scoped>\n",
       "    .dataframe tbody tr th:only-of-type {\n",
       "        vertical-align: middle;\n",
       "    }\n",
       "\n",
       "    .dataframe tbody tr th {\n",
       "        vertical-align: top;\n",
       "    }\n",
       "\n",
       "    .dataframe thead th {\n",
       "        text-align: right;\n",
       "    }\n",
       "</style>\n",
       "<table border=\"1\" class=\"dataframe\">\n",
       "  <thead>\n",
       "    <tr style=\"text-align: right;\">\n",
       "      <th></th>\n",
       "      <th>TF-IDF</th>\n",
       "    </tr>\n",
       "  </thead>\n",
       "  <tbody>\n",
       "    <tr>\n",
       "      <th>7</th>\n",
       "      <td>0.592168</td>\n",
       "    </tr>\n",
       "    <tr>\n",
       "      <th>5</th>\n",
       "      <td>0.566179</td>\n",
       "    </tr>\n",
       "    <tr>\n",
       "      <th>z</th>\n",
       "      <td>0.335996</td>\n",
       "    </tr>\n",
       "    <tr>\n",
       "      <th>k</th>\n",
       "      <td>0.291769</td>\n",
       "    </tr>\n",
       "    <tr>\n",
       "      <th>d</th>\n",
       "      <td>0.285786</td>\n",
       "    </tr>\n",
       "    <tr>\n",
       "      <th>...</th>\n",
       "      <td>...</td>\n",
       "    </tr>\n",
       "    <tr>\n",
       "      <th>—</th>\n",
       "      <td>0.000000</td>\n",
       "    </tr>\n",
       "    <tr>\n",
       "      <th>‚</th>\n",
       "      <td>0.000000</td>\n",
       "    </tr>\n",
       "    <tr>\n",
       "      <th>‡</th>\n",
       "      <td>0.000000</td>\n",
       "    </tr>\n",
       "    <tr>\n",
       "      <th>…</th>\n",
       "      <td>0.000000</td>\n",
       "    </tr>\n",
       "    <tr>\n",
       "      <th>™</th>\n",
       "      <td>0.000000</td>\n",
       "    </tr>\n",
       "  </tbody>\n",
       "</table>\n",
       "<p>128 rows × 1 columns</p>\n",
       "</div>"
      ],
      "text/plain": [
       "      TF-IDF\n",
       "7   0.592168\n",
       "5   0.566179\n",
       "z   0.335996\n",
       "k   0.291769\n",
       "d   0.285786\n",
       "..       ...\n",
       "—   0.000000\n",
       "‚   0.000000\n",
       "‡   0.000000\n",
       "…   0.000000\n",
       "™   0.000000\n",
       "\n",
       "[128 rows x 1 columns]"
      ]
     },
     "execution_count": 82,
     "metadata": {},
     "output_type": "execute_result"
    }
   ],
   "source": [
    "df.sort_values(by=['TF-IDF'],ascending=False)"
   ]
  },
  {
   "cell_type": "code",
   "execution_count": 83,
   "metadata": {
    "executionInfo": {
     "elapsed": 2,
     "status": "ok",
     "timestamp": 1682653160420,
     "user": {
      "displayName": "yeehaw",
      "userId": "00614237284897735384"
     },
     "user_tz": -420
    },
    "id": "hX7Z23qt7Qxy"
   },
   "outputs": [],
   "source": [
    "from sklearn.model_selection import train_test_split"
   ]
  },
  {
   "cell_type": "code",
   "execution_count": 84,
   "metadata": {
    "executionInfo": {
     "elapsed": 4,
     "status": "ok",
     "timestamp": 1682653208571,
     "user": {
      "displayName": "yeehaw",
      "userId": "00614237284897735384"
     },
     "user_tz": -420
    },
    "id": "E5LTVQyf8Z1r"
   },
   "outputs": [],
   "source": [
    "X_train, X_test, y_train, y_test=train_test_split(X, y, test_size=0.2)"
   ]
  },
  {
   "cell_type": "code",
   "execution_count": 85,
   "metadata": {
    "colab": {
     "base_uri": "https://localhost:8080/"
    },
    "executionInfo": {
     "elapsed": 4,
     "status": "ok",
     "timestamp": 1682653225968,
     "user": {
      "displayName": "yeehaw",
      "userId": "00614237284897735384"
     },
     "user_tz": -420
    },
    "id": "xY3cBjKz8loY",
    "outputId": "70008cae-0643-428e-d9a7-32676d028320"
   },
   "outputs": [
    {
     "data": {
      "text/plain": [
       "(535711, 128)"
      ]
     },
     "execution_count": 85,
     "metadata": {},
     "output_type": "execute_result"
    }
   ],
   "source": [
    "X_train.shape"
   ]
  },
  {
   "cell_type": "code",
   "execution_count": 86,
   "metadata": {
    "executionInfo": {
     "elapsed": 3,
     "status": "ok",
     "timestamp": 1682653266703,
     "user": {
      "displayName": "yeehaw",
      "userId": "00614237284897735384"
     },
     "user_tz": -420
    },
    "id": "lAi80rtY8ndt"
   },
   "outputs": [],
   "source": [
    "from sklearn.linear_model import LogisticRegression"
   ]
  },
  {
   "cell_type": "code",
   "execution_count": 87,
   "metadata": {
    "executionInfo": {
     "elapsed": 853,
     "status": "ok",
     "timestamp": 1682653318151,
     "user": {
      "displayName": "yeehaw",
      "userId": "00614237284897735384"
     },
     "user_tz": -420
    },
    "id": "O7Gcku7B8xUv"
   },
   "outputs": [],
   "source": [
    "clf=LogisticRegression(random_state=0, multi_class='multinomial')"
   ]
  },
  {
   "cell_type": "code",
   "execution_count": 88,
   "metadata": {
    "colab": {
     "base_uri": "https://localhost:8080/",
     "height": 74
    },
    "executionInfo": {
     "elapsed": 13325,
     "status": "ok",
     "timestamp": 1682653341793,
     "user": {
      "displayName": "yeehaw",
      "userId": "00614237284897735384"
     },
     "user_tz": -420
    },
    "id": "ZgmTbqyo9AMI",
    "outputId": "79f2acc2-6de2-4fa9-81e9-6a7c8c68ecc3"
   },
   "outputs": [
    {
     "data": {
      "text/html": [
       "<style>#sk-container-id-2 {\n",
       "  /* Definition of color scheme common for light and dark mode */\n",
       "  --sklearn-color-text: black;\n",
       "  --sklearn-color-line: gray;\n",
       "  /* Definition of color scheme for unfitted estimators */\n",
       "  --sklearn-color-unfitted-level-0: #fff5e6;\n",
       "  --sklearn-color-unfitted-level-1: #f6e4d2;\n",
       "  --sklearn-color-unfitted-level-2: #ffe0b3;\n",
       "  --sklearn-color-unfitted-level-3: chocolate;\n",
       "  /* Definition of color scheme for fitted estimators */\n",
       "  --sklearn-color-fitted-level-0: #f0f8ff;\n",
       "  --sklearn-color-fitted-level-1: #d4ebff;\n",
       "  --sklearn-color-fitted-level-2: #b3dbfd;\n",
       "  --sklearn-color-fitted-level-3: cornflowerblue;\n",
       "\n",
       "  /* Specific color for light theme */\n",
       "  --sklearn-color-text-on-default-background: var(--sg-text-color, var(--theme-code-foreground, var(--jp-content-font-color1, black)));\n",
       "  --sklearn-color-background: var(--sg-background-color, var(--theme-background, var(--jp-layout-color0, white)));\n",
       "  --sklearn-color-border-box: var(--sg-text-color, var(--theme-code-foreground, var(--jp-content-font-color1, black)));\n",
       "  --sklearn-color-icon: #696969;\n",
       "\n",
       "  @media (prefers-color-scheme: dark) {\n",
       "    /* Redefinition of color scheme for dark theme */\n",
       "    --sklearn-color-text-on-default-background: var(--sg-text-color, var(--theme-code-foreground, var(--jp-content-font-color1, white)));\n",
       "    --sklearn-color-background: var(--sg-background-color, var(--theme-background, var(--jp-layout-color0, #111)));\n",
       "    --sklearn-color-border-box: var(--sg-text-color, var(--theme-code-foreground, var(--jp-content-font-color1, white)));\n",
       "    --sklearn-color-icon: #878787;\n",
       "  }\n",
       "}\n",
       "\n",
       "#sk-container-id-2 {\n",
       "  color: var(--sklearn-color-text);\n",
       "}\n",
       "\n",
       "#sk-container-id-2 pre {\n",
       "  padding: 0;\n",
       "}\n",
       "\n",
       "#sk-container-id-2 input.sk-hidden--visually {\n",
       "  border: 0;\n",
       "  clip: rect(1px 1px 1px 1px);\n",
       "  clip: rect(1px, 1px, 1px, 1px);\n",
       "  height: 1px;\n",
       "  margin: -1px;\n",
       "  overflow: hidden;\n",
       "  padding: 0;\n",
       "  position: absolute;\n",
       "  width: 1px;\n",
       "}\n",
       "\n",
       "#sk-container-id-2 div.sk-dashed-wrapped {\n",
       "  border: 1px dashed var(--sklearn-color-line);\n",
       "  margin: 0 0.4em 0.5em 0.4em;\n",
       "  box-sizing: border-box;\n",
       "  padding-bottom: 0.4em;\n",
       "  background-color: var(--sklearn-color-background);\n",
       "}\n",
       "\n",
       "#sk-container-id-2 div.sk-container {\n",
       "  /* jupyter's `normalize.less` sets `[hidden] { display: none; }`\n",
       "     but bootstrap.min.css set `[hidden] { display: none !important; }`\n",
       "     so we also need the `!important` here to be able to override the\n",
       "     default hidden behavior on the sphinx rendered scikit-learn.org.\n",
       "     See: https://github.com/scikit-learn/scikit-learn/issues/21755 */\n",
       "  display: inline-block !important;\n",
       "  position: relative;\n",
       "}\n",
       "\n",
       "#sk-container-id-2 div.sk-text-repr-fallback {\n",
       "  display: none;\n",
       "}\n",
       "\n",
       "div.sk-parallel-item,\n",
       "div.sk-serial,\n",
       "div.sk-item {\n",
       "  /* draw centered vertical line to link estimators */\n",
       "  background-image: linear-gradient(var(--sklearn-color-text-on-default-background), var(--sklearn-color-text-on-default-background));\n",
       "  background-size: 2px 100%;\n",
       "  background-repeat: no-repeat;\n",
       "  background-position: center center;\n",
       "}\n",
       "\n",
       "/* Parallel-specific style estimator block */\n",
       "\n",
       "#sk-container-id-2 div.sk-parallel-item::after {\n",
       "  content: \"\";\n",
       "  width: 100%;\n",
       "  border-bottom: 2px solid var(--sklearn-color-text-on-default-background);\n",
       "  flex-grow: 1;\n",
       "}\n",
       "\n",
       "#sk-container-id-2 div.sk-parallel {\n",
       "  display: flex;\n",
       "  align-items: stretch;\n",
       "  justify-content: center;\n",
       "  background-color: var(--sklearn-color-background);\n",
       "  position: relative;\n",
       "}\n",
       "\n",
       "#sk-container-id-2 div.sk-parallel-item {\n",
       "  display: flex;\n",
       "  flex-direction: column;\n",
       "}\n",
       "\n",
       "#sk-container-id-2 div.sk-parallel-item:first-child::after {\n",
       "  align-self: flex-end;\n",
       "  width: 50%;\n",
       "}\n",
       "\n",
       "#sk-container-id-2 div.sk-parallel-item:last-child::after {\n",
       "  align-self: flex-start;\n",
       "  width: 50%;\n",
       "}\n",
       "\n",
       "#sk-container-id-2 div.sk-parallel-item:only-child::after {\n",
       "  width: 0;\n",
       "}\n",
       "\n",
       "/* Serial-specific style estimator block */\n",
       "\n",
       "#sk-container-id-2 div.sk-serial {\n",
       "  display: flex;\n",
       "  flex-direction: column;\n",
       "  align-items: center;\n",
       "  background-color: var(--sklearn-color-background);\n",
       "  padding-right: 1em;\n",
       "  padding-left: 1em;\n",
       "}\n",
       "\n",
       "\n",
       "/* Toggleable style: style used for estimator/Pipeline/ColumnTransformer box that is\n",
       "clickable and can be expanded/collapsed.\n",
       "- Pipeline and ColumnTransformer use this feature and define the default style\n",
       "- Estimators will overwrite some part of the style using the `sk-estimator` class\n",
       "*/\n",
       "\n",
       "/* Pipeline and ColumnTransformer style (default) */\n",
       "\n",
       "#sk-container-id-2 div.sk-toggleable {\n",
       "  /* Default theme specific background. It is overwritten whether we have a\n",
       "  specific estimator or a Pipeline/ColumnTransformer */\n",
       "  background-color: var(--sklearn-color-background);\n",
       "}\n",
       "\n",
       "/* Toggleable label */\n",
       "#sk-container-id-2 label.sk-toggleable__label {\n",
       "  cursor: pointer;\n",
       "  display: block;\n",
       "  width: 100%;\n",
       "  margin-bottom: 0;\n",
       "  padding: 0.5em;\n",
       "  box-sizing: border-box;\n",
       "  text-align: center;\n",
       "}\n",
       "\n",
       "#sk-container-id-2 label.sk-toggleable__label-arrow:before {\n",
       "  /* Arrow on the left of the label */\n",
       "  content: \"▸\";\n",
       "  float: left;\n",
       "  margin-right: 0.25em;\n",
       "  color: var(--sklearn-color-icon);\n",
       "}\n",
       "\n",
       "#sk-container-id-2 label.sk-toggleable__label-arrow:hover:before {\n",
       "  color: var(--sklearn-color-text);\n",
       "}\n",
       "\n",
       "/* Toggleable content - dropdown */\n",
       "\n",
       "#sk-container-id-2 div.sk-toggleable__content {\n",
       "  max-height: 0;\n",
       "  max-width: 0;\n",
       "  overflow: hidden;\n",
       "  text-align: left;\n",
       "  /* unfitted */\n",
       "  background-color: var(--sklearn-color-unfitted-level-0);\n",
       "}\n",
       "\n",
       "#sk-container-id-2 div.sk-toggleable__content.fitted {\n",
       "  /* fitted */\n",
       "  background-color: var(--sklearn-color-fitted-level-0);\n",
       "}\n",
       "\n",
       "#sk-container-id-2 div.sk-toggleable__content pre {\n",
       "  margin: 0.2em;\n",
       "  border-radius: 0.25em;\n",
       "  color: var(--sklearn-color-text);\n",
       "  /* unfitted */\n",
       "  background-color: var(--sklearn-color-unfitted-level-0);\n",
       "}\n",
       "\n",
       "#sk-container-id-2 div.sk-toggleable__content.fitted pre {\n",
       "  /* unfitted */\n",
       "  background-color: var(--sklearn-color-fitted-level-0);\n",
       "}\n",
       "\n",
       "#sk-container-id-2 input.sk-toggleable__control:checked~div.sk-toggleable__content {\n",
       "  /* Expand drop-down */\n",
       "  max-height: 200px;\n",
       "  max-width: 100%;\n",
       "  overflow: auto;\n",
       "}\n",
       "\n",
       "#sk-container-id-2 input.sk-toggleable__control:checked~label.sk-toggleable__label-arrow:before {\n",
       "  content: \"▾\";\n",
       "}\n",
       "\n",
       "/* Pipeline/ColumnTransformer-specific style */\n",
       "\n",
       "#sk-container-id-2 div.sk-label input.sk-toggleable__control:checked~label.sk-toggleable__label {\n",
       "  color: var(--sklearn-color-text);\n",
       "  background-color: var(--sklearn-color-unfitted-level-2);\n",
       "}\n",
       "\n",
       "#sk-container-id-2 div.sk-label.fitted input.sk-toggleable__control:checked~label.sk-toggleable__label {\n",
       "  background-color: var(--sklearn-color-fitted-level-2);\n",
       "}\n",
       "\n",
       "/* Estimator-specific style */\n",
       "\n",
       "/* Colorize estimator box */\n",
       "#sk-container-id-2 div.sk-estimator input.sk-toggleable__control:checked~label.sk-toggleable__label {\n",
       "  /* unfitted */\n",
       "  background-color: var(--sklearn-color-unfitted-level-2);\n",
       "}\n",
       "\n",
       "#sk-container-id-2 div.sk-estimator.fitted input.sk-toggleable__control:checked~label.sk-toggleable__label {\n",
       "  /* fitted */\n",
       "  background-color: var(--sklearn-color-fitted-level-2);\n",
       "}\n",
       "\n",
       "#sk-container-id-2 div.sk-label label.sk-toggleable__label,\n",
       "#sk-container-id-2 div.sk-label label {\n",
       "  /* The background is the default theme color */\n",
       "  color: var(--sklearn-color-text-on-default-background);\n",
       "}\n",
       "\n",
       "/* On hover, darken the color of the background */\n",
       "#sk-container-id-2 div.sk-label:hover label.sk-toggleable__label {\n",
       "  color: var(--sklearn-color-text);\n",
       "  background-color: var(--sklearn-color-unfitted-level-2);\n",
       "}\n",
       "\n",
       "/* Label box, darken color on hover, fitted */\n",
       "#sk-container-id-2 div.sk-label.fitted:hover label.sk-toggleable__label.fitted {\n",
       "  color: var(--sklearn-color-text);\n",
       "  background-color: var(--sklearn-color-fitted-level-2);\n",
       "}\n",
       "\n",
       "/* Estimator label */\n",
       "\n",
       "#sk-container-id-2 div.sk-label label {\n",
       "  font-family: monospace;\n",
       "  font-weight: bold;\n",
       "  display: inline-block;\n",
       "  line-height: 1.2em;\n",
       "}\n",
       "\n",
       "#sk-container-id-2 div.sk-label-container {\n",
       "  text-align: center;\n",
       "}\n",
       "\n",
       "/* Estimator-specific */\n",
       "#sk-container-id-2 div.sk-estimator {\n",
       "  font-family: monospace;\n",
       "  border: 1px dotted var(--sklearn-color-border-box);\n",
       "  border-radius: 0.25em;\n",
       "  box-sizing: border-box;\n",
       "  margin-bottom: 0.5em;\n",
       "  /* unfitted */\n",
       "  background-color: var(--sklearn-color-unfitted-level-0);\n",
       "}\n",
       "\n",
       "#sk-container-id-2 div.sk-estimator.fitted {\n",
       "  /* fitted */\n",
       "  background-color: var(--sklearn-color-fitted-level-0);\n",
       "}\n",
       "\n",
       "/* on hover */\n",
       "#sk-container-id-2 div.sk-estimator:hover {\n",
       "  /* unfitted */\n",
       "  background-color: var(--sklearn-color-unfitted-level-2);\n",
       "}\n",
       "\n",
       "#sk-container-id-2 div.sk-estimator.fitted:hover {\n",
       "  /* fitted */\n",
       "  background-color: var(--sklearn-color-fitted-level-2);\n",
       "}\n",
       "\n",
       "/* Specification for estimator info (e.g. \"i\" and \"?\") */\n",
       "\n",
       "/* Common style for \"i\" and \"?\" */\n",
       "\n",
       ".sk-estimator-doc-link,\n",
       "a:link.sk-estimator-doc-link,\n",
       "a:visited.sk-estimator-doc-link {\n",
       "  float: right;\n",
       "  font-size: smaller;\n",
       "  line-height: 1em;\n",
       "  font-family: monospace;\n",
       "  background-color: var(--sklearn-color-background);\n",
       "  border-radius: 1em;\n",
       "  height: 1em;\n",
       "  width: 1em;\n",
       "  text-decoration: none !important;\n",
       "  margin-left: 1ex;\n",
       "  /* unfitted */\n",
       "  border: var(--sklearn-color-unfitted-level-1) 1pt solid;\n",
       "  color: var(--sklearn-color-unfitted-level-1);\n",
       "}\n",
       "\n",
       ".sk-estimator-doc-link.fitted,\n",
       "a:link.sk-estimator-doc-link.fitted,\n",
       "a:visited.sk-estimator-doc-link.fitted {\n",
       "  /* fitted */\n",
       "  border: var(--sklearn-color-fitted-level-1) 1pt solid;\n",
       "  color: var(--sklearn-color-fitted-level-1);\n",
       "}\n",
       "\n",
       "/* On hover */\n",
       "div.sk-estimator:hover .sk-estimator-doc-link:hover,\n",
       ".sk-estimator-doc-link:hover,\n",
       "div.sk-label-container:hover .sk-estimator-doc-link:hover,\n",
       ".sk-estimator-doc-link:hover {\n",
       "  /* unfitted */\n",
       "  background-color: var(--sklearn-color-unfitted-level-3);\n",
       "  color: var(--sklearn-color-background);\n",
       "  text-decoration: none;\n",
       "}\n",
       "\n",
       "div.sk-estimator.fitted:hover .sk-estimator-doc-link.fitted:hover,\n",
       ".sk-estimator-doc-link.fitted:hover,\n",
       "div.sk-label-container:hover .sk-estimator-doc-link.fitted:hover,\n",
       ".sk-estimator-doc-link.fitted:hover {\n",
       "  /* fitted */\n",
       "  background-color: var(--sklearn-color-fitted-level-3);\n",
       "  color: var(--sklearn-color-background);\n",
       "  text-decoration: none;\n",
       "}\n",
       "\n",
       "/* Span, style for the box shown on hovering the info icon */\n",
       ".sk-estimator-doc-link span {\n",
       "  display: none;\n",
       "  z-index: 9999;\n",
       "  position: relative;\n",
       "  font-weight: normal;\n",
       "  right: .2ex;\n",
       "  padding: .5ex;\n",
       "  margin: .5ex;\n",
       "  width: min-content;\n",
       "  min-width: 20ex;\n",
       "  max-width: 50ex;\n",
       "  color: var(--sklearn-color-text);\n",
       "  box-shadow: 2pt 2pt 4pt #999;\n",
       "  /* unfitted */\n",
       "  background: var(--sklearn-color-unfitted-level-0);\n",
       "  border: .5pt solid var(--sklearn-color-unfitted-level-3);\n",
       "}\n",
       "\n",
       ".sk-estimator-doc-link.fitted span {\n",
       "  /* fitted */\n",
       "  background: var(--sklearn-color-fitted-level-0);\n",
       "  border: var(--sklearn-color-fitted-level-3);\n",
       "}\n",
       "\n",
       ".sk-estimator-doc-link:hover span {\n",
       "  display: block;\n",
       "}\n",
       "\n",
       "/* \"?\"-specific style due to the `<a>` HTML tag */\n",
       "\n",
       "#sk-container-id-2 a.estimator_doc_link {\n",
       "  float: right;\n",
       "  font-size: 1rem;\n",
       "  line-height: 1em;\n",
       "  font-family: monospace;\n",
       "  background-color: var(--sklearn-color-background);\n",
       "  border-radius: 1rem;\n",
       "  height: 1rem;\n",
       "  width: 1rem;\n",
       "  text-decoration: none;\n",
       "  /* unfitted */\n",
       "  color: var(--sklearn-color-unfitted-level-1);\n",
       "  border: var(--sklearn-color-unfitted-level-1) 1pt solid;\n",
       "}\n",
       "\n",
       "#sk-container-id-2 a.estimator_doc_link.fitted {\n",
       "  /* fitted */\n",
       "  border: var(--sklearn-color-fitted-level-1) 1pt solid;\n",
       "  color: var(--sklearn-color-fitted-level-1);\n",
       "}\n",
       "\n",
       "/* On hover */\n",
       "#sk-container-id-2 a.estimator_doc_link:hover {\n",
       "  /* unfitted */\n",
       "  background-color: var(--sklearn-color-unfitted-level-3);\n",
       "  color: var(--sklearn-color-background);\n",
       "  text-decoration: none;\n",
       "}\n",
       "\n",
       "#sk-container-id-2 a.estimator_doc_link.fitted:hover {\n",
       "  /* fitted */\n",
       "  background-color: var(--sklearn-color-fitted-level-3);\n",
       "}\n",
       "</style><div id=\"sk-container-id-2\" class=\"sk-top-container\"><div class=\"sk-text-repr-fallback\"><pre>LogisticRegression(multi_class=&#x27;multinomial&#x27;, random_state=0)</pre><b>In a Jupyter environment, please rerun this cell to show the HTML representation or trust the notebook. <br />On GitHub, the HTML representation is unable to render, please try loading this page with nbviewer.org.</b></div><div class=\"sk-container\" hidden><div class=\"sk-item\"><div class=\"sk-estimator fitted sk-toggleable\"><input class=\"sk-toggleable__control sk-hidden--visually\" id=\"sk-estimator-id-2\" type=\"checkbox\" checked><label for=\"sk-estimator-id-2\" class=\"sk-toggleable__label fitted sk-toggleable__label-arrow fitted\">&nbsp;&nbsp;LogisticRegression<a class=\"sk-estimator-doc-link fitted\" rel=\"noreferrer\" target=\"_blank\" href=\"https://scikit-learn.org/1.5/modules/generated/sklearn.linear_model.LogisticRegression.html\">?<span>Documentation for LogisticRegression</span></a><span class=\"sk-estimator-doc-link fitted\">i<span>Fitted</span></span></label><div class=\"sk-toggleable__content fitted\"><pre>LogisticRegression(multi_class=&#x27;multinomial&#x27;, random_state=0)</pre></div> </div></div></div></div>"
      ],
      "text/plain": [
       "LogisticRegression(multi_class='multinomial', random_state=0)"
      ]
     },
     "execution_count": 88,
     "metadata": {},
     "output_type": "execute_result"
    }
   ],
   "source": [
    "clf.fit(X_train, y_train)"
   ]
  },
  {
   "cell_type": "code",
   "execution_count": 89,
   "metadata": {
    "executionInfo": {
     "elapsed": 2,
     "status": "ok",
     "timestamp": 1682653366308,
     "user": {
      "displayName": "yeehaw",
      "userId": "00614237284897735384"
     },
     "user_tz": -420
    },
    "id": "zV1mggqI9Cy7"
   },
   "outputs": [],
   "source": [
    "dt=np.array(['%@123abcd'])"
   ]
  },
  {
   "cell_type": "code",
   "execution_count": 90,
   "metadata": {
    "executionInfo": {
     "elapsed": 4,
     "status": "ok",
     "timestamp": 1682653387574,
     "user": {
      "displayName": "yeehaw",
      "userId": "00614237284897735384"
     },
     "user_tz": -420
    },
    "id": "zDeDnZju9MMi"
   },
   "outputs": [],
   "source": [
    "pred=vectorizer.transform(dt)"
   ]
  },
  {
   "cell_type": "code",
   "execution_count": 91,
   "metadata": {
    "colab": {
     "base_uri": "https://localhost:8080/"
    },
    "executionInfo": {
     "elapsed": 4,
     "status": "ok",
     "timestamp": 1682653393165,
     "user": {
      "displayName": "yeehaw",
      "userId": "00614237284897735384"
     },
     "user_tz": -420
    },
    "id": "MbsAp6Bf9QBp",
    "outputId": "7720746b-696c-47f6-87cd-4a3e7b452731"
   },
   "outputs": [
    {
     "data": {
      "text/plain": [
       "array([1])"
      ]
     },
     "execution_count": 91,
     "metadata": {},
     "output_type": "execute_result"
    }
   ],
   "source": [
    "clf.predict(pred)"
   ]
  },
  {
   "cell_type": "code",
   "execution_count": 92,
   "metadata": {
    "executionInfo": {
     "elapsed": 3,
     "status": "ok",
     "timestamp": 1682653421880,
     "user": {
      "displayName": "yeehaw",
      "userId": "00614237284897735384"
     },
     "user_tz": -420
    },
    "id": "PDdsNQkZ9Sl8"
   },
   "outputs": [],
   "source": [
    "y_pred=clf.predict(X_test)"
   ]
  },
  {
   "cell_type": "code",
   "execution_count": 93,
   "metadata": {
    "colab": {
     "base_uri": "https://localhost:8080/"
    },
    "executionInfo": {
     "elapsed": 4,
     "status": "ok",
     "timestamp": 1682653453274,
     "user": {
      "displayName": "yeehaw",
      "userId": "00614237284897735384"
     },
     "user_tz": -420
    },
    "id": "N0Xjn0Uk9Xtp",
    "outputId": "5159f528-8a5c-4321-c992-02393396ff8b"
   },
   "outputs": [
    {
     "data": {
      "text/plain": [
       "array([1, 1, 1, ..., 1, 1, 1], shape=(133928,))"
      ]
     },
     "execution_count": 93,
     "metadata": {},
     "output_type": "execute_result"
    }
   ],
   "source": [
    "y_pred.flatten()"
   ]
  },
  {
   "cell_type": "code",
   "execution_count": 94,
   "metadata": {
    "executionInfo": {
     "elapsed": 3,
     "status": "ok",
     "timestamp": 1682653620803,
     "user": {
      "displayName": "yeehaw",
      "userId": "00614237284897735384"
     },
     "user_tz": -420
    },
    "id": "9lCPWSCq9acL"
   },
   "outputs": [],
   "source": [
    "from sklearn.metrics import confusion_matrix, accuracy_score"
   ]
  },
  {
   "cell_type": "code",
   "execution_count": 95,
   "metadata": {
    "executionInfo": {
     "elapsed": 2,
     "status": "ok",
     "timestamp": 1682653651112,
     "user": {
      "displayName": "yeehaw",
      "userId": "00614237284897735384"
     },
     "user_tz": -420
    },
    "id": "z5LQ4r_c-LgL"
   },
   "outputs": [],
   "source": [
    "cm=confusion_matrix(y_test, y_pred)"
   ]
  },
  {
   "cell_type": "code",
   "execution_count": 96,
   "metadata": {
    "colab": {
     "base_uri": "https://localhost:8080/"
    },
    "executionInfo": {
     "elapsed": 5,
     "status": "ok",
     "timestamp": 1682653653562,
     "user": {
      "displayName": "yeehaw",
      "userId": "00614237284897735384"
     },
     "user_tz": -420
    },
    "id": "bcX3SqsR-L8e",
    "outputId": "0c8ce710-12c0-4b17-a01d-cf9c8330649b"
   },
   "outputs": [
    {
     "name": "stdout",
     "output_type": "stream",
     "text": [
      "[[ 5388 12542    17]\n",
      " [ 3915 93170  2455]\n",
      " [   31  5039 11371]]\n"
     ]
    }
   ],
   "source": [
    "print(cm)"
   ]
  },
  {
   "cell_type": "code",
   "execution_count": 97,
   "metadata": {
    "colab": {
     "base_uri": "https://localhost:8080/"
    },
    "executionInfo": {
     "elapsed": 6,
     "status": "ok",
     "timestamp": 1682653675152,
     "user": {
      "displayName": "yeehaw",
      "userId": "00614237284897735384"
     },
     "user_tz": -420
    },
    "id": "4t4e6Tip-L_t",
    "outputId": "8d1e5b9c-a74e-43a8-84b1-a67564946c1c"
   },
   "outputs": [
    {
     "data": {
      "text/plain": [
       "0.8208067021085956"
      ]
     },
     "execution_count": 97,
     "metadata": {},
     "output_type": "execute_result"
    }
   ],
   "source": [
    "accuracy_score(y_test, y_pred)"
   ]
  },
  {
   "cell_type": "code",
   "execution_count": 98,
   "metadata": {
    "executionInfo": {
     "elapsed": 3,
     "status": "ok",
     "timestamp": 1682653728736,
     "user": {
      "displayName": "yeehaw",
      "userId": "00614237284897735384"
     },
     "user_tz": -420
    },
    "id": "LuTt_uqe-MCw"
   },
   "outputs": [],
   "source": [
    "from sklearn.metrics import classification_report"
   ]
  },
  {
   "cell_type": "code",
   "execution_count": 99,
   "metadata": {
    "colab": {
     "base_uri": "https://localhost:8080/"
    },
    "executionInfo": {
     "elapsed": 736,
     "status": "ok",
     "timestamp": 1682653740743,
     "user": {
      "displayName": "yeehaw",
      "userId": "00614237284897735384"
     },
     "user_tz": -420
    },
    "id": "Ff48uqaT-MFG",
    "outputId": "1a03e006-9834-405d-ba87-205841fe5d63"
   },
   "outputs": [
    {
     "name": "stdout",
     "output_type": "stream",
     "text": [
      "              precision    recall  f1-score   support\n",
      "\n",
      "           0       0.58      0.30      0.40     17947\n",
      "           1       0.84      0.94      0.89     99540\n",
      "           2       0.82      0.69      0.75     16441\n",
      "\n",
      "    accuracy                           0.82    133928\n",
      "   macro avg       0.75      0.64      0.68    133928\n",
      "weighted avg       0.80      0.82      0.80    133928\n",
      "\n"
     ]
    }
   ],
   "source": [
    "print(classification_report(y_test, y_pred))"
   ]
  }
 ],
 "metadata": {
  "colab": {
   "authorship_tag": "ABX9TyMd0GmgyoRXA7MsVp+MSxSc",
   "provenance": []
  },
  "kernelspec": {
   "display_name": ".venv",
   "language": "python",
   "name": "python3"
  },
  "language_info": {
   "codemirror_mode": {
    "name": "ipython",
    "version": 3
   },
   "file_extension": ".py",
   "mimetype": "text/x-python",
   "name": "python",
   "nbconvert_exporter": "python",
   "pygments_lexer": "ipython3",
   "version": "3.11.9"
  }
 },
 "nbformat": 4,
 "nbformat_minor": 0
}
