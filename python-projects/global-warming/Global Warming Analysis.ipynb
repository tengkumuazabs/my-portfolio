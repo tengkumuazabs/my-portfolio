{
 "cells": [
  {
   "cell_type": "code",
   "execution_count": 1,
   "metadata": {},
   "outputs": [],
   "source": [
    "import numpy as np\n",
    "import pandas as pd\n",
    "import matplotlib.pyplot as plt\n",
    "import plotly\n",
    "import plotly.graph_objs as go\n",
    "import plotly.tools as tls\n",
    "import seaborn as sns\n",
    "import time\n",
    "import warnings\n",
    "warnings.filterwarnings('ignore')"
   ]
  },
  {
   "cell_type": "code",
   "execution_count": 2,
   "metadata": {},
   "outputs": [],
   "source": [
    "global_temp_country = pd.read_csv(r'2.Global Warming Analysis-20240729T113427Z-001\\2.Global Warming Analysis\\GlobalLandTemperaturesByCountry.csv')"
   ]
  },
  {
   "cell_type": "code",
   "execution_count": 3,
   "metadata": {},
   "outputs": [
    {
     "data": {
      "text/html": [
       "<div>\n",
       "<style scoped>\n",
       "    .dataframe tbody tr th:only-of-type {\n",
       "        vertical-align: middle;\n",
       "    }\n",
       "\n",
       "    .dataframe tbody tr th {\n",
       "        vertical-align: top;\n",
       "    }\n",
       "\n",
       "    .dataframe thead th {\n",
       "        text-align: right;\n",
       "    }\n",
       "</style>\n",
       "<table border=\"1\" class=\"dataframe\">\n",
       "  <thead>\n",
       "    <tr style=\"text-align: right;\">\n",
       "      <th></th>\n",
       "      <th>dt</th>\n",
       "      <th>AverageTemperature</th>\n",
       "      <th>AverageTemperatureUncertainty</th>\n",
       "      <th>Country</th>\n",
       "    </tr>\n",
       "  </thead>\n",
       "  <tbody>\n",
       "    <tr>\n",
       "      <th>0</th>\n",
       "      <td>1743-11-01</td>\n",
       "      <td>4.384</td>\n",
       "      <td>2.294</td>\n",
       "      <td>Åland</td>\n",
       "    </tr>\n",
       "    <tr>\n",
       "      <th>1</th>\n",
       "      <td>1743-12-01</td>\n",
       "      <td>NaN</td>\n",
       "      <td>NaN</td>\n",
       "      <td>Åland</td>\n",
       "    </tr>\n",
       "    <tr>\n",
       "      <th>2</th>\n",
       "      <td>1744-01-01</td>\n",
       "      <td>NaN</td>\n",
       "      <td>NaN</td>\n",
       "      <td>Åland</td>\n",
       "    </tr>\n",
       "    <tr>\n",
       "      <th>3</th>\n",
       "      <td>1744-02-01</td>\n",
       "      <td>NaN</td>\n",
       "      <td>NaN</td>\n",
       "      <td>Åland</td>\n",
       "    </tr>\n",
       "    <tr>\n",
       "      <th>4</th>\n",
       "      <td>1744-03-01</td>\n",
       "      <td>NaN</td>\n",
       "      <td>NaN</td>\n",
       "      <td>Åland</td>\n",
       "    </tr>\n",
       "  </tbody>\n",
       "</table>\n",
       "</div>"
      ],
      "text/plain": [
       "           dt  AverageTemperature  AverageTemperatureUncertainty Country\n",
       "0  1743-11-01               4.384                          2.294   Åland\n",
       "1  1743-12-01                 NaN                            NaN   Åland\n",
       "2  1744-01-01                 NaN                            NaN   Åland\n",
       "3  1744-02-01                 NaN                            NaN   Åland\n",
       "4  1744-03-01                 NaN                            NaN   Åland"
      ]
     },
     "execution_count": 3,
     "metadata": {},
     "output_type": "execute_result"
    }
   ],
   "source": [
    "global_temp_country.head()"
   ]
  },
  {
   "cell_type": "code",
   "execution_count": 4,
   "metadata": {},
   "outputs": [
    {
     "data": {
      "text/plain": [
       "(577462, 4)"
      ]
     },
     "execution_count": 4,
     "metadata": {},
     "output_type": "execute_result"
    }
   ],
   "source": [
    "global_temp_country.shape"
   ]
  },
  {
   "cell_type": "code",
   "execution_count": 5,
   "metadata": {},
   "outputs": [
    {
     "data": {
      "text/plain": [
       "dt                                   0\n",
       "AverageTemperature               32651\n",
       "AverageTemperatureUncertainty    31912\n",
       "Country                              0\n",
       "dtype: int64"
      ]
     },
     "execution_count": 5,
     "metadata": {},
     "output_type": "execute_result"
    }
   ],
   "source": [
    "global_temp_country.isna().sum()"
   ]
  },
  {
   "cell_type": "code",
   "execution_count": 6,
   "metadata": {},
   "outputs": [],
   "source": [
    "global_temp_country.dropna(how='any', subset='AverageTemperature', inplace=True)"
   ]
  },
  {
   "cell_type": "code",
   "execution_count": 7,
   "metadata": {},
   "outputs": [
    {
     "data": {
      "text/plain": [
       "array(['Åland', 'Afghanistan', 'Africa', 'Albania', 'Algeria',\n",
       "       'American Samoa', 'Andorra', 'Angola', 'Anguilla',\n",
       "       'Antigua And Barbuda', 'Argentina', 'Armenia', 'Aruba', 'Asia',\n",
       "       'Australia', 'Austria', 'Azerbaijan', 'Bahamas', 'Bahrain',\n",
       "       'Baker Island', 'Bangladesh', 'Barbados', 'Belarus', 'Belgium',\n",
       "       'Belize', 'Benin', 'Bhutan', 'Bolivia',\n",
       "       'Bonaire, Saint Eustatius And Saba', 'Bosnia And Herzegovina',\n",
       "       'Botswana', 'Brazil', 'British Virgin Islands', 'Bulgaria',\n",
       "       'Burkina Faso', 'Burma', 'Burundi', \"Côte D'Ivoire\", 'Cambodia',\n",
       "       'Cameroon', 'Canada', 'Cape Verde', 'Cayman Islands',\n",
       "       'Central African Republic', 'Chad', 'Chile', 'China',\n",
       "       'Christmas Island', 'Colombia', 'Comoros',\n",
       "       'Congo (Democratic Republic Of The)', 'Congo', 'Costa Rica',\n",
       "       'Croatia', 'Cuba', 'Curaçao', 'Cyprus', 'Czech Republic',\n",
       "       'Denmark (Europe)', 'Denmark', 'Djibouti', 'Dominica',\n",
       "       'Dominican Republic', 'Ecuador', 'Egypt', 'El Salvador',\n",
       "       'Equatorial Guinea', 'Eritrea', 'Estonia', 'Ethiopia', 'Europe',\n",
       "       'Falkland Islands (Islas Malvinas)', 'Faroe Islands',\n",
       "       'Federated States Of Micronesia', 'Fiji', 'Finland',\n",
       "       'France (Europe)', 'France', 'French Guiana', 'French Polynesia',\n",
       "       'French Southern And Antarctic Lands', 'Gabon', 'Gambia',\n",
       "       'Gaza Strip', 'Georgia', 'Germany', 'Ghana', 'Greece', 'Greenland',\n",
       "       'Grenada', 'Guadeloupe', 'Guam', 'Guatemala', 'Guernsey',\n",
       "       'Guinea Bissau', 'Guinea', 'Guyana', 'Haiti',\n",
       "       'Heard Island And Mcdonald Islands', 'Honduras', 'Hong Kong',\n",
       "       'Hungary', 'Iceland', 'India', 'Indonesia', 'Iran', 'Iraq',\n",
       "       'Ireland', 'Isle Of Man', 'Israel', 'Italy', 'Jamaica', 'Japan',\n",
       "       'Jersey', 'Jordan', 'Kazakhstan', 'Kenya', 'Kingman Reef',\n",
       "       'Kiribati', 'Kuwait', 'Kyrgyzstan', 'Laos', 'Latvia', 'Lebanon',\n",
       "       'Lesotho', 'Liberia', 'Libya', 'Liechtenstein', 'Lithuania',\n",
       "       'Luxembourg', 'Macau', 'Macedonia', 'Madagascar', 'Malawi',\n",
       "       'Malaysia', 'Mali', 'Malta', 'Martinique', 'Mauritania',\n",
       "       'Mauritius', 'Mayotte', 'Mexico', 'Moldova', 'Monaco', 'Mongolia',\n",
       "       'Montenegro', 'Montserrat', 'Morocco', 'Mozambique', 'Namibia',\n",
       "       'Nepal', 'Netherlands (Europe)', 'Netherlands', 'New Caledonia',\n",
       "       'New Zealand', 'Nicaragua', 'Niger', 'Nigeria', 'Niue',\n",
       "       'North America', 'North Korea', 'Northern Mariana Islands',\n",
       "       'Norway', 'Oceania', 'Oman', 'Pakistan', 'Palau', 'Palestina',\n",
       "       'Palmyra Atoll', 'Panama', 'Papua New Guinea', 'Paraguay', 'Peru',\n",
       "       'Philippines', 'Poland', 'Portugal', 'Puerto Rico', 'Qatar',\n",
       "       'Reunion', 'Romania', 'Russia', 'Rwanda', 'Saint Barthélemy',\n",
       "       'Saint Kitts And Nevis', 'Saint Lucia', 'Saint Martin',\n",
       "       'Saint Pierre And Miquelon', 'Saint Vincent And The Grenadines',\n",
       "       'Samoa', 'San Marino', 'Sao Tome And Principe', 'Saudi Arabia',\n",
       "       'Senegal', 'Serbia', 'Seychelles', 'Sierra Leone', 'Singapore',\n",
       "       'Sint Maarten', 'Slovakia', 'Slovenia', 'Solomon Islands',\n",
       "       'Somalia', 'South Africa', 'South America',\n",
       "       'South Georgia And The South Sandwich Isla', 'South Korea',\n",
       "       'Spain', 'Sri Lanka', 'Sudan', 'Suriname',\n",
       "       'Svalbard And Jan Mayen', 'Swaziland', 'Sweden', 'Switzerland',\n",
       "       'Syria', 'Taiwan', 'Tajikistan', 'Tanzania', 'Thailand',\n",
       "       'Timor Leste', 'Togo', 'Tonga', 'Trinidad And Tobago', 'Tunisia',\n",
       "       'Turkey', 'Turkmenistan', 'Turks And Caicas Islands', 'Uganda',\n",
       "       'Ukraine', 'United Arab Emirates', 'United Kingdom (Europe)',\n",
       "       'United Kingdom', 'United States', 'Uruguay', 'Uzbekistan',\n",
       "       'Venezuela', 'Vietnam', 'Virgin Islands', 'Western Sahara',\n",
       "       'Yemen', 'Zambia', 'Zimbabwe'], dtype=object)"
      ]
     },
     "execution_count": 7,
     "metadata": {},
     "output_type": "execute_result"
    }
   ],
   "source": [
    "global_temp_country.Country.unique() #duplicates detected"
   ]
  },
  {
   "cell_type": "code",
   "execution_count": 8,
   "metadata": {},
   "outputs": [],
   "source": [
    "dict = {'Denmark (Europe)':'Denmark',\n",
    "        'France (Europe)':'France',\n",
    "        'Netherlands (Europe)':'Netherlands',\n",
    "        'United Kingdom (Europe)':'United Kingdom'}"
   ]
  },
  {
   "cell_type": "code",
   "execution_count": 9,
   "metadata": {},
   "outputs": [],
   "source": [
    "global_temp_country['Country'] = global_temp_country.Country.replace(dict)"
   ]
  },
  {
   "cell_type": "code",
   "execution_count": 10,
   "metadata": {},
   "outputs": [],
   "source": [
    "# mean temp by country"
   ]
  },
  {
   "cell_type": "code",
   "execution_count": 11,
   "metadata": {},
   "outputs": [],
   "source": [
    "temp_mean = global_temp_country.groupby('Country')['AverageTemperature'].mean().sort_values(ascending=False).reset_index()"
   ]
  },
  {
   "cell_type": "code",
   "execution_count": 12,
   "metadata": {},
   "outputs": [],
   "source": [
    "import plotly.express as px\n",
    "import chart_studio.plotly as py\n",
    "import plotly.graph_objs as go\n",
    "from plotly.offline import download_plotlyjs, init_notebook_mode, iplot, plot"
   ]
  },
  {
   "cell_type": "code",
   "execution_count": 13,
   "metadata": {},
   "outputs": [
    {
     "data": {
      "application/vnd.plotly.v1+json": {
       "config": {
        "plotlyServerURL": "https://plot.ly"
       },
       "data": [
        {
         "coloraxis": "coloraxis",
         "geo": "geo",
         "hovertemplate": "Country=%{location}<br>AverageTemperature=%{z}<extra></extra>",
         "locationmode": "country names",
         "locations": [
          "Djibouti",
          "Mali",
          "Burkina Faso",
          "Senegal",
          "Aruba",
          "United Arab Emirates",
          "Mauritania",
          "Gambia",
          "Niger",
          "Curaçao",
          "Palau",
          "Bonaire, Saint Eustatius And Saba",
          "Benin",
          "Palmyra Atoll",
          "Kingman Reef",
          "Chad",
          "Sudan",
          "Guam",
          "Northern Mariana Islands",
          "Sri Lanka",
          "Federated States Of Micronesia",
          "Oman",
          "Somalia",
          "Togo",
          "Eritrea",
          "Saint Vincent And The Grenadines",
          "Qatar",
          "Guinea Bissau",
          "Nigeria",
          "Grenada",
          "Seychelles",
          "Kiribati",
          "Cayman Islands",
          "Ghana",
          "Turks And Caicas Islands",
          "Cambodia",
          "Saint Lucia",
          "Solomon Islands",
          "American Samoa",
          "Saint Martin",
          "Sint Maarten",
          "Anguilla",
          "Saint Barthélemy",
          "Singapore",
          "Barbados",
          "Philippines",
          "Antigua And Barbuda",
          "Montserrat",
          "Mayotte",
          "Virgin Islands",
          "British Virgin Islands",
          "Samoa",
          "Guadeloupe",
          "Haiti",
          "Panama",
          "Yemen",
          "Suriname",
          "Trinidad And Tobago",
          "Martinique",
          "Dominica",
          "French Polynesia",
          "Jamaica",
          "Sierra Leone",
          "Thailand",
          "Timor Leste",
          "Nicaragua",
          "Côte D'Ivoire",
          "Guyana",
          "Bahrain",
          "Saint Kitts And Nevis",
          "Malaysia",
          "Sao Tome And Principe",
          "Christmas Island",
          "French Guiana",
          "Comoros",
          "Indonesia",
          "Costa Rica",
          "Dominican Republic",
          "Saudi Arabia",
          "Guinea",
          "Puerto Rico",
          "Cuba",
          "Liberia",
          "Baker Island",
          "Central African Republic",
          "Bahamas",
          "Kuwait",
          "Niue",
          "Belize",
          "Fiji",
          "Venezuela",
          "Equatorial Guinea",
          "El Salvador",
          "Bangladesh",
          "Colombia",
          "Brazil",
          "Honduras",
          "Congo",
          "Papua New Guinea",
          "Cameroon",
          "Gabon",
          "Cape Verde",
          "Kenya",
          "Africa",
          "India",
          "Congo (Democratic Republic Of The)",
          "Burma",
          "Vietnam",
          "Mozambique",
          "Laos",
          "Mauritius",
          "Reunion",
          "Paraguay",
          "Tonga",
          "Palestina",
          "Guatemala",
          "Uganda",
          "Ethiopia",
          "Algeria",
          "Madagascar",
          "New Caledonia",
          "Hong Kong",
          "Egypt",
          "Macau",
          "Tanzania",
          "Western Sahara",
          "Libya",
          "Taiwan",
          "Botswana",
          "Ecuador",
          "Angola",
          "South America",
          "Iraq",
          "Australia",
          "Oceania",
          "Malawi",
          "Zambia",
          "Zimbabwe",
          "Bolivia",
          "Pakistan",
          "Mexico",
          "Namibia",
          "Burundi",
          "Tunisia",
          "Peru",
          "Israel",
          "Jordan",
          "Rwanda",
          "Gaza Strip",
          "Swaziland",
          "Cyprus",
          "Malta",
          "Syria",
          "Lebanon",
          "Morocco",
          "Iran",
          "South Africa",
          "Uruguay",
          "Nepal",
          "Turkmenistan",
          "Greece",
          "Portugal",
          "Argentina",
          "Afghanistan",
          "San Marino",
          "Lesotho",
          "Spain",
          "Italy",
          "Albania",
          "Uzbekistan",
          "Japan",
          "South Korea",
          "Bhutan",
          "Turkey",
          "France",
          "Croatia",
          "Andorra",
          "Azerbaijan",
          "Guernsey",
          "Jersey",
          "Bulgaria",
          "Bosnia And Herzegovina",
          "Macedonia",
          "New Zealand",
          "Montenegro",
          "Serbia",
          "Hungary",
          "Slovenia",
          "Belgium",
          "Ireland",
          "Chile",
          "Isle Of Man",
          "Netherlands",
          "Luxembourg",
          "Monaco",
          "Moldova",
          "Romania",
          "United States",
          "United Kingdom",
          "Armenia",
          "Germany",
          "Georgia",
          "Europe",
          "Ukraine",
          "Czech Republic",
          "Slovakia",
          "Poland",
          "Asia",
          "Switzerland",
          "North Korea",
          "Faroe Islands",
          "China",
          "Austria",
          "Falkland Islands (Islas Malvinas)",
          "Lithuania",
          "Belarus",
          "Latvia",
          "Åland",
          "Kazakhstan",
          "French Southern And Antarctic Lands",
          "Estonia",
          "Liechtenstein",
          "Saint Pierre And Miquelon",
          "Tajikistan",
          "Kyrgyzstan",
          "Heard Island And Mcdonald Islands",
          "Sweden",
          "North America",
          "Iceland",
          "South Georgia And The South Sandwich Isla",
          "Finland",
          "Norway",
          "Mongolia",
          "Denmark",
          "Canada",
          "Russia",
          "Svalbard And Jan Mayen",
          "Greenland"
         ],
         "name": "",
         "type": "choropleth",
         "z": [
          28.8166025331725,
          28.44197657082002,
          28.083506760411034,
          27.967375,
          27.92039022051774,
          27.693994700582934,
          27.62025550435228,
          27.538551816239316,
          27.458972540045767,
          27.353414669223397,
          27.216379332477533,
          27.17329482262704,
          27.17199943181818,
          27.16345599489796,
          27.13303443877551,
          27.120466282420747,
          27.09335942857143,
          26.996834337349398,
          26.996834337349398,
          26.947687001594897,
          26.944357771260997,
          26.91686266589729,
          26.877085169743896,
          26.87178275666478,
          26.802653110047846,
          26.78944870565676,
          26.784996015936255,
          26.76136664885088,
          26.744708309122604,
          26.741952061361456,
          26.738423142370962,
          26.73686534779834,
          26.722504150283967,
          26.711013551665726,
          26.662733508082134,
          26.65685403576607,
          26.646838446788113,
          26.62503698979592,
          26.611965009208106,
          26.61049185043145,
          26.61049185043145,
          26.61049185043145,
          26.61049185043145,
          26.52310282651072,
          26.458547938638542,
          26.44047248677249,
          26.437924256951103,
          26.383128475551292,
          26.340961429381736,
          26.336523239099186,
          26.336523239099186,
          26.33186249232658,
          26.32956088207095,
          26.295837740923353,
          26.291620638085742,
          26.253596725288055,
          26.17166313763234,
          26.118751198465965,
          26.110151486097795,
          26.110151486097795,
          26.10709611829945,
          26.096339563862927,
          26.022571277159514,
          25.986800979519145,
          25.96633271832718,
          25.957508780036967,
          25.94853606027987,
          25.930920115495667,
          25.9308093346574,
          25.85218600191755,
          25.80544200779727,
          25.794386167146975,
          25.784654071314527,
          25.718151106833492,
          25.70220930232558,
          25.684483767961684,
          25.61578443420379,
          25.547511210762334,
          25.546407835258666,
          25.452353098290597,
          25.45196166746526,
          25.40742638706859,
          25.37773793103448,
          25.37235023279876,
          25.280406916426514,
          25.12822004008016,
          25.098140232108317,
          25.094878453038675,
          25.052099776286354,
          25.038671779141108,
          25.025685522531163,
          24.921677809798272,
          24.906704545454545,
          24.820242783708977,
          24.716870967741936,
          24.699255545286505,
          24.69554799459216,
          24.462931988472622,
          24.450801898734177,
          24.352585590778098,
          24.254725648414986,
          24.185563568376068,
          24.102428231089934,
          24.074202745512142,
          23.873789473684212,
          23.77366493955095,
          23.706197239536955,
          23.688365504061156,
          23.59619475878499,
          23.574696349065007,
          23.522653983353152,
          23.30140309155767,
          23.237967557251906,
          23.236247852760737,
          23.125663223140496,
          23.111650494159928,
          23.03296871378911,
          23.01235675997618,
          22.98511176905996,
          22.74904594441293,
          22.700108194965186,
          22.65989491362764,
          22.620693031209917,
          22.418374760076777,
          22.34791097178683,
          22.319817823343847,
          22.268253938484623,
          21.937427536231883,
          21.87929669156884,
          21.869970347003154,
          21.824549189814817,
          21.823920081967213,
          21.775628879310347,
          21.62469689119171,
          21.452989119170983,
          21.431086144578316,
          21.282955621301774,
          21.117547246376812,
          20.87723052631579,
          20.615513304305757,
          20.567558041958044,
          20.484495197438637,
          20.07099012775842,
          19.97059047314578,
          19.935974230044,
          19.62657730263158,
          19.346512587701195,
          19.244422183507552,
          19.192636960985627,
          18.839807261078484,
          18.787745686421605,
          18.494875319693094,
          17.917548596990645,
          17.63161773078487,
          17.627497409326423,
          17.607076451156207,
          17.27098291510945,
          17.149306774809162,
          14.8073906122449,
          14.781998181818182,
          14.773012002526848,
          14.688179987212276,
          14.621194210526316,
          14.045007194244604,
          13.83142229943146,
          13.726681793913508,
          13.61283417561592,
          12.737121920404297,
          12.610645925457991,
          12.278015938069217,
          11.951907335907336,
          11.849048745173745,
          11.811878969957082,
          11.631567300916139,
          11.594245735944408,
          11.342399873657612,
          11.201553063802905,
          11.175936074918567,
          10.928408717624762,
          10.928408717624762,
          10.482968414403032,
          10.421283954516742,
          10.375550852811118,
          10.371239107883817,
          10.214629500947568,
          9.986563171193936,
          9.722423246999368,
          9.659700568540746,
          9.483378395451673,
          9.419558433354391,
          9.383473684210525,
          9.365805432722679,
          9.308701831964624,
          9.165196462413139,
          9.024701831964624,
          8.9317166771952,
          8.76090176879343,
          8.60357252215955,
          8.572556696146558,
          8.551647926634768,
          8.152496209728364,
          8.106881895881896,
          7.830063802905875,
          7.653507264687303,
          7.62601926721415,
          7.527216993051168,
          7.46020593809223,
          7.3478922231614545,
          6.992051484523057,
          6.748336832061068,
          6.619001579279849,
          6.612731031349386,
          6.210731838281744,
          6.076773492667029,
          5.9079917877447885,
          5.819288060644346,
          5.320545167403664,
          5.291383449147189,
          5.202144758735441,
          4.9831111111111115,
          4.819805748578648,
          4.642939039797852,
          4.223059955113818,
          4.016035217794253,
          3.2204981651376143,
          2.5621149425287357,
          2.3863319646241314,
          2.0283738920225622,
          1.4050650663297535,
          1.4010251017639077,
          1.244742261528743,
          0.09580385344283004,
          -0.8206709844559585,
          -3.0265029336266958,
          -5.216658945686901,
          -5.521881912681913,
          -7.448027925531916,
          -18.58745804195804
         ]
        }
       ],
       "layout": {
        "coloraxis": {
         "colorbar": {
          "title": {
           "text": "AverageTemperature"
          }
         },
         "colorscale": [
          [
           0,
           "#0d0887"
          ],
          [
           0.1111111111111111,
           "#46039f"
          ],
          [
           0.2222222222222222,
           "#7201a8"
          ],
          [
           0.3333333333333333,
           "#9c179e"
          ],
          [
           0.4444444444444444,
           "#bd3786"
          ],
          [
           0.5555555555555556,
           "#d8576b"
          ],
          [
           0.6666666666666666,
           "#ed7953"
          ],
          [
           0.7777777777777778,
           "#fb9f3a"
          ],
          [
           0.8888888888888888,
           "#fdca26"
          ],
          [
           1,
           "#f0f921"
          ]
         ]
        },
        "geo": {
         "center": {},
         "domain": {
          "x": [
           0,
           1
          ],
          "y": [
           0,
           1
          ]
         }
        },
        "legend": {
         "tracegroupgap": 0
        },
        "margin": {
         "t": 60
        },
        "template": {
         "data": {
          "bar": [
           {
            "error_x": {
             "color": "#2a3f5f"
            },
            "error_y": {
             "color": "#2a3f5f"
            },
            "marker": {
             "line": {
              "color": "#E5ECF6",
              "width": 0.5
             },
             "pattern": {
              "fillmode": "overlay",
              "size": 10,
              "solidity": 0.2
             }
            },
            "type": "bar"
           }
          ],
          "barpolar": [
           {
            "marker": {
             "line": {
              "color": "#E5ECF6",
              "width": 0.5
             },
             "pattern": {
              "fillmode": "overlay",
              "size": 10,
              "solidity": 0.2
             }
            },
            "type": "barpolar"
           }
          ],
          "carpet": [
           {
            "aaxis": {
             "endlinecolor": "#2a3f5f",
             "gridcolor": "white",
             "linecolor": "white",
             "minorgridcolor": "white",
             "startlinecolor": "#2a3f5f"
            },
            "baxis": {
             "endlinecolor": "#2a3f5f",
             "gridcolor": "white",
             "linecolor": "white",
             "minorgridcolor": "white",
             "startlinecolor": "#2a3f5f"
            },
            "type": "carpet"
           }
          ],
          "choropleth": [
           {
            "colorbar": {
             "outlinewidth": 0,
             "ticks": ""
            },
            "type": "choropleth"
           }
          ],
          "contour": [
           {
            "colorbar": {
             "outlinewidth": 0,
             "ticks": ""
            },
            "colorscale": [
             [
              0,
              "#0d0887"
             ],
             [
              0.1111111111111111,
              "#46039f"
             ],
             [
              0.2222222222222222,
              "#7201a8"
             ],
             [
              0.3333333333333333,
              "#9c179e"
             ],
             [
              0.4444444444444444,
              "#bd3786"
             ],
             [
              0.5555555555555556,
              "#d8576b"
             ],
             [
              0.6666666666666666,
              "#ed7953"
             ],
             [
              0.7777777777777778,
              "#fb9f3a"
             ],
             [
              0.8888888888888888,
              "#fdca26"
             ],
             [
              1,
              "#f0f921"
             ]
            ],
            "type": "contour"
           }
          ],
          "contourcarpet": [
           {
            "colorbar": {
             "outlinewidth": 0,
             "ticks": ""
            },
            "type": "contourcarpet"
           }
          ],
          "heatmap": [
           {
            "colorbar": {
             "outlinewidth": 0,
             "ticks": ""
            },
            "colorscale": [
             [
              0,
              "#0d0887"
             ],
             [
              0.1111111111111111,
              "#46039f"
             ],
             [
              0.2222222222222222,
              "#7201a8"
             ],
             [
              0.3333333333333333,
              "#9c179e"
             ],
             [
              0.4444444444444444,
              "#bd3786"
             ],
             [
              0.5555555555555556,
              "#d8576b"
             ],
             [
              0.6666666666666666,
              "#ed7953"
             ],
             [
              0.7777777777777778,
              "#fb9f3a"
             ],
             [
              0.8888888888888888,
              "#fdca26"
             ],
             [
              1,
              "#f0f921"
             ]
            ],
            "type": "heatmap"
           }
          ],
          "heatmapgl": [
           {
            "colorbar": {
             "outlinewidth": 0,
             "ticks": ""
            },
            "colorscale": [
             [
              0,
              "#0d0887"
             ],
             [
              0.1111111111111111,
              "#46039f"
             ],
             [
              0.2222222222222222,
              "#7201a8"
             ],
             [
              0.3333333333333333,
              "#9c179e"
             ],
             [
              0.4444444444444444,
              "#bd3786"
             ],
             [
              0.5555555555555556,
              "#d8576b"
             ],
             [
              0.6666666666666666,
              "#ed7953"
             ],
             [
              0.7777777777777778,
              "#fb9f3a"
             ],
             [
              0.8888888888888888,
              "#fdca26"
             ],
             [
              1,
              "#f0f921"
             ]
            ],
            "type": "heatmapgl"
           }
          ],
          "histogram": [
           {
            "marker": {
             "pattern": {
              "fillmode": "overlay",
              "size": 10,
              "solidity": 0.2
             }
            },
            "type": "histogram"
           }
          ],
          "histogram2d": [
           {
            "colorbar": {
             "outlinewidth": 0,
             "ticks": ""
            },
            "colorscale": [
             [
              0,
              "#0d0887"
             ],
             [
              0.1111111111111111,
              "#46039f"
             ],
             [
              0.2222222222222222,
              "#7201a8"
             ],
             [
              0.3333333333333333,
              "#9c179e"
             ],
             [
              0.4444444444444444,
              "#bd3786"
             ],
             [
              0.5555555555555556,
              "#d8576b"
             ],
             [
              0.6666666666666666,
              "#ed7953"
             ],
             [
              0.7777777777777778,
              "#fb9f3a"
             ],
             [
              0.8888888888888888,
              "#fdca26"
             ],
             [
              1,
              "#f0f921"
             ]
            ],
            "type": "histogram2d"
           }
          ],
          "histogram2dcontour": [
           {
            "colorbar": {
             "outlinewidth": 0,
             "ticks": ""
            },
            "colorscale": [
             [
              0,
              "#0d0887"
             ],
             [
              0.1111111111111111,
              "#46039f"
             ],
             [
              0.2222222222222222,
              "#7201a8"
             ],
             [
              0.3333333333333333,
              "#9c179e"
             ],
             [
              0.4444444444444444,
              "#bd3786"
             ],
             [
              0.5555555555555556,
              "#d8576b"
             ],
             [
              0.6666666666666666,
              "#ed7953"
             ],
             [
              0.7777777777777778,
              "#fb9f3a"
             ],
             [
              0.8888888888888888,
              "#fdca26"
             ],
             [
              1,
              "#f0f921"
             ]
            ],
            "type": "histogram2dcontour"
           }
          ],
          "mesh3d": [
           {
            "colorbar": {
             "outlinewidth": 0,
             "ticks": ""
            },
            "type": "mesh3d"
           }
          ],
          "parcoords": [
           {
            "line": {
             "colorbar": {
              "outlinewidth": 0,
              "ticks": ""
             }
            },
            "type": "parcoords"
           }
          ],
          "pie": [
           {
            "automargin": true,
            "type": "pie"
           }
          ],
          "scatter": [
           {
            "fillpattern": {
             "fillmode": "overlay",
             "size": 10,
             "solidity": 0.2
            },
            "type": "scatter"
           }
          ],
          "scatter3d": [
           {
            "line": {
             "colorbar": {
              "outlinewidth": 0,
              "ticks": ""
             }
            },
            "marker": {
             "colorbar": {
              "outlinewidth": 0,
              "ticks": ""
             }
            },
            "type": "scatter3d"
           }
          ],
          "scattercarpet": [
           {
            "marker": {
             "colorbar": {
              "outlinewidth": 0,
              "ticks": ""
             }
            },
            "type": "scattercarpet"
           }
          ],
          "scattergeo": [
           {
            "marker": {
             "colorbar": {
              "outlinewidth": 0,
              "ticks": ""
             }
            },
            "type": "scattergeo"
           }
          ],
          "scattergl": [
           {
            "marker": {
             "colorbar": {
              "outlinewidth": 0,
              "ticks": ""
             }
            },
            "type": "scattergl"
           }
          ],
          "scattermapbox": [
           {
            "marker": {
             "colorbar": {
              "outlinewidth": 0,
              "ticks": ""
             }
            },
            "type": "scattermapbox"
           }
          ],
          "scatterpolar": [
           {
            "marker": {
             "colorbar": {
              "outlinewidth": 0,
              "ticks": ""
             }
            },
            "type": "scatterpolar"
           }
          ],
          "scatterpolargl": [
           {
            "marker": {
             "colorbar": {
              "outlinewidth": 0,
              "ticks": ""
             }
            },
            "type": "scatterpolargl"
           }
          ],
          "scatterternary": [
           {
            "marker": {
             "colorbar": {
              "outlinewidth": 0,
              "ticks": ""
             }
            },
            "type": "scatterternary"
           }
          ],
          "surface": [
           {
            "colorbar": {
             "outlinewidth": 0,
             "ticks": ""
            },
            "colorscale": [
             [
              0,
              "#0d0887"
             ],
             [
              0.1111111111111111,
              "#46039f"
             ],
             [
              0.2222222222222222,
              "#7201a8"
             ],
             [
              0.3333333333333333,
              "#9c179e"
             ],
             [
              0.4444444444444444,
              "#bd3786"
             ],
             [
              0.5555555555555556,
              "#d8576b"
             ],
             [
              0.6666666666666666,
              "#ed7953"
             ],
             [
              0.7777777777777778,
              "#fb9f3a"
             ],
             [
              0.8888888888888888,
              "#fdca26"
             ],
             [
              1,
              "#f0f921"
             ]
            ],
            "type": "surface"
           }
          ],
          "table": [
           {
            "cells": {
             "fill": {
              "color": "#EBF0F8"
             },
             "line": {
              "color": "white"
             }
            },
            "header": {
             "fill": {
              "color": "#C8D4E3"
             },
             "line": {
              "color": "white"
             }
            },
            "type": "table"
           }
          ]
         },
         "layout": {
          "annotationdefaults": {
           "arrowcolor": "#2a3f5f",
           "arrowhead": 0,
           "arrowwidth": 1
          },
          "autotypenumbers": "strict",
          "coloraxis": {
           "colorbar": {
            "outlinewidth": 0,
            "ticks": ""
           }
          },
          "colorscale": {
           "diverging": [
            [
             0,
             "#8e0152"
            ],
            [
             0.1,
             "#c51b7d"
            ],
            [
             0.2,
             "#de77ae"
            ],
            [
             0.3,
             "#f1b6da"
            ],
            [
             0.4,
             "#fde0ef"
            ],
            [
             0.5,
             "#f7f7f7"
            ],
            [
             0.6,
             "#e6f5d0"
            ],
            [
             0.7,
             "#b8e186"
            ],
            [
             0.8,
             "#7fbc41"
            ],
            [
             0.9,
             "#4d9221"
            ],
            [
             1,
             "#276419"
            ]
           ],
           "sequential": [
            [
             0,
             "#0d0887"
            ],
            [
             0.1111111111111111,
             "#46039f"
            ],
            [
             0.2222222222222222,
             "#7201a8"
            ],
            [
             0.3333333333333333,
             "#9c179e"
            ],
            [
             0.4444444444444444,
             "#bd3786"
            ],
            [
             0.5555555555555556,
             "#d8576b"
            ],
            [
             0.6666666666666666,
             "#ed7953"
            ],
            [
             0.7777777777777778,
             "#fb9f3a"
            ],
            [
             0.8888888888888888,
             "#fdca26"
            ],
            [
             1,
             "#f0f921"
            ]
           ],
           "sequentialminus": [
            [
             0,
             "#0d0887"
            ],
            [
             0.1111111111111111,
             "#46039f"
            ],
            [
             0.2222222222222222,
             "#7201a8"
            ],
            [
             0.3333333333333333,
             "#9c179e"
            ],
            [
             0.4444444444444444,
             "#bd3786"
            ],
            [
             0.5555555555555556,
             "#d8576b"
            ],
            [
             0.6666666666666666,
             "#ed7953"
            ],
            [
             0.7777777777777778,
             "#fb9f3a"
            ],
            [
             0.8888888888888888,
             "#fdca26"
            ],
            [
             1,
             "#f0f921"
            ]
           ]
          },
          "colorway": [
           "#636efa",
           "#EF553B",
           "#00cc96",
           "#ab63fa",
           "#FFA15A",
           "#19d3f3",
           "#FF6692",
           "#B6E880",
           "#FF97FF",
           "#FECB52"
          ],
          "font": {
           "color": "#2a3f5f"
          },
          "geo": {
           "bgcolor": "white",
           "lakecolor": "white",
           "landcolor": "#E5ECF6",
           "showlakes": true,
           "showland": true,
           "subunitcolor": "white"
          },
          "hoverlabel": {
           "align": "left"
          },
          "hovermode": "closest",
          "mapbox": {
           "style": "light"
          },
          "paper_bgcolor": "white",
          "plot_bgcolor": "#E5ECF6",
          "polar": {
           "angularaxis": {
            "gridcolor": "white",
            "linecolor": "white",
            "ticks": ""
           },
           "bgcolor": "#E5ECF6",
           "radialaxis": {
            "gridcolor": "white",
            "linecolor": "white",
            "ticks": ""
           }
          },
          "scene": {
           "xaxis": {
            "backgroundcolor": "#E5ECF6",
            "gridcolor": "white",
            "gridwidth": 2,
            "linecolor": "white",
            "showbackground": true,
            "ticks": "",
            "zerolinecolor": "white"
           },
           "yaxis": {
            "backgroundcolor": "#E5ECF6",
            "gridcolor": "white",
            "gridwidth": 2,
            "linecolor": "white",
            "showbackground": true,
            "ticks": "",
            "zerolinecolor": "white"
           },
           "zaxis": {
            "backgroundcolor": "#E5ECF6",
            "gridcolor": "white",
            "gridwidth": 2,
            "linecolor": "white",
            "showbackground": true,
            "ticks": "",
            "zerolinecolor": "white"
           }
          },
          "shapedefaults": {
           "line": {
            "color": "#2a3f5f"
           }
          },
          "ternary": {
           "aaxis": {
            "gridcolor": "white",
            "linecolor": "white",
            "ticks": ""
           },
           "baxis": {
            "gridcolor": "white",
            "linecolor": "white",
            "ticks": ""
           },
           "bgcolor": "#E5ECF6",
           "caxis": {
            "gridcolor": "white",
            "linecolor": "white",
            "ticks": ""
           }
          },
          "title": {
           "x": 0.05
          },
          "xaxis": {
           "automargin": true,
           "gridcolor": "white",
           "linecolor": "white",
           "ticks": "",
           "title": {
            "standoff": 15
           },
           "zerolinecolor": "white",
           "zerolinewidth": 2
          },
          "yaxis": {
           "automargin": true,
           "gridcolor": "white",
           "linecolor": "white",
           "ticks": "",
           "title": {
            "standoff": 15
           },
           "zerolinecolor": "white",
           "zerolinewidth": 2
          }
         }
        },
        "title": {
         "text": "Map of Mean Temperatures"
        }
       }
      }
     },
     "metadata": {},
     "output_type": "display_data"
    }
   ],
   "source": [
    "fig = px.choropleth(temp_mean, locations='Country', locationmode='country names', color='AverageTemperature')\n",
    "fig.update_layout(title='Map of Mean Temperatures')\n",
    "fig.show()"
   ]
  },
  {
   "cell_type": "code",
   "execution_count": 14,
   "metadata": {},
   "outputs": [],
   "source": [
    "# sort countries by the mean temperature and plot it"
   ]
  },
  {
   "cell_type": "code",
   "execution_count": 15,
   "metadata": {},
   "outputs": [
    {
     "data": {
      "text/html": [
       "<div>\n",
       "<style scoped>\n",
       "    .dataframe tbody tr th:only-of-type {\n",
       "        vertical-align: middle;\n",
       "    }\n",
       "\n",
       "    .dataframe tbody tr th {\n",
       "        vertical-align: top;\n",
       "    }\n",
       "\n",
       "    .dataframe thead th {\n",
       "        text-align: right;\n",
       "    }\n",
       "</style>\n",
       "<table border=\"1\" class=\"dataframe\">\n",
       "  <thead>\n",
       "    <tr style=\"text-align: right;\">\n",
       "      <th></th>\n",
       "      <th>Country</th>\n",
       "      <th>AverageTemperature</th>\n",
       "    </tr>\n",
       "  </thead>\n",
       "  <tbody>\n",
       "    <tr>\n",
       "      <th>0</th>\n",
       "      <td>Djibouti</td>\n",
       "      <td>28.816603</td>\n",
       "    </tr>\n",
       "    <tr>\n",
       "      <th>1</th>\n",
       "      <td>Mali</td>\n",
       "      <td>28.441977</td>\n",
       "    </tr>\n",
       "    <tr>\n",
       "      <th>2</th>\n",
       "      <td>Burkina Faso</td>\n",
       "      <td>28.083507</td>\n",
       "    </tr>\n",
       "    <tr>\n",
       "      <th>3</th>\n",
       "      <td>Senegal</td>\n",
       "      <td>27.967375</td>\n",
       "    </tr>\n",
       "    <tr>\n",
       "      <th>4</th>\n",
       "      <td>Aruba</td>\n",
       "      <td>27.920390</td>\n",
       "    </tr>\n",
       "    <tr>\n",
       "      <th>...</th>\n",
       "      <td>...</td>\n",
       "      <td>...</td>\n",
       "    </tr>\n",
       "    <tr>\n",
       "      <th>233</th>\n",
       "      <td>Denmark</td>\n",
       "      <td>-3.026503</td>\n",
       "    </tr>\n",
       "    <tr>\n",
       "      <th>234</th>\n",
       "      <td>Canada</td>\n",
       "      <td>-5.216659</td>\n",
       "    </tr>\n",
       "    <tr>\n",
       "      <th>235</th>\n",
       "      <td>Russia</td>\n",
       "      <td>-5.521882</td>\n",
       "    </tr>\n",
       "    <tr>\n",
       "      <th>236</th>\n",
       "      <td>Svalbard And Jan Mayen</td>\n",
       "      <td>-7.448028</td>\n",
       "    </tr>\n",
       "    <tr>\n",
       "      <th>237</th>\n",
       "      <td>Greenland</td>\n",
       "      <td>-18.587458</td>\n",
       "    </tr>\n",
       "  </tbody>\n",
       "</table>\n",
       "<p>238 rows × 2 columns</p>\n",
       "</div>"
      ],
      "text/plain": [
       "                    Country  AverageTemperature\n",
       "0                  Djibouti           28.816603\n",
       "1                      Mali           28.441977\n",
       "2              Burkina Faso           28.083507\n",
       "3                   Senegal           27.967375\n",
       "4                     Aruba           27.920390\n",
       "..                      ...                 ...\n",
       "233                 Denmark           -3.026503\n",
       "234                  Canada           -5.216659\n",
       "235                  Russia           -5.521882\n",
       "236  Svalbard And Jan Mayen           -7.448028\n",
       "237               Greenland          -18.587458\n",
       "\n",
       "[238 rows x 2 columns]"
      ]
     },
     "execution_count": 15,
     "metadata": {},
     "output_type": "execute_result"
    }
   ],
   "source": [
    "temp_mean"
   ]
  },
  {
   "cell_type": "code",
   "execution_count": 16,
   "metadata": {},
   "outputs": [
    {
     "data": {
      "text/plain": [
       "<Axes: xlabel='AverageTemperature', ylabel='Country'>"
      ]
     },
     "execution_count": 16,
     "metadata": {},
     "output_type": "execute_result"
    },
    {
     "data": {
      "image/png": "[encoded data removed]",
      "text/plain": [
       "<Figure size 640x480 with 1 Axes>"
      ]
     },
     "metadata": {},
     "output_type": "display_data"
    }
   ],
   "source": [
    "sns.barplot(data=temp_mean[0:20], x='AverageTemperature', y='Country')"
   ]
  },
  {
   "cell_type": "code",
   "execution_count": 17,
   "metadata": {},
   "outputs": [],
   "source": [
    "# is there any global warming?"
   ]
  },
  {
   "cell_type": "code",
   "execution_count": 18,
   "metadata": {},
   "outputs": [],
   "source": [
    "global_temp = pd.read_csv(r'2.Global Warming Analysis-20240729T113427Z-001\\2.Global Warming Analysis\\GlobalTemperatures.csv')"
   ]
  },
  {
   "cell_type": "code",
   "execution_count": 19,
   "metadata": {},
   "outputs": [
    {
     "data": {
      "text/html": [
       "<div>\n",
       "<style scoped>\n",
       "    .dataframe tbody tr th:only-of-type {\n",
       "        vertical-align: middle;\n",
       "    }\n",
       "\n",
       "    .dataframe tbody tr th {\n",
       "        vertical-align: top;\n",
       "    }\n",
       "\n",
       "    .dataframe thead th {\n",
       "        text-align: right;\n",
       "    }\n",
       "</style>\n",
       "<table border=\"1\" class=\"dataframe\">\n",
       "  <thead>\n",
       "    <tr style=\"text-align: right;\">\n",
       "      <th></th>\n",
       "      <th>dt</th>\n",
       "      <th>LandAverageTemperature</th>\n",
       "      <th>LandAverageTemperatureUncertainty</th>\n",
       "      <th>LandMaxTemperature</th>\n",
       "      <th>LandMaxTemperatureUncertainty</th>\n",
       "      <th>LandMinTemperature</th>\n",
       "      <th>LandMinTemperatureUncertainty</th>\n",
       "      <th>LandAndOceanAverageTemperature</th>\n",
       "      <th>LandAndOceanAverageTemperatureUncertainty</th>\n",
       "    </tr>\n",
       "  </thead>\n",
       "  <tbody>\n",
       "    <tr>\n",
       "      <th>0</th>\n",
       "      <td>1750-01-01</td>\n",
       "      <td>3.034</td>\n",
       "      <td>3.574</td>\n",
       "      <td>NaN</td>\n",
       "      <td>NaN</td>\n",
       "      <td>NaN</td>\n",
       "      <td>NaN</td>\n",
       "      <td>NaN</td>\n",
       "      <td>NaN</td>\n",
       "    </tr>\n",
       "    <tr>\n",
       "      <th>1</th>\n",
       "      <td>1750-02-01</td>\n",
       "      <td>3.083</td>\n",
       "      <td>3.702</td>\n",
       "      <td>NaN</td>\n",
       "      <td>NaN</td>\n",
       "      <td>NaN</td>\n",
       "      <td>NaN</td>\n",
       "      <td>NaN</td>\n",
       "      <td>NaN</td>\n",
       "    </tr>\n",
       "    <tr>\n",
       "      <th>2</th>\n",
       "      <td>1750-03-01</td>\n",
       "      <td>5.626</td>\n",
       "      <td>3.076</td>\n",
       "      <td>NaN</td>\n",
       "      <td>NaN</td>\n",
       "      <td>NaN</td>\n",
       "      <td>NaN</td>\n",
       "      <td>NaN</td>\n",
       "      <td>NaN</td>\n",
       "    </tr>\n",
       "    <tr>\n",
       "      <th>3</th>\n",
       "      <td>1750-04-01</td>\n",
       "      <td>8.490</td>\n",
       "      <td>2.451</td>\n",
       "      <td>NaN</td>\n",
       "      <td>NaN</td>\n",
       "      <td>NaN</td>\n",
       "      <td>NaN</td>\n",
       "      <td>NaN</td>\n",
       "      <td>NaN</td>\n",
       "    </tr>\n",
       "    <tr>\n",
       "      <th>4</th>\n",
       "      <td>1750-05-01</td>\n",
       "      <td>11.573</td>\n",
       "      <td>2.072</td>\n",
       "      <td>NaN</td>\n",
       "      <td>NaN</td>\n",
       "      <td>NaN</td>\n",
       "      <td>NaN</td>\n",
       "      <td>NaN</td>\n",
       "      <td>NaN</td>\n",
       "    </tr>\n",
       "  </tbody>\n",
       "</table>\n",
       "</div>"
      ],
      "text/plain": [
       "           dt  LandAverageTemperature  LandAverageTemperatureUncertainty  \\\n",
       "0  1750-01-01                   3.034                              3.574   \n",
       "1  1750-02-01                   3.083                              3.702   \n",
       "2  1750-03-01                   5.626                              3.076   \n",
       "3  1750-04-01                   8.490                              2.451   \n",
       "4  1750-05-01                  11.573                              2.072   \n",
       "\n",
       "   LandMaxTemperature  LandMaxTemperatureUncertainty  LandMinTemperature  \\\n",
       "0                 NaN                            NaN                 NaN   \n",
       "1                 NaN                            NaN                 NaN   \n",
       "2                 NaN                            NaN                 NaN   \n",
       "3                 NaN                            NaN                 NaN   \n",
       "4                 NaN                            NaN                 NaN   \n",
       "\n",
       "   LandMinTemperatureUncertainty  LandAndOceanAverageTemperature  \\\n",
       "0                            NaN                             NaN   \n",
       "1                            NaN                             NaN   \n",
       "2                            NaN                             NaN   \n",
       "3                            NaN                             NaN   \n",
       "4                            NaN                             NaN   \n",
       "\n",
       "   LandAndOceanAverageTemperatureUncertainty  \n",
       "0                                        NaN  \n",
       "1                                        NaN  \n",
       "2                                        NaN  \n",
       "3                                        NaN  \n",
       "4                                        NaN  "
      ]
     },
     "execution_count": 19,
     "metadata": {},
     "output_type": "execute_result"
    }
   ],
   "source": [
    "global_temp.head()"
   ]
  },
  {
   "cell_type": "code",
   "execution_count": 20,
   "metadata": {},
   "outputs": [
    {
     "data": {
      "text/plain": [
       "Index(['dt', 'LandAverageTemperature', 'LandAverageTemperatureUncertainty',\n",
       "       'LandMaxTemperature', 'LandMaxTemperatureUncertainty',\n",
       "       'LandMinTemperature', 'LandMinTemperatureUncertainty',\n",
       "       'LandAndOceanAverageTemperature',\n",
       "       'LandAndOceanAverageTemperatureUncertainty'],\n",
       "      dtype='object')"
      ]
     },
     "execution_count": 20,
     "metadata": {},
     "output_type": "execute_result"
    }
   ],
   "source": [
    "global_temp.columns"
   ]
  },
  {
   "cell_type": "code",
   "execution_count": 21,
   "metadata": {},
   "outputs": [
    {
     "data": {
      "text/plain": [
       "(3192, 9)"
      ]
     },
     "execution_count": 21,
     "metadata": {},
     "output_type": "execute_result"
    }
   ],
   "source": [
    "global_temp.shape"
   ]
  },
  {
   "cell_type": "code",
   "execution_count": 22,
   "metadata": {},
   "outputs": [
    {
     "data": {
      "text/plain": [
       "'1750'"
      ]
     },
     "execution_count": 22,
     "metadata": {},
     "output_type": "execute_result"
    }
   ],
   "source": [
    "global_temp.dt[0].split('-')[0]"
   ]
  },
  {
   "cell_type": "code",
   "execution_count": 23,
   "metadata": {},
   "outputs": [],
   "source": [
    "def fetchYear(date):\n",
    "    return date.split('-')[0]"
   ]
  },
  {
   "cell_type": "code",
   "execution_count": 24,
   "metadata": {},
   "outputs": [],
   "source": [
    "global_temp['year'] = global_temp.dt.apply(fetchYear)"
   ]
  },
  {
   "cell_type": "code",
   "execution_count": 25,
   "metadata": {},
   "outputs": [
    {
     "data": {
      "text/html": [
       "<div>\n",
       "<style scoped>\n",
       "    .dataframe tbody tr th:only-of-type {\n",
       "        vertical-align: middle;\n",
       "    }\n",
       "\n",
       "    .dataframe tbody tr th {\n",
       "        vertical-align: top;\n",
       "    }\n",
       "\n",
       "    .dataframe thead th {\n",
       "        text-align: right;\n",
       "    }\n",
       "</style>\n",
       "<table border=\"1\" class=\"dataframe\">\n",
       "  <thead>\n",
       "    <tr style=\"text-align: right;\">\n",
       "      <th></th>\n",
       "      <th>LandAverageTemperature</th>\n",
       "      <th>LandAverageTemperatureUncertainty</th>\n",
       "    </tr>\n",
       "    <tr>\n",
       "      <th>year</th>\n",
       "      <th></th>\n",
       "      <th></th>\n",
       "    </tr>\n",
       "  </thead>\n",
       "  <tbody>\n",
       "    <tr>\n",
       "      <th>1750</th>\n",
       "      <td>8.719364</td>\n",
       "      <td>2.637818</td>\n",
       "    </tr>\n",
       "    <tr>\n",
       "      <th>1751</th>\n",
       "      <td>7.976143</td>\n",
       "      <td>2.781143</td>\n",
       "    </tr>\n",
       "    <tr>\n",
       "      <th>1752</th>\n",
       "      <td>5.779833</td>\n",
       "      <td>2.977000</td>\n",
       "    </tr>\n",
       "    <tr>\n",
       "      <th>1753</th>\n",
       "      <td>8.388083</td>\n",
       "      <td>3.176000</td>\n",
       "    </tr>\n",
       "    <tr>\n",
       "      <th>1754</th>\n",
       "      <td>8.469333</td>\n",
       "      <td>3.494250</td>\n",
       "    </tr>\n",
       "    <tr>\n",
       "      <th>...</th>\n",
       "      <td>...</td>\n",
       "      <td>...</td>\n",
       "    </tr>\n",
       "    <tr>\n",
       "      <th>2011</th>\n",
       "      <td>9.516000</td>\n",
       "      <td>0.082000</td>\n",
       "    </tr>\n",
       "    <tr>\n",
       "      <th>2012</th>\n",
       "      <td>9.507333</td>\n",
       "      <td>0.083417</td>\n",
       "    </tr>\n",
       "    <tr>\n",
       "      <th>2013</th>\n",
       "      <td>9.606500</td>\n",
       "      <td>0.097667</td>\n",
       "    </tr>\n",
       "    <tr>\n",
       "      <th>2014</th>\n",
       "      <td>9.570667</td>\n",
       "      <td>0.090167</td>\n",
       "    </tr>\n",
       "    <tr>\n",
       "      <th>2015</th>\n",
       "      <td>9.831000</td>\n",
       "      <td>0.092167</td>\n",
       "    </tr>\n",
       "  </tbody>\n",
       "</table>\n",
       "<p>266 rows × 2 columns</p>\n",
       "</div>"
      ],
      "text/plain": [
       "      LandAverageTemperature  LandAverageTemperatureUncertainty\n",
       "year                                                           \n",
       "1750                8.719364                           2.637818\n",
       "1751                7.976143                           2.781143\n",
       "1752                5.779833                           2.977000\n",
       "1753                8.388083                           3.176000\n",
       "1754                8.469333                           3.494250\n",
       "...                      ...                                ...\n",
       "2011                9.516000                           0.082000\n",
       "2012                9.507333                           0.083417\n",
       "2013                9.606500                           0.097667\n",
       "2014                9.570667                           0.090167\n",
       "2015                9.831000                           0.092167\n",
       "\n",
       "[266 rows x 2 columns]"
      ]
     },
     "execution_count": 25,
     "metadata": {},
     "output_type": "execute_result"
    }
   ],
   "source": [
    "global_temp.groupby('year').agg({'LandAverageTemperature' : 'mean', 'LandAverageTemperatureUncertainty' : 'mean'})"
   ]
  },
  {
   "cell_type": "code",
   "execution_count": 26,
   "metadata": {},
   "outputs": [],
   "source": [
    "data = global_temp.groupby('year').agg({'LandAverageTemperature' : 'mean', 'LandAverageTemperatureUncertainty' : 'mean'}).reset_index()"
   ]
  },
  {
   "cell_type": "code",
   "execution_count": 27,
   "metadata": {},
   "outputs": [],
   "source": [
    "data['UncertaintyTop'] = data['LandAverageTemperature'] + data['LandAverageTemperatureUncertainty']\n",
    "data['UncertaintyBottom'] = data['LandAverageTemperature'] - data['LandAverageTemperatureUncertainty']"
   ]
  },
  {
   "cell_type": "code",
   "execution_count": 28,
   "metadata": {},
   "outputs": [
    {
     "data": {
      "text/html": [
       "<div>\n",
       "<style scoped>\n",
       "    .dataframe tbody tr th:only-of-type {\n",
       "        vertical-align: middle;\n",
       "    }\n",
       "\n",
       "    .dataframe tbody tr th {\n",
       "        vertical-align: top;\n",
       "    }\n",
       "\n",
       "    .dataframe thead th {\n",
       "        text-align: right;\n",
       "    }\n",
       "</style>\n",
       "<table border=\"1\" class=\"dataframe\">\n",
       "  <thead>\n",
       "    <tr style=\"text-align: right;\">\n",
       "      <th></th>\n",
       "      <th>year</th>\n",
       "      <th>LandAverageTemperature</th>\n",
       "      <th>LandAverageTemperatureUncertainty</th>\n",
       "      <th>UncertaintyTop</th>\n",
       "      <th>UncertaintyBottom</th>\n",
       "    </tr>\n",
       "  </thead>\n",
       "  <tbody>\n",
       "    <tr>\n",
       "      <th>0</th>\n",
       "      <td>1750</td>\n",
       "      <td>8.719364</td>\n",
       "      <td>2.637818</td>\n",
       "      <td>11.357182</td>\n",
       "      <td>6.081545</td>\n",
       "    </tr>\n",
       "    <tr>\n",
       "      <th>1</th>\n",
       "      <td>1751</td>\n",
       "      <td>7.976143</td>\n",
       "      <td>2.781143</td>\n",
       "      <td>10.757286</td>\n",
       "      <td>5.195000</td>\n",
       "    </tr>\n",
       "    <tr>\n",
       "      <th>2</th>\n",
       "      <td>1752</td>\n",
       "      <td>5.779833</td>\n",
       "      <td>2.977000</td>\n",
       "      <td>8.756833</td>\n",
       "      <td>2.802833</td>\n",
       "    </tr>\n",
       "    <tr>\n",
       "      <th>3</th>\n",
       "      <td>1753</td>\n",
       "      <td>8.388083</td>\n",
       "      <td>3.176000</td>\n",
       "      <td>11.564083</td>\n",
       "      <td>5.212083</td>\n",
       "    </tr>\n",
       "    <tr>\n",
       "      <th>4</th>\n",
       "      <td>1754</td>\n",
       "      <td>8.469333</td>\n",
       "      <td>3.494250</td>\n",
       "      <td>11.963583</td>\n",
       "      <td>4.975083</td>\n",
       "    </tr>\n",
       "  </tbody>\n",
       "</table>\n",
       "</div>"
      ],
      "text/plain": [
       "   year  LandAverageTemperature  LandAverageTemperatureUncertainty  \\\n",
       "0  1750                8.719364                           2.637818   \n",
       "1  1751                7.976143                           2.781143   \n",
       "2  1752                5.779833                           2.977000   \n",
       "3  1753                8.388083                           3.176000   \n",
       "4  1754                8.469333                           3.494250   \n",
       "\n",
       "   UncertaintyTop  UncertaintyBottom  \n",
       "0       11.357182           6.081545  \n",
       "1       10.757286           5.195000  \n",
       "2        8.756833           2.802833  \n",
       "3       11.564083           5.212083  \n",
       "4       11.963583           4.975083  "
      ]
     },
     "execution_count": 28,
     "metadata": {},
     "output_type": "execute_result"
    }
   ],
   "source": [
    "data.head()"
   ]
  },
  {
   "cell_type": "code",
   "execution_count": 29,
   "metadata": {},
   "outputs": [
    {
     "data": {
      "application/vnd.plotly.v1+json": {
       "config": {
        "plotlyServerURL": "https://plot.ly"
       },
       "data": [
        {
         "hovertemplate": "variable=UncertaintyTop<br>year=%{x}<br>value=%{y}<extra></extra>",
         "legendgroup": "UncertaintyTop",
         "line": {
          "color": "#636efa",
          "dash": "solid"
         },
         "marker": {
          "symbol": "circle"
         },
         "mode": "lines",
         "name": "UncertaintyTop",
         "orientation": "v",
         "showlegend": true,
         "type": "scatter",
         "x": [
          "1750",
          "1751",
          "1752",
          "1753",
          "1754",
          "1755",
          "1756",
          "1757",
          "1758",
          "1759",
          "1760",
          "1761",
          "1762",
          "1763",
          "1764",
          "1765",
          "1766",
          "1767",
          "1768",
          "1769",
          "1770",
          "1771",
          "1772",
          "1773",
          "1774",
          "1775",
          "1776",
          "1777",
          "1778",
          "1779",
          "1780",
          "1781",
          "1782",
          "1783",
          "1784",
          "1785",
          "1786",
          "1787",
          "1788",
          "1789",
          "1790",
          "1791",
          "1792",
          "1793",
          "1794",
          "1795",
          "1796",
          "1797",
          "1798",
          "1799",
          "1800",
          "1801",
          "1802",
          "1803",
          "1804",
          "1805",
          "1806",
          "1807",
          "1808",
          "1809",
          "1810",
          "1811",
          "1812",
          "1813",
          "1814",
          "1815",
          "1816",
          "1817",
          "1818",
          "1819",
          "1820",
          "1821",
          "1822",
          "1823",
          "1824",
          "1825",
          "1826",
          "1827",
          "1828",
          "1829",
          "1830",
          "1831",
          "1832",
          "1833",
          "1834",
          "1835",
          "1836",
          "1837",
          "1838",
          "1839",
          "1840",
          "1841",
          "1842",
          "1843",
          "1844",
          "1845",
          "1846",
          "1847",
          "1848",
          "1849",
          "1850",
          "1851",
          "1852",
          "1853",
          "1854",
          "1855",
          "1856",
          "1857",
          "1858",
          "1859",
          "1860",
          "1861",
          "1862",
          "1863",
          "1864",
          "1865",
          "1866",
          "1867",
          "1868",
          "1869",
          "1870",
          "1871",
          "1872",
          "1873",
          "1874",
          "1875",
          "1876",
          "1877",
          "1878",
          "1879",
          "1880",
          "1881",
          "1882",
          "1883",
          "1884",
          "1885",
          "1886",
          "1887",
          "1888",
          "1889",
          "1890",
          "1891",
          "1892",
          "1893",
          "1894",
          "1895",
          "1896",
          "1897",
          "1898",
          "1899",
          "1900",
          "1901",
          "1902",
          "1903",
          "1904",
          "1905",
          "1906",
          "1907",
          "1908",
          "1909",
          "1910",
          "1911",
          "1912",
          "1913",
          "1914",
          "1915",
          "1916",
          "1917",
          "1918",
          "1919",
          "1920",
          "1921",
          "1922",
          "1923",
          "1924",
          "1925",
          "1926",
          "1927",
          "1928",
          "1929",
          "1930",
          "1931",
          "1932",
          "1933",
          "1934",
          "1935",
          "1936",
          "1937",
          "1938",
          "1939",
          "1940",
          "1941",
          "1942",
          "1943",
          "1944",
          "1945",
          "1946",
          "1947",
          "1948",
          "1949",
          "1950",
          "1951",
          "1952",
          "1953",
          "1954",
          "1955",
          "1956",
          "1957",
          "1958",
          "1959",
          "1960",
          "1961",
          "1962",
          "1963",
          "1964",
          "1965",
          "1966",
          "1967",
          "1968",
          "1969",
          "1970",
          "1971",
          "1972",
          "1973",
          "1974",
          "1975",
          "1976",
          "1977",
          "1978",
          "1979",
          "1980",
          "1981",
          "1982",
          "1983",
          "1984",
          "1985",
          "1986",
          "1987",
          "1988",
          "1989",
          "1990",
          "1991",
          "1992",
          "1993",
          "1994",
          "1995",
          "1996",
          "1997",
          "1998",
          "1999",
          "2000",
          "2001",
          "2002",
          "2003",
          "2004",
          "2005",
          "2006",
          "2007",
          "2008",
          "2009",
          "2010",
          "2011",
          "2012",
          "2013",
          "2014",
          "2015"
         ],
         "xaxis": "x",
         "y": [
          11.357181818181818,
          10.757285714285715,
          8.756833333333333,
          11.564083333333333,
          11.963583333333332,
          12.205916666666667,
          12.111916666666666,
          13.048,
          10.1065,
          11.664,
          10.274083333333333,
          11.917333333333332,
          12.13075,
          10.648333333333333,
          11.175583333333334,
          10.679666666666666,
          11.2415,
          11.184166666666668,
          9.047333333333334,
          10.104666666666667,
          10.472583333333333,
          10.45775,
          10.657333333333334,
          10.58225,
          12.187333333333333,
          11.503666666666668,
          11.168166666666666,
          10.699083333333332,
          11.414750000000002,
          11.489083333333333,
          12.01775,
          10.606416666666666,
          10.451833333333333,
          10.17525,
          10.117666666666665,
          9.6025,
          10.783583333333333,
          10.393583333333334,
          11.004999999999999,
          10.202833333333333,
          9.754,
          10.018,
          9.789416666666668,
          10.503583333333333,
          10.505000000000003,
          10.393666666666666,
          10.191666666666666,
          10.55625,
          10.573583333333335,
          10.244166666666668,
          10.202916666666669,
          10.171333333333333,
          10.427166666666666,
          10.136166666666666,
          10.686666666666666,
          10.251666666666665,
          10.004166666666666,
          9.873666666666667,
          9.623666666666667,
          9.211833333333333,
          9.233666666666668,
          8.955250000000001,
          9.181833333333334,
          9.44875,
          9.76025,
          9.205833333333334,
          9.130416666666667,
          8.684,
          9.658000000000001,
          8.951083333333333,
          9.235,
          9.465916666666669,
          9.563583333333334,
          9.080916666666667,
          9.995000000000001,
          9.897166666666667,
          9.916166666666665,
          10.252333333333333,
          9.813749999999999,
          9.261583333333332,
          9.948166666666667,
          9.170666666666667,
          8.990583333333333,
          9.2465,
          9.299,
          8.667833333333332,
          8.86525,
          8.666583333333334,
          8.67725,
          8.811666666666667,
          8.787416666666667,
          8.640166666666666,
          8.92025,
          8.9235,
          8.572333333333333,
          8.732666666666667,
          9.6045,
          8.986666666666666,
          8.850833333333332,
          8.898,
          8.777083333333334,
          9.060500000000001,
          9.018416666666667,
          8.876833333333334,
          9.036166666666666,
          8.997916666666667,
          8.756666666666666,
          8.50925,
          8.8,
          8.926666666666668,
          8.586833333333333,
          8.499916666666666,
          8.2475,
          8.859833333333333,
          8.66,
          8.84,
          8.898166666666667,
          9.071166666666667,
          8.79425,
          9.02775,
          8.7515,
          8.685333333333332,
          8.782916666666665,
          8.901583333333333,
          8.951416666666667,
          8.311083333333332,
          8.513583333333333,
          8.9955,
          9.254666666666665,
          8.62925,
          8.533666666666667,
          8.690249999999999,
          8.508833333333333,
          8.347583333333333,
          8.169916666666666,
          8.344666666666667,
          8.3405,
          8.307,
          8.472916666666666,
          8.688833333333335,
          8.314666666666668,
          8.354666666666667,
          8.404666666666666,
          8.402,
          8.47825,
          8.446250000000001,
          8.523750000000001,
          8.607166666666666,
          8.503666666666666,
          8.721083333333333,
          8.816333333333334,
          8.848166666666668,
          8.597166666666666,
          8.510166666666665,
          8.377333333333333,
          8.503916666666667,
          8.653999999999998,
          8.204333333333334,
          8.460833333333333,
          8.441,
          8.483083333333335,
          8.424833333333332,
          8.423833333333334,
          8.56,
          8.842416666666667,
          8.839333333333334,
          8.485666666666667,
          8.284,
          8.399083333333333,
          8.649000000000001,
          8.621416666666665,
          8.827833333333333,
          8.666583333333334,
          8.67525,
          8.763666666666667,
          8.775166666666667,
          8.971499999999999,
          8.770999999999999,
          8.880749999999999,
          8.494166666666667,
          8.873249999999999,
          8.957,
          8.954166666666666,
          8.580916666666667,
          8.868416666666667,
          8.751666666666667,
          8.797083333333333,
          8.938416666666665,
          9.104166666666668,
          8.997666666666667,
          8.995750000000001,
          8.9965,
          8.957916666666666,
          8.981666666666667,
          9.070166666666667,
          8.805166666666667,
          8.899333333333333,
          9.014166666666666,
          8.956333333333333,
          8.795,
          8.551583333333335,
          8.809833333333334,
          8.847000000000001,
          9.085833333333333,
          8.747833333333332,
          8.779833333333334,
          8.400416666666667,
          8.8905,
          8.878083333333333,
          8.839833333333333,
          8.67725,
          8.894666666666666,
          8.878833333333333,
          8.948333333333332,
          8.502166666666666,
          8.636249999999999,
          8.691583333333332,
          8.78375,
          8.628,
          8.68025,
          8.776499999999999,
          8.697166666666666,
          8.594916666666666,
          9.049,
          8.572,
          8.841916666666668,
          8.447833333333334,
          8.934916666666668,
          8.796583333333334,
          8.819833333333333,
          9.087,
          9.253083333333333,
          8.721833333333333,
          9.122166666666665,
          8.794416666666667,
          8.751249999999999,
          8.918583333333334,
          9.079583333333332,
          9.281666666666666,
          9.009999999999998,
          9.320500000000001,
          9.2415,
          8.919916666666667,
          8.947916666666666,
          9.109666666666667,
          9.4235,
          9.123666666666667,
          9.291166666666667,
          9.596583333333335,
          9.364333333333335,
          9.284666666666668,
          9.501999999999999,
          9.642833333333334,
          9.61625,
          9.408,
          9.776083333333332,
          9.6225,
          9.821666666666665,
          9.510666666666665,
          9.591166666666666,
          9.7865,
          9.598,
          9.59075,
          9.704166666666667,
          9.660833333333333,
          9.923166666666667
         ],
         "yaxis": "y"
        },
        {
         "hovertemplate": "variable=UncertaintyBottom<br>year=%{x}<br>value=%{y}<extra></extra>",
         "legendgroup": "UncertaintyBottom",
         "line": {
          "color": "#EF553B",
          "dash": "solid"
         },
         "marker": {
          "symbol": "circle"
         },
         "mode": "lines",
         "name": "UncertaintyBottom",
         "orientation": "v",
         "showlegend": true,
         "type": "scatter",
         "x": [
          "1750",
          "1751",
          "1752",
          "1753",
          "1754",
          "1755",
          "1756",
          "1757",
          "1758",
          "1759",
          "1760",
          "1761",
          "1762",
          "1763",
          "1764",
          "1765",
          "1766",
          "1767",
          "1768",
          "1769",
          "1770",
          "1771",
          "1772",
          "1773",
          "1774",
          "1775",
          "1776",
          "1777",
          "1778",
          "1779",
          "1780",
          "1781",
          "1782",
          "1783",
          "1784",
          "1785",
          "1786",
          "1787",
          "1788",
          "1789",
          "1790",
          "1791",
          "1792",
          "1793",
          "1794",
          "1795",
          "1796",
          "1797",
          "1798",
          "1799",
          "1800",
          "1801",
          "1802",
          "1803",
          "1804",
          "1805",
          "1806",
          "1807",
          "1808",
          "1809",
          "1810",
          "1811",
          "1812",
          "1813",
          "1814",
          "1815",
          "1816",
          "1817",
          "1818",
          "1819",
          "1820",
          "1821",
          "1822",
          "1823",
          "1824",
          "1825",
          "1826",
          "1827",
          "1828",
          "1829",
          "1830",
          "1831",
          "1832",
          "1833",
          "1834",
          "1835",
          "1836",
          "1837",
          "1838",
          "1839",
          "1840",
          "1841",
          "1842",
          "1843",
          "1844",
          "1845",
          "1846",
          "1847",
          "1848",
          "1849",
          "1850",
          "1851",
          "1852",
          "1853",
          "1854",
          "1855",
          "1856",
          "1857",
          "1858",
          "1859",
          "1860",
          "1861",
          "1862",
          "1863",
          "1864",
          "1865",
          "1866",
          "1867",
          "1868",
          "1869",
          "1870",
          "1871",
          "1872",
          "1873",
          "1874",
          "1875",
          "1876",
          "1877",
          "1878",
          "1879",
          "1880",
          "1881",
          "1882",
          "1883",
          "1884",
          "1885",
          "1886",
          "1887",
          "1888",
          "1889",
          "1890",
          "1891",
          "1892",
          "1893",
          "1894",
          "1895",
          "1896",
          "1897",
          "1898",
          "1899",
          "1900",
          "1901",
          "1902",
          "1903",
          "1904",
          "1905",
          "1906",
          "1907",
          "1908",
          "1909",
          "1910",
          "1911",
          "1912",
          "1913",
          "1914",
          "1915",
          "1916",
          "1917",
          "1918",
          "1919",
          "1920",
          "1921",
          "1922",
          "1923",
          "1924",
          "1925",
          "1926",
          "1927",
          "1928",
          "1929",
          "1930",
          "1931",
          "1932",
          "1933",
          "1934",
          "1935",
          "1936",
          "1937",
          "1938",
          "1939",
          "1940",
          "1941",
          "1942",
          "1943",
          "1944",
          "1945",
          "1946",
          "1947",
          "1948",
          "1949",
          "1950",
          "1951",
          "1952",
          "1953",
          "1954",
          "1955",
          "1956",
          "1957",
          "1958",
          "1959",
          "1960",
          "1961",
          "1962",
          "1963",
          "1964",
          "1965",
          "1966",
          "1967",
          "1968",
          "1969",
          "1970",
          "1971",
          "1972",
          "1973",
          "1974",
          "1975",
          "1976",
          "1977",
          "1978",
          "1979",
          "1980",
          "1981",
          "1982",
          "1983",
          "1984",
          "1985",
          "1986",
          "1987",
          "1988",
          "1989",
          "1990",
          "1991",
          "1992",
          "1993",
          "1994",
          "1995",
          "1996",
          "1997",
          "1998",
          "1999",
          "2000",
          "2001",
          "2002",
          "2003",
          "2004",
          "2005",
          "2006",
          "2007",
          "2008",
          "2009",
          "2010",
          "2011",
          "2012",
          "2013",
          "2014",
          "2015"
         ],
         "xaxis": "x",
         "y": [
          6.081545454545456,
          5.194999999999999,
          2.802833333333333,
          5.212083333333332,
          4.975083333333334,
          4.50525,
          5.587250000000001,
          4.996,
          3.3806666666666665,
          4.306166666666666,
          4.0962499999999995,
          5.627666666666666,
          5.08225,
          4.345166666666666,
          5.625083333333334,
          5.824166666666667,
          5.569833333333333,
          5.2588333333333335,
          4.515333333333333,
          5.2844999999999995,
          4.91125,
          5.248583333333333,
          5.729666666666667,
          5.860750000000001,
          5.357000000000001,
          6.862500000000001,
          5.439833333333334,
          5.813416666666667,
          5.6697500000000005,
          6.477416666666667,
          6.8480833333333315,
          5.598750000000001,
          5.350666666666667,
          5.186416666666666,
          5.606333333333333,
          5.1235,
          5.732749999999999,
          5.6700833333333325,
          5.889333333333333,
          6.4655,
          6.210666666666667,
          6.450500000000001,
          6.388583333333334,
          5.954749999999999,
          6.5470000000000015,
          6.307,
          6.3503333333333325,
          6.4649166666666655,
          6.766916666666668,
          6.767333333333334,
          6.765583333333335,
          7.007999999999999,
          6.729166666666666,
          6.869833333333333,
          7.002999999999998,
          6.873833333333333,
          6.864,
          6.689166666666667,
          5.63,
          4.941000000000001,
          4.611666666666667,
          4.76375,
          4.910666666666666,
          6.031083333333333,
          5.42325,
          5.272833333333334,
          4.744583333333333,
          5.267333333333333,
          5.999833333333334,
          5.787249999999999,
          5.9975,
          6.714250000000001,
          6.813083333333334,
          6.356416666666666,
          7.099333333333334,
          6.8815,
          6.797,
          7.365166666666666,
          6.516916666666666,
          6.622083333333332,
          7.085333333333334,
          6.107666666666667,
          5.909750000000001,
          6.7795,
          6.994499999999999,
          6.117166666666666,
          6.526416666666667,
          6.08475,
          6.3525833333333335,
          6.452833333333333,
          6.805083333333334,
          6.736166666666667,
          7.12525,
          7.423833333333334,
          6.7203333333333335,
          6.969666666666667,
          7.5009999999999994,
          7.185333333333333,
          7.108166666666666,
          7.070833333333334,
          7.02425,
          7.296666666666667,
          7.181916666666666,
          7.206833333333333,
          7.384833333333333,
          7.223583333333333,
          7.235166666666666,
          7.007083333333334,
          7.400500000000001,
          7.577333333333334,
          7.334833333333333,
          7.193083333333333,
          6.869666666666667,
          7.363833333333333,
          7.307166666666666,
          7.515666666666667,
          7.686166666666667,
          7.801500000000001,
          7.701583333333334,
          7.836416666666667,
          7.651166666666666,
          7.544833333333333,
          7.604749999999999,
          7.800583333333334,
          7.915583333333334,
          7.408083333333333,
          7.646583333333332,
          8.083666666666666,
          8.404833333333332,
          7.702416666666667,
          7.703833333333334,
          7.851583333333333,
          7.7490000000000006,
          7.60625,
          7.377416666666666,
          7.494666666666667,
          7.5685,
          7.522833333333333,
          7.708083333333334,
          7.949166666666668,
          7.628666666666667,
          7.684,
          7.7269999999999985,
          7.711499999999999,
          7.84375,
          7.8477500000000004,
          7.906083333333334,
          7.9795,
          7.852333333333332,
          8.071583333333333,
          8.186833333333334,
          8.235666666666667,
          8.011666666666667,
          7.930166666666666,
          7.8045,
          7.946416666666667,
          8.104166666666666,
          7.69,
          7.911333333333334,
          7.915500000000001,
          7.9629166666666675,
          7.929166666666666,
          7.907000000000001,
          8.0355,
          8.338583333333334,
          8.347,
          7.964833333333334,
          7.762666666666667,
          7.862583333333333,
          8.1155,
          8.096083333333333,
          8.314166666666667,
          8.149416666666665,
          8.169083333333335,
          8.250000000000002,
          8.293666666666667,
          8.486166666666666,
          8.273166666666667,
          8.383583333333334,
          7.990666666666667,
          8.393916666666666,
          8.4815,
          8.456333333333333,
          8.095583333333334,
          8.388250000000001,
          8.279833333333334,
          8.310916666666667,
          8.45825,
          8.623166666666666,
          8.523,
          8.533583333333333,
          8.540833333333333,
          8.498916666666666,
          8.5285,
          8.619833333333334,
          8.364500000000001,
          8.454500000000001,
          8.58,
          8.537166666666668,
          8.3785,
          8.178916666666668,
          8.441500000000001,
          8.4295,
          8.661666666666665,
          8.3735,
          8.472666666666667,
          8.15875,
          8.5745,
          8.669416666666667,
          8.6255,
          8.49025,
          8.700666666666667,
          8.613,
          8.763666666666667,
          8.317166666666667,
          8.418583333333332,
          8.507083333333332,
          8.616416666666668,
          8.404666666666667,
          8.509916666666667,
          8.625333333333334,
          8.501333333333333,
          8.404250000000001,
          8.8475,
          8.363,
          8.64775,
          8.246666666666668,
          8.765583333333334,
          8.588916666666666,
          8.647,
          8.873666666666665,
          9.078583333333334,
          8.5565,
          8.934166666666666,
          8.58925,
          8.56475,
          8.748583333333332,
          8.90925,
          9.121500000000001,
          8.834,
          9.147833333333333,
          9.117333333333333,
          8.75325,
          8.78525,
          8.967833333333333,
          9.270666666666667,
          8.954166666666667,
          9.113999999999999,
          9.44875,
          9.205833333333334,
          9.117666666666667,
          9.327166666666667,
          9.498,
          9.434916666666666,
          9.241166666666667,
          9.62575,
          9.4425,
          9.642666666666667,
          9.352833333333333,
          9.419333333333334,
          9.619666666666667,
          9.434,
          9.423916666666667,
          9.508833333333333,
          9.4805,
          9.738833333333332
         ],
         "yaxis": "y"
        },
        {
         "hovertemplate": "variable=LandAverageTemperature<br>year=%{x}<br>value=%{y}<extra></extra>",
         "legendgroup": "LandAverageTemperature",
         "line": {
          "color": "#00cc96",
          "dash": "solid"
         },
         "marker": {
          "symbol": "circle"
         },
         "mode": "lines",
         "name": "LandAverageTemperature",
         "orientation": "v",
         "showlegend": true,
         "type": "scatter",
         "x": [
          "1750",
          "1751",
          "1752",
          "1753",
          "1754",
          "1755",
          "1756",
          "1757",
          "1758",
          "1759",
          "1760",
          "1761",
          "1762",
          "1763",
          "1764",
          "1765",
          "1766",
          "1767",
          "1768",
          "1769",
          "1770",
          "1771",
          "1772",
          "1773",
          "1774",
          "1775",
          "1776",
          "1777",
          "1778",
          "1779",
          "1780",
          "1781",
          "1782",
          "1783",
          "1784",
          "1785",
          "1786",
          "1787",
          "1788",
          "1789",
          "1790",
          "1791",
          "1792",
          "1793",
          "1794",
          "1795",
          "1796",
          "1797",
          "1798",
          "1799",
          "1800",
          "1801",
          "1802",
          "1803",
          "1804",
          "1805",
          "1806",
          "1807",
          "1808",
          "1809",
          "1810",
          "1811",
          "1812",
          "1813",
          "1814",
          "1815",
          "1816",
          "1817",
          "1818",
          "1819",
          "1820",
          "1821",
          "1822",
          "1823",
          "1824",
          "1825",
          "1826",
          "1827",
          "1828",
          "1829",
          "1830",
          "1831",
          "1832",
          "1833",
          "1834",
          "1835",
          "1836",
          "1837",
          "1838",
          "1839",
          "1840",
          "1841",
          "1842",
          "1843",
          "1844",
          "1845",
          "1846",
          "1847",
          "1848",
          "1849",
          "1850",
          "1851",
          "1852",
          "1853",
          "1854",
          "1855",
          "1856",
          "1857",
          "1858",
          "1859",
          "1860",
          "1861",
          "1862",
          "1863",
          "1864",
          "1865",
          "1866",
          "1867",
          "1868",
          "1869",
          "1870",
          "1871",
          "1872",
          "1873",
          "1874",
          "1875",
          "1876",
          "1877",
          "1878",
          "1879",
          "1880",
          "1881",
          "1882",
          "1883",
          "1884",
          "1885",
          "1886",
          "1887",
          "1888",
          "1889",
          "1890",
          "1891",
          "1892",
          "1893",
          "1894",
          "1895",
          "1896",
          "1897",
          "1898",
          "1899",
          "1900",
          "1901",
          "1902",
          "1903",
          "1904",
          "1905",
          "1906",
          "1907",
          "1908",
          "1909",
          "1910",
          "1911",
          "1912",
          "1913",
          "1914",
          "1915",
          "1916",
          "1917",
          "1918",
          "1919",
          "1920",
          "1921",
          "1922",
          "1923",
          "1924",
          "1925",
          "1926",
          "1927",
          "1928",
          "1929",
          "1930",
          "1931",
          "1932",
          "1933",
          "1934",
          "1935",
          "1936",
          "1937",
          "1938",
          "1939",
          "1940",
          "1941",
          "1942",
          "1943",
          "1944",
          "1945",
          "1946",
          "1947",
          "1948",
          "1949",
          "1950",
          "1951",
          "1952",
          "1953",
          "1954",
          "1955",
          "1956",
          "1957",
          "1958",
          "1959",
          "1960",
          "1961",
          "1962",
          "1963",
          "1964",
          "1965",
          "1966",
          "1967",
          "1968",
          "1969",
          "1970",
          "1971",
          "1972",
          "1973",
          "1974",
          "1975",
          "1976",
          "1977",
          "1978",
          "1979",
          "1980",
          "1981",
          "1982",
          "1983",
          "1984",
          "1985",
          "1986",
          "1987",
          "1988",
          "1989",
          "1990",
          "1991",
          "1992",
          "1993",
          "1994",
          "1995",
          "1996",
          "1997",
          "1998",
          "1999",
          "2000",
          "2001",
          "2002",
          "2003",
          "2004",
          "2005",
          "2006",
          "2007",
          "2008",
          "2009",
          "2010",
          "2011",
          "2012",
          "2013",
          "2014",
          "2015"
         ],
         "xaxis": "x",
         "y": [
          8.719363636363637,
          7.9761428571428565,
          5.779833333333333,
          8.388083333333332,
          8.469333333333333,
          8.355583333333334,
          8.849583333333333,
          9.022,
          6.7435833333333335,
          7.985083333333333,
          7.1851666666666665,
          8.772499999999999,
          8.6065,
          7.49675,
          8.400333333333334,
          8.251916666666666,
          8.405666666666667,
          8.2215,
          6.781333333333333,
          7.694583333333333,
          7.691916666666667,
          7.853166666666667,
          8.1935,
          8.2215,
          8.772166666666667,
          9.183083333333334,
          8.304,
          8.25625,
          8.542250000000001,
          8.98325,
          9.432916666666666,
          8.102583333333333,
          7.90125,
          7.680833333333333,
          7.861999999999999,
          7.3629999999999995,
          8.258166666666666,
          8.031833333333333,
          8.447166666666666,
          8.334166666666667,
          7.982333333333333,
          8.234250000000001,
          8.089,
          8.229166666666666,
          8.526000000000002,
          8.350333333333333,
          8.270999999999999,
          8.510583333333333,
          8.670250000000001,
          8.50575,
          8.484250000000001,
          8.589666666666666,
          8.578166666666666,
          8.503,
          8.844833333333332,
          8.56275,
          8.434083333333334,
          8.281416666666667,
          7.626833333333333,
          7.076416666666667,
          6.922666666666667,
          6.859500000000001,
          7.04625,
          7.739916666666667,
          7.59175,
          7.239333333333334,
          6.9375,
          6.975666666666666,
          7.828916666666667,
          7.369166666666666,
          7.61625,
          8.090083333333334,
          8.188333333333334,
          7.718666666666667,
          8.547166666666667,
          8.389333333333333,
          8.356583333333333,
          8.80875,
          8.165333333333333,
          7.941833333333332,
          8.51675,
          7.639166666666667,
          7.450166666666667,
          8.013,
          8.146749999999999,
          7.392499999999999,
          7.695833333333334,
          7.375666666666667,
          7.514916666666667,
          7.63225,
          7.796250000000001,
          7.688166666666667,
          8.02275,
          8.173666666666668,
          7.646333333333334,
          7.851166666666667,
          8.55275,
          8.086,
          7.979499999999999,
          7.984416666666667,
          7.900666666666667,
          8.178583333333334,
          8.100166666666667,
          8.041833333333333,
          8.2105,
          8.11075,
          7.995916666666666,
          7.758166666666667,
          8.10025,
          8.252,
          7.960833333333333,
          7.8465,
          7.558583333333334,
          8.111833333333333,
          7.983583333333333,
          8.177833333333334,
          8.292166666666667,
          8.436333333333334,
          8.247916666666667,
          8.432083333333333,
          8.201333333333332,
          8.115083333333333,
          8.193833333333332,
          8.351083333333333,
          8.4335,
          7.859583333333333,
          8.080083333333333,
          8.539583333333333,
          8.829749999999999,
          8.165833333333333,
          8.11875,
          8.270916666666666,
          8.128916666666667,
          7.976916666666667,
          7.773666666666666,
          7.919666666666667,
          7.9545,
          7.914916666666667,
          8.0905,
          8.319,
          7.971666666666667,
          8.019333333333334,
          8.065833333333332,
          8.05675,
          8.161,
          8.147,
          8.214916666666667,
          8.293333333333333,
          8.177999999999999,
          8.396333333333333,
          8.501583333333334,
          8.541916666666667,
          8.304416666666667,
          8.220166666666666,
          8.090916666666667,
          8.225166666666667,
          8.379083333333332,
          7.947166666666667,
          8.186083333333334,
          8.17825,
          8.223,
          8.177,
          8.165416666666667,
          8.29775,
          8.5905,
          8.593166666666667,
          8.22525,
          8.023333333333333,
          8.130833333333333,
          8.38225,
          8.358749999999999,
          8.571,
          8.408,
          8.422166666666667,
          8.506833333333335,
          8.534416666666667,
          8.728833333333332,
          8.522083333333333,
          8.632166666666667,
          8.242416666666667,
          8.633583333333332,
          8.71925,
          8.70525,
          8.33825,
          8.628333333333334,
          8.51575,
          8.554,
          8.698333333333332,
          8.863666666666667,
          8.760333333333334,
          8.764666666666667,
          8.768666666666666,
          8.728416666666666,
          8.755083333333333,
          8.845,
          8.584833333333334,
          8.676916666666667,
          8.797083333333333,
          8.74675,
          8.58675,
          8.365250000000001,
          8.625666666666667,
          8.638250000000001,
          8.87375,
          8.560666666666666,
          8.62625,
          8.279583333333333,
          8.7325,
          8.77375,
          8.732666666666667,
          8.58375,
          8.797666666666666,
          8.745916666666666,
          8.856,
          8.409666666666666,
          8.527416666666666,
          8.599333333333332,
          8.700083333333334,
          8.516333333333334,
          8.595083333333333,
          8.700916666666666,
          8.59925,
          8.499583333333334,
          8.94825,
          8.4675,
          8.744833333333334,
          8.34725,
          8.85025,
          8.69275,
          8.733416666666667,
          8.980333333333332,
          9.165833333333333,
          8.639166666666666,
          9.028166666666666,
          8.691833333333333,
          8.658,
          8.833583333333333,
          8.994416666666666,
          9.201583333333334,
          8.921999999999999,
          9.234166666666667,
          9.179416666666667,
          8.836583333333333,
          8.866583333333333,
          9.03875,
          9.347083333333334,
          9.038916666666667,
          9.202583333333333,
          9.522666666666668,
          9.285083333333334,
          9.201166666666667,
          9.414583333333333,
          9.570416666666667,
          9.525583333333334,
          9.324583333333333,
          9.700916666666666,
          9.5325,
          9.732166666666666,
          9.43175,
          9.50525,
          9.703083333333334,
          9.516,
          9.507333333333333,
          9.6065,
          9.570666666666666,
          9.831
         ],
         "yaxis": "y"
        }
       ],
       "layout": {
        "legend": {
         "title": {
          "text": "variable"
         },
         "tracegroupgap": 0
        },
        "margin": {
         "t": 60
        },
        "template": {
         "data": {
          "bar": [
           {
            "error_x": {
             "color": "#2a3f5f"
            },
            "error_y": {
             "color": "#2a3f5f"
            },
            "marker": {
             "line": {
              "color": "#E5ECF6",
              "width": 0.5
             },
             "pattern": {
              "fillmode": "overlay",
              "size": 10,
              "solidity": 0.2
             }
            },
            "type": "bar"
           }
          ],
          "barpolar": [
           {
            "marker": {
             "line": {
              "color": "#E5ECF6",
              "width": 0.5
             },
             "pattern": {
              "fillmode": "overlay",
              "size": 10,
              "solidity": 0.2
             }
            },
            "type": "barpolar"
           }
          ],
          "carpet": [
           {
            "aaxis": {
             "endlinecolor": "#2a3f5f",
             "gridcolor": "white",
             "linecolor": "white",
             "minorgridcolor": "white",
             "startlinecolor": "#2a3f5f"
            },
            "baxis": {
             "endlinecolor": "#2a3f5f",
             "gridcolor": "white",
             "linecolor": "white",
             "minorgridcolor": "white",
             "startlinecolor": "#2a3f5f"
            },
            "type": "carpet"
           }
          ],
          "choropleth": [
           {
            "colorbar": {
             "outlinewidth": 0,
             "ticks": ""
            },
            "type": "choropleth"
           }
          ],
          "contour": [
           {
            "colorbar": {
             "outlinewidth": 0,
             "ticks": ""
            },
            "colorscale": [
             [
              0,
              "#0d0887"
             ],
             [
              0.1111111111111111,
              "#46039f"
             ],
             [
              0.2222222222222222,
              "#7201a8"
             ],
             [
              0.3333333333333333,
              "#9c179e"
             ],
             [
              0.4444444444444444,
              "#bd3786"
             ],
             [
              0.5555555555555556,
              "#d8576b"
             ],
             [
              0.6666666666666666,
              "#ed7953"
             ],
             [
              0.7777777777777778,
              "#fb9f3a"
             ],
             [
              0.8888888888888888,
              "#fdca26"
             ],
             [
              1,
              "#f0f921"
             ]
            ],
            "type": "contour"
           }
          ],
          "contourcarpet": [
           {
            "colorbar": {
             "outlinewidth": 0,
             "ticks": ""
            },
            "type": "contourcarpet"
           }
          ],
          "heatmap": [
           {
            "colorbar": {
             "outlinewidth": 0,
             "ticks": ""
            },
            "colorscale": [
             [
              0,
              "#0d0887"
             ],
             [
              0.1111111111111111,
              "#46039f"
             ],
             [
              0.2222222222222222,
              "#7201a8"
             ],
             [
              0.3333333333333333,
              "#9c179e"
             ],
             [
              0.4444444444444444,
              "#bd3786"
             ],
             [
              0.5555555555555556,
              "#d8576b"
             ],
             [
              0.6666666666666666,
              "#ed7953"
             ],
             [
              0.7777777777777778,
              "#fb9f3a"
             ],
             [
              0.8888888888888888,
              "#fdca26"
             ],
             [
              1,
              "#f0f921"
             ]
            ],
            "type": "heatmap"
           }
          ],
          "heatmapgl": [
           {
            "colorbar": {
             "outlinewidth": 0,
             "ticks": ""
            },
            "colorscale": [
             [
              0,
              "#0d0887"
             ],
             [
              0.1111111111111111,
              "#46039f"
             ],
             [
              0.2222222222222222,
              "#7201a8"
             ],
             [
              0.3333333333333333,
              "#9c179e"
             ],
             [
              0.4444444444444444,
              "#bd3786"
             ],
             [
              0.5555555555555556,
              "#d8576b"
             ],
             [
              0.6666666666666666,
              "#ed7953"
             ],
             [
              0.7777777777777778,
              "#fb9f3a"
             ],
             [
              0.8888888888888888,
              "#fdca26"
             ],
             [
              1,
              "#f0f921"
             ]
            ],
            "type": "heatmapgl"
           }
          ],
          "histogram": [
           {
            "marker": {
             "pattern": {
              "fillmode": "overlay",
              "size": 10,
              "solidity": 0.2
             }
            },
            "type": "histogram"
           }
          ],
          "histogram2d": [
           {
            "colorbar": {
             "outlinewidth": 0,
             "ticks": ""
            },
            "colorscale": [
             [
              0,
              "#0d0887"
             ],
             [
              0.1111111111111111,
              "#46039f"
             ],
             [
              0.2222222222222222,
              "#7201a8"
             ],
             [
              0.3333333333333333,
              "#9c179e"
             ],
             [
              0.4444444444444444,
              "#bd3786"
             ],
             [
              0.5555555555555556,
              "#d8576b"
             ],
             [
              0.6666666666666666,
              "#ed7953"
             ],
             [
              0.7777777777777778,
              "#fb9f3a"
             ],
             [
              0.8888888888888888,
              "#fdca26"
             ],
             [
              1,
              "#f0f921"
             ]
            ],
            "type": "histogram2d"
           }
          ],
          "histogram2dcontour": [
           {
            "colorbar": {
             "outlinewidth": 0,
             "ticks": ""
            },
            "colorscale": [
             [
              0,
              "#0d0887"
             ],
             [
              0.1111111111111111,
              "#46039f"
             ],
             [
              0.2222222222222222,
              "#7201a8"
             ],
             [
              0.3333333333333333,
              "#9c179e"
             ],
             [
              0.4444444444444444,
              "#bd3786"
             ],
             [
              0.5555555555555556,
              "#d8576b"
             ],
             [
              0.6666666666666666,
              "#ed7953"
             ],
             [
              0.7777777777777778,
              "#fb9f3a"
             ],
             [
              0.8888888888888888,
              "#fdca26"
             ],
             [
              1,
              "#f0f921"
             ]
            ],
            "type": "histogram2dcontour"
           }
          ],
          "mesh3d": [
           {
            "colorbar": {
             "outlinewidth": 0,
             "ticks": ""
            },
            "type": "mesh3d"
           }
          ],
          "parcoords": [
           {
            "line": {
             "colorbar": {
              "outlinewidth": 0,
              "ticks": ""
             }
            },
            "type": "parcoords"
           }
          ],
          "pie": [
           {
            "automargin": true,
            "type": "pie"
           }
          ],
          "scatter": [
           {
            "fillpattern": {
             "fillmode": "overlay",
             "size": 10,
             "solidity": 0.2
            },
            "type": "scatter"
           }
          ],
          "scatter3d": [
           {
            "line": {
             "colorbar": {
              "outlinewidth": 0,
              "ticks": ""
             }
            },
            "marker": {
             "colorbar": {
              "outlinewidth": 0,
              "ticks": ""
             }
            },
            "type": "scatter3d"
           }
          ],
          "scattercarpet": [
           {
            "marker": {
             "colorbar": {
              "outlinewidth": 0,
              "ticks": ""
             }
            },
            "type": "scattercarpet"
           }
          ],
          "scattergeo": [
           {
            "marker": {
             "colorbar": {
              "outlinewidth": 0,
              "ticks": ""
             }
            },
            "type": "scattergeo"
           }
          ],
          "scattergl": [
           {
            "marker": {
             "colorbar": {
              "outlinewidth": 0,
              "ticks": ""
             }
            },
            "type": "scattergl"
           }
          ],
          "scattermapbox": [
           {
            "marker": {
             "colorbar": {
              "outlinewidth": 0,
              "ticks": ""
             }
            },
            "type": "scattermapbox"
           }
          ],
          "scatterpolar": [
           {
            "marker": {
             "colorbar": {
              "outlinewidth": 0,
              "ticks": ""
             }
            },
            "type": "scatterpolar"
           }
          ],
          "scatterpolargl": [
           {
            "marker": {
             "colorbar": {
              "outlinewidth": 0,
              "ticks": ""
             }
            },
            "type": "scatterpolargl"
           }
          ],
          "scatterternary": [
           {
            "marker": {
             "colorbar": {
              "outlinewidth": 0,
              "ticks": ""
             }
            },
            "type": "scatterternary"
           }
          ],
          "surface": [
           {
            "colorbar": {
             "outlinewidth": 0,
             "ticks": ""
            },
            "colorscale": [
             [
              0,
              "#0d0887"
             ],
             [
              0.1111111111111111,
              "#46039f"
             ],
             [
              0.2222222222222222,
              "#7201a8"
             ],
             [
              0.3333333333333333,
              "#9c179e"
             ],
             [
              0.4444444444444444,
              "#bd3786"
             ],
             [
              0.5555555555555556,
              "#d8576b"
             ],
             [
              0.6666666666666666,
              "#ed7953"
             ],
             [
              0.7777777777777778,
              "#fb9f3a"
             ],
             [
              0.8888888888888888,
              "#fdca26"
             ],
             [
              1,
              "#f0f921"
             ]
            ],
            "type": "surface"
           }
          ],
          "table": [
           {
            "cells": {
             "fill": {
              "color": "#EBF0F8"
             },
             "line": {
              "color": "white"
             }
            },
            "header": {
             "fill": {
              "color": "#C8D4E3"
             },
             "line": {
              "color": "white"
             }
            },
            "type": "table"
           }
          ]
         },
         "layout": {
          "annotationdefaults": {
           "arrowcolor": "#2a3f5f",
           "arrowhead": 0,
           "arrowwidth": 1
          },
          "autotypenumbers": "strict",
          "coloraxis": {
           "colorbar": {
            "outlinewidth": 0,
            "ticks": ""
           }
          },
          "colorscale": {
           "diverging": [
            [
             0,
             "#8e0152"
            ],
            [
             0.1,
             "#c51b7d"
            ],
            [
             0.2,
             "#de77ae"
            ],
            [
             0.3,
             "#f1b6da"
            ],
            [
             0.4,
             "#fde0ef"
            ],
            [
             0.5,
             "#f7f7f7"
            ],
            [
             0.6,
             "#e6f5d0"
            ],
            [
             0.7,
             "#b8e186"
            ],
            [
             0.8,
             "#7fbc41"
            ],
            [
             0.9,
             "#4d9221"
            ],
            [
             1,
             "#276419"
            ]
           ],
           "sequential": [
            [
             0,
             "#0d0887"
            ],
            [
             0.1111111111111111,
             "#46039f"
            ],
            [
             0.2222222222222222,
             "#7201a8"
            ],
            [
             0.3333333333333333,
             "#9c179e"
            ],
            [
             0.4444444444444444,
             "#bd3786"
            ],
            [
             0.5555555555555556,
             "#d8576b"
            ],
            [
             0.6666666666666666,
             "#ed7953"
            ],
            [
             0.7777777777777778,
             "#fb9f3a"
            ],
            [
             0.8888888888888888,
             "#fdca26"
            ],
            [
             1,
             "#f0f921"
            ]
           ],
           "sequentialminus": [
            [
             0,
             "#0d0887"
            ],
            [
             0.1111111111111111,
             "#46039f"
            ],
            [
             0.2222222222222222,
             "#7201a8"
            ],
            [
             0.3333333333333333,
             "#9c179e"
            ],
            [
             0.4444444444444444,
             "#bd3786"
            ],
            [
             0.5555555555555556,
             "#d8576b"
            ],
            [
             0.6666666666666666,
             "#ed7953"
            ],
            [
             0.7777777777777778,
             "#fb9f3a"
            ],
            [
             0.8888888888888888,
             "#fdca26"
            ],
            [
             1,
             "#f0f921"
            ]
           ]
          },
          "colorway": [
           "#636efa",
           "#EF553B",
           "#00cc96",
           "#ab63fa",
           "#FFA15A",
           "#19d3f3",
           "#FF6692",
           "#B6E880",
           "#FF97FF",
           "#FECB52"
          ],
          "font": {
           "color": "#2a3f5f"
          },
          "geo": {
           "bgcolor": "white",
           "lakecolor": "white",
           "landcolor": "#E5ECF6",
           "showlakes": true,
           "showland": true,
           "subunitcolor": "white"
          },
          "hoverlabel": {
           "align": "left"
          },
          "hovermode": "closest",
          "mapbox": {
           "style": "light"
          },
          "paper_bgcolor": "white",
          "plot_bgcolor": "#E5ECF6",
          "polar": {
           "angularaxis": {
            "gridcolor": "white",
            "linecolor": "white",
            "ticks": ""
           },
           "bgcolor": "#E5ECF6",
           "radialaxis": {
            "gridcolor": "white",
            "linecolor": "white",
            "ticks": ""
           }
          },
          "scene": {
           "xaxis": {
            "backgroundcolor": "#E5ECF6",
            "gridcolor": "white",
            "gridwidth": 2,
            "linecolor": "white",
            "showbackground": true,
            "ticks": "",
            "zerolinecolor": "white"
           },
           "yaxis": {
            "backgroundcolor": "#E5ECF6",
            "gridcolor": "white",
            "gridwidth": 2,
            "linecolor": "white",
            "showbackground": true,
            "ticks": "",
            "zerolinecolor": "white"
           },
           "zaxis": {
            "backgroundcolor": "#E5ECF6",
            "gridcolor": "white",
            "gridwidth": 2,
            "linecolor": "white",
            "showbackground": true,
            "ticks": "",
            "zerolinecolor": "white"
           }
          },
          "shapedefaults": {
           "line": {
            "color": "#2a3f5f"
           }
          },
          "ternary": {
           "aaxis": {
            "gridcolor": "white",
            "linecolor": "white",
            "ticks": ""
           },
           "baxis": {
            "gridcolor": "white",
            "linecolor": "white",
            "ticks": ""
           },
           "bgcolor": "#E5ECF6",
           "caxis": {
            "gridcolor": "white",
            "linecolor": "white",
            "ticks": ""
           }
          },
          "title": {
           "x": 0.05
          },
          "xaxis": {
           "automargin": true,
           "gridcolor": "white",
           "linecolor": "white",
           "ticks": "",
           "title": {
            "standoff": 15
           },
           "zerolinecolor": "white",
           "zerolinewidth": 2
          },
          "yaxis": {
           "automargin": true,
           "gridcolor": "white",
           "linecolor": "white",
           "ticks": "",
           "title": {
            "standoff": 15
           },
           "zerolinecolor": "white",
           "zerolinewidth": 2
          }
         }
        },
        "xaxis": {
         "anchor": "y",
         "domain": [
          0,
          1
         ],
         "title": {
          "text": "year"
         }
        },
        "yaxis": {
         "anchor": "x",
         "domain": [
          0,
          1
         ],
         "title": {
          "text": "value"
         }
        }
       }
      }
     },
     "metadata": {},
     "output_type": "display_data"
    }
   ],
   "source": [
    "fig = px.line(data, x='year', y=['UncertaintyTop', 'UncertaintyBottom', 'LandAverageTemperature'])\n",
    "fig.show()"
   ]
  },
  {
   "cell_type": "code",
   "execution_count": 30,
   "metadata": {},
   "outputs": [],
   "source": [
    "# analyse average temperature each season"
   ]
  },
  {
   "cell_type": "code",
   "execution_count": 31,
   "metadata": {},
   "outputs": [],
   "source": [
    "global_temp['dt'] = pd.to_datetime(global_temp.dt)"
   ]
  },
  {
   "cell_type": "code",
   "execution_count": 32,
   "metadata": {},
   "outputs": [],
   "source": [
    "global_temp['month'] = global_temp.dt.dt.month"
   ]
  },
  {
   "cell_type": "code",
   "execution_count": 33,
   "metadata": {},
   "outputs": [],
   "source": [
    "global_temp.drop('dt', axis=1, inplace=True)"
   ]
  },
  {
   "cell_type": "code",
   "execution_count": 34,
   "metadata": {},
   "outputs": [
    {
     "data": {
      "text/html": [
       "<div>\n",
       "<style scoped>\n",
       "    .dataframe tbody tr th:only-of-type {\n",
       "        vertical-align: middle;\n",
       "    }\n",
       "\n",
       "    .dataframe tbody tr th {\n",
       "        vertical-align: top;\n",
       "    }\n",
       "\n",
       "    .dataframe thead th {\n",
       "        text-align: right;\n",
       "    }\n",
       "</style>\n",
       "<table border=\"1\" class=\"dataframe\">\n",
       "  <thead>\n",
       "    <tr style=\"text-align: right;\">\n",
       "      <th></th>\n",
       "      <th>LandAverageTemperature</th>\n",
       "      <th>LandAverageTemperatureUncertainty</th>\n",
       "      <th>LandMaxTemperature</th>\n",
       "      <th>LandMaxTemperatureUncertainty</th>\n",
       "      <th>LandMinTemperature</th>\n",
       "      <th>LandMinTemperatureUncertainty</th>\n",
       "      <th>LandAndOceanAverageTemperature</th>\n",
       "      <th>LandAndOceanAverageTemperatureUncertainty</th>\n",
       "      <th>year</th>\n",
       "      <th>month</th>\n",
       "    </tr>\n",
       "  </thead>\n",
       "  <tbody>\n",
       "    <tr>\n",
       "      <th>0</th>\n",
       "      <td>3.034</td>\n",
       "      <td>3.574</td>\n",
       "      <td>NaN</td>\n",
       "      <td>NaN</td>\n",
       "      <td>NaN</td>\n",
       "      <td>NaN</td>\n",
       "      <td>NaN</td>\n",
       "      <td>NaN</td>\n",
       "      <td>1750</td>\n",
       "      <td>1</td>\n",
       "    </tr>\n",
       "    <tr>\n",
       "      <th>1</th>\n",
       "      <td>3.083</td>\n",
       "      <td>3.702</td>\n",
       "      <td>NaN</td>\n",
       "      <td>NaN</td>\n",
       "      <td>NaN</td>\n",
       "      <td>NaN</td>\n",
       "      <td>NaN</td>\n",
       "      <td>NaN</td>\n",
       "      <td>1750</td>\n",
       "      <td>2</td>\n",
       "    </tr>\n",
       "    <tr>\n",
       "      <th>2</th>\n",
       "      <td>5.626</td>\n",
       "      <td>3.076</td>\n",
       "      <td>NaN</td>\n",
       "      <td>NaN</td>\n",
       "      <td>NaN</td>\n",
       "      <td>NaN</td>\n",
       "      <td>NaN</td>\n",
       "      <td>NaN</td>\n",
       "      <td>1750</td>\n",
       "      <td>3</td>\n",
       "    </tr>\n",
       "    <tr>\n",
       "      <th>3</th>\n",
       "      <td>8.490</td>\n",
       "      <td>2.451</td>\n",
       "      <td>NaN</td>\n",
       "      <td>NaN</td>\n",
       "      <td>NaN</td>\n",
       "      <td>NaN</td>\n",
       "      <td>NaN</td>\n",
       "      <td>NaN</td>\n",
       "      <td>1750</td>\n",
       "      <td>4</td>\n",
       "    </tr>\n",
       "    <tr>\n",
       "      <th>4</th>\n",
       "      <td>11.573</td>\n",
       "      <td>2.072</td>\n",
       "      <td>NaN</td>\n",
       "      <td>NaN</td>\n",
       "      <td>NaN</td>\n",
       "      <td>NaN</td>\n",
       "      <td>NaN</td>\n",
       "      <td>NaN</td>\n",
       "      <td>1750</td>\n",
       "      <td>5</td>\n",
       "    </tr>\n",
       "  </tbody>\n",
       "</table>\n",
       "</div>"
      ],
      "text/plain": [
       "   LandAverageTemperature  LandAverageTemperatureUncertainty  \\\n",
       "0                   3.034                              3.574   \n",
       "1                   3.083                              3.702   \n",
       "2                   5.626                              3.076   \n",
       "3                   8.490                              2.451   \n",
       "4                  11.573                              2.072   \n",
       "\n",
       "   LandMaxTemperature  LandMaxTemperatureUncertainty  LandMinTemperature  \\\n",
       "0                 NaN                            NaN                 NaN   \n",
       "1                 NaN                            NaN                 NaN   \n",
       "2                 NaN                            NaN                 NaN   \n",
       "3                 NaN                            NaN                 NaN   \n",
       "4                 NaN                            NaN                 NaN   \n",
       "\n",
       "   LandMinTemperatureUncertainty  LandAndOceanAverageTemperature  \\\n",
       "0                            NaN                             NaN   \n",
       "1                            NaN                             NaN   \n",
       "2                            NaN                             NaN   \n",
       "3                            NaN                             NaN   \n",
       "4                            NaN                             NaN   \n",
       "\n",
       "   LandAndOceanAverageTemperatureUncertainty  year  month  \n",
       "0                                        NaN  1750      1  \n",
       "1                                        NaN  1750      2  \n",
       "2                                        NaN  1750      3  \n",
       "3                                        NaN  1750      4  \n",
       "4                                        NaN  1750      5  "
      ]
     },
     "execution_count": 34,
     "metadata": {},
     "output_type": "execute_result"
    }
   ],
   "source": [
    "global_temp.head()"
   ]
  },
  {
   "cell_type": "code",
   "execution_count": 35,
   "metadata": {},
   "outputs": [],
   "source": [
    "def get_season(month):\n",
    "    if month >= 3 and month <= 5: return 'spring'\n",
    "    elif month >= 6 and month <= 8: return 'summer'\n",
    "    elif month >= 9 and month <= 11: return 'autumn'\n",
    "    else: return 'winter'"
   ]
  },
  {
   "cell_type": "code",
   "execution_count": 36,
   "metadata": {},
   "outputs": [],
   "source": [
    "global_temp['season'] = global_temp.month.apply(get_season)"
   ]
  },
  {
   "cell_type": "code",
   "execution_count": 37,
   "metadata": {},
   "outputs": [],
   "source": [
    "years = global_temp.year.unique()"
   ]
  },
  {
   "cell_type": "code",
   "execution_count": 38,
   "metadata": {},
   "outputs": [],
   "source": [
    "summer_temps, autumn_temps, winter_temps, spring_temps = [] , [], [], []\n",
    "\n",
    "for year in years:\n",
    "    current_year_df = global_temp[global_temp.year == year]\n",
    "    summer_temps.append(current_year_df[current_year_df.season == 'summer'].LandAverageTemperature.mean())\n",
    "    autumn_temps.append(current_year_df[current_year_df.season == 'autumn'].LandAverageTemperature.mean())\n",
    "    winter_temps.append(current_year_df[current_year_df.season == 'winter'].LandAverageTemperature.mean())\n",
    "    spring_temps.append(current_year_df[current_year_df.season == 'spring'].LandAverageTemperature.mean())"
   ]
  },
  {
   "cell_type": "code",
   "execution_count": 39,
   "metadata": {},
   "outputs": [],
   "source": [
    "season = pd.DataFrame()\n",
    "season['year'] = years\n",
    "season['summer_temps'] = summer_temps\n",
    "season['winter_temps'] = winter_temps\n",
    "season['autumn_temps'] = autumn_temps\n",
    "season['spring_temps'] = spring_temps"
   ]
  },
  {
   "cell_type": "code",
   "execution_count": 40,
   "metadata": {},
   "outputs": [
    {
     "data": {
      "text/html": [
       "<div>\n",
       "<style scoped>\n",
       "    .dataframe tbody tr th:only-of-type {\n",
       "        vertical-align: middle;\n",
       "    }\n",
       "\n",
       "    .dataframe tbody tr th {\n",
       "        vertical-align: top;\n",
       "    }\n",
       "\n",
       "    .dataframe thead th {\n",
       "        text-align: right;\n",
       "    }\n",
       "</style>\n",
       "<table border=\"1\" class=\"dataframe\">\n",
       "  <thead>\n",
       "    <tr style=\"text-align: right;\">\n",
       "      <th></th>\n",
       "      <th>year</th>\n",
       "      <th>summer_temps</th>\n",
       "      <th>winter_temps</th>\n",
       "      <th>autumn_temps</th>\n",
       "      <th>spring_temps</th>\n",
       "    </tr>\n",
       "  </thead>\n",
       "  <tbody>\n",
       "    <tr>\n",
       "      <th>0</th>\n",
       "      <td>1750</td>\n",
       "      <td>14.518333</td>\n",
       "      <td>2.963000</td>\n",
       "      <td>8.890000</td>\n",
       "      <td>8.563000</td>\n",
       "    </tr>\n",
       "    <tr>\n",
       "      <th>1</th>\n",
       "      <td>1751</td>\n",
       "      <td>14.116000</td>\n",
       "      <td>1.729000</td>\n",
       "      <td>10.673000</td>\n",
       "      <td>6.735000</td>\n",
       "    </tr>\n",
       "    <tr>\n",
       "      <th>2</th>\n",
       "      <td>1752</td>\n",
       "      <td>NaN</td>\n",
       "      <td>2.717000</td>\n",
       "      <td>7.587000</td>\n",
       "      <td>7.035500</td>\n",
       "    </tr>\n",
       "    <tr>\n",
       "      <th>3</th>\n",
       "      <td>1753</td>\n",
       "      <td>14.608333</td>\n",
       "      <td>1.104333</td>\n",
       "      <td>9.212333</td>\n",
       "      <td>8.627333</td>\n",
       "    </tr>\n",
       "    <tr>\n",
       "      <th>4</th>\n",
       "      <td>1754</td>\n",
       "      <td>14.208333</td>\n",
       "      <td>1.637333</td>\n",
       "      <td>8.957333</td>\n",
       "      <td>9.074333</td>\n",
       "    </tr>\n",
       "    <tr>\n",
       "      <th>...</th>\n",
       "      <td>...</td>\n",
       "      <td>...</td>\n",
       "      <td>...</td>\n",
       "      <td>...</td>\n",
       "      <td>...</td>\n",
       "    </tr>\n",
       "    <tr>\n",
       "      <th>261</th>\n",
       "      <td>2011</td>\n",
       "      <td>14.954667</td>\n",
       "      <td>3.893333</td>\n",
       "      <td>10.026000</td>\n",
       "      <td>9.190000</td>\n",
       "    </tr>\n",
       "    <tr>\n",
       "      <th>262</th>\n",
       "      <td>2012</td>\n",
       "      <td>14.762667</td>\n",
       "      <td>3.629000</td>\n",
       "      <td>10.208000</td>\n",
       "      <td>9.429667</td>\n",
       "    </tr>\n",
       "    <tr>\n",
       "      <th>263</th>\n",
       "      <td>2013</td>\n",
       "      <td>14.771000</td>\n",
       "      <td>4.210333</td>\n",
       "      <td>10.278000</td>\n",
       "      <td>9.166667</td>\n",
       "    </tr>\n",
       "    <tr>\n",
       "      <th>264</th>\n",
       "      <td>2014</td>\n",
       "      <td>14.694333</td>\n",
       "      <td>4.027333</td>\n",
       "      <td>10.044667</td>\n",
       "      <td>9.516333</td>\n",
       "    </tr>\n",
       "    <tr>\n",
       "      <th>265</th>\n",
       "      <td>2015</td>\n",
       "      <td>14.770333</td>\n",
       "      <td>4.687667</td>\n",
       "      <td>10.411000</td>\n",
       "      <td>9.455000</td>\n",
       "    </tr>\n",
       "  </tbody>\n",
       "</table>\n",
       "<p>266 rows × 5 columns</p>\n",
       "</div>"
      ],
      "text/plain": [
       "     year  summer_temps  winter_temps  autumn_temps  spring_temps\n",
       "0    1750     14.518333      2.963000      8.890000      8.563000\n",
       "1    1751     14.116000      1.729000     10.673000      6.735000\n",
       "2    1752           NaN      2.717000      7.587000      7.035500\n",
       "3    1753     14.608333      1.104333      9.212333      8.627333\n",
       "4    1754     14.208333      1.637333      8.957333      9.074333\n",
       "..    ...           ...           ...           ...           ...\n",
       "261  2011     14.954667      3.893333     10.026000      9.190000\n",
       "262  2012     14.762667      3.629000     10.208000      9.429667\n",
       "263  2013     14.771000      4.210333     10.278000      9.166667\n",
       "264  2014     14.694333      4.027333     10.044667      9.516333\n",
       "265  2015     14.770333      4.687667     10.411000      9.455000\n",
       "\n",
       "[266 rows x 5 columns]"
      ]
     },
     "execution_count": 40,
     "metadata": {},
     "output_type": "execute_result"
    }
   ],
   "source": [
    "season"
   ]
  },
  {
   "cell_type": "code",
   "execution_count": 41,
   "metadata": {},
   "outputs": [
    {
     "data": {
      "application/vnd.plotly.v1+json": {
       "config": {
        "plotlyServerURL": "https://plot.ly"
       },
       "data": [
        {
         "hovertemplate": "variable=summer_temps<br>year=%{x}<br>value=%{y}<extra></extra>",
         "legendgroup": "summer_temps",
         "line": {
          "color": "#636efa",
          "dash": "solid"
         },
         "marker": {
          "symbol": "circle"
         },
         "mode": "lines",
         "name": "summer_temps",
         "showlegend": true,
         "type": "scattergl",
         "x": [
          "1750",
          "1751",
          "1752",
          "1753",
          "1754",
          "1755",
          "1756",
          "1757",
          "1758",
          "1759",
          "1760",
          "1761",
          "1762",
          "1763",
          "1764",
          "1765",
          "1766",
          "1767",
          "1768",
          "1769",
          "1770",
          "1771",
          "1772",
          "1773",
          "1774",
          "1775",
          "1776",
          "1777",
          "1778",
          "1779",
          "1780",
          "1781",
          "1782",
          "1783",
          "1784",
          "1785",
          "1786",
          "1787",
          "1788",
          "1789",
          "1790",
          "1791",
          "1792",
          "1793",
          "1794",
          "1795",
          "1796",
          "1797",
          "1798",
          "1799",
          "1800",
          "1801",
          "1802",
          "1803",
          "1804",
          "1805",
          "1806",
          "1807",
          "1808",
          "1809",
          "1810",
          "1811",
          "1812",
          "1813",
          "1814",
          "1815",
          "1816",
          "1817",
          "1818",
          "1819",
          "1820",
          "1821",
          "1822",
          "1823",
          "1824",
          "1825",
          "1826",
          "1827",
          "1828",
          "1829",
          "1830",
          "1831",
          "1832",
          "1833",
          "1834",
          "1835",
          "1836",
          "1837",
          "1838",
          "1839",
          "1840",
          "1841",
          "1842",
          "1843",
          "1844",
          "1845",
          "1846",
          "1847",
          "1848",
          "1849",
          "1850",
          "1851",
          "1852",
          "1853",
          "1854",
          "1855",
          "1856",
          "1857",
          "1858",
          "1859",
          "1860",
          "1861",
          "1862",
          "1863",
          "1864",
          "1865",
          "1866",
          "1867",
          "1868",
          "1869",
          "1870",
          "1871",
          "1872",
          "1873",
          "1874",
          "1875",
          "1876",
          "1877",
          "1878",
          "1879",
          "1880",
          "1881",
          "1882",
          "1883",
          "1884",
          "1885",
          "1886",
          "1887",
          "1888",
          "1889",
          "1890",
          "1891",
          "1892",
          "1893",
          "1894",
          "1895",
          "1896",
          "1897",
          "1898",
          "1899",
          "1900",
          "1901",
          "1902",
          "1903",
          "1904",
          "1905",
          "1906",
          "1907",
          "1908",
          "1909",
          "1910",
          "1911",
          "1912",
          "1913",
          "1914",
          "1915",
          "1916",
          "1917",
          "1918",
          "1919",
          "1920",
          "1921",
          "1922",
          "1923",
          "1924",
          "1925",
          "1926",
          "1927",
          "1928",
          "1929",
          "1930",
          "1931",
          "1932",
          "1933",
          "1934",
          "1935",
          "1936",
          "1937",
          "1938",
          "1939",
          "1940",
          "1941",
          "1942",
          "1943",
          "1944",
          "1945",
          "1946",
          "1947",
          "1948",
          "1949",
          "1950",
          "1951",
          "1952",
          "1953",
          "1954",
          "1955",
          "1956",
          "1957",
          "1958",
          "1959",
          "1960",
          "1961",
          "1962",
          "1963",
          "1964",
          "1965",
          "1966",
          "1967",
          "1968",
          "1969",
          "1970",
          "1971",
          "1972",
          "1973",
          "1974",
          "1975",
          "1976",
          "1977",
          "1978",
          "1979",
          "1980",
          "1981",
          "1982",
          "1983",
          "1984",
          "1985",
          "1986",
          "1987",
          "1988",
          "1989",
          "1990",
          "1991",
          "1992",
          "1993",
          "1994",
          "1995",
          "1996",
          "1997",
          "1998",
          "1999",
          "2000",
          "2001",
          "2002",
          "2003",
          "2004",
          "2005",
          "2006",
          "2007",
          "2008",
          "2009",
          "2010",
          "2011",
          "2012",
          "2013",
          "2014",
          "2015"
         ],
         "xaxis": "x",
         "y": [
          14.518333333333333,
          14.116,
          null,
          14.608333333333334,
          14.208333333333334,
          14.430666666666667,
          13.963333333333333,
          17.544999999999998,
          12.934666666666665,
          13.541666666666666,
          12.916333333333334,
          17.057666666666666,
          14.070333333333332,
          14.262666666666666,
          12.170666666666667,
          12.635333333333334,
          13.655333333333331,
          14.023333333333333,
          12.905666666666667,
          14.365666666666668,
          11.639333333333335,
          14.045333333333332,
          13.775333333333334,
          13.639666666666669,
          15.330333333333334,
          13.822666666666668,
          14.503,
          12.627,
          13.212333333333333,
          13.335,
          14.625666666666666,
          13.368,
          14.469666666666667,
          13.793333333333331,
          14.537,
          14.226,
          14.261333333333333,
          13.791666666666666,
          14.720333333333334,
          14.269666666666666,
          13.827666666666667,
          13.529000000000002,
          13.357999999999999,
          13.547333333333333,
          12.784,
          13.576,
          14.417333333333334,
          13.999666666666664,
          14.317,
          14.211666666666666,
          13.662666666666667,
          13.466333333333331,
          14.379333333333333,
          14.764333333333333,
          14.686333333333332,
          14.666333333333332,
          13.644666666666666,
          13.743333333333332,
          13.655666666666667,
          12.853,
          12.175333333333333,
          12.472999999999999,
          13.792666666666667,
          13.62,
          12.672666666666666,
          12.921666666666667,
          12.208999999999998,
          12.254,
          13.500333333333336,
          12.707,
          12.870666666666667,
          12.930666666666667,
          13.498,
          13.761666666666668,
          13.897999999999998,
          13.680333333333332,
          13.537,
          13.975333333333333,
          14.047666666666666,
          13.494666666666667,
          13.718333333333334,
          13.091000000000001,
          12.85,
          13.357999999999999,
          13.469333333333333,
          12.485999999999999,
          13.008333333333333,
          12.881,
          13.559,
          13.676333333333332,
          13.737,
          13.774,
          13.151333333333334,
          13.272,
          13.269,
          13.579333333333333,
          14.191333333333333,
          13.497333333333332,
          13.660333333333334,
          13.687,
          13.893666666666668,
          13.899999999999999,
          13.660000000000002,
          14.002666666666665,
          13.803333333333333,
          13.485666666666667,
          13.512,
          13.255666666666665,
          13.284333333333334,
          13.395333333333333,
          13.746666666666664,
          13.546666666666667,
          13.325333333333333,
          13.284333333333334,
          13.653666666666666,
          13.671333333333335,
          13.662333333333331,
          13.677333333333335,
          13.806666666666667,
          13.961333333333334,
          13.912,
          13.767333333333333,
          13.720333333333334,
          13.815666666666667,
          13.747666666666666,
          13.567333333333332,
          13.643666666666666,
          14.059,
          14.210666666666667,
          13.571,
          13.758333333333333,
          13.552666666666667,
          13.418333333333331,
          13.512333333333332,
          13.135333333333334,
          13.346333333333334,
          13.446,
          13.336,
          13.558,
          13.672333333333333,
          13.390666666666666,
          13.438,
          13.524333333333333,
          13.607666666666667,
          13.450000000000001,
          13.533333333333333,
          13.720333333333334,
          13.765666666666666,
          13.704,
          13.597333333333333,
          13.76,
          13.850333333333333,
          13.681333333333333,
          13.43,
          13.436333333333332,
          13.588999999999999,
          13.715666666666666,
          13.286666666666667,
          13.622,
          13.591333333333333,
          13.702333333333334,
          13.530000000000001,
          13.403666666666666,
          13.622,
          13.841333333333333,
          13.837666666666669,
          13.524666666666667,
          13.548333333333332,
          13.447000000000001,
          13.762666666666666,
          13.682666666666668,
          13.812333333333333,
          13.731,
          13.630333333333335,
          13.766666666666667,
          13.641333333333334,
          13.776666666666666,
          13.764333333333333,
          13.703333333333333,
          13.521666666666667,
          13.913333333333332,
          14.089666666666666,
          13.831666666666665,
          13.702,
          13.841,
          13.810666666666668,
          13.950666666666665,
          13.995,
          13.921999999999999,
          13.952666666666667,
          13.988333333333335,
          14.117333333333335,
          13.868666666666668,
          13.798333333333334,
          13.987666666666664,
          13.951333333333332,
          13.847,
          13.878333333333332,
          14.001666666666667,
          13.749333333333334,
          13.660666666666666,
          13.865,
          13.985,
          14.020999999999999,
          13.836333333333334,
          14.028333333333334,
          13.509666666666666,
          13.998,
          13.740666666666668,
          13.959666666666669,
          13.835666666666668,
          13.946333333333333,
          13.781666666666666,
          14.075666666666665,
          13.812666666666667,
          13.731,
          13.962333333333333,
          13.781999999999998,
          13.584666666666665,
          13.832333333333333,
          13.855333333333334,
          13.705666666666666,
          13.967666666666666,
          14.042666666666667,
          13.895333333333333,
          13.807333333333332,
          13.583999999999998,
          14.198999999999998,
          13.627,
          13.811333333333332,
          14.171000000000001,
          14.335,
          13.862,
          14.062666666666667,
          13.933333333333335,
          13.866999999999999,
          13.901333333333334,
          14.237666666666668,
          14.483333333333334,
          14.064666666666666,
          14.257333333333333,
          14.523000000000001,
          13.826999999999998,
          13.982666666666667,
          14.259666666666666,
          14.638666666666666,
          14.370333333333333,
          14.317333333333332,
          14.911666666666667,
          14.410666666666666,
          14.475666666666667,
          14.566,
          14.665999999999999,
          14.563666666666668,
          14.129666666666667,
          14.725333333333333,
          14.799333333333331,
          14.763666666666667,
          14.565333333333333,
          14.695666666666668,
          14.800666666666666,
          14.954666666666666,
          14.762666666666668,
          14.771,
          14.694333333333333,
          14.770333333333333
         ],
         "yaxis": "y"
        },
        {
         "hovertemplate": "variable=winter_temps<br>year=%{x}<br>value=%{y}<extra></extra>",
         "legendgroup": "winter_temps",
         "line": {
          "color": "#EF553B",
          "dash": "solid"
         },
         "marker": {
          "symbol": "circle"
         },
         "mode": "lines",
         "name": "winter_temps",
         "showlegend": true,
         "type": "scattergl",
         "x": [
          "1750",
          "1751",
          "1752",
          "1753",
          "1754",
          "1755",
          "1756",
          "1757",
          "1758",
          "1759",
          "1760",
          "1761",
          "1762",
          "1763",
          "1764",
          "1765",
          "1766",
          "1767",
          "1768",
          "1769",
          "1770",
          "1771",
          "1772",
          "1773",
          "1774",
          "1775",
          "1776",
          "1777",
          "1778",
          "1779",
          "1780",
          "1781",
          "1782",
          "1783",
          "1784",
          "1785",
          "1786",
          "1787",
          "1788",
          "1789",
          "1790",
          "1791",
          "1792",
          "1793",
          "1794",
          "1795",
          "1796",
          "1797",
          "1798",
          "1799",
          "1800",
          "1801",
          "1802",
          "1803",
          "1804",
          "1805",
          "1806",
          "1807",
          "1808",
          "1809",
          "1810",
          "1811",
          "1812",
          "1813",
          "1814",
          "1815",
          "1816",
          "1817",
          "1818",
          "1819",
          "1820",
          "1821",
          "1822",
          "1823",
          "1824",
          "1825",
          "1826",
          "1827",
          "1828",
          "1829",
          "1830",
          "1831",
          "1832",
          "1833",
          "1834",
          "1835",
          "1836",
          "1837",
          "1838",
          "1839",
          "1840",
          "1841",
          "1842",
          "1843",
          "1844",
          "1845",
          "1846",
          "1847",
          "1848",
          "1849",
          "1850",
          "1851",
          "1852",
          "1853",
          "1854",
          "1855",
          "1856",
          "1857",
          "1858",
          "1859",
          "1860",
          "1861",
          "1862",
          "1863",
          "1864",
          "1865",
          "1866",
          "1867",
          "1868",
          "1869",
          "1870",
          "1871",
          "1872",
          "1873",
          "1874",
          "1875",
          "1876",
          "1877",
          "1878",
          "1879",
          "1880",
          "1881",
          "1882",
          "1883",
          "1884",
          "1885",
          "1886",
          "1887",
          "1888",
          "1889",
          "1890",
          "1891",
          "1892",
          "1893",
          "1894",
          "1895",
          "1896",
          "1897",
          "1898",
          "1899",
          "1900",
          "1901",
          "1902",
          "1903",
          "1904",
          "1905",
          "1906",
          "1907",
          "1908",
          "1909",
          "1910",
          "1911",
          "1912",
          "1913",
          "1914",
          "1915",
          "1916",
          "1917",
          "1918",
          "1919",
          "1920",
          "1921",
          "1922",
          "1923",
          "1924",
          "1925",
          "1926",
          "1927",
          "1928",
          "1929",
          "1930",
          "1931",
          "1932",
          "1933",
          "1934",
          "1935",
          "1936",
          "1937",
          "1938",
          "1939",
          "1940",
          "1941",
          "1942",
          "1943",
          "1944",
          "1945",
          "1946",
          "1947",
          "1948",
          "1949",
          "1950",
          "1951",
          "1952",
          "1953",
          "1954",
          "1955",
          "1956",
          "1957",
          "1958",
          "1959",
          "1960",
          "1961",
          "1962",
          "1963",
          "1964",
          "1965",
          "1966",
          "1967",
          "1968",
          "1969",
          "1970",
          "1971",
          "1972",
          "1973",
          "1974",
          "1975",
          "1976",
          "1977",
          "1978",
          "1979",
          "1980",
          "1981",
          "1982",
          "1983",
          "1984",
          "1985",
          "1986",
          "1987",
          "1988",
          "1989",
          "1990",
          "1991",
          "1992",
          "1993",
          "1994",
          "1995",
          "1996",
          "1997",
          "1998",
          "1999",
          "2000",
          "2001",
          "2002",
          "2003",
          "2004",
          "2005",
          "2006",
          "2007",
          "2008",
          "2009",
          "2010",
          "2011",
          "2012",
          "2013",
          "2014",
          "2015"
         ],
         "xaxis": "x",
         "y": [
          2.9630000000000005,
          1.729,
          2.7170000000000005,
          1.1043333333333332,
          1.6373333333333333,
          1.1743333333333332,
          3.906,
          1.4829999999999999,
          0.8506666666666668,
          3.114333333333333,
          1.3926666666666667,
          0.8326666666666666,
          4.930000000000001,
          1.8413333333333333,
          4.406,
          3.3369999999999997,
          2.1453333333333333,
          1.4926666666666666,
          0.36433333333333334,
          1.1636666666666666,
          3.6043333333333334,
          2.449666666666667,
          2.747666666666667,
          2.0249999999999995,
          1.633,
          3.9906666666666673,
          3.013333333333333,
          4.6690000000000005,
          3.571999999999999,
          2.9596666666666667,
          3.0596666666666668,
          2.6519999999999997,
          0.967,
          2.029,
          2.3333333333333335,
          1.261,
          1.3846666666666667,
          2.4013333333333335,
          1.856,
          2.8266666666666667,
          2.724,
          2.828333333333333,
          2.452,
          2.4343333333333335,
          3.411,
          3.2313333333333336,
          2.279666666666667,
          4.209333333333333,
          2.639666666666667,
          2.496,
          3.4376666666666664,
          3.4713333333333334,
          3.1496666666666666,
          1.4573333333333334,
          2.202666666666667,
          3.179,
          3.281,
          3.1899999999999995,
          1.3866666666666667,
          1.047,
          1.9796666666666667,
          1.6660000000000001,
          0.8186666666666668,
          1.0146666666666666,
          3.0066666666666673,
          1.8483333333333334,
          1.457,
          1.7863333333333333,
          1.4886666666666668,
          1.7140000000000002,
          1.5513333333333332,
          3.158,
          2.7483333333333335,
          1.8983333333333334,
          3.468666666666667,
          3.1139999999999994,
          2.767333333333333,
          3.576666666666666,
          1.8003333333333336,
          2.066333333333333,
          3.8409999999999997,
          2.308666666666667,
          1.4439999999999997,
          2.4596666666666667,
          1.9183333333333337,
          2.238666666666667,
          2.300333333333333,
          2.2813333333333334,
          1.2063333333333335,
          2.2373333333333334,
          2.1906666666666665,
          1.8883333333333334,
          2.7176666666666667,
          3.5530000000000004,
          1.9323333333333335,
          2.008,
          3.455,
          2.6936666666666667,
          2.111666666666667,
          2.167333333333333,
          2.207666666666667,
          2.693,
          2.9003333333333337,
          2.2906666666666666,
          2.2263333333333333,
          2.5726666666666667,
          2.7889999999999997,
          2.6056666666666666,
          2.489,
          2.663666666666667,
          2.114333333333333,
          1.8116666666666668,
          1.359,
          2.9793333333333334,
          2.1076666666666664,
          2.5910000000000006,
          3.1193333333333335,
          3.0276666666666667,
          2.405666666666667,
          2.895,
          2.148,
          2.1153333333333335,
          2.2096666666666667,
          3.0180000000000002,
          3.0536666666666665,
          2.1523333333333334,
          2.2223333333333333,
          2.736666666666667,
          3.029666666666667,
          2.5260000000000002,
          2.3043333333333336,
          2.7610000000000006,
          2.808666666666667,
          2.1923333333333335,
          2.5406666666666666,
          2.296666666666667,
          2.2436666666666665,
          1.9176666666666666,
          2.323,
          2.7566666666666664,
          2.4403333333333332,
          2.3866666666666667,
          2.5860000000000003,
          1.7696666666666665,
          2.582333333333333,
          2.252333333333333,
          2.7699999999999996,
          2.497666666666667,
          2.832666666666667,
          2.6333333333333333,
          2.738,
          2.872666666666667,
          3.001,
          2.9890000000000003,
          2.436,
          2.5116666666666667,
          2.7099999999999995,
          2.2903333333333333,
          2.7146666666666666,
          2.441333333333334,
          2.598666666666667,
          2.501,
          2.9416666666666664,
          2.8539999999999996,
          3.392,
          3.0656666666666665,
          2.6296666666666666,
          2.2466666666666666,
          2.412333333333333,
          2.7533333333333334,
          2.7416666666666667,
          3.2560000000000002,
          2.731,
          2.9766666666666666,
          2.904,
          3.122333333333333,
          3.512,
          2.8926666666666665,
          3.4173333333333336,
          2.2656666666666667,
          3.128,
          3.1653333333333333,
          3.3733333333333335,
          2.6433333333333335,
          3.3866666666666667,
          3.241,
          2.892,
          3.1613333333333333,
          3.279,
          3.7076666666666664,
          3.297333333333333,
          3.3706666666666667,
          3.301666666666667,
          3.3806666666666665,
          3.5096666666666665,
          2.7763333333333335,
          3.191333333333333,
          3.176666666666667,
          3.359,
          3.142333333333333,
          2.752333333333333,
          2.932666666666666,
          3.368,
          3.5303333333333335,
          2.9006666666666674,
          3.285,
          2.9483333333333337,
          3.312,
          3.6970000000000005,
          3.3529999999999998,
          3.59,
          3.369666666666667,
          3.546333333333333,
          3.557,
          3.1223333333333336,
          3.2213333333333334,
          3.0540000000000003,
          3.176666666666667,
          2.946,
          2.8753333333333337,
          3.3640000000000003,
          3.2336666666666667,
          2.7563333333333335,
          3.5893333333333337,
          2.7976666666666667,
          3.373666666666667,
          3.1986666666666665,
          3.2373333333333334,
          3.300333333333333,
          3.3733333333333335,
          3.5413333333333337,
          4.108333333333333,
          3.388666666666667,
          3.696,
          3.0730000000000004,
          3.1663333333333337,
          3.6856666666666666,
          3.920666666666667,
          3.7463333333333337,
          3.589,
          3.7703333333333333,
          3.7660000000000005,
          3.861666666666667,
          3.6936666666666667,
          3.3156666666666665,
          4.1063333333333345,
          3.7330000000000005,
          3.782666666666666,
          4.282333333333334,
          4.267666666666667,
          3.6656666666666666,
          3.8543333333333334,
          4.256,
          4.399666666666666,
          4.093666666666667,
          4.202,
          4.234333333333333,
          4.441,
          3.6016666666666666,
          4.030333333333332,
          4.142666666666666,
          3.893333333333333,
          3.629,
          4.210333333333334,
          4.027333333333334,
          4.687666666666666
         ],
         "yaxis": "y"
        },
        {
         "hovertemplate": "variable=autumn_temps<br>year=%{x}<br>value=%{y}<extra></extra>",
         "legendgroup": "autumn_temps",
         "line": {
          "color": "#00cc96",
          "dash": "solid"
         },
         "marker": {
          "symbol": "circle"
         },
         "mode": "lines",
         "name": "autumn_temps",
         "showlegend": true,
         "type": "scattergl",
         "x": [
          "1750",
          "1751",
          "1752",
          "1753",
          "1754",
          "1755",
          "1756",
          "1757",
          "1758",
          "1759",
          "1760",
          "1761",
          "1762",
          "1763",
          "1764",
          "1765",
          "1766",
          "1767",
          "1768",
          "1769",
          "1770",
          "1771",
          "1772",
          "1773",
          "1774",
          "1775",
          "1776",
          "1777",
          "1778",
          "1779",
          "1780",
          "1781",
          "1782",
          "1783",
          "1784",
          "1785",
          "1786",
          "1787",
          "1788",
          "1789",
          "1790",
          "1791",
          "1792",
          "1793",
          "1794",
          "1795",
          "1796",
          "1797",
          "1798",
          "1799",
          "1800",
          "1801",
          "1802",
          "1803",
          "1804",
          "1805",
          "1806",
          "1807",
          "1808",
          "1809",
          "1810",
          "1811",
          "1812",
          "1813",
          "1814",
          "1815",
          "1816",
          "1817",
          "1818",
          "1819",
          "1820",
          "1821",
          "1822",
          "1823",
          "1824",
          "1825",
          "1826",
          "1827",
          "1828",
          "1829",
          "1830",
          "1831",
          "1832",
          "1833",
          "1834",
          "1835",
          "1836",
          "1837",
          "1838",
          "1839",
          "1840",
          "1841",
          "1842",
          "1843",
          "1844",
          "1845",
          "1846",
          "1847",
          "1848",
          "1849",
          "1850",
          "1851",
          "1852",
          "1853",
          "1854",
          "1855",
          "1856",
          "1857",
          "1858",
          "1859",
          "1860",
          "1861",
          "1862",
          "1863",
          "1864",
          "1865",
          "1866",
          "1867",
          "1868",
          "1869",
          "1870",
          "1871",
          "1872",
          "1873",
          "1874",
          "1875",
          "1876",
          "1877",
          "1878",
          "1879",
          "1880",
          "1881",
          "1882",
          "1883",
          "1884",
          "1885",
          "1886",
          "1887",
          "1888",
          "1889",
          "1890",
          "1891",
          "1892",
          "1893",
          "1894",
          "1895",
          "1896",
          "1897",
          "1898",
          "1899",
          "1900",
          "1901",
          "1902",
          "1903",
          "1904",
          "1905",
          "1906",
          "1907",
          "1908",
          "1909",
          "1910",
          "1911",
          "1912",
          "1913",
          "1914",
          "1915",
          "1916",
          "1917",
          "1918",
          "1919",
          "1920",
          "1921",
          "1922",
          "1923",
          "1924",
          "1925",
          "1926",
          "1927",
          "1928",
          "1929",
          "1930",
          "1931",
          "1932",
          "1933",
          "1934",
          "1935",
          "1936",
          "1937",
          "1938",
          "1939",
          "1940",
          "1941",
          "1942",
          "1943",
          "1944",
          "1945",
          "1946",
          "1947",
          "1948",
          "1949",
          "1950",
          "1951",
          "1952",
          "1953",
          "1954",
          "1955",
          "1956",
          "1957",
          "1958",
          "1959",
          "1960",
          "1961",
          "1962",
          "1963",
          "1964",
          "1965",
          "1966",
          "1967",
          "1968",
          "1969",
          "1970",
          "1971",
          "1972",
          "1973",
          "1974",
          "1975",
          "1976",
          "1977",
          "1978",
          "1979",
          "1980",
          "1981",
          "1982",
          "1983",
          "1984",
          "1985",
          "1986",
          "1987",
          "1988",
          "1989",
          "1990",
          "1991",
          "1992",
          "1993",
          "1994",
          "1995",
          "1996",
          "1997",
          "1998",
          "1999",
          "2000",
          "2001",
          "2002",
          "2003",
          "2004",
          "2005",
          "2006",
          "2007",
          "2008",
          "2009",
          "2010",
          "2011",
          "2012",
          "2013",
          "2014",
          "2015"
         ],
         "xaxis": "x",
         "y": [
          8.889999999999999,
          10.673,
          7.587,
          9.212333333333333,
          8.957333333333333,
          9.233666666666666,
          8.063,
          8.455333333333334,
          6.2923333333333344,
          8.387,
          7.778,
          8.283666666666667,
          7.616333333333333,
          7.167000000000001,
          8.832666666666666,
          8.166666666666666,
          9.389666666666667,
          9.539,
          7.711333333333333,
          6.445666666666665,
          8.392,
          8.865333333333334,
          9.102333333333334,
          8.354333333333333,
          7.5183333333333335,
          9.882333333333333,
          8.177333333333333,
          7.954666666666667,
          8.426666666666668,
          9.267666666666667,
          8.308666666666666,
          8.791333333333332,
          8.777333333333333,
          6.503666666666667,
          7.219666666666666,
          7.791333333333333,
          8.537,
          7.976666666666667,
          9.053,
          8.457333333333333,
          8.380333333333335,
          8.654333333333332,
          8.631333333333334,
          8.687,
          8.762666666666666,
          8.042,
          8.879333333333333,
          8.809,
          8.771,
          9.273666666666667,
          8.612,
          8.760333333333334,
          9.023333333333332,
          9.136666666666665,
          9.627333333333334,
          8.076666666666666,
          8.735333333333335,
          9.162333333333335,
          8.398333333333333,
          7.572,
          6.663666666666667,
          6.817,
          7.3823333333333325,
          9.276666666666667,
          8.263,
          7.488666666666667,
          6.7156666666666665,
          6.550999999999999,
          7.4223333333333334,
          8.451999999999998,
          7.730333333333333,
          8.104666666666667,
          7.656666666666667,
          7.449333333333333,
          8.534,
          8.395,
          8.757,
          8.557333333333334,
          8.231,
          8.135666666666667,
          8.675333333333333,
          7.396,
          7.774,
          8.577333333333334,
          8.847666666666667,
          7.363,
          7.794,
          7.542333333333333,
          8.264,
          7.663999999999999,
          7.538666666666667,
          8.143333333333333,
          8.023666666666665,
          8.331666666666667,
          7.973333333333333,
          8.07,
          8.337,
          8.603666666666667,
          8.314,
          8.586999999999998,
          8.109666666666667,
          8.590666666666666,
          8.327,
          8.342666666666668,
          9.007333333333333,
          8.257,
          8.131666666666666,
          8.163333333333332,
          8.649333333333333,
          8.608666666666666,
          8.543666666666667,
          8.530333333333333,
          8.034333333333334,
          8.285666666666666,
          8.465666666666666,
          9.025666666666666,
          8.642666666666667,
          9.304666666666668,
          8.769666666666668,
          9.008666666666667,
          8.787333333333331,
          8.64,
          8.856666666666667,
          8.846666666666666,
          9.013333333333334,
          8.172666666666666,
          8.575333333333333,
          9.232,
          9.237333333333334,
          8.734666666666667,
          8.650666666666666,
          8.604,
          8.415666666666667,
          8.385666666666665,
          8.326666666666666,
          8.527333333333335,
          8.476666666666667,
          8.679,
          8.892666666666669,
          8.470333333333334,
          8.584666666666667,
          8.533333333333333,
          8.637666666666666,
          8.943,
          8.703333333333333,
          8.868,
          8.868666666666668,
          8.91,
          8.677666666666665,
          9.380666666666666,
          9.141666666666667,
          8.987666666666668,
          8.624666666666668,
          8.609666666666667,
          8.814666666666666,
          9.009333333333332,
          8.846666666666666,
          8.702,
          8.704666666666666,
          9.102333333333332,
          8.685666666666668,
          8.955,
          8.37,
          8.953333333333333,
          9.020333333333333,
          9.022333333333334,
          8.791666666666668,
          8.703000000000001,
          8.999,
          8.946666666666667,
          8.793666666666667,
          8.999,
          8.959,
          9.260333333333334,
          9.186666666666667,
          9.171666666666665,
          9.308333333333334,
          9.495666666666667,
          9.283999999999999,
          9.146333333333335,
          9.236333333333333,
          9.487666666666666,
          9.3,
          8.994,
          9.181666666666667,
          8.985999999999999,
          9.237,
          9.499333333333333,
          9.580333333333334,
          9.121666666666666,
          9.267000000000001,
          9.159666666666668,
          9.389333333333335,
          9.421,
          9.449666666666667,
          9.290999999999999,
          9.193333333333333,
          9.528,
          9.308,
          9.212,
          8.825666666666667,
          9.406333333333334,
          8.94,
          9.237666666666668,
          9.407666666666666,
          9.220666666666666,
          8.816333333333333,
          9.399666666666667,
          9.159999999999998,
          8.952666666666667,
          9.139999999999999,
          9.26,
          9.256333333333334,
          9.686333333333332,
          8.806333333333333,
          9.026,
          9.085,
          9.346333333333334,
          8.988,
          9.319,
          9.224,
          9.274000000000001,
          9.014666666666667,
          9.318666666666667,
          8.919,
          9.121,
          8.688666666666666,
          9.187333333333333,
          9.239666666666666,
          9.373,
          9.518333333333334,
          9.301,
          9.077333333333334,
          9.647,
          9.068,
          9.095333333333333,
          9.011666666666667,
          9.364333333333333,
          9.651666666666666,
          9.447333333333333,
          9.665666666666667,
          9.623333333333333,
          8.971333333333332,
          9.094,
          9.768666666666666,
          9.810666666666666,
          9.455333333333334,
          9.878333333333334,
          9.672666666666666,
          9.770666666666665,
          9.448333333333334,
          9.996666666666666,
          9.943333333333333,
          10.020666666666667,
          10.028,
          10.413666666666666,
          10.039666666666667,
          10.115333333333334,
          10.141666666666667,
          10.106666666666667,
          10.264000000000001,
          10.026000000000002,
          10.208,
          10.278,
          10.044666666666666,
          10.411
         ],
         "yaxis": "y"
        },
        {
         "hovertemplate": "variable=spring_temps<br>year=%{x}<br>value=%{y}<extra></extra>",
         "legendgroup": "spring_temps",
         "line": {
          "color": "#ab63fa",
          "dash": "solid"
         },
         "marker": {
          "symbol": "circle"
         },
         "mode": "lines",
         "name": "spring_temps",
         "showlegend": true,
         "type": "scattergl",
         "x": [
          "1750",
          "1751",
          "1752",
          "1753",
          "1754",
          "1755",
          "1756",
          "1757",
          "1758",
          "1759",
          "1760",
          "1761",
          "1762",
          "1763",
          "1764",
          "1765",
          "1766",
          "1767",
          "1768",
          "1769",
          "1770",
          "1771",
          "1772",
          "1773",
          "1774",
          "1775",
          "1776",
          "1777",
          "1778",
          "1779",
          "1780",
          "1781",
          "1782",
          "1783",
          "1784",
          "1785",
          "1786",
          "1787",
          "1788",
          "1789",
          "1790",
          "1791",
          "1792",
          "1793",
          "1794",
          "1795",
          "1796",
          "1797",
          "1798",
          "1799",
          "1800",
          "1801",
          "1802",
          "1803",
          "1804",
          "1805",
          "1806",
          "1807",
          "1808",
          "1809",
          "1810",
          "1811",
          "1812",
          "1813",
          "1814",
          "1815",
          "1816",
          "1817",
          "1818",
          "1819",
          "1820",
          "1821",
          "1822",
          "1823",
          "1824",
          "1825",
          "1826",
          "1827",
          "1828",
          "1829",
          "1830",
          "1831",
          "1832",
          "1833",
          "1834",
          "1835",
          "1836",
          "1837",
          "1838",
          "1839",
          "1840",
          "1841",
          "1842",
          "1843",
          "1844",
          "1845",
          "1846",
          "1847",
          "1848",
          "1849",
          "1850",
          "1851",
          "1852",
          "1853",
          "1854",
          "1855",
          "1856",
          "1857",
          "1858",
          "1859",
          "1860",
          "1861",
          "1862",
          "1863",
          "1864",
          "1865",
          "1866",
          "1867",
          "1868",
          "1869",
          "1870",
          "1871",
          "1872",
          "1873",
          "1874",
          "1875",
          "1876",
          "1877",
          "1878",
          "1879",
          "1880",
          "1881",
          "1882",
          "1883",
          "1884",
          "1885",
          "1886",
          "1887",
          "1888",
          "1889",
          "1890",
          "1891",
          "1892",
          "1893",
          "1894",
          "1895",
          "1896",
          "1897",
          "1898",
          "1899",
          "1900",
          "1901",
          "1902",
          "1903",
          "1904",
          "1905",
          "1906",
          "1907",
          "1908",
          "1909",
          "1910",
          "1911",
          "1912",
          "1913",
          "1914",
          "1915",
          "1916",
          "1917",
          "1918",
          "1919",
          "1920",
          "1921",
          "1922",
          "1923",
          "1924",
          "1925",
          "1926",
          "1927",
          "1928",
          "1929",
          "1930",
          "1931",
          "1932",
          "1933",
          "1934",
          "1935",
          "1936",
          "1937",
          "1938",
          "1939",
          "1940",
          "1941",
          "1942",
          "1943",
          "1944",
          "1945",
          "1946",
          "1947",
          "1948",
          "1949",
          "1950",
          "1951",
          "1952",
          "1953",
          "1954",
          "1955",
          "1956",
          "1957",
          "1958",
          "1959",
          "1960",
          "1961",
          "1962",
          "1963",
          "1964",
          "1965",
          "1966",
          "1967",
          "1968",
          "1969",
          "1970",
          "1971",
          "1972",
          "1973",
          "1974",
          "1975",
          "1976",
          "1977",
          "1978",
          "1979",
          "1980",
          "1981",
          "1982",
          "1983",
          "1984",
          "1985",
          "1986",
          "1987",
          "1988",
          "1989",
          "1990",
          "1991",
          "1992",
          "1993",
          "1994",
          "1995",
          "1996",
          "1997",
          "1998",
          "1999",
          "2000",
          "2001",
          "2002",
          "2003",
          "2004",
          "2005",
          "2006",
          "2007",
          "2008",
          "2009",
          "2010",
          "2011",
          "2012",
          "2013",
          "2014",
          "2015"
         ],
         "xaxis": "x",
         "y": [
          8.563,
          6.734999999999999,
          7.035499999999999,
          8.627333333333334,
          9.074333333333334,
          8.583666666666666,
          9.466,
          8.604666666666667,
          6.896666666666666,
          6.897333333333333,
          6.653666666666666,
          8.916,
          7.809333333333332,
          6.716,
          8.192,
          8.868666666666668,
          8.432333333333332,
          7.831,
          6.144000000000001,
          8.803333333333333,
          7.132000000000001,
          6.0523333333333325,
          7.148666666666666,
          8.866999999999999,
          10.607,
          9.036666666666667,
          7.522333333333333,
          7.774333333333334,
          8.957999999999998,
          10.370666666666667,
          11.737666666666664,
          7.599,
          7.390999999999998,
          8.397333333333334,
          7.3580000000000005,
          6.173666666666667,
          8.849666666666666,
          7.9576666666666656,
          8.159333333333334,
          7.783,
          6.997333333333333,
          7.9253333333333345,
          7.914666666666666,
          8.248,
          9.146333333333333,
          8.552,
          7.507666666666666,
          7.024333333333334,
          8.953333333333333,
          8.041666666666666,
          8.224666666666666,
          8.660666666666666,
          7.760333333333333,
          8.653666666666666,
          8.863,
          8.328999999999999,
          8.075333333333333,
          7.03,
          7.066666666666666,
          6.833666666666666,
          6.872,
          6.481999999999999,
          6.191333333333333,
          7.048333333333333,
          6.424666666666667,
          6.698666666666667,
          7.368333333333332,
          7.311333333333333,
          8.904333333333334,
          6.603666666666666,
          8.312666666666667,
          8.167,
          8.850333333333333,
          7.765333333333333,
          8.287999999999998,
          8.368,
          8.365,
          9.125666666666666,
          8.582333333333333,
          8.070666666666666,
          7.832333333333334,
          7.761,
          7.732666666666667,
          7.657,
          8.351666666666667,
          7.482333333333333,
          7.680666666666667,
          6.797999999999999,
          7.030333333333332,
          6.951333333333333,
          7.718666666666667,
          6.947,
          8.198333333333332,
          7.537999999999999,
          7.410666666666667,
          7.747333333333333,
          8.227666666666666,
          7.549333333333333,
          7.832,
          7.496333333333333,
          7.391666666666666,
          7.530666666666666,
          7.513333333333333,
          7.531333333333333,
          7.805,
          8.127666666666666,
          7.550999999999999,
          7.008,
          7.978333333333334,
          8.340333333333334,
          7.438666666666666,
          7.497333333333333,
          7.515666666666667,
          7.898,
          7.707333333333334,
          7.423333333333332,
          7.7443333333333335,
          7.735666666666667,
          8.009666666666666,
          7.863333333333332,
          7.958000000000001,
          7.937666666666666,
          7.988666666666667,
          7.723999999999999,
          7.919333333333333,
          7.545999999999999,
          7.8790000000000004,
          8.130666666666666,
          8.841333333333333,
          7.831666666666667,
          7.761666666666666,
          8.165999999999999,
          7.873,
          7.817333333333333,
          7.092,
          7.508333333333333,
          7.651666666666666,
          7.726999999999999,
          7.588333333333334,
          8.376666666666667,
          7.470999999999999,
          7.719333333333332,
          7.515333333333333,
          7.906666666666666,
          7.908333333333334,
          7.934333333333334,
          7.500666666666667,
          8,
          7.497666666666667,
          7.973999999999999,
          8.366666666666667,
          8.457,
          7.910666666666667,
          7.851999999999999,
          7.676666666666666,
          7.790666666666667,
          8.244,
          7.509666666666667,
          7.702999999999999,
          7.578,
          7.905333333333334,
          7.722,
          7.946333333333333,
          7.761666666666666,
          8.108333333333333,
          8.447000000000001,
          7.954999999999999,
          7.5953333333333335,
          7.664999999999999,
          8.066333333333333,
          8.216999999999999,
          8.216666666666667,
          8.211,
          7.821333333333333,
          8.17,
          8.202333333333334,
          8.318333333333333,
          7.935666666666666,
          8.124,
          8.036,
          8.256666666666666,
          8.134333333333332,
          8.316,
          8.013666666666667,
          8.104,
          8.025333333333334,
          8.136333333333333,
          8.137666666666666,
          8.673333333333334,
          8.259333333333332,
          8.506,
          8.427,
          8.354,
          8.420333333333334,
          8.433,
          8.320666666666668,
          8.476,
          8.605333333333334,
          8.318333333333333,
          8.243333333333332,
          8.222333333333333,
          8.298666666666668,
          8.26,
          8.706000000000001,
          8.097999999999999,
          7.970999999999999,
          7.8439999999999985,
          8.220333333333334,
          8.497333333333332,
          8.665333333333333,
          7.769333333333333,
          8.614666666666666,
          8.399333333333333,
          8.104999999999999,
          7.897333333333333,
          8.131333333333332,
          8.296,
          8.495333333333333,
          8.546666666666667,
          8.353666666666667,
          8.360333333333333,
          8.183666666666667,
          8.259666666666666,
          8.84233333333333,
          8.258000000000001,
          8.677333333333333,
          7.917666666666666,
          8.777333333333333,
          8.604,
          8.376,
          8.690666666666665,
          8.918999999999999,
          8.228666666666667,
          8.706999999999999,
          8.693,
          8.503333333333332,
          8.735666666666665,
          8.455,
          8.924999999999999,
          8.587000000000002,
          9.243333333333334,
          8.805333333333333,
          8.686333333333332,
          8.696,
          8.811,
          8.832666666666666,
          8.597,
          8.832,
          9.224,
          8.691333333333333,
          9.215,
          9.241333333333333,
          9.416333333333332,
          9.118333333333332,
          9.046999999999999,
          9.462666666666665,
          9.056666666666667,
          9.608666666666666,
          9.418333333333333,
          9.188333333333333,
          9.604999999999999,
          9.19,
          9.429666666666666,
          9.166666666666666,
          9.516333333333334,
          9.455
         ],
         "yaxis": "y"
        }
       ],
       "layout": {
        "legend": {
         "title": {
          "text": "variable"
         },
         "tracegroupgap": 0
        },
        "margin": {
         "t": 60
        },
        "template": {
         "data": {
          "bar": [
           {
            "error_x": {
             "color": "#2a3f5f"
            },
            "error_y": {
             "color": "#2a3f5f"
            },
            "marker": {
             "line": {
              "color": "#E5ECF6",
              "width": 0.5
             },
             "pattern": {
              "fillmode": "overlay",
              "size": 10,
              "solidity": 0.2
             }
            },
            "type": "bar"
           }
          ],
          "barpolar": [
           {
            "marker": {
             "line": {
              "color": "#E5ECF6",
              "width": 0.5
             },
             "pattern": {
              "fillmode": "overlay",
              "size": 10,
              "solidity": 0.2
             }
            },
            "type": "barpolar"
           }
          ],
          "carpet": [
           {
            "aaxis": {
             "endlinecolor": "#2a3f5f",
             "gridcolor": "white",
             "linecolor": "white",
             "minorgridcolor": "white",
             "startlinecolor": "#2a3f5f"
            },
            "baxis": {
             "endlinecolor": "#2a3f5f",
             "gridcolor": "white",
             "linecolor": "white",
             "minorgridcolor": "white",
             "startlinecolor": "#2a3f5f"
            },
            "type": "carpet"
           }
          ],
          "choropleth": [
           {
            "colorbar": {
             "outlinewidth": 0,
             "ticks": ""
            },
            "type": "choropleth"
           }
          ],
          "contour": [
           {
            "colorbar": {
             "outlinewidth": 0,
             "ticks": ""
            },
            "colorscale": [
             [
              0,
              "#0d0887"
             ],
             [
              0.1111111111111111,
              "#46039f"
             ],
             [
              0.2222222222222222,
              "#7201a8"
             ],
             [
              0.3333333333333333,
              "#9c179e"
             ],
             [
              0.4444444444444444,
              "#bd3786"
             ],
             [
              0.5555555555555556,
              "#d8576b"
             ],
             [
              0.6666666666666666,
              "#ed7953"
             ],
             [
              0.7777777777777778,
              "#fb9f3a"
             ],
             [
              0.8888888888888888,
              "#fdca26"
             ],
             [
              1,
              "#f0f921"
             ]
            ],
            "type": "contour"
           }
          ],
          "contourcarpet": [
           {
            "colorbar": {
             "outlinewidth": 0,
             "ticks": ""
            },
            "type": "contourcarpet"
           }
          ],
          "heatmap": [
           {
            "colorbar": {
             "outlinewidth": 0,
             "ticks": ""
            },
            "colorscale": [
             [
              0,
              "#0d0887"
             ],
             [
              0.1111111111111111,
              "#46039f"
             ],
             [
              0.2222222222222222,
              "#7201a8"
             ],
             [
              0.3333333333333333,
              "#9c179e"
             ],
             [
              0.4444444444444444,
              "#bd3786"
             ],
             [
              0.5555555555555556,
              "#d8576b"
             ],
             [
              0.6666666666666666,
              "#ed7953"
             ],
             [
              0.7777777777777778,
              "#fb9f3a"
             ],
             [
              0.8888888888888888,
              "#fdca26"
             ],
             [
              1,
              "#f0f921"
             ]
            ],
            "type": "heatmap"
           }
          ],
          "heatmapgl": [
           {
            "colorbar": {
             "outlinewidth": 0,
             "ticks": ""
            },
            "colorscale": [
             [
              0,
              "#0d0887"
             ],
             [
              0.1111111111111111,
              "#46039f"
             ],
             [
              0.2222222222222222,
              "#7201a8"
             ],
             [
              0.3333333333333333,
              "#9c179e"
             ],
             [
              0.4444444444444444,
              "#bd3786"
             ],
             [
              0.5555555555555556,
              "#d8576b"
             ],
             [
              0.6666666666666666,
              "#ed7953"
             ],
             [
              0.7777777777777778,
              "#fb9f3a"
             ],
             [
              0.8888888888888888,
              "#fdca26"
             ],
             [
              1,
              "#f0f921"
             ]
            ],
            "type": "heatmapgl"
           }
          ],
          "histogram": [
           {
            "marker": {
             "pattern": {
              "fillmode": "overlay",
              "size": 10,
              "solidity": 0.2
             }
            },
            "type": "histogram"
           }
          ],
          "histogram2d": [
           {
            "colorbar": {
             "outlinewidth": 0,
             "ticks": ""
            },
            "colorscale": [
             [
              0,
              "#0d0887"
             ],
             [
              0.1111111111111111,
              "#46039f"
             ],
             [
              0.2222222222222222,
              "#7201a8"
             ],
             [
              0.3333333333333333,
              "#9c179e"
             ],
             [
              0.4444444444444444,
              "#bd3786"
             ],
             [
              0.5555555555555556,
              "#d8576b"
             ],
             [
              0.6666666666666666,
              "#ed7953"
             ],
             [
              0.7777777777777778,
              "#fb9f3a"
             ],
             [
              0.8888888888888888,
              "#fdca26"
             ],
             [
              1,
              "#f0f921"
             ]
            ],
            "type": "histogram2d"
           }
          ],
          "histogram2dcontour": [
           {
            "colorbar": {
             "outlinewidth": 0,
             "ticks": ""
            },
            "colorscale": [
             [
              0,
              "#0d0887"
             ],
             [
              0.1111111111111111,
              "#46039f"
             ],
             [
              0.2222222222222222,
              "#7201a8"
             ],
             [
              0.3333333333333333,
              "#9c179e"
             ],
             [
              0.4444444444444444,
              "#bd3786"
             ],
             [
              0.5555555555555556,
              "#d8576b"
             ],
             [
              0.6666666666666666,
              "#ed7953"
             ],
             [
              0.7777777777777778,
              "#fb9f3a"
             ],
             [
              0.8888888888888888,
              "#fdca26"
             ],
             [
              1,
              "#f0f921"
             ]
            ],
            "type": "histogram2dcontour"
           }
          ],
          "mesh3d": [
           {
            "colorbar": {
             "outlinewidth": 0,
             "ticks": ""
            },
            "type": "mesh3d"
           }
          ],
          "parcoords": [
           {
            "line": {
             "colorbar": {
              "outlinewidth": 0,
              "ticks": ""
             }
            },
            "type": "parcoords"
           }
          ],
          "pie": [
           {
            "automargin": true,
            "type": "pie"
           }
          ],
          "scatter": [
           {
            "fillpattern": {
             "fillmode": "overlay",
             "size": 10,
             "solidity": 0.2
            },
            "type": "scatter"
           }
          ],
          "scatter3d": [
           {
            "line": {
             "colorbar": {
              "outlinewidth": 0,
              "ticks": ""
             }
            },
            "marker": {
             "colorbar": {
              "outlinewidth": 0,
              "ticks": ""
             }
            },
            "type": "scatter3d"
           }
          ],
          "scattercarpet": [
           {
            "marker": {
             "colorbar": {
              "outlinewidth": 0,
              "ticks": ""
             }
            },
            "type": "scattercarpet"
           }
          ],
          "scattergeo": [
           {
            "marker": {
             "colorbar": {
              "outlinewidth": 0,
              "ticks": ""
             }
            },
            "type": "scattergeo"
           }
          ],
          "scattergl": [
           {
            "marker": {
             "colorbar": {
              "outlinewidth": 0,
              "ticks": ""
             }
            },
            "type": "scattergl"
           }
          ],
          "scattermapbox": [
           {
            "marker": {
             "colorbar": {
              "outlinewidth": 0,
              "ticks": ""
             }
            },
            "type": "scattermapbox"
           }
          ],
          "scatterpolar": [
           {
            "marker": {
             "colorbar": {
              "outlinewidth": 0,
              "ticks": ""
             }
            },
            "type": "scatterpolar"
           }
          ],
          "scatterpolargl": [
           {
            "marker": {
             "colorbar": {
              "outlinewidth": 0,
              "ticks": ""
             }
            },
            "type": "scatterpolargl"
           }
          ],
          "scatterternary": [
           {
            "marker": {
             "colorbar": {
              "outlinewidth": 0,
              "ticks": ""
             }
            },
            "type": "scatterternary"
           }
          ],
          "surface": [
           {
            "colorbar": {
             "outlinewidth": 0,
             "ticks": ""
            },
            "colorscale": [
             [
              0,
              "#0d0887"
             ],
             [
              0.1111111111111111,
              "#46039f"
             ],
             [
              0.2222222222222222,
              "#7201a8"
             ],
             [
              0.3333333333333333,
              "#9c179e"
             ],
             [
              0.4444444444444444,
              "#bd3786"
             ],
             [
              0.5555555555555556,
              "#d8576b"
             ],
             [
              0.6666666666666666,
              "#ed7953"
             ],
             [
              0.7777777777777778,
              "#fb9f3a"
             ],
             [
              0.8888888888888888,
              "#fdca26"
             ],
             [
              1,
              "#f0f921"
             ]
            ],
            "type": "surface"
           }
          ],
          "table": [
           {
            "cells": {
             "fill": {
              "color": "#EBF0F8"
             },
             "line": {
              "color": "white"
             }
            },
            "header": {
             "fill": {
              "color": "#C8D4E3"
             },
             "line": {
              "color": "white"
             }
            },
            "type": "table"
           }
          ]
         },
         "layout": {
          "annotationdefaults": {
           "arrowcolor": "#2a3f5f",
           "arrowhead": 0,
           "arrowwidth": 1
          },
          "autotypenumbers": "strict",
          "coloraxis": {
           "colorbar": {
            "outlinewidth": 0,
            "ticks": ""
           }
          },
          "colorscale": {
           "diverging": [
            [
             0,
             "#8e0152"
            ],
            [
             0.1,
             "#c51b7d"
            ],
            [
             0.2,
             "#de77ae"
            ],
            [
             0.3,
             "#f1b6da"
            ],
            [
             0.4,
             "#fde0ef"
            ],
            [
             0.5,
             "#f7f7f7"
            ],
            [
             0.6,
             "#e6f5d0"
            ],
            [
             0.7,
             "#b8e186"
            ],
            [
             0.8,
             "#7fbc41"
            ],
            [
             0.9,
             "#4d9221"
            ],
            [
             1,
             "#276419"
            ]
           ],
           "sequential": [
            [
             0,
             "#0d0887"
            ],
            [
             0.1111111111111111,
             "#46039f"
            ],
            [
             0.2222222222222222,
             "#7201a8"
            ],
            [
             0.3333333333333333,
             "#9c179e"
            ],
            [
             0.4444444444444444,
             "#bd3786"
            ],
            [
             0.5555555555555556,
             "#d8576b"
            ],
            [
             0.6666666666666666,
             "#ed7953"
            ],
            [
             0.7777777777777778,
             "#fb9f3a"
            ],
            [
             0.8888888888888888,
             "#fdca26"
            ],
            [
             1,
             "#f0f921"
            ]
           ],
           "sequentialminus": [
            [
             0,
             "#0d0887"
            ],
            [
             0.1111111111111111,
             "#46039f"
            ],
            [
             0.2222222222222222,
             "#7201a8"
            ],
            [
             0.3333333333333333,
             "#9c179e"
            ],
            [
             0.4444444444444444,
             "#bd3786"
            ],
            [
             0.5555555555555556,
             "#d8576b"
            ],
            [
             0.6666666666666666,
             "#ed7953"
            ],
            [
             0.7777777777777778,
             "#fb9f3a"
            ],
            [
             0.8888888888888888,
             "#fdca26"
            ],
            [
             1,
             "#f0f921"
            ]
           ]
          },
          "colorway": [
           "#636efa",
           "#EF553B",
           "#00cc96",
           "#ab63fa",
           "#FFA15A",
           "#19d3f3",
           "#FF6692",
           "#B6E880",
           "#FF97FF",
           "#FECB52"
          ],
          "font": {
           "color": "#2a3f5f"
          },
          "geo": {
           "bgcolor": "white",
           "lakecolor": "white",
           "landcolor": "#E5ECF6",
           "showlakes": true,
           "showland": true,
           "subunitcolor": "white"
          },
          "hoverlabel": {
           "align": "left"
          },
          "hovermode": "closest",
          "mapbox": {
           "style": "light"
          },
          "paper_bgcolor": "white",
          "plot_bgcolor": "#E5ECF6",
          "polar": {
           "angularaxis": {
            "gridcolor": "white",
            "linecolor": "white",
            "ticks": ""
           },
           "bgcolor": "#E5ECF6",
           "radialaxis": {
            "gridcolor": "white",
            "linecolor": "white",
            "ticks": ""
           }
          },
          "scene": {
           "xaxis": {
            "backgroundcolor": "#E5ECF6",
            "gridcolor": "white",
            "gridwidth": 2,
            "linecolor": "white",
            "showbackground": true,
            "ticks": "",
            "zerolinecolor": "white"
           },
           "yaxis": {
            "backgroundcolor": "#E5ECF6",
            "gridcolor": "white",
            "gridwidth": 2,
            "linecolor": "white",
            "showbackground": true,
            "ticks": "",
            "zerolinecolor": "white"
           },
           "zaxis": {
            "backgroundcolor": "#E5ECF6",
            "gridcolor": "white",
            "gridwidth": 2,
            "linecolor": "white",
            "showbackground": true,
            "ticks": "",
            "zerolinecolor": "white"
           }
          },
          "shapedefaults": {
           "line": {
            "color": "#2a3f5f"
           }
          },
          "ternary": {
           "aaxis": {
            "gridcolor": "white",
            "linecolor": "white",
            "ticks": ""
           },
           "baxis": {
            "gridcolor": "white",
            "linecolor": "white",
            "ticks": ""
           },
           "bgcolor": "#E5ECF6",
           "caxis": {
            "gridcolor": "white",
            "linecolor": "white",
            "ticks": ""
           }
          },
          "title": {
           "x": 0.05
          },
          "xaxis": {
           "automargin": true,
           "gridcolor": "white",
           "linecolor": "white",
           "ticks": "",
           "title": {
            "standoff": 15
           },
           "zerolinecolor": "white",
           "zerolinewidth": 2
          },
          "yaxis": {
           "automargin": true,
           "gridcolor": "white",
           "linecolor": "white",
           "ticks": "",
           "title": {
            "standoff": 15
           },
           "zerolinecolor": "white",
           "zerolinewidth": 2
          }
         }
        },
        "xaxis": {
         "anchor": "y",
         "domain": [
          0,
          1
         ],
         "title": {
          "text": "year"
         }
        },
        "yaxis": {
         "anchor": "x",
         "domain": [
          0,
          1
         ],
         "title": {
          "text": "value"
         }
        }
       }
      }
     },
     "metadata": {},
     "output_type": "display_data"
    }
   ],
   "source": [
    "fig = px.line(season, x='year', y=['summer_temps', 'winter_temps', 'autumn_temps', 'spring_temps'])\n",
    "fig.show()"
   ]
  },
  {
   "cell_type": "code",
   "execution_count": 42,
   "metadata": {},
   "outputs": [],
   "source": [
    "# analyse trends in temperatures for top countries"
   ]
  },
  {
   "cell_type": "code",
   "execution_count": 43,
   "metadata": {},
   "outputs": [],
   "source": [
    "continent = ['Russia', 'United States', 'China', 'Japan', 'Australia', 'India']"
   ]
  },
  {
   "cell_type": "code",
   "execution_count": 44,
   "metadata": {},
   "outputs": [
    {
     "data": {
      "text/html": [
       "<div>\n",
       "<style scoped>\n",
       "    .dataframe tbody tr th:only-of-type {\n",
       "        vertical-align: middle;\n",
       "    }\n",
       "\n",
       "    .dataframe tbody tr th {\n",
       "        vertical-align: top;\n",
       "    }\n",
       "\n",
       "    .dataframe thead th {\n",
       "        text-align: right;\n",
       "    }\n",
       "</style>\n",
       "<table border=\"1\" class=\"dataframe\">\n",
       "  <thead>\n",
       "    <tr style=\"text-align: right;\">\n",
       "      <th></th>\n",
       "      <th>dt</th>\n",
       "      <th>AverageTemperature</th>\n",
       "      <th>AverageTemperatureUncertainty</th>\n",
       "      <th>Country</th>\n",
       "    </tr>\n",
       "  </thead>\n",
       "  <tbody>\n",
       "    <tr>\n",
       "      <th>0</th>\n",
       "      <td>1743-11-01</td>\n",
       "      <td>4.384</td>\n",
       "      <td>2.294</td>\n",
       "      <td>Åland</td>\n",
       "    </tr>\n",
       "    <tr>\n",
       "      <th>5</th>\n",
       "      <td>1744-04-01</td>\n",
       "      <td>1.530</td>\n",
       "      <td>4.680</td>\n",
       "      <td>Åland</td>\n",
       "    </tr>\n",
       "    <tr>\n",
       "      <th>6</th>\n",
       "      <td>1744-05-01</td>\n",
       "      <td>6.702</td>\n",
       "      <td>1.789</td>\n",
       "      <td>Åland</td>\n",
       "    </tr>\n",
       "    <tr>\n",
       "      <th>7</th>\n",
       "      <td>1744-06-01</td>\n",
       "      <td>11.609</td>\n",
       "      <td>1.577</td>\n",
       "      <td>Åland</td>\n",
       "    </tr>\n",
       "    <tr>\n",
       "      <th>8</th>\n",
       "      <td>1744-07-01</td>\n",
       "      <td>15.342</td>\n",
       "      <td>1.410</td>\n",
       "      <td>Åland</td>\n",
       "    </tr>\n",
       "    <tr>\n",
       "      <th>...</th>\n",
       "      <td>...</td>\n",
       "      <td>...</td>\n",
       "      <td>...</td>\n",
       "      <td>...</td>\n",
       "    </tr>\n",
       "    <tr>\n",
       "      <th>577456</th>\n",
       "      <td>2013-04-01</td>\n",
       "      <td>21.142</td>\n",
       "      <td>0.495</td>\n",
       "      <td>Zimbabwe</td>\n",
       "    </tr>\n",
       "    <tr>\n",
       "      <th>577457</th>\n",
       "      <td>2013-05-01</td>\n",
       "      <td>19.059</td>\n",
       "      <td>1.022</td>\n",
       "      <td>Zimbabwe</td>\n",
       "    </tr>\n",
       "    <tr>\n",
       "      <th>577458</th>\n",
       "      <td>2013-06-01</td>\n",
       "      <td>17.613</td>\n",
       "      <td>0.473</td>\n",
       "      <td>Zimbabwe</td>\n",
       "    </tr>\n",
       "    <tr>\n",
       "      <th>577459</th>\n",
       "      <td>2013-07-01</td>\n",
       "      <td>17.000</td>\n",
       "      <td>0.453</td>\n",
       "      <td>Zimbabwe</td>\n",
       "    </tr>\n",
       "    <tr>\n",
       "      <th>577460</th>\n",
       "      <td>2013-08-01</td>\n",
       "      <td>19.759</td>\n",
       "      <td>0.717</td>\n",
       "      <td>Zimbabwe</td>\n",
       "    </tr>\n",
       "  </tbody>\n",
       "</table>\n",
       "<p>544811 rows × 4 columns</p>\n",
       "</div>"
      ],
      "text/plain": [
       "                dt  AverageTemperature  AverageTemperatureUncertainty  \\\n",
       "0       1743-11-01               4.384                          2.294   \n",
       "5       1744-04-01               1.530                          4.680   \n",
       "6       1744-05-01               6.702                          1.789   \n",
       "7       1744-06-01              11.609                          1.577   \n",
       "8       1744-07-01              15.342                          1.410   \n",
       "...            ...                 ...                            ...   \n",
       "577456  2013-04-01              21.142                          0.495   \n",
       "577457  2013-05-01              19.059                          1.022   \n",
       "577458  2013-06-01              17.613                          0.473   \n",
       "577459  2013-07-01              17.000                          0.453   \n",
       "577460  2013-08-01              19.759                          0.717   \n",
       "\n",
       "         Country  \n",
       "0          Åland  \n",
       "5          Åland  \n",
       "6          Åland  \n",
       "7          Åland  \n",
       "8          Åland  \n",
       "...          ...  \n",
       "577456  Zimbabwe  \n",
       "577457  Zimbabwe  \n",
       "577458  Zimbabwe  \n",
       "577459  Zimbabwe  \n",
       "577460  Zimbabwe  \n",
       "\n",
       "[544811 rows x 4 columns]"
      ]
     },
     "execution_count": 44,
     "metadata": {},
     "output_type": "execute_result"
    }
   ],
   "source": [
    "global_temp_country"
   ]
  },
  {
   "cell_type": "code",
   "execution_count": 45,
   "metadata": {},
   "outputs": [],
   "source": [
    "continent_df = global_temp_country[global_temp_country.Country.isin(continent)]"
   ]
  },
  {
   "cell_type": "code",
   "execution_count": 46,
   "metadata": {},
   "outputs": [
    {
     "data": {
      "text/html": [
       "<div>\n",
       "<style scoped>\n",
       "    .dataframe tbody tr th:only-of-type {\n",
       "        vertical-align: middle;\n",
       "    }\n",
       "\n",
       "    .dataframe tbody tr th {\n",
       "        vertical-align: top;\n",
       "    }\n",
       "\n",
       "    .dataframe thead th {\n",
       "        text-align: right;\n",
       "    }\n",
       "</style>\n",
       "<table border=\"1\" class=\"dataframe\">\n",
       "  <thead>\n",
       "    <tr style=\"text-align: right;\">\n",
       "      <th></th>\n",
       "      <th>dt</th>\n",
       "      <th>AverageTemperature</th>\n",
       "      <th>AverageTemperatureUncertainty</th>\n",
       "      <th>Country</th>\n",
       "    </tr>\n",
       "  </thead>\n",
       "  <tbody>\n",
       "    <tr>\n",
       "      <th>34816</th>\n",
       "      <td>1852-07-01</td>\n",
       "      <td>14.116</td>\n",
       "      <td>1.530</td>\n",
       "      <td>Australia</td>\n",
       "    </tr>\n",
       "    <tr>\n",
       "      <th>34817</th>\n",
       "      <td>1852-08-01</td>\n",
       "      <td>15.330</td>\n",
       "      <td>1.400</td>\n",
       "      <td>Australia</td>\n",
       "    </tr>\n",
       "    <tr>\n",
       "      <th>34818</th>\n",
       "      <td>1852-09-01</td>\n",
       "      <td>18.740</td>\n",
       "      <td>1.446</td>\n",
       "      <td>Australia</td>\n",
       "    </tr>\n",
       "    <tr>\n",
       "      <th>34819</th>\n",
       "      <td>1852-10-01</td>\n",
       "      <td>21.984</td>\n",
       "      <td>1.493</td>\n",
       "      <td>Australia</td>\n",
       "    </tr>\n",
       "    <tr>\n",
       "      <th>34820</th>\n",
       "      <td>1852-11-01</td>\n",
       "      <td>24.073</td>\n",
       "      <td>1.466</td>\n",
       "      <td>Australia</td>\n",
       "    </tr>\n",
       "    <tr>\n",
       "      <th>...</th>\n",
       "      <td>...</td>\n",
       "      <td>...</td>\n",
       "      <td>...</td>\n",
       "      <td>...</td>\n",
       "    </tr>\n",
       "    <tr>\n",
       "      <th>557816</th>\n",
       "      <td>2013-05-01</td>\n",
       "      <td>14.073</td>\n",
       "      <td>0.178</td>\n",
       "      <td>United States</td>\n",
       "    </tr>\n",
       "    <tr>\n",
       "      <th>557817</th>\n",
       "      <td>2013-06-01</td>\n",
       "      <td>20.198</td>\n",
       "      <td>0.236</td>\n",
       "      <td>United States</td>\n",
       "    </tr>\n",
       "    <tr>\n",
       "      <th>557818</th>\n",
       "      <td>2013-07-01</td>\n",
       "      <td>22.074</td>\n",
       "      <td>0.152</td>\n",
       "      <td>United States</td>\n",
       "    </tr>\n",
       "    <tr>\n",
       "      <th>557819</th>\n",
       "      <td>2013-08-01</td>\n",
       "      <td>21.168</td>\n",
       "      <td>0.249</td>\n",
       "      <td>United States</td>\n",
       "    </tr>\n",
       "    <tr>\n",
       "      <th>557820</th>\n",
       "      <td>2013-09-01</td>\n",
       "      <td>18.273</td>\n",
       "      <td>1.210</td>\n",
       "      <td>United States</td>\n",
       "    </tr>\n",
       "  </tbody>\n",
       "</table>\n",
       "<p>13598 rows × 4 columns</p>\n",
       "</div>"
      ],
      "text/plain": [
       "                dt  AverageTemperature  AverageTemperatureUncertainty  \\\n",
       "34816   1852-07-01              14.116                          1.530   \n",
       "34817   1852-08-01              15.330                          1.400   \n",
       "34818   1852-09-01              18.740                          1.446   \n",
       "34819   1852-10-01              21.984                          1.493   \n",
       "34820   1852-11-01              24.073                          1.466   \n",
       "...            ...                 ...                            ...   \n",
       "557816  2013-05-01              14.073                          0.178   \n",
       "557817  2013-06-01              20.198                          0.236   \n",
       "557818  2013-07-01              22.074                          0.152   \n",
       "557819  2013-08-01              21.168                          0.249   \n",
       "557820  2013-09-01              18.273                          1.210   \n",
       "\n",
       "              Country  \n",
       "34816       Australia  \n",
       "34817       Australia  \n",
       "34818       Australia  \n",
       "34819       Australia  \n",
       "34820       Australia  \n",
       "...               ...  \n",
       "557816  United States  \n",
       "557817  United States  \n",
       "557818  United States  \n",
       "557819  United States  \n",
       "557820  United States  \n",
       "\n",
       "[13598 rows x 4 columns]"
      ]
     },
     "execution_count": 46,
     "metadata": {},
     "output_type": "execute_result"
    }
   ],
   "source": [
    "continent_df"
   ]
  },
  {
   "cell_type": "code",
   "execution_count": 47,
   "metadata": {},
   "outputs": [],
   "source": [
    "continent_df['year'] = continent_df.dt.apply(fetchYear)"
   ]
  },
  {
   "cell_type": "code",
   "execution_count": 50,
   "metadata": {},
   "outputs": [
    {
     "data": {
      "text/html": [
       "<div>\n",
       "<style scoped>\n",
       "    .dataframe tbody tr th:only-of-type {\n",
       "        vertical-align: middle;\n",
       "    }\n",
       "\n",
       "    .dataframe tbody tr th {\n",
       "        vertical-align: top;\n",
       "    }\n",
       "\n",
       "    .dataframe thead th {\n",
       "        text-align: right;\n",
       "    }\n",
       "</style>\n",
       "<table border=\"1\" class=\"dataframe\">\n",
       "  <thead>\n",
       "    <tr style=\"text-align: right;\">\n",
       "      <th></th>\n",
       "      <th></th>\n",
       "      <th>AverageTemperature</th>\n",
       "    </tr>\n",
       "    <tr>\n",
       "      <th>year</th>\n",
       "      <th>Country</th>\n",
       "      <th></th>\n",
       "    </tr>\n",
       "  </thead>\n",
       "  <tbody>\n",
       "    <tr>\n",
       "      <th>1768</th>\n",
       "      <th>United States</th>\n",
       "      <td>5.572750</td>\n",
       "    </tr>\n",
       "    <tr>\n",
       "      <th>1769</th>\n",
       "      <th>United States</th>\n",
       "      <td>10.446500</td>\n",
       "    </tr>\n",
       "    <tr>\n",
       "      <th>1774</th>\n",
       "      <th>United States</th>\n",
       "      <td>1.603000</td>\n",
       "    </tr>\n",
       "    <tr>\n",
       "      <th>1775</th>\n",
       "      <th>United States</th>\n",
       "      <td>9.499167</td>\n",
       "    </tr>\n",
       "    <tr>\n",
       "      <th>1776</th>\n",
       "      <th>United States</th>\n",
       "      <td>8.110000</td>\n",
       "    </tr>\n",
       "    <tr>\n",
       "      <th>...</th>\n",
       "      <th>...</th>\n",
       "      <td>...</td>\n",
       "    </tr>\n",
       "    <tr>\n",
       "      <th rowspan=\"5\" valign=\"top\">2013</th>\n",
       "      <th>China</th>\n",
       "      <td>9.295000</td>\n",
       "    </tr>\n",
       "    <tr>\n",
       "      <th>India</th>\n",
       "      <td>25.413250</td>\n",
       "    </tr>\n",
       "    <tr>\n",
       "      <th>Japan</th>\n",
       "      <td>12.964750</td>\n",
       "    </tr>\n",
       "    <tr>\n",
       "      <th>Russia</th>\n",
       "      <td>-2.263125</td>\n",
       "    </tr>\n",
       "    <tr>\n",
       "      <th>United States</th>\n",
       "      <td>11.297111</td>\n",
       "    </tr>\n",
       "  </tbody>\n",
       "</table>\n",
       "<p>1148 rows × 1 columns</p>\n",
       "</div>"
      ],
      "text/plain": [
       "                    AverageTemperature\n",
       "year Country                          \n",
       "1768 United States            5.572750\n",
       "1769 United States           10.446500\n",
       "1774 United States            1.603000\n",
       "1775 United States            9.499167\n",
       "1776 United States            8.110000\n",
       "...                                ...\n",
       "2013 China                    9.295000\n",
       "     India                   25.413250\n",
       "     Japan                   12.964750\n",
       "     Russia                  -2.263125\n",
       "     United States           11.297111\n",
       "\n",
       "[1148 rows x 1 columns]"
      ]
     },
     "execution_count": 50,
     "metadata": {},
     "output_type": "execute_result"
    }
   ],
   "source": [
    "continent_df.groupby(['year', 'Country']).agg({'AverageTemperature':'mean'})"
   ]
  },
  {
   "cell_type": "code",
   "execution_count": 58,
   "metadata": {},
   "outputs": [
    {
     "data": {
      "text/html": [
       "<div>\n",
       "<style scoped>\n",
       "    .dataframe tbody tr th:only-of-type {\n",
       "        vertical-align: middle;\n",
       "    }\n",
       "\n",
       "    .dataframe tbody tr th {\n",
       "        vertical-align: top;\n",
       "    }\n",
       "\n",
       "    .dataframe thead th {\n",
       "        text-align: right;\n",
       "    }\n",
       "</style>\n",
       "<table border=\"1\" class=\"dataframe\">\n",
       "  <thead>\n",
       "    <tr style=\"text-align: right;\">\n",
       "      <th></th>\n",
       "      <th>year</th>\n",
       "      <th>Country</th>\n",
       "      <th>AverageTemperature</th>\n",
       "    </tr>\n",
       "  </thead>\n",
       "  <tbody>\n",
       "    <tr>\n",
       "      <th>0</th>\n",
       "      <td>1768</td>\n",
       "      <td>United States</td>\n",
       "      <td>5.572750</td>\n",
       "    </tr>\n",
       "    <tr>\n",
       "      <th>1</th>\n",
       "      <td>1769</td>\n",
       "      <td>United States</td>\n",
       "      <td>10.446500</td>\n",
       "    </tr>\n",
       "    <tr>\n",
       "      <th>2</th>\n",
       "      <td>1774</td>\n",
       "      <td>United States</td>\n",
       "      <td>1.603000</td>\n",
       "    </tr>\n",
       "    <tr>\n",
       "      <th>3</th>\n",
       "      <td>1775</td>\n",
       "      <td>United States</td>\n",
       "      <td>9.499167</td>\n",
       "    </tr>\n",
       "    <tr>\n",
       "      <th>4</th>\n",
       "      <td>1776</td>\n",
       "      <td>United States</td>\n",
       "      <td>8.110000</td>\n",
       "    </tr>\n",
       "  </tbody>\n",
       "</table>\n",
       "</div>"
      ],
      "text/plain": [
       "   year        Country  AverageTemperature\n",
       "0  1768  United States            5.572750\n",
       "1  1769  United States           10.446500\n",
       "2  1774  United States            1.603000\n",
       "3  1775  United States            9.499167\n",
       "4  1776  United States            8.110000"
      ]
     },
     "execution_count": 58,
     "metadata": {},
     "output_type": "execute_result"
    }
   ],
   "source": [
    "mean_temp = continent_df.groupby(['year', 'Country']).agg({'AverageTemperature':'mean'}).reset_index()\n",
    "mean_temp.head()"
   ]
  },
  {
   "cell_type": "code",
   "execution_count": 66,
   "metadata": {},
   "outputs": [
    {
     "data": {
      "application/vnd.plotly.v1+json": {
       "config": {
        "plotlyServerURL": "https://plot.ly"
       },
       "data": [
        {
         "hovertemplate": "Country=United States<br>year=%{x}<br>AverageTemperature=%{y}<extra></extra>",
         "legendgroup": "United States",
         "line": {
          "color": "#636efa",
          "dash": "solid"
         },
         "marker": {
          "symbol": "circle"
         },
         "mode": "lines",
         "name": "United States",
         "showlegend": true,
         "type": "scattergl",
         "x": [
          "1768",
          "1769",
          "1774",
          "1775",
          "1776",
          "1777",
          "1778",
          "1779",
          "1781",
          "1782",
          "1796",
          "1797",
          "1811",
          "1812",
          "1813",
          "1814",
          "1815",
          "1816",
          "1817",
          "1818",
          "1819",
          "1820",
          "1821",
          "1822",
          "1823",
          "1824",
          "1825",
          "1826",
          "1827",
          "1828",
          "1829",
          "1830",
          "1831",
          "1832",
          "1833",
          "1834",
          "1835",
          "1836",
          "1837",
          "1838",
          "1839",
          "1840",
          "1841",
          "1842",
          "1843",
          "1844",
          "1845",
          "1846",
          "1847",
          "1848",
          "1849",
          "1850",
          "1851",
          "1852",
          "1853",
          "1854",
          "1855",
          "1856",
          "1857",
          "1858",
          "1859",
          "1860",
          "1861",
          "1862",
          "1863",
          "1864",
          "1865",
          "1866",
          "1867",
          "1868",
          "1869",
          "1870",
          "1871",
          "1872",
          "1873",
          "1874",
          "1875",
          "1876",
          "1877",
          "1878",
          "1879",
          "1880",
          "1881",
          "1882",
          "1883",
          "1884",
          "1885",
          "1886",
          "1887",
          "1888",
          "1889",
          "1890",
          "1891",
          "1892",
          "1893",
          "1894",
          "1895",
          "1896",
          "1897",
          "1898",
          "1899",
          "1900",
          "1901",
          "1902",
          "1903",
          "1904",
          "1905",
          "1906",
          "1907",
          "1908",
          "1909",
          "1910",
          "1911",
          "1912",
          "1913",
          "1914",
          "1915",
          "1916",
          "1917",
          "1918",
          "1919",
          "1920",
          "1921",
          "1922",
          "1923",
          "1924",
          "1925",
          "1926",
          "1927",
          "1928",
          "1929",
          "1930",
          "1931",
          "1932",
          "1933",
          "1934",
          "1935",
          "1936",
          "1937",
          "1938",
          "1939",
          "1940",
          "1941",
          "1942",
          "1943",
          "1944",
          "1945",
          "1946",
          "1947",
          "1948",
          "1949",
          "1950",
          "1951",
          "1952",
          "1953",
          "1954",
          "1955",
          "1956",
          "1957",
          "1958",
          "1959",
          "1960",
          "1961",
          "1962",
          "1963",
          "1964",
          "1965",
          "1966",
          "1967",
          "1968",
          "1969",
          "1970",
          "1971",
          "1972",
          "1973",
          "1974",
          "1975",
          "1976",
          "1977",
          "1978",
          "1979",
          "1980",
          "1981",
          "1982",
          "1983",
          "1984",
          "1985",
          "1986",
          "1987",
          "1988",
          "1989",
          "1990",
          "1991",
          "1992",
          "1993",
          "1994",
          "1995",
          "1996",
          "1997",
          "1998",
          "1999",
          "2000",
          "2001",
          "2002",
          "2003",
          "2004",
          "2005",
          "2006",
          "2007",
          "2008",
          "2009",
          "2010",
          "2011",
          "2012",
          "2013"
         ],
         "xaxis": "x",
         "y": [
          5.57275,
          10.4465,
          1.6029999999999998,
          9.499166666666666,
          8.11,
          8.30475,
          5.361999999999999,
          -0.7136666666666663,
          6.25325,
          7.606428571428571,
          12.231,
          6.356833333333333,
          8.0434,
          7.012666666666667,
          9.918888888888889,
          3.784333333333334,
          7.501333333333334,
          4.396625,
          7.229916666666667,
          6.2747,
          -2.7746666666666666,
          7.563833333333332,
          8.004083333333334,
          8.386833333333334,
          7.9110000000000005,
          8.50225,
          8.9665,
          8.578999999999999,
          9.102,
          8.8485,
          8.38925,
          9.215083333333334,
          7.72075,
          8.247416666666668,
          8.811916666666667,
          8.829583333333334,
          7.53925,
          7.5639166666666675,
          7.984416666666667,
          7.548666666666666,
          8.522166666666665,
          8.2515,
          8.14925,
          8.358333333333334,
          7.783666666666668,
          8.082833333333333,
          8.408916666666666,
          9.136333333333333,
          7.907083333333333,
          8.016833333333333,
          8.129166666666666,
          8.248333333333333,
          8.6575,
          8.183083333333334,
          8.459916666666667,
          8.821250000000001,
          8.459416666666668,
          7.94325,
          8.140333333333333,
          8.412833333333333,
          8.016833333333333,
          8.580916666666667,
          8.6505,
          8.214,
          8.446250000000001,
          8.381083333333335,
          8.495666666666667,
          8.334333333333333,
          8.509,
          8.207416666666667,
          8.31125,
          8.8295,
          8.70675,
          8.00075,
          8.063083333333333,
          8.768,
          7.849666666666667,
          8.099,
          8.696583333333335,
          9.017166666666666,
          8.68325,
          8.110333333333333,
          8.6435,
          8.369916666666667,
          7.9422500000000005,
          7.957999999999999,
          8.158416666666666,
          8.181833333333334,
          8.143583333333334,
          8.172833333333333,
          8.798083333333333,
          8.559166666666668,
          8.31675,
          8.177999999999999,
          8.171,
          8.46675,
          7.847333333333332,
          8.483583333333334,
          8.473166666666666,
          8.427916666666667,
          8.166833333333333,
          9.021583333333334,
          8.494916666666667,
          8.453999999999999,
          7.977250000000001,
          8.200666666666665,
          8.402333333333333,
          8.560083333333333,
          8.394,
          8.755583333333334,
          8.221833333333334,
          8.757916666666667,
          8.737916666666667,
          8.140916666666667,
          8.552166666666666,
          8.8765,
          8.648249999999999,
          8.180083333333334,
          7.669499999999999,
          8.50125,
          8.538,
          8.1845,
          9.595666666666666,
          8.768166666666668,
          8.760333333333334,
          8.052333333333333,
          9.016416666666666,
          9.14025,
          8.719333333333333,
          8.876,
          8.4395,
          8.737666666666668,
          9.56075,
          8.5395,
          9.030583333333334,
          9.826583333333334,
          8.7425,
          8.92225,
          8.73075,
          9.471833333333334,
          9.3075,
          9.097166666666668,
          9.266083333333333,
          8.919333333333332,
          9.0035,
          8.898166666666667,
          8.671249999999999,
          9.179583333333333,
          8.836083333333333,
          8.481666666666667,
          8.888083333333332,
          8.656416666666667,
          8.416583333333334,
          8.979416666666667,
          9.530416666666666,
          9.410583333333333,
          8.517166666666666,
          8.699916666666667,
          9.126333333333333,
          8.970166666666668,
          8.825333333333333,
          8.69225,
          8.642000000000001,
          8.9565,
          9.08,
          8.491666666666667,
          8.647666666666668,
          8.483,
          8.902,
          8.55325,
          8.770833333333334,
          8.673,
          8.4425,
          8.428083333333333,
          8.934666666666667,
          8.815916666666666,
          8.431,
          8.65125,
          9.269833333333333,
          8.751416666666666,
          8.571583333333333,
          9.1355,
          9.7215,
          8.5395,
          8.912333333333333,
          8.811166666666667,
          8.587000000000002,
          9.5595,
          9.628166666666667,
          9.275333333333334,
          8.873083333333334,
          9.521583333333334,
          9.493666666666666,
          9.056333333333333,
          8.86725,
          9.270333333333333,
          9.331000000000001,
          8.754333333333333,
          9.172916666666667,
          10.141166666666667,
          9.567,
          9.64975,
          9.785583333333333,
          9.816166666666666,
          9.755083333333333,
          9.6675,
          9.892666666666667,
          9.9745,
          9.8375,
          8.951416666666667,
          9.137083333333333,
          9.505583333333334,
          9.549916666666666,
          10.261083333333334,
          11.297111111111112
         ],
         "yaxis": "y"
        },
        {
         "hovertemplate": "Country=India<br>year=%{x}<br>AverageTemperature=%{y}<extra></extra>",
         "legendgroup": "India",
         "line": {
          "color": "#EF553B",
          "dash": "solid"
         },
         "marker": {
          "symbol": "circle"
         },
         "mode": "lines",
         "name": "India",
         "showlegend": true,
         "type": "scattergl",
         "x": [
          "1796",
          "1797",
          "1798",
          "1799",
          "1800",
          "1801",
          "1802",
          "1803",
          "1804",
          "1805",
          "1806",
          "1807",
          "1813",
          "1814",
          "1815",
          "1816",
          "1817",
          "1818",
          "1819",
          "1820",
          "1821",
          "1822",
          "1823",
          "1824",
          "1825",
          "1826",
          "1827",
          "1828",
          "1829",
          "1830",
          "1831",
          "1832",
          "1833",
          "1834",
          "1835",
          "1836",
          "1837",
          "1838",
          "1839",
          "1840",
          "1841",
          "1842",
          "1843",
          "1844",
          "1845",
          "1846",
          "1847",
          "1848",
          "1849",
          "1850",
          "1851",
          "1852",
          "1853",
          "1854",
          "1855",
          "1856",
          "1857",
          "1858",
          "1859",
          "1860",
          "1861",
          "1862",
          "1865",
          "1866",
          "1867",
          "1868",
          "1869",
          "1870",
          "1871",
          "1872",
          "1873",
          "1874",
          "1875",
          "1876",
          "1877",
          "1878",
          "1879",
          "1880",
          "1881",
          "1882",
          "1883",
          "1884",
          "1885",
          "1886",
          "1887",
          "1888",
          "1889",
          "1890",
          "1891",
          "1892",
          "1893",
          "1894",
          "1895",
          "1896",
          "1897",
          "1898",
          "1899",
          "1900",
          "1901",
          "1902",
          "1903",
          "1904",
          "1905",
          "1906",
          "1907",
          "1908",
          "1909",
          "1910",
          "1911",
          "1912",
          "1913",
          "1914",
          "1915",
          "1916",
          "1917",
          "1918",
          "1919",
          "1920",
          "1921",
          "1922",
          "1923",
          "1924",
          "1925",
          "1926",
          "1927",
          "1928",
          "1929",
          "1930",
          "1931",
          "1932",
          "1933",
          "1934",
          "1935",
          "1936",
          "1937",
          "1938",
          "1939",
          "1940",
          "1941",
          "1942",
          "1943",
          "1944",
          "1945",
          "1946",
          "1947",
          "1948",
          "1949",
          "1950",
          "1951",
          "1952",
          "1953",
          "1954",
          "1955",
          "1956",
          "1957",
          "1958",
          "1959",
          "1960",
          "1961",
          "1962",
          "1963",
          "1964",
          "1965",
          "1966",
          "1967",
          "1968",
          "1969",
          "1970",
          "1971",
          "1972",
          "1973",
          "1974",
          "1975",
          "1976",
          "1977",
          "1978",
          "1979",
          "1980",
          "1981",
          "1982",
          "1983",
          "1984",
          "1985",
          "1986",
          "1987",
          "1988",
          "1989",
          "1990",
          "1991",
          "1992",
          "1993",
          "1994",
          "1995",
          "1996",
          "1997",
          "1998",
          "1999",
          "2000",
          "2001",
          "2002",
          "2003",
          "2004",
          "2005",
          "2006",
          "2007",
          "2008",
          "2009",
          "2010",
          "2011",
          "2012",
          "2013"
         ],
         "xaxis": "x",
         "y": [
          23.675250000000002,
          24.8399,
          23.2733,
          23.949416666666664,
          23.911916666666666,
          23.1751,
          24.384333333333334,
          24.145750000000003,
          24.492416666666667,
          24.025500000000005,
          23.92616666666667,
          23.4996,
          23.27125,
          22.657363636363637,
          22.80775,
          22.424000000000003,
          22.5955,
          22.953000000000003,
          22.653583333333334,
          22.84075,
          23.527583333333336,
          23.597416666666664,
          23.471083333333336,
          24.04975,
          23.796083333333332,
          23.858999999999998,
          23.956416666666666,
          23.623666666666665,
          23.4435,
          23.67233333333333,
          23.241666666666664,
          23.4586,
          23.54825,
          23.5295,
          22.658083333333334,
          23.25916666666667,
          23.182916666666667,
          23.192916666666665,
          23.24475,
          23.445166666666665,
          23.26075,
          23.41425,
          23.31233333333333,
          23.094083333333334,
          23.343166666666665,
          23.8025,
          23.31833333333333,
          23.22758333333333,
          23.224249999999998,
          23.504583333333333,
          23.485166666666668,
          23.378333333333334,
          23.66541666666667,
          23.759083333333336,
          23.758750000000003,
          23.292,
          22.9645,
          23.600083333333334,
          23.671083333333332,
          23.396833333333333,
          23.299333333333337,
          18.659666666666666,
          23.7895,
          23.823000000000004,
          23.89816666666667,
          23.684083333333334,
          23.733333333333334,
          23.535166666666665,
          23.615166666666667,
          23.626833333333334,
          23.701833333333337,
          23.642583333333334,
          23.7555,
          23.725916666666667,
          23.88275,
          24.131083333333333,
          23.601083333333335,
          23.86075,
          23.677833333333336,
          23.5885,
          23.340833333333332,
          23.24066666666667,
          23.389916666666668,
          23.644833333333334,
          23.42216666666667,
          23.70266666666667,
          23.988166666666668,
          23.698416666666663,
          23.647583333333333,
          23.989833333333337,
          22.889833333333332,
          23.691666666666666,
          23.800083333333333,
          24.404416666666666,
          24.2195,
          24.063833333333335,
          24.17175,
          24.367833333333333,
          24.08425,
          24.31866666666667,
          23.767416666666666,
          23.7585,
          23.515,
          23.88808333333333,
          23.677083333333332,
          23.74191666666667,
          23.661,
          23.544166666666666,
          23.869333333333334,
          24.007083333333338,
          23.700833333333335,
          23.8255,
          24.29008333333333,
          23.8255,
          23.081083333333336,
          23.77175,
          23.825166666666664,
          23.955416666666668,
          24.249250000000004,
          23.904416666666666,
          23.90925,
          24.046000000000003,
          23.662583333333334,
          23.847333333333335,
          23.773750000000003,
          24.139,
          23.97141666666667,
          23.837,
          24.249333333333336,
          24.07858333333333,
          23.560333333333332,
          23.767416666666666,
          23.761833333333332,
          23.834833333333336,
          23.707916666666666,
          23.891916666666663,
          23.99325,
          23.90225,
          24.67425,
          24.2105,
          23.90516666666667,
          23.847916666666666,
          23.671583333333334,
          24.134416666666667,
          24.2795,
          24.19,
          24.047250000000002,
          23.659333333333336,
          24.22066666666667,
          24.3655,
          24.561583333333335,
          24.167166666666663,
          23.952166666666667,
          23.899666666666665,
          24.026416666666666,
          24.676333333333332,
          24.266833333333334,
          24.287166666666668,
          23.815250000000002,
          23.88475,
          24.09575,
          24.0705,
          24.09091666666667,
          24.438583333333337,
          23.992083333333337,
          23.86475,
          24.501166666666666,
          24.074083333333334,
          23.634,
          24.272166666666667,
          24.386583333333334,
          24.175749999999997,
          23.862166666666667,
          24.199583333333333,
          24.28891666666667,
          24.007333333333335,
          24.553583333333336,
          24.593083333333336,
          24.228416666666664,
          24.21825,
          23.938000000000002,
          24.185083333333335,
          24.486333333333334,
          24.2945,
          24.789083333333334,
          24.72775,
          24.162333333333333,
          24.17816666666667,
          24.311750000000004,
          24.222916666666666,
          24.408666666666665,
          24.29641666666667,
          24.42975,
          24.436916666666665,
          24.04733333333333,
          24.755416666666665,
          24.659833333333335,
          24.498,
          24.581916666666668,
          24.913,
          24.649916666666666,
          24.634583333333335,
          24.495416666666667,
          24.732083333333335,
          24.649916666666666,
          24.406000000000002,
          25.146666666666665,
          25.050833333333333,
          24.415583333333334,
          24.640833333333333,
          25.413249999999998
         ],
         "yaxis": "y"
        },
        {
         "hovertemplate": "Country=Russia<br>year=%{x}<br>AverageTemperature=%{y}<extra></extra>",
         "legendgroup": "Russia",
         "line": {
          "color": "#00cc96",
          "dash": "solid"
         },
         "marker": {
          "symbol": "circle"
         },
         "mode": "lines",
         "name": "Russia",
         "showlegend": true,
         "type": "scattergl",
         "x": [
          "1812",
          "1813",
          "1814",
          "1815",
          "1816",
          "1817",
          "1818",
          "1819",
          "1820",
          "1821",
          "1822",
          "1823",
          "1824",
          "1825",
          "1826",
          "1827",
          "1828",
          "1829",
          "1830",
          "1831",
          "1832",
          "1833",
          "1834",
          "1835",
          "1836",
          "1837",
          "1838",
          "1839",
          "1840",
          "1841",
          "1842",
          "1843",
          "1844",
          "1845",
          "1846",
          "1847",
          "1848",
          "1849",
          "1850",
          "1851",
          "1852",
          "1853",
          "1854",
          "1855",
          "1856",
          "1857",
          "1858",
          "1859",
          "1860",
          "1861",
          "1862",
          "1863",
          "1864",
          "1865",
          "1866",
          "1867",
          "1868",
          "1869",
          "1870",
          "1871",
          "1872",
          "1873",
          "1874",
          "1875",
          "1876",
          "1877",
          "1878",
          "1879",
          "1880",
          "1881",
          "1882",
          "1883",
          "1884",
          "1885",
          "1886",
          "1887",
          "1888",
          "1889",
          "1890",
          "1891",
          "1892",
          "1893",
          "1894",
          "1895",
          "1896",
          "1897",
          "1898",
          "1899",
          "1900",
          "1901",
          "1902",
          "1903",
          "1904",
          "1905",
          "1906",
          "1907",
          "1908",
          "1909",
          "1910",
          "1911",
          "1912",
          "1913",
          "1914",
          "1915",
          "1916",
          "1917",
          "1918",
          "1919",
          "1920",
          "1921",
          "1922",
          "1923",
          "1924",
          "1925",
          "1926",
          "1927",
          "1928",
          "1929",
          "1930",
          "1931",
          "1932",
          "1933",
          "1934",
          "1935",
          "1936",
          "1937",
          "1938",
          "1939",
          "1940",
          "1941",
          "1942",
          "1943",
          "1944",
          "1945",
          "1946",
          "1947",
          "1948",
          "1949",
          "1950",
          "1951",
          "1952",
          "1953",
          "1954",
          "1955",
          "1956",
          "1957",
          "1958",
          "1959",
          "1960",
          "1961",
          "1962",
          "1963",
          "1964",
          "1965",
          "1966",
          "1967",
          "1968",
          "1969",
          "1970",
          "1971",
          "1972",
          "1973",
          "1974",
          "1975",
          "1976",
          "1977",
          "1978",
          "1979",
          "1980",
          "1981",
          "1982",
          "1983",
          "1984",
          "1985",
          "1986",
          "1987",
          "1988",
          "1989",
          "1990",
          "1991",
          "1992",
          "1993",
          "1994",
          "1995",
          "1996",
          "1997",
          "1998",
          "1999",
          "2000",
          "2001",
          "2002",
          "2003",
          "2004",
          "2005",
          "2006",
          "2007",
          "2008",
          "2009",
          "2010",
          "2011",
          "2012",
          "2013"
         ],
         "xaxis": "x",
         "y": [
          -7.046833333333335,
          -7.084818181818182,
          -6.4359090909090915,
          -21.342,
          -1.6283333333333334,
          -6.959916666666667,
          -5.90925,
          -6.7655,
          -6.4285,
          -5.717666666666667,
          -5.482333333333334,
          -6.203500000000001,
          -5.300083333333333,
          -5.4315,
          -5.317166666666667,
          -5.038250000000001,
          -6.109750000000001,
          -6.1812499999999995,
          -5.660416666666667,
          -6.67325,
          -6.681166666666667,
          -6.1645,
          -5.778166666666667,
          -6.7855,
          -6.088916666666667,
          -6.761666666666667,
          -6.4182500000000005,
          -6.437583333333333,
          -6.437416666666667,
          -6.433916666666666,
          -5.994416666666667,
          -5.097583333333334,
          -6.22,
          -6.27475,
          -5.4339166666666685,
          -5.930333333333334,
          -5.708333333333333,
          -5.5605,
          -6.4265,
          -5.669583333333333,
          -6.039666666666666,
          -6.276000000000001,
          -5.49025,
          -5.556916666666666,
          -6.08875,
          -6.487166666666667,
          -5.592833333333334,
          -5.228500000000001,
          -6.619,
          -6.295333333333333,
          -6.931416666666667,
          -5.299166666666667,
          -6.007583333333334,
          -5.917083333333333,
          -5.31975,
          -5.542999999999999,
          -5.757916666666667,
          -5.331916666666667,
          -6.422833333333333,
          -6.263333333333333,
          -6.4214166666666666,
          -5.687916666666666,
          -4.888916666666667,
          -6.085416666666667,
          -6.0015833333333335,
          -5.602999999999999,
          -5.238083333333333,
          -5.84475,
          -5.737166666666667,
          -6.0352500000000004,
          -5.762250000000001,
          -5.847083333333334,
          -6.1816666666666675,
          -6.683916666666668,
          -6.129250000000002,
          -5.886916666666667,
          -6.412666666666667,
          -6.1031666666666675,
          -6.25675,
          -6.183666666666667,
          -6.362416666666667,
          -5.554833333333334,
          -5.366166666666667,
          -6.280666666666666,
          -5.686833333333333,
          -5.554916666666666,
          -5.950666666666667,
          -5.37575,
          -5.8743333333333325,
          -5.460083333333333,
          -7.002750000000002,
          -5.352583333333333,
          -5.418499999999999,
          -5.687083333333334,
          -5.10175,
          -6.041416666666667,
          -6.122583333333334,
          -5.865083333333334,
          -5.776583333333334,
          -5.830333333333333,
          -6.864416666666667,
          -5.726416666666668,
          -5.374166666666667,
          -6.363,
          -6.19,
          -5.528416666666668,
          -5.747916666666666,
          -6.186,
          -5.155,
          -4.90425,
          -5.697833333333333,
          -5.521166666666667,
          -5.2754166666666675,
          -5.128916666666666,
          -5.3745,
          -5.6569166666666675,
          -5.7722500000000005,
          -6.400083333333334,
          -5.53075,
          -5.76275,
          -4.758249999999999,
          -6.2521666666666675,
          -4.643000000000001,
          -5.214333333333333,
          -5.030083333333334,
          -5.1489166666666675,
          -4.552666666666666,
          -4.716833333333333,
          -5.628416666666666,
          -6.476666666666667,
          -5.604666666666667,
          -4.1145000000000005,
          -4.434,
          -5.394416666666667,
          -5.855,
          -5.368083333333335,
          -4.337583333333334,
          -4.9277500000000005,
          -5.6089166666666666,
          -5.055916666666667,
          -6.175250000000001,
          -4.779416666666667,
          -5.317333333333334,
          -5.626666666666668,
          -5.81375,
          -5.358250000000001,
          -6.154083333333333,
          -4.838916666666667,
          -5.936,
          -4.960333333333334,
          -4.416250000000001,
          -5.008166666666667,
          -5.785833333333334,
          -5.907416666666666,
          -6.309583333333333,
          -4.36325,
          -5.5895833333333345,
          -6.7660833333333334,
          -5.522583333333333,
          -4.971166666666668,
          -5.702000000000001,
          -4.833583333333333,
          -5.67175,
          -4.141083333333334,
          -5.927,
          -5.513000000000001,
          -5.255916666666668,
          -5.904333333333334,
          -5.420750000000001,
          -4.166166666666667,
          -5.097583333333334,
          -3.9518333333333344,
          -5.29425,
          -5.521166666666666,
          -4.892250000000001,
          -6.274000000000001,
          -4.330416666666667,
          -4.07325,
          -4.022916666666666,
          -4.236999999999999,
          -4.90325,
          -4.62175,
          -4.898416666666667,
          -3.1301666666666663,
          -4.810333333333333,
          -4.2965,
          -5.281083333333334,
          -4.829750000000001,
          -4.5456666666666665,
          -4.490666666666667,
          -4.122916666666666,
          -3.8328333333333333,
          -4.4935833333333335,
          -3.4980833333333337,
          -4.763,
          -2.975083333333334,
          -3.3054166666666664,
          -4.6085,
          -4.520583333333334,
          -3.401583333333333,
          -3.90175,
          -2.2631250000000005
         ],
         "yaxis": "y"
        },
        {
         "hovertemplate": "Country=China<br>year=%{x}<br>AverageTemperature=%{y}<extra></extra>",
         "legendgroup": "China",
         "line": {
          "color": "#ab63fa",
          "dash": "solid"
         },
         "marker": {
          "symbol": "circle"
         },
         "mode": "lines",
         "name": "China",
         "showlegend": true,
         "type": "scattergl",
         "x": [
          "1820",
          "1821",
          "1822",
          "1823",
          "1833",
          "1834",
          "1835",
          "1836",
          "1837",
          "1838",
          "1839",
          "1840",
          "1841",
          "1842",
          "1843",
          "1844",
          "1845",
          "1846",
          "1847",
          "1848",
          "1849",
          "1850",
          "1851",
          "1852",
          "1853",
          "1854",
          "1855",
          "1856",
          "1857",
          "1858",
          "1859",
          "1860",
          "1861",
          "1862",
          "1863",
          "1864",
          "1865",
          "1866",
          "1867",
          "1868",
          "1869",
          "1870",
          "1871",
          "1872",
          "1873",
          "1874",
          "1875",
          "1876",
          "1877",
          "1878",
          "1879",
          "1880",
          "1881",
          "1882",
          "1883",
          "1884",
          "1885",
          "1886",
          "1887",
          "1888",
          "1889",
          "1890",
          "1891",
          "1892",
          "1893",
          "1894",
          "1895",
          "1896",
          "1897",
          "1898",
          "1899",
          "1900",
          "1901",
          "1902",
          "1903",
          "1904",
          "1905",
          "1906",
          "1907",
          "1908",
          "1909",
          "1910",
          "1911",
          "1912",
          "1913",
          "1914",
          "1915",
          "1916",
          "1917",
          "1918",
          "1919",
          "1920",
          "1921",
          "1922",
          "1923",
          "1924",
          "1925",
          "1926",
          "1927",
          "1928",
          "1929",
          "1930",
          "1931",
          "1932",
          "1933",
          "1934",
          "1935",
          "1936",
          "1937",
          "1938",
          "1939",
          "1940",
          "1941",
          "1942",
          "1943",
          "1944",
          "1945",
          "1946",
          "1947",
          "1948",
          "1949",
          "1950",
          "1951",
          "1952",
          "1953",
          "1954",
          "1955",
          "1956",
          "1957",
          "1958",
          "1959",
          "1960",
          "1961",
          "1962",
          "1963",
          "1964",
          "1965",
          "1966",
          "1967",
          "1968",
          "1969",
          "1970",
          "1971",
          "1972",
          "1973",
          "1974",
          "1975",
          "1976",
          "1977",
          "1978",
          "1979",
          "1980",
          "1981",
          "1982",
          "1983",
          "1984",
          "1985",
          "1986",
          "1987",
          "1988",
          "1989",
          "1990",
          "1991",
          "1992",
          "1993",
          "1994",
          "1995",
          "1996",
          "1997",
          "1998",
          "1999",
          "2000",
          "2001",
          "2002",
          "2003",
          "2004",
          "2005",
          "2006",
          "2007",
          "2008",
          "2009",
          "2010",
          "2011",
          "2012",
          "2013"
         ],
         "xaxis": "x",
         "y": [
          5.013599999999999,
          6.284166666666667,
          6.341416666666667,
          7.024363636363637,
          6.039333333333334,
          6.268166666666667,
          5.43425,
          5.364727272727273,
          8.136833333333334,
          5.715,
          5.519083333333334,
          6.018583333333333,
          5.512416666666667,
          6.2785,
          6.413916666666666,
          6.0515,
          6.023000000000001,
          6.5874999999999995,
          6.257083333333333,
          5.93975,
          6.1048333333333344,
          5.907166666666666,
          5.7828333333333335,
          5.857500000000001,
          5.997583333333334,
          6.473083333333332,
          6.515583333333333,
          6.095583333333334,
          5.959666666666667,
          6.414083333333333,
          6.535166666666666,
          5.609333333333333,
          5.865166666666667,
          5.448083333333333,
          6.444583333333333,
          5.8015,
          6.244,
          6.410416666666666,
          6.759166666666666,
          6.415500000000001,
          6.465833333333333,
          6.158999999999999,
          6.371583333333334,
          6.286333333333334,
          6.588166666666667,
          6.6451666666666656,
          6.505,
          6.347416666666667,
          6.181583333333333,
          6.414416666666667,
          6.667416666666667,
          6.383500000000001,
          6.352833333333333,
          6.39825,
          6.026916666666666,
          5.804833333333334,
          5.9645,
          6.114750000000001,
          6.197166666666668,
          6.336416666666666,
          6.31175,
          6.464333333333333,
          6.359333333333333,
          6.060833333333334,
          6.108333333333333,
          6.57825,
          6.035833333333334,
          6.38625,
          6.228083333333334,
          6.562666666666666,
          6.603416666666667,
          6.444166666666667,
          6.5375000000000005,
          6.744666666666666,
          6.1745833333333335,
          6.350833333333334,
          5.7555000000000005,
          6.2218333333333335,
          6.308666666666666,
          6.286583333333333,
          6.3812500000000005,
          6.0715,
          6.297000000000001,
          6.076083333333333,
          6.138416666666667,
          6.8187500000000005,
          6.49275,
          6.349833333333333,
          6.161416666666667,
          6.196833333333333,
          6.607,
          6.590333333333334,
          6.50075,
          6.677333333333333,
          6.563666666666666,
          6.704250000000001,
          6.555666666666667,
          6.754083333333334,
          6.667749999999999,
          6.7746666666666675,
          6.424083333333333,
          6.468666666666667,
          6.3775,
          6.9055833333333325,
          6.6299166666666665,
          6.362833333333334,
          6.636166666666667,
          6.111583333333333,
          6.511083333333333,
          6.87175,
          7.0264999999999995,
          6.961666666666666,
          7.3455,
          7.096,
          7.050916666666667,
          6.5305,
          6.8388333333333335,
          7.354083333333333,
          6.773833333333333,
          7.1003333333333325,
          6.9755,
          6.641166666666667,
          6.8694999999999995,
          6.640916666666667,
          7.022333333333333,
          6.3709999999999996,
          6.701666666666667,
          6.299333333333333,
          6.388000000000001,
          7.033583333333333,
          7.039666666666666,
          6.890916666666667,
          7.050583333333333,
          6.703666666666667,
          7.052499999999999,
          6.746083333333334,
          6.799916666666667,
          6.962,
          6.402583333333333,
          6.727,
          6.4559999999999995,
          6.5681666666666665,
          6.84625,
          6.814416666666667,
          7.209583333333334,
          6.659416666666666,
          7.1009166666666665,
          6.471166666666666,
          6.851333333333334,
          7.048166666666667,
          7.074083333333333,
          6.950083333333333,
          6.926416666666667,
          7.14975,
          6.925083333333334,
          6.5179166666666655,
          6.7402500000000005,
          6.870166666666666,
          7.249,
          7.220833333333332,
          7.23975,
          7.636,
          7.097166666666666,
          6.858416666666667,
          6.919416666666667,
          7.4959999999999996,
          7.2115833333333335,
          6.962666666666667,
          7.367333333333334,
          8.051833333333333,
          7.84025,
          7.238083333333333,
          7.596416666666666,
          7.7956666666666665,
          7.521999999999999,
          7.71275,
          7.4135,
          7.948,
          8.12675,
          7.566083333333334,
          7.8095,
          7.548416666666667,
          7.357083333333333,
          7.077083333333333,
          9.295
         ],
         "yaxis": "y"
        },
        {
         "hovertemplate": "Country=Japan<br>year=%{x}<br>AverageTemperature=%{y}<extra></extra>",
         "legendgroup": "Japan",
         "line": {
          "color": "#FFA15A",
          "dash": "solid"
         },
         "marker": {
          "symbol": "circle"
         },
         "mode": "lines",
         "name": "Japan",
         "showlegend": true,
         "type": "scattergl",
         "x": [
          "1841",
          "1842",
          "1843",
          "1844",
          "1845",
          "1846",
          "1847",
          "1848",
          "1849",
          "1850",
          "1851",
          "1852",
          "1853",
          "1854",
          "1855",
          "1856",
          "1857",
          "1858",
          "1859",
          "1860",
          "1861",
          "1862",
          "1863",
          "1864",
          "1865",
          "1866",
          "1867",
          "1868",
          "1869",
          "1870",
          "1871",
          "1872",
          "1873",
          "1874",
          "1875",
          "1876",
          "1877",
          "1878",
          "1879",
          "1880",
          "1881",
          "1882",
          "1883",
          "1884",
          "1885",
          "1886",
          "1887",
          "1888",
          "1889",
          "1890",
          "1891",
          "1892",
          "1893",
          "1894",
          "1895",
          "1896",
          "1897",
          "1898",
          "1899",
          "1900",
          "1901",
          "1902",
          "1903",
          "1904",
          "1905",
          "1906",
          "1907",
          "1908",
          "1909",
          "1910",
          "1911",
          "1912",
          "1913",
          "1914",
          "1915",
          "1916",
          "1917",
          "1918",
          "1919",
          "1920",
          "1921",
          "1922",
          "1923",
          "1924",
          "1925",
          "1926",
          "1927",
          "1928",
          "1929",
          "1930",
          "1931",
          "1932",
          "1933",
          "1934",
          "1935",
          "1936",
          "1937",
          "1938",
          "1939",
          "1940",
          "1941",
          "1942",
          "1943",
          "1944",
          "1945",
          "1946",
          "1947",
          "1948",
          "1949",
          "1950",
          "1951",
          "1952",
          "1953",
          "1954",
          "1955",
          "1956",
          "1957",
          "1958",
          "1959",
          "1960",
          "1961",
          "1962",
          "1963",
          "1964",
          "1965",
          "1966",
          "1967",
          "1968",
          "1969",
          "1970",
          "1971",
          "1972",
          "1973",
          "1974",
          "1975",
          "1976",
          "1977",
          "1978",
          "1979",
          "1980",
          "1981",
          "1982",
          "1983",
          "1984",
          "1985",
          "1986",
          "1987",
          "1988",
          "1989",
          "1990",
          "1991",
          "1992",
          "1993",
          "1994",
          "1995",
          "1996",
          "1997",
          "1998",
          "1999",
          "2000",
          "2001",
          "2002",
          "2003",
          "2004",
          "2005",
          "2006",
          "2007",
          "2008",
          "2009",
          "2010",
          "2011",
          "2012",
          "2013"
         ],
         "xaxis": "x",
         "y": [
          11.019499999999999,
          11.445749999999999,
          11.627249999999998,
          11.216166666666666,
          11.3805,
          11.824333333333334,
          11.659666666666666,
          11.600416666666668,
          11.604999999999999,
          11.116,
          11.117583333333334,
          11.117833333333332,
          11.257666666666665,
          11.692166666666665,
          12.040666666666667,
          11.493083333333333,
          11.400333333333334,
          11.686583333333333,
          11.55625,
          11.096083333333333,
          11.179333333333332,
          11.17575,
          11.808416666666666,
          11.442750000000002,
          11.723999999999998,
          11.225166666666667,
          11.719333333333333,
          11.644,
          11.522333333333334,
          11.574833333333332,
          11.529583333333333,
          11.460833333333333,
          10.987333333333334,
          11.7465,
          11.686583333333333,
          11.95225,
          12.229750000000001,
          11.66275,
          12.078249999999999,
          11.860583333333333,
          11.585416666666667,
          11.740250000000001,
          11.40825,
          10.535333333333332,
          11.009166666666667,
          11.921999999999999,
          11.677833333333332,
          11.622750000000002,
          11.066,
          12.84225,
          11.825166666666666,
          11.536333333333333,
          11.207666666666666,
          12.44825,
          11.57325,
          11.681416666666665,
          11.216000000000001,
          11.900666666666666,
          11.828000000000001,
          11.473666666666666,
          11.680166666666667,
          11.52375,
          11.843333333333334,
          11.770166666666666,
          11.597416666666668,
          11.183916666666667,
          11.403166666666666,
          11.095999999999998,
          11.38875,
          11.378916666666667,
          11.980083333333333,
          11.453249999999999,
          10.986833333333331,
          12.487166666666667,
          12.061083333333334,
          12.545333333333334,
          11.412916666666668,
          11.609166666666667,
          11.951333333333332,
          12.213500000000002,
          11.57175,
          12.078416666666667,
          11.908499999999998,
          11.642416666666668,
          11.758583333333334,
          11.302416666666666,
          11.7355,
          12.057916666666666,
          11.774916666666668,
          12.29275,
          11.489083333333333,
          11.982750000000001,
          11.953166666666666,
          11.49875,
          11.893083333333331,
          11.5475,
          12.211166666666665,
          12.081166666666666,
          12.084083333333334,
          11.987249999999998,
          11.9185,
          12.002166666666668,
          11.994833333333334,
          11.692166666666667,
          11.138833333333332,
          12.360666666666667,
          11.333583333333332,
          12.795916666666665,
          12.102583333333333,
          12.589500000000001,
          12.146666666666668,
          11.939666666666668,
          11.964666666666666,
          12.223999999999998,
          12.729,
          12.019416666666666,
          12.055333333333332,
          12.57,
          12.958166666666665,
          12.599833333333335,
          13.045499999999999,
          12.466166666666666,
          12.29325,
          12.34975,
          11.687916666666666,
          12.134416666666667,
          12.266333333333334,
          12.190416666666666,
          11.848999999999998,
          11.929,
          11.983416666666665,
          12.592166666666666,
          12.41475,
          11.7905,
          12.336999999999998,
          11.7475,
          12.19825,
          12.505333333333333,
          12.842583333333332,
          11.795083333333332,
          11.629416666666666,
          12.336333333333334,
          12.121916666666666,
          11.659916666666666,
          12.281333333333334,
          11.691416666666667,
          12.543833333333332,
          11.967666666666666,
          12.91175,
          13.590583333333333,
          12.783166666666666,
          12.484250000000001,
          12.055166666666667,
          13.229750000000001,
          12.475416666666666,
          12.082833333333333,
          12.752416666666667,
          13.244750000000002,
          13.080083333333334,
          12.833833333333333,
          12.450000000000001,
          12.837333333333333,
          12.507,
          13.435666666666668,
          12.555916666666667,
          12.757083333333334,
          13.192166666666667,
          12.874916666666666,
          12.933833333333332,
          13.215583333333333,
          12.73775,
          12.565666666666667,
          12.96475
         ],
         "yaxis": "y"
        },
        {
         "hovertemplate": "Country=Australia<br>year=%{x}<br>AverageTemperature=%{y}<extra></extra>",
         "legendgroup": "Australia",
         "line": {
          "color": "#19d3f3",
          "dash": "solid"
         },
         "marker": {
          "symbol": "circle"
         },
         "mode": "lines",
         "name": "Australia",
         "showlegend": true,
         "type": "scattergl",
         "x": [
          "1852",
          "1853",
          "1854",
          "1855",
          "1856",
          "1857",
          "1858",
          "1859",
          "1860",
          "1861",
          "1862",
          "1863",
          "1864",
          "1865",
          "1866",
          "1867",
          "1868",
          "1869",
          "1870",
          "1871",
          "1872",
          "1873",
          "1874",
          "1875",
          "1876",
          "1877",
          "1878",
          "1879",
          "1880",
          "1881",
          "1882",
          "1883",
          "1884",
          "1885",
          "1886",
          "1887",
          "1888",
          "1889",
          "1890",
          "1891",
          "1892",
          "1893",
          "1894",
          "1895",
          "1896",
          "1897",
          "1898",
          "1899",
          "1900",
          "1901",
          "1902",
          "1903",
          "1904",
          "1905",
          "1906",
          "1907",
          "1908",
          "1909",
          "1910",
          "1911",
          "1912",
          "1913",
          "1914",
          "1915",
          "1916",
          "1917",
          "1918",
          "1919",
          "1920",
          "1921",
          "1922",
          "1923",
          "1924",
          "1925",
          "1926",
          "1927",
          "1928",
          "1929",
          "1930",
          "1931",
          "1932",
          "1933",
          "1934",
          "1935",
          "1936",
          "1937",
          "1938",
          "1939",
          "1940",
          "1941",
          "1942",
          "1943",
          "1944",
          "1945",
          "1946",
          "1947",
          "1948",
          "1949",
          "1950",
          "1951",
          "1952",
          "1953",
          "1954",
          "1955",
          "1956",
          "1957",
          "1958",
          "1959",
          "1960",
          "1961",
          "1962",
          "1963",
          "1964",
          "1965",
          "1966",
          "1967",
          "1968",
          "1969",
          "1970",
          "1971",
          "1972",
          "1973",
          "1974",
          "1975",
          "1976",
          "1977",
          "1978",
          "1979",
          "1980",
          "1981",
          "1982",
          "1983",
          "1984",
          "1985",
          "1986",
          "1987",
          "1988",
          "1989",
          "1990",
          "1991",
          "1992",
          "1993",
          "1994",
          "1995",
          "1996",
          "1997",
          "1998",
          "1999",
          "2000",
          "2001",
          "2002",
          "2003",
          "2004",
          "2005",
          "2006",
          "2007",
          "2008",
          "2009",
          "2010",
          "2011",
          "2012",
          "2013"
         ],
         "xaxis": "x",
         "y": [
          20.1885,
          20.95825,
          20.28477777777778,
          20.798636363636362,
          21.148333333333333,
          20.966416666666667,
          21.329833333333333,
          21.188916666666668,
          21.2455,
          21.1975,
          21.155416666666667,
          21.309,
          21.04425,
          21.217833333333335,
          21.417,
          21.643833333333333,
          21.44758333333333,
          21.521583333333336,
          21.42833333333333,
          21.459666666666667,
          21.206916666666668,
          21.15758333333333,
          21.126166666666666,
          21.054416666666665,
          21.087333333333333,
          21.641083333333338,
          22.380666666666666,
          21.18466666666667,
          21.66125,
          21.7925,
          21.64741666666667,
          21.520666666666667,
          21.549833333333336,
          21.421916666666664,
          21.450166666666664,
          21.155,
          21.954916666666666,
          22.174083333333332,
          21.479916666666668,
          20.834,
          21.541749999999997,
          21.646416666666667,
          20.917416666666664,
          21.233083333333333,
          21.3965,
          21.8175,
          21.570916666666665,
          21.186916666666665,
          21.766583333333333,
          21.582583333333332,
          21.597916666666666,
          21.176750000000002,
          20.970833333333335,
          21.1775,
          21.885,
          21.2945,
          20.8645,
          21.05275,
          21.569083333333335,
          21.347916666666666,
          21.826166666666666,
          21.187833333333334,
          22.186333333333334,
          22.144833333333334,
          21.504416666666668,
          20.7715,
          21.369333333333334,
          21.82858333333333,
          21.324416666666668,
          21.680083333333332,
          21.449749999999998,
          21.536833333333334,
          21.212583333333335,
          21.097833333333334,
          21.702583333333333,
          21.397833333333335,
          22.01908333333333,
          21.10125,
          21.640833333333333,
          21.239083333333333,
          21.459666666666667,
          21.386499999999998,
          21.50708333333333,
          21.39741666666667,
          21.716333333333335,
          21.52733333333333,
          22.08875,
          21.34,
          21.681583333333336,
          21.36283333333333,
          21.926416666666668,
          21.31716666666667,
          21.53016666666667,
          21.604083333333335,
          21.24125,
          21.59025,
          21.459500000000002,
          20.984916666666667,
          21.322916666666668,
          21.557000000000002,
          21.487,
          21.47458333333333,
          21.558666666666667,
          21.563083333333335,
          21.006,
          21.902666666666665,
          21.997249999999998,
          22.098166666666668,
          21.2105,
          21.964250000000003,
          21.802916666666665,
          21.697833333333335,
          21.65075,
          22.092083333333335,
          21.361,
          21.625416666666666,
          21.462166666666665,
          21.847583333333333,
          21.775750000000002,
          21.65433333333333,
          22.012083333333333,
          22.41275,
          21.238083333333332,
          21.692666666666668,
          21.193416666666668,
          21.8925,
          21.605166666666666,
          22.252333333333336,
          22.586166666666667,
          22.164083333333334,
          21.9105,
          22.261083333333332,
          21.516916666666663,
          22.04341666666667,
          22.093249999999998,
          22.07241666666667,
          22.63008333333333,
          21.86283333333333,
          22.35575,
          22.48741666666667,
          21.932583333333337,
          22.16016666666667,
          22.03025,
          21.955166666666667,
          22.325333333333333,
          22.086,
          22.664833333333334,
          22.0645,
          21.709666666666667,
          21.79275,
          22.46083333333333,
          22.44033333333333,
          22.286916666666666,
          22.896833333333333,
          22.264416666666666,
          22.48675,
          22.225916666666667,
          22.690583333333333,
          22.078166666666664,
          21.767,
          22.0245,
          22.142875
         ],
         "yaxis": "y"
        }
       ],
       "layout": {
        "legend": {
         "title": {
          "text": "Country"
         },
         "tracegroupgap": 0
        },
        "margin": {
         "t": 60
        },
        "template": {
         "data": {
          "bar": [
           {
            "error_x": {
             "color": "#2a3f5f"
            },
            "error_y": {
             "color": "#2a3f5f"
            },
            "marker": {
             "line": {
              "color": "#E5ECF6",
              "width": 0.5
             },
             "pattern": {
              "fillmode": "overlay",
              "size": 10,
              "solidity": 0.2
             }
            },
            "type": "bar"
           }
          ],
          "barpolar": [
           {
            "marker": {
             "line": {
              "color": "#E5ECF6",
              "width": 0.5
             },
             "pattern": {
              "fillmode": "overlay",
              "size": 10,
              "solidity": 0.2
             }
            },
            "type": "barpolar"
           }
          ],
          "carpet": [
           {
            "aaxis": {
             "endlinecolor": "#2a3f5f",
             "gridcolor": "white",
             "linecolor": "white",
             "minorgridcolor": "white",
             "startlinecolor": "#2a3f5f"
            },
            "baxis": {
             "endlinecolor": "#2a3f5f",
             "gridcolor": "white",
             "linecolor": "white",
             "minorgridcolor": "white",
             "startlinecolor": "#2a3f5f"
            },
            "type": "carpet"
           }
          ],
          "choropleth": [
           {
            "colorbar": {
             "outlinewidth": 0,
             "ticks": ""
            },
            "type": "choropleth"
           }
          ],
          "contour": [
           {
            "colorbar": {
             "outlinewidth": 0,
             "ticks": ""
            },
            "colorscale": [
             [
              0,
              "#0d0887"
             ],
             [
              0.1111111111111111,
              "#46039f"
             ],
             [
              0.2222222222222222,
              "#7201a8"
             ],
             [
              0.3333333333333333,
              "#9c179e"
             ],
             [
              0.4444444444444444,
              "#bd3786"
             ],
             [
              0.5555555555555556,
              "#d8576b"
             ],
             [
              0.6666666666666666,
              "#ed7953"
             ],
             [
              0.7777777777777778,
              "#fb9f3a"
             ],
             [
              0.8888888888888888,
              "#fdca26"
             ],
             [
              1,
              "#f0f921"
             ]
            ],
            "type": "contour"
           }
          ],
          "contourcarpet": [
           {
            "colorbar": {
             "outlinewidth": 0,
             "ticks": ""
            },
            "type": "contourcarpet"
           }
          ],
          "heatmap": [
           {
            "colorbar": {
             "outlinewidth": 0,
             "ticks": ""
            },
            "colorscale": [
             [
              0,
              "#0d0887"
             ],
             [
              0.1111111111111111,
              "#46039f"
             ],
             [
              0.2222222222222222,
              "#7201a8"
             ],
             [
              0.3333333333333333,
              "#9c179e"
             ],
             [
              0.4444444444444444,
              "#bd3786"
             ],
             [
              0.5555555555555556,
              "#d8576b"
             ],
             [
              0.6666666666666666,
              "#ed7953"
             ],
             [
              0.7777777777777778,
              "#fb9f3a"
             ],
             [
              0.8888888888888888,
              "#fdca26"
             ],
             [
              1,
              "#f0f921"
             ]
            ],
            "type": "heatmap"
           }
          ],
          "heatmapgl": [
           {
            "colorbar": {
             "outlinewidth": 0,
             "ticks": ""
            },
            "colorscale": [
             [
              0,
              "#0d0887"
             ],
             [
              0.1111111111111111,
              "#46039f"
             ],
             [
              0.2222222222222222,
              "#7201a8"
             ],
             [
              0.3333333333333333,
              "#9c179e"
             ],
             [
              0.4444444444444444,
              "#bd3786"
             ],
             [
              0.5555555555555556,
              "#d8576b"
             ],
             [
              0.6666666666666666,
              "#ed7953"
             ],
             [
              0.7777777777777778,
              "#fb9f3a"
             ],
             [
              0.8888888888888888,
              "#fdca26"
             ],
             [
              1,
              "#f0f921"
             ]
            ],
            "type": "heatmapgl"
           }
          ],
          "histogram": [
           {
            "marker": {
             "pattern": {
              "fillmode": "overlay",
              "size": 10,
              "solidity": 0.2
             }
            },
            "type": "histogram"
           }
          ],
          "histogram2d": [
           {
            "colorbar": {
             "outlinewidth": 0,
             "ticks": ""
            },
            "colorscale": [
             [
              0,
              "#0d0887"
             ],
             [
              0.1111111111111111,
              "#46039f"
             ],
             [
              0.2222222222222222,
              "#7201a8"
             ],
             [
              0.3333333333333333,
              "#9c179e"
             ],
             [
              0.4444444444444444,
              "#bd3786"
             ],
             [
              0.5555555555555556,
              "#d8576b"
             ],
             [
              0.6666666666666666,
              "#ed7953"
             ],
             [
              0.7777777777777778,
              "#fb9f3a"
             ],
             [
              0.8888888888888888,
              "#fdca26"
             ],
             [
              1,
              "#f0f921"
             ]
            ],
            "type": "histogram2d"
           }
          ],
          "histogram2dcontour": [
           {
            "colorbar": {
             "outlinewidth": 0,
             "ticks": ""
            },
            "colorscale": [
             [
              0,
              "#0d0887"
             ],
             [
              0.1111111111111111,
              "#46039f"
             ],
             [
              0.2222222222222222,
              "#7201a8"
             ],
             [
              0.3333333333333333,
              "#9c179e"
             ],
             [
              0.4444444444444444,
              "#bd3786"
             ],
             [
              0.5555555555555556,
              "#d8576b"
             ],
             [
              0.6666666666666666,
              "#ed7953"
             ],
             [
              0.7777777777777778,
              "#fb9f3a"
             ],
             [
              0.8888888888888888,
              "#fdca26"
             ],
             [
              1,
              "#f0f921"
             ]
            ],
            "type": "histogram2dcontour"
           }
          ],
          "mesh3d": [
           {
            "colorbar": {
             "outlinewidth": 0,
             "ticks": ""
            },
            "type": "mesh3d"
           }
          ],
          "parcoords": [
           {
            "line": {
             "colorbar": {
              "outlinewidth": 0,
              "ticks": ""
             }
            },
            "type": "parcoords"
           }
          ],
          "pie": [
           {
            "automargin": true,
            "type": "pie"
           }
          ],
          "scatter": [
           {
            "fillpattern": {
             "fillmode": "overlay",
             "size": 10,
             "solidity": 0.2
            },
            "type": "scatter"
           }
          ],
          "scatter3d": [
           {
            "line": {
             "colorbar": {
              "outlinewidth": 0,
              "ticks": ""
             }
            },
            "marker": {
             "colorbar": {
              "outlinewidth": 0,
              "ticks": ""
             }
            },
            "type": "scatter3d"
           }
          ],
          "scattercarpet": [
           {
            "marker": {
             "colorbar": {
              "outlinewidth": 0,
              "ticks": ""
             }
            },
            "type": "scattercarpet"
           }
          ],
          "scattergeo": [
           {
            "marker": {
             "colorbar": {
              "outlinewidth": 0,
              "ticks": ""
             }
            },
            "type": "scattergeo"
           }
          ],
          "scattergl": [
           {
            "marker": {
             "colorbar": {
              "outlinewidth": 0,
              "ticks": ""
             }
            },
            "type": "scattergl"
           }
          ],
          "scattermapbox": [
           {
            "marker": {
             "colorbar": {
              "outlinewidth": 0,
              "ticks": ""
             }
            },
            "type": "scattermapbox"
           }
          ],
          "scatterpolar": [
           {
            "marker": {
             "colorbar": {
              "outlinewidth": 0,
              "ticks": ""
             }
            },
            "type": "scatterpolar"
           }
          ],
          "scatterpolargl": [
           {
            "marker": {
             "colorbar": {
              "outlinewidth": 0,
              "ticks": ""
             }
            },
            "type": "scatterpolargl"
           }
          ],
          "scatterternary": [
           {
            "marker": {
             "colorbar": {
              "outlinewidth": 0,
              "ticks": ""
             }
            },
            "type": "scatterternary"
           }
          ],
          "surface": [
           {
            "colorbar": {
             "outlinewidth": 0,
             "ticks": ""
            },
            "colorscale": [
             [
              0,
              "#0d0887"
             ],
             [
              0.1111111111111111,
              "#46039f"
             ],
             [
              0.2222222222222222,
              "#7201a8"
             ],
             [
              0.3333333333333333,
              "#9c179e"
             ],
             [
              0.4444444444444444,
              "#bd3786"
             ],
             [
              0.5555555555555556,
              "#d8576b"
             ],
             [
              0.6666666666666666,
              "#ed7953"
             ],
             [
              0.7777777777777778,
              "#fb9f3a"
             ],
             [
              0.8888888888888888,
              "#fdca26"
             ],
             [
              1,
              "#f0f921"
             ]
            ],
            "type": "surface"
           }
          ],
          "table": [
           {
            "cells": {
             "fill": {
              "color": "#EBF0F8"
             },
             "line": {
              "color": "white"
             }
            },
            "header": {
             "fill": {
              "color": "#C8D4E3"
             },
             "line": {
              "color": "white"
             }
            },
            "type": "table"
           }
          ]
         },
         "layout": {
          "annotationdefaults": {
           "arrowcolor": "#2a3f5f",
           "arrowhead": 0,
           "arrowwidth": 1
          },
          "autotypenumbers": "strict",
          "coloraxis": {
           "colorbar": {
            "outlinewidth": 0,
            "ticks": ""
           }
          },
          "colorscale": {
           "diverging": [
            [
             0,
             "#8e0152"
            ],
            [
             0.1,
             "#c51b7d"
            ],
            [
             0.2,
             "#de77ae"
            ],
            [
             0.3,
             "#f1b6da"
            ],
            [
             0.4,
             "#fde0ef"
            ],
            [
             0.5,
             "#f7f7f7"
            ],
            [
             0.6,
             "#e6f5d0"
            ],
            [
             0.7,
             "#b8e186"
            ],
            [
             0.8,
             "#7fbc41"
            ],
            [
             0.9,
             "#4d9221"
            ],
            [
             1,
             "#276419"
            ]
           ],
           "sequential": [
            [
             0,
             "#0d0887"
            ],
            [
             0.1111111111111111,
             "#46039f"
            ],
            [
             0.2222222222222222,
             "#7201a8"
            ],
            [
             0.3333333333333333,
             "#9c179e"
            ],
            [
             0.4444444444444444,
             "#bd3786"
            ],
            [
             0.5555555555555556,
             "#d8576b"
            ],
            [
             0.6666666666666666,
             "#ed7953"
            ],
            [
             0.7777777777777778,
             "#fb9f3a"
            ],
            [
             0.8888888888888888,
             "#fdca26"
            ],
            [
             1,
             "#f0f921"
            ]
           ],
           "sequentialminus": [
            [
             0,
             "#0d0887"
            ],
            [
             0.1111111111111111,
             "#46039f"
            ],
            [
             0.2222222222222222,
             "#7201a8"
            ],
            [
             0.3333333333333333,
             "#9c179e"
            ],
            [
             0.4444444444444444,
             "#bd3786"
            ],
            [
             0.5555555555555556,
             "#d8576b"
            ],
            [
             0.6666666666666666,
             "#ed7953"
            ],
            [
             0.7777777777777778,
             "#fb9f3a"
            ],
            [
             0.8888888888888888,
             "#fdca26"
            ],
            [
             1,
             "#f0f921"
            ]
           ]
          },
          "colorway": [
           "#636efa",
           "#EF553B",
           "#00cc96",
           "#ab63fa",
           "#FFA15A",
           "#19d3f3",
           "#FF6692",
           "#B6E880",
           "#FF97FF",
           "#FECB52"
          ],
          "font": {
           "color": "#2a3f5f"
          },
          "geo": {
           "bgcolor": "white",
           "lakecolor": "white",
           "landcolor": "#E5ECF6",
           "showlakes": true,
           "showland": true,
           "subunitcolor": "white"
          },
          "hoverlabel": {
           "align": "left"
          },
          "hovermode": "closest",
          "mapbox": {
           "style": "light"
          },
          "paper_bgcolor": "white",
          "plot_bgcolor": "#E5ECF6",
          "polar": {
           "angularaxis": {
            "gridcolor": "white",
            "linecolor": "white",
            "ticks": ""
           },
           "bgcolor": "#E5ECF6",
           "radialaxis": {
            "gridcolor": "white",
            "linecolor": "white",
            "ticks": ""
           }
          },
          "scene": {
           "xaxis": {
            "backgroundcolor": "#E5ECF6",
            "gridcolor": "white",
            "gridwidth": 2,
            "linecolor": "white",
            "showbackground": true,
            "ticks": "",
            "zerolinecolor": "white"
           },
           "yaxis": {
            "backgroundcolor": "#E5ECF6",
            "gridcolor": "white",
            "gridwidth": 2,
            "linecolor": "white",
            "showbackground": true,
            "ticks": "",
            "zerolinecolor": "white"
           },
           "zaxis": {
            "backgroundcolor": "#E5ECF6",
            "gridcolor": "white",
            "gridwidth": 2,
            "linecolor": "white",
            "showbackground": true,
            "ticks": "",
            "zerolinecolor": "white"
           }
          },
          "shapedefaults": {
           "line": {
            "color": "#2a3f5f"
           }
          },
          "ternary": {
           "aaxis": {
            "gridcolor": "white",
            "linecolor": "white",
            "ticks": ""
           },
           "baxis": {
            "gridcolor": "white",
            "linecolor": "white",
            "ticks": ""
           },
           "bgcolor": "#E5ECF6",
           "caxis": {
            "gridcolor": "white",
            "linecolor": "white",
            "ticks": ""
           }
          },
          "title": {
           "x": 0.05
          },
          "xaxis": {
           "automargin": true,
           "gridcolor": "white",
           "linecolor": "white",
           "ticks": "",
           "title": {
            "standoff": 15
           },
           "zerolinecolor": "white",
           "zerolinewidth": 2
          },
          "yaxis": {
           "automargin": true,
           "gridcolor": "white",
           "linecolor": "white",
           "ticks": "",
           "title": {
            "standoff": 15
           },
           "zerolinecolor": "white",
           "zerolinewidth": 2
          }
         }
        },
        "xaxis": {
         "anchor": "y",
         "domain": [
          0,
          1
         ],
         "title": {
          "text": "year"
         }
        },
        "yaxis": {
         "anchor": "x",
         "domain": [
          0,
          1
         ],
         "title": {
          "text": "AverageTemperature"
         }
        }
       }
      }
     },
     "metadata": {},
     "output_type": "display_data"
    }
   ],
   "source": [
    "fig = px.line(mean_temp, x='year', y='AverageTemperature', color='Country')\n",
    "fig.show()"
   ]
  },
  {
   "cell_type": "code",
   "execution_count": 119,
   "metadata": {},
   "outputs": [],
   "source": [
    "# USA map for state temperatures"
   ]
  },
  {
   "cell_type": "code",
   "execution_count": 120,
   "metadata": {},
   "outputs": [
    {
     "data": {
      "text/html": [
       "<div>\n",
       "<style scoped>\n",
       "    .dataframe tbody tr th:only-of-type {\n",
       "        vertical-align: middle;\n",
       "    }\n",
       "\n",
       "    .dataframe tbody tr th {\n",
       "        vertical-align: top;\n",
       "    }\n",
       "\n",
       "    .dataframe thead th {\n",
       "        text-align: right;\n",
       "    }\n",
       "</style>\n",
       "<table border=\"1\" class=\"dataframe\">\n",
       "  <thead>\n",
       "    <tr style=\"text-align: right;\">\n",
       "      <th></th>\n",
       "      <th>dt</th>\n",
       "      <th>AverageTemperature</th>\n",
       "      <th>AverageTemperatureUncertainty</th>\n",
       "      <th>State</th>\n",
       "      <th>Country</th>\n",
       "    </tr>\n",
       "  </thead>\n",
       "  <tbody>\n",
       "    <tr>\n",
       "      <th>0</th>\n",
       "      <td>1855-05-01</td>\n",
       "      <td>25.544</td>\n",
       "      <td>1.171</td>\n",
       "      <td>Acre</td>\n",
       "      <td>Brazil</td>\n",
       "    </tr>\n",
       "    <tr>\n",
       "      <th>1</th>\n",
       "      <td>1855-06-01</td>\n",
       "      <td>24.228</td>\n",
       "      <td>1.103</td>\n",
       "      <td>Acre</td>\n",
       "      <td>Brazil</td>\n",
       "    </tr>\n",
       "    <tr>\n",
       "      <th>2</th>\n",
       "      <td>1855-07-01</td>\n",
       "      <td>24.371</td>\n",
       "      <td>1.044</td>\n",
       "      <td>Acre</td>\n",
       "      <td>Brazil</td>\n",
       "    </tr>\n",
       "    <tr>\n",
       "      <th>3</th>\n",
       "      <td>1855-08-01</td>\n",
       "      <td>25.427</td>\n",
       "      <td>1.073</td>\n",
       "      <td>Acre</td>\n",
       "      <td>Brazil</td>\n",
       "    </tr>\n",
       "    <tr>\n",
       "      <th>4</th>\n",
       "      <td>1855-09-01</td>\n",
       "      <td>25.675</td>\n",
       "      <td>1.014</td>\n",
       "      <td>Acre</td>\n",
       "      <td>Brazil</td>\n",
       "    </tr>\n",
       "  </tbody>\n",
       "</table>\n",
       "</div>"
      ],
      "text/plain": [
       "           dt  AverageTemperature  AverageTemperatureUncertainty State Country\n",
       "0  1855-05-01              25.544                          1.171  Acre  Brazil\n",
       "1  1855-06-01              24.228                          1.103  Acre  Brazil\n",
       "2  1855-07-01              24.371                          1.044  Acre  Brazil\n",
       "3  1855-08-01              25.427                          1.073  Acre  Brazil\n",
       "4  1855-09-01              25.675                          1.014  Acre  Brazil"
      ]
     },
     "execution_count": 120,
     "metadata": {},
     "output_type": "execute_result"
    }
   ],
   "source": [
    "temp_state = pd.read_csv(r'2.Global Warming Analysis-20240729T113427Z-001\\2.Global Warming Analysis\\GlobalLandTemperaturesByState.csv')\n",
    "temp_state.head()"
   ]
  },
  {
   "cell_type": "code",
   "execution_count": 121,
   "metadata": {},
   "outputs": [
    {
     "data": {
      "text/html": [
       "<div>\n",
       "<style scoped>\n",
       "    .dataframe tbody tr th:only-of-type {\n",
       "        vertical-align: middle;\n",
       "    }\n",
       "\n",
       "    .dataframe tbody tr th {\n",
       "        vertical-align: top;\n",
       "    }\n",
       "\n",
       "    .dataframe thead th {\n",
       "        text-align: right;\n",
       "    }\n",
       "</style>\n",
       "<table border=\"1\" class=\"dataframe\">\n",
       "  <thead>\n",
       "    <tr style=\"text-align: right;\">\n",
       "      <th></th>\n",
       "      <th>dt</th>\n",
       "      <th>AverageTemperature</th>\n",
       "      <th>AverageTemperatureUncertainty</th>\n",
       "      <th>State</th>\n",
       "      <th>Country</th>\n",
       "    </tr>\n",
       "  </thead>\n",
       "  <tbody>\n",
       "    <tr>\n",
       "      <th>7458</th>\n",
       "      <td>1743-11-01</td>\n",
       "      <td>10.722</td>\n",
       "      <td>2.898</td>\n",
       "      <td>Alabama</td>\n",
       "      <td>United States</td>\n",
       "    </tr>\n",
       "    <tr>\n",
       "      <th>7459</th>\n",
       "      <td>1743-12-01</td>\n",
       "      <td>NaN</td>\n",
       "      <td>NaN</td>\n",
       "      <td>Alabama</td>\n",
       "      <td>United States</td>\n",
       "    </tr>\n",
       "    <tr>\n",
       "      <th>7460</th>\n",
       "      <td>1744-01-01</td>\n",
       "      <td>NaN</td>\n",
       "      <td>NaN</td>\n",
       "      <td>Alabama</td>\n",
       "      <td>United States</td>\n",
       "    </tr>\n",
       "    <tr>\n",
       "      <th>7461</th>\n",
       "      <td>1744-02-01</td>\n",
       "      <td>NaN</td>\n",
       "      <td>NaN</td>\n",
       "      <td>Alabama</td>\n",
       "      <td>United States</td>\n",
       "    </tr>\n",
       "    <tr>\n",
       "      <th>7462</th>\n",
       "      <td>1744-03-01</td>\n",
       "      <td>NaN</td>\n",
       "      <td>NaN</td>\n",
       "      <td>Alabama</td>\n",
       "      <td>United States</td>\n",
       "    </tr>\n",
       "  </tbody>\n",
       "</table>\n",
       "</div>"
      ],
      "text/plain": [
       "              dt  AverageTemperature  AverageTemperatureUncertainty    State  \\\n",
       "7458  1743-11-01              10.722                          2.898  Alabama   \n",
       "7459  1743-12-01                 NaN                            NaN  Alabama   \n",
       "7460  1744-01-01                 NaN                            NaN  Alabama   \n",
       "7461  1744-02-01                 NaN                            NaN  Alabama   \n",
       "7462  1744-03-01                 NaN                            NaN  Alabama   \n",
       "\n",
       "            Country  \n",
       "7458  United States  \n",
       "7459  United States  \n",
       "7460  United States  \n",
       "7461  United States  \n",
       "7462  United States  "
      ]
     },
     "execution_count": 121,
     "metadata": {},
     "output_type": "execute_result"
    }
   ],
   "source": [
    "usa_temp = temp_state[temp_state.Country == 'United States']\n",
    "usa_temp.head()"
   ]
  },
  {
   "cell_type": "code",
   "execution_count": 122,
   "metadata": {},
   "outputs": [
    {
     "data": {
      "text/plain": [
       "(149745, 5)"
      ]
     },
     "execution_count": 122,
     "metadata": {},
     "output_type": "execute_result"
    }
   ],
   "source": [
    "usa_temp.shape"
   ]
  },
  {
   "cell_type": "code",
   "execution_count": 123,
   "metadata": {},
   "outputs": [
    {
     "data": {
      "text/plain": [
       "dt                                  0\n",
       "AverageTemperature               7815\n",
       "AverageTemperatureUncertainty    7815\n",
       "State                               0\n",
       "Country                             0\n",
       "dtype: int64"
      ]
     },
     "execution_count": 123,
     "metadata": {},
     "output_type": "execute_result"
    }
   ],
   "source": [
    "usa_temp.isna().sum()"
   ]
  },
  {
   "cell_type": "code",
   "execution_count": 124,
   "metadata": {},
   "outputs": [],
   "source": [
    "usa_temp.dropna(inplace=True)"
   ]
  },
  {
   "cell_type": "code",
   "execution_count": 125,
   "metadata": {},
   "outputs": [
    {
     "data": {
      "text/plain": [
       "array(['Alabama', 'Alaska', 'Arizona', 'Arkansas', 'California',\n",
       "       'Colorado', 'Connecticut', 'Delaware', 'District Of Columbia',\n",
       "       'Florida', 'Georgia (State)', 'Hawaii', 'Idaho', 'Illinois',\n",
       "       'Indiana', 'Iowa', 'Kansas', 'Kentucky', 'Louisiana', 'Maine',\n",
       "       'Maryland', 'Massachusetts', 'Michigan', 'Minnesota',\n",
       "       'Mississippi', 'Missouri', 'Montana', 'Nebraska', 'Nevada',\n",
       "       'New Hampshire', 'New Jersey', 'New Mexico', 'New York',\n",
       "       'North Carolina', 'North Dakota', 'Ohio', 'Oklahoma', 'Oregon',\n",
       "       'Pennsylvania', 'Rhode Island', 'South Carolina', 'South Dakota',\n",
       "       'Tennessee', 'Texas', 'Utah', 'Vermont', 'Virginia', 'Washington',\n",
       "       'West Virginia', 'Wisconsin', 'Wyoming'], dtype=object)"
      ]
     },
     "execution_count": 125,
     "metadata": {},
     "output_type": "execute_result"
    }
   ],
   "source": [
    "usa_temp.State.unique()"
   ]
  },
  {
   "cell_type": "code",
   "execution_count": 126,
   "metadata": {},
   "outputs": [],
   "source": [
    "state = {'Georgia (State)' : 'Georgia', 'District Of Columbia' : 'Columbia'}"
   ]
  },
  {
   "cell_type": "code",
   "execution_count": 127,
   "metadata": {},
   "outputs": [],
   "source": [
    "usa_temp.State.replace(state, inplace=True)"
   ]
  },
  {
   "cell_type": "code",
   "execution_count": 128,
   "metadata": {},
   "outputs": [],
   "source": [
    "usa = usa_temp[['AverageTemperature', 'State']]"
   ]
  },
  {
   "cell_type": "code",
   "execution_count": 129,
   "metadata": {},
   "outputs": [
    {
     "data": {
      "text/html": [
       "<div>\n",
       "<style scoped>\n",
       "    .dataframe tbody tr th:only-of-type {\n",
       "        vertical-align: middle;\n",
       "    }\n",
       "\n",
       "    .dataframe tbody tr th {\n",
       "        vertical-align: top;\n",
       "    }\n",
       "\n",
       "    .dataframe thead th {\n",
       "        text-align: right;\n",
       "    }\n",
       "</style>\n",
       "<table border=\"1\" class=\"dataframe\">\n",
       "  <thead>\n",
       "    <tr style=\"text-align: right;\">\n",
       "      <th></th>\n",
       "      <th>State</th>\n",
       "      <th>AverageTemperature</th>\n",
       "    </tr>\n",
       "  </thead>\n",
       "  <tbody>\n",
       "    <tr>\n",
       "      <th>0</th>\n",
       "      <td>Alabama</td>\n",
       "      <td>17.066138</td>\n",
       "    </tr>\n",
       "    <tr>\n",
       "      <th>1</th>\n",
       "      <td>Alaska</td>\n",
       "      <td>-4.890738</td>\n",
       "    </tr>\n",
       "    <tr>\n",
       "      <th>2</th>\n",
       "      <td>Arizona</td>\n",
       "      <td>15.381526</td>\n",
       "    </tr>\n",
       "    <tr>\n",
       "      <th>3</th>\n",
       "      <td>Arkansas</td>\n",
       "      <td>15.573963</td>\n",
       "    </tr>\n",
       "    <tr>\n",
       "      <th>4</th>\n",
       "      <td>California</td>\n",
       "      <td>14.327677</td>\n",
       "    </tr>\n",
       "  </tbody>\n",
       "</table>\n",
       "</div>"
      ],
      "text/plain": [
       "        State  AverageTemperature\n",
       "0     Alabama           17.066138\n",
       "1      Alaska           -4.890738\n",
       "2     Arizona           15.381526\n",
       "3    Arkansas           15.573963\n",
       "4  California           14.327677"
      ]
     },
     "execution_count": 129,
     "metadata": {},
     "output_type": "execute_result"
    }
   ],
   "source": [
    "usa2 = usa.groupby('State').AverageTemperature.mean().reset_index()\n",
    "usa2.head()"
   ]
  },
  {
   "cell_type": "code",
   "execution_count": 130,
   "metadata": {},
   "outputs": [
    {
     "data": {
      "text/plain": [
       "(51, 2)"
      ]
     },
     "execution_count": 130,
     "metadata": {},
     "output_type": "execute_result"
    }
   ],
   "source": [
    "usa2.shape"
   ]
  },
  {
   "cell_type": "code",
   "execution_count": 131,
   "metadata": {},
   "outputs": [],
   "source": [
    "from geopy.geocoders import Nominatim"
   ]
  },
  {
   "cell_type": "code",
   "execution_count": 132,
   "metadata": {},
   "outputs": [],
   "source": [
    "geolocator = Nominatim(user_agent='app', timeout=None)"
   ]
  },
  {
   "cell_type": "code",
   "execution_count": 133,
   "metadata": {},
   "outputs": [
    {
     "data": {
      "text/plain": [
       "0            Alabama\n",
       "1             Alaska\n",
       "2            Arizona\n",
       "3           Arkansas\n",
       "4         California\n",
       "5           Colorado\n",
       "6           Columbia\n",
       "7        Connecticut\n",
       "8           Delaware\n",
       "9            Florida\n",
       "10           Georgia\n",
       "11            Hawaii\n",
       "12             Idaho\n",
       "13          Illinois\n",
       "14           Indiana\n",
       "15              Iowa\n",
       "16            Kansas\n",
       "17          Kentucky\n",
       "18         Louisiana\n",
       "19             Maine\n",
       "20          Maryland\n",
       "21     Massachusetts\n",
       "22          Michigan\n",
       "23         Minnesota\n",
       "24       Mississippi\n",
       "25          Missouri\n",
       "26           Montana\n",
       "27          Nebraska\n",
       "28            Nevada\n",
       "29     New Hampshire\n",
       "30        New Jersey\n",
       "31        New Mexico\n",
       "32          New York\n",
       "33    North Carolina\n",
       "34      North Dakota\n",
       "35              Ohio\n",
       "36          Oklahoma\n",
       "37            Oregon\n",
       "38      Pennsylvania\n",
       "39      Rhode Island\n",
       "40    South Carolina\n",
       "41      South Dakota\n",
       "42         Tennessee\n",
       "43             Texas\n",
       "44              Utah\n",
       "45           Vermont\n",
       "46          Virginia\n",
       "47        Washington\n",
       "48     West Virginia\n",
       "49         Wisconsin\n",
       "50           Wyoming\n",
       "Name: State, dtype: object"
      ]
     },
     "execution_count": 133,
     "metadata": {},
     "output_type": "execute_result"
    }
   ],
   "source": [
    "usa2.State"
   ]
  },
  {
   "cell_type": "code",
   "execution_count": 134,
   "metadata": {},
   "outputs": [
    {
     "data": {
      "text/plain": [
       "64.4459613"
      ]
     },
     "execution_count": 134,
     "metadata": {},
     "output_type": "execute_result"
    }
   ],
   "source": [
    "geolocator.geocode('Alaska').latitude"
   ]
  },
  {
   "cell_type": "code",
   "execution_count": null,
   "metadata": {},
   "outputs": [],
   "source": [
    "lat, lon = [], []\n",
    "\n",
    "for state in usa2.State:\n",
    "    print(state)\n",
    "    loc = geolocator.geocode(state)\n",
    "\n",
    "    lat.append(loc.latitude)\n",
    "    lon.append(loc.longitude)"
   ]
  },
  {
   "cell_type": "code",
   "execution_count": 137,
   "metadata": {},
   "outputs": [],
   "source": [
    "usa2['lat'], usa2['lon'] = lat, lon"
   ]
  },
  {
   "cell_type": "code",
   "execution_count": 139,
   "metadata": {},
   "outputs": [
    {
     "data": {
      "text/html": [
       "<div>\n",
       "<style scoped>\n",
       "    .dataframe tbody tr th:only-of-type {\n",
       "        vertical-align: middle;\n",
       "    }\n",
       "\n",
       "    .dataframe tbody tr th {\n",
       "        vertical-align: top;\n",
       "    }\n",
       "\n",
       "    .dataframe thead th {\n",
       "        text-align: right;\n",
       "    }\n",
       "</style>\n",
       "<table border=\"1\" class=\"dataframe\">\n",
       "  <thead>\n",
       "    <tr style=\"text-align: right;\">\n",
       "      <th></th>\n",
       "      <th>State</th>\n",
       "      <th>AverageTemperature</th>\n",
       "      <th>lat</th>\n",
       "      <th>lon</th>\n",
       "    </tr>\n",
       "  </thead>\n",
       "  <tbody>\n",
       "    <tr>\n",
       "      <th>0</th>\n",
       "      <td>Alabama</td>\n",
       "      <td>17.066138</td>\n",
       "      <td>33.258882</td>\n",
       "      <td>-86.829534</td>\n",
       "    </tr>\n",
       "    <tr>\n",
       "      <th>1</th>\n",
       "      <td>Alaska</td>\n",
       "      <td>-4.890738</td>\n",
       "      <td>64.445961</td>\n",
       "      <td>-149.680909</td>\n",
       "    </tr>\n",
       "    <tr>\n",
       "      <th>2</th>\n",
       "      <td>Arizona</td>\n",
       "      <td>15.381526</td>\n",
       "      <td>34.395342</td>\n",
       "      <td>-111.763275</td>\n",
       "    </tr>\n",
       "    <tr>\n",
       "      <th>3</th>\n",
       "      <td>Arkansas</td>\n",
       "      <td>15.573963</td>\n",
       "      <td>35.204888</td>\n",
       "      <td>-92.447911</td>\n",
       "    </tr>\n",
       "    <tr>\n",
       "      <th>4</th>\n",
       "      <td>California</td>\n",
       "      <td>14.327677</td>\n",
       "      <td>36.701463</td>\n",
       "      <td>-118.755997</td>\n",
       "    </tr>\n",
       "  </tbody>\n",
       "</table>\n",
       "</div>"
      ],
      "text/plain": [
       "        State  AverageTemperature        lat         lon\n",
       "0     Alabama           17.066138  33.258882  -86.829534\n",
       "1      Alaska           -4.890738  64.445961 -149.680909\n",
       "2     Arizona           15.381526  34.395342 -111.763275\n",
       "3    Arkansas           15.573963  35.204888  -92.447911\n",
       "4  California           14.327677  36.701463 -118.755997"
      ]
     },
     "execution_count": 139,
     "metadata": {},
     "output_type": "execute_result"
    }
   ],
   "source": [
    "usa2.head()"
   ]
  },
  {
   "cell_type": "code",
   "execution_count": 140,
   "metadata": {},
   "outputs": [],
   "source": [
    "import folium\n",
    "from folium.plugins import HeatMap"
   ]
  },
  {
   "cell_type": "code",
   "execution_count": 151,
   "metadata": {},
   "outputs": [],
   "source": [
    "basemap = folium.Map()"
   ]
  },
  {
   "cell_type": "code",
   "execution_count": 152,
   "metadata": {},
   "outputs": [
    {
     "data": {
      "text/html": [
       "<div style=\"width:100%;\"><div style=\"position:relative;width:100%;height:0;padding-bottom:60%;\"><span style=\"color:#565656\">Make this Notebook Trusted to load map: File -> Trust Notebook</span><iframe srcdoc=\"&lt;!DOCTYPE html&gt;\n",
       "&lt;html&gt;\n",
       "&lt;head&gt;\n",
       "    \n",
       "    &lt;meta http-equiv=&quot;content-type&quot; content=&quot;text/html; charset=UTF-8&quot; /&gt;\n",
       "    \n",
       "        &lt;script&gt;\n",
       "            L_NO_TOUCH = false;\n",
       "            L_DISABLE_3D = false;\n",
       "        &lt;/script&gt;\n",
       "    \n",
       "    &lt;style&gt;html, body {width: 100%;height: 100%;margin: 0;padding: 0;}&lt;/style&gt;\n",
       "    &lt;style&gt;#map {position:absolute;top:0;bottom:0;right:0;left:0;}&lt;/style&gt;\n",
       "    &lt;script src=&quot;https://cdn.jsdelivr.net/npm/leaflet@1.9.3/dist/leaflet.js&quot;&gt;&lt;/script&gt;\n",
       "    &lt;script src=&quot;https://code.jquery.com/jquery-3.7.1.min.js&quot;&gt;&lt;/script&gt;\n",
       "    &lt;script src=&quot;https://cdn.jsdelivr.net/npm/bootstrap@5.2.2/dist/js/bootstrap.bundle.min.js&quot;&gt;&lt;/script&gt;\n",
       "    &lt;script src=&quot;https://cdnjs.cloudflare.com/ajax/libs/Leaflet.awesome-markers/2.0.2/leaflet.awesome-markers.js&quot;&gt;&lt;/script&gt;\n",
       "    &lt;link rel=&quot;stylesheet&quot; href=&quot;https://cdn.jsdelivr.net/npm/leaflet@1.9.3/dist/leaflet.css&quot;/&gt;\n",
       "    &lt;link rel=&quot;stylesheet&quot; href=&quot;https://cdn.jsdelivr.net/npm/bootstrap@5.2.2/dist/css/bootstrap.min.css&quot;/&gt;\n",
       "    &lt;link rel=&quot;stylesheet&quot; href=&quot;https://netdna.bootstrapcdn.com/bootstrap/3.0.0/css/bootstrap-glyphicons.css&quot;/&gt;\n",
       "    &lt;link rel=&quot;stylesheet&quot; href=&quot;https://cdn.jsdelivr.net/npm/@fortawesome/fontawesome-free@6.2.0/css/all.min.css&quot;/&gt;\n",
       "    &lt;link rel=&quot;stylesheet&quot; href=&quot;https://cdnjs.cloudflare.com/ajax/libs/Leaflet.awesome-markers/2.0.2/leaflet.awesome-markers.css&quot;/&gt;\n",
       "    &lt;link rel=&quot;stylesheet&quot; href=&quot;https://cdn.jsdelivr.net/gh/python-visualization/folium/folium/templates/leaflet.awesome.rotate.min.css&quot;/&gt;\n",
       "    \n",
       "            &lt;meta name=&quot;viewport&quot; content=&quot;width=device-width,\n",
       "                initial-scale=1.0, maximum-scale=1.0, user-scalable=no&quot; /&gt;\n",
       "            &lt;style&gt;\n",
       "                #map_7edb3cff469bc900123e57ef7ef79679 {\n",
       "                    position: relative;\n",
       "                    width: 100.0%;\n",
       "                    height: 100.0%;\n",
       "                    left: 0.0%;\n",
       "                    top: 0.0%;\n",
       "                }\n",
       "                .leaflet-container { font-size: 1rem; }\n",
       "            &lt;/style&gt;\n",
       "        \n",
       "    &lt;script src=&quot;https://cdn.jsdelivr.net/gh/python-visualization/folium@main/folium/templates/leaflet_heat.min.js&quot;&gt;&lt;/script&gt;\n",
       "&lt;/head&gt;\n",
       "&lt;body&gt;\n",
       "    \n",
       "    \n",
       "            &lt;div class=&quot;folium-map&quot; id=&quot;map_7edb3cff469bc900123e57ef7ef79679&quot; &gt;&lt;/div&gt;\n",
       "        \n",
       "&lt;/body&gt;\n",
       "&lt;script&gt;\n",
       "    \n",
       "    \n",
       "            var map_7edb3cff469bc900123e57ef7ef79679 = L.map(\n",
       "                &quot;map_7edb3cff469bc900123e57ef7ef79679&quot;,\n",
       "                {\n",
       "                    center: [0.0, 0.0],\n",
       "                    crs: L.CRS.EPSG3857,\n",
       "                    zoom: 1,\n",
       "                    zoomControl: true,\n",
       "                    preferCanvas: false,\n",
       "                }\n",
       "            );\n",
       "\n",
       "            \n",
       "\n",
       "        \n",
       "    \n",
       "            var tile_layer_d44ff2d68aac378e64d24d2d2e3cdb03 = L.tileLayer(\n",
       "                &quot;https://tile.openstreetmap.org/{z}/{x}/{y}.png&quot;,\n",
       "                {&quot;attribution&quot;: &quot;\\u0026copy; \\u003ca href=\\&quot;https://www.openstreetmap.org/copyright\\&quot;\\u003eOpenStreetMap\\u003c/a\\u003e contributors&quot;, &quot;detectRetina&quot;: false, &quot;maxNativeZoom&quot;: 19, &quot;maxZoom&quot;: 19, &quot;minZoom&quot;: 0, &quot;noWrap&quot;: false, &quot;opacity&quot;: 1, &quot;subdomains&quot;: &quot;abc&quot;, &quot;tms&quot;: false}\n",
       "            );\n",
       "        \n",
       "    \n",
       "            tile_layer_d44ff2d68aac378e64d24d2d2e3cdb03.addTo(map_7edb3cff469bc900123e57ef7ef79679);\n",
       "        \n",
       "    \n",
       "            var heat_map_65af0fb03d44a484c91b1883738f5362 = L.heatLayer(\n",
       "                [[33.2588817, -86.8295337, 17.066137864700224], [64.4459613, -149.680909, -4.89073757547608], [34.395342, -111.763275, 15.381526119402984], [35.2048883, -92.4479108, 15.573962530079065], [36.7014631, -118.755997, 14.327677288821446], [38.7251776, -105.607716, 6.931333907056799], [4.099917, -72.9088133, 11.918474511061238], [41.6500201, -72.7342163, 9.020079512664315], [38.6920451, -75.4013315, 11.8952375761462], [27.7567667, -81.4639835, 21.501561590688652], [32.3293809, -83.1137366, 17.52708207758897], [19.593801499999998, -155.42837009716908, 22.439282705807276], [43.6447642, -114.015407, 5.3342550482879725], [40.0796606, -89.4337288, 10.866111747851004], [40.3270127, -86.1746933, 10.874955755049696], [41.9216734, -93.3122705, 8.64780770455269], [38.27312, -98.5821872, 12.165647864625303], [37.5726028, -85.1551411, 12.95079448541199], [30.8703881, -92.007126, 19.128862385321103], [45.709097, -68.8590201, 4.349941968579673], [39.5162401, -76.9382069, 12.137859249759538], [42.3788774, -72.032366, 7.6252263546008345], [43.6211955, -84.6824346, 6.555493155046164], [45.9896587, -94.6113288, 4.4728124801018785], [32.9715285, -89.7348497, 17.53740701271915], [38.7604815, -92.5617875, 12.301072779737096], [47.3752671, -109.638757, 4.9864820287539935], [41.7370229, -99.5873816, 9.016576677316294], [39.5158825, -116.853722, 9.814444803695151], [43.4849133, -71.6553992, 5.612321898044245], [40.0757384, -74.4041622, 10.625895479320294], [34.5802074, -105.996047, 11.857086825053996], [40.7127281, -74.0060152, 7.183618467457519], [35.6729639, -79.0392919, 14.780251683231807], [47.6201461, -100.540737, 4.169714856230032], [40.2253569, -82.6881395, 10.320151651170248], [34.9550817, -97.2684063, 15.381547314578006], [43.9792797, -120.737257, 8.165825389550871], [40.9699889, -77.7278831, 9.110052260339852], [41.7962409, -71.5992372, 8.973099070214813], [33.6874388, -80.4363743, 17.034756973388905], [44.6471761, -100.348761, 6.947362619808307], [35.7730076, -86.2820081, 14.056290157101635], [31.2638905, -98.5456116, 18.107233978494627], [39.4225192, -111.714358, 8.478840671811167], [44.5990718, -72.5002608, 5.398153895479321], [37.1232245, -78.4927721, 12.804781660788715], [47.2868352, -120.212613, 7.643112282309808], [38.4758406, -80.8408415, 10.950278294325104], [44.4308975, -89.6884637, 5.946672397325693], [43.1700264, -107.568534, 5.09900165906263]],\n",
       "                {&quot;blur&quot;: 15, &quot;maxZoom&quot;: 18, &quot;minOpacity&quot;: 0.5, &quot;radius&quot;: 15, &quot;zoom&quot;: 20}\n",
       "            );\n",
       "        \n",
       "    \n",
       "            heat_map_65af0fb03d44a484c91b1883738f5362.addTo(map_7edb3cff469bc900123e57ef7ef79679);\n",
       "        \n",
       "&lt;/script&gt;\n",
       "&lt;/html&gt;\" style=\"position:absolute;width:100%;height:100%;left:0;top:0;border:none !important;\" allowfullscreen webkitallowfullscreen mozallowfullscreen></iframe></div></div>"
      ],
      "text/plain": [
       "<folium.folium.Map at 0x1e028043990>"
      ]
     },
     "execution_count": 152,
     "metadata": {},
     "output_type": "execute_result"
    }
   ],
   "source": [
    "HeatMap(usa2[['lat', 'lon', 'AverageTemperature']], zoom=20, radius=15).add_to(basemap)\n",
    "basemap"
   ]
  },
  {
   "cell_type": "code",
   "execution_count": 153,
   "metadata": {},
   "outputs": [],
   "source": [
    "# analyze mean temperature of major indian cities by month"
   ]
  },
  {
   "cell_type": "code",
   "execution_count": 155,
   "metadata": {},
   "outputs": [
    {
     "data": {
      "text/html": [
       "<div>\n",
       "<style scoped>\n",
       "    .dataframe tbody tr th:only-of-type {\n",
       "        vertical-align: middle;\n",
       "    }\n",
       "\n",
       "    .dataframe tbody tr th {\n",
       "        vertical-align: top;\n",
       "    }\n",
       "\n",
       "    .dataframe thead th {\n",
       "        text-align: right;\n",
       "    }\n",
       "</style>\n",
       "<table border=\"1\" class=\"dataframe\">\n",
       "  <thead>\n",
       "    <tr style=\"text-align: right;\">\n",
       "      <th></th>\n",
       "      <th>dt</th>\n",
       "      <th>AverageTemperature</th>\n",
       "      <th>AverageTemperatureUncertainty</th>\n",
       "      <th>City</th>\n",
       "      <th>Country</th>\n",
       "      <th>Latitude</th>\n",
       "      <th>Longitude</th>\n",
       "    </tr>\n",
       "  </thead>\n",
       "  <tbody>\n",
       "    <tr>\n",
       "      <th>0</th>\n",
       "      <td>1743-11-01</td>\n",
       "      <td>6.068</td>\n",
       "      <td>1.737</td>\n",
       "      <td>Århus</td>\n",
       "      <td>Denmark</td>\n",
       "      <td>57.05N</td>\n",
       "      <td>10.33E</td>\n",
       "    </tr>\n",
       "    <tr>\n",
       "      <th>1</th>\n",
       "      <td>1743-12-01</td>\n",
       "      <td>NaN</td>\n",
       "      <td>NaN</td>\n",
       "      <td>Århus</td>\n",
       "      <td>Denmark</td>\n",
       "      <td>57.05N</td>\n",
       "      <td>10.33E</td>\n",
       "    </tr>\n",
       "    <tr>\n",
       "      <th>2</th>\n",
       "      <td>1744-01-01</td>\n",
       "      <td>NaN</td>\n",
       "      <td>NaN</td>\n",
       "      <td>Århus</td>\n",
       "      <td>Denmark</td>\n",
       "      <td>57.05N</td>\n",
       "      <td>10.33E</td>\n",
       "    </tr>\n",
       "    <tr>\n",
       "      <th>3</th>\n",
       "      <td>1744-02-01</td>\n",
       "      <td>NaN</td>\n",
       "      <td>NaN</td>\n",
       "      <td>Århus</td>\n",
       "      <td>Denmark</td>\n",
       "      <td>57.05N</td>\n",
       "      <td>10.33E</td>\n",
       "    </tr>\n",
       "    <tr>\n",
       "      <th>4</th>\n",
       "      <td>1744-03-01</td>\n",
       "      <td>NaN</td>\n",
       "      <td>NaN</td>\n",
       "      <td>Århus</td>\n",
       "      <td>Denmark</td>\n",
       "      <td>57.05N</td>\n",
       "      <td>10.33E</td>\n",
       "    </tr>\n",
       "  </tbody>\n",
       "</table>\n",
       "</div>"
      ],
      "text/plain": [
       "           dt  AverageTemperature  AverageTemperatureUncertainty   City  \\\n",
       "0  1743-11-01               6.068                          1.737  Århus   \n",
       "1  1743-12-01                 NaN                            NaN  Århus   \n",
       "2  1744-01-01                 NaN                            NaN  Århus   \n",
       "3  1744-02-01                 NaN                            NaN  Århus   \n",
       "4  1744-03-01                 NaN                            NaN  Århus   \n",
       "\n",
       "   Country Latitude Longitude  \n",
       "0  Denmark   57.05N    10.33E  \n",
       "1  Denmark   57.05N    10.33E  \n",
       "2  Denmark   57.05N    10.33E  \n",
       "3  Denmark   57.05N    10.33E  \n",
       "4  Denmark   57.05N    10.33E  "
      ]
     },
     "execution_count": 155,
     "metadata": {},
     "output_type": "execute_result"
    }
   ],
   "source": [
    "cities = pd.read_csv(r'2.Global Warming Analysis-20240729T113427Z-001\\2.Global Warming Analysis\\GlobalLandTemperaturesByCity.csv')\n",
    "cities.head()"
   ]
  },
  {
   "cell_type": "code",
   "execution_count": 179,
   "metadata": {},
   "outputs": [],
   "source": [
    "india = cities[(cities.Country == 'India') & (cities.City.isin(['New Delhi','Bangalore','Hyderabad','Pune','Madras','Varanasi','Gurgaon']))]"
   ]
  },
  {
   "cell_type": "code",
   "execution_count": 180,
   "metadata": {},
   "outputs": [],
   "source": [
    "india.dt = pd.to_datetime(india.dt)"
   ]
  },
  {
   "cell_type": "code",
   "execution_count": 182,
   "metadata": {},
   "outputs": [],
   "source": [
    "india['month'] = india.dt.dt.month"
   ]
  },
  {
   "cell_type": "code",
   "execution_count": 189,
   "metadata": {},
   "outputs": [],
   "source": [
    "india_cities = india.groupby(['month','City'])['AverageTemperature'].mean().reset_index()"
   ]
  },
  {
   "cell_type": "code",
   "execution_count": 191,
   "metadata": {},
   "outputs": [
    {
     "data": {
      "text/html": [
       "<div>\n",
       "<style scoped>\n",
       "    .dataframe tbody tr th:only-of-type {\n",
       "        vertical-align: middle;\n",
       "    }\n",
       "\n",
       "    .dataframe tbody tr th {\n",
       "        vertical-align: top;\n",
       "    }\n",
       "\n",
       "    .dataframe thead th {\n",
       "        text-align: right;\n",
       "    }\n",
       "</style>\n",
       "<table border=\"1\" class=\"dataframe\">\n",
       "  <thead>\n",
       "    <tr style=\"text-align: right;\">\n",
       "      <th></th>\n",
       "      <th>month</th>\n",
       "      <th>City</th>\n",
       "      <th>AverageTemperature</th>\n",
       "    </tr>\n",
       "  </thead>\n",
       "  <tbody>\n",
       "    <tr>\n",
       "      <th>0</th>\n",
       "      <td>1</td>\n",
       "      <td>Bangalore</td>\n",
       "      <td>22.713981</td>\n",
       "    </tr>\n",
       "    <tr>\n",
       "      <th>1</th>\n",
       "      <td>1</td>\n",
       "      <td>Gurgaon</td>\n",
       "      <td>14.238560</td>\n",
       "    </tr>\n",
       "    <tr>\n",
       "      <th>2</th>\n",
       "      <td>1</td>\n",
       "      <td>Hyderabad</td>\n",
       "      <td>22.758290</td>\n",
       "    </tr>\n",
       "    <tr>\n",
       "      <th>3</th>\n",
       "      <td>1</td>\n",
       "      <td>Madras</td>\n",
       "      <td>24.346733</td>\n",
       "    </tr>\n",
       "    <tr>\n",
       "      <th>4</th>\n",
       "      <td>1</td>\n",
       "      <td>New Delhi</td>\n",
       "      <td>14.238560</td>\n",
       "    </tr>\n",
       "  </tbody>\n",
       "</table>\n",
       "</div>"
      ],
      "text/plain": [
       "   month       City  AverageTemperature\n",
       "0      1  Bangalore           22.713981\n",
       "1      1    Gurgaon           14.238560\n",
       "2      1  Hyderabad           22.758290\n",
       "3      1     Madras           24.346733\n",
       "4      1  New Delhi           14.238560"
      ]
     },
     "execution_count": 191,
     "metadata": {},
     "output_type": "execute_result"
    }
   ],
   "source": [
    "india_cities.head()"
   ]
  },
  {
   "cell_type": "code",
   "execution_count": 192,
   "metadata": {},
   "outputs": [],
   "source": [
    "trace = go.Heatmap(z=india_cities['AverageTemperature'],\n",
    "                   x=india_cities['month'],\n",
    "                   y=india_cities['City'],\n",
    "                  colorscale='Viridis')"
   ]
  },
  {
   "cell_type": "code",
   "execution_count": 193,
   "metadata": {},
   "outputs": [],
   "source": [
    "data=[trace]\n",
    "layout = go.Layout(\n",
    "    title='Average Temperature Of Major Cities By Month',\n",
    ")"
   ]
  },
  {
   "cell_type": "code",
   "execution_count": 194,
   "metadata": {},
   "outputs": [
    {
     "data": {
      "application/vnd.plotly.v1+json": {
       "config": {
        "plotlyServerURL": "https://plot.ly"
       },
       "data": [
        {
         "colorscale": [
          [
           0,
           "#440154"
          ],
          [
           0.1111111111111111,
           "#482878"
          ],
          [
           0.2222222222222222,
           "#3e4989"
          ],
          [
           0.3333333333333333,
           "#31688e"
          ],
          [
           0.4444444444444444,
           "#26828e"
          ],
          [
           0.5555555555555556,
           "#1f9e89"
          ],
          [
           0.6666666666666666,
           "#35b779"
          ],
          [
           0.7777777777777778,
           "#6ece58"
          ],
          [
           0.8888888888888888,
           "#b5de2b"
          ],
          [
           1,
           "#fde725"
          ]
         ],
         "type": "heatmap",
         "x": [
          1,
          1,
          1,
          1,
          1,
          1,
          1,
          2,
          2,
          2,
          2,
          2,
          2,
          2,
          3,
          3,
          3,
          3,
          3,
          3,
          3,
          4,
          4,
          4,
          4,
          4,
          4,
          4,
          5,
          5,
          5,
          5,
          5,
          5,
          5,
          6,
          6,
          6,
          6,
          6,
          6,
          6,
          7,
          7,
          7,
          7,
          7,
          7,
          7,
          8,
          8,
          8,
          8,
          8,
          8,
          8,
          9,
          9,
          9,
          9,
          9,
          9,
          9,
          10,
          10,
          10,
          10,
          10,
          10,
          10,
          11,
          11,
          11,
          11,
          11,
          11,
          11,
          12,
          12,
          12,
          12,
          12,
          12,
          12
         ],
         "y": [
          "Bangalore",
          "Gurgaon",
          "Hyderabad",
          "Madras",
          "New Delhi",
          "Pune",
          "Varanasi",
          "Bangalore",
          "Gurgaon",
          "Hyderabad",
          "Madras",
          "New Delhi",
          "Pune",
          "Varanasi",
          "Bangalore",
          "Gurgaon",
          "Hyderabad",
          "Madras",
          "New Delhi",
          "Pune",
          "Varanasi",
          "Bangalore",
          "Gurgaon",
          "Hyderabad",
          "Madras",
          "New Delhi",
          "Pune",
          "Varanasi",
          "Bangalore",
          "Gurgaon",
          "Hyderabad",
          "Madras",
          "New Delhi",
          "Pune",
          "Varanasi",
          "Bangalore",
          "Gurgaon",
          "Hyderabad",
          "Madras",
          "New Delhi",
          "Pune",
          "Varanasi",
          "Bangalore",
          "Gurgaon",
          "Hyderabad",
          "Madras",
          "New Delhi",
          "Pune",
          "Varanasi",
          "Bangalore",
          "Gurgaon",
          "Hyderabad",
          "Madras",
          "New Delhi",
          "Pune",
          "Varanasi",
          "Bangalore",
          "Gurgaon",
          "Hyderabad",
          "Madras",
          "New Delhi",
          "Pune",
          "Varanasi",
          "Bangalore",
          "Gurgaon",
          "Hyderabad",
          "Madras",
          "New Delhi",
          "Pune",
          "Varanasi",
          "Bangalore",
          "Gurgaon",
          "Hyderabad",
          "Madras",
          "New Delhi",
          "Pune",
          "Varanasi",
          "Bangalore",
          "Gurgaon",
          "Hyderabad",
          "Madras",
          "New Delhi",
          "Pune",
          "Varanasi"
         ],
         "z": [
          22.713980952380954,
          14.23856,
          22.758290476190478,
          24.346733333333336,
          14.23856,
          20.448204761904766,
          15.596650717703348,
          24.65661904761905,
          17.144979999999997,
          25.317076190476193,
          25.831404761904764,
          17.144979999999997,
          22.607923809523808,
          18.716421052631578,
          27.062185714285715,
          23.014804020100502,
          28.803542857142855,
          28.114447619047617,
          23.014804020100502,
          26.287685714285715,
          24.651115384615384,
          27.988516908212564,
          29.004575757575758,
          31.465565217391305,
          30.44130434782609,
          29.004575757575758,
          29.004400966183574,
          30.190038647342995,
          27.522753623188407,
          33.29705102040817,
          32.70200483091787,
          32.581951690821256,
          33.29705102040817,
          29.838202898550723,
          33.31351941747573,
          25.4687990430622,
          33.866005,
          29.96846889952153,
          32.142382775119614,
          33.866005,
          27.22002870813397,
          32.57074162679426,
          24.40048095238095,
          31.174114427860697,
          27.216585714285713,
          30.658619047619048,
          31.174114427860697,
          24.7247380952381,
          29.612919047619048,
          24.362909523809524,
          29.75242288557214,
          26.573533333333334,
          29.977352380952382,
          29.75242288557214,
          24.197833333333335,
          28.588161904761904,
          24.495114832535887,
          28.994465,
          26.640239234449762,
          29.397028708133973,
          28.994465,
          24.565741626794257,
          28.238004784688997,
          24.091784688995215,
          25.866374999999998,
          25.67962200956938,
          27.741679425837322,
          25.866374999999998,
          24.367425837320575,
          25.771933014354065,
          23.26515789473684,
          20.346510000000002,
          23.508133971291866,
          25.666679425837323,
          20.346510000000002,
          22.313669856459327,
          20.8435023923445,
          22.29085576923077,
          15.378814070351758,
          21.89253846153846,
          24.168721153846153,
          15.378814070351758,
          20.253653846153846,
          16.246504807692308
         ]
        }
       ],
       "layout": {
        "template": {
         "data": {
          "bar": [
           {
            "error_x": {
             "color": "#2a3f5f"
            },
            "error_y": {
             "color": "#2a3f5f"
            },
            "marker": {
             "line": {
              "color": "#E5ECF6",
              "width": 0.5
             },
             "pattern": {
              "fillmode": "overlay",
              "size": 10,
              "solidity": 0.2
             }
            },
            "type": "bar"
           }
          ],
          "barpolar": [
           {
            "marker": {
             "line": {
              "color": "#E5ECF6",
              "width": 0.5
             },
             "pattern": {
              "fillmode": "overlay",
              "size": 10,
              "solidity": 0.2
             }
            },
            "type": "barpolar"
           }
          ],
          "carpet": [
           {
            "aaxis": {
             "endlinecolor": "#2a3f5f",
             "gridcolor": "white",
             "linecolor": "white",
             "minorgridcolor": "white",
             "startlinecolor": "#2a3f5f"
            },
            "baxis": {
             "endlinecolor": "#2a3f5f",
             "gridcolor": "white",
             "linecolor": "white",
             "minorgridcolor": "white",
             "startlinecolor": "#2a3f5f"
            },
            "type": "carpet"
           }
          ],
          "choropleth": [
           {
            "colorbar": {
             "outlinewidth": 0,
             "ticks": ""
            },
            "type": "choropleth"
           }
          ],
          "contour": [
           {
            "colorbar": {
             "outlinewidth": 0,
             "ticks": ""
            },
            "colorscale": [
             [
              0,
              "#0d0887"
             ],
             [
              0.1111111111111111,
              "#46039f"
             ],
             [
              0.2222222222222222,
              "#7201a8"
             ],
             [
              0.3333333333333333,
              "#9c179e"
             ],
             [
              0.4444444444444444,
              "#bd3786"
             ],
             [
              0.5555555555555556,
              "#d8576b"
             ],
             [
              0.6666666666666666,
              "#ed7953"
             ],
             [
              0.7777777777777778,
              "#fb9f3a"
             ],
             [
              0.8888888888888888,
              "#fdca26"
             ],
             [
              1,
              "#f0f921"
             ]
            ],
            "type": "contour"
           }
          ],
          "contourcarpet": [
           {
            "colorbar": {
             "outlinewidth": 0,
             "ticks": ""
            },
            "type": "contourcarpet"
           }
          ],
          "heatmap": [
           {
            "colorbar": {
             "outlinewidth": 0,
             "ticks": ""
            },
            "colorscale": [
             [
              0,
              "#0d0887"
             ],
             [
              0.1111111111111111,
              "#46039f"
             ],
             [
              0.2222222222222222,
              "#7201a8"
             ],
             [
              0.3333333333333333,
              "#9c179e"
             ],
             [
              0.4444444444444444,
              "#bd3786"
             ],
             [
              0.5555555555555556,
              "#d8576b"
             ],
             [
              0.6666666666666666,
              "#ed7953"
             ],
             [
              0.7777777777777778,
              "#fb9f3a"
             ],
             [
              0.8888888888888888,
              "#fdca26"
             ],
             [
              1,
              "#f0f921"
             ]
            ],
            "type": "heatmap"
           }
          ],
          "heatmapgl": [
           {
            "colorbar": {
             "outlinewidth": 0,
             "ticks": ""
            },
            "colorscale": [
             [
              0,
              "#0d0887"
             ],
             [
              0.1111111111111111,
              "#46039f"
             ],
             [
              0.2222222222222222,
              "#7201a8"
             ],
             [
              0.3333333333333333,
              "#9c179e"
             ],
             [
              0.4444444444444444,
              "#bd3786"
             ],
             [
              0.5555555555555556,
              "#d8576b"
             ],
             [
              0.6666666666666666,
              "#ed7953"
             ],
             [
              0.7777777777777778,
              "#fb9f3a"
             ],
             [
              0.8888888888888888,
              "#fdca26"
             ],
             [
              1,
              "#f0f921"
             ]
            ],
            "type": "heatmapgl"
           }
          ],
          "histogram": [
           {
            "marker": {
             "pattern": {
              "fillmode": "overlay",
              "size": 10,
              "solidity": 0.2
             }
            },
            "type": "histogram"
           }
          ],
          "histogram2d": [
           {
            "colorbar": {
             "outlinewidth": 0,
             "ticks": ""
            },
            "colorscale": [
             [
              0,
              "#0d0887"
             ],
             [
              0.1111111111111111,
              "#46039f"
             ],
             [
              0.2222222222222222,
              "#7201a8"
             ],
             [
              0.3333333333333333,
              "#9c179e"
             ],
             [
              0.4444444444444444,
              "#bd3786"
             ],
             [
              0.5555555555555556,
              "#d8576b"
             ],
             [
              0.6666666666666666,
              "#ed7953"
             ],
             [
              0.7777777777777778,
              "#fb9f3a"
             ],
             [
              0.8888888888888888,
              "#fdca26"
             ],
             [
              1,
              "#f0f921"
             ]
            ],
            "type": "histogram2d"
           }
          ],
          "histogram2dcontour": [
           {
            "colorbar": {
             "outlinewidth": 0,
             "ticks": ""
            },
            "colorscale": [
             [
              0,
              "#0d0887"
             ],
             [
              0.1111111111111111,
              "#46039f"
             ],
             [
              0.2222222222222222,
              "#7201a8"
             ],
             [
              0.3333333333333333,
              "#9c179e"
             ],
             [
              0.4444444444444444,
              "#bd3786"
             ],
             [
              0.5555555555555556,
              "#d8576b"
             ],
             [
              0.6666666666666666,
              "#ed7953"
             ],
             [
              0.7777777777777778,
              "#fb9f3a"
             ],
             [
              0.8888888888888888,
              "#fdca26"
             ],
             [
              1,
              "#f0f921"
             ]
            ],
            "type": "histogram2dcontour"
           }
          ],
          "mesh3d": [
           {
            "colorbar": {
             "outlinewidth": 0,
             "ticks": ""
            },
            "type": "mesh3d"
           }
          ],
          "parcoords": [
           {
            "line": {
             "colorbar": {
              "outlinewidth": 0,
              "ticks": ""
             }
            },
            "type": "parcoords"
           }
          ],
          "pie": [
           {
            "automargin": true,
            "type": "pie"
           }
          ],
          "scatter": [
           {
            "fillpattern": {
             "fillmode": "overlay",
             "size": 10,
             "solidity": 0.2
            },
            "type": "scatter"
           }
          ],
          "scatter3d": [
           {
            "line": {
             "colorbar": {
              "outlinewidth": 0,
              "ticks": ""
             }
            },
            "marker": {
             "colorbar": {
              "outlinewidth": 0,
              "ticks": ""
             }
            },
            "type": "scatter3d"
           }
          ],
          "scattercarpet": [
           {
            "marker": {
             "colorbar": {
              "outlinewidth": 0,
              "ticks": ""
             }
            },
            "type": "scattercarpet"
           }
          ],
          "scattergeo": [
           {
            "marker": {
             "colorbar": {
              "outlinewidth": 0,
              "ticks": ""
             }
            },
            "type": "scattergeo"
           }
          ],
          "scattergl": [
           {
            "marker": {
             "colorbar": {
              "outlinewidth": 0,
              "ticks": ""
             }
            },
            "type": "scattergl"
           }
          ],
          "scattermapbox": [
           {
            "marker": {
             "colorbar": {
              "outlinewidth": 0,
              "ticks": ""
             }
            },
            "type": "scattermapbox"
           }
          ],
          "scatterpolar": [
           {
            "marker": {
             "colorbar": {
              "outlinewidth": 0,
              "ticks": ""
             }
            },
            "type": "scatterpolar"
           }
          ],
          "scatterpolargl": [
           {
            "marker": {
             "colorbar": {
              "outlinewidth": 0,
              "ticks": ""
             }
            },
            "type": "scatterpolargl"
           }
          ],
          "scatterternary": [
           {
            "marker": {
             "colorbar": {
              "outlinewidth": 0,
              "ticks": ""
             }
            },
            "type": "scatterternary"
           }
          ],
          "surface": [
           {
            "colorbar": {
             "outlinewidth": 0,
             "ticks": ""
            },
            "colorscale": [
             [
              0,
              "#0d0887"
             ],
             [
              0.1111111111111111,
              "#46039f"
             ],
             [
              0.2222222222222222,
              "#7201a8"
             ],
             [
              0.3333333333333333,
              "#9c179e"
             ],
             [
              0.4444444444444444,
              "#bd3786"
             ],
             [
              0.5555555555555556,
              "#d8576b"
             ],
             [
              0.6666666666666666,
              "#ed7953"
             ],
             [
              0.7777777777777778,
              "#fb9f3a"
             ],
             [
              0.8888888888888888,
              "#fdca26"
             ],
             [
              1,
              "#f0f921"
             ]
            ],
            "type": "surface"
           }
          ],
          "table": [
           {
            "cells": {
             "fill": {
              "color": "#EBF0F8"
             },
             "line": {
              "color": "white"
             }
            },
            "header": {
             "fill": {
              "color": "#C8D4E3"
             },
             "line": {
              "color": "white"
             }
            },
            "type": "table"
           }
          ]
         },
         "layout": {
          "annotationdefaults": {
           "arrowcolor": "#2a3f5f",
           "arrowhead": 0,
           "arrowwidth": 1
          },
          "autotypenumbers": "strict",
          "coloraxis": {
           "colorbar": {
            "outlinewidth": 0,
            "ticks": ""
           }
          },
          "colorscale": {
           "diverging": [
            [
             0,
             "#8e0152"
            ],
            [
             0.1,
             "#c51b7d"
            ],
            [
             0.2,
             "#de77ae"
            ],
            [
             0.3,
             "#f1b6da"
            ],
            [
             0.4,
             "#fde0ef"
            ],
            [
             0.5,
             "#f7f7f7"
            ],
            [
             0.6,
             "#e6f5d0"
            ],
            [
             0.7,
             "#b8e186"
            ],
            [
             0.8,
             "#7fbc41"
            ],
            [
             0.9,
             "#4d9221"
            ],
            [
             1,
             "#276419"
            ]
           ],
           "sequential": [
            [
             0,
             "#0d0887"
            ],
            [
             0.1111111111111111,
             "#46039f"
            ],
            [
             0.2222222222222222,
             "#7201a8"
            ],
            [
             0.3333333333333333,
             "#9c179e"
            ],
            [
             0.4444444444444444,
             "#bd3786"
            ],
            [
             0.5555555555555556,
             "#d8576b"
            ],
            [
             0.6666666666666666,
             "#ed7953"
            ],
            [
             0.7777777777777778,
             "#fb9f3a"
            ],
            [
             0.8888888888888888,
             "#fdca26"
            ],
            [
             1,
             "#f0f921"
            ]
           ],
           "sequentialminus": [
            [
             0,
             "#0d0887"
            ],
            [
             0.1111111111111111,
             "#46039f"
            ],
            [
             0.2222222222222222,
             "#7201a8"
            ],
            [
             0.3333333333333333,
             "#9c179e"
            ],
            [
             0.4444444444444444,
             "#bd3786"
            ],
            [
             0.5555555555555556,
             "#d8576b"
            ],
            [
             0.6666666666666666,
             "#ed7953"
            ],
            [
             0.7777777777777778,
             "#fb9f3a"
            ],
            [
             0.8888888888888888,
             "#fdca26"
            ],
            [
             1,
             "#f0f921"
            ]
           ]
          },
          "colorway": [
           "#636efa",
           "#EF553B",
           "#00cc96",
           "#ab63fa",
           "#FFA15A",
           "#19d3f3",
           "#FF6692",
           "#B6E880",
           "#FF97FF",
           "#FECB52"
          ],
          "font": {
           "color": "#2a3f5f"
          },
          "geo": {
           "bgcolor": "white",
           "lakecolor": "white",
           "landcolor": "#E5ECF6",
           "showlakes": true,
           "showland": true,
           "subunitcolor": "white"
          },
          "hoverlabel": {
           "align": "left"
          },
          "hovermode": "closest",
          "mapbox": {
           "style": "light"
          },
          "paper_bgcolor": "white",
          "plot_bgcolor": "#E5ECF6",
          "polar": {
           "angularaxis": {
            "gridcolor": "white",
            "linecolor": "white",
            "ticks": ""
           },
           "bgcolor": "#E5ECF6",
           "radialaxis": {
            "gridcolor": "white",
            "linecolor": "white",
            "ticks": ""
           }
          },
          "scene": {
           "xaxis": {
            "backgroundcolor": "#E5ECF6",
            "gridcolor": "white",
            "gridwidth": 2,
            "linecolor": "white",
            "showbackground": true,
            "ticks": "",
            "zerolinecolor": "white"
           },
           "yaxis": {
            "backgroundcolor": "#E5ECF6",
            "gridcolor": "white",
            "gridwidth": 2,
            "linecolor": "white",
            "showbackground": true,
            "ticks": "",
            "zerolinecolor": "white"
           },
           "zaxis": {
            "backgroundcolor": "#E5ECF6",
            "gridcolor": "white",
            "gridwidth": 2,
            "linecolor": "white",
            "showbackground": true,
            "ticks": "",
            "zerolinecolor": "white"
           }
          },
          "shapedefaults": {
           "line": {
            "color": "#2a3f5f"
           }
          },
          "ternary": {
           "aaxis": {
            "gridcolor": "white",
            "linecolor": "white",
            "ticks": ""
           },
           "baxis": {
            "gridcolor": "white",
            "linecolor": "white",
            "ticks": ""
           },
           "bgcolor": "#E5ECF6",
           "caxis": {
            "gridcolor": "white",
            "linecolor": "white",
            "ticks": ""
           }
          },
          "title": {
           "x": 0.05
          },
          "xaxis": {
           "automargin": true,
           "gridcolor": "white",
           "linecolor": "white",
           "ticks": "",
           "title": {
            "standoff": 15
           },
           "zerolinecolor": "white",
           "zerolinewidth": 2
          },
          "yaxis": {
           "automargin": true,
           "gridcolor": "white",
           "linecolor": "white",
           "ticks": "",
           "title": {
            "standoff": 15
           },
           "zerolinecolor": "white",
           "zerolinewidth": 2
          }
         }
        },
        "title": {
         "text": "Average Temperature Of Major Cities By Month"
        }
       }
      }
     },
     "metadata": {},
     "output_type": "display_data"
    }
   ],
   "source": [
    "fig = go.Figure(data=data, layout=layout)\n",
    "fig.show()"
   ]
  }
 ],
 "metadata": {
  "kernelspec": {
   "display_name": ".venv",
   "language": "python",
   "name": "python3"
  },
  "language_info": {
   "codemirror_mode": {
    "name": "ipython",
    "version": 3
   },
   "file_extension": ".py",
   "mimetype": "text/x-python",
   "name": "python",
   "nbconvert_exporter": "python",
   "pygments_lexer": "ipython3",
   "version": "3.11.9"
  }
 },
 "nbformat": 4,
 "nbformat_minor": 2
}
