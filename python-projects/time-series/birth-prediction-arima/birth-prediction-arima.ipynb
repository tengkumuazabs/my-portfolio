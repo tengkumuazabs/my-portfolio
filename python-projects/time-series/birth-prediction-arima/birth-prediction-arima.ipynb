{
 "cells": [
  {
   "cell_type": "code",
   "execution_count": 885,
   "metadata": {
    "executionInfo": {
     "elapsed": 3040,
     "status": "ok",
     "timestamp": 1699284432893,
     "user": {
      "displayName": "yeehaw",
      "userId": "00614237284897735384"
     },
     "user_tz": -420
    },
    "id": "2Z09wHN56HCl"
   },
   "outputs": [],
   "source": [
    "import pandas as pd\n",
    "import matplotlib.pyplot as plt\n",
    "import numpy as np\n",
    "import seaborn as sns"
   ]
  },
  {
   "cell_type": "code",
   "execution_count": 886,
   "metadata": {},
   "outputs": [],
   "source": [
    "f_birth = pd.read_csv('data/daily-total-female-births-CA.csv', parse_dates=[0], index_col=0)"
   ]
  },
  {
   "cell_type": "code",
   "execution_count": 887,
   "metadata": {
    "colab": {
     "base_uri": "https://localhost:8080/",
     "height": 237
    },
    "executionInfo": {
     "elapsed": 11,
     "status": "ok",
     "timestamp": 1699284432894,
     "user": {
      "displayName": "yeehaw",
      "userId": "00614237284897735384"
     },
     "user_tz": -420
    },
    "id": "zs3GAauP7Dfh",
    "outputId": "16697a4b-9c5f-4232-847a-a8720f8a8241"
   },
   "outputs": [
    {
     "data": {
      "text/html": [
       "<div>\n",
       "<style scoped>\n",
       "    .dataframe tbody tr th:only-of-type {\n",
       "        vertical-align: middle;\n",
       "    }\n",
       "\n",
       "    .dataframe tbody tr th {\n",
       "        vertical-align: top;\n",
       "    }\n",
       "\n",
       "    .dataframe thead th {\n",
       "        text-align: right;\n",
       "    }\n",
       "</style>\n",
       "<table border=\"1\" class=\"dataframe\">\n",
       "  <thead>\n",
       "    <tr style=\"text-align: right;\">\n",
       "      <th></th>\n",
       "      <th>births</th>\n",
       "    </tr>\n",
       "    <tr>\n",
       "      <th>date</th>\n",
       "      <th></th>\n",
       "    </tr>\n",
       "  </thead>\n",
       "  <tbody>\n",
       "    <tr>\n",
       "      <th>1959-01-01</th>\n",
       "      <td>35</td>\n",
       "    </tr>\n",
       "    <tr>\n",
       "      <th>1959-01-02</th>\n",
       "      <td>32</td>\n",
       "    </tr>\n",
       "    <tr>\n",
       "      <th>1959-01-03</th>\n",
       "      <td>30</td>\n",
       "    </tr>\n",
       "    <tr>\n",
       "      <th>1959-01-04</th>\n",
       "      <td>31</td>\n",
       "    </tr>\n",
       "    <tr>\n",
       "      <th>1959-01-05</th>\n",
       "      <td>44</td>\n",
       "    </tr>\n",
       "  </tbody>\n",
       "</table>\n",
       "</div>"
      ],
      "text/plain": [
       "            births\n",
       "date              \n",
       "1959-01-01      35\n",
       "1959-01-02      32\n",
       "1959-01-03      30\n",
       "1959-01-04      31\n",
       "1959-01-05      44"
      ]
     },
     "execution_count": 887,
     "metadata": {},
     "output_type": "execute_result"
    }
   ],
   "source": [
    "f_birth.head()"
   ]
  },
  {
   "cell_type": "code",
   "execution_count": 888,
   "metadata": {
    "executionInfo": {
     "elapsed": 6,
     "status": "ok",
     "timestamp": 1699284432894,
     "user": {
      "displayName": "yeehaw",
      "userId": "00614237284897735384"
     },
     "user_tz": -420
    },
    "id": "CHNGpNUr8VTF"
   },
   "outputs": [],
   "source": [
    "# get distribution and trends of the data"
   ]
  },
  {
   "cell_type": "code",
   "execution_count": 889,
   "metadata": {
    "executionInfo": {
     "elapsed": 6,
     "status": "ok",
     "timestamp": 1699284432894,
     "user": {
      "displayName": "yeehaw",
      "userId": "00614237284897735384"
     },
     "user_tz": -420
    },
    "id": "MmONvos18xE-"
   },
   "outputs": [],
   "source": [
    "bb = f_birth.values"
   ]
  },
  {
   "cell_type": "code",
   "execution_count": 890,
   "metadata": {},
   "outputs": [
    {
     "data": {
      "text/plain": [
       "array([[35],\n",
       "       [32],\n",
       "       [30],\n",
       "       [31],\n",
       "       [44],\n",
       "       [29],\n",
       "       [45],\n",
       "       [43],\n",
       "       [38],\n",
       "       [27],\n",
       "       [38],\n",
       "       [33],\n",
       "       [55],\n",
       "       [47],\n",
       "       [45],\n",
       "       [37],\n",
       "       [50],\n",
       "       [43],\n",
       "       [41],\n",
       "       [52],\n",
       "       [34],\n",
       "       [53],\n",
       "       [39],\n",
       "       [32],\n",
       "       [37],\n",
       "       [43],\n",
       "       [39],\n",
       "       [35],\n",
       "       [44],\n",
       "       [38],\n",
       "       [24],\n",
       "       [23],\n",
       "       [31],\n",
       "       [44],\n",
       "       [38],\n",
       "       [50],\n",
       "       [38],\n",
       "       [51],\n",
       "       [31],\n",
       "       [31],\n",
       "       [51],\n",
       "       [36],\n",
       "       [45],\n",
       "       [51],\n",
       "       [34],\n",
       "       [52],\n",
       "       [47],\n",
       "       [45],\n",
       "       [46],\n",
       "       [39],\n",
       "       [48],\n",
       "       [37],\n",
       "       [35],\n",
       "       [52],\n",
       "       [42],\n",
       "       [45],\n",
       "       [39],\n",
       "       [37],\n",
       "       [30],\n",
       "       [35],\n",
       "       [28],\n",
       "       [45],\n",
       "       [34],\n",
       "       [36],\n",
       "       [50],\n",
       "       [44],\n",
       "       [39],\n",
       "       [32],\n",
       "       [39],\n",
       "       [45],\n",
       "       [43],\n",
       "       [39],\n",
       "       [31],\n",
       "       [27],\n",
       "       [30],\n",
       "       [42],\n",
       "       [46],\n",
       "       [41],\n",
       "       [36],\n",
       "       [45],\n",
       "       [46],\n",
       "       [43],\n",
       "       [38],\n",
       "       [34],\n",
       "       [35],\n",
       "       [56],\n",
       "       [36],\n",
       "       [32],\n",
       "       [50],\n",
       "       [41],\n",
       "       [39],\n",
       "       [41],\n",
       "       [47],\n",
       "       [34],\n",
       "       [36],\n",
       "       [33],\n",
       "       [35],\n",
       "       [38],\n",
       "       [38],\n",
       "       [34],\n",
       "       [53],\n",
       "       [34],\n",
       "       [34],\n",
       "       [38],\n",
       "       [35],\n",
       "       [32],\n",
       "       [42],\n",
       "       [34],\n",
       "       [46],\n",
       "       [30],\n",
       "       [46],\n",
       "       [45],\n",
       "       [54],\n",
       "       [34],\n",
       "       [37],\n",
       "       [35],\n",
       "       [40],\n",
       "       [42],\n",
       "       [58],\n",
       "       [51],\n",
       "       [32],\n",
       "       [35],\n",
       "       [38],\n",
       "       [33],\n",
       "       [39],\n",
       "       [47],\n",
       "       [38],\n",
       "       [52],\n",
       "       [30],\n",
       "       [34],\n",
       "       [40],\n",
       "       [35],\n",
       "       [42],\n",
       "       [41],\n",
       "       [42],\n",
       "       [38],\n",
       "       [24],\n",
       "       [34],\n",
       "       [43],\n",
       "       [36],\n",
       "       [55],\n",
       "       [41],\n",
       "       [45],\n",
       "       [41],\n",
       "       [37],\n",
       "       [43],\n",
       "       [39],\n",
       "       [33],\n",
       "       [43],\n",
       "       [40],\n",
       "       [38],\n",
       "       [45],\n",
       "       [46],\n",
       "       [34],\n",
       "       [35],\n",
       "       [48],\n",
       "       [51],\n",
       "       [36],\n",
       "       [33],\n",
       "       [46],\n",
       "       [42],\n",
       "       [48],\n",
       "       [34],\n",
       "       [41],\n",
       "       [35],\n",
       "       [40],\n",
       "       [34],\n",
       "       [30],\n",
       "       [36],\n",
       "       [40],\n",
       "       [39],\n",
       "       [45],\n",
       "       [38],\n",
       "       [47],\n",
       "       [33],\n",
       "       [30],\n",
       "       [42],\n",
       "       [43],\n",
       "       [41],\n",
       "       [41],\n",
       "       [59],\n",
       "       [43],\n",
       "       [45],\n",
       "       [38],\n",
       "       [37],\n",
       "       [45],\n",
       "       [42],\n",
       "       [57],\n",
       "       [46],\n",
       "       [51],\n",
       "       [41],\n",
       "       [47],\n",
       "       [26],\n",
       "       [35],\n",
       "       [44],\n",
       "       [41],\n",
       "       [42],\n",
       "       [36],\n",
       "       [45],\n",
       "       [45],\n",
       "       [45],\n",
       "       [47],\n",
       "       [38],\n",
       "       [42],\n",
       "       [35],\n",
       "       [36],\n",
       "       [39],\n",
       "       [45],\n",
       "       [43],\n",
       "       [47],\n",
       "       [36],\n",
       "       [41],\n",
       "       [50],\n",
       "       [39],\n",
       "       [41],\n",
       "       [46],\n",
       "       [64],\n",
       "       [45],\n",
       "       [34],\n",
       "       [38],\n",
       "       [44],\n",
       "       [48],\n",
       "       [46],\n",
       "       [44],\n",
       "       [37],\n",
       "       [39],\n",
       "       [44],\n",
       "       [45],\n",
       "       [33],\n",
       "       [44],\n",
       "       [38],\n",
       "       [46],\n",
       "       [46],\n",
       "       [40],\n",
       "       [39],\n",
       "       [44],\n",
       "       [48],\n",
       "       [50],\n",
       "       [41],\n",
       "       [42],\n",
       "       [51],\n",
       "       [41],\n",
       "       [44],\n",
       "       [38],\n",
       "       [68],\n",
       "       [40],\n",
       "       [42],\n",
       "       [51],\n",
       "       [44],\n",
       "       [45],\n",
       "       [36],\n",
       "       [57],\n",
       "       [44],\n",
       "       [42],\n",
       "       [53],\n",
       "       [42],\n",
       "       [34],\n",
       "       [40],\n",
       "       [56],\n",
       "       [44],\n",
       "       [53],\n",
       "       [55],\n",
       "       [39],\n",
       "       [59],\n",
       "       [55],\n",
       "       [73],\n",
       "       [55],\n",
       "       [44],\n",
       "       [43],\n",
       "       [40],\n",
       "       [47],\n",
       "       [51],\n",
       "       [56],\n",
       "       [49],\n",
       "       [54],\n",
       "       [56],\n",
       "       [47],\n",
       "       [44],\n",
       "       [43],\n",
       "       [42],\n",
       "       [45],\n",
       "       [50],\n",
       "       [48],\n",
       "       [43],\n",
       "       [40],\n",
       "       [59],\n",
       "       [41],\n",
       "       [42],\n",
       "       [51],\n",
       "       [49],\n",
       "       [45],\n",
       "       [43],\n",
       "       [42],\n",
       "       [38],\n",
       "       [47],\n",
       "       [38],\n",
       "       [36],\n",
       "       [42],\n",
       "       [35],\n",
       "       [28],\n",
       "       [44],\n",
       "       [36],\n",
       "       [45],\n",
       "       [46],\n",
       "       [48],\n",
       "       [49],\n",
       "       [43],\n",
       "       [42],\n",
       "       [59],\n",
       "       [45],\n",
       "       [52],\n",
       "       [46],\n",
       "       [42],\n",
       "       [40],\n",
       "       [40],\n",
       "       [45],\n",
       "       [35],\n",
       "       [35],\n",
       "       [40],\n",
       "       [39],\n",
       "       [33],\n",
       "       [42],\n",
       "       [47],\n",
       "       [51],\n",
       "       [44],\n",
       "       [40],\n",
       "       [57],\n",
       "       [49],\n",
       "       [45],\n",
       "       [49],\n",
       "       [51],\n",
       "       [46],\n",
       "       [44],\n",
       "       [52],\n",
       "       [45],\n",
       "       [32],\n",
       "       [46],\n",
       "       [41],\n",
       "       [34],\n",
       "       [33],\n",
       "       [36],\n",
       "       [49],\n",
       "       [43],\n",
       "       [43],\n",
       "       [34],\n",
       "       [39],\n",
       "       [35],\n",
       "       [52],\n",
       "       [47],\n",
       "       [52],\n",
       "       [39],\n",
       "       [40],\n",
       "       [42],\n",
       "       [42],\n",
       "       [53],\n",
       "       [39],\n",
       "       [40],\n",
       "       [38],\n",
       "       [44],\n",
       "       [34],\n",
       "       [37],\n",
       "       [52],\n",
       "       [48],\n",
       "       [55],\n",
       "       [50]])"
      ]
     },
     "execution_count": 890,
     "metadata": {},
     "output_type": "execute_result"
    }
   ],
   "source": [
    "bb"
   ]
  },
  {
   "cell_type": "code",
   "execution_count": 891,
   "metadata": {
    "colab": {
     "base_uri": "https://localhost:8080/"
    },
    "executionInfo": {
     "elapsed": 5,
     "status": "ok",
     "timestamp": 1699284432894,
     "user": {
      "displayName": "yeehaw",
      "userId": "00614237284897735384"
     },
     "user_tz": -420
    },
    "id": "amkkUaCp81Eo",
    "outputId": "c1a98f05-3add-4248-ff9d-f2fee8338bf3"
   },
   "outputs": [
    {
     "data": {
      "text/plain": [
       "numpy.ndarray"
      ]
     },
     "execution_count": 891,
     "metadata": {},
     "output_type": "execute_result"
    }
   ],
   "source": [
    "type(bb)"
   ]
  },
  {
   "cell_type": "code",
   "execution_count": 892,
   "metadata": {},
   "outputs": [
    {
     "data": {
      "text/plain": [
       "365"
      ]
     },
     "execution_count": 892,
     "metadata": {},
     "output_type": "execute_result"
    }
   ],
   "source": [
    "f_birth.size"
   ]
  },
  {
   "cell_type": "code",
   "execution_count": 893,
   "metadata": {
    "colab": {
     "base_uri": "https://localhost:8080/",
     "height": 648
    },
    "executionInfo": {
     "elapsed": 1228,
     "status": "ok",
     "timestamp": 1699284434118,
     "user": {
      "displayName": "yeehaw",
      "userId": "00614237284897735384"
     },
     "user_tz": -420
    },
    "id": "GzkF55di83PL",
    "outputId": "3a243d3e-c2a8-48e3-88dd-d23400d7ff73"
   },
   "outputs": [
    {
     "data": {
      "text/plain": [
       "<seaborn.axisgrid.FacetGrid at 0x1a4c0fed6d0>"
      ]
     },
     "execution_count": 893,
     "metadata": {},
     "output_type": "execute_result"
    },
    {
     "data": {
      "image/png": "[encoded data removed]",
      "text/plain": [
       "<Figure size 589.875x500 with 1 Axes>"
      ]
     },
     "metadata": {},
     "output_type": "display_data"
    }
   ],
   "source": [
    "sns.displot(f_birth)"
   ]
  },
  {
   "cell_type": "code",
   "execution_count": 894,
   "metadata": {
    "colab": {
     "base_uri": "https://localhost:8080/",
     "height": 484
    },
    "executionInfo": {
     "elapsed": 2724,
     "status": "ok",
     "timestamp": 1699284436840,
     "user": {
      "displayName": "yeehaw",
      "userId": "00614237284897735384"
     },
     "user_tz": -420
    },
    "id": "1GWgMwux88TU",
    "outputId": "4add24e5-ab28-4a24-8c4c-10c086b75a30"
   },
   "outputs": [
    {
     "data": {
      "text/plain": [
       "<Axes: xlabel='date'>"
      ]
     },
     "execution_count": 894,
     "metadata": {},
     "output_type": "execute_result"
    },
    {
     "data": {
      "image/png": "[encoded data removed]",
      "text/plain": [
       "<Figure size 640x480 with 1 Axes>"
      ]
     },
     "metadata": {},
     "output_type": "display_data"
    }
   ],
   "source": [
    "f_birth.plot()"
   ]
  },
  {
   "cell_type": "code",
   "execution_count": 895,
   "metadata": {},
   "outputs": [],
   "source": [
    "# this is very close to stationery, which the data has no trend (has constant mean and std)"
   ]
  },
  {
   "cell_type": "code",
   "execution_count": 896,
   "metadata": {
    "executionInfo": {
     "elapsed": 7,
     "status": "ok",
     "timestamp": 1699284436841,
     "user": {
      "displayName": "yeehaw",
      "userId": "00614237284897735384"
     },
     "user_tz": -420
    },
    "id": "0LILrzWY9V-k"
   },
   "outputs": [],
   "source": [
    "# use rolling on the data"
   ]
  },
  {
   "cell_type": "code",
   "execution_count": 897,
   "metadata": {
    "colab": {
     "base_uri": "https://localhost:8080/",
     "height": 81
    },
    "executionInfo": {
     "elapsed": 7,
     "status": "ok",
     "timestamp": 1699284436841,
     "user": {
      "displayName": "yeehaw",
      "userId": "00614237284897735384"
     },
     "user_tz": -420
    },
    "id": "hQRsc56eOoO0",
    "outputId": "eaaae526-d71e-43bb-8e48-848af584efd9"
   },
   "outputs": [
    {
     "data": {
      "text/html": [
       "<div>\n",
       "<style scoped>\n",
       "    .dataframe tbody tr th:only-of-type {\n",
       "        vertical-align: middle;\n",
       "    }\n",
       "\n",
       "    .dataframe tbody tr th {\n",
       "        vertical-align: top;\n",
       "    }\n",
       "\n",
       "    .dataframe thead th {\n",
       "        text-align: right;\n",
       "    }\n",
       "</style>\n",
       "<table border=\"1\" class=\"dataframe\">\n",
       "  <thead>\n",
       "    <tr style=\"text-align: right;\">\n",
       "      <th></th>\n",
       "      <th>count</th>\n",
       "      <th>mean</th>\n",
       "      <th>std</th>\n",
       "      <th>min</th>\n",
       "      <th>25%</th>\n",
       "      <th>50%</th>\n",
       "      <th>75%</th>\n",
       "      <th>max</th>\n",
       "    </tr>\n",
       "  </thead>\n",
       "  <tbody>\n",
       "    <tr>\n",
       "      <th>births</th>\n",
       "      <td>365.0</td>\n",
       "      <td>41.980822</td>\n",
       "      <td>7.348257</td>\n",
       "      <td>23.0</td>\n",
       "      <td>37.0</td>\n",
       "      <td>42.0</td>\n",
       "      <td>46.0</td>\n",
       "      <td>73.0</td>\n",
       "    </tr>\n",
       "  </tbody>\n",
       "</table>\n",
       "</div>"
      ],
      "text/plain": [
       "        count       mean       std   min   25%   50%   75%   max\n",
       "births  365.0  41.980822  7.348257  23.0  37.0  42.0  46.0  73.0"
      ]
     },
     "execution_count": 897,
     "metadata": {},
     "output_type": "execute_result"
    }
   ],
   "source": [
    "f_birth.describe().T"
   ]
  },
  {
   "cell_type": "code",
   "execution_count": 898,
   "metadata": {
    "executionInfo": {
     "elapsed": 6,
     "status": "ok",
     "timestamp": 1699284436841,
     "user": {
      "displayName": "yeehaw",
      "userId": "00614237284897735384"
     },
     "user_tz": -420
    },
    "id": "Mw_vgllnOq3o"
   },
   "outputs": [],
   "source": [
    "f_birth_mean = f_birth.births.rolling(window=20).mean()"
   ]
  },
  {
   "cell_type": "code",
   "execution_count": 899,
   "metadata": {
    "colab": {
     "base_uri": "https://localhost:8080/",
     "height": 500
    },
    "executionInfo": {
     "elapsed": 663,
     "status": "ok",
     "timestamp": 1699284437498,
     "user": {
      "displayName": "yeehaw",
      "userId": "00614237284897735384"
     },
     "user_tz": -420
    },
    "id": "6i06-YIoPMie",
    "outputId": "3531fa46-7b2a-4547-8c8f-05a556d362b7"
   },
   "outputs": [
    {
     "data": {
      "text/plain": [
       "<Axes: xlabel='date'>"
      ]
     },
     "execution_count": 899,
     "metadata": {},
     "output_type": "execute_result"
    },
    {
     "data": {
      "image/png": "[encoded data removed]",
      "text/plain": [
       "<Figure size 640x480 with 1 Axes>"
      ]
     },
     "metadata": {},
     "output_type": "display_data"
    }
   ],
   "source": [
    "f_birth_mean.plot()"
   ]
  },
  {
   "cell_type": "code",
   "execution_count": 900,
   "metadata": {
    "executionInfo": {
     "elapsed": 13,
     "status": "ok",
     "timestamp": 1699284437498,
     "user": {
      "displayName": "yeehaw",
      "userId": "00614237284897735384"
     },
     "user_tz": -420
    },
    "id": "Qv7ltvo7PihC"
   },
   "outputs": [],
   "source": [
    "# approach 1: do prediction using baseline model (recent history is the best prediction for tomorrow)"
   ]
  },
  {
   "cell_type": "code",
   "execution_count": 901,
   "metadata": {},
   "outputs": [],
   "source": [
    "value = f_birth.births"
   ]
  },
  {
   "cell_type": "code",
   "execution_count": 902,
   "metadata": {
    "executionInfo": {
     "elapsed": 11,
     "status": "ok",
     "timestamp": 1699284437498,
     "user": {
      "displayName": "yeehaw",
      "userId": "00614237284897735384"
     },
     "user_tz": -420
    },
    "id": "G6DVj0c9Pyr2"
   },
   "outputs": [],
   "source": [
    "forecast = f_birth.births.shift(1)"
   ]
  },
  {
   "cell_type": "code",
   "execution_count": 903,
   "metadata": {
    "executionInfo": {
     "elapsed": 11,
     "status": "ok",
     "timestamp": 1699284437498,
     "user": {
      "displayName": "yeehaw",
      "userId": "00614237284897735384"
     },
     "user_tz": -420
    },
    "id": "YdzJOmMgPyuM"
   },
   "outputs": [],
   "source": [
    "birth_df = pd.concat([value, forecast], axis=1)"
   ]
  },
  {
   "cell_type": "code",
   "execution_count": 904,
   "metadata": {},
   "outputs": [
    {
     "data": {
      "text/html": [
       "<div>\n",
       "<style scoped>\n",
       "    .dataframe tbody tr th:only-of-type {\n",
       "        vertical-align: middle;\n",
       "    }\n",
       "\n",
       "    .dataframe tbody tr th {\n",
       "        vertical-align: top;\n",
       "    }\n",
       "\n",
       "    .dataframe thead th {\n",
       "        text-align: right;\n",
       "    }\n",
       "</style>\n",
       "<table border=\"1\" class=\"dataframe\">\n",
       "  <thead>\n",
       "    <tr style=\"text-align: right;\">\n",
       "      <th></th>\n",
       "      <th>births</th>\n",
       "      <th>births</th>\n",
       "    </tr>\n",
       "    <tr>\n",
       "      <th>date</th>\n",
       "      <th></th>\n",
       "      <th></th>\n",
       "    </tr>\n",
       "  </thead>\n",
       "  <tbody>\n",
       "    <tr>\n",
       "      <th>1959-01-01</th>\n",
       "      <td>35</td>\n",
       "      <td>NaN</td>\n",
       "    </tr>\n",
       "    <tr>\n",
       "      <th>1959-01-02</th>\n",
       "      <td>32</td>\n",
       "      <td>35.0</td>\n",
       "    </tr>\n",
       "    <tr>\n",
       "      <th>1959-01-03</th>\n",
       "      <td>30</td>\n",
       "      <td>32.0</td>\n",
       "    </tr>\n",
       "    <tr>\n",
       "      <th>1959-01-04</th>\n",
       "      <td>31</td>\n",
       "      <td>30.0</td>\n",
       "    </tr>\n",
       "    <tr>\n",
       "      <th>1959-01-05</th>\n",
       "      <td>44</td>\n",
       "      <td>31.0</td>\n",
       "    </tr>\n",
       "    <tr>\n",
       "      <th>...</th>\n",
       "      <td>...</td>\n",
       "      <td>...</td>\n",
       "    </tr>\n",
       "    <tr>\n",
       "      <th>1959-12-27</th>\n",
       "      <td>37</td>\n",
       "      <td>34.0</td>\n",
       "    </tr>\n",
       "    <tr>\n",
       "      <th>1959-12-28</th>\n",
       "      <td>52</td>\n",
       "      <td>37.0</td>\n",
       "    </tr>\n",
       "    <tr>\n",
       "      <th>1959-12-29</th>\n",
       "      <td>48</td>\n",
       "      <td>52.0</td>\n",
       "    </tr>\n",
       "    <tr>\n",
       "      <th>1959-12-30</th>\n",
       "      <td>55</td>\n",
       "      <td>48.0</td>\n",
       "    </tr>\n",
       "    <tr>\n",
       "      <th>1959-12-31</th>\n",
       "      <td>50</td>\n",
       "      <td>55.0</td>\n",
       "    </tr>\n",
       "  </tbody>\n",
       "</table>\n",
       "<p>365 rows × 2 columns</p>\n",
       "</div>"
      ],
      "text/plain": [
       "            births  births\n",
       "date                      \n",
       "1959-01-01      35     NaN\n",
       "1959-01-02      32    35.0\n",
       "1959-01-03      30    32.0\n",
       "1959-01-04      31    30.0\n",
       "1959-01-05      44    31.0\n",
       "...            ...     ...\n",
       "1959-12-27      37    34.0\n",
       "1959-12-28      52    37.0\n",
       "1959-12-29      48    52.0\n",
       "1959-12-30      55    48.0\n",
       "1959-12-31      50    55.0\n",
       "\n",
       "[365 rows x 2 columns]"
      ]
     },
     "execution_count": 904,
     "metadata": {},
     "output_type": "execute_result"
    }
   ],
   "source": [
    "birth_df"
   ]
  },
  {
   "cell_type": "code",
   "execution_count": 905,
   "metadata": {
    "executionInfo": {
     "elapsed": 11,
     "status": "ok",
     "timestamp": 1699284437498,
     "user": {
      "displayName": "yeehaw",
      "userId": "00614237284897735384"
     },
     "user_tz": -420
    },
    "id": "fZMuCxiPPywf"
   },
   "outputs": [],
   "source": [
    "birth_df.columns = ['actual', 'forecasted']"
   ]
  },
  {
   "cell_type": "code",
   "execution_count": 906,
   "metadata": {},
   "outputs": [
    {
     "data": {
      "text/html": [
       "<div>\n",
       "<style scoped>\n",
       "    .dataframe tbody tr th:only-of-type {\n",
       "        vertical-align: middle;\n",
       "    }\n",
       "\n",
       "    .dataframe tbody tr th {\n",
       "        vertical-align: top;\n",
       "    }\n",
       "\n",
       "    .dataframe thead th {\n",
       "        text-align: right;\n",
       "    }\n",
       "</style>\n",
       "<table border=\"1\" class=\"dataframe\">\n",
       "  <thead>\n",
       "    <tr style=\"text-align: right;\">\n",
       "      <th></th>\n",
       "      <th>actual</th>\n",
       "      <th>forecasted</th>\n",
       "    </tr>\n",
       "    <tr>\n",
       "      <th>date</th>\n",
       "      <th></th>\n",
       "      <th></th>\n",
       "    </tr>\n",
       "  </thead>\n",
       "  <tbody>\n",
       "    <tr>\n",
       "      <th>1959-01-01</th>\n",
       "      <td>35</td>\n",
       "      <td>NaN</td>\n",
       "    </tr>\n",
       "    <tr>\n",
       "      <th>1959-01-02</th>\n",
       "      <td>32</td>\n",
       "      <td>35.0</td>\n",
       "    </tr>\n",
       "    <tr>\n",
       "      <th>1959-01-03</th>\n",
       "      <td>30</td>\n",
       "      <td>32.0</td>\n",
       "    </tr>\n",
       "    <tr>\n",
       "      <th>1959-01-04</th>\n",
       "      <td>31</td>\n",
       "      <td>30.0</td>\n",
       "    </tr>\n",
       "    <tr>\n",
       "      <th>1959-01-05</th>\n",
       "      <td>44</td>\n",
       "      <td>31.0</td>\n",
       "    </tr>\n",
       "    <tr>\n",
       "      <th>...</th>\n",
       "      <td>...</td>\n",
       "      <td>...</td>\n",
       "    </tr>\n",
       "    <tr>\n",
       "      <th>1959-12-27</th>\n",
       "      <td>37</td>\n",
       "      <td>34.0</td>\n",
       "    </tr>\n",
       "    <tr>\n",
       "      <th>1959-12-28</th>\n",
       "      <td>52</td>\n",
       "      <td>37.0</td>\n",
       "    </tr>\n",
       "    <tr>\n",
       "      <th>1959-12-29</th>\n",
       "      <td>48</td>\n",
       "      <td>52.0</td>\n",
       "    </tr>\n",
       "    <tr>\n",
       "      <th>1959-12-30</th>\n",
       "      <td>55</td>\n",
       "      <td>48.0</td>\n",
       "    </tr>\n",
       "    <tr>\n",
       "      <th>1959-12-31</th>\n",
       "      <td>50</td>\n",
       "      <td>55.0</td>\n",
       "    </tr>\n",
       "  </tbody>\n",
       "</table>\n",
       "<p>365 rows × 2 columns</p>\n",
       "</div>"
      ],
      "text/plain": [
       "            actual  forecasted\n",
       "date                          \n",
       "1959-01-01      35         NaN\n",
       "1959-01-02      32        35.0\n",
       "1959-01-03      30        32.0\n",
       "1959-01-04      31        30.0\n",
       "1959-01-05      44        31.0\n",
       "...            ...         ...\n",
       "1959-12-27      37        34.0\n",
       "1959-12-28      52        37.0\n",
       "1959-12-29      48        52.0\n",
       "1959-12-30      55        48.0\n",
       "1959-12-31      50        55.0\n",
       "\n",
       "[365 rows x 2 columns]"
      ]
     },
     "execution_count": 906,
     "metadata": {},
     "output_type": "execute_result"
    }
   ],
   "source": [
    "birth_df"
   ]
  },
  {
   "cell_type": "code",
   "execution_count": 907,
   "metadata": {
    "executionInfo": {
     "elapsed": 10,
     "status": "ok",
     "timestamp": 1699284437498,
     "user": {
      "displayName": "yeehaw",
      "userId": "00614237284897735384"
     },
     "user_tz": -420
    },
    "id": "4Nch07bB0XEw"
   },
   "outputs": [],
   "source": [
    "# evaluate the accuracy of the model"
   ]
  },
  {
   "cell_type": "code",
   "execution_count": 908,
   "metadata": {
    "executionInfo": {
     "elapsed": 10,
     "status": "ok",
     "timestamp": 1699284437498,
     "user": {
      "displayName": "yeehaw",
      "userId": "00614237284897735384"
     },
     "user_tz": -420
    },
    "id": "BvHbtr7UPy0x"
   },
   "outputs": [],
   "source": [
    "from sklearn.metrics import mean_squared_error"
   ]
  },
  {
   "cell_type": "code",
   "execution_count": 909,
   "metadata": {
    "colab": {
     "base_uri": "https://localhost:8080/"
    },
    "executionInfo": {
     "elapsed": 10,
     "status": "ok",
     "timestamp": 1699284437499,
     "user": {
      "displayName": "yeehaw",
      "userId": "00614237284897735384"
     },
     "user_tz": -420
    },
    "id": "f5GE16OxRW6c",
    "outputId": "650663b8-5a46-42ac-aea6-46c20123a59a"
   },
   "outputs": [
    {
     "data": {
      "text/plain": [
       "np.float64(9.177283229394606)"
      ]
     },
     "execution_count": 909,
     "metadata": {},
     "output_type": "execute_result"
    }
   ],
   "source": [
    "np.sqrt(mean_squared_error(birth_df.actual[1:], birth_df.forecasted[1:]))"
   ]
  },
  {
   "cell_type": "code",
   "execution_count": 910,
   "metadata": {
    "executionInfo": {
     "elapsed": 9,
     "status": "ok",
     "timestamp": 1699284437499,
     "user": {
      "displayName": "yeehaw",
      "userId": "00614237284897735384"
     },
     "user_tz": -420
    },
    "id": "nsfvQCBiRW3D"
   },
   "outputs": [],
   "source": [
    "# approach 2: apply arima on the data"
   ]
  },
  {
   "cell_type": "code",
   "execution_count": 911,
   "metadata": {
    "executionInfo": {
     "elapsed": 729,
     "status": "ok",
     "timestamp": 1699284438220,
     "user": {
      "displayName": "yeehaw",
      "userId": "00614237284897735384"
     },
     "user_tz": -420
    },
    "id": "OR_dU_p8RWzt"
   },
   "outputs": [],
   "source": [
    "from statsmodels.graphics.tsaplots import plot_acf, plot_pacf\n",
    "from statsmodels.tsa.arima.model import ARIMA"
   ]
  },
  {
   "cell_type": "code",
   "execution_count": 912,
   "metadata": {
    "colab": {
     "base_uri": "https://localhost:8080/",
     "height": 887
    },
    "executionInfo": {
     "elapsed": 936,
     "status": "ok",
     "timestamp": 1699284439152,
     "user": {
      "displayName": "yeehaw",
      "userId": "00614237284897735384"
     },
     "user_tz": -420
    },
    "id": "3z2eGhVmRV55",
    "outputId": "4e0fe581-4788-44e6-ab4b-90aa00c9e9a7"
   },
   "outputs": [
    {
     "data": {
      "image/png": "[encoded data removed]",
      "text/plain": [
       "<Figure size 640x480 with 1 Axes>"
      ]
     },
     "execution_count": 912,
     "metadata": {},
     "output_type": "execute_result"
    },
    {
     "data": {
      "image/png": "[encoded data removed]",
      "text/plain": [
       "<Figure size 640x480 with 1 Axes>"
      ]
     },
     "metadata": {},
     "output_type": "display_data"
    }
   ],
   "source": [
    "plot_acf(f_birth.births)"
   ]
  },
  {
   "cell_type": "code",
   "execution_count": 913,
   "metadata": {
    "colab": {
     "base_uri": "https://localhost:8080/",
     "height": 887
    },
    "executionInfo": {
     "elapsed": 387,
     "status": "ok",
     "timestamp": 1699284439537,
     "user": {
      "displayName": "yeehaw",
      "userId": "00614237284897735384"
     },
     "user_tz": -420
    },
    "id": "Ccd7M59NRVon",
    "outputId": "c69980c7-3846-4dec-c868-20a4a7d54a89"
   },
   "outputs": [
    {
     "data": {
      "image/png": "[encoded data removed]",
      "text/plain": [
       "<Figure size 640x480 with 1 Axes>"
      ]
     },
     "execution_count": 913,
     "metadata": {},
     "output_type": "execute_result"
    },
    {
     "data": {
      "image/png": "[encoded data removed]",
      "text/plain": [
       "<Figure size 640x480 with 1 Axes>"
      ]
     },
     "metadata": {},
     "output_type": "display_data"
    }
   ],
   "source": [
    "plot_pacf(f_birth)"
   ]
  },
  {
   "cell_type": "code",
   "execution_count": 914,
   "metadata": {
    "executionInfo": {
     "elapsed": 4,
     "status": "ok",
     "timestamp": 1699284439537,
     "user": {
      "displayName": "yeehaw",
      "userId": "00614237284897735384"
     },
     "user_tz": -420
    },
    "id": "Paw_3AWUP1H2"
   },
   "outputs": [],
   "source": [
    "train = f_birth[0:320]\n",
    "test = f_birth[320:]"
   ]
  },
  {
   "cell_type": "code",
   "execution_count": 915,
   "metadata": {
    "colab": {
     "base_uri": "https://localhost:8080/"
    },
    "executionInfo": {
     "elapsed": 383,
     "status": "ok",
     "timestamp": 1699284439917,
     "user": {
      "displayName": "yeehaw",
      "userId": "00614237284897735384"
     },
     "user_tz": -420
    },
    "id": "DKwqjecTP1LI",
    "outputId": "1fc00eea-ccee-4e4a-e0e2-bec7317f6580"
   },
   "outputs": [],
   "source": [
    "arima = ARIMA(train, order=(2, 1, 3))"
   ]
  },
  {
   "cell_type": "code",
   "execution_count": 916,
   "metadata": {
    "executionInfo": {
     "elapsed": 835,
     "status": "ok",
     "timestamp": 1699284440750,
     "user": {
      "displayName": "yeehaw",
      "userId": "00614237284897735384"
     },
     "user_tz": -420
    },
    "id": "j61ScQLp1cJn"
   },
   "outputs": [],
   "source": [
    "model=arima.fit()"
   ]
  },
  {
   "cell_type": "code",
   "execution_count": 917,
   "metadata": {},
   "outputs": [
    {
     "data": {
      "text/plain": [
       "np.float64(2167.8472399068664)"
      ]
     },
     "execution_count": 917,
     "metadata": {},
     "output_type": "execute_result"
    }
   ],
   "source": [
    "model.aic"
   ]
  },
  {
   "cell_type": "code",
   "execution_count": 918,
   "metadata": {
    "executionInfo": {
     "elapsed": 13,
     "status": "ok",
     "timestamp": 1699284441125,
     "user": {
      "displayName": "yeehaw",
      "userId": "00614237284897735384"
     },
     "user_tz": -420
    },
    "id": "kjCsXwhP1xiM"
   },
   "outputs": [],
   "source": [
    "pred = model.forecast(steps=45)"
   ]
  },
  {
   "cell_type": "code",
   "execution_count": 919,
   "metadata": {},
   "outputs": [
    {
     "data": {
      "text/plain": [
       "1959-11-17    42.860639\n",
       "1959-11-18    43.279106\n",
       "1959-11-19    43.447916\n",
       "1959-11-20    43.526927\n",
       "1959-11-21    43.555955\n",
       "1959-11-22    43.571614\n",
       "1959-11-23    43.576066\n",
       "1959-11-24    43.579509\n",
       "1959-11-25    43.579920\n",
       "1959-11-26    43.580825\n",
       "1959-11-27    43.580710\n",
       "1959-11-28    43.581006\n",
       "1959-11-29    43.580895\n",
       "1959-11-30    43.581011\n",
       "1959-12-01    43.580948\n",
       "1959-12-02    43.580998\n",
       "1959-12-03    43.580967\n",
       "1959-12-04    43.580990\n",
       "1959-12-05    43.580974\n",
       "1959-12-06    43.580985\n",
       "1959-12-07    43.580978\n",
       "1959-12-08    43.580983\n",
       "1959-12-09    43.580979\n",
       "1959-12-10    43.580982\n",
       "1959-12-11    43.580980\n",
       "1959-12-12    43.580981\n",
       "1959-12-13    43.580981\n",
       "1959-12-14    43.580981\n",
       "1959-12-15    43.580981\n",
       "1959-12-16    43.580981\n",
       "1959-12-17    43.580981\n",
       "1959-12-18    43.580981\n",
       "1959-12-19    43.580981\n",
       "1959-12-20    43.580981\n",
       "1959-12-21    43.580981\n",
       "1959-12-22    43.580981\n",
       "1959-12-23    43.580981\n",
       "1959-12-24    43.580981\n",
       "1959-12-25    43.580981\n",
       "1959-12-26    43.580981\n",
       "1959-12-27    43.580981\n",
       "1959-12-28    43.580981\n",
       "1959-12-29    43.580981\n",
       "1959-12-30    43.580981\n",
       "1959-12-31    43.580981\n",
       "Freq: D, Name: predicted_mean, dtype: float64"
      ]
     },
     "execution_count": 919,
     "metadata": {},
     "output_type": "execute_result"
    }
   ],
   "source": [
    "pred"
   ]
  },
  {
   "cell_type": "code",
   "execution_count": 920,
   "metadata": {
    "colab": {
     "base_uri": "https://localhost:8080/"
    },
    "executionInfo": {
     "elapsed": 13,
     "status": "ok",
     "timestamp": 1699284441125,
     "user": {
      "displayName": "yeehaw",
      "userId": "00614237284897735384"
     },
     "user_tz": -420
    },
    "id": "_UWt9lA010ot",
    "outputId": "a1187e04-1fff-4047-ef59-7e87716db83f"
   },
   "outputs": [
    {
     "data": {
      "text/plain": [
       "np.float64(6.53664504586193)"
      ]
     },
     "execution_count": 920,
     "metadata": {},
     "output_type": "execute_result"
    }
   ],
   "source": [
    "np.sqrt(mean_squared_error(test, pred))"
   ]
  },
  {
   "cell_type": "code",
   "execution_count": 921,
   "metadata": {
    "executionInfo": {
     "elapsed": 11,
     "status": "ok",
     "timestamp": 1699284441125,
     "user": {
      "displayName": "yeehaw",
      "userId": "00614237284897735384"
     },
     "user_tz": -420
    },
    "id": "FCj6IcjO2COF"
   },
   "outputs": [],
   "source": [
    "# approach 3: normalize the data"
   ]
  },
  {
   "cell_type": "code",
   "execution_count": 922,
   "metadata": {
    "executionInfo": {
     "elapsed": 11,
     "status": "ok",
     "timestamp": 1699284441125,
     "user": {
      "displayName": "yeehaw",
      "userId": "00614237284897735384"
     },
     "user_tz": -420
    },
    "id": "RNSEMNSH5Qai"
   },
   "outputs": [],
   "source": [
    "from sklearn.preprocessing import MinMaxScaler"
   ]
  },
  {
   "cell_type": "code",
   "execution_count": 923,
   "metadata": {
    "executionInfo": {
     "elapsed": 11,
     "status": "ok",
     "timestamp": 1699284441125,
     "user": {
      "displayName": "yeehaw",
      "userId": "00614237284897735384"
     },
     "user_tz": -420
    },
    "id": "Frumt6uK-ZIv"
   },
   "outputs": [],
   "source": [
    "scaler = MinMaxScaler()"
   ]
  },
  {
   "cell_type": "code",
   "execution_count": 924,
   "metadata": {
    "executionInfo": {
     "elapsed": 10,
     "status": "ok",
     "timestamp": 1699284441125,
     "user": {
      "displayName": "yeehaw",
      "userId": "00614237284897735384"
     },
     "user_tz": -420
    },
    "id": "Ni6GvZx_-bv3"
   },
   "outputs": [],
   "source": [
    "birth_normalized = scaler.fit_transform(f_birth)"
   ]
  },
  {
   "cell_type": "code",
   "execution_count": 925,
   "metadata": {
    "colab": {
     "base_uri": "https://localhost:8080/"
    },
    "executionInfo": {
     "elapsed": 10,
     "status": "ok",
     "timestamp": 1699284441125,
     "user": {
      "displayName": "yeehaw",
      "userId": "00614237284897735384"
     },
     "user_tz": -420
    },
    "id": "OzJfYCgE-iUQ",
    "outputId": "428b3b37-a123-4b39-97e5-669abd3bb6ef"
   },
   "outputs": [
    {
     "data": {
      "text/plain": [
       "array([[0.24],\n",
       "       [0.18],\n",
       "       [0.14],\n",
       "       [0.16],\n",
       "       [0.42],\n",
       "       [0.12],\n",
       "       [0.44],\n",
       "       [0.4 ],\n",
       "       [0.3 ],\n",
       "       [0.08],\n",
       "       [0.3 ],\n",
       "       [0.2 ],\n",
       "       [0.64],\n",
       "       [0.48],\n",
       "       [0.44],\n",
       "       [0.28],\n",
       "       [0.54],\n",
       "       [0.4 ],\n",
       "       [0.36],\n",
       "       [0.58],\n",
       "       [0.22],\n",
       "       [0.6 ],\n",
       "       [0.32],\n",
       "       [0.18],\n",
       "       [0.28],\n",
       "       [0.4 ],\n",
       "       [0.32],\n",
       "       [0.24],\n",
       "       [0.42],\n",
       "       [0.3 ],\n",
       "       [0.02],\n",
       "       [0.  ],\n",
       "       [0.16],\n",
       "       [0.42],\n",
       "       [0.3 ],\n",
       "       [0.54],\n",
       "       [0.3 ],\n",
       "       [0.56],\n",
       "       [0.16],\n",
       "       [0.16],\n",
       "       [0.56],\n",
       "       [0.26],\n",
       "       [0.44],\n",
       "       [0.56],\n",
       "       [0.22],\n",
       "       [0.58],\n",
       "       [0.48],\n",
       "       [0.44],\n",
       "       [0.46],\n",
       "       [0.32],\n",
       "       [0.5 ],\n",
       "       [0.28],\n",
       "       [0.24],\n",
       "       [0.58],\n",
       "       [0.38],\n",
       "       [0.44],\n",
       "       [0.32],\n",
       "       [0.28],\n",
       "       [0.14],\n",
       "       [0.24],\n",
       "       [0.1 ],\n",
       "       [0.44],\n",
       "       [0.22],\n",
       "       [0.26],\n",
       "       [0.54],\n",
       "       [0.42],\n",
       "       [0.32],\n",
       "       [0.18],\n",
       "       [0.32],\n",
       "       [0.44],\n",
       "       [0.4 ],\n",
       "       [0.32],\n",
       "       [0.16],\n",
       "       [0.08],\n",
       "       [0.14],\n",
       "       [0.38],\n",
       "       [0.46],\n",
       "       [0.36],\n",
       "       [0.26],\n",
       "       [0.44],\n",
       "       [0.46],\n",
       "       [0.4 ],\n",
       "       [0.3 ],\n",
       "       [0.22],\n",
       "       [0.24],\n",
       "       [0.66],\n",
       "       [0.26],\n",
       "       [0.18],\n",
       "       [0.54],\n",
       "       [0.36],\n",
       "       [0.32],\n",
       "       [0.36],\n",
       "       [0.48],\n",
       "       [0.22],\n",
       "       [0.26],\n",
       "       [0.2 ],\n",
       "       [0.24],\n",
       "       [0.3 ],\n",
       "       [0.3 ],\n",
       "       [0.22],\n",
       "       [0.6 ],\n",
       "       [0.22],\n",
       "       [0.22],\n",
       "       [0.3 ],\n",
       "       [0.24],\n",
       "       [0.18],\n",
       "       [0.38],\n",
       "       [0.22],\n",
       "       [0.46],\n",
       "       [0.14],\n",
       "       [0.46],\n",
       "       [0.44],\n",
       "       [0.62],\n",
       "       [0.22],\n",
       "       [0.28],\n",
       "       [0.24],\n",
       "       [0.34],\n",
       "       [0.38],\n",
       "       [0.7 ],\n",
       "       [0.56],\n",
       "       [0.18],\n",
       "       [0.24],\n",
       "       [0.3 ],\n",
       "       [0.2 ],\n",
       "       [0.32],\n",
       "       [0.48],\n",
       "       [0.3 ],\n",
       "       [0.58],\n",
       "       [0.14],\n",
       "       [0.22],\n",
       "       [0.34],\n",
       "       [0.24],\n",
       "       [0.38],\n",
       "       [0.36],\n",
       "       [0.38],\n",
       "       [0.3 ],\n",
       "       [0.02],\n",
       "       [0.22],\n",
       "       [0.4 ],\n",
       "       [0.26],\n",
       "       [0.64],\n",
       "       [0.36],\n",
       "       [0.44],\n",
       "       [0.36],\n",
       "       [0.28],\n",
       "       [0.4 ],\n",
       "       [0.32],\n",
       "       [0.2 ],\n",
       "       [0.4 ],\n",
       "       [0.34],\n",
       "       [0.3 ],\n",
       "       [0.44],\n",
       "       [0.46],\n",
       "       [0.22],\n",
       "       [0.24],\n",
       "       [0.5 ],\n",
       "       [0.56],\n",
       "       [0.26],\n",
       "       [0.2 ],\n",
       "       [0.46],\n",
       "       [0.38],\n",
       "       [0.5 ],\n",
       "       [0.22],\n",
       "       [0.36],\n",
       "       [0.24],\n",
       "       [0.34],\n",
       "       [0.22],\n",
       "       [0.14],\n",
       "       [0.26],\n",
       "       [0.34],\n",
       "       [0.32],\n",
       "       [0.44],\n",
       "       [0.3 ],\n",
       "       [0.48],\n",
       "       [0.2 ],\n",
       "       [0.14],\n",
       "       [0.38],\n",
       "       [0.4 ],\n",
       "       [0.36],\n",
       "       [0.36],\n",
       "       [0.72],\n",
       "       [0.4 ],\n",
       "       [0.44],\n",
       "       [0.3 ],\n",
       "       [0.28],\n",
       "       [0.44],\n",
       "       [0.38],\n",
       "       [0.68],\n",
       "       [0.46],\n",
       "       [0.56],\n",
       "       [0.36],\n",
       "       [0.48],\n",
       "       [0.06],\n",
       "       [0.24],\n",
       "       [0.42],\n",
       "       [0.36],\n",
       "       [0.38],\n",
       "       [0.26],\n",
       "       [0.44],\n",
       "       [0.44],\n",
       "       [0.44],\n",
       "       [0.48],\n",
       "       [0.3 ],\n",
       "       [0.38],\n",
       "       [0.24],\n",
       "       [0.26],\n",
       "       [0.32],\n",
       "       [0.44],\n",
       "       [0.4 ],\n",
       "       [0.48],\n",
       "       [0.26],\n",
       "       [0.36],\n",
       "       [0.54],\n",
       "       [0.32],\n",
       "       [0.36],\n",
       "       [0.46],\n",
       "       [0.82],\n",
       "       [0.44],\n",
       "       [0.22],\n",
       "       [0.3 ],\n",
       "       [0.42],\n",
       "       [0.5 ],\n",
       "       [0.46],\n",
       "       [0.42],\n",
       "       [0.28],\n",
       "       [0.32],\n",
       "       [0.42],\n",
       "       [0.44],\n",
       "       [0.2 ],\n",
       "       [0.42],\n",
       "       [0.3 ],\n",
       "       [0.46],\n",
       "       [0.46],\n",
       "       [0.34],\n",
       "       [0.32],\n",
       "       [0.42],\n",
       "       [0.5 ],\n",
       "       [0.54],\n",
       "       [0.36],\n",
       "       [0.38],\n",
       "       [0.56],\n",
       "       [0.36],\n",
       "       [0.42],\n",
       "       [0.3 ],\n",
       "       [0.9 ],\n",
       "       [0.34],\n",
       "       [0.38],\n",
       "       [0.56],\n",
       "       [0.42],\n",
       "       [0.44],\n",
       "       [0.26],\n",
       "       [0.68],\n",
       "       [0.42],\n",
       "       [0.38],\n",
       "       [0.6 ],\n",
       "       [0.38],\n",
       "       [0.22],\n",
       "       [0.34],\n",
       "       [0.66],\n",
       "       [0.42],\n",
       "       [0.6 ],\n",
       "       [0.64],\n",
       "       [0.32],\n",
       "       [0.72],\n",
       "       [0.64],\n",
       "       [1.  ],\n",
       "       [0.64],\n",
       "       [0.42],\n",
       "       [0.4 ],\n",
       "       [0.34],\n",
       "       [0.48],\n",
       "       [0.56],\n",
       "       [0.66],\n",
       "       [0.52],\n",
       "       [0.62],\n",
       "       [0.66],\n",
       "       [0.48],\n",
       "       [0.42],\n",
       "       [0.4 ],\n",
       "       [0.38],\n",
       "       [0.44],\n",
       "       [0.54],\n",
       "       [0.5 ],\n",
       "       [0.4 ],\n",
       "       [0.34],\n",
       "       [0.72],\n",
       "       [0.36],\n",
       "       [0.38],\n",
       "       [0.56],\n",
       "       [0.52],\n",
       "       [0.44],\n",
       "       [0.4 ],\n",
       "       [0.38],\n",
       "       [0.3 ],\n",
       "       [0.48],\n",
       "       [0.3 ],\n",
       "       [0.26],\n",
       "       [0.38],\n",
       "       [0.24],\n",
       "       [0.1 ],\n",
       "       [0.42],\n",
       "       [0.26],\n",
       "       [0.44],\n",
       "       [0.46],\n",
       "       [0.5 ],\n",
       "       [0.52],\n",
       "       [0.4 ],\n",
       "       [0.38],\n",
       "       [0.72],\n",
       "       [0.44],\n",
       "       [0.58],\n",
       "       [0.46],\n",
       "       [0.38],\n",
       "       [0.34],\n",
       "       [0.34],\n",
       "       [0.44],\n",
       "       [0.24],\n",
       "       [0.24],\n",
       "       [0.34],\n",
       "       [0.32],\n",
       "       [0.2 ],\n",
       "       [0.38],\n",
       "       [0.48],\n",
       "       [0.56],\n",
       "       [0.42],\n",
       "       [0.34],\n",
       "       [0.68],\n",
       "       [0.52],\n",
       "       [0.44],\n",
       "       [0.52],\n",
       "       [0.56],\n",
       "       [0.46],\n",
       "       [0.42],\n",
       "       [0.58],\n",
       "       [0.44],\n",
       "       [0.18],\n",
       "       [0.46],\n",
       "       [0.36],\n",
       "       [0.22],\n",
       "       [0.2 ],\n",
       "       [0.26],\n",
       "       [0.52],\n",
       "       [0.4 ],\n",
       "       [0.4 ],\n",
       "       [0.22],\n",
       "       [0.32],\n",
       "       [0.24],\n",
       "       [0.58],\n",
       "       [0.48],\n",
       "       [0.58],\n",
       "       [0.32],\n",
       "       [0.34],\n",
       "       [0.38],\n",
       "       [0.38],\n",
       "       [0.6 ],\n",
       "       [0.32],\n",
       "       [0.34],\n",
       "       [0.3 ],\n",
       "       [0.42],\n",
       "       [0.22],\n",
       "       [0.28],\n",
       "       [0.58],\n",
       "       [0.5 ],\n",
       "       [0.64],\n",
       "       [0.54]])"
      ]
     },
     "execution_count": 925,
     "metadata": {},
     "output_type": "execute_result"
    }
   ],
   "source": [
    "birth_normalized"
   ]
  },
  {
   "cell_type": "code",
   "execution_count": 926,
   "metadata": {
    "colab": {
     "base_uri": "https://localhost:8080/"
    },
    "executionInfo": {
     "elapsed": 8,
     "status": "ok",
     "timestamp": 1699284441125,
     "user": {
      "displayName": "yeehaw",
      "userId": "00614237284897735384"
     },
     "user_tz": -420
    },
    "id": "tlxyLE15-jmE",
    "outputId": "8f68c293-808c-4346-9db7-566ac3947123"
   },
   "outputs": [
    {
     "data": {
      "text/plain": [
       "365"
      ]
     },
     "execution_count": 926,
     "metadata": {},
     "output_type": "execute_result"
    }
   ],
   "source": [
    "birth_normalized.size"
   ]
  },
  {
   "cell_type": "code",
   "execution_count": 927,
   "metadata": {
    "executionInfo": {
     "elapsed": 4,
     "status": "ok",
     "timestamp": 1699284441125,
     "user": {
      "displayName": "yeehaw",
      "userId": "00614237284897735384"
     },
     "user_tz": -420
    },
    "id": "BBe-2OKU-mlV"
   },
   "outputs": [],
   "source": [
    "train = birth_normalized[0:320]\n",
    "test = birth_normalized[320:]"
   ]
  },
  {
   "cell_type": "code",
   "execution_count": 928,
   "metadata": {},
   "outputs": [
    {
     "data": {
      "text/plain": [
       "45"
      ]
     },
     "execution_count": 928,
     "metadata": {},
     "output_type": "execute_result"
    }
   ],
   "source": [
    "test.size"
   ]
  },
  {
   "cell_type": "code",
   "execution_count": 929,
   "metadata": {
    "executionInfo": {
     "elapsed": 4,
     "status": "ok",
     "timestamp": 1699284441125,
     "user": {
      "displayName": "yeehaw",
      "userId": "00614237284897735384"
     },
     "user_tz": -420
    },
    "id": "xgdCtReR-s9T"
   },
   "outputs": [],
   "source": [
    "arima = ARIMA(train, order=(2, 1, 3))"
   ]
  },
  {
   "cell_type": "code",
   "execution_count": 930,
   "metadata": {
    "executionInfo": {
     "elapsed": 2752,
     "status": "ok",
     "timestamp": 1699284443874,
     "user": {
      "displayName": "yeehaw",
      "userId": "00614237284897735384"
     },
     "user_tz": -420
    },
    "id": "yirgH96U-zMT"
   },
   "outputs": [],
   "source": [
    "model = arima.fit()"
   ]
  },
  {
   "cell_type": "code",
   "execution_count": 931,
   "metadata": {},
   "outputs": [
    {
     "data": {
      "text/plain": [
       "np.float64(-328.0257598215261)"
      ]
     },
     "execution_count": 931,
     "metadata": {},
     "output_type": "execute_result"
    }
   ],
   "source": [
    "model.aic"
   ]
  },
  {
   "cell_type": "code",
   "execution_count": 932,
   "metadata": {
    "executionInfo": {
     "elapsed": 22,
     "status": "ok",
     "timestamp": 1699284443875,
     "user": {
      "displayName": "yeehaw",
      "userId": "00614237284897735384"
     },
     "user_tz": -420
    },
    "id": "xx7l551Z-6G7"
   },
   "outputs": [],
   "source": [
    "pred2 = model.forecast(steps=45)"
   ]
  },
  {
   "cell_type": "code",
   "execution_count": 933,
   "metadata": {},
   "outputs": [
    {
     "data": {
      "text/plain": [
       "array([0.3970189 , 0.40546989, 0.40879314, 0.4105825 , 0.41115602,\n",
       "       0.41156997, 0.41164059, 0.4117531 , 0.4117452 , 0.41178308,\n",
       "       0.41177036, 0.41178582, 0.41177761, 0.41178474, 0.41178021,\n",
       "       0.4117837 , 0.41178131, 0.41178307, 0.41178184, 0.41178272,\n",
       "       0.41178209, 0.41178255, 0.41178222, 0.41178245, 0.41178229,\n",
       "       0.41178241, 0.41178232, 0.41178238, 0.41178234, 0.41178237,\n",
       "       0.41178235, 0.41178237, 0.41178235, 0.41178236, 0.41178236,\n",
       "       0.41178236, 0.41178236, 0.41178236, 0.41178236, 0.41178236,\n",
       "       0.41178236, 0.41178236, 0.41178236, 0.41178236, 0.41178236])"
      ]
     },
     "execution_count": 933,
     "metadata": {},
     "output_type": "execute_result"
    }
   ],
   "source": [
    "pred2"
   ]
  },
  {
   "cell_type": "code",
   "execution_count": 934,
   "metadata": {
    "colab": {
     "base_uri": "https://localhost:8080/"
    },
    "executionInfo": {
     "elapsed": 21,
     "status": "ok",
     "timestamp": 1699284443875,
     "user": {
      "displayName": "yeehaw",
      "userId": "00614237284897735384"
     },
     "user_tz": -420
    },
    "id": "far4D5IE-8NM",
    "outputId": "42aed2b9-440b-44ce-ff74-0debbb50741d"
   },
   "outputs": [
    {
     "data": {
      "text/plain": [
       "np.float64(0.13072655989741802)"
      ]
     },
     "execution_count": 934,
     "metadata": {},
     "output_type": "execute_result"
    }
   ],
   "source": [
    "np.sqrt(mean_squared_error(test,pred2))"
   ]
  },
  {
   "cell_type": "code",
   "execution_count": 935,
   "metadata": {},
   "outputs": [],
   "source": [
    "actual_forecast = scaler.inverse_transform(pred2.reshape(-1,1))"
   ]
  },
  {
   "cell_type": "code",
   "execution_count": 936,
   "metadata": {},
   "outputs": [
    {
     "data": {
      "text/plain": [
       "array([[42.85094523],\n",
       "       [43.27349438],\n",
       "       [43.43965703],\n",
       "       [43.5291248 ],\n",
       "       [43.55780087],\n",
       "       [43.5784987 ],\n",
       "       [43.58202974],\n",
       "       [43.58765484],\n",
       "       [43.58726001],\n",
       "       [43.58915401],\n",
       "       [43.58851779],\n",
       "       [43.58929123],\n",
       "       [43.58888048],\n",
       "       [43.58923703],\n",
       "       [43.58901035],\n",
       "       [43.58918478],\n",
       "       [43.58906571],\n",
       "       [43.58915325],\n",
       "       [43.58909181],\n",
       "       [43.5891362 ],\n",
       "       [43.5891047 ],\n",
       "       [43.5891273 ],\n",
       "       [43.5891112 ],\n",
       "       [43.58912272],\n",
       "       [43.58911449],\n",
       "       [43.58912037],\n",
       "       [43.58911618],\n",
       "       [43.58911918],\n",
       "       [43.58911703],\n",
       "       [43.58911856],\n",
       "       [43.58911747],\n",
       "       [43.58911825],\n",
       "       [43.58911769],\n",
       "       [43.58911809],\n",
       "       [43.58911781],\n",
       "       [43.58911801],\n",
       "       [43.58911787],\n",
       "       [43.58911797],\n",
       "       [43.5891179 ],\n",
       "       [43.58911795],\n",
       "       [43.58911791],\n",
       "       [43.58911794],\n",
       "       [43.58911792],\n",
       "       [43.58911793],\n",
       "       [43.58911792]])"
      ]
     },
     "execution_count": 936,
     "metadata": {},
     "output_type": "execute_result"
    }
   ],
   "source": [
    "actual_forecast"
   ]
  },
  {
   "cell_type": "code",
   "execution_count": 937,
   "metadata": {},
   "outputs": [
    {
     "data": {
      "text/plain": [
       "np.float64(6.536327994870902)"
      ]
     },
     "execution_count": 937,
     "metadata": {},
     "output_type": "execute_result"
    }
   ],
   "source": [
    "np.sqrt(mean_squared_error(scaler.inverse_transform(test),actual_forecast))"
   ]
  },
  {
   "cell_type": "code",
   "execution_count": 938,
   "metadata": {},
   "outputs": [],
   "source": [
    "# approach 3 resulted less error"
   ]
  },
  {
   "cell_type": "code",
   "execution_count": 939,
   "metadata": {
    "executionInfo": {
     "elapsed": 20,
     "status": "ok",
     "timestamp": 1699284443875,
     "user": {
      "displayName": "yeehaw",
      "userId": "00614237284897735384"
     },
     "user_tz": -420
    },
    "id": "HdunuXxj_DPJ"
   },
   "outputs": [],
   "source": [
    "# doing basic feature engineering on the data"
   ]
  },
  {
   "cell_type": "code",
   "execution_count": 940,
   "metadata": {
    "colab": {
     "base_uri": "https://localhost:8080/",
     "height": 237
    },
    "executionInfo": {
     "elapsed": 20,
     "status": "ok",
     "timestamp": 1699284443875,
     "user": {
      "displayName": "yeehaw",
      "userId": "00614237284897735384"
     },
     "user_tz": -420
    },
    "id": "n4FAQvNcAHo9",
    "outputId": "7289afcc-4b20-498a-b7b4-aa7ffdfd128c"
   },
   "outputs": [
    {
     "data": {
      "text/html": [
       "<div>\n",
       "<style scoped>\n",
       "    .dataframe tbody tr th:only-of-type {\n",
       "        vertical-align: middle;\n",
       "    }\n",
       "\n",
       "    .dataframe tbody tr th {\n",
       "        vertical-align: top;\n",
       "    }\n",
       "\n",
       "    .dataframe thead th {\n",
       "        text-align: right;\n",
       "    }\n",
       "</style>\n",
       "<table border=\"1\" class=\"dataframe\">\n",
       "  <thead>\n",
       "    <tr style=\"text-align: right;\">\n",
       "      <th></th>\n",
       "      <th>births</th>\n",
       "    </tr>\n",
       "    <tr>\n",
       "      <th>date</th>\n",
       "      <th></th>\n",
       "    </tr>\n",
       "  </thead>\n",
       "  <tbody>\n",
       "    <tr>\n",
       "      <th>1959-01-01</th>\n",
       "      <td>35</td>\n",
       "    </tr>\n",
       "    <tr>\n",
       "      <th>1959-01-02</th>\n",
       "      <td>32</td>\n",
       "    </tr>\n",
       "    <tr>\n",
       "      <th>1959-01-03</th>\n",
       "      <td>30</td>\n",
       "    </tr>\n",
       "    <tr>\n",
       "      <th>1959-01-04</th>\n",
       "      <td>31</td>\n",
       "    </tr>\n",
       "    <tr>\n",
       "      <th>1959-01-05</th>\n",
       "      <td>44</td>\n",
       "    </tr>\n",
       "  </tbody>\n",
       "</table>\n",
       "</div>"
      ],
      "text/plain": [
       "            births\n",
       "date              \n",
       "1959-01-01      35\n",
       "1959-01-02      32\n",
       "1959-01-03      30\n",
       "1959-01-04      31\n",
       "1959-01-05      44"
      ]
     },
     "execution_count": 940,
     "metadata": {},
     "output_type": "execute_result"
    }
   ],
   "source": [
    "f_birth.head()"
   ]
  },
  {
   "cell_type": "code",
   "execution_count": 941,
   "metadata": {
    "executionInfo": {
     "elapsed": 19,
     "status": "ok",
     "timestamp": 1699284443875,
     "user": {
      "displayName": "yeehaw",
      "userId": "00614237284897735384"
     },
     "user_tz": -420
    },
    "id": "UpmJNCLNAr2T"
   },
   "outputs": [],
   "source": [
    "f_birth['lag1'] = f_birth.births.shift(1)\n",
    "f_birth['lag2'] = f_birth.births.shift(2)\n",
    "f_birth['lag3'] = f_birth.births.shift(3)"
   ]
  },
  {
   "cell_type": "code",
   "execution_count": 942,
   "metadata": {
    "colab": {
     "base_uri": "https://localhost:8080/",
     "height": 237
    },
    "executionInfo": {
     "elapsed": 19,
     "status": "ok",
     "timestamp": 1699284443875,
     "user": {
      "displayName": "yeehaw",
      "userId": "00614237284897735384"
     },
     "user_tz": -420
    },
    "id": "E4VmPhZ_Aw4C",
    "outputId": "ca416f5d-8d7c-4947-9520-891b68bac5ec"
   },
   "outputs": [
    {
     "data": {
      "text/html": [
       "<div>\n",
       "<style scoped>\n",
       "    .dataframe tbody tr th:only-of-type {\n",
       "        vertical-align: middle;\n",
       "    }\n",
       "\n",
       "    .dataframe tbody tr th {\n",
       "        vertical-align: top;\n",
       "    }\n",
       "\n",
       "    .dataframe thead th {\n",
       "        text-align: right;\n",
       "    }\n",
       "</style>\n",
       "<table border=\"1\" class=\"dataframe\">\n",
       "  <thead>\n",
       "    <tr style=\"text-align: right;\">\n",
       "      <th></th>\n",
       "      <th>births</th>\n",
       "      <th>lag1</th>\n",
       "      <th>lag2</th>\n",
       "      <th>lag3</th>\n",
       "    </tr>\n",
       "    <tr>\n",
       "      <th>date</th>\n",
       "      <th></th>\n",
       "      <th></th>\n",
       "      <th></th>\n",
       "      <th></th>\n",
       "    </tr>\n",
       "  </thead>\n",
       "  <tbody>\n",
       "    <tr>\n",
       "      <th>1959-01-01</th>\n",
       "      <td>35</td>\n",
       "      <td>NaN</td>\n",
       "      <td>NaN</td>\n",
       "      <td>NaN</td>\n",
       "    </tr>\n",
       "    <tr>\n",
       "      <th>1959-01-02</th>\n",
       "      <td>32</td>\n",
       "      <td>35.0</td>\n",
       "      <td>NaN</td>\n",
       "      <td>NaN</td>\n",
       "    </tr>\n",
       "    <tr>\n",
       "      <th>1959-01-03</th>\n",
       "      <td>30</td>\n",
       "      <td>32.0</td>\n",
       "      <td>35.0</td>\n",
       "      <td>NaN</td>\n",
       "    </tr>\n",
       "    <tr>\n",
       "      <th>1959-01-04</th>\n",
       "      <td>31</td>\n",
       "      <td>30.0</td>\n",
       "      <td>32.0</td>\n",
       "      <td>35.0</td>\n",
       "    </tr>\n",
       "    <tr>\n",
       "      <th>1959-01-05</th>\n",
       "      <td>44</td>\n",
       "      <td>31.0</td>\n",
       "      <td>30.0</td>\n",
       "      <td>32.0</td>\n",
       "    </tr>\n",
       "  </tbody>\n",
       "</table>\n",
       "</div>"
      ],
      "text/plain": [
       "            births  lag1  lag2  lag3\n",
       "date                                \n",
       "1959-01-01      35   NaN   NaN   NaN\n",
       "1959-01-02      32  35.0   NaN   NaN\n",
       "1959-01-03      30  32.0  35.0   NaN\n",
       "1959-01-04      31  30.0  32.0  35.0\n",
       "1959-01-05      44  31.0  30.0  32.0"
      ]
     },
     "execution_count": 942,
     "metadata": {},
     "output_type": "execute_result"
    }
   ],
   "source": [
    "f_birth.head()"
   ]
  },
  {
   "cell_type": "code",
   "execution_count": 943,
   "metadata": {},
   "outputs": [],
   "source": [
    "# moving average"
   ]
  },
  {
   "cell_type": "code",
   "execution_count": 944,
   "metadata": {
    "executionInfo": {
     "elapsed": 19,
     "status": "ok",
     "timestamp": 1699284443876,
     "user": {
      "displayName": "yeehaw",
      "userId": "00614237284897735384"
     },
     "user_tz": -420
    },
    "id": "1SQYeG8dBAlg"
   },
   "outputs": [],
   "source": [
    "f_birth['MA3'] = f_birth.births.rolling(window=3).mean()"
   ]
  },
  {
   "cell_type": "code",
   "execution_count": 945,
   "metadata": {
    "executionInfo": {
     "elapsed": 18,
     "status": "ok",
     "timestamp": 1699284443876,
     "user": {
      "displayName": "yeehaw",
      "userId": "00614237284897735384"
     },
     "user_tz": -420
    },
    "id": "JNf-3WifBbrv"
   },
   "outputs": [],
   "source": [
    "f_birth['MA4'] = f_birth.births.rolling(window=4).mean()"
   ]
  },
  {
   "cell_type": "code",
   "execution_count": 946,
   "metadata": {
    "executionInfo": {
     "elapsed": 18,
     "status": "ok",
     "timestamp": 1699284443876,
     "user": {
      "displayName": "yeehaw",
      "userId": "00614237284897735384"
     },
     "user_tz": -420
    },
    "id": "8u2OC9aIBe0N"
   },
   "outputs": [],
   "source": [
    "f_birth['MAX5'] = f_birth.births.rolling(window=5).max()"
   ]
  },
  {
   "cell_type": "code",
   "execution_count": 947,
   "metadata": {
    "executionInfo": {
     "elapsed": 17,
     "status": "ok",
     "timestamp": 1699284443876,
     "user": {
      "displayName": "yeehaw",
      "userId": "00614237284897735384"
     },
     "user_tz": -420
    },
    "id": "oDFVwRDLBijM"
   },
   "outputs": [],
   "source": [
    "f_birth['MIN5'] = f_birth.births.rolling(window=5).min()"
   ]
  },
  {
   "cell_type": "code",
   "execution_count": 948,
   "metadata": {},
   "outputs": [
    {
     "data": {
      "text/html": [
       "<div>\n",
       "<style scoped>\n",
       "    .dataframe tbody tr th:only-of-type {\n",
       "        vertical-align: middle;\n",
       "    }\n",
       "\n",
       "    .dataframe tbody tr th {\n",
       "        vertical-align: top;\n",
       "    }\n",
       "\n",
       "    .dataframe thead th {\n",
       "        text-align: right;\n",
       "    }\n",
       "</style>\n",
       "<table border=\"1\" class=\"dataframe\">\n",
       "  <thead>\n",
       "    <tr style=\"text-align: right;\">\n",
       "      <th></th>\n",
       "      <th>births</th>\n",
       "      <th>lag1</th>\n",
       "      <th>lag2</th>\n",
       "      <th>lag3</th>\n",
       "      <th>MA3</th>\n",
       "      <th>MA4</th>\n",
       "      <th>MAX5</th>\n",
       "      <th>MIN5</th>\n",
       "    </tr>\n",
       "    <tr>\n",
       "      <th>date</th>\n",
       "      <th></th>\n",
       "      <th></th>\n",
       "      <th></th>\n",
       "      <th></th>\n",
       "      <th></th>\n",
       "      <th></th>\n",
       "      <th></th>\n",
       "      <th></th>\n",
       "    </tr>\n",
       "  </thead>\n",
       "  <tbody>\n",
       "    <tr>\n",
       "      <th>1959-01-01</th>\n",
       "      <td>35</td>\n",
       "      <td>NaN</td>\n",
       "      <td>NaN</td>\n",
       "      <td>NaN</td>\n",
       "      <td>NaN</td>\n",
       "      <td>NaN</td>\n",
       "      <td>NaN</td>\n",
       "      <td>NaN</td>\n",
       "    </tr>\n",
       "    <tr>\n",
       "      <th>1959-01-02</th>\n",
       "      <td>32</td>\n",
       "      <td>35.0</td>\n",
       "      <td>NaN</td>\n",
       "      <td>NaN</td>\n",
       "      <td>NaN</td>\n",
       "      <td>NaN</td>\n",
       "      <td>NaN</td>\n",
       "      <td>NaN</td>\n",
       "    </tr>\n",
       "    <tr>\n",
       "      <th>1959-01-03</th>\n",
       "      <td>30</td>\n",
       "      <td>32.0</td>\n",
       "      <td>35.0</td>\n",
       "      <td>NaN</td>\n",
       "      <td>32.333333</td>\n",
       "      <td>NaN</td>\n",
       "      <td>NaN</td>\n",
       "      <td>NaN</td>\n",
       "    </tr>\n",
       "    <tr>\n",
       "      <th>1959-01-04</th>\n",
       "      <td>31</td>\n",
       "      <td>30.0</td>\n",
       "      <td>32.0</td>\n",
       "      <td>35.0</td>\n",
       "      <td>31.000000</td>\n",
       "      <td>32.00</td>\n",
       "      <td>NaN</td>\n",
       "      <td>NaN</td>\n",
       "    </tr>\n",
       "    <tr>\n",
       "      <th>1959-01-05</th>\n",
       "      <td>44</td>\n",
       "      <td>31.0</td>\n",
       "      <td>30.0</td>\n",
       "      <td>32.0</td>\n",
       "      <td>35.000000</td>\n",
       "      <td>34.25</td>\n",
       "      <td>44.0</td>\n",
       "      <td>30.0</td>\n",
       "    </tr>\n",
       "  </tbody>\n",
       "</table>\n",
       "</div>"
      ],
      "text/plain": [
       "            births  lag1  lag2  lag3        MA3    MA4  MAX5  MIN5\n",
       "date                                                              \n",
       "1959-01-01      35   NaN   NaN   NaN        NaN    NaN   NaN   NaN\n",
       "1959-01-02      32  35.0   NaN   NaN        NaN    NaN   NaN   NaN\n",
       "1959-01-03      30  32.0  35.0   NaN  32.333333    NaN   NaN   NaN\n",
       "1959-01-04      31  30.0  32.0  35.0  31.000000  32.00   NaN   NaN\n",
       "1959-01-05      44  31.0  30.0  32.0  35.000000  34.25  44.0  30.0"
      ]
     },
     "execution_count": 948,
     "metadata": {},
     "output_type": "execute_result"
    }
   ],
   "source": [
    "f_birth.head()"
   ]
  },
  {
   "cell_type": "code",
   "execution_count": 949,
   "metadata": {
    "executionInfo": {
     "elapsed": 17,
     "status": "ok",
     "timestamp": 1699284443876,
     "user": {
      "displayName": "yeehaw",
      "userId": "00614237284897735384"
     },
     "user_tz": -420
    },
    "id": "XpH35PPmB3UE"
   },
   "outputs": [],
   "source": [
    "f_birth['Date'] = f_birth.index.day\n",
    "f_birth['Month'] = f_birth.index.month\n",
    "f_birth['Year'] = f_birth.index.year"
   ]
  },
  {
   "cell_type": "code",
   "execution_count": 950,
   "metadata": {
    "executionInfo": {
     "elapsed": 361,
     "status": "ok",
     "timestamp": 1699284444220,
     "user": {
      "displayName": "yeehaw",
      "userId": "00614237284897735384"
     },
     "user_tz": -420
    },
    "id": "eatyPiiVCG__"
   },
   "outputs": [],
   "source": [
    "f_birth.dropna(inplace=True)"
   ]
  },
  {
   "cell_type": "code",
   "execution_count": 951,
   "metadata": {
    "colab": {
     "base_uri": "https://localhost:8080/",
     "height": 237
    },
    "executionInfo": {
     "elapsed": 8,
     "status": "ok",
     "timestamp": 1699284444220,
     "user": {
      "displayName": "yeehaw",
      "userId": "00614237284897735384"
     },
     "user_tz": -420
    },
    "id": "bvujq3QqB3WR",
    "outputId": "1108b522-7f3e-44f8-8f30-3e8efeb16673"
   },
   "outputs": [
    {
     "data": {
      "text/html": [
       "<div>\n",
       "<style scoped>\n",
       "    .dataframe tbody tr th:only-of-type {\n",
       "        vertical-align: middle;\n",
       "    }\n",
       "\n",
       "    .dataframe tbody tr th {\n",
       "        vertical-align: top;\n",
       "    }\n",
       "\n",
       "    .dataframe thead th {\n",
       "        text-align: right;\n",
       "    }\n",
       "</style>\n",
       "<table border=\"1\" class=\"dataframe\">\n",
       "  <thead>\n",
       "    <tr style=\"text-align: right;\">\n",
       "      <th></th>\n",
       "      <th>births</th>\n",
       "      <th>lag1</th>\n",
       "      <th>lag2</th>\n",
       "      <th>lag3</th>\n",
       "      <th>MA3</th>\n",
       "      <th>MA4</th>\n",
       "      <th>MAX5</th>\n",
       "      <th>MIN5</th>\n",
       "      <th>Date</th>\n",
       "      <th>Month</th>\n",
       "      <th>Year</th>\n",
       "    </tr>\n",
       "    <tr>\n",
       "      <th>date</th>\n",
       "      <th></th>\n",
       "      <th></th>\n",
       "      <th></th>\n",
       "      <th></th>\n",
       "      <th></th>\n",
       "      <th></th>\n",
       "      <th></th>\n",
       "      <th></th>\n",
       "      <th></th>\n",
       "      <th></th>\n",
       "      <th></th>\n",
       "    </tr>\n",
       "  </thead>\n",
       "  <tbody>\n",
       "    <tr>\n",
       "      <th>1959-01-05</th>\n",
       "      <td>44</td>\n",
       "      <td>31.0</td>\n",
       "      <td>30.0</td>\n",
       "      <td>32.0</td>\n",
       "      <td>35.000000</td>\n",
       "      <td>34.25</td>\n",
       "      <td>44.0</td>\n",
       "      <td>30.0</td>\n",
       "      <td>5</td>\n",
       "      <td>1</td>\n",
       "      <td>1959</td>\n",
       "    </tr>\n",
       "    <tr>\n",
       "      <th>1959-01-06</th>\n",
       "      <td>29</td>\n",
       "      <td>44.0</td>\n",
       "      <td>31.0</td>\n",
       "      <td>30.0</td>\n",
       "      <td>34.666667</td>\n",
       "      <td>33.50</td>\n",
       "      <td>44.0</td>\n",
       "      <td>29.0</td>\n",
       "      <td>6</td>\n",
       "      <td>1</td>\n",
       "      <td>1959</td>\n",
       "    </tr>\n",
       "    <tr>\n",
       "      <th>1959-01-07</th>\n",
       "      <td>45</td>\n",
       "      <td>29.0</td>\n",
       "      <td>44.0</td>\n",
       "      <td>31.0</td>\n",
       "      <td>39.333333</td>\n",
       "      <td>37.25</td>\n",
       "      <td>45.0</td>\n",
       "      <td>29.0</td>\n",
       "      <td>7</td>\n",
       "      <td>1</td>\n",
       "      <td>1959</td>\n",
       "    </tr>\n",
       "    <tr>\n",
       "      <th>1959-01-08</th>\n",
       "      <td>43</td>\n",
       "      <td>45.0</td>\n",
       "      <td>29.0</td>\n",
       "      <td>44.0</td>\n",
       "      <td>39.000000</td>\n",
       "      <td>40.25</td>\n",
       "      <td>45.0</td>\n",
       "      <td>29.0</td>\n",
       "      <td>8</td>\n",
       "      <td>1</td>\n",
       "      <td>1959</td>\n",
       "    </tr>\n",
       "    <tr>\n",
       "      <th>1959-01-09</th>\n",
       "      <td>38</td>\n",
       "      <td>43.0</td>\n",
       "      <td>45.0</td>\n",
       "      <td>29.0</td>\n",
       "      <td>42.000000</td>\n",
       "      <td>38.75</td>\n",
       "      <td>45.0</td>\n",
       "      <td>29.0</td>\n",
       "      <td>9</td>\n",
       "      <td>1</td>\n",
       "      <td>1959</td>\n",
       "    </tr>\n",
       "  </tbody>\n",
       "</table>\n",
       "</div>"
      ],
      "text/plain": [
       "            births  lag1  lag2  lag3        MA3    MA4  MAX5  MIN5  Date  \\\n",
       "date                                                                       \n",
       "1959-01-05      44  31.0  30.0  32.0  35.000000  34.25  44.0  30.0     5   \n",
       "1959-01-06      29  44.0  31.0  30.0  34.666667  33.50  44.0  29.0     6   \n",
       "1959-01-07      45  29.0  44.0  31.0  39.333333  37.25  45.0  29.0     7   \n",
       "1959-01-08      43  45.0  29.0  44.0  39.000000  40.25  45.0  29.0     8   \n",
       "1959-01-09      38  43.0  45.0  29.0  42.000000  38.75  45.0  29.0     9   \n",
       "\n",
       "            Month  Year  \n",
       "date                     \n",
       "1959-01-05      1  1959  \n",
       "1959-01-06      1  1959  \n",
       "1959-01-07      1  1959  \n",
       "1959-01-08      1  1959  \n",
       "1959-01-09      1  1959  "
      ]
     },
     "execution_count": 951,
     "metadata": {},
     "output_type": "execute_result"
    }
   ],
   "source": [
    "f_birth.head()"
   ]
  },
  {
   "cell_type": "code",
   "execution_count": 952,
   "metadata": {},
   "outputs": [],
   "source": [
    "# stationery time series testing"
   ]
  },
  {
   "cell_type": "code",
   "execution_count": 953,
   "metadata": {},
   "outputs": [],
   "source": [
    "# approach 1: plot data"
   ]
  },
  {
   "cell_type": "code",
   "execution_count": 954,
   "metadata": {},
   "outputs": [
    {
     "data": {
      "text/plain": [
       "<Axes: xlabel='date'>"
      ]
     },
     "execution_count": 954,
     "metadata": {},
     "output_type": "execute_result"
    },
    {
     "data": {
      "image/png": "[encoded data removed]",
      "text/plain": [
       "<Figure size 640x480 with 1 Axes>"
      ]
     },
     "metadata": {},
     "output_type": "display_data"
    }
   ],
   "source": [
    "f_birth.births.plot()"
   ]
  },
  {
   "cell_type": "code",
   "execution_count": 955,
   "metadata": {},
   "outputs": [
    {
     "data": {
      "text/plain": [
       "<Axes: >"
      ]
     },
     "execution_count": 955,
     "metadata": {},
     "output_type": "execute_result"
    },
    {
     "data": {
      "image/png": "[encoded data removed]",
      "text/plain": [
       "<Figure size 640x480 with 1 Axes>"
      ]
     },
     "metadata": {},
     "output_type": "display_data"
    }
   ],
   "source": [
    "f_birth['births'].hist()"
   ]
  },
  {
   "cell_type": "code",
   "execution_count": 956,
   "metadata": {},
   "outputs": [],
   "source": [
    "# looks normal but skewed a little to the right side"
   ]
  },
  {
   "cell_type": "code",
   "execution_count": 957,
   "metadata": {
    "executionInfo": {
     "elapsed": 7,
     "status": "ok",
     "timestamp": 1699284444220,
     "user": {
      "displayName": "yeehaw",
      "userId": "00614237284897735384"
     },
     "user_tz": -420
    },
    "id": "960YyHX8B3Ym"
   },
   "outputs": [],
   "source": [
    "# approach 2: applying dickey fuller test on data"
   ]
  },
  {
   "cell_type": "code",
   "execution_count": 958,
   "metadata": {
    "executionInfo": {
     "elapsed": 7,
     "status": "ok",
     "timestamp": 1699284444220,
     "user": {
      "displayName": "yeehaw",
      "userId": "00614237284897735384"
     },
     "user_tz": -420
    },
    "id": "gSUuF9DhB3bG"
   },
   "outputs": [],
   "source": [
    "f_birth1 = f_birth[0:201]\n",
    "f_birth2 = f_birth[201:]"
   ]
  },
  {
   "cell_type": "code",
   "execution_count": 959,
   "metadata": {
    "colab": {
     "base_uri": "https://localhost:8080/"
    },
    "executionInfo": {
     "elapsed": 8,
     "status": "ok",
     "timestamp": 1699284444221,
     "user": {
      "displayName": "yeehaw",
      "userId": "00614237284897735384"
     },
     "user_tz": -420
    },
    "id": "L88bt7jfB3c-",
    "outputId": "49061bf8-9b46-4302-f3d0-6ad7f2839c09"
   },
   "outputs": [
    {
     "data": {
      "text/plain": [
       "np.float64(40.19402985074627)"
      ]
     },
     "execution_count": 959,
     "metadata": {},
     "output_type": "execute_result"
    }
   ],
   "source": [
    "f_birth1.births.mean()"
   ]
  },
  {
   "cell_type": "code",
   "execution_count": 960,
   "metadata": {
    "colab": {
     "base_uri": "https://localhost:8080/"
    },
    "executionInfo": {
     "elapsed": 6,
     "status": "ok",
     "timestamp": 1699284444221,
     "user": {
      "displayName": "yeehaw",
      "userId": "00614237284897735384"
     },
     "user_tz": -420
    },
    "id": "zfMa90N8EAAB",
    "outputId": "4105da63-6c3c-4cc2-faba-3da7cf5fd0b2"
   },
   "outputs": [
    {
     "data": {
      "text/plain": [
       "np.float64(44.475)"
      ]
     },
     "execution_count": 960,
     "metadata": {},
     "output_type": "execute_result"
    }
   ],
   "source": [
    "f_birth2.births.mean()"
   ]
  },
  {
   "cell_type": "code",
   "execution_count": 961,
   "metadata": {},
   "outputs": [],
   "source": [
    "# the means should be the same, but here they are not"
   ]
  },
  {
   "cell_type": "code",
   "execution_count": 962,
   "metadata": {},
   "outputs": [
    {
     "data": {
      "text/plain": [
       "np.float64(48.33716417910448)"
      ]
     },
     "execution_count": 962,
     "metadata": {},
     "output_type": "execute_result"
    }
   ],
   "source": [
    "f_birth1.births.var()"
   ]
  },
  {
   "cell_type": "code",
   "execution_count": 963,
   "metadata": {},
   "outputs": [
    {
     "data": {
      "text/plain": [
       "np.float64(49.92389937106918)"
      ]
     },
     "execution_count": 963,
     "metadata": {},
     "output_type": "execute_result"
    }
   ],
   "source": [
    "f_birth2.births.var()"
   ]
  },
  {
   "cell_type": "code",
   "execution_count": 964,
   "metadata": {},
   "outputs": [],
   "source": [
    "# approach 3: applying augmented dickey fuller"
   ]
  },
  {
   "cell_type": "code",
   "execution_count": 965,
   "metadata": {
    "executionInfo": {
     "elapsed": 5,
     "status": "ok",
     "timestamp": 1699284444221,
     "user": {
      "displayName": "yeehaw",
      "userId": "00614237284897735384"
     },
     "user_tz": -420
    },
    "id": "QpJA6vr1EDnG"
   },
   "outputs": [],
   "source": [
    "from statsmodels.tsa.stattools import adfuller"
   ]
  },
  {
   "cell_type": "code",
   "execution_count": 966,
   "metadata": {
    "colab": {
     "base_uri": "https://localhost:8080/"
    },
    "executionInfo": {
     "elapsed": 715,
     "status": "ok",
     "timestamp": 1699284444932,
     "user": {
      "displayName": "yeehaw",
      "userId": "00614237284897735384"
     },
     "user_tz": -420
    },
    "id": "EadUfIUzEfDW",
    "outputId": "47f35e25-56e8-4761-a253-2b2ae76483b9"
   },
   "outputs": [
    {
     "data": {
      "text/plain": [
       "(np.float64(-4.832187684149896),\n",
       " np.float64(4.717774659887324e-05),\n",
       " 6,\n",
       " 354,\n",
       " {'1%': np.float64(-3.4489583388155194),\n",
       "  '5%': np.float64(-2.869739378430086),\n",
       "  '10%': np.float64(-2.5711381780459)},\n",
       " np.float64(2315.0067430524587))"
      ]
     },
     "execution_count": 966,
     "metadata": {},
     "output_type": "execute_result"
    }
   ],
   "source": [
    "adfuller(f_birth.births)"
   ]
  },
  {
   "cell_type": "code",
   "execution_count": 967,
   "metadata": {
    "executionInfo": {
     "elapsed": 15,
     "status": "ok",
     "timestamp": 1699284444932,
     "user": {
      "displayName": "yeehaw",
      "userId": "00614237284897735384"
     },
     "user_tz": -420
    },
    "id": "QeyYcBC3EohM"
   },
   "outputs": [],
   "source": [
    "def adfuller_test(col):\n",
    "  res = adfuller(col)\n",
    "\n",
    "  labels = ['ADF', 'p-value', 'lags used', 'no of obs used']\n",
    "\n",
    "  for value,label in zip(res,labels):\n",
    "    print('{} : {}'.format(label,value))\n",
    "  if res[1] <= 0.05:\n",
    "    print('strong evidence against the null hypothesis(Ho), reject the null hypothesis. Data has no unit root and is stationary')\n",
    "  else:\n",
    "    print('weak evidence against null hypothesis, time series has a unit root, indicating it is non-stationary')"
   ]
  },
  {
   "cell_type": "code",
   "execution_count": 968,
   "metadata": {
    "colab": {
     "base_uri": "https://localhost:8080/"
    },
    "executionInfo": {
     "elapsed": 14,
     "status": "ok",
     "timestamp": 1699284444932,
     "user": {
      "displayName": "yeehaw",
      "userId": "00614237284897735384"
     },
     "user_tz": -420
    },
    "id": "HFZ7A_-8FX9h",
    "outputId": "4cbf0323-29d1-4a82-e91c-7951d2947a40"
   },
   "outputs": [
    {
     "name": "stdout",
     "output_type": "stream",
     "text": [
      "ADF : -4.832187684149896\n",
      "p-value : 4.717774659887324e-05\n",
      "lags used : 6\n",
      "no of obs used : 354\n",
      "strong evidence against the null hypothesis(Ho), reject the null hypothesis. Data has no unit root and is stationary\n"
     ]
    }
   ],
   "source": [
    "adfuller_test(f_birth.births)"
   ]
  },
  {
   "cell_type": "code",
   "execution_count": 969,
   "metadata": {
    "executionInfo": {
     "elapsed": 13,
     "status": "ok",
     "timestamp": 1699284444932,
     "user": {
      "displayName": "yeehaw",
      "userId": "00614237284897735384"
     },
     "user_tz": -420
    },
    "id": "Gje2TUBWFfjI"
   },
   "outputs": [],
   "source": [
    "# hypertune the time series"
   ]
  },
  {
   "cell_type": "code",
   "execution_count": 970,
   "metadata": {
    "executionInfo": {
     "elapsed": 12,
     "status": "ok",
     "timestamp": 1699284444932,
     "user": {
      "displayName": "yeehaw",
      "userId": "00614237284897735384"
     },
     "user_tz": -420
    },
    "id": "m2zp2UUdFpIl"
   },
   "outputs": [],
   "source": [
    "f_birth = pd.read_csv('data/daily-total-female-births-CA.csv', parse_dates=[0], index_col=0)"
   ]
  },
  {
   "cell_type": "code",
   "execution_count": 971,
   "metadata": {
    "executionInfo": {
     "elapsed": 12,
     "status": "ok",
     "timestamp": 1699284444932,
     "user": {
      "displayName": "yeehaw",
      "userId": "00614237284897735384"
     },
     "user_tz": -420
    },
    "id": "ro0ok3RCGICN"
   },
   "outputs": [],
   "source": [
    "p_values = range(0,8)\n",
    "d_values = range(0,3)\n",
    "q_values = range(0,5)"
   ]
  },
  {
   "cell_type": "code",
   "execution_count": 972,
   "metadata": {
    "colab": {
     "base_uri": "https://localhost:8080/"
    },
    "executionInfo": {
     "elapsed": 12,
     "status": "ok",
     "timestamp": 1699284444932,
     "user": {
      "displayName": "yeehaw",
      "userId": "00614237284897735384"
     },
     "user_tz": -420
    },
    "id": "nsp1QeQuGOiM",
    "outputId": "f2d3b9bb-8b8c-464b-d718-4abea82e1dc8"
   },
   "outputs": [
    {
     "name": "stdout",
     "output_type": "stream",
     "text": [
      "(0, 0, 0)\n",
      "(0, 0, 1)\n",
      "(0, 0, 2)\n",
      "(0, 0, 3)\n",
      "(0, 0, 4)\n",
      "(0, 1, 0)\n",
      "(0, 1, 1)\n",
      "(0, 1, 2)\n",
      "(0, 1, 3)\n",
      "(0, 1, 4)\n",
      "(0, 2, 0)\n",
      "(0, 2, 1)\n",
      "(0, 2, 2)\n",
      "(0, 2, 3)\n",
      "(0, 2, 4)\n",
      "(1, 0, 0)\n",
      "(1, 0, 1)\n",
      "(1, 0, 2)\n",
      "(1, 0, 3)\n",
      "(1, 0, 4)\n",
      "(1, 1, 0)\n",
      "(1, 1, 1)\n",
      "(1, 1, 2)\n",
      "(1, 1, 3)\n",
      "(1, 1, 4)\n",
      "(1, 2, 0)\n",
      "(1, 2, 1)\n",
      "(1, 2, 2)\n",
      "(1, 2, 3)\n",
      "(1, 2, 4)\n",
      "(2, 0, 0)\n",
      "(2, 0, 1)\n",
      "(2, 0, 2)\n",
      "(2, 0, 3)\n",
      "(2, 0, 4)\n",
      "(2, 1, 0)\n",
      "(2, 1, 1)\n",
      "(2, 1, 2)\n",
      "(2, 1, 3)\n",
      "(2, 1, 4)\n",
      "(2, 2, 0)\n",
      "(2, 2, 1)\n",
      "(2, 2, 2)\n",
      "(2, 2, 3)\n",
      "(2, 2, 4)\n",
      "(3, 0, 0)\n",
      "(3, 0, 1)\n",
      "(3, 0, 2)\n",
      "(3, 0, 3)\n",
      "(3, 0, 4)\n",
      "(3, 1, 0)\n",
      "(3, 1, 1)\n",
      "(3, 1, 2)\n",
      "(3, 1, 3)\n",
      "(3, 1, 4)\n",
      "(3, 2, 0)\n",
      "(3, 2, 1)\n",
      "(3, 2, 2)\n",
      "(3, 2, 3)\n",
      "(3, 2, 4)\n",
      "(4, 0, 0)\n",
      "(4, 0, 1)\n",
      "(4, 0, 2)\n",
      "(4, 0, 3)\n",
      "(4, 0, 4)\n",
      "(4, 1, 0)\n",
      "(4, 1, 1)\n",
      "(4, 1, 2)\n",
      "(4, 1, 3)\n",
      "(4, 1, 4)\n",
      "(4, 2, 0)\n",
      "(4, 2, 1)\n",
      "(4, 2, 2)\n",
      "(4, 2, 3)\n",
      "(4, 2, 4)\n",
      "(5, 0, 0)\n",
      "(5, 0, 1)\n",
      "(5, 0, 2)\n",
      "(5, 0, 3)\n",
      "(5, 0, 4)\n",
      "(5, 1, 0)\n",
      "(5, 1, 1)\n",
      "(5, 1, 2)\n",
      "(5, 1, 3)\n",
      "(5, 1, 4)\n",
      "(5, 2, 0)\n",
      "(5, 2, 1)\n",
      "(5, 2, 2)\n",
      "(5, 2, 3)\n",
      "(5, 2, 4)\n",
      "(6, 0, 0)\n",
      "(6, 0, 1)\n",
      "(6, 0, 2)\n",
      "(6, 0, 3)\n",
      "(6, 0, 4)\n",
      "(6, 1, 0)\n",
      "(6, 1, 1)\n",
      "(6, 1, 2)\n",
      "(6, 1, 3)\n",
      "(6, 1, 4)\n",
      "(6, 2, 0)\n",
      "(6, 2, 1)\n",
      "(6, 2, 2)\n",
      "(6, 2, 3)\n",
      "(6, 2, 4)\n",
      "(7, 0, 0)\n",
      "(7, 0, 1)\n",
      "(7, 0, 2)\n",
      "(7, 0, 3)\n",
      "(7, 0, 4)\n",
      "(7, 1, 0)\n",
      "(7, 1, 1)\n",
      "(7, 1, 2)\n",
      "(7, 1, 3)\n",
      "(7, 1, 4)\n",
      "(7, 2, 0)\n",
      "(7, 2, 1)\n",
      "(7, 2, 2)\n",
      "(7, 2, 3)\n",
      "(7, 2, 4)\n"
     ]
    }
   ],
   "source": [
    "for p in p_values:\n",
    "  for d in d_values:\n",
    "    for q in q_values:\n",
    "      order = (p,d,q)\n",
    "      print(order)"
   ]
  },
  {
   "cell_type": "code",
   "execution_count": 973,
   "metadata": {
    "executionInfo": {
     "elapsed": 8,
     "status": "ok",
     "timestamp": 1699284444932,
     "user": {
      "displayName": "yeehaw",
      "userId": "00614237284897735384"
     },
     "user_tz": -420
    },
    "id": "HMFsq-gAGpHF"
   },
   "outputs": [],
   "source": [
    "import warnings\n",
    "from warnings import filterwarnings\n",
    "filterwarnings('ignore')"
   ]
  },
  {
   "cell_type": "code",
   "execution_count": 974,
   "metadata": {
    "colab": {
     "base_uri": "https://localhost:8080/"
    },
    "executionInfo": {
     "elapsed": 9,
     "status": "ok",
     "timestamp": 1699284444933,
     "user": {
      "displayName": "yeehaw",
      "userId": "00614237284897735384"
     },
     "user_tz": -420
    },
    "id": "iXJC6P7eL6tn",
    "outputId": "890243b1-65c8-4dcd-86eb-9900a8c4ec2d"
   },
   "outputs": [
    {
     "data": {
      "text/plain": [
       "(365, 1)"
      ]
     },
     "execution_count": 974,
     "metadata": {},
     "output_type": "execute_result"
    }
   ],
   "source": [
    "f_birth.shape"
   ]
  },
  {
   "cell_type": "code",
   "execution_count": 975,
   "metadata": {},
   "outputs": [
    {
     "data": {
      "text/plain": [
       "range(0, 5)"
      ]
     },
     "execution_count": 975,
     "metadata": {},
     "output_type": "execute_result"
    }
   ],
   "source": [
    "q_values"
   ]
  },
  {
   "cell_type": "code",
   "execution_count": 1027,
   "metadata": {},
   "outputs": [
    {
     "name": "stdout",
     "output_type": "stream",
     "text": [
      "MSE is 43.668628093414355 with order (0, 0, 0)\n",
      "MSE is 43.93084386159538 with order (0, 0, 1)\n",
      "MSE is 43.88346350364058 with order (0, 0, 2)\n",
      "MSE is 43.94858696708155 with order (0, 0, 3)\n",
      "MSE is 44.112331876783955 with order (0, 0, 4)\n",
      "MSE is 283.5538461538463 with order (0, 1, 0)\n",
      "MSE is 39.8522874233178 with order (0, 1, 1)\n",
      "MSE is 39.89254842133924 with order (0, 1, 2)\n",
      "MSE is 39.91455908077503 with order (0, 1, 3)\n",
      "MSE is 39.91284889347817 with order (0, 1, 4)\n",
      "MSE is 78042.4615384615 with order (0, 2, 0)\n",
      "MSE is 308.3878096297867 with order (0, 2, 1)\n",
      "MSE is 39.976732567714215 with order (0, 2, 2)\n",
      "MSE is 42.53860325479799 with order (0, 2, 3)\n",
      "MSE is 44.004104196298854 with order (0, 2, 4)\n",
      "MSE is 43.986651527604295 with order (1, 0, 0)\n",
      "MSE is 45.96930772435559 with order (1, 0, 1)\n",
      "MSE is 43.45878059462098 with order (1, 0, 2)\n",
      "MSE is 42.637460718001094 with order (1, 0, 3)\n",
      "MSE is 43.46526081218258 with order (1, 0, 4)\n",
      "MSE is 218.72158704281165 with order (1, 1, 0)\n",
      "MSE is 39.92206328109632 with order (1, 1, 1)\n",
      "MSE is 39.93973207006637 with order (1, 1, 2)\n",
      "MSE is 39.9138453837199 with order (1, 1, 3)\n",
      "MSE is 39.631331839908185 with order (1, 1, 4)\n",
      "MSE is 78042.4615384608 with order (1, 2, 0)\n",
      "MSE is 231.10777801750527 with order (1, 2, 1)\n",
      "MSE is 43.15286840578582 with order (1, 2, 2)\n",
      "MSE is 39.8507503816108 with order (1, 2, 3)\n",
      "MSE is 42.30136506836178 with order (1, 2, 4)\n",
      "MSE is 44.111794374988996 with order (2, 0, 0)\n",
      "MSE is 43.163837143737275 with order (2, 0, 1)\n",
      "MSE is 45.229462071701704 with order (2, 0, 2)\n",
      "MSE is 43.836211492822294 with order (2, 0, 3)\n",
      "MSE is 40.21269150576943 with order (2, 0, 4)\n",
      "MSE is 165.56982710206054 with order (2, 1, 0)\n",
      "MSE is 39.927156422417454 with order (2, 1, 1)\n",
      "MSE is 39.92112989239989 with order (2, 1, 2)\n",
      "MSE is 39.96938376744011 with order (2, 1, 3)\n",
      "MSE is 39.817545727450266 with order (2, 1, 4)\n",
      "MSE is 33023.45271879109 with order (2, 2, 0)\n",
      "MSE is 168.25496678443523 with order (2, 2, 1)\n",
      "MSE is 44.287365734982885 with order (2, 2, 2)\n",
      "MSE is 42.91353223623681 with order (2, 2, 3)\n",
      "MSE is 40.918336844124724 with order (2, 2, 4)\n",
      "MSE is 44.433124686410096 with order (3, 0, 0)\n",
      "MSE is 42.724678447698125 with order (3, 0, 1)\n",
      "MSE is 43.06778944641255 with order (3, 0, 2)\n",
      "MSE is 43.43576004335764 with order (3, 0, 3)\n",
      "MSE is 45.01105356868465 with order (3, 0, 4)\n",
      "MSE is 144.94102698319176 with order (3, 1, 0)\n",
      "MSE is 39.90142785361185 with order (3, 1, 1)\n",
      "MSE is 39.77362101628914 with order (3, 1, 2)\n",
      "MSE is 40.513169213558434 with order (3, 1, 3)\n",
      "MSE is 40.20952612383941 with order (3, 1, 4)\n",
      "MSE is 17727.852287929712 with order (3, 2, 0)\n",
      "MSE is 144.1955995402973 with order (3, 2, 1)\n",
      "MSE is 43.508349189969294 with order (3, 2, 2)\n",
      "MSE is 44.30376570604999 with order (3, 2, 3)\n",
      "MSE is 45.83984416870614 with order (3, 2, 4)\n",
      "MSE is 44.91395148838677 with order (4, 0, 0)\n",
      "MSE is 43.77168811309302 with order (4, 0, 1)\n",
      "MSE is 42.1956374123901 with order (4, 0, 2)\n",
      "MSE is 40.88420118728252 with order (4, 0, 3)\n",
      "MSE is 40.85144880184042 with order (4, 0, 4)\n",
      "MSE is 130.2593819408093 with order (4, 1, 0)\n",
      "MSE is 39.782604986916716 with order (4, 1, 1)\n",
      "MSE is 39.67814335028607 with order (4, 1, 2)\n",
      "MSE is 40.15773553321413 with order (4, 1, 3)\n",
      "MSE is 39.85128297134239 with order (4, 1, 4)\n",
      "MSE is 16475.276754692433 with order (4, 2, 0)\n",
      "MSE is 129.2620457633068 with order (4, 2, 1)\n",
      "MSE is 43.51124639154627 with order (4, 2, 2)\n",
      "MSE is 170.35692789578619 with order (4, 2, 3)\n",
      "MSE is 44.043637431028955 with order (4, 2, 4)\n",
      "MSE is 45.5920653251204 with order (5, 0, 0)\n",
      "MSE is 46.921748949537054 with order (5, 0, 1)\n",
      "MSE is 45.82503453031488 with order (5, 0, 2)\n",
      "MSE is 40.51967629623595 with order (5, 0, 3)\n",
      "MSE is 51.973914784343776 with order (5, 0, 4)\n",
      "MSE is 111.50837032378789 with order (5, 1, 0)\n",
      "MSE is 39.76482502593689 with order (5, 1, 1)\n",
      "MSE is 39.58858921617535 with order (5, 1, 2)\n",
      "MSE is 40.41474021128832 with order (5, 1, 3)\n",
      "MSE is 39.55995091258294 with order (5, 1, 4)\n",
      "MSE is 12329.219863994107 with order (5, 2, 0)\n",
      "MSE is 108.76177555601767 with order (5, 2, 1)\n",
      "MSE is 127.24008215662023 with order (5, 2, 2)\n",
      "MSE is 142.74278816780813 with order (5, 2, 3)\n",
      "MSE is 43.88833466791425 with order (5, 2, 4)\n",
      "MSE is 46.21954355399541 with order (6, 0, 0)\n",
      "MSE is 48.65991794002785 with order (6, 0, 1)\n",
      "MSE is 44.671694915227725 with order (6, 0, 2)\n",
      "MSE is 40.29712019544214 with order (6, 0, 3)\n",
      "MSE is 49.986069933138715 with order (6, 0, 4)\n",
      "MSE is 95.6500086280359 with order (6, 1, 0)\n",
      "MSE is 70.9988901535686 with order (6, 1, 1)\n",
      "MSE is 68.0653257401985 with order (6, 1, 2)\n",
      "MSE is 40.17542043073939 with order (6, 1, 3)\n",
      "MSE is 40.38870883596346 with order (6, 1, 4)\n",
      "MSE is 8696.77173517821 with order (6, 2, 0)\n",
      "MSE is 92.6521935281055 with order (6, 2, 1)\n",
      "MSE is 69.89296860896202 with order (6, 2, 2)\n",
      "MSE is 135.2075263726892 with order (6, 2, 3)\n",
      "MSE is 40.49152885937845 with order (6, 2, 4)\n",
      "MSE is 48.025726104808285 with order (7, 0, 0)\n",
      "MSE is 49.40795521397826 with order (7, 0, 1)\n",
      "MSE is 49.4140865033582 with order (7, 0, 2)\n",
      "MSE is 49.49254523674048 with order (7, 0, 3)\n",
      "MSE is 57.68682034534512 with order (7, 0, 4)\n",
      "MSE is 87.2264115929534 with order (7, 1, 0)\n",
      "MSE is 40.49559309372657 with order (7, 1, 1)\n",
      "MSE is 41.10769543065225 with order (7, 1, 2)\n",
      "MSE is 40.99517567089302 with order (7, 1, 3)\n",
      "MSE is 42.150625558156065 with order (7, 1, 4)\n",
      "MSE is 6527.7671545418025 with order (7, 2, 0)\n",
      "MSE is 84.38605105670155 with order (7, 2, 1)\n",
      "MSE is 78.39823354589774 with order (7, 2, 2)\n",
      "MSE is 60.37181501205964 with order (7, 2, 3)\n",
      "MSE is 67.39632260493174 with order (7, 2, 4)\n"
     ]
    }
   ],
   "source": [
    "### so we are just trying to provide pairs of (p,d,q) & whichever pair will give me least error i will consider that pair,\n",
    "mse = []\n",
    "for p in p_values:\n",
    "    for d in d_values:\n",
    "        for q in q_values:\n",
    "            order = (p,d,q)\n",
    "            train = np.array(f_birth[0:300])\n",
    "            test = np.array(f_birth[300:])\n",
    "            # print(test.shape)\n",
    "            ### now we have train & test data that we can pass to our algorithm\n",
    "            \n",
    "            \n",
    "            arima = ARIMA(train ,order=order)\n",
    "            model = arima.fit()\n",
    "            pred_y = model.forecast(steps=len(test))\n",
    "            # print(pred_y)\n",
    "            # predictions.append(pred_y)\n",
    "\n",
    "            error = mean_squared_error(test, pred_y)\n",
    "            print('MSE is {} with order {}'.format(error,order))\n",
    "\n",
    "            mse.append(error)"
   ]
  },
  {
   "cell_type": "code",
   "execution_count": 1030,
   "metadata": {},
   "outputs": [
    {
     "data": {
      "text/plain": [
       "np.float64(39.55995091258294)"
      ]
     },
     "execution_count": 1030,
     "metadata": {},
     "output_type": "execute_result"
    }
   ],
   "source": [
    "min(mse)"
   ]
  },
  {
   "cell_type": "code",
   "execution_count": 1031,
   "metadata": {},
   "outputs": [
    {
     "data": {
      "text/plain": [
       "'MSE is 39.55995091258294 with order (5, 1, 4)'"
      ]
     },
     "execution_count": 1031,
     "metadata": {},
     "output_type": "execute_result"
    }
   ],
   "source": [
    "# MSE is 39.55995091258294 with order (5, 1, 4) -> this is the lowest/best params"
   ]
  },
  {
   "cell_type": "code",
   "execution_count": null,
   "metadata": {},
   "outputs": [],
   "source": []
  },
  {
   "cell_type": "code",
   "execution_count": null,
   "metadata": {},
   "outputs": [],
   "source": []
  },
  {
   "cell_type": "code",
   "execution_count": null,
   "metadata": {},
   "outputs": [],
   "source": []
  },
  {
   "cell_type": "code",
   "execution_count": null,
   "metadata": {},
   "outputs": [],
   "source": []
  }
 ],
 "metadata": {
  "colab": {
   "authorship_tag": "ABX9TyNDjoVmKmcIxO+fiGrda33e",
   "provenance": []
  },
  "kernelspec": {
   "display_name": ".venv",
   "language": "python",
   "name": "python3"
  },
  "language_info": {
   "codemirror_mode": {
    "name": "ipython",
    "version": 3
   },
   "file_extension": ".py",
   "mimetype": "text/x-python",
   "name": "python",
   "nbconvert_exporter": "python",
   "pygments_lexer": "ipython3",
   "version": "3.11.9"
  }
 },
 "nbformat": 4,
 "nbformat_minor": 0
}
