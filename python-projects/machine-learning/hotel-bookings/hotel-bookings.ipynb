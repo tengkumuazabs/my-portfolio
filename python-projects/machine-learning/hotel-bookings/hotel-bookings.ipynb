{
  "cells": [
    {
      "cell_type": "code",
      "execution_count": 835,
      "metadata": {
        "id": "pioQNWj4hOzn"
      },
      "outputs": [],
      "source": [
        "import pandas as pd\n",
        "import numpy as np\n",
        "import matplotlib.pyplot as plt\n",
        "import seaborn as sns"
      ]
    },
    {
      "cell_type": "code",
      "execution_count": 836,
      "metadata": {
        "id": "dsDEPO3BheE-"
      },
      "outputs": [],
      "source": [
        "df = pd.read_csv(r'data/hotel_bookings.csv')"
      ]
    },
    {
      "cell_type": "code",
      "execution_count": 837,
      "metadata": {
        "colab": {
          "base_uri": "https://localhost:8080/",
          "height": 1000
        },
        "id": "2i9o8MYpiOWM",
        "outputId": "c8dfbf8c-abbf-4f94-c100-46a4d38c353b"
      },
      "outputs": [
        {
          "data": {
            "text/html": [
              "<div>\n",
              "<style scoped>\n",
              "    .dataframe tbody tr th:only-of-type {\n",
              "        vertical-align: middle;\n",
              "    }\n",
              "\n",
              "    .dataframe tbody tr th {\n",
              "        vertical-align: top;\n",
              "    }\n",
              "\n",
              "    .dataframe thead th {\n",
              "        text-align: right;\n",
              "    }\n",
              "</style>\n",
              "<table border=\"1\" class=\"dataframe\">\n",
              "  <thead>\n",
              "    <tr style=\"text-align: right;\">\n",
              "      <th></th>\n",
              "      <th>hotel</th>\n",
              "      <th>is_canceled</th>\n",
              "      <th>lead_time</th>\n",
              "      <th>arrival_date_year</th>\n",
              "      <th>arrival_date_month</th>\n",
              "      <th>arrival_date_week_number</th>\n",
              "      <th>arrival_date_day_of_month</th>\n",
              "      <th>stays_in_weekend_nights</th>\n",
              "      <th>stays_in_week_nights</th>\n",
              "      <th>adults</th>\n",
              "      <th>...</th>\n",
              "      <th>deposit_type</th>\n",
              "      <th>agent</th>\n",
              "      <th>company</th>\n",
              "      <th>days_in_waiting_list</th>\n",
              "      <th>customer_type</th>\n",
              "      <th>adr</th>\n",
              "      <th>required_car_parking_spaces</th>\n",
              "      <th>total_of_special_requests</th>\n",
              "      <th>reservation_status</th>\n",
              "      <th>reservation_status_date</th>\n",
              "    </tr>\n",
              "  </thead>\n",
              "  <tbody>\n",
              "    <tr>\n",
              "      <th>0</th>\n",
              "      <td>Resort Hotel</td>\n",
              "      <td>0</td>\n",
              "      <td>342</td>\n",
              "      <td>2015</td>\n",
              "      <td>July</td>\n",
              "      <td>27</td>\n",
              "      <td>1</td>\n",
              "      <td>0</td>\n",
              "      <td>0</td>\n",
              "      <td>2</td>\n",
              "      <td>...</td>\n",
              "      <td>No Deposit</td>\n",
              "      <td>NaN</td>\n",
              "      <td>NaN</td>\n",
              "      <td>0</td>\n",
              "      <td>Transient</td>\n",
              "      <td>0.0</td>\n",
              "      <td>0</td>\n",
              "      <td>0</td>\n",
              "      <td>Check-Out</td>\n",
              "      <td>7/1/2015</td>\n",
              "    </tr>\n",
              "    <tr>\n",
              "      <th>1</th>\n",
              "      <td>Resort Hotel</td>\n",
              "      <td>0</td>\n",
              "      <td>737</td>\n",
              "      <td>2015</td>\n",
              "      <td>July</td>\n",
              "      <td>27</td>\n",
              "      <td>1</td>\n",
              "      <td>0</td>\n",
              "      <td>0</td>\n",
              "      <td>2</td>\n",
              "      <td>...</td>\n",
              "      <td>No Deposit</td>\n",
              "      <td>NaN</td>\n",
              "      <td>NaN</td>\n",
              "      <td>0</td>\n",
              "      <td>Transient</td>\n",
              "      <td>0.0</td>\n",
              "      <td>0</td>\n",
              "      <td>0</td>\n",
              "      <td>Check-Out</td>\n",
              "      <td>7/1/2015</td>\n",
              "    </tr>\n",
              "    <tr>\n",
              "      <th>2</th>\n",
              "      <td>Resort Hotel</td>\n",
              "      <td>0</td>\n",
              "      <td>7</td>\n",
              "      <td>2015</td>\n",
              "      <td>July</td>\n",
              "      <td>27</td>\n",
              "      <td>1</td>\n",
              "      <td>0</td>\n",
              "      <td>1</td>\n",
              "      <td>1</td>\n",
              "      <td>...</td>\n",
              "      <td>No Deposit</td>\n",
              "      <td>NaN</td>\n",
              "      <td>NaN</td>\n",
              "      <td>0</td>\n",
              "      <td>Transient</td>\n",
              "      <td>75.0</td>\n",
              "      <td>0</td>\n",
              "      <td>0</td>\n",
              "      <td>Check-Out</td>\n",
              "      <td>7/2/2015</td>\n",
              "    </tr>\n",
              "    <tr>\n",
              "      <th>3</th>\n",
              "      <td>Resort Hotel</td>\n",
              "      <td>0</td>\n",
              "      <td>13</td>\n",
              "      <td>2015</td>\n",
              "      <td>July</td>\n",
              "      <td>27</td>\n",
              "      <td>1</td>\n",
              "      <td>0</td>\n",
              "      <td>1</td>\n",
              "      <td>1</td>\n",
              "      <td>...</td>\n",
              "      <td>No Deposit</td>\n",
              "      <td>304.0</td>\n",
              "      <td>NaN</td>\n",
              "      <td>0</td>\n",
              "      <td>Transient</td>\n",
              "      <td>75.0</td>\n",
              "      <td>0</td>\n",
              "      <td>0</td>\n",
              "      <td>Check-Out</td>\n",
              "      <td>7/2/2015</td>\n",
              "    </tr>\n",
              "    <tr>\n",
              "      <th>4</th>\n",
              "      <td>Resort Hotel</td>\n",
              "      <td>0</td>\n",
              "      <td>14</td>\n",
              "      <td>2015</td>\n",
              "      <td>July</td>\n",
              "      <td>27</td>\n",
              "      <td>1</td>\n",
              "      <td>0</td>\n",
              "      <td>2</td>\n",
              "      <td>2</td>\n",
              "      <td>...</td>\n",
              "      <td>No Deposit</td>\n",
              "      <td>240.0</td>\n",
              "      <td>NaN</td>\n",
              "      <td>0</td>\n",
              "      <td>Transient</td>\n",
              "      <td>98.0</td>\n",
              "      <td>0</td>\n",
              "      <td>1</td>\n",
              "      <td>Check-Out</td>\n",
              "      <td>7/3/2015</td>\n",
              "    </tr>\n",
              "  </tbody>\n",
              "</table>\n",
              "<p>5 rows × 32 columns</p>\n",
              "</div>"
            ],
            "text/plain": [
              "          hotel  is_canceled  lead_time  arrival_date_year arrival_date_month  \\\n",
              "0  Resort Hotel            0        342               2015               July   \n",
              "1  Resort Hotel            0        737               2015               July   \n",
              "2  Resort Hotel            0          7               2015               July   \n",
              "3  Resort Hotel            0         13               2015               July   \n",
              "4  Resort Hotel            0         14               2015               July   \n",
              "\n",
              "   arrival_date_week_number  arrival_date_day_of_month  \\\n",
              "0                        27                          1   \n",
              "1                        27                          1   \n",
              "2                        27                          1   \n",
              "3                        27                          1   \n",
              "4                        27                          1   \n",
              "\n",
              "   stays_in_weekend_nights  stays_in_week_nights  adults  ...  deposit_type  \\\n",
              "0                        0                     0       2  ...    No Deposit   \n",
              "1                        0                     0       2  ...    No Deposit   \n",
              "2                        0                     1       1  ...    No Deposit   \n",
              "3                        0                     1       1  ...    No Deposit   \n",
              "4                        0                     2       2  ...    No Deposit   \n",
              "\n",
              "   agent company days_in_waiting_list customer_type   adr  \\\n",
              "0    NaN     NaN                    0     Transient   0.0   \n",
              "1    NaN     NaN                    0     Transient   0.0   \n",
              "2    NaN     NaN                    0     Transient  75.0   \n",
              "3  304.0     NaN                    0     Transient  75.0   \n",
              "4  240.0     NaN                    0     Transient  98.0   \n",
              "\n",
              "   required_car_parking_spaces  total_of_special_requests  reservation_status  \\\n",
              "0                            0                          0           Check-Out   \n",
              "1                            0                          0           Check-Out   \n",
              "2                            0                          0           Check-Out   \n",
              "3                            0                          0           Check-Out   \n",
              "4                            0                          1           Check-Out   \n",
              "\n",
              "  reservation_status_date  \n",
              "0                7/1/2015  \n",
              "1                7/1/2015  \n",
              "2                7/2/2015  \n",
              "3                7/2/2015  \n",
              "4                7/3/2015  \n",
              "\n",
              "[5 rows x 32 columns]"
            ]
          },
          "execution_count": 837,
          "metadata": {},
          "output_type": "execute_result"
        }
      ],
      "source": [
        "df.head()"
      ]
    },
    {
      "cell_type": "code",
      "execution_count": 838,
      "metadata": {
        "id": "GOpS6rtXiWap"
      },
      "outputs": [],
      "source": [
        "# perform data cleaning"
      ]
    },
    {
      "cell_type": "code",
      "execution_count": 839,
      "metadata": {
        "colab": {
          "base_uri": "https://localhost:8080/"
        },
        "id": "LHnvnCF9igyA",
        "outputId": "4ea1735f-b5ef-41df-9769-7c892fd617c0"
      },
      "outputs": [
        {
          "data": {
            "text/plain": [
              "(119390, 32)"
            ]
          },
          "execution_count": 839,
          "metadata": {},
          "output_type": "execute_result"
        }
      ],
      "source": [
        "df.shape"
      ]
    },
    {
      "cell_type": "code",
      "execution_count": 840,
      "metadata": {
        "colab": {
          "base_uri": "https://localhost:8080/"
        },
        "id": "I16_0CDSisgh",
        "outputId": "d173e609-8451-4dbc-e851-513c84fd399a"
      },
      "outputs": [
        {
          "data": {
            "text/plain": [
              "hotel                                  0\n",
              "is_canceled                            0\n",
              "lead_time                              0\n",
              "arrival_date_year                      0\n",
              "arrival_date_month                     0\n",
              "arrival_date_week_number               0\n",
              "arrival_date_day_of_month              0\n",
              "stays_in_weekend_nights                0\n",
              "stays_in_week_nights                   0\n",
              "adults                                 0\n",
              "children                               4\n",
              "babies                                 0\n",
              "meal                                   0\n",
              "country                              488\n",
              "market_segment                         0\n",
              "distribution_channel                   0\n",
              "is_repeated_guest                      0\n",
              "previous_cancellations                 0\n",
              "previous_bookings_not_canceled         0\n",
              "reserved_room_type                     0\n",
              "assigned_room_type                     0\n",
              "booking_changes                        0\n",
              "deposit_type                           0\n",
              "agent                              16340\n",
              "company                           112593\n",
              "days_in_waiting_list                   0\n",
              "customer_type                          0\n",
              "adr                                    0\n",
              "required_car_parking_spaces            0\n",
              "total_of_special_requests              0\n",
              "reservation_status                     0\n",
              "reservation_status_date                0\n",
              "dtype: int64"
            ]
          },
          "execution_count": 840,
          "metadata": {},
          "output_type": "execute_result"
        }
      ],
      "source": [
        "df.isnull().sum()"
      ]
    },
    {
      "cell_type": "code",
      "execution_count": 841,
      "metadata": {},
      "outputs": [],
      "source": [
        "# drop 'agent' and 'company' columns since they had large empty values"
      ]
    },
    {
      "cell_type": "code",
      "execution_count": 842,
      "metadata": {
        "id": "1HN1G8WViuoB"
      },
      "outputs": [],
      "source": [
        "df.drop(['agent', 'company'], axis=1, inplace=True)"
      ]
    },
    {
      "cell_type": "code",
      "execution_count": 843,
      "metadata": {
        "colab": {
          "base_uri": "https://localhost:8080/",
          "height": 36
        },
        "id": "IsE51egJjTTs",
        "outputId": "8cbc7269-6576-4090-aeb4-c284c0e673bd"
      },
      "outputs": [
        {
          "data": {
            "text/plain": [
              "country\n",
              "PRT    48590\n",
              "GBR    12129\n",
              "FRA    10415\n",
              "ESP     8568\n",
              "DEU     7287\n",
              "       ...  \n",
              "DJI        1\n",
              "BWA        1\n",
              "HND        1\n",
              "VGB        1\n",
              "NAM        1\n",
              "Name: count, Length: 177, dtype: int64"
            ]
          },
          "execution_count": 843,
          "metadata": {},
          "output_type": "execute_result"
        }
      ],
      "source": [
        "df.country.value_counts()"
      ]
    },
    {
      "cell_type": "code",
      "execution_count": 844,
      "metadata": {},
      "outputs": [],
      "source": [
        "# fill empty values to 'country' column with its mode."
      ]
    },
    {
      "cell_type": "code",
      "execution_count": 845,
      "metadata": {
        "id": "BEZjVjc9jbOA"
      },
      "outputs": [],
      "source": [
        "df.country.fillna(df.country.value_counts().index[0], inplace=True)"
      ]
    },
    {
      "cell_type": "code",
      "execution_count": 846,
      "metadata": {
        "id": "enaxQqsikBeI"
      },
      "outputs": [],
      "source": [
        "df.fillna(0, inplace=True)"
      ]
    },
    {
      "cell_type": "code",
      "execution_count": 847,
      "metadata": {
        "colab": {
          "base_uri": "https://localhost:8080/"
        },
        "id": "egvp2UbWkFiB",
        "outputId": "df031c1a-f940-4729-d078-5bd9d3dd3933"
      },
      "outputs": [
        {
          "data": {
            "text/plain": [
              "hotel                             0\n",
              "is_canceled                       0\n",
              "lead_time                         0\n",
              "arrival_date_year                 0\n",
              "arrival_date_month                0\n",
              "arrival_date_week_number          0\n",
              "arrival_date_day_of_month         0\n",
              "stays_in_weekend_nights           0\n",
              "stays_in_week_nights              0\n",
              "adults                            0\n",
              "children                          0\n",
              "babies                            0\n",
              "meal                              0\n",
              "country                           0\n",
              "market_segment                    0\n",
              "distribution_channel              0\n",
              "is_repeated_guest                 0\n",
              "previous_cancellations            0\n",
              "previous_bookings_not_canceled    0\n",
              "reserved_room_type                0\n",
              "assigned_room_type                0\n",
              "booking_changes                   0\n",
              "deposit_type                      0\n",
              "days_in_waiting_list              0\n",
              "customer_type                     0\n",
              "adr                               0\n",
              "required_car_parking_spaces       0\n",
              "total_of_special_requests         0\n",
              "reservation_status                0\n",
              "reservation_status_date           0\n",
              "dtype: int64"
            ]
          },
          "execution_count": 847,
          "metadata": {},
          "output_type": "execute_result"
        }
      ],
      "source": [
        "df.isnull().sum()"
      ]
    },
    {
      "cell_type": "code",
      "execution_count": 848,
      "metadata": {
        "id": "ZXshCejClJMT"
      },
      "outputs": [],
      "source": [
        "filter1 = (df.children == 0) & (df.adults == 0) & (df.babies == 0)"
      ]
    },
    {
      "cell_type": "code",
      "execution_count": 849,
      "metadata": {
        "id": "xJ4ngXEsws6G"
      },
      "outputs": [],
      "source": [
        "data = df[~filter1]"
      ]
    },
    {
      "cell_type": "code",
      "execution_count": 850,
      "metadata": {
        "colab": {
          "base_uri": "https://localhost:8080/"
        },
        "id": "jFxf3g2rw2fL",
        "outputId": "34d0fa13-5f96-41bc-a337-49ef233b4b4e"
      },
      "outputs": [
        {
          "data": {
            "text/plain": [
              "(119210, 30)"
            ]
          },
          "execution_count": 850,
          "metadata": {},
          "output_type": "execute_result"
        }
      ],
      "source": [
        "data.shape"
      ]
    },
    {
      "cell_type": "code",
      "execution_count": 851,
      "metadata": {
        "id": "Iw0ud7lrk_1a"
      },
      "outputs": [],
      "source": [
        "# where did the guests come from?"
      ]
    },
    {
      "cell_type": "code",
      "execution_count": 852,
      "metadata": {
        "colab": {
          "base_uri": "https://localhost:8080/"
        },
        "id": "DAHO6B5wwKKU",
        "outputId": "d1684a40-c7e7-41ca-b953-60077dd13e9c"
      },
      "outputs": [
        {
          "data": {
            "text/plain": [
              "array([0, 1], dtype=int64)"
            ]
          },
          "execution_count": 852,
          "metadata": {},
          "output_type": "execute_result"
        }
      ],
      "source": [
        "data.is_canceled.unique()"
      ]
    },
    {
      "cell_type": "code",
      "execution_count": 853,
      "metadata": {
        "colab": {
          "base_uri": "https://localhost:8080/"
        },
        "id": "ThxhCAYzxoGM",
        "outputId": "84b46f1f-e3fa-4a10-ea0e-980dd1d4af9c"
      },
      "outputs": [
        {
          "data": {
            "text/plain": [
              "75011"
            ]
          },
          "execution_count": 853,
          "metadata": {},
          "output_type": "execute_result"
        }
      ],
      "source": [
        "len(data[data.is_canceled == 0])"
      ]
    },
    {
      "cell_type": "code",
      "execution_count": 854,
      "metadata": {
        "colab": {
          "base_uri": "https://localhost:8080/"
        },
        "id": "vv1KilUJxZDD",
        "outputId": "39243832-a7d8-4c63-cd7d-af6d07b26d21"
      },
      "outputs": [
        {
          "data": {
            "text/plain": [
              "country\n",
              "PRT    0.285265\n",
              "GBR    0.128888\n",
              "FRA    0.112890\n",
              "ESP    0.085094\n",
              "DEU    0.080881\n",
              "         ...   \n",
              "BHR    0.000013\n",
              "DJI    0.000013\n",
              "MLI    0.000013\n",
              "NPL    0.000013\n",
              "FRO    0.000013\n",
              "Name: count, Length: 165, dtype: float64"
            ]
          },
          "execution_count": 854,
          "metadata": {},
          "output_type": "execute_result"
        }
      ],
      "source": [
        "data[data.is_canceled == 0].country.value_counts() / 75011"
      ]
    },
    {
      "cell_type": "code",
      "execution_count": 855,
      "metadata": {
        "id": "MA9N371_xmEi"
      },
      "outputs": [],
      "source": [
        "country_wise_data = data[data.is_canceled == 0].country.value_counts().reset_index()"
      ]
    },
    {
      "cell_type": "code",
      "execution_count": 856,
      "metadata": {
        "id": "XZvVJ_cKyCqF"
      },
      "outputs": [],
      "source": [
        "country_wise_data.columns = ['country', 'no_of_guests']"
      ]
    },
    {
      "cell_type": "code",
      "execution_count": 857,
      "metadata": {
        "colab": {
          "base_uri": "https://localhost:8080/",
          "height": 423
        },
        "id": "VBQ-736jycK_",
        "outputId": "2b9e77e6-6b0c-49bb-b9a9-622b4d0cd4d3"
      },
      "outputs": [
        {
          "data": {
            "text/html": [
              "<div>\n",
              "<style scoped>\n",
              "    .dataframe tbody tr th:only-of-type {\n",
              "        vertical-align: middle;\n",
              "    }\n",
              "\n",
              "    .dataframe tbody tr th {\n",
              "        vertical-align: top;\n",
              "    }\n",
              "\n",
              "    .dataframe thead th {\n",
              "        text-align: right;\n",
              "    }\n",
              "</style>\n",
              "<table border=\"1\" class=\"dataframe\">\n",
              "  <thead>\n",
              "    <tr style=\"text-align: right;\">\n",
              "      <th></th>\n",
              "      <th>country</th>\n",
              "      <th>no_of_guests</th>\n",
              "    </tr>\n",
              "  </thead>\n",
              "  <tbody>\n",
              "    <tr>\n",
              "      <th>0</th>\n",
              "      <td>PRT</td>\n",
              "      <td>21398</td>\n",
              "    </tr>\n",
              "    <tr>\n",
              "      <th>1</th>\n",
              "      <td>GBR</td>\n",
              "      <td>9668</td>\n",
              "    </tr>\n",
              "    <tr>\n",
              "      <th>2</th>\n",
              "      <td>FRA</td>\n",
              "      <td>8468</td>\n",
              "    </tr>\n",
              "    <tr>\n",
              "      <th>3</th>\n",
              "      <td>ESP</td>\n",
              "      <td>6383</td>\n",
              "    </tr>\n",
              "    <tr>\n",
              "      <th>4</th>\n",
              "      <td>DEU</td>\n",
              "      <td>6067</td>\n",
              "    </tr>\n",
              "    <tr>\n",
              "      <th>...</th>\n",
              "      <td>...</td>\n",
              "      <td>...</td>\n",
              "    </tr>\n",
              "    <tr>\n",
              "      <th>160</th>\n",
              "      <td>BHR</td>\n",
              "      <td>1</td>\n",
              "    </tr>\n",
              "    <tr>\n",
              "      <th>161</th>\n",
              "      <td>DJI</td>\n",
              "      <td>1</td>\n",
              "    </tr>\n",
              "    <tr>\n",
              "      <th>162</th>\n",
              "      <td>MLI</td>\n",
              "      <td>1</td>\n",
              "    </tr>\n",
              "    <tr>\n",
              "      <th>163</th>\n",
              "      <td>NPL</td>\n",
              "      <td>1</td>\n",
              "    </tr>\n",
              "    <tr>\n",
              "      <th>164</th>\n",
              "      <td>FRO</td>\n",
              "      <td>1</td>\n",
              "    </tr>\n",
              "  </tbody>\n",
              "</table>\n",
              "<p>165 rows × 2 columns</p>\n",
              "</div>"
            ],
            "text/plain": [
              "    country  no_of_guests\n",
              "0       PRT         21398\n",
              "1       GBR          9668\n",
              "2       FRA          8468\n",
              "3       ESP          6383\n",
              "4       DEU          6067\n",
              "..      ...           ...\n",
              "160     BHR             1\n",
              "161     DJI             1\n",
              "162     MLI             1\n",
              "163     NPL             1\n",
              "164     FRO             1\n",
              "\n",
              "[165 rows x 2 columns]"
            ]
          },
          "execution_count": 857,
          "metadata": {},
          "output_type": "execute_result"
        }
      ],
      "source": [
        "country_wise_data"
      ]
    },
    {
      "cell_type": "code",
      "execution_count": 858,
      "metadata": {
        "colab": {
          "base_uri": "https://localhost:8080/",
          "height": 17
        },
        "id": "AXFEZQuNydsp",
        "outputId": "78fa0f16-702d-4bc1-eae5-7d0ea608e2f2"
      },
      "outputs": [
        {
          "data": {
            "text/html": [
              "        <script type=\"text/javascript\">\n",
              "        window.PlotlyConfig = {MathJaxConfig: 'local'};\n",
              "        if (window.MathJax && window.MathJax.Hub && window.MathJax.Hub.Config) {window.MathJax.Hub.Config({SVG: {font: \"STIX-Web\"}});}\n",
              "        if (typeof require !== 'undefined') {\n",
              "        require.undef(\"plotly\");\n",
              "        requirejs.config({\n",
              "            paths: {\n",
              "                'plotly': ['https://cdn.plot.ly/plotly-2.35.2.min']\n",
              "            }\n",
              "        });\n",
              "        require(['plotly'], function(Plotly) {\n",
              "            window._Plotly = Plotly;\n",
              "        });\n",
              "        }\n",
              "        </script>\n",
              "        "
            ]
          },
          "metadata": {},
          "output_type": "display_data"
        }
      ],
      "source": [
        "import plotly\n",
        "import chart_studio.plotly as py\n",
        "from plotly.offline import download_plotlyjs, init_notebook_mode, plot, iplot\n",
        "import plotly.express as px\n",
        "init_notebook_mode(connected=True)"
      ]
    },
    {
      "cell_type": "code",
      "execution_count": 859,
      "metadata": {
        "colab": {
          "base_uri": "https://localhost:8080/"
        },
        "id": "OF9G1k2ezhll",
        "outputId": "c6224727-541d-4997-ad75-72d5e3e26a4f"
      },
      "outputs": [
        {
          "data": {
            "text/plain": [
              "Index(['country', 'no_of_guests'], dtype='object')"
            ]
          },
          "execution_count": 859,
          "metadata": {},
          "output_type": "execute_result"
        }
      ],
      "source": [
        "country_wise_data.columns"
      ]
    },
    {
      "cell_type": "code",
      "execution_count": 860,
      "metadata": {
        "id": "2ULTr9BOywLm"
      },
      "outputs": [],
      "source": [
        "map_guests = px.choropleth(country_wise_data,\n",
        "              locations=country_wise_data.country,\n",
        "              color=country_wise_data.no_of_guests,\n",
        "              hover_name=country_wise_data.country,\n",
        "              title='home country of guests')"
      ]
    },
    {
      "cell_type": "code",
      "execution_count": 861,
      "metadata": {
        "colab": {
          "base_uri": "https://localhost:8080/",
          "height": 542
        },
        "id": "S_LJiDkfzUwM",
        "outputId": "d5c345ee-3184-464c-a82f-2169d7fa973c"
      },
      "outputs": [
        {
          "data": {
            "application/vnd.plotly.v1+json": {
              "config": {
                "plotlyServerURL": "https://plot.ly"
              },
              "data": [
                {
                  "coloraxis": "coloraxis",
                  "geo": "geo",
                  "hovertemplate": "<b>%{hovertext}</b><br><br>country=%{location}<br>no_of_guests=%{z}<extra></extra>",
                  "hovertext": [
                    "PRT",
                    "GBR",
                    "FRA",
                    "ESP",
                    "DEU",
                    "IRL",
                    "ITA",
                    "BEL",
                    "NLD",
                    "USA",
                    "BRA",
                    "CHE",
                    "AUT",
                    "CN",
                    "SWE",
                    "POL",
                    "CHN",
                    "ISR",
                    "NOR",
                    "RUS",
                    "FIN",
                    "ROU",
                    "DNK",
                    "AUS",
                    "LUX",
                    "JPN",
                    "ARG",
                    "AGO",
                    "HUN",
                    "MAR",
                    "TUR",
                    "CZE",
                    "IND",
                    "SRB",
                    "GRC",
                    "DZA",
                    "KOR",
                    "MEX",
                    "HRV",
                    "LTU",
                    "NZL",
                    "EST",
                    "BGR",
                    "IRN",
                    "ISL",
                    "ZAF",
                    "CHL",
                    "COL",
                    "UKR",
                    "MOZ",
                    "LVA",
                    "SVN",
                    "SVK",
                    "THA",
                    "CYP",
                    "TWN",
                    "MYS",
                    "URY",
                    "PER",
                    "SGP",
                    "LBN",
                    "EGY",
                    "TUN",
                    "ECU",
                    "JOR",
                    "CRI",
                    "BLR",
                    "PHL",
                    "SAU",
                    "OMN",
                    "IRQ",
                    "VEN",
                    "KAZ",
                    "NGA",
                    "MLT",
                    "CPV",
                    "IDN",
                    "CMR",
                    "BIH",
                    "PRI",
                    "ALB",
                    "KWT",
                    "BOL",
                    "PAN",
                    "ARE",
                    "GNB",
                    "MKD",
                    "LBY",
                    "CUB",
                    "AZE",
                    "GEO",
                    "GIB",
                    "LKA",
                    "VNM",
                    "MUS",
                    "ARM",
                    "JAM",
                    "DOM",
                    "CAF",
                    "SUR",
                    "PAK",
                    "GTM",
                    "KEN",
                    "BRB",
                    "CIV",
                    "PRY",
                    "QAT",
                    "SYR",
                    "MCO",
                    "SEN",
                    "HKG",
                    "BGD",
                    "MNE",
                    "MDV",
                    "ABW",
                    "RWA",
                    "SLV",
                    "TZA",
                    "GAB",
                    "TMP",
                    "GHA",
                    "ATA",
                    "LIE",
                    "LAO",
                    "MWI",
                    "ETH",
                    "TGO",
                    "ZWE",
                    "COM",
                    "AND",
                    "UZB",
                    "UGA",
                    "STP",
                    "KNA",
                    "MAC",
                    "MRT",
                    "BWA",
                    "SMR",
                    "ZMB",
                    "ASM",
                    "NCL",
                    "GUY",
                    "KIR",
                    "SDN",
                    "ATF",
                    "TJK",
                    "SLE",
                    "CYM",
                    "LCA",
                    "PYF",
                    "BHS",
                    "DMA",
                    "MMR",
                    "AIA",
                    "BDI",
                    "BFA",
                    "PLW",
                    "SYC",
                    "MDG",
                    "NAM",
                    "BHR",
                    "DJI",
                    "MLI",
                    "NPL",
                    "FRO"
                  ],
                  "locations": [
                    "PRT",
                    "GBR",
                    "FRA",
                    "ESP",
                    "DEU",
                    "IRL",
                    "ITA",
                    "BEL",
                    "NLD",
                    "USA",
                    "BRA",
                    "CHE",
                    "AUT",
                    "CN",
                    "SWE",
                    "POL",
                    "CHN",
                    "ISR",
                    "NOR",
                    "RUS",
                    "FIN",
                    "ROU",
                    "DNK",
                    "AUS",
                    "LUX",
                    "JPN",
                    "ARG",
                    "AGO",
                    "HUN",
                    "MAR",
                    "TUR",
                    "CZE",
                    "IND",
                    "SRB",
                    "GRC",
                    "DZA",
                    "KOR",
                    "MEX",
                    "HRV",
                    "LTU",
                    "NZL",
                    "EST",
                    "BGR",
                    "IRN",
                    "ISL",
                    "ZAF",
                    "CHL",
                    "COL",
                    "UKR",
                    "MOZ",
                    "LVA",
                    "SVN",
                    "SVK",
                    "THA",
                    "CYP",
                    "TWN",
                    "MYS",
                    "URY",
                    "PER",
                    "SGP",
                    "LBN",
                    "EGY",
                    "TUN",
                    "ECU",
                    "JOR",
                    "CRI",
                    "BLR",
                    "PHL",
                    "SAU",
                    "OMN",
                    "IRQ",
                    "VEN",
                    "KAZ",
                    "NGA",
                    "MLT",
                    "CPV",
                    "IDN",
                    "CMR",
                    "BIH",
                    "PRI",
                    "ALB",
                    "KWT",
                    "BOL",
                    "PAN",
                    "ARE",
                    "GNB",
                    "MKD",
                    "LBY",
                    "CUB",
                    "AZE",
                    "GEO",
                    "GIB",
                    "LKA",
                    "VNM",
                    "MUS",
                    "ARM",
                    "JAM",
                    "DOM",
                    "CAF",
                    "SUR",
                    "PAK",
                    "GTM",
                    "KEN",
                    "BRB",
                    "CIV",
                    "PRY",
                    "QAT",
                    "SYR",
                    "MCO",
                    "SEN",
                    "HKG",
                    "BGD",
                    "MNE",
                    "MDV",
                    "ABW",
                    "RWA",
                    "SLV",
                    "TZA",
                    "GAB",
                    "TMP",
                    "GHA",
                    "ATA",
                    "LIE",
                    "LAO",
                    "MWI",
                    "ETH",
                    "TGO",
                    "ZWE",
                    "COM",
                    "AND",
                    "UZB",
                    "UGA",
                    "STP",
                    "KNA",
                    "MAC",
                    "MRT",
                    "BWA",
                    "SMR",
                    "ZMB",
                    "ASM",
                    "NCL",
                    "GUY",
                    "KIR",
                    "SDN",
                    "ATF",
                    "TJK",
                    "SLE",
                    "CYM",
                    "LCA",
                    "PYF",
                    "BHS",
                    "DMA",
                    "MMR",
                    "AIA",
                    "BDI",
                    "BFA",
                    "PLW",
                    "SYC",
                    "MDG",
                    "NAM",
                    "BHR",
                    "DJI",
                    "MLI",
                    "NPL",
                    "FRO"
                  ],
                  "name": "",
                  "type": "choropleth",
                  "z": [
                    21398,
                    9668,
                    8468,
                    6383,
                    6067,
                    2542,
                    2428,
                    1868,
                    1716,
                    1592,
                    1392,
                    1298,
                    1033,
                    1025,
                    793,
                    703,
                    537,
                    500,
                    426,
                    391,
                    377,
                    366,
                    326,
                    319,
                    177,
                    169,
                    160,
                    157,
                    153,
                    150,
                    146,
                    134,
                    116,
                    98,
                    93,
                    82,
                    78,
                    75,
                    75,
                    74,
                    68,
                    65,
                    63,
                    59,
                    53,
                    49,
                    49,
                    48,
                    48,
                    48,
                    46,
                    41,
                    41,
                    41,
                    40,
                    37,
                    25,
                    23,
                    23,
                    22,
                    22,
                    21,
                    20,
                    19,
                    18,
                    18,
                    17,
                    15,
                    15,
                    14,
                    14,
                    14,
                    14,
                    13,
                    13,
                    12,
                    11,
                    10,
                    10,
                    10,
                    10,
                    10,
                    10,
                    9,
                    8,
                    8,
                    8,
                    8,
                    8,
                    8,
                    7,
                    7,
                    7,
                    6,
                    6,
                    6,
                    6,
                    6,
                    5,
                    5,
                    5,
                    4,
                    4,
                    4,
                    4,
                    4,
                    4,
                    3,
                    3,
                    3,
                    3,
                    3,
                    3,
                    3,
                    2,
                    2,
                    2,
                    2,
                    2,
                    2,
                    2,
                    2,
                    2,
                    2,
                    2,
                    2,
                    2,
                    2,
                    2,
                    2,
                    2,
                    2,
                    2,
                    2,
                    1,
                    1,
                    1,
                    1,
                    1,
                    1,
                    1,
                    1,
                    1,
                    1,
                    1,
                    1,
                    1,
                    1,
                    1,
                    1,
                    1,
                    1,
                    1,
                    1,
                    1,
                    1,
                    1,
                    1,
                    1,
                    1,
                    1,
                    1,
                    1,
                    1,
                    1
                  ]
                }
              ],
              "layout": {
                "coloraxis": {
                  "colorbar": {
                    "title": {
                      "text": "no_of_guests"
                    }
                  },
                  "colorscale": [
                    [
                      0,
                      "#0d0887"
                    ],
                    [
                      0.1111111111111111,
                      "#46039f"
                    ],
                    [
                      0.2222222222222222,
                      "#7201a8"
                    ],
                    [
                      0.3333333333333333,
                      "#9c179e"
                    ],
                    [
                      0.4444444444444444,
                      "#bd3786"
                    ],
                    [
                      0.5555555555555556,
                      "#d8576b"
                    ],
                    [
                      0.6666666666666666,
                      "#ed7953"
                    ],
                    [
                      0.7777777777777778,
                      "#fb9f3a"
                    ],
                    [
                      0.8888888888888888,
                      "#fdca26"
                    ],
                    [
                      1,
                      "#f0f921"
                    ]
                  ]
                },
                "geo": {
                  "center": {},
                  "domain": {
                    "x": [
                      0,
                      1
                    ],
                    "y": [
                      0,
                      1
                    ]
                  }
                },
                "legend": {
                  "tracegroupgap": 0
                },
                "template": {
                  "data": {
                    "bar": [
                      {
                        "error_x": {
                          "color": "#2a3f5f"
                        },
                        "error_y": {
                          "color": "#2a3f5f"
                        },
                        "marker": {
                          "line": {
                            "color": "#E5ECF6",
                            "width": 0.5
                          },
                          "pattern": {
                            "fillmode": "overlay",
                            "size": 10,
                            "solidity": 0.2
                          }
                        },
                        "type": "bar"
                      }
                    ],
                    "barpolar": [
                      {
                        "marker": {
                          "line": {
                            "color": "#E5ECF6",
                            "width": 0.5
                          },
                          "pattern": {
                            "fillmode": "overlay",
                            "size": 10,
                            "solidity": 0.2
                          }
                        },
                        "type": "barpolar"
                      }
                    ],
                    "carpet": [
                      {
                        "aaxis": {
                          "endlinecolor": "#2a3f5f",
                          "gridcolor": "white",
                          "linecolor": "white",
                          "minorgridcolor": "white",
                          "startlinecolor": "#2a3f5f"
                        },
                        "baxis": {
                          "endlinecolor": "#2a3f5f",
                          "gridcolor": "white",
                          "linecolor": "white",
                          "minorgridcolor": "white",
                          "startlinecolor": "#2a3f5f"
                        },
                        "type": "carpet"
                      }
                    ],
                    "choropleth": [
                      {
                        "colorbar": {
                          "outlinewidth": 0,
                          "ticks": ""
                        },
                        "type": "choropleth"
                      }
                    ],
                    "contour": [
                      {
                        "colorbar": {
                          "outlinewidth": 0,
                          "ticks": ""
                        },
                        "colorscale": [
                          [
                            0,
                            "#0d0887"
                          ],
                          [
                            0.1111111111111111,
                            "#46039f"
                          ],
                          [
                            0.2222222222222222,
                            "#7201a8"
                          ],
                          [
                            0.3333333333333333,
                            "#9c179e"
                          ],
                          [
                            0.4444444444444444,
                            "#bd3786"
                          ],
                          [
                            0.5555555555555556,
                            "#d8576b"
                          ],
                          [
                            0.6666666666666666,
                            "#ed7953"
                          ],
                          [
                            0.7777777777777778,
                            "#fb9f3a"
                          ],
                          [
                            0.8888888888888888,
                            "#fdca26"
                          ],
                          [
                            1,
                            "#f0f921"
                          ]
                        ],
                        "type": "contour"
                      }
                    ],
                    "contourcarpet": [
                      {
                        "colorbar": {
                          "outlinewidth": 0,
                          "ticks": ""
                        },
                        "type": "contourcarpet"
                      }
                    ],
                    "heatmap": [
                      {
                        "colorbar": {
                          "outlinewidth": 0,
                          "ticks": ""
                        },
                        "colorscale": [
                          [
                            0,
                            "#0d0887"
                          ],
                          [
                            0.1111111111111111,
                            "#46039f"
                          ],
                          [
                            0.2222222222222222,
                            "#7201a8"
                          ],
                          [
                            0.3333333333333333,
                            "#9c179e"
                          ],
                          [
                            0.4444444444444444,
                            "#bd3786"
                          ],
                          [
                            0.5555555555555556,
                            "#d8576b"
                          ],
                          [
                            0.6666666666666666,
                            "#ed7953"
                          ],
                          [
                            0.7777777777777778,
                            "#fb9f3a"
                          ],
                          [
                            0.8888888888888888,
                            "#fdca26"
                          ],
                          [
                            1,
                            "#f0f921"
                          ]
                        ],
                        "type": "heatmap"
                      }
                    ],
                    "heatmapgl": [
                      {
                        "colorbar": {
                          "outlinewidth": 0,
                          "ticks": ""
                        },
                        "colorscale": [
                          [
                            0,
                            "#0d0887"
                          ],
                          [
                            0.1111111111111111,
                            "#46039f"
                          ],
                          [
                            0.2222222222222222,
                            "#7201a8"
                          ],
                          [
                            0.3333333333333333,
                            "#9c179e"
                          ],
                          [
                            0.4444444444444444,
                            "#bd3786"
                          ],
                          [
                            0.5555555555555556,
                            "#d8576b"
                          ],
                          [
                            0.6666666666666666,
                            "#ed7953"
                          ],
                          [
                            0.7777777777777778,
                            "#fb9f3a"
                          ],
                          [
                            0.8888888888888888,
                            "#fdca26"
                          ],
                          [
                            1,
                            "#f0f921"
                          ]
                        ],
                        "type": "heatmapgl"
                      }
                    ],
                    "histogram": [
                      {
                        "marker": {
                          "pattern": {
                            "fillmode": "overlay",
                            "size": 10,
                            "solidity": 0.2
                          }
                        },
                        "type": "histogram"
                      }
                    ],
                    "histogram2d": [
                      {
                        "colorbar": {
                          "outlinewidth": 0,
                          "ticks": ""
                        },
                        "colorscale": [
                          [
                            0,
                            "#0d0887"
                          ],
                          [
                            0.1111111111111111,
                            "#46039f"
                          ],
                          [
                            0.2222222222222222,
                            "#7201a8"
                          ],
                          [
                            0.3333333333333333,
                            "#9c179e"
                          ],
                          [
                            0.4444444444444444,
                            "#bd3786"
                          ],
                          [
                            0.5555555555555556,
                            "#d8576b"
                          ],
                          [
                            0.6666666666666666,
                            "#ed7953"
                          ],
                          [
                            0.7777777777777778,
                            "#fb9f3a"
                          ],
                          [
                            0.8888888888888888,
                            "#fdca26"
                          ],
                          [
                            1,
                            "#f0f921"
                          ]
                        ],
                        "type": "histogram2d"
                      }
                    ],
                    "histogram2dcontour": [
                      {
                        "colorbar": {
                          "outlinewidth": 0,
                          "ticks": ""
                        },
                        "colorscale": [
                          [
                            0,
                            "#0d0887"
                          ],
                          [
                            0.1111111111111111,
                            "#46039f"
                          ],
                          [
                            0.2222222222222222,
                            "#7201a8"
                          ],
                          [
                            0.3333333333333333,
                            "#9c179e"
                          ],
                          [
                            0.4444444444444444,
                            "#bd3786"
                          ],
                          [
                            0.5555555555555556,
                            "#d8576b"
                          ],
                          [
                            0.6666666666666666,
                            "#ed7953"
                          ],
                          [
                            0.7777777777777778,
                            "#fb9f3a"
                          ],
                          [
                            0.8888888888888888,
                            "#fdca26"
                          ],
                          [
                            1,
                            "#f0f921"
                          ]
                        ],
                        "type": "histogram2dcontour"
                      }
                    ],
                    "mesh3d": [
                      {
                        "colorbar": {
                          "outlinewidth": 0,
                          "ticks": ""
                        },
                        "type": "mesh3d"
                      }
                    ],
                    "parcoords": [
                      {
                        "line": {
                          "colorbar": {
                            "outlinewidth": 0,
                            "ticks": ""
                          }
                        },
                        "type": "parcoords"
                      }
                    ],
                    "pie": [
                      {
                        "automargin": true,
                        "type": "pie"
                      }
                    ],
                    "scatter": [
                      {
                        "fillpattern": {
                          "fillmode": "overlay",
                          "size": 10,
                          "solidity": 0.2
                        },
                        "type": "scatter"
                      }
                    ],
                    "scatter3d": [
                      {
                        "line": {
                          "colorbar": {
                            "outlinewidth": 0,
                            "ticks": ""
                          }
                        },
                        "marker": {
                          "colorbar": {
                            "outlinewidth": 0,
                            "ticks": ""
                          }
                        },
                        "type": "scatter3d"
                      }
                    ],
                    "scattercarpet": [
                      {
                        "marker": {
                          "colorbar": {
                            "outlinewidth": 0,
                            "ticks": ""
                          }
                        },
                        "type": "scattercarpet"
                      }
                    ],
                    "scattergeo": [
                      {
                        "marker": {
                          "colorbar": {
                            "outlinewidth": 0,
                            "ticks": ""
                          }
                        },
                        "type": "scattergeo"
                      }
                    ],
                    "scattergl": [
                      {
                        "marker": {
                          "colorbar": {
                            "outlinewidth": 0,
                            "ticks": ""
                          }
                        },
                        "type": "scattergl"
                      }
                    ],
                    "scattermapbox": [
                      {
                        "marker": {
                          "colorbar": {
                            "outlinewidth": 0,
                            "ticks": ""
                          }
                        },
                        "type": "scattermapbox"
                      }
                    ],
                    "scatterpolar": [
                      {
                        "marker": {
                          "colorbar": {
                            "outlinewidth": 0,
                            "ticks": ""
                          }
                        },
                        "type": "scatterpolar"
                      }
                    ],
                    "scatterpolargl": [
                      {
                        "marker": {
                          "colorbar": {
                            "outlinewidth": 0,
                            "ticks": ""
                          }
                        },
                        "type": "scatterpolargl"
                      }
                    ],
                    "scatterternary": [
                      {
                        "marker": {
                          "colorbar": {
                            "outlinewidth": 0,
                            "ticks": ""
                          }
                        },
                        "type": "scatterternary"
                      }
                    ],
                    "surface": [
                      {
                        "colorbar": {
                          "outlinewidth": 0,
                          "ticks": ""
                        },
                        "colorscale": [
                          [
                            0,
                            "#0d0887"
                          ],
                          [
                            0.1111111111111111,
                            "#46039f"
                          ],
                          [
                            0.2222222222222222,
                            "#7201a8"
                          ],
                          [
                            0.3333333333333333,
                            "#9c179e"
                          ],
                          [
                            0.4444444444444444,
                            "#bd3786"
                          ],
                          [
                            0.5555555555555556,
                            "#d8576b"
                          ],
                          [
                            0.6666666666666666,
                            "#ed7953"
                          ],
                          [
                            0.7777777777777778,
                            "#fb9f3a"
                          ],
                          [
                            0.8888888888888888,
                            "#fdca26"
                          ],
                          [
                            1,
                            "#f0f921"
                          ]
                        ],
                        "type": "surface"
                      }
                    ],
                    "table": [
                      {
                        "cells": {
                          "fill": {
                            "color": "#EBF0F8"
                          },
                          "line": {
                            "color": "white"
                          }
                        },
                        "header": {
                          "fill": {
                            "color": "#C8D4E3"
                          },
                          "line": {
                            "color": "white"
                          }
                        },
                        "type": "table"
                      }
                    ]
                  },
                  "layout": {
                    "annotationdefaults": {
                      "arrowcolor": "#2a3f5f",
                      "arrowhead": 0,
                      "arrowwidth": 1
                    },
                    "autotypenumbers": "strict",
                    "coloraxis": {
                      "colorbar": {
                        "outlinewidth": 0,
                        "ticks": ""
                      }
                    },
                    "colorscale": {
                      "diverging": [
                        [
                          0,
                          "#8e0152"
                        ],
                        [
                          0.1,
                          "#c51b7d"
                        ],
                        [
                          0.2,
                          "#de77ae"
                        ],
                        [
                          0.3,
                          "#f1b6da"
                        ],
                        [
                          0.4,
                          "#fde0ef"
                        ],
                        [
                          0.5,
                          "#f7f7f7"
                        ],
                        [
                          0.6,
                          "#e6f5d0"
                        ],
                        [
                          0.7,
                          "#b8e186"
                        ],
                        [
                          0.8,
                          "#7fbc41"
                        ],
                        [
                          0.9,
                          "#4d9221"
                        ],
                        [
                          1,
                          "#276419"
                        ]
                      ],
                      "sequential": [
                        [
                          0,
                          "#0d0887"
                        ],
                        [
                          0.1111111111111111,
                          "#46039f"
                        ],
                        [
                          0.2222222222222222,
                          "#7201a8"
                        ],
                        [
                          0.3333333333333333,
                          "#9c179e"
                        ],
                        [
                          0.4444444444444444,
                          "#bd3786"
                        ],
                        [
                          0.5555555555555556,
                          "#d8576b"
                        ],
                        [
                          0.6666666666666666,
                          "#ed7953"
                        ],
                        [
                          0.7777777777777778,
                          "#fb9f3a"
                        ],
                        [
                          0.8888888888888888,
                          "#fdca26"
                        ],
                        [
                          1,
                          "#f0f921"
                        ]
                      ],
                      "sequentialminus": [
                        [
                          0,
                          "#0d0887"
                        ],
                        [
                          0.1111111111111111,
                          "#46039f"
                        ],
                        [
                          0.2222222222222222,
                          "#7201a8"
                        ],
                        [
                          0.3333333333333333,
                          "#9c179e"
                        ],
                        [
                          0.4444444444444444,
                          "#bd3786"
                        ],
                        [
                          0.5555555555555556,
                          "#d8576b"
                        ],
                        [
                          0.6666666666666666,
                          "#ed7953"
                        ],
                        [
                          0.7777777777777778,
                          "#fb9f3a"
                        ],
                        [
                          0.8888888888888888,
                          "#fdca26"
                        ],
                        [
                          1,
                          "#f0f921"
                        ]
                      ]
                    },
                    "colorway": [
                      "#636efa",
                      "#EF553B",
                      "#00cc96",
                      "#ab63fa",
                      "#FFA15A",
                      "#19d3f3",
                      "#FF6692",
                      "#B6E880",
                      "#FF97FF",
                      "#FECB52"
                    ],
                    "font": {
                      "color": "#2a3f5f"
                    },
                    "geo": {
                      "bgcolor": "white",
                      "lakecolor": "white",
                      "landcolor": "#E5ECF6",
                      "showlakes": true,
                      "showland": true,
                      "subunitcolor": "white"
                    },
                    "hoverlabel": {
                      "align": "left"
                    },
                    "hovermode": "closest",
                    "mapbox": {
                      "style": "light"
                    },
                    "paper_bgcolor": "white",
                    "plot_bgcolor": "#E5ECF6",
                    "polar": {
                      "angularaxis": {
                        "gridcolor": "white",
                        "linecolor": "white",
                        "ticks": ""
                      },
                      "bgcolor": "#E5ECF6",
                      "radialaxis": {
                        "gridcolor": "white",
                        "linecolor": "white",
                        "ticks": ""
                      }
                    },
                    "scene": {
                      "xaxis": {
                        "backgroundcolor": "#E5ECF6",
                        "gridcolor": "white",
                        "gridwidth": 2,
                        "linecolor": "white",
                        "showbackground": true,
                        "ticks": "",
                        "zerolinecolor": "white"
                      },
                      "yaxis": {
                        "backgroundcolor": "#E5ECF6",
                        "gridcolor": "white",
                        "gridwidth": 2,
                        "linecolor": "white",
                        "showbackground": true,
                        "ticks": "",
                        "zerolinecolor": "white"
                      },
                      "zaxis": {
                        "backgroundcolor": "#E5ECF6",
                        "gridcolor": "white",
                        "gridwidth": 2,
                        "linecolor": "white",
                        "showbackground": true,
                        "ticks": "",
                        "zerolinecolor": "white"
                      }
                    },
                    "shapedefaults": {
                      "line": {
                        "color": "#2a3f5f"
                      }
                    },
                    "ternary": {
                      "aaxis": {
                        "gridcolor": "white",
                        "linecolor": "white",
                        "ticks": ""
                      },
                      "baxis": {
                        "gridcolor": "white",
                        "linecolor": "white",
                        "ticks": ""
                      },
                      "bgcolor": "#E5ECF6",
                      "caxis": {
                        "gridcolor": "white",
                        "linecolor": "white",
                        "ticks": ""
                      }
                    },
                    "title": {
                      "x": 0.05
                    },
                    "xaxis": {
                      "automargin": true,
                      "gridcolor": "white",
                      "linecolor": "white",
                      "ticks": "",
                      "title": {
                        "standoff": 15
                      },
                      "zerolinecolor": "white",
                      "zerolinewidth": 2
                    },
                    "yaxis": {
                      "automargin": true,
                      "gridcolor": "white",
                      "linecolor": "white",
                      "ticks": "",
                      "title": {
                        "standoff": 15
                      },
                      "zerolinecolor": "white",
                      "zerolinewidth": 2
                    }
                  }
                },
                "title": {
                  "text": "home country of guests"
                }
              }
            },
            "text/html": [
              "<div>                            <div id=\"66864efe-bb22-4952-81d9-ff22d820f073\" class=\"plotly-graph-div\" style=\"height:525px; width:100%;\"></div>            <script type=\"text/javascript\">                require([\"plotly\"], function(Plotly) {                    window.PLOTLYENV=window.PLOTLYENV || {};                                    if (document.getElementById(\"66864efe-bb22-4952-81d9-ff22d820f073\")) {                    Plotly.newPlot(                        \"66864efe-bb22-4952-81d9-ff22d820f073\",                        [{\"coloraxis\":\"coloraxis\",\"geo\":\"geo\",\"hovertemplate\":\"\\u003cb\\u003e%{hovertext}\\u003c\\u002fb\\u003e\\u003cbr\\u003e\\u003cbr\\u003ecountry=%{location}\\u003cbr\\u003eno_of_guests=%{z}\\u003cextra\\u003e\\u003c\\u002fextra\\u003e\",\"hovertext\":[\"PRT\",\"GBR\",\"FRA\",\"ESP\",\"DEU\",\"IRL\",\"ITA\",\"BEL\",\"NLD\",\"USA\",\"BRA\",\"CHE\",\"AUT\",\"CN\",\"SWE\",\"POL\",\"CHN\",\"ISR\",\"NOR\",\"RUS\",\"FIN\",\"ROU\",\"DNK\",\"AUS\",\"LUX\",\"JPN\",\"ARG\",\"AGO\",\"HUN\",\"MAR\",\"TUR\",\"CZE\",\"IND\",\"SRB\",\"GRC\",\"DZA\",\"KOR\",\"MEX\",\"HRV\",\"LTU\",\"NZL\",\"EST\",\"BGR\",\"IRN\",\"ISL\",\"ZAF\",\"CHL\",\"COL\",\"UKR\",\"MOZ\",\"LVA\",\"SVN\",\"SVK\",\"THA\",\"CYP\",\"TWN\",\"MYS\",\"URY\",\"PER\",\"SGP\",\"LBN\",\"EGY\",\"TUN\",\"ECU\",\"JOR\",\"CRI\",\"BLR\",\"PHL\",\"SAU\",\"OMN\",\"IRQ\",\"VEN\",\"KAZ\",\"NGA\",\"MLT\",\"CPV\",\"IDN\",\"CMR\",\"BIH\",\"PRI\",\"ALB\",\"KWT\",\"BOL\",\"PAN\",\"ARE\",\"GNB\",\"MKD\",\"LBY\",\"CUB\",\"AZE\",\"GEO\",\"GIB\",\"LKA\",\"VNM\",\"MUS\",\"ARM\",\"JAM\",\"DOM\",\"CAF\",\"SUR\",\"PAK\",\"GTM\",\"KEN\",\"BRB\",\"CIV\",\"PRY\",\"QAT\",\"SYR\",\"MCO\",\"SEN\",\"HKG\",\"BGD\",\"MNE\",\"MDV\",\"ABW\",\"RWA\",\"SLV\",\"TZA\",\"GAB\",\"TMP\",\"GHA\",\"ATA\",\"LIE\",\"LAO\",\"MWI\",\"ETH\",\"TGO\",\"ZWE\",\"COM\",\"AND\",\"UZB\",\"UGA\",\"STP\",\"KNA\",\"MAC\",\"MRT\",\"BWA\",\"SMR\",\"ZMB\",\"ASM\",\"NCL\",\"GUY\",\"KIR\",\"SDN\",\"ATF\",\"TJK\",\"SLE\",\"CYM\",\"LCA\",\"PYF\",\"BHS\",\"DMA\",\"MMR\",\"AIA\",\"BDI\",\"BFA\",\"PLW\",\"SYC\",\"MDG\",\"NAM\",\"BHR\",\"DJI\",\"MLI\",\"NPL\",\"FRO\"],\"locations\":[\"PRT\",\"GBR\",\"FRA\",\"ESP\",\"DEU\",\"IRL\",\"ITA\",\"BEL\",\"NLD\",\"USA\",\"BRA\",\"CHE\",\"AUT\",\"CN\",\"SWE\",\"POL\",\"CHN\",\"ISR\",\"NOR\",\"RUS\",\"FIN\",\"ROU\",\"DNK\",\"AUS\",\"LUX\",\"JPN\",\"ARG\",\"AGO\",\"HUN\",\"MAR\",\"TUR\",\"CZE\",\"IND\",\"SRB\",\"GRC\",\"DZA\",\"KOR\",\"MEX\",\"HRV\",\"LTU\",\"NZL\",\"EST\",\"BGR\",\"IRN\",\"ISL\",\"ZAF\",\"CHL\",\"COL\",\"UKR\",\"MOZ\",\"LVA\",\"SVN\",\"SVK\",\"THA\",\"CYP\",\"TWN\",\"MYS\",\"URY\",\"PER\",\"SGP\",\"LBN\",\"EGY\",\"TUN\",\"ECU\",\"JOR\",\"CRI\",\"BLR\",\"PHL\",\"SAU\",\"OMN\",\"IRQ\",\"VEN\",\"KAZ\",\"NGA\",\"MLT\",\"CPV\",\"IDN\",\"CMR\",\"BIH\",\"PRI\",\"ALB\",\"KWT\",\"BOL\",\"PAN\",\"ARE\",\"GNB\",\"MKD\",\"LBY\",\"CUB\",\"AZE\",\"GEO\",\"GIB\",\"LKA\",\"VNM\",\"MUS\",\"ARM\",\"JAM\",\"DOM\",\"CAF\",\"SUR\",\"PAK\",\"GTM\",\"KEN\",\"BRB\",\"CIV\",\"PRY\",\"QAT\",\"SYR\",\"MCO\",\"SEN\",\"HKG\",\"BGD\",\"MNE\",\"MDV\",\"ABW\",\"RWA\",\"SLV\",\"TZA\",\"GAB\",\"TMP\",\"GHA\",\"ATA\",\"LIE\",\"LAO\",\"MWI\",\"ETH\",\"TGO\",\"ZWE\",\"COM\",\"AND\",\"UZB\",\"UGA\",\"STP\",\"KNA\",\"MAC\",\"MRT\",\"BWA\",\"SMR\",\"ZMB\",\"ASM\",\"NCL\",\"GUY\",\"KIR\",\"SDN\",\"ATF\",\"TJK\",\"SLE\",\"CYM\",\"LCA\",\"PYF\",\"BHS\",\"DMA\",\"MMR\",\"AIA\",\"BDI\",\"BFA\",\"PLW\",\"SYC\",\"MDG\",\"NAM\",\"BHR\",\"DJI\",\"MLI\",\"NPL\",\"FRO\"],\"name\":\"\",\"z\":[21398,9668,8468,6383,6067,2542,2428,1868,1716,1592,1392,1298,1033,1025,793,703,537,500,426,391,377,366,326,319,177,169,160,157,153,150,146,134,116,98,93,82,78,75,75,74,68,65,63,59,53,49,49,48,48,48,46,41,41,41,40,37,25,23,23,22,22,21,20,19,18,18,17,15,15,14,14,14,14,13,13,12,11,10,10,10,10,10,10,9,8,8,8,8,8,8,7,7,7,6,6,6,6,6,5,5,5,4,4,4,4,4,4,3,3,3,3,3,3,3,2,2,2,2,2,2,2,2,2,2,2,2,2,2,2,2,2,2,2,2,1,1,1,1,1,1,1,1,1,1,1,1,1,1,1,1,1,1,1,1,1,1,1,1,1,1,1,1,1,1,1],\"type\":\"choropleth\"}],                        {\"template\":{\"data\":{\"histogram2dcontour\":[{\"type\":\"histogram2dcontour\",\"colorbar\":{\"outlinewidth\":0,\"ticks\":\"\"},\"colorscale\":[[0.0,\"#0d0887\"],[0.1111111111111111,\"#46039f\"],[0.2222222222222222,\"#7201a8\"],[0.3333333333333333,\"#9c179e\"],[0.4444444444444444,\"#bd3786\"],[0.5555555555555556,\"#d8576b\"],[0.6666666666666666,\"#ed7953\"],[0.7777777777777778,\"#fb9f3a\"],[0.8888888888888888,\"#fdca26\"],[1.0,\"#f0f921\"]]}],\"choropleth\":[{\"type\":\"choropleth\",\"colorbar\":{\"outlinewidth\":0,\"ticks\":\"\"}}],\"histogram2d\":[{\"type\":\"histogram2d\",\"colorbar\":{\"outlinewidth\":0,\"ticks\":\"\"},\"colorscale\":[[0.0,\"#0d0887\"],[0.1111111111111111,\"#46039f\"],[0.2222222222222222,\"#7201a8\"],[0.3333333333333333,\"#9c179e\"],[0.4444444444444444,\"#bd3786\"],[0.5555555555555556,\"#d8576b\"],[0.6666666666666666,\"#ed7953\"],[0.7777777777777778,\"#fb9f3a\"],[0.8888888888888888,\"#fdca26\"],[1.0,\"#f0f921\"]]}],\"heatmap\":[{\"type\":\"heatmap\",\"colorbar\":{\"outlinewidth\":0,\"ticks\":\"\"},\"colorscale\":[[0.0,\"#0d0887\"],[0.1111111111111111,\"#46039f\"],[0.2222222222222222,\"#7201a8\"],[0.3333333333333333,\"#9c179e\"],[0.4444444444444444,\"#bd3786\"],[0.5555555555555556,\"#d8576b\"],[0.6666666666666666,\"#ed7953\"],[0.7777777777777778,\"#fb9f3a\"],[0.8888888888888888,\"#fdca26\"],[1.0,\"#f0f921\"]]}],\"heatmapgl\":[{\"type\":\"heatmapgl\",\"colorbar\":{\"outlinewidth\":0,\"ticks\":\"\"},\"colorscale\":[[0.0,\"#0d0887\"],[0.1111111111111111,\"#46039f\"],[0.2222222222222222,\"#7201a8\"],[0.3333333333333333,\"#9c179e\"],[0.4444444444444444,\"#bd3786\"],[0.5555555555555556,\"#d8576b\"],[0.6666666666666666,\"#ed7953\"],[0.7777777777777778,\"#fb9f3a\"],[0.8888888888888888,\"#fdca26\"],[1.0,\"#f0f921\"]]}],\"contourcarpet\":[{\"type\":\"contourcarpet\",\"colorbar\":{\"outlinewidth\":0,\"ticks\":\"\"}}],\"contour\":[{\"type\":\"contour\",\"colorbar\":{\"outlinewidth\":0,\"ticks\":\"\"},\"colorscale\":[[0.0,\"#0d0887\"],[0.1111111111111111,\"#46039f\"],[0.2222222222222222,\"#7201a8\"],[0.3333333333333333,\"#9c179e\"],[0.4444444444444444,\"#bd3786\"],[0.5555555555555556,\"#d8576b\"],[0.6666666666666666,\"#ed7953\"],[0.7777777777777778,\"#fb9f3a\"],[0.8888888888888888,\"#fdca26\"],[1.0,\"#f0f921\"]]}],\"surface\":[{\"type\":\"surface\",\"colorbar\":{\"outlinewidth\":0,\"ticks\":\"\"},\"colorscale\":[[0.0,\"#0d0887\"],[0.1111111111111111,\"#46039f\"],[0.2222222222222222,\"#7201a8\"],[0.3333333333333333,\"#9c179e\"],[0.4444444444444444,\"#bd3786\"],[0.5555555555555556,\"#d8576b\"],[0.6666666666666666,\"#ed7953\"],[0.7777777777777778,\"#fb9f3a\"],[0.8888888888888888,\"#fdca26\"],[1.0,\"#f0f921\"]]}],\"mesh3d\":[{\"type\":\"mesh3d\",\"colorbar\":{\"outlinewidth\":0,\"ticks\":\"\"}}],\"scatter\":[{\"fillpattern\":{\"fillmode\":\"overlay\",\"size\":10,\"solidity\":0.2},\"type\":\"scatter\"}],\"parcoords\":[{\"type\":\"parcoords\",\"line\":{\"colorbar\":{\"outlinewidth\":0,\"ticks\":\"\"}}}],\"scatterpolargl\":[{\"type\":\"scatterpolargl\",\"marker\":{\"colorbar\":{\"outlinewidth\":0,\"ticks\":\"\"}}}],\"bar\":[{\"error_x\":{\"color\":\"#2a3f5f\"},\"error_y\":{\"color\":\"#2a3f5f\"},\"marker\":{\"line\":{\"color\":\"#E5ECF6\",\"width\":0.5},\"pattern\":{\"fillmode\":\"overlay\",\"size\":10,\"solidity\":0.2}},\"type\":\"bar\"}],\"scattergeo\":[{\"type\":\"scattergeo\",\"marker\":{\"colorbar\":{\"outlinewidth\":0,\"ticks\":\"\"}}}],\"scatterpolar\":[{\"type\":\"scatterpolar\",\"marker\":{\"colorbar\":{\"outlinewidth\":0,\"ticks\":\"\"}}}],\"histogram\":[{\"marker\":{\"pattern\":{\"fillmode\":\"overlay\",\"size\":10,\"solidity\":0.2}},\"type\":\"histogram\"}],\"scattergl\":[{\"type\":\"scattergl\",\"marker\":{\"colorbar\":{\"outlinewidth\":0,\"ticks\":\"\"}}}],\"scatter3d\":[{\"type\":\"scatter3d\",\"line\":{\"colorbar\":{\"outlinewidth\":0,\"ticks\":\"\"}},\"marker\":{\"colorbar\":{\"outlinewidth\":0,\"ticks\":\"\"}}}],\"scattermapbox\":[{\"type\":\"scattermapbox\",\"marker\":{\"colorbar\":{\"outlinewidth\":0,\"ticks\":\"\"}}}],\"scatterternary\":[{\"type\":\"scatterternary\",\"marker\":{\"colorbar\":{\"outlinewidth\":0,\"ticks\":\"\"}}}],\"scattercarpet\":[{\"type\":\"scattercarpet\",\"marker\":{\"colorbar\":{\"outlinewidth\":0,\"ticks\":\"\"}}}],\"carpet\":[{\"aaxis\":{\"endlinecolor\":\"#2a3f5f\",\"gridcolor\":\"white\",\"linecolor\":\"white\",\"minorgridcolor\":\"white\",\"startlinecolor\":\"#2a3f5f\"},\"baxis\":{\"endlinecolor\":\"#2a3f5f\",\"gridcolor\":\"white\",\"linecolor\":\"white\",\"minorgridcolor\":\"white\",\"startlinecolor\":\"#2a3f5f\"},\"type\":\"carpet\"}],\"table\":[{\"cells\":{\"fill\":{\"color\":\"#EBF0F8\"},\"line\":{\"color\":\"white\"}},\"header\":{\"fill\":{\"color\":\"#C8D4E3\"},\"line\":{\"color\":\"white\"}},\"type\":\"table\"}],\"barpolar\":[{\"marker\":{\"line\":{\"color\":\"#E5ECF6\",\"width\":0.5},\"pattern\":{\"fillmode\":\"overlay\",\"size\":10,\"solidity\":0.2}},\"type\":\"barpolar\"}],\"pie\":[{\"automargin\":true,\"type\":\"pie\"}]},\"layout\":{\"autotypenumbers\":\"strict\",\"colorway\":[\"#636efa\",\"#EF553B\",\"#00cc96\",\"#ab63fa\",\"#FFA15A\",\"#19d3f3\",\"#FF6692\",\"#B6E880\",\"#FF97FF\",\"#FECB52\"],\"font\":{\"color\":\"#2a3f5f\"},\"hovermode\":\"closest\",\"hoverlabel\":{\"align\":\"left\"},\"paper_bgcolor\":\"white\",\"plot_bgcolor\":\"#E5ECF6\",\"polar\":{\"bgcolor\":\"#E5ECF6\",\"angularaxis\":{\"gridcolor\":\"white\",\"linecolor\":\"white\",\"ticks\":\"\"},\"radialaxis\":{\"gridcolor\":\"white\",\"linecolor\":\"white\",\"ticks\":\"\"}},\"ternary\":{\"bgcolor\":\"#E5ECF6\",\"aaxis\":{\"gridcolor\":\"white\",\"linecolor\":\"white\",\"ticks\":\"\"},\"baxis\":{\"gridcolor\":\"white\",\"linecolor\":\"white\",\"ticks\":\"\"},\"caxis\":{\"gridcolor\":\"white\",\"linecolor\":\"white\",\"ticks\":\"\"}},\"coloraxis\":{\"colorbar\":{\"outlinewidth\":0,\"ticks\":\"\"}},\"colorscale\":{\"sequential\":[[0.0,\"#0d0887\"],[0.1111111111111111,\"#46039f\"],[0.2222222222222222,\"#7201a8\"],[0.3333333333333333,\"#9c179e\"],[0.4444444444444444,\"#bd3786\"],[0.5555555555555556,\"#d8576b\"],[0.6666666666666666,\"#ed7953\"],[0.7777777777777778,\"#fb9f3a\"],[0.8888888888888888,\"#fdca26\"],[1.0,\"#f0f921\"]],\"sequentialminus\":[[0.0,\"#0d0887\"],[0.1111111111111111,\"#46039f\"],[0.2222222222222222,\"#7201a8\"],[0.3333333333333333,\"#9c179e\"],[0.4444444444444444,\"#bd3786\"],[0.5555555555555556,\"#d8576b\"],[0.6666666666666666,\"#ed7953\"],[0.7777777777777778,\"#fb9f3a\"],[0.8888888888888888,\"#fdca26\"],[1.0,\"#f0f921\"]],\"diverging\":[[0,\"#8e0152\"],[0.1,\"#c51b7d\"],[0.2,\"#de77ae\"],[0.3,\"#f1b6da\"],[0.4,\"#fde0ef\"],[0.5,\"#f7f7f7\"],[0.6,\"#e6f5d0\"],[0.7,\"#b8e186\"],[0.8,\"#7fbc41\"],[0.9,\"#4d9221\"],[1,\"#276419\"]]},\"xaxis\":{\"gridcolor\":\"white\",\"linecolor\":\"white\",\"ticks\":\"\",\"title\":{\"standoff\":15},\"zerolinecolor\":\"white\",\"automargin\":true,\"zerolinewidth\":2},\"yaxis\":{\"gridcolor\":\"white\",\"linecolor\":\"white\",\"ticks\":\"\",\"title\":{\"standoff\":15},\"zerolinecolor\":\"white\",\"automargin\":true,\"zerolinewidth\":2},\"scene\":{\"xaxis\":{\"backgroundcolor\":\"#E5ECF6\",\"gridcolor\":\"white\",\"linecolor\":\"white\",\"showbackground\":true,\"ticks\":\"\",\"zerolinecolor\":\"white\",\"gridwidth\":2},\"yaxis\":{\"backgroundcolor\":\"#E5ECF6\",\"gridcolor\":\"white\",\"linecolor\":\"white\",\"showbackground\":true,\"ticks\":\"\",\"zerolinecolor\":\"white\",\"gridwidth\":2},\"zaxis\":{\"backgroundcolor\":\"#E5ECF6\",\"gridcolor\":\"white\",\"linecolor\":\"white\",\"showbackground\":true,\"ticks\":\"\",\"zerolinecolor\":\"white\",\"gridwidth\":2}},\"shapedefaults\":{\"line\":{\"color\":\"#2a3f5f\"}},\"annotationdefaults\":{\"arrowcolor\":\"#2a3f5f\",\"arrowhead\":0,\"arrowwidth\":1},\"geo\":{\"bgcolor\":\"white\",\"landcolor\":\"#E5ECF6\",\"subunitcolor\":\"white\",\"showland\":true,\"showlakes\":true,\"lakecolor\":\"white\"},\"title\":{\"x\":0.05},\"mapbox\":{\"style\":\"light\"}}},\"geo\":{\"domain\":{\"x\":[0.0,1.0],\"y\":[0.0,1.0]},\"center\":{}},\"coloraxis\":{\"colorbar\":{\"title\":{\"text\":\"no_of_guests\"}},\"colorscale\":[[0.0,\"#0d0887\"],[0.1111111111111111,\"#46039f\"],[0.2222222222222222,\"#7201a8\"],[0.3333333333333333,\"#9c179e\"],[0.4444444444444444,\"#bd3786\"],[0.5555555555555556,\"#d8576b\"],[0.6666666666666666,\"#ed7953\"],[0.7777777777777778,\"#fb9f3a\"],[0.8888888888888888,\"#fdca26\"],[1.0,\"#f0f921\"]]},\"legend\":{\"tracegroupgap\":0},\"title\":{\"text\":\"home country of guests\"}},                        {\"responsive\": true}                    ).then(function(){\n",
              "                            \n",
              "var gd = document.getElementById('66864efe-bb22-4952-81d9-ff22d820f073');\n",
              "var x = new MutationObserver(function (mutations, observer) {{\n",
              "        var display = window.getComputedStyle(gd).display;\n",
              "        if (!display || display === 'none') {{\n",
              "            console.log([gd, 'removed!']);\n",
              "            Plotly.purge(gd);\n",
              "            observer.disconnect();\n",
              "        }}\n",
              "}});\n",
              "\n",
              "// Listen for the removal of the full notebook cells\n",
              "var notebookContainer = gd.closest('#notebook-container');\n",
              "if (notebookContainer) {{\n",
              "    x.observe(notebookContainer, {childList: true});\n",
              "}}\n",
              "\n",
              "// Listen for the clearing of the current output cell\n",
              "var outputEl = gd.closest('.output');\n",
              "if (outputEl) {{\n",
              "    x.observe(outputEl, {childList: true});\n",
              "}}\n",
              "\n",
              "                        })                };                });            </script>        </div>"
            ]
          },
          "metadata": {},
          "output_type": "display_data"
        }
      ],
      "source": [
        "map_guests.show()"
      ]
    },
    {
      "cell_type": "code",
      "execution_count": 862,
      "metadata": {
        "id": "4SirBU7u0bAy"
      },
      "outputs": [],
      "source": [
        "# how much did guests pay for a room per night?"
      ]
    },
    {
      "cell_type": "code",
      "execution_count": 863,
      "metadata": {
        "id": "TDBIGNi_0smR"
      },
      "outputs": [],
      "source": [
        "data2 = data[data.is_canceled == 0]"
      ]
    },
    {
      "cell_type": "code",
      "execution_count": 864,
      "metadata": {
        "colab": {
          "base_uri": "https://localhost:8080/",
          "height": 545
        },
        "id": "lTeBiSAD03Y5",
        "outputId": "a82d9155-0fed-4a98-cf1e-d72984801096"
      },
      "outputs": [
        {
          "data": {
            "text/plain": [
              "Text(0, 0.5, 'price in eur')"
            ]
          },
          "execution_count": 864,
          "metadata": {},
          "output_type": "execute_result"
        },
        {
          "data": {
            "image/png": "[encoded data removed]",
            "text/plain": [
              "<Figure size 1200x800 with 1 Axes>"
            ]
          },
          "metadata": {},
          "output_type": "display_data"
        }
      ],
      "source": [
        "plt.figure(figsize=(12,8))\n",
        "sns.boxplot(x='reserved_room_type', y='adr', hue='hotel', data=data2)\n",
        "\n",
        "plt.title('price of room types per night and person')\n",
        "plt.xlabel('room types')\n",
        "plt.ylabel('price in eur')"
      ]
    },
    {
      "cell_type": "code",
      "execution_count": 865,
      "metadata": {
        "id": "BvJTKeJZ7e91"
      },
      "outputs": [],
      "source": [
        "# which are the busiest month"
      ]
    },
    {
      "cell_type": "code",
      "execution_count": 866,
      "metadata": {
        "id": "y3roYxPjSeFY"
      },
      "outputs": [],
      "source": [
        "data_resort = data[(data.hotel == 'Resort Hotel') & (data.is_canceled == 0)]\n",
        "data_city = data[(data.hotel == 'City Hotel') & (data.is_canceled == 0)]"
      ]
    },
    {
      "cell_type": "code",
      "execution_count": 867,
      "metadata": {
        "colab": {
          "base_uri": "https://localhost:8080/",
          "height": 425
        },
        "id": "obAD2bm9TAac",
        "outputId": "cf634400-dbb2-4ed9-af9e-f8becd214d7a"
      },
      "outputs": [
        {
          "data": {
            "text/html": [
              "<div>\n",
              "<style scoped>\n",
              "    .dataframe tbody tr th:only-of-type {\n",
              "        vertical-align: middle;\n",
              "    }\n",
              "\n",
              "    .dataframe tbody tr th {\n",
              "        vertical-align: top;\n",
              "    }\n",
              "\n",
              "    .dataframe thead th {\n",
              "        text-align: right;\n",
              "    }\n",
              "</style>\n",
              "<table border=\"1\" class=\"dataframe\">\n",
              "  <thead>\n",
              "    <tr style=\"text-align: right;\">\n",
              "      <th></th>\n",
              "      <th>month</th>\n",
              "      <th>no_of_guest</th>\n",
              "    </tr>\n",
              "  </thead>\n",
              "  <tbody>\n",
              "    <tr>\n",
              "      <th>0</th>\n",
              "      <td>August</td>\n",
              "      <td>3257</td>\n",
              "    </tr>\n",
              "    <tr>\n",
              "      <th>1</th>\n",
              "      <td>July</td>\n",
              "      <td>3137</td>\n",
              "    </tr>\n",
              "    <tr>\n",
              "      <th>2</th>\n",
              "      <td>October</td>\n",
              "      <td>2575</td>\n",
              "    </tr>\n",
              "    <tr>\n",
              "      <th>3</th>\n",
              "      <td>March</td>\n",
              "      <td>2571</td>\n",
              "    </tr>\n",
              "    <tr>\n",
              "      <th>4</th>\n",
              "      <td>April</td>\n",
              "      <td>2550</td>\n",
              "    </tr>\n",
              "    <tr>\n",
              "      <th>5</th>\n",
              "      <td>May</td>\n",
              "      <td>2535</td>\n",
              "    </tr>\n",
              "    <tr>\n",
              "      <th>6</th>\n",
              "      <td>February</td>\n",
              "      <td>2308</td>\n",
              "    </tr>\n",
              "    <tr>\n",
              "      <th>7</th>\n",
              "      <td>September</td>\n",
              "      <td>2102</td>\n",
              "    </tr>\n",
              "    <tr>\n",
              "      <th>8</th>\n",
              "      <td>June</td>\n",
              "      <td>2037</td>\n",
              "    </tr>\n",
              "    <tr>\n",
              "      <th>9</th>\n",
              "      <td>December</td>\n",
              "      <td>2014</td>\n",
              "    </tr>\n",
              "    <tr>\n",
              "      <th>10</th>\n",
              "      <td>November</td>\n",
              "      <td>1975</td>\n",
              "    </tr>\n",
              "    <tr>\n",
              "      <th>11</th>\n",
              "      <td>January</td>\n",
              "      <td>1866</td>\n",
              "    </tr>\n",
              "  </tbody>\n",
              "</table>\n",
              "</div>"
            ],
            "text/plain": [
              "        month  no_of_guest\n",
              "0      August         3257\n",
              "1        July         3137\n",
              "2     October         2575\n",
              "3       March         2571\n",
              "4       April         2550\n",
              "5         May         2535\n",
              "6    February         2308\n",
              "7   September         2102\n",
              "8        June         2037\n",
              "9    December         2014\n",
              "10   November         1975\n",
              "11    January         1866"
            ]
          },
          "execution_count": 867,
          "metadata": {},
          "output_type": "execute_result"
        }
      ],
      "source": [
        "rush_resort = data_resort.arrival_date_month.value_counts().reset_index()\n",
        "rush_resort.columns = ['month', 'no_of_guest']\n",
        "rush_resort"
      ]
    },
    {
      "cell_type": "code",
      "execution_count": 868,
      "metadata": {
        "colab": {
          "base_uri": "https://localhost:8080/",
          "height": 425
        },
        "id": "shgDbWgFTLbe",
        "outputId": "4cead17e-9cd2-4e6b-f88b-0b8bc5e6bde4"
      },
      "outputs": [
        {
          "data": {
            "text/html": [
              "<div>\n",
              "<style scoped>\n",
              "    .dataframe tbody tr th:only-of-type {\n",
              "        vertical-align: middle;\n",
              "    }\n",
              "\n",
              "    .dataframe tbody tr th {\n",
              "        vertical-align: top;\n",
              "    }\n",
              "\n",
              "    .dataframe thead th {\n",
              "        text-align: right;\n",
              "    }\n",
              "</style>\n",
              "<table border=\"1\" class=\"dataframe\">\n",
              "  <thead>\n",
              "    <tr style=\"text-align: right;\">\n",
              "      <th></th>\n",
              "      <th>month</th>\n",
              "      <th>no_of_guest</th>\n",
              "    </tr>\n",
              "  </thead>\n",
              "  <tbody>\n",
              "    <tr>\n",
              "      <th>0</th>\n",
              "      <td>August</td>\n",
              "      <td>5367</td>\n",
              "    </tr>\n",
              "    <tr>\n",
              "      <th>1</th>\n",
              "      <td>July</td>\n",
              "      <td>4770</td>\n",
              "    </tr>\n",
              "    <tr>\n",
              "      <th>2</th>\n",
              "      <td>May</td>\n",
              "      <td>4568</td>\n",
              "    </tr>\n",
              "    <tr>\n",
              "      <th>3</th>\n",
              "      <td>June</td>\n",
              "      <td>4358</td>\n",
              "    </tr>\n",
              "    <tr>\n",
              "      <th>4</th>\n",
              "      <td>October</td>\n",
              "      <td>4326</td>\n",
              "    </tr>\n",
              "    <tr>\n",
              "      <th>5</th>\n",
              "      <td>September</td>\n",
              "      <td>4283</td>\n",
              "    </tr>\n",
              "    <tr>\n",
              "      <th>6</th>\n",
              "      <td>March</td>\n",
              "      <td>4049</td>\n",
              "    </tr>\n",
              "    <tr>\n",
              "      <th>7</th>\n",
              "      <td>April</td>\n",
              "      <td>4010</td>\n",
              "    </tr>\n",
              "    <tr>\n",
              "      <th>8</th>\n",
              "      <td>February</td>\n",
              "      <td>3051</td>\n",
              "    </tr>\n",
              "    <tr>\n",
              "      <th>9</th>\n",
              "      <td>November</td>\n",
              "      <td>2676</td>\n",
              "    </tr>\n",
              "    <tr>\n",
              "      <th>10</th>\n",
              "      <td>December</td>\n",
              "      <td>2377</td>\n",
              "    </tr>\n",
              "    <tr>\n",
              "      <th>11</th>\n",
              "      <td>January</td>\n",
              "      <td>2249</td>\n",
              "    </tr>\n",
              "  </tbody>\n",
              "</table>\n",
              "</div>"
            ],
            "text/plain": [
              "        month  no_of_guest\n",
              "0      August         5367\n",
              "1        July         4770\n",
              "2         May         4568\n",
              "3        June         4358\n",
              "4     October         4326\n",
              "5   September         4283\n",
              "6       March         4049\n",
              "7       April         4010\n",
              "8    February         3051\n",
              "9    November         2676\n",
              "10   December         2377\n",
              "11    January         2249"
            ]
          },
          "execution_count": 868,
          "metadata": {},
          "output_type": "execute_result"
        }
      ],
      "source": [
        "rush_city = data_city.arrival_date_month.value_counts().reset_index()\n",
        "rush_city.columns=['month', 'no_of_guest']\n",
        "rush_city"
      ]
    },
    {
      "cell_type": "code",
      "execution_count": 869,
      "metadata": {
        "id": "ge2sMORiTe_x"
      },
      "outputs": [],
      "source": [
        "final_rush = rush_resort.merge(rush_city, on='month')"
      ]
    },
    {
      "cell_type": "code",
      "execution_count": 870,
      "metadata": {
        "id": "t3PyR0rtTroy"
      },
      "outputs": [],
      "source": [
        "final_rush.columns=['month', 'no_of_guest_in_resort', 'no_of_guest_in_city']"
      ]
    },
    {
      "cell_type": "code",
      "execution_count": 871,
      "metadata": {
        "colab": {
          "base_uri": "https://localhost:8080/",
          "height": 425
        },
        "id": "qf2LbMRbT5ML",
        "outputId": "afb1fb94-0e0a-4bac-8851-f6412167729e"
      },
      "outputs": [
        {
          "data": {
            "text/html": [
              "<div>\n",
              "<style scoped>\n",
              "    .dataframe tbody tr th:only-of-type {\n",
              "        vertical-align: middle;\n",
              "    }\n",
              "\n",
              "    .dataframe tbody tr th {\n",
              "        vertical-align: top;\n",
              "    }\n",
              "\n",
              "    .dataframe thead th {\n",
              "        text-align: right;\n",
              "    }\n",
              "</style>\n",
              "<table border=\"1\" class=\"dataframe\">\n",
              "  <thead>\n",
              "    <tr style=\"text-align: right;\">\n",
              "      <th></th>\n",
              "      <th>month</th>\n",
              "      <th>no_of_guest_in_resort</th>\n",
              "      <th>no_of_guest_in_city</th>\n",
              "    </tr>\n",
              "  </thead>\n",
              "  <tbody>\n",
              "    <tr>\n",
              "      <th>0</th>\n",
              "      <td>August</td>\n",
              "      <td>3257</td>\n",
              "      <td>5367</td>\n",
              "    </tr>\n",
              "    <tr>\n",
              "      <th>1</th>\n",
              "      <td>July</td>\n",
              "      <td>3137</td>\n",
              "      <td>4770</td>\n",
              "    </tr>\n",
              "    <tr>\n",
              "      <th>2</th>\n",
              "      <td>October</td>\n",
              "      <td>2575</td>\n",
              "      <td>4326</td>\n",
              "    </tr>\n",
              "    <tr>\n",
              "      <th>3</th>\n",
              "      <td>March</td>\n",
              "      <td>2571</td>\n",
              "      <td>4049</td>\n",
              "    </tr>\n",
              "    <tr>\n",
              "      <th>4</th>\n",
              "      <td>April</td>\n",
              "      <td>2550</td>\n",
              "      <td>4010</td>\n",
              "    </tr>\n",
              "    <tr>\n",
              "      <th>5</th>\n",
              "      <td>May</td>\n",
              "      <td>2535</td>\n",
              "      <td>4568</td>\n",
              "    </tr>\n",
              "    <tr>\n",
              "      <th>6</th>\n",
              "      <td>February</td>\n",
              "      <td>2308</td>\n",
              "      <td>3051</td>\n",
              "    </tr>\n",
              "    <tr>\n",
              "      <th>7</th>\n",
              "      <td>September</td>\n",
              "      <td>2102</td>\n",
              "      <td>4283</td>\n",
              "    </tr>\n",
              "    <tr>\n",
              "      <th>8</th>\n",
              "      <td>June</td>\n",
              "      <td>2037</td>\n",
              "      <td>4358</td>\n",
              "    </tr>\n",
              "    <tr>\n",
              "      <th>9</th>\n",
              "      <td>December</td>\n",
              "      <td>2014</td>\n",
              "      <td>2377</td>\n",
              "    </tr>\n",
              "    <tr>\n",
              "      <th>10</th>\n",
              "      <td>November</td>\n",
              "      <td>1975</td>\n",
              "      <td>2676</td>\n",
              "    </tr>\n",
              "    <tr>\n",
              "      <th>11</th>\n",
              "      <td>January</td>\n",
              "      <td>1866</td>\n",
              "      <td>2249</td>\n",
              "    </tr>\n",
              "  </tbody>\n",
              "</table>\n",
              "</div>"
            ],
            "text/plain": [
              "        month  no_of_guest_in_resort  no_of_guest_in_city\n",
              "0      August                   3257                 5367\n",
              "1        July                   3137                 4770\n",
              "2     October                   2575                 4326\n",
              "3       March                   2571                 4049\n",
              "4       April                   2550                 4010\n",
              "5         May                   2535                 4568\n",
              "6    February                   2308                 3051\n",
              "7   September                   2102                 4283\n",
              "8        June                   2037                 4358\n",
              "9    December                   2014                 2377\n",
              "10   November                   1975                 2676\n",
              "11    January                   1866                 2249"
            ]
          },
          "execution_count": 871,
          "metadata": {},
          "output_type": "execute_result"
        }
      ],
      "source": [
        "final_rush"
      ]
    },
    {
      "cell_type": "code",
      "execution_count": 872,
      "metadata": {
        "id": "5z4FKFSCU8eh"
      },
      "outputs": [],
      "source": [
        "import sort_dataframeby_monthorweek as sd"
      ]
    },
    {
      "cell_type": "code",
      "execution_count": 873,
      "metadata": {
        "id": "FnZYbyqNVFfe"
      },
      "outputs": [],
      "source": [
        "finals_rush = sd.Sort_Dataframeby_Month(final_rush, 'month')"
      ]
    },
    {
      "cell_type": "code",
      "execution_count": 874,
      "metadata": {
        "colab": {
          "base_uri": "https://localhost:8080/"
        },
        "id": "FgrWFHjlVce_",
        "outputId": "15f33592-0c95-4085-9295-b7e56575ee5a"
      },
      "outputs": [
        {
          "data": {
            "text/plain": [
              "Index(['month', 'no_of_guest_in_resort', 'no_of_guest_in_city'], dtype='object')"
            ]
          },
          "execution_count": 874,
          "metadata": {},
          "output_type": "execute_result"
        }
      ],
      "source": [
        "final_rush.columns"
      ]
    },
    {
      "cell_type": "code",
      "execution_count": 875,
      "metadata": {
        "colab": {
          "base_uri": "https://localhost:8080/",
          "height": 542
        },
        "id": "O_bMW8T8VLOm",
        "outputId": "734067f2-b0b7-487e-8d69-d5c562f712b5"
      },
      "outputs": [
        {
          "data": {
            "application/vnd.plotly.v1+json": {
              "config": {
                "plotlyServerURL": "https://plot.ly"
              },
              "data": [
                {
                  "hovertemplate": "variable=no_of_guest_in_resort<br>month=%{x}<br>value=%{y}<extra></extra>",
                  "legendgroup": "no_of_guest_in_resort",
                  "line": {
                    "color": "#636efa",
                    "dash": "solid"
                  },
                  "marker": {
                    "symbol": "circle"
                  },
                  "mode": "lines",
                  "name": "no_of_guest_in_resort",
                  "orientation": "v",
                  "showlegend": true,
                  "type": "scatter",
                  "x": [
                    "August",
                    "July",
                    "October",
                    "March",
                    "April",
                    "May",
                    "February",
                    "September",
                    "June",
                    "December",
                    "November",
                    "January"
                  ],
                  "xaxis": "x",
                  "y": [
                    3257,
                    3137,
                    2575,
                    2571,
                    2550,
                    2535,
                    2308,
                    2102,
                    2037,
                    2014,
                    1975,
                    1866
                  ],
                  "yaxis": "y"
                },
                {
                  "hovertemplate": "variable=no_of_guest_in_city<br>month=%{x}<br>value=%{y}<extra></extra>",
                  "legendgroup": "no_of_guest_in_city",
                  "line": {
                    "color": "#EF553B",
                    "dash": "solid"
                  },
                  "marker": {
                    "symbol": "circle"
                  },
                  "mode": "lines",
                  "name": "no_of_guest_in_city",
                  "orientation": "v",
                  "showlegend": true,
                  "type": "scatter",
                  "x": [
                    "August",
                    "July",
                    "October",
                    "March",
                    "April",
                    "May",
                    "February",
                    "September",
                    "June",
                    "December",
                    "November",
                    "January"
                  ],
                  "xaxis": "x",
                  "y": [
                    5367,
                    4770,
                    4326,
                    4049,
                    4010,
                    4568,
                    3051,
                    4283,
                    4358,
                    2377,
                    2676,
                    2249
                  ],
                  "yaxis": "y"
                }
              ],
              "layout": {
                "legend": {
                  "title": {
                    "text": "variable"
                  },
                  "tracegroupgap": 0
                },
                "margin": {
                  "t": 60
                },
                "template": {
                  "data": {
                    "bar": [
                      {
                        "error_x": {
                          "color": "#2a3f5f"
                        },
                        "error_y": {
                          "color": "#2a3f5f"
                        },
                        "marker": {
                          "line": {
                            "color": "#E5ECF6",
                            "width": 0.5
                          },
                          "pattern": {
                            "fillmode": "overlay",
                            "size": 10,
                            "solidity": 0.2
                          }
                        },
                        "type": "bar"
                      }
                    ],
                    "barpolar": [
                      {
                        "marker": {
                          "line": {
                            "color": "#E5ECF6",
                            "width": 0.5
                          },
                          "pattern": {
                            "fillmode": "overlay",
                            "size": 10,
                            "solidity": 0.2
                          }
                        },
                        "type": "barpolar"
                      }
                    ],
                    "carpet": [
                      {
                        "aaxis": {
                          "endlinecolor": "#2a3f5f",
                          "gridcolor": "white",
                          "linecolor": "white",
                          "minorgridcolor": "white",
                          "startlinecolor": "#2a3f5f"
                        },
                        "baxis": {
                          "endlinecolor": "#2a3f5f",
                          "gridcolor": "white",
                          "linecolor": "white",
                          "minorgridcolor": "white",
                          "startlinecolor": "#2a3f5f"
                        },
                        "type": "carpet"
                      }
                    ],
                    "choropleth": [
                      {
                        "colorbar": {
                          "outlinewidth": 0,
                          "ticks": ""
                        },
                        "type": "choropleth"
                      }
                    ],
                    "contour": [
                      {
                        "colorbar": {
                          "outlinewidth": 0,
                          "ticks": ""
                        },
                        "colorscale": [
                          [
                            0,
                            "#0d0887"
                          ],
                          [
                            0.1111111111111111,
                            "#46039f"
                          ],
                          [
                            0.2222222222222222,
                            "#7201a8"
                          ],
                          [
                            0.3333333333333333,
                            "#9c179e"
                          ],
                          [
                            0.4444444444444444,
                            "#bd3786"
                          ],
                          [
                            0.5555555555555556,
                            "#d8576b"
                          ],
                          [
                            0.6666666666666666,
                            "#ed7953"
                          ],
                          [
                            0.7777777777777778,
                            "#fb9f3a"
                          ],
                          [
                            0.8888888888888888,
                            "#fdca26"
                          ],
                          [
                            1,
                            "#f0f921"
                          ]
                        ],
                        "type": "contour"
                      }
                    ],
                    "contourcarpet": [
                      {
                        "colorbar": {
                          "outlinewidth": 0,
                          "ticks": ""
                        },
                        "type": "contourcarpet"
                      }
                    ],
                    "heatmap": [
                      {
                        "colorbar": {
                          "outlinewidth": 0,
                          "ticks": ""
                        },
                        "colorscale": [
                          [
                            0,
                            "#0d0887"
                          ],
                          [
                            0.1111111111111111,
                            "#46039f"
                          ],
                          [
                            0.2222222222222222,
                            "#7201a8"
                          ],
                          [
                            0.3333333333333333,
                            "#9c179e"
                          ],
                          [
                            0.4444444444444444,
                            "#bd3786"
                          ],
                          [
                            0.5555555555555556,
                            "#d8576b"
                          ],
                          [
                            0.6666666666666666,
                            "#ed7953"
                          ],
                          [
                            0.7777777777777778,
                            "#fb9f3a"
                          ],
                          [
                            0.8888888888888888,
                            "#fdca26"
                          ],
                          [
                            1,
                            "#f0f921"
                          ]
                        ],
                        "type": "heatmap"
                      }
                    ],
                    "heatmapgl": [
                      {
                        "colorbar": {
                          "outlinewidth": 0,
                          "ticks": ""
                        },
                        "colorscale": [
                          [
                            0,
                            "#0d0887"
                          ],
                          [
                            0.1111111111111111,
                            "#46039f"
                          ],
                          [
                            0.2222222222222222,
                            "#7201a8"
                          ],
                          [
                            0.3333333333333333,
                            "#9c179e"
                          ],
                          [
                            0.4444444444444444,
                            "#bd3786"
                          ],
                          [
                            0.5555555555555556,
                            "#d8576b"
                          ],
                          [
                            0.6666666666666666,
                            "#ed7953"
                          ],
                          [
                            0.7777777777777778,
                            "#fb9f3a"
                          ],
                          [
                            0.8888888888888888,
                            "#fdca26"
                          ],
                          [
                            1,
                            "#f0f921"
                          ]
                        ],
                        "type": "heatmapgl"
                      }
                    ],
                    "histogram": [
                      {
                        "marker": {
                          "pattern": {
                            "fillmode": "overlay",
                            "size": 10,
                            "solidity": 0.2
                          }
                        },
                        "type": "histogram"
                      }
                    ],
                    "histogram2d": [
                      {
                        "colorbar": {
                          "outlinewidth": 0,
                          "ticks": ""
                        },
                        "colorscale": [
                          [
                            0,
                            "#0d0887"
                          ],
                          [
                            0.1111111111111111,
                            "#46039f"
                          ],
                          [
                            0.2222222222222222,
                            "#7201a8"
                          ],
                          [
                            0.3333333333333333,
                            "#9c179e"
                          ],
                          [
                            0.4444444444444444,
                            "#bd3786"
                          ],
                          [
                            0.5555555555555556,
                            "#d8576b"
                          ],
                          [
                            0.6666666666666666,
                            "#ed7953"
                          ],
                          [
                            0.7777777777777778,
                            "#fb9f3a"
                          ],
                          [
                            0.8888888888888888,
                            "#fdca26"
                          ],
                          [
                            1,
                            "#f0f921"
                          ]
                        ],
                        "type": "histogram2d"
                      }
                    ],
                    "histogram2dcontour": [
                      {
                        "colorbar": {
                          "outlinewidth": 0,
                          "ticks": ""
                        },
                        "colorscale": [
                          [
                            0,
                            "#0d0887"
                          ],
                          [
                            0.1111111111111111,
                            "#46039f"
                          ],
                          [
                            0.2222222222222222,
                            "#7201a8"
                          ],
                          [
                            0.3333333333333333,
                            "#9c179e"
                          ],
                          [
                            0.4444444444444444,
                            "#bd3786"
                          ],
                          [
                            0.5555555555555556,
                            "#d8576b"
                          ],
                          [
                            0.6666666666666666,
                            "#ed7953"
                          ],
                          [
                            0.7777777777777778,
                            "#fb9f3a"
                          ],
                          [
                            0.8888888888888888,
                            "#fdca26"
                          ],
                          [
                            1,
                            "#f0f921"
                          ]
                        ],
                        "type": "histogram2dcontour"
                      }
                    ],
                    "mesh3d": [
                      {
                        "colorbar": {
                          "outlinewidth": 0,
                          "ticks": ""
                        },
                        "type": "mesh3d"
                      }
                    ],
                    "parcoords": [
                      {
                        "line": {
                          "colorbar": {
                            "outlinewidth": 0,
                            "ticks": ""
                          }
                        },
                        "type": "parcoords"
                      }
                    ],
                    "pie": [
                      {
                        "automargin": true,
                        "type": "pie"
                      }
                    ],
                    "scatter": [
                      {
                        "fillpattern": {
                          "fillmode": "overlay",
                          "size": 10,
                          "solidity": 0.2
                        },
                        "type": "scatter"
                      }
                    ],
                    "scatter3d": [
                      {
                        "line": {
                          "colorbar": {
                            "outlinewidth": 0,
                            "ticks": ""
                          }
                        },
                        "marker": {
                          "colorbar": {
                            "outlinewidth": 0,
                            "ticks": ""
                          }
                        },
                        "type": "scatter3d"
                      }
                    ],
                    "scattercarpet": [
                      {
                        "marker": {
                          "colorbar": {
                            "outlinewidth": 0,
                            "ticks": ""
                          }
                        },
                        "type": "scattercarpet"
                      }
                    ],
                    "scattergeo": [
                      {
                        "marker": {
                          "colorbar": {
                            "outlinewidth": 0,
                            "ticks": ""
                          }
                        },
                        "type": "scattergeo"
                      }
                    ],
                    "scattergl": [
                      {
                        "marker": {
                          "colorbar": {
                            "outlinewidth": 0,
                            "ticks": ""
                          }
                        },
                        "type": "scattergl"
                      }
                    ],
                    "scattermapbox": [
                      {
                        "marker": {
                          "colorbar": {
                            "outlinewidth": 0,
                            "ticks": ""
                          }
                        },
                        "type": "scattermapbox"
                      }
                    ],
                    "scatterpolar": [
                      {
                        "marker": {
                          "colorbar": {
                            "outlinewidth": 0,
                            "ticks": ""
                          }
                        },
                        "type": "scatterpolar"
                      }
                    ],
                    "scatterpolargl": [
                      {
                        "marker": {
                          "colorbar": {
                            "outlinewidth": 0,
                            "ticks": ""
                          }
                        },
                        "type": "scatterpolargl"
                      }
                    ],
                    "scatterternary": [
                      {
                        "marker": {
                          "colorbar": {
                            "outlinewidth": 0,
                            "ticks": ""
                          }
                        },
                        "type": "scatterternary"
                      }
                    ],
                    "surface": [
                      {
                        "colorbar": {
                          "outlinewidth": 0,
                          "ticks": ""
                        },
                        "colorscale": [
                          [
                            0,
                            "#0d0887"
                          ],
                          [
                            0.1111111111111111,
                            "#46039f"
                          ],
                          [
                            0.2222222222222222,
                            "#7201a8"
                          ],
                          [
                            0.3333333333333333,
                            "#9c179e"
                          ],
                          [
                            0.4444444444444444,
                            "#bd3786"
                          ],
                          [
                            0.5555555555555556,
                            "#d8576b"
                          ],
                          [
                            0.6666666666666666,
                            "#ed7953"
                          ],
                          [
                            0.7777777777777778,
                            "#fb9f3a"
                          ],
                          [
                            0.8888888888888888,
                            "#fdca26"
                          ],
                          [
                            1,
                            "#f0f921"
                          ]
                        ],
                        "type": "surface"
                      }
                    ],
                    "table": [
                      {
                        "cells": {
                          "fill": {
                            "color": "#EBF0F8"
                          },
                          "line": {
                            "color": "white"
                          }
                        },
                        "header": {
                          "fill": {
                            "color": "#C8D4E3"
                          },
                          "line": {
                            "color": "white"
                          }
                        },
                        "type": "table"
                      }
                    ]
                  },
                  "layout": {
                    "annotationdefaults": {
                      "arrowcolor": "#2a3f5f",
                      "arrowhead": 0,
                      "arrowwidth": 1
                    },
                    "autotypenumbers": "strict",
                    "coloraxis": {
                      "colorbar": {
                        "outlinewidth": 0,
                        "ticks": ""
                      }
                    },
                    "colorscale": {
                      "diverging": [
                        [
                          0,
                          "#8e0152"
                        ],
                        [
                          0.1,
                          "#c51b7d"
                        ],
                        [
                          0.2,
                          "#de77ae"
                        ],
                        [
                          0.3,
                          "#f1b6da"
                        ],
                        [
                          0.4,
                          "#fde0ef"
                        ],
                        [
                          0.5,
                          "#f7f7f7"
                        ],
                        [
                          0.6,
                          "#e6f5d0"
                        ],
                        [
                          0.7,
                          "#b8e186"
                        ],
                        [
                          0.8,
                          "#7fbc41"
                        ],
                        [
                          0.9,
                          "#4d9221"
                        ],
                        [
                          1,
                          "#276419"
                        ]
                      ],
                      "sequential": [
                        [
                          0,
                          "#0d0887"
                        ],
                        [
                          0.1111111111111111,
                          "#46039f"
                        ],
                        [
                          0.2222222222222222,
                          "#7201a8"
                        ],
                        [
                          0.3333333333333333,
                          "#9c179e"
                        ],
                        [
                          0.4444444444444444,
                          "#bd3786"
                        ],
                        [
                          0.5555555555555556,
                          "#d8576b"
                        ],
                        [
                          0.6666666666666666,
                          "#ed7953"
                        ],
                        [
                          0.7777777777777778,
                          "#fb9f3a"
                        ],
                        [
                          0.8888888888888888,
                          "#fdca26"
                        ],
                        [
                          1,
                          "#f0f921"
                        ]
                      ],
                      "sequentialminus": [
                        [
                          0,
                          "#0d0887"
                        ],
                        [
                          0.1111111111111111,
                          "#46039f"
                        ],
                        [
                          0.2222222222222222,
                          "#7201a8"
                        ],
                        [
                          0.3333333333333333,
                          "#9c179e"
                        ],
                        [
                          0.4444444444444444,
                          "#bd3786"
                        ],
                        [
                          0.5555555555555556,
                          "#d8576b"
                        ],
                        [
                          0.6666666666666666,
                          "#ed7953"
                        ],
                        [
                          0.7777777777777778,
                          "#fb9f3a"
                        ],
                        [
                          0.8888888888888888,
                          "#fdca26"
                        ],
                        [
                          1,
                          "#f0f921"
                        ]
                      ]
                    },
                    "colorway": [
                      "#636efa",
                      "#EF553B",
                      "#00cc96",
                      "#ab63fa",
                      "#FFA15A",
                      "#19d3f3",
                      "#FF6692",
                      "#B6E880",
                      "#FF97FF",
                      "#FECB52"
                    ],
                    "font": {
                      "color": "#2a3f5f"
                    },
                    "geo": {
                      "bgcolor": "white",
                      "lakecolor": "white",
                      "landcolor": "#E5ECF6",
                      "showlakes": true,
                      "showland": true,
                      "subunitcolor": "white"
                    },
                    "hoverlabel": {
                      "align": "left"
                    },
                    "hovermode": "closest",
                    "mapbox": {
                      "style": "light"
                    },
                    "paper_bgcolor": "white",
                    "plot_bgcolor": "#E5ECF6",
                    "polar": {
                      "angularaxis": {
                        "gridcolor": "white",
                        "linecolor": "white",
                        "ticks": ""
                      },
                      "bgcolor": "#E5ECF6",
                      "radialaxis": {
                        "gridcolor": "white",
                        "linecolor": "white",
                        "ticks": ""
                      }
                    },
                    "scene": {
                      "xaxis": {
                        "backgroundcolor": "#E5ECF6",
                        "gridcolor": "white",
                        "gridwidth": 2,
                        "linecolor": "white",
                        "showbackground": true,
                        "ticks": "",
                        "zerolinecolor": "white"
                      },
                      "yaxis": {
                        "backgroundcolor": "#E5ECF6",
                        "gridcolor": "white",
                        "gridwidth": 2,
                        "linecolor": "white",
                        "showbackground": true,
                        "ticks": "",
                        "zerolinecolor": "white"
                      },
                      "zaxis": {
                        "backgroundcolor": "#E5ECF6",
                        "gridcolor": "white",
                        "gridwidth": 2,
                        "linecolor": "white",
                        "showbackground": true,
                        "ticks": "",
                        "zerolinecolor": "white"
                      }
                    },
                    "shapedefaults": {
                      "line": {
                        "color": "#2a3f5f"
                      }
                    },
                    "ternary": {
                      "aaxis": {
                        "gridcolor": "white",
                        "linecolor": "white",
                        "ticks": ""
                      },
                      "baxis": {
                        "gridcolor": "white",
                        "linecolor": "white",
                        "ticks": ""
                      },
                      "bgcolor": "#E5ECF6",
                      "caxis": {
                        "gridcolor": "white",
                        "linecolor": "white",
                        "ticks": ""
                      }
                    },
                    "title": {
                      "x": 0.05
                    },
                    "xaxis": {
                      "automargin": true,
                      "gridcolor": "white",
                      "linecolor": "white",
                      "ticks": "",
                      "title": {
                        "standoff": 15
                      },
                      "zerolinecolor": "white",
                      "zerolinewidth": 2
                    },
                    "yaxis": {
                      "automargin": true,
                      "gridcolor": "white",
                      "linecolor": "white",
                      "ticks": "",
                      "title": {
                        "standoff": 15
                      },
                      "zerolinecolor": "white",
                      "zerolinewidth": 2
                    }
                  }
                },
                "xaxis": {
                  "anchor": "y",
                  "domain": [
                    0,
                    1
                  ],
                  "title": {
                    "text": "month"
                  }
                },
                "yaxis": {
                  "anchor": "x",
                  "domain": [
                    0,
                    1
                  ],
                  "title": {
                    "text": "value"
                  }
                }
              }
            },
            "text/html": [
              "<div>                            <div id=\"ab19fd3f-6ff2-49d8-b2ed-6bf078a52942\" class=\"plotly-graph-div\" style=\"height:525px; width:100%;\"></div>            <script type=\"text/javascript\">                require([\"plotly\"], function(Plotly) {                    window.PLOTLYENV=window.PLOTLYENV || {};                                    if (document.getElementById(\"ab19fd3f-6ff2-49d8-b2ed-6bf078a52942\")) {                    Plotly.newPlot(                        \"ab19fd3f-6ff2-49d8-b2ed-6bf078a52942\",                        [{\"hovertemplate\":\"variable=no_of_guest_in_resort\\u003cbr\\u003emonth=%{x}\\u003cbr\\u003evalue=%{y}\\u003cextra\\u003e\\u003c\\u002fextra\\u003e\",\"legendgroup\":\"no_of_guest_in_resort\",\"line\":{\"color\":\"#636efa\",\"dash\":\"solid\"},\"marker\":{\"symbol\":\"circle\"},\"mode\":\"lines\",\"name\":\"no_of_guest_in_resort\",\"orientation\":\"v\",\"showlegend\":true,\"x\":[\"August\",\"July\",\"October\",\"March\",\"April\",\"May\",\"February\",\"September\",\"June\",\"December\",\"November\",\"January\"],\"xaxis\":\"x\",\"y\":[3257,3137,2575,2571,2550,2535,2308,2102,2037,2014,1975,1866],\"yaxis\":\"y\",\"type\":\"scatter\"},{\"hovertemplate\":\"variable=no_of_guest_in_city\\u003cbr\\u003emonth=%{x}\\u003cbr\\u003evalue=%{y}\\u003cextra\\u003e\\u003c\\u002fextra\\u003e\",\"legendgroup\":\"no_of_guest_in_city\",\"line\":{\"color\":\"#EF553B\",\"dash\":\"solid\"},\"marker\":{\"symbol\":\"circle\"},\"mode\":\"lines\",\"name\":\"no_of_guest_in_city\",\"orientation\":\"v\",\"showlegend\":true,\"x\":[\"August\",\"July\",\"October\",\"March\",\"April\",\"May\",\"February\",\"September\",\"June\",\"December\",\"November\",\"January\"],\"xaxis\":\"x\",\"y\":[5367,4770,4326,4049,4010,4568,3051,4283,4358,2377,2676,2249],\"yaxis\":\"y\",\"type\":\"scatter\"}],                        {\"template\":{\"data\":{\"histogram2dcontour\":[{\"type\":\"histogram2dcontour\",\"colorbar\":{\"outlinewidth\":0,\"ticks\":\"\"},\"colorscale\":[[0.0,\"#0d0887\"],[0.1111111111111111,\"#46039f\"],[0.2222222222222222,\"#7201a8\"],[0.3333333333333333,\"#9c179e\"],[0.4444444444444444,\"#bd3786\"],[0.5555555555555556,\"#d8576b\"],[0.6666666666666666,\"#ed7953\"],[0.7777777777777778,\"#fb9f3a\"],[0.8888888888888888,\"#fdca26\"],[1.0,\"#f0f921\"]]}],\"choropleth\":[{\"type\":\"choropleth\",\"colorbar\":{\"outlinewidth\":0,\"ticks\":\"\"}}],\"histogram2d\":[{\"type\":\"histogram2d\",\"colorbar\":{\"outlinewidth\":0,\"ticks\":\"\"},\"colorscale\":[[0.0,\"#0d0887\"],[0.1111111111111111,\"#46039f\"],[0.2222222222222222,\"#7201a8\"],[0.3333333333333333,\"#9c179e\"],[0.4444444444444444,\"#bd3786\"],[0.5555555555555556,\"#d8576b\"],[0.6666666666666666,\"#ed7953\"],[0.7777777777777778,\"#fb9f3a\"],[0.8888888888888888,\"#fdca26\"],[1.0,\"#f0f921\"]]}],\"heatmap\":[{\"type\":\"heatmap\",\"colorbar\":{\"outlinewidth\":0,\"ticks\":\"\"},\"colorscale\":[[0.0,\"#0d0887\"],[0.1111111111111111,\"#46039f\"],[0.2222222222222222,\"#7201a8\"],[0.3333333333333333,\"#9c179e\"],[0.4444444444444444,\"#bd3786\"],[0.5555555555555556,\"#d8576b\"],[0.6666666666666666,\"#ed7953\"],[0.7777777777777778,\"#fb9f3a\"],[0.8888888888888888,\"#fdca26\"],[1.0,\"#f0f921\"]]}],\"heatmapgl\":[{\"type\":\"heatmapgl\",\"colorbar\":{\"outlinewidth\":0,\"ticks\":\"\"},\"colorscale\":[[0.0,\"#0d0887\"],[0.1111111111111111,\"#46039f\"],[0.2222222222222222,\"#7201a8\"],[0.3333333333333333,\"#9c179e\"],[0.4444444444444444,\"#bd3786\"],[0.5555555555555556,\"#d8576b\"],[0.6666666666666666,\"#ed7953\"],[0.7777777777777778,\"#fb9f3a\"],[0.8888888888888888,\"#fdca26\"],[1.0,\"#f0f921\"]]}],\"contourcarpet\":[{\"type\":\"contourcarpet\",\"colorbar\":{\"outlinewidth\":0,\"ticks\":\"\"}}],\"contour\":[{\"type\":\"contour\",\"colorbar\":{\"outlinewidth\":0,\"ticks\":\"\"},\"colorscale\":[[0.0,\"#0d0887\"],[0.1111111111111111,\"#46039f\"],[0.2222222222222222,\"#7201a8\"],[0.3333333333333333,\"#9c179e\"],[0.4444444444444444,\"#bd3786\"],[0.5555555555555556,\"#d8576b\"],[0.6666666666666666,\"#ed7953\"],[0.7777777777777778,\"#fb9f3a\"],[0.8888888888888888,\"#fdca26\"],[1.0,\"#f0f921\"]]}],\"surface\":[{\"type\":\"surface\",\"colorbar\":{\"outlinewidth\":0,\"ticks\":\"\"},\"colorscale\":[[0.0,\"#0d0887\"],[0.1111111111111111,\"#46039f\"],[0.2222222222222222,\"#7201a8\"],[0.3333333333333333,\"#9c179e\"],[0.4444444444444444,\"#bd3786\"],[0.5555555555555556,\"#d8576b\"],[0.6666666666666666,\"#ed7953\"],[0.7777777777777778,\"#fb9f3a\"],[0.8888888888888888,\"#fdca26\"],[1.0,\"#f0f921\"]]}],\"mesh3d\":[{\"type\":\"mesh3d\",\"colorbar\":{\"outlinewidth\":0,\"ticks\":\"\"}}],\"scatter\":[{\"fillpattern\":{\"fillmode\":\"overlay\",\"size\":10,\"solidity\":0.2},\"type\":\"scatter\"}],\"parcoords\":[{\"type\":\"parcoords\",\"line\":{\"colorbar\":{\"outlinewidth\":0,\"ticks\":\"\"}}}],\"scatterpolargl\":[{\"type\":\"scatterpolargl\",\"marker\":{\"colorbar\":{\"outlinewidth\":0,\"ticks\":\"\"}}}],\"bar\":[{\"error_x\":{\"color\":\"#2a3f5f\"},\"error_y\":{\"color\":\"#2a3f5f\"},\"marker\":{\"line\":{\"color\":\"#E5ECF6\",\"width\":0.5},\"pattern\":{\"fillmode\":\"overlay\",\"size\":10,\"solidity\":0.2}},\"type\":\"bar\"}],\"scattergeo\":[{\"type\":\"scattergeo\",\"marker\":{\"colorbar\":{\"outlinewidth\":0,\"ticks\":\"\"}}}],\"scatterpolar\":[{\"type\":\"scatterpolar\",\"marker\":{\"colorbar\":{\"outlinewidth\":0,\"ticks\":\"\"}}}],\"histogram\":[{\"marker\":{\"pattern\":{\"fillmode\":\"overlay\",\"size\":10,\"solidity\":0.2}},\"type\":\"histogram\"}],\"scattergl\":[{\"type\":\"scattergl\",\"marker\":{\"colorbar\":{\"outlinewidth\":0,\"ticks\":\"\"}}}],\"scatter3d\":[{\"type\":\"scatter3d\",\"line\":{\"colorbar\":{\"outlinewidth\":0,\"ticks\":\"\"}},\"marker\":{\"colorbar\":{\"outlinewidth\":0,\"ticks\":\"\"}}}],\"scattermapbox\":[{\"type\":\"scattermapbox\",\"marker\":{\"colorbar\":{\"outlinewidth\":0,\"ticks\":\"\"}}}],\"scatterternary\":[{\"type\":\"scatterternary\",\"marker\":{\"colorbar\":{\"outlinewidth\":0,\"ticks\":\"\"}}}],\"scattercarpet\":[{\"type\":\"scattercarpet\",\"marker\":{\"colorbar\":{\"outlinewidth\":0,\"ticks\":\"\"}}}],\"carpet\":[{\"aaxis\":{\"endlinecolor\":\"#2a3f5f\",\"gridcolor\":\"white\",\"linecolor\":\"white\",\"minorgridcolor\":\"white\",\"startlinecolor\":\"#2a3f5f\"},\"baxis\":{\"endlinecolor\":\"#2a3f5f\",\"gridcolor\":\"white\",\"linecolor\":\"white\",\"minorgridcolor\":\"white\",\"startlinecolor\":\"#2a3f5f\"},\"type\":\"carpet\"}],\"table\":[{\"cells\":{\"fill\":{\"color\":\"#EBF0F8\"},\"line\":{\"color\":\"white\"}},\"header\":{\"fill\":{\"color\":\"#C8D4E3\"},\"line\":{\"color\":\"white\"}},\"type\":\"table\"}],\"barpolar\":[{\"marker\":{\"line\":{\"color\":\"#E5ECF6\",\"width\":0.5},\"pattern\":{\"fillmode\":\"overlay\",\"size\":10,\"solidity\":0.2}},\"type\":\"barpolar\"}],\"pie\":[{\"automargin\":true,\"type\":\"pie\"}]},\"layout\":{\"autotypenumbers\":\"strict\",\"colorway\":[\"#636efa\",\"#EF553B\",\"#00cc96\",\"#ab63fa\",\"#FFA15A\",\"#19d3f3\",\"#FF6692\",\"#B6E880\",\"#FF97FF\",\"#FECB52\"],\"font\":{\"color\":\"#2a3f5f\"},\"hovermode\":\"closest\",\"hoverlabel\":{\"align\":\"left\"},\"paper_bgcolor\":\"white\",\"plot_bgcolor\":\"#E5ECF6\",\"polar\":{\"bgcolor\":\"#E5ECF6\",\"angularaxis\":{\"gridcolor\":\"white\",\"linecolor\":\"white\",\"ticks\":\"\"},\"radialaxis\":{\"gridcolor\":\"white\",\"linecolor\":\"white\",\"ticks\":\"\"}},\"ternary\":{\"bgcolor\":\"#E5ECF6\",\"aaxis\":{\"gridcolor\":\"white\",\"linecolor\":\"white\",\"ticks\":\"\"},\"baxis\":{\"gridcolor\":\"white\",\"linecolor\":\"white\",\"ticks\":\"\"},\"caxis\":{\"gridcolor\":\"white\",\"linecolor\":\"white\",\"ticks\":\"\"}},\"coloraxis\":{\"colorbar\":{\"outlinewidth\":0,\"ticks\":\"\"}},\"colorscale\":{\"sequential\":[[0.0,\"#0d0887\"],[0.1111111111111111,\"#46039f\"],[0.2222222222222222,\"#7201a8\"],[0.3333333333333333,\"#9c179e\"],[0.4444444444444444,\"#bd3786\"],[0.5555555555555556,\"#d8576b\"],[0.6666666666666666,\"#ed7953\"],[0.7777777777777778,\"#fb9f3a\"],[0.8888888888888888,\"#fdca26\"],[1.0,\"#f0f921\"]],\"sequentialminus\":[[0.0,\"#0d0887\"],[0.1111111111111111,\"#46039f\"],[0.2222222222222222,\"#7201a8\"],[0.3333333333333333,\"#9c179e\"],[0.4444444444444444,\"#bd3786\"],[0.5555555555555556,\"#d8576b\"],[0.6666666666666666,\"#ed7953\"],[0.7777777777777778,\"#fb9f3a\"],[0.8888888888888888,\"#fdca26\"],[1.0,\"#f0f921\"]],\"diverging\":[[0,\"#8e0152\"],[0.1,\"#c51b7d\"],[0.2,\"#de77ae\"],[0.3,\"#f1b6da\"],[0.4,\"#fde0ef\"],[0.5,\"#f7f7f7\"],[0.6,\"#e6f5d0\"],[0.7,\"#b8e186\"],[0.8,\"#7fbc41\"],[0.9,\"#4d9221\"],[1,\"#276419\"]]},\"xaxis\":{\"gridcolor\":\"white\",\"linecolor\":\"white\",\"ticks\":\"\",\"title\":{\"standoff\":15},\"zerolinecolor\":\"white\",\"automargin\":true,\"zerolinewidth\":2},\"yaxis\":{\"gridcolor\":\"white\",\"linecolor\":\"white\",\"ticks\":\"\",\"title\":{\"standoff\":15},\"zerolinecolor\":\"white\",\"automargin\":true,\"zerolinewidth\":2},\"scene\":{\"xaxis\":{\"backgroundcolor\":\"#E5ECF6\",\"gridcolor\":\"white\",\"linecolor\":\"white\",\"showbackground\":true,\"ticks\":\"\",\"zerolinecolor\":\"white\",\"gridwidth\":2},\"yaxis\":{\"backgroundcolor\":\"#E5ECF6\",\"gridcolor\":\"white\",\"linecolor\":\"white\",\"showbackground\":true,\"ticks\":\"\",\"zerolinecolor\":\"white\",\"gridwidth\":2},\"zaxis\":{\"backgroundcolor\":\"#E5ECF6\",\"gridcolor\":\"white\",\"linecolor\":\"white\",\"showbackground\":true,\"ticks\":\"\",\"zerolinecolor\":\"white\",\"gridwidth\":2}},\"shapedefaults\":{\"line\":{\"color\":\"#2a3f5f\"}},\"annotationdefaults\":{\"arrowcolor\":\"#2a3f5f\",\"arrowhead\":0,\"arrowwidth\":1},\"geo\":{\"bgcolor\":\"white\",\"landcolor\":\"#E5ECF6\",\"subunitcolor\":\"white\",\"showland\":true,\"showlakes\":true,\"lakecolor\":\"white\"},\"title\":{\"x\":0.05},\"mapbox\":{\"style\":\"light\"}}},\"xaxis\":{\"anchor\":\"y\",\"domain\":[0.0,1.0],\"title\":{\"text\":\"month\"}},\"yaxis\":{\"anchor\":\"x\",\"domain\":[0.0,1.0],\"title\":{\"text\":\"value\"}},\"legend\":{\"title\":{\"text\":\"variable\"},\"tracegroupgap\":0},\"margin\":{\"t\":60}},                        {\"responsive\": true}                    ).then(function(){\n",
              "                            \n",
              "var gd = document.getElementById('ab19fd3f-6ff2-49d8-b2ed-6bf078a52942');\n",
              "var x = new MutationObserver(function (mutations, observer) {{\n",
              "        var display = window.getComputedStyle(gd).display;\n",
              "        if (!display || display === 'none') {{\n",
              "            console.log([gd, 'removed!']);\n",
              "            Plotly.purge(gd);\n",
              "            observer.disconnect();\n",
              "        }}\n",
              "}});\n",
              "\n",
              "// Listen for the removal of the full notebook cells\n",
              "var notebookContainer = gd.closest('#notebook-container');\n",
              "if (notebookContainer) {{\n",
              "    x.observe(notebookContainer, {childList: true});\n",
              "}}\n",
              "\n",
              "// Listen for the clearing of the current output cell\n",
              "var outputEl = gd.closest('.output');\n",
              "if (outputEl) {{\n",
              "    x.observe(outputEl, {childList: true});\n",
              "}}\n",
              "\n",
              "                        })                };                });            </script>        </div>"
            ]
          },
          "metadata": {},
          "output_type": "display_data"
        }
      ],
      "source": [
        "fig = px.line(final_rush, x='month', y=['no_of_guest_in_resort', 'no_of_guest_in_city'])\n",
        "fig.show()"
      ]
    },
    {
      "cell_type": "code",
      "execution_count": 876,
      "metadata": {
        "id": "IcxYcFmUVfi7"
      },
      "outputs": [],
      "source": [
        "# which month has highest 'adr'"
      ]
    },
    {
      "cell_type": "code",
      "execution_count": 877,
      "metadata": {
        "id": "SP3DV3CKVxYq"
      },
      "outputs": [],
      "source": [
        "data = sd.Sort_Dataframeby_Month(data, 'arrival_date_month')"
      ]
    },
    {
      "cell_type": "code",
      "execution_count": 878,
      "metadata": {},
      "outputs": [
        {
          "data": {
            "text/html": [
              "<div>\n",
              "<style scoped>\n",
              "    .dataframe tbody tr th:only-of-type {\n",
              "        vertical-align: middle;\n",
              "    }\n",
              "\n",
              "    .dataframe tbody tr th {\n",
              "        vertical-align: top;\n",
              "    }\n",
              "\n",
              "    .dataframe thead th {\n",
              "        text-align: right;\n",
              "    }\n",
              "</style>\n",
              "<table border=\"1\" class=\"dataframe\">\n",
              "  <thead>\n",
              "    <tr style=\"text-align: right;\">\n",
              "      <th></th>\n",
              "      <th>hotel</th>\n",
              "      <th>is_canceled</th>\n",
              "      <th>lead_time</th>\n",
              "      <th>arrival_date_year</th>\n",
              "      <th>arrival_date_month</th>\n",
              "      <th>arrival_date_week_number</th>\n",
              "      <th>arrival_date_day_of_month</th>\n",
              "      <th>stays_in_weekend_nights</th>\n",
              "      <th>stays_in_week_nights</th>\n",
              "      <th>adults</th>\n",
              "      <th>...</th>\n",
              "      <th>assigned_room_type</th>\n",
              "      <th>booking_changes</th>\n",
              "      <th>deposit_type</th>\n",
              "      <th>days_in_waiting_list</th>\n",
              "      <th>customer_type</th>\n",
              "      <th>adr</th>\n",
              "      <th>required_car_parking_spaces</th>\n",
              "      <th>total_of_special_requests</th>\n",
              "      <th>reservation_status</th>\n",
              "      <th>reservation_status_date</th>\n",
              "    </tr>\n",
              "  </thead>\n",
              "  <tbody>\n",
              "    <tr>\n",
              "      <th>0</th>\n",
              "      <td>Resort Hotel</td>\n",
              "      <td>0</td>\n",
              "      <td>109</td>\n",
              "      <td>2016</td>\n",
              "      <td>January</td>\n",
              "      <td>1</td>\n",
              "      <td>1</td>\n",
              "      <td>0</td>\n",
              "      <td>1</td>\n",
              "      <td>2</td>\n",
              "      <td>...</td>\n",
              "      <td>D</td>\n",
              "      <td>0</td>\n",
              "      <td>No Deposit</td>\n",
              "      <td>0</td>\n",
              "      <td>Transient-Party</td>\n",
              "      <td>59.94</td>\n",
              "      <td>0</td>\n",
              "      <td>1</td>\n",
              "      <td>Check-Out</td>\n",
              "      <td>1/2/2016</td>\n",
              "    </tr>\n",
              "    <tr>\n",
              "      <th>1</th>\n",
              "      <td>Resort Hotel</td>\n",
              "      <td>0</td>\n",
              "      <td>109</td>\n",
              "      <td>2016</td>\n",
              "      <td>January</td>\n",
              "      <td>1</td>\n",
              "      <td>1</td>\n",
              "      <td>0</td>\n",
              "      <td>1</td>\n",
              "      <td>2</td>\n",
              "      <td>...</td>\n",
              "      <td>H</td>\n",
              "      <td>0</td>\n",
              "      <td>No Deposit</td>\n",
              "      <td>0</td>\n",
              "      <td>Transient-Party</td>\n",
              "      <td>116.10</td>\n",
              "      <td>1</td>\n",
              "      <td>1</td>\n",
              "      <td>Check-Out</td>\n",
              "      <td>1/2/2016</td>\n",
              "    </tr>\n",
              "    <tr>\n",
              "      <th>2</th>\n",
              "      <td>Resort Hotel</td>\n",
              "      <td>1</td>\n",
              "      <td>2</td>\n",
              "      <td>2016</td>\n",
              "      <td>January</td>\n",
              "      <td>1</td>\n",
              "      <td>1</td>\n",
              "      <td>0</td>\n",
              "      <td>1</td>\n",
              "      <td>2</td>\n",
              "      <td>...</td>\n",
              "      <td>D</td>\n",
              "      <td>0</td>\n",
              "      <td>No Deposit</td>\n",
              "      <td>0</td>\n",
              "      <td>Transient</td>\n",
              "      <td>89.00</td>\n",
              "      <td>0</td>\n",
              "      <td>1</td>\n",
              "      <td>No-Show</td>\n",
              "      <td>1/1/2016</td>\n",
              "    </tr>\n",
              "    <tr>\n",
              "      <th>3</th>\n",
              "      <td>Resort Hotel</td>\n",
              "      <td>0</td>\n",
              "      <td>88</td>\n",
              "      <td>2016</td>\n",
              "      <td>January</td>\n",
              "      <td>1</td>\n",
              "      <td>1</td>\n",
              "      <td>0</td>\n",
              "      <td>2</td>\n",
              "      <td>2</td>\n",
              "      <td>...</td>\n",
              "      <td>D</td>\n",
              "      <td>0</td>\n",
              "      <td>No Deposit</td>\n",
              "      <td>0</td>\n",
              "      <td>Transient</td>\n",
              "      <td>73.46</td>\n",
              "      <td>0</td>\n",
              "      <td>2</td>\n",
              "      <td>Check-Out</td>\n",
              "      <td>1/3/2016</td>\n",
              "    </tr>\n",
              "    <tr>\n",
              "      <th>4</th>\n",
              "      <td>Resort Hotel</td>\n",
              "      <td>1</td>\n",
              "      <td>20</td>\n",
              "      <td>2016</td>\n",
              "      <td>January</td>\n",
              "      <td>1</td>\n",
              "      <td>1</td>\n",
              "      <td>0</td>\n",
              "      <td>2</td>\n",
              "      <td>2</td>\n",
              "      <td>...</td>\n",
              "      <td>G</td>\n",
              "      <td>0</td>\n",
              "      <td>No Deposit</td>\n",
              "      <td>0</td>\n",
              "      <td>Transient</td>\n",
              "      <td>119.00</td>\n",
              "      <td>0</td>\n",
              "      <td>0</td>\n",
              "      <td>Canceled</td>\n",
              "      <td>12/22/2015</td>\n",
              "    </tr>\n",
              "  </tbody>\n",
              "</table>\n",
              "<p>5 rows × 30 columns</p>\n",
              "</div>"
            ],
            "text/plain": [
              "          hotel  is_canceled  lead_time  arrival_date_year arrival_date_month  \\\n",
              "0  Resort Hotel            0        109               2016            January   \n",
              "1  Resort Hotel            0        109               2016            January   \n",
              "2  Resort Hotel            1          2               2016            January   \n",
              "3  Resort Hotel            0         88               2016            January   \n",
              "4  Resort Hotel            1         20               2016            January   \n",
              "\n",
              "   arrival_date_week_number  arrival_date_day_of_month  \\\n",
              "0                         1                          1   \n",
              "1                         1                          1   \n",
              "2                         1                          1   \n",
              "3                         1                          1   \n",
              "4                         1                          1   \n",
              "\n",
              "   stays_in_weekend_nights  stays_in_week_nights  adults  ...  \\\n",
              "0                        0                     1       2  ...   \n",
              "1                        0                     1       2  ...   \n",
              "2                        0                     1       2  ...   \n",
              "3                        0                     2       2  ...   \n",
              "4                        0                     2       2  ...   \n",
              "\n",
              "   assigned_room_type  booking_changes deposit_type days_in_waiting_list  \\\n",
              "0                   D                0   No Deposit                    0   \n",
              "1                   H                0   No Deposit                    0   \n",
              "2                   D                0   No Deposit                    0   \n",
              "3                   D                0   No Deposit                    0   \n",
              "4                   G                0   No Deposit                    0   \n",
              "\n",
              "     customer_type     adr  required_car_parking_spaces  \\\n",
              "0  Transient-Party   59.94                            0   \n",
              "1  Transient-Party  116.10                            1   \n",
              "2        Transient   89.00                            0   \n",
              "3        Transient   73.46                            0   \n",
              "4        Transient  119.00                            0   \n",
              "\n",
              "   total_of_special_requests  reservation_status reservation_status_date  \n",
              "0                          1           Check-Out                1/2/2016  \n",
              "1                          1           Check-Out                1/2/2016  \n",
              "2                          1             No-Show                1/1/2016  \n",
              "3                          2           Check-Out                1/3/2016  \n",
              "4                          0            Canceled              12/22/2015  \n",
              "\n",
              "[5 rows x 30 columns]"
            ]
          },
          "execution_count": 878,
          "metadata": {},
          "output_type": "execute_result"
        }
      ],
      "source": [
        "data.head()"
      ]
    },
    {
      "cell_type": "code",
      "execution_count": 879,
      "metadata": {
        "colab": {
          "base_uri": "https://localhost:8080/",
          "height": 512
        },
        "id": "xgecRsDFV2mB",
        "outputId": "30dbbd25-e7a1-4e0d-a554-077b99d36085"
      },
      "outputs": [
        {
          "data": {
            "image/png": "[encoded data removed]",
            "text/plain": [
              "<Figure size 640x480 with 1 Axes>"
            ]
          },
          "metadata": {},
          "output_type": "display_data"
        }
      ],
      "source": [
        "sns.barplot(x='arrival_date_month', y='adr', data=data, hue='is_canceled')\n",
        "plt.xticks(rotation='vertical')\n",
        "plt.show()"
      ]
    },
    {
      "cell_type": "code",
      "execution_count": 880,
      "metadata": {
        "colab": {
          "base_uri": "https://localhost:8080/",
          "height": 560
        },
        "id": "pk3L2IRPWXHw",
        "outputId": "337dc274-dec5-47e3-b193-17aeb9138f86"
      },
      "outputs": [
        {
          "data": {
            "image/png": "[encoded data removed]",
            "text/plain": [
              "<Figure size 1200x800 with 1 Axes>"
            ]
          },
          "metadata": {},
          "output_type": "display_data"
        }
      ],
      "source": [
        "plt.figure(figsize=(12,8))\n",
        "sns.boxplot(x='arrival_date_month', y='adr', data=data, hue='is_canceled')\n",
        "plt.xticks(rotation='vertical')\n",
        "\n",
        "plt.ylim(0,800)\n",
        "plt.show()"
      ]
    },
    {
      "cell_type": "code",
      "execution_count": 881,
      "metadata": {
        "id": "3HrCKGWgWxAt"
      },
      "outputs": [],
      "source": [
        "# analyse whether bookings were made only for weekdays or for weekends or for both"
      ]
    },
    {
      "cell_type": "code",
      "execution_count": 882,
      "metadata": {
        "colab": {
          "base_uri": "https://localhost:8080/",
          "height": 663
        },
        "id": "lzeN1bzZW6DG",
        "outputId": "2f511bd6-ae39-44ac-940d-5cb5730f4e98"
      },
      "outputs": [
        {
          "data": {
            "text/html": [
              "<div>\n",
              "<style scoped>\n",
              "    .dataframe tbody tr th:only-of-type {\n",
              "        vertical-align: middle;\n",
              "    }\n",
              "\n",
              "    .dataframe tbody tr th {\n",
              "        vertical-align: top;\n",
              "    }\n",
              "\n",
              "    .dataframe thead th {\n",
              "        text-align: right;\n",
              "    }\n",
              "</style>\n",
              "<table border=\"1\" class=\"dataframe\">\n",
              "  <thead>\n",
              "    <tr style=\"text-align: right;\">\n",
              "      <th>stays_in_week_nights</th>\n",
              "      <th>0</th>\n",
              "      <th>1</th>\n",
              "      <th>2</th>\n",
              "      <th>3</th>\n",
              "      <th>4</th>\n",
              "      <th>5</th>\n",
              "      <th>6</th>\n",
              "      <th>7</th>\n",
              "      <th>8</th>\n",
              "      <th>9</th>\n",
              "      <th>...</th>\n",
              "      <th>24</th>\n",
              "      <th>25</th>\n",
              "      <th>26</th>\n",
              "      <th>30</th>\n",
              "      <th>32</th>\n",
              "      <th>33</th>\n",
              "      <th>34</th>\n",
              "      <th>40</th>\n",
              "      <th>42</th>\n",
              "      <th>50</th>\n",
              "    </tr>\n",
              "    <tr>\n",
              "      <th>stays_in_weekend_nights</th>\n",
              "      <th></th>\n",
              "      <th></th>\n",
              "      <th></th>\n",
              "      <th></th>\n",
              "      <th></th>\n",
              "      <th></th>\n",
              "      <th></th>\n",
              "      <th></th>\n",
              "      <th></th>\n",
              "      <th></th>\n",
              "      <th></th>\n",
              "      <th></th>\n",
              "      <th></th>\n",
              "      <th></th>\n",
              "      <th></th>\n",
              "      <th></th>\n",
              "      <th></th>\n",
              "      <th></th>\n",
              "      <th></th>\n",
              "      <th></th>\n",
              "      <th></th>\n",
              "    </tr>\n",
              "  </thead>\n",
              "  <tbody>\n",
              "    <tr>\n",
              "      <th>0</th>\n",
              "      <td>645</td>\n",
              "      <td>16436</td>\n",
              "      <td>17949</td>\n",
              "      <td>11557</td>\n",
              "      <td>4478</td>\n",
              "      <td>830</td>\n",
              "      <td>0</td>\n",
              "      <td>0</td>\n",
              "      <td>0</td>\n",
              "      <td>0</td>\n",
              "      <td>...</td>\n",
              "      <td>0</td>\n",
              "      <td>0</td>\n",
              "      <td>0</td>\n",
              "      <td>0</td>\n",
              "      <td>0</td>\n",
              "      <td>0</td>\n",
              "      <td>0</td>\n",
              "      <td>0</td>\n",
              "      <td>0</td>\n",
              "      <td>0</td>\n",
              "    </tr>\n",
              "    <tr>\n",
              "      <th>1</th>\n",
              "      <td>4569</td>\n",
              "      <td>7325</td>\n",
              "      <td>8976</td>\n",
              "      <td>6150</td>\n",
              "      <td>2407</td>\n",
              "      <td>1188</td>\n",
              "      <td>0</td>\n",
              "      <td>0</td>\n",
              "      <td>0</td>\n",
              "      <td>0</td>\n",
              "      <td>...</td>\n",
              "      <td>0</td>\n",
              "      <td>0</td>\n",
              "      <td>0</td>\n",
              "      <td>0</td>\n",
              "      <td>0</td>\n",
              "      <td>0</td>\n",
              "      <td>0</td>\n",
              "      <td>0</td>\n",
              "      <td>0</td>\n",
              "      <td>0</td>\n",
              "    </tr>\n",
              "    <tr>\n",
              "      <th>2</th>\n",
              "      <td>2358</td>\n",
              "      <td>6531</td>\n",
              "      <td>6745</td>\n",
              "      <td>4534</td>\n",
              "      <td>2658</td>\n",
              "      <td>8648</td>\n",
              "      <td>847</td>\n",
              "      <td>446</td>\n",
              "      <td>391</td>\n",
              "      <td>81</td>\n",
              "      <td>...</td>\n",
              "      <td>0</td>\n",
              "      <td>0</td>\n",
              "      <td>0</td>\n",
              "      <td>0</td>\n",
              "      <td>0</td>\n",
              "      <td>0</td>\n",
              "      <td>0</td>\n",
              "      <td>0</td>\n",
              "      <td>0</td>\n",
              "      <td>0</td>\n",
              "    </tr>\n",
              "    <tr>\n",
              "      <th>3</th>\n",
              "      <td>0</td>\n",
              "      <td>0</td>\n",
              "      <td>0</td>\n",
              "      <td>0</td>\n",
              "      <td>0</td>\n",
              "      <td>308</td>\n",
              "      <td>300</td>\n",
              "      <td>397</td>\n",
              "      <td>131</td>\n",
              "      <td>61</td>\n",
              "      <td>...</td>\n",
              "      <td>0</td>\n",
              "      <td>0</td>\n",
              "      <td>0</td>\n",
              "      <td>0</td>\n",
              "      <td>0</td>\n",
              "      <td>0</td>\n",
              "      <td>0</td>\n",
              "      <td>0</td>\n",
              "      <td>0</td>\n",
              "      <td>0</td>\n",
              "    </tr>\n",
              "    <tr>\n",
              "      <th>4</th>\n",
              "      <td>0</td>\n",
              "      <td>0</td>\n",
              "      <td>0</td>\n",
              "      <td>0</td>\n",
              "      <td>0</td>\n",
              "      <td>94</td>\n",
              "      <td>347</td>\n",
              "      <td>181</td>\n",
              "      <td>132</td>\n",
              "      <td>86</td>\n",
              "      <td>...</td>\n",
              "      <td>0</td>\n",
              "      <td>0</td>\n",
              "      <td>0</td>\n",
              "      <td>0</td>\n",
              "      <td>0</td>\n",
              "      <td>0</td>\n",
              "      <td>0</td>\n",
              "      <td>0</td>\n",
              "      <td>0</td>\n",
              "      <td>0</td>\n",
              "    </tr>\n",
              "    <tr>\n",
              "      <th>5</th>\n",
              "      <td>0</td>\n",
              "      <td>0</td>\n",
              "      <td>0</td>\n",
              "      <td>0</td>\n",
              "      <td>0</td>\n",
              "      <td>0</td>\n",
              "      <td>0</td>\n",
              "      <td>0</td>\n",
              "      <td>0</td>\n",
              "      <td>0</td>\n",
              "      <td>...</td>\n",
              "      <td>0</td>\n",
              "      <td>0</td>\n",
              "      <td>0</td>\n",
              "      <td>0</td>\n",
              "      <td>0</td>\n",
              "      <td>0</td>\n",
              "      <td>0</td>\n",
              "      <td>0</td>\n",
              "      <td>0</td>\n",
              "      <td>0</td>\n",
              "    </tr>\n",
              "    <tr>\n",
              "      <th>6</th>\n",
              "      <td>0</td>\n",
              "      <td>0</td>\n",
              "      <td>0</td>\n",
              "      <td>0</td>\n",
              "      <td>0</td>\n",
              "      <td>0</td>\n",
              "      <td>0</td>\n",
              "      <td>0</td>\n",
              "      <td>0</td>\n",
              "      <td>0</td>\n",
              "      <td>...</td>\n",
              "      <td>0</td>\n",
              "      <td>0</td>\n",
              "      <td>0</td>\n",
              "      <td>0</td>\n",
              "      <td>0</td>\n",
              "      <td>0</td>\n",
              "      <td>0</td>\n",
              "      <td>0</td>\n",
              "      <td>0</td>\n",
              "      <td>0</td>\n",
              "    </tr>\n",
              "    <tr>\n",
              "      <th>7</th>\n",
              "      <td>0</td>\n",
              "      <td>0</td>\n",
              "      <td>0</td>\n",
              "      <td>0</td>\n",
              "      <td>0</td>\n",
              "      <td>0</td>\n",
              "      <td>0</td>\n",
              "      <td>0</td>\n",
              "      <td>0</td>\n",
              "      <td>0</td>\n",
              "      <td>...</td>\n",
              "      <td>0</td>\n",
              "      <td>0</td>\n",
              "      <td>0</td>\n",
              "      <td>0</td>\n",
              "      <td>0</td>\n",
              "      <td>0</td>\n",
              "      <td>0</td>\n",
              "      <td>0</td>\n",
              "      <td>0</td>\n",
              "      <td>0</td>\n",
              "    </tr>\n",
              "    <tr>\n",
              "      <th>8</th>\n",
              "      <td>0</td>\n",
              "      <td>0</td>\n",
              "      <td>0</td>\n",
              "      <td>0</td>\n",
              "      <td>0</td>\n",
              "      <td>0</td>\n",
              "      <td>0</td>\n",
              "      <td>0</td>\n",
              "      <td>0</td>\n",
              "      <td>0</td>\n",
              "      <td>...</td>\n",
              "      <td>0</td>\n",
              "      <td>0</td>\n",
              "      <td>0</td>\n",
              "      <td>0</td>\n",
              "      <td>0</td>\n",
              "      <td>0</td>\n",
              "      <td>0</td>\n",
              "      <td>0</td>\n",
              "      <td>0</td>\n",
              "      <td>0</td>\n",
              "    </tr>\n",
              "    <tr>\n",
              "      <th>9</th>\n",
              "      <td>0</td>\n",
              "      <td>0</td>\n",
              "      <td>0</td>\n",
              "      <td>0</td>\n",
              "      <td>0</td>\n",
              "      <td>0</td>\n",
              "      <td>0</td>\n",
              "      <td>0</td>\n",
              "      <td>0</td>\n",
              "      <td>0</td>\n",
              "      <td>...</td>\n",
              "      <td>3</td>\n",
              "      <td>1</td>\n",
              "      <td>0</td>\n",
              "      <td>0</td>\n",
              "      <td>0</td>\n",
              "      <td>0</td>\n",
              "      <td>0</td>\n",
              "      <td>0</td>\n",
              "      <td>0</td>\n",
              "      <td>0</td>\n",
              "    </tr>\n",
              "    <tr>\n",
              "      <th>10</th>\n",
              "      <td>0</td>\n",
              "      <td>0</td>\n",
              "      <td>0</td>\n",
              "      <td>0</td>\n",
              "      <td>0</td>\n",
              "      <td>0</td>\n",
              "      <td>0</td>\n",
              "      <td>0</td>\n",
              "      <td>0</td>\n",
              "      <td>0</td>\n",
              "      <td>...</td>\n",
              "      <td>0</td>\n",
              "      <td>5</td>\n",
              "      <td>0</td>\n",
              "      <td>0</td>\n",
              "      <td>0</td>\n",
              "      <td>0</td>\n",
              "      <td>0</td>\n",
              "      <td>0</td>\n",
              "      <td>0</td>\n",
              "      <td>0</td>\n",
              "    </tr>\n",
              "    <tr>\n",
              "      <th>12</th>\n",
              "      <td>0</td>\n",
              "      <td>0</td>\n",
              "      <td>0</td>\n",
              "      <td>0</td>\n",
              "      <td>0</td>\n",
              "      <td>0</td>\n",
              "      <td>0</td>\n",
              "      <td>0</td>\n",
              "      <td>0</td>\n",
              "      <td>0</td>\n",
              "      <td>...</td>\n",
              "      <td>0</td>\n",
              "      <td>0</td>\n",
              "      <td>1</td>\n",
              "      <td>4</td>\n",
              "      <td>0</td>\n",
              "      <td>0</td>\n",
              "      <td>0</td>\n",
              "      <td>0</td>\n",
              "      <td>0</td>\n",
              "      <td>0</td>\n",
              "    </tr>\n",
              "    <tr>\n",
              "      <th>13</th>\n",
              "      <td>0</td>\n",
              "      <td>0</td>\n",
              "      <td>0</td>\n",
              "      <td>0</td>\n",
              "      <td>0</td>\n",
              "      <td>0</td>\n",
              "      <td>0</td>\n",
              "      <td>0</td>\n",
              "      <td>0</td>\n",
              "      <td>0</td>\n",
              "      <td>...</td>\n",
              "      <td>0</td>\n",
              "      <td>0</td>\n",
              "      <td>0</td>\n",
              "      <td>0</td>\n",
              "      <td>1</td>\n",
              "      <td>1</td>\n",
              "      <td>0</td>\n",
              "      <td>0</td>\n",
              "      <td>0</td>\n",
              "      <td>0</td>\n",
              "    </tr>\n",
              "    <tr>\n",
              "      <th>14</th>\n",
              "      <td>0</td>\n",
              "      <td>0</td>\n",
              "      <td>0</td>\n",
              "      <td>0</td>\n",
              "      <td>0</td>\n",
              "      <td>0</td>\n",
              "      <td>0</td>\n",
              "      <td>0</td>\n",
              "      <td>0</td>\n",
              "      <td>0</td>\n",
              "      <td>...</td>\n",
              "      <td>0</td>\n",
              "      <td>0</td>\n",
              "      <td>0</td>\n",
              "      <td>0</td>\n",
              "      <td>0</td>\n",
              "      <td>0</td>\n",
              "      <td>1</td>\n",
              "      <td>0</td>\n",
              "      <td>0</td>\n",
              "      <td>0</td>\n",
              "    </tr>\n",
              "    <tr>\n",
              "      <th>16</th>\n",
              "      <td>0</td>\n",
              "      <td>0</td>\n",
              "      <td>0</td>\n",
              "      <td>0</td>\n",
              "      <td>0</td>\n",
              "      <td>0</td>\n",
              "      <td>0</td>\n",
              "      <td>0</td>\n",
              "      <td>0</td>\n",
              "      <td>0</td>\n",
              "      <td>...</td>\n",
              "      <td>0</td>\n",
              "      <td>0</td>\n",
              "      <td>0</td>\n",
              "      <td>0</td>\n",
              "      <td>0</td>\n",
              "      <td>0</td>\n",
              "      <td>0</td>\n",
              "      <td>2</td>\n",
              "      <td>0</td>\n",
              "      <td>0</td>\n",
              "    </tr>\n",
              "    <tr>\n",
              "      <th>18</th>\n",
              "      <td>0</td>\n",
              "      <td>0</td>\n",
              "      <td>0</td>\n",
              "      <td>0</td>\n",
              "      <td>0</td>\n",
              "      <td>0</td>\n",
              "      <td>0</td>\n",
              "      <td>0</td>\n",
              "      <td>0</td>\n",
              "      <td>0</td>\n",
              "      <td>...</td>\n",
              "      <td>0</td>\n",
              "      <td>0</td>\n",
              "      <td>0</td>\n",
              "      <td>0</td>\n",
              "      <td>0</td>\n",
              "      <td>0</td>\n",
              "      <td>0</td>\n",
              "      <td>0</td>\n",
              "      <td>1</td>\n",
              "      <td>0</td>\n",
              "    </tr>\n",
              "    <tr>\n",
              "      <th>19</th>\n",
              "      <td>0</td>\n",
              "      <td>0</td>\n",
              "      <td>0</td>\n",
              "      <td>0</td>\n",
              "      <td>0</td>\n",
              "      <td>0</td>\n",
              "      <td>0</td>\n",
              "      <td>0</td>\n",
              "      <td>0</td>\n",
              "      <td>0</td>\n",
              "      <td>...</td>\n",
              "      <td>0</td>\n",
              "      <td>0</td>\n",
              "      <td>0</td>\n",
              "      <td>0</td>\n",
              "      <td>0</td>\n",
              "      <td>0</td>\n",
              "      <td>0</td>\n",
              "      <td>0</td>\n",
              "      <td>0</td>\n",
              "      <td>1</td>\n",
              "    </tr>\n",
              "  </tbody>\n",
              "</table>\n",
              "<p>17 rows × 33 columns</p>\n",
              "</div>"
            ],
            "text/plain": [
              "stays_in_week_nights       0      1      2      3     4     5    6    7    8   \\\n",
              "stays_in_weekend_nights                                                         \n",
              "0                         645  16436  17949  11557  4478   830    0    0    0   \n",
              "1                        4569   7325   8976   6150  2407  1188    0    0    0   \n",
              "2                        2358   6531   6745   4534  2658  8648  847  446  391   \n",
              "3                           0      0      0      0     0   308  300  397  131   \n",
              "4                           0      0      0      0     0    94  347  181  132   \n",
              "5                           0      0      0      0     0     0    0    0    0   \n",
              "6                           0      0      0      0     0     0    0    0    0   \n",
              "7                           0      0      0      0     0     0    0    0    0   \n",
              "8                           0      0      0      0     0     0    0    0    0   \n",
              "9                           0      0      0      0     0     0    0    0    0   \n",
              "10                          0      0      0      0     0     0    0    0    0   \n",
              "12                          0      0      0      0     0     0    0    0    0   \n",
              "13                          0      0      0      0     0     0    0    0    0   \n",
              "14                          0      0      0      0     0     0    0    0    0   \n",
              "16                          0      0      0      0     0     0    0    0    0   \n",
              "18                          0      0      0      0     0     0    0    0    0   \n",
              "19                          0      0      0      0     0     0    0    0    0   \n",
              "\n",
              "stays_in_week_nights     9   ...  24  25  26  30  32  33  34  40  42  50  \n",
              "stays_in_weekend_nights      ...                                          \n",
              "0                         0  ...   0   0   0   0   0   0   0   0   0   0  \n",
              "1                         0  ...   0   0   0   0   0   0   0   0   0   0  \n",
              "2                        81  ...   0   0   0   0   0   0   0   0   0   0  \n",
              "3                        61  ...   0   0   0   0   0   0   0   0   0   0  \n",
              "4                        86  ...   0   0   0   0   0   0   0   0   0   0  \n",
              "5                         0  ...   0   0   0   0   0   0   0   0   0   0  \n",
              "6                         0  ...   0   0   0   0   0   0   0   0   0   0  \n",
              "7                         0  ...   0   0   0   0   0   0   0   0   0   0  \n",
              "8                         0  ...   0   0   0   0   0   0   0   0   0   0  \n",
              "9                         0  ...   3   1   0   0   0   0   0   0   0   0  \n",
              "10                        0  ...   0   5   0   0   0   0   0   0   0   0  \n",
              "12                        0  ...   0   0   1   4   0   0   0   0   0   0  \n",
              "13                        0  ...   0   0   0   0   1   1   0   0   0   0  \n",
              "14                        0  ...   0   0   0   0   0   0   1   0   0   0  \n",
              "16                        0  ...   0   0   0   0   0   0   0   2   0   0  \n",
              "18                        0  ...   0   0   0   0   0   0   0   0   1   0  \n",
              "19                        0  ...   0   0   0   0   0   0   0   0   0   1  \n",
              "\n",
              "[17 rows x 33 columns]"
            ]
          },
          "execution_count": 882,
          "metadata": {},
          "output_type": "execute_result"
        }
      ],
      "source": [
        "pd.crosstab(index=data['stays_in_weekend_nights'], columns=data['stays_in_week_nights'])"
      ]
    },
    {
      "cell_type": "code",
      "execution_count": 883,
      "metadata": {
        "colab": {
          "base_uri": "https://localhost:8080/"
        },
        "id": "pnfnfBncQCXZ",
        "outputId": "09109bb9-840e-4b4d-d779-1995b9b3d9d0"
      },
      "outputs": [
        {
          "data": {
            "text/plain": [
              "array([ 0,  1,  2,  4,  5, 10, 11,  3,  8,  6,  7,  9, 33, 12, 20, 15, 21,\n",
              "       13, 30, 42, 50, 25, 14, 17, 32, 16, 40, 19, 26, 34, 18],\n",
              "      dtype=int64)"
            ]
          },
          "execution_count": 883,
          "metadata": {},
          "output_type": "execute_result"
        }
      ],
      "source": [
        "data2.stays_in_week_nights.unique()"
      ]
    },
    {
      "cell_type": "code",
      "execution_count": 884,
      "metadata": {
        "id": "PE4TDKMQXDDl"
      },
      "outputs": [],
      "source": [
        "def week_function(row):\n",
        "  feature1 = 'stays_in_weekend_nights'\n",
        "  feature2 = 'stays_in_week_nights'\n",
        "\n",
        "  if row[feature2] == 0 and row[feature1] > 0:\n",
        "    return 'stay_just_weekend'\n",
        "\n",
        "  if row[feature2] > 0 and row[feature1] == 0:\n",
        "    return 'stay_just_weekdays'\n",
        "\n",
        "  if row[feature2] > 0 and row[feature1] > 0:\n",
        "    return 'stay_both_weekdays_weekend'\n",
        "\n",
        "  else:\n",
        "    return 'undefined_data'"
      ]
    },
    {
      "cell_type": "code",
      "execution_count": 885,
      "metadata": {
        "id": "qjxEwfJXXPke"
      },
      "outputs": [],
      "source": [
        "data2['weekend_or_weekday'] = data2.apply(week_function, axis=1)"
      ]
    },
    {
      "cell_type": "code",
      "execution_count": 886,
      "metadata": {
        "colab": {
          "base_uri": "https://localhost:8080/",
          "height": 342
        },
        "id": "LjEK47M_Xxop",
        "outputId": "3a82dbd6-47ac-47f8-d059-f2e3d11b1868"
      },
      "outputs": [
        {
          "data": {
            "text/html": [
              "<div>\n",
              "<style scoped>\n",
              "    .dataframe tbody tr th:only-of-type {\n",
              "        vertical-align: middle;\n",
              "    }\n",
              "\n",
              "    .dataframe tbody tr th {\n",
              "        vertical-align: top;\n",
              "    }\n",
              "\n",
              "    .dataframe thead th {\n",
              "        text-align: right;\n",
              "    }\n",
              "</style>\n",
              "<table border=\"1\" class=\"dataframe\">\n",
              "  <thead>\n",
              "    <tr style=\"text-align: right;\">\n",
              "      <th></th>\n",
              "      <th>hotel</th>\n",
              "      <th>is_canceled</th>\n",
              "      <th>lead_time</th>\n",
              "      <th>arrival_date_year</th>\n",
              "      <th>arrival_date_month</th>\n",
              "      <th>arrival_date_week_number</th>\n",
              "      <th>arrival_date_day_of_month</th>\n",
              "      <th>stays_in_weekend_nights</th>\n",
              "      <th>stays_in_week_nights</th>\n",
              "      <th>adults</th>\n",
              "      <th>...</th>\n",
              "      <th>booking_changes</th>\n",
              "      <th>deposit_type</th>\n",
              "      <th>days_in_waiting_list</th>\n",
              "      <th>customer_type</th>\n",
              "      <th>adr</th>\n",
              "      <th>required_car_parking_spaces</th>\n",
              "      <th>total_of_special_requests</th>\n",
              "      <th>reservation_status</th>\n",
              "      <th>reservation_status_date</th>\n",
              "      <th>weekend_or_weekday</th>\n",
              "    </tr>\n",
              "  </thead>\n",
              "  <tbody>\n",
              "    <tr>\n",
              "      <th>0</th>\n",
              "      <td>Resort Hotel</td>\n",
              "      <td>0</td>\n",
              "      <td>342</td>\n",
              "      <td>2015</td>\n",
              "      <td>July</td>\n",
              "      <td>27</td>\n",
              "      <td>1</td>\n",
              "      <td>0</td>\n",
              "      <td>0</td>\n",
              "      <td>2</td>\n",
              "      <td>...</td>\n",
              "      <td>3</td>\n",
              "      <td>No Deposit</td>\n",
              "      <td>0</td>\n",
              "      <td>Transient</td>\n",
              "      <td>0.0</td>\n",
              "      <td>0</td>\n",
              "      <td>0</td>\n",
              "      <td>Check-Out</td>\n",
              "      <td>7/1/2015</td>\n",
              "      <td>undefined_data</td>\n",
              "    </tr>\n",
              "    <tr>\n",
              "      <th>1</th>\n",
              "      <td>Resort Hotel</td>\n",
              "      <td>0</td>\n",
              "      <td>737</td>\n",
              "      <td>2015</td>\n",
              "      <td>July</td>\n",
              "      <td>27</td>\n",
              "      <td>1</td>\n",
              "      <td>0</td>\n",
              "      <td>0</td>\n",
              "      <td>2</td>\n",
              "      <td>...</td>\n",
              "      <td>4</td>\n",
              "      <td>No Deposit</td>\n",
              "      <td>0</td>\n",
              "      <td>Transient</td>\n",
              "      <td>0.0</td>\n",
              "      <td>0</td>\n",
              "      <td>0</td>\n",
              "      <td>Check-Out</td>\n",
              "      <td>7/1/2015</td>\n",
              "      <td>undefined_data</td>\n",
              "    </tr>\n",
              "    <tr>\n",
              "      <th>2</th>\n",
              "      <td>Resort Hotel</td>\n",
              "      <td>0</td>\n",
              "      <td>7</td>\n",
              "      <td>2015</td>\n",
              "      <td>July</td>\n",
              "      <td>27</td>\n",
              "      <td>1</td>\n",
              "      <td>0</td>\n",
              "      <td>1</td>\n",
              "      <td>1</td>\n",
              "      <td>...</td>\n",
              "      <td>0</td>\n",
              "      <td>No Deposit</td>\n",
              "      <td>0</td>\n",
              "      <td>Transient</td>\n",
              "      <td>75.0</td>\n",
              "      <td>0</td>\n",
              "      <td>0</td>\n",
              "      <td>Check-Out</td>\n",
              "      <td>7/2/2015</td>\n",
              "      <td>stay_just_weekdays</td>\n",
              "    </tr>\n",
              "    <tr>\n",
              "      <th>3</th>\n",
              "      <td>Resort Hotel</td>\n",
              "      <td>0</td>\n",
              "      <td>13</td>\n",
              "      <td>2015</td>\n",
              "      <td>July</td>\n",
              "      <td>27</td>\n",
              "      <td>1</td>\n",
              "      <td>0</td>\n",
              "      <td>1</td>\n",
              "      <td>1</td>\n",
              "      <td>...</td>\n",
              "      <td>0</td>\n",
              "      <td>No Deposit</td>\n",
              "      <td>0</td>\n",
              "      <td>Transient</td>\n",
              "      <td>75.0</td>\n",
              "      <td>0</td>\n",
              "      <td>0</td>\n",
              "      <td>Check-Out</td>\n",
              "      <td>7/2/2015</td>\n",
              "      <td>stay_just_weekdays</td>\n",
              "    </tr>\n",
              "    <tr>\n",
              "      <th>4</th>\n",
              "      <td>Resort Hotel</td>\n",
              "      <td>0</td>\n",
              "      <td>14</td>\n",
              "      <td>2015</td>\n",
              "      <td>July</td>\n",
              "      <td>27</td>\n",
              "      <td>1</td>\n",
              "      <td>0</td>\n",
              "      <td>2</td>\n",
              "      <td>2</td>\n",
              "      <td>...</td>\n",
              "      <td>0</td>\n",
              "      <td>No Deposit</td>\n",
              "      <td>0</td>\n",
              "      <td>Transient</td>\n",
              "      <td>98.0</td>\n",
              "      <td>0</td>\n",
              "      <td>1</td>\n",
              "      <td>Check-Out</td>\n",
              "      <td>7/3/2015</td>\n",
              "      <td>stay_just_weekdays</td>\n",
              "    </tr>\n",
              "  </tbody>\n",
              "</table>\n",
              "<p>5 rows × 31 columns</p>\n",
              "</div>"
            ],
            "text/plain": [
              "          hotel  is_canceled  lead_time  arrival_date_year arrival_date_month  \\\n",
              "0  Resort Hotel            0        342               2015               July   \n",
              "1  Resort Hotel            0        737               2015               July   \n",
              "2  Resort Hotel            0          7               2015               July   \n",
              "3  Resort Hotel            0         13               2015               July   \n",
              "4  Resort Hotel            0         14               2015               July   \n",
              "\n",
              "   arrival_date_week_number  arrival_date_day_of_month  \\\n",
              "0                        27                          1   \n",
              "1                        27                          1   \n",
              "2                        27                          1   \n",
              "3                        27                          1   \n",
              "4                        27                          1   \n",
              "\n",
              "   stays_in_weekend_nights  stays_in_week_nights  adults  ...  \\\n",
              "0                        0                     0       2  ...   \n",
              "1                        0                     0       2  ...   \n",
              "2                        0                     1       1  ...   \n",
              "3                        0                     1       1  ...   \n",
              "4                        0                     2       2  ...   \n",
              "\n",
              "   booking_changes  deposit_type days_in_waiting_list customer_type   adr  \\\n",
              "0                3    No Deposit                    0     Transient   0.0   \n",
              "1                4    No Deposit                    0     Transient   0.0   \n",
              "2                0    No Deposit                    0     Transient  75.0   \n",
              "3                0    No Deposit                    0     Transient  75.0   \n",
              "4                0    No Deposit                    0     Transient  98.0   \n",
              "\n",
              "  required_car_parking_spaces  total_of_special_requests  reservation_status  \\\n",
              "0                           0                          0           Check-Out   \n",
              "1                           0                          0           Check-Out   \n",
              "2                           0                          0           Check-Out   \n",
              "3                           0                          0           Check-Out   \n",
              "4                           0                          1           Check-Out   \n",
              "\n",
              "   reservation_status_date  weekend_or_weekday  \n",
              "0                 7/1/2015      undefined_data  \n",
              "1                 7/1/2015      undefined_data  \n",
              "2                 7/2/2015  stay_just_weekdays  \n",
              "3                 7/2/2015  stay_just_weekdays  \n",
              "4                 7/3/2015  stay_just_weekdays  \n",
              "\n",
              "[5 rows x 31 columns]"
            ]
          },
          "execution_count": 886,
          "metadata": {},
          "output_type": "execute_result"
        }
      ],
      "source": [
        "data2.head()"
      ]
    },
    {
      "cell_type": "code",
      "execution_count": 887,
      "metadata": {
        "colab": {
          "base_uri": "https://localhost:8080/"
        },
        "id": "6BNlT_eVYAcx",
        "outputId": "ef7df1dc-0c09-41bf-c766-aa5511040721"
      },
      "outputs": [
        {
          "data": {
            "text/plain": [
              "weekend_or_weekday\n",
              "stay_both_weekdays_weekend    37551\n",
              "stay_just_weekdays            31788\n",
              "stay_just_weekend              5050\n",
              "undefined_data                  622\n",
              "Name: count, dtype: int64"
            ]
          },
          "execution_count": 887,
          "metadata": {},
          "output_type": "execute_result"
        }
      ],
      "source": [
        "data2.weekend_or_weekday.value_counts()"
      ]
    },
    {
      "cell_type": "code",
      "execution_count": 888,
      "metadata": {
        "id": "ERxUUZ46YQVJ"
      },
      "outputs": [],
      "source": [
        "data2 = sd.Sort_Dataframeby_Month(data2, 'arrival_date_month')"
      ]
    },
    {
      "cell_type": "code",
      "execution_count": 889,
      "metadata": {
        "colab": {
          "base_uri": "https://localhost:8080/"
        },
        "id": "TFIipsRiYfUL",
        "outputId": "0fba2111-0b72-48c7-f3a2-18124e47758a"
      },
      "outputs": [
        {
          "data": {
            "text/plain": [
              "arrival_date_month  weekend_or_weekday        \n",
              "April               stay_both_weekdays_weekend    3627\n",
              "                    stay_just_weekdays            2559\n",
              "                    stay_just_weekend              344\n",
              "                    undefined_data                  30\n",
              "August              stay_both_weekdays_weekend    4929\n",
              "                    stay_just_weekdays            3137\n",
              "                    stay_just_weekend              509\n",
              "                    undefined_data                  49\n",
              "December            stay_both_weekdays_weekend    1901\n",
              "                    stay_just_weekdays            2123\n",
              "                    stay_just_weekend              298\n",
              "                    undefined_data                  69\n",
              "February            stay_both_weekdays_weekend    2438\n",
              "                    stay_just_weekdays            2514\n",
              "                    stay_just_weekend              360\n",
              "                    undefined_data                  47\n",
              "January             stay_both_weekdays_weekend    1550\n",
              "                    stay_just_weekdays            2125\n",
              "                    stay_just_weekend              393\n",
              "                    undefined_data                  47\n",
              "July                stay_both_weekdays_weekend    4570\n",
              "                    stay_just_weekdays            2818\n",
              "                    stay_just_weekend              462\n",
              "                    undefined_data                  57\n",
              "June                stay_both_weekdays_weekend    3241\n",
              "                    stay_just_weekdays            2685\n",
              "                    stay_just_weekend              433\n",
              "                    undefined_data                  36\n",
              "March               stay_both_weekdays_weekend    3151\n",
              "                    stay_just_weekdays            3060\n",
              "                    stay_just_weekend              359\n",
              "                    undefined_data                  50\n",
              "May                 stay_both_weekdays_weekend    3442\n",
              "                    stay_just_weekdays            3017\n",
              "                    stay_just_weekend              570\n",
              "                    undefined_data                  74\n",
              "November            stay_both_weekdays_weekend    2117\n",
              "                    stay_just_weekdays            2214\n",
              "                    stay_just_weekend              261\n",
              "                    undefined_data                  59\n",
              "October             stay_both_weekdays_weekend    3393\n",
              "                    stay_just_weekdays            2844\n",
              "                    stay_just_weekend              582\n",
              "                    undefined_data                  82\n",
              "September           stay_both_weekdays_weekend    3192\n",
              "                    stay_just_weekdays            2692\n",
              "                    stay_just_weekend              479\n",
              "                    undefined_data                  22\n",
              "dtype: int64"
            ]
          },
          "execution_count": 889,
          "metadata": {},
          "output_type": "execute_result"
        }
      ],
      "source": [
        "data2.groupby(['arrival_date_month', 'weekend_or_weekday']).size()"
      ]
    },
    {
      "cell_type": "code",
      "execution_count": 890,
      "metadata": {
        "id": "pBCIVtBFYnbb"
      },
      "outputs": [],
      "source": [
        "grouped_data = data2.groupby(['arrival_date_month', 'weekend_or_weekday']).size().unstack().reset_index()"
      ]
    },
    {
      "cell_type": "code",
      "execution_count": 891,
      "metadata": {
        "colab": {
          "base_uri": "https://localhost:8080/",
          "height": 445
        },
        "id": "xWJHmnAkPXQl",
        "outputId": "1a8d96d0-f2ab-4e7b-f13a-2450f67c1c33"
      },
      "outputs": [
        {
          "data": {
            "text/html": [
              "<div>\n",
              "<style scoped>\n",
              "    .dataframe tbody tr th:only-of-type {\n",
              "        vertical-align: middle;\n",
              "    }\n",
              "\n",
              "    .dataframe tbody tr th {\n",
              "        vertical-align: top;\n",
              "    }\n",
              "\n",
              "    .dataframe thead th {\n",
              "        text-align: right;\n",
              "    }\n",
              "</style>\n",
              "<table border=\"1\" class=\"dataframe\">\n",
              "  <thead>\n",
              "    <tr style=\"text-align: right;\">\n",
              "      <th>weekend_or_weekday</th>\n",
              "      <th>arrival_date_month</th>\n",
              "      <th>stay_both_weekdays_weekend</th>\n",
              "      <th>stay_just_weekdays</th>\n",
              "      <th>stay_just_weekend</th>\n",
              "      <th>undefined_data</th>\n",
              "    </tr>\n",
              "  </thead>\n",
              "  <tbody>\n",
              "    <tr>\n",
              "      <th>0</th>\n",
              "      <td>April</td>\n",
              "      <td>3627</td>\n",
              "      <td>2559</td>\n",
              "      <td>344</td>\n",
              "      <td>30</td>\n",
              "    </tr>\n",
              "    <tr>\n",
              "      <th>1</th>\n",
              "      <td>August</td>\n",
              "      <td>4929</td>\n",
              "      <td>3137</td>\n",
              "      <td>509</td>\n",
              "      <td>49</td>\n",
              "    </tr>\n",
              "    <tr>\n",
              "      <th>2</th>\n",
              "      <td>December</td>\n",
              "      <td>1901</td>\n",
              "      <td>2123</td>\n",
              "      <td>298</td>\n",
              "      <td>69</td>\n",
              "    </tr>\n",
              "    <tr>\n",
              "      <th>3</th>\n",
              "      <td>February</td>\n",
              "      <td>2438</td>\n",
              "      <td>2514</td>\n",
              "      <td>360</td>\n",
              "      <td>47</td>\n",
              "    </tr>\n",
              "    <tr>\n",
              "      <th>4</th>\n",
              "      <td>January</td>\n",
              "      <td>1550</td>\n",
              "      <td>2125</td>\n",
              "      <td>393</td>\n",
              "      <td>47</td>\n",
              "    </tr>\n",
              "    <tr>\n",
              "      <th>5</th>\n",
              "      <td>July</td>\n",
              "      <td>4570</td>\n",
              "      <td>2818</td>\n",
              "      <td>462</td>\n",
              "      <td>57</td>\n",
              "    </tr>\n",
              "    <tr>\n",
              "      <th>6</th>\n",
              "      <td>June</td>\n",
              "      <td>3241</td>\n",
              "      <td>2685</td>\n",
              "      <td>433</td>\n",
              "      <td>36</td>\n",
              "    </tr>\n",
              "    <tr>\n",
              "      <th>7</th>\n",
              "      <td>March</td>\n",
              "      <td>3151</td>\n",
              "      <td>3060</td>\n",
              "      <td>359</td>\n",
              "      <td>50</td>\n",
              "    </tr>\n",
              "    <tr>\n",
              "      <th>8</th>\n",
              "      <td>May</td>\n",
              "      <td>3442</td>\n",
              "      <td>3017</td>\n",
              "      <td>570</td>\n",
              "      <td>74</td>\n",
              "    </tr>\n",
              "    <tr>\n",
              "      <th>9</th>\n",
              "      <td>November</td>\n",
              "      <td>2117</td>\n",
              "      <td>2214</td>\n",
              "      <td>261</td>\n",
              "      <td>59</td>\n",
              "    </tr>\n",
              "    <tr>\n",
              "      <th>10</th>\n",
              "      <td>October</td>\n",
              "      <td>3393</td>\n",
              "      <td>2844</td>\n",
              "      <td>582</td>\n",
              "      <td>82</td>\n",
              "    </tr>\n",
              "    <tr>\n",
              "      <th>11</th>\n",
              "      <td>September</td>\n",
              "      <td>3192</td>\n",
              "      <td>2692</td>\n",
              "      <td>479</td>\n",
              "      <td>22</td>\n",
              "    </tr>\n",
              "  </tbody>\n",
              "</table>\n",
              "</div>"
            ],
            "text/plain": [
              "weekend_or_weekday arrival_date_month  stay_both_weekdays_weekend  \\\n",
              "0                               April                        3627   \n",
              "1                              August                        4929   \n",
              "2                            December                        1901   \n",
              "3                            February                        2438   \n",
              "4                             January                        1550   \n",
              "5                                July                        4570   \n",
              "6                                June                        3241   \n",
              "7                               March                        3151   \n",
              "8                                 May                        3442   \n",
              "9                            November                        2117   \n",
              "10                            October                        3393   \n",
              "11                          September                        3192   \n",
              "\n",
              "weekend_or_weekday  stay_just_weekdays  stay_just_weekend  undefined_data  \n",
              "0                                 2559                344              30  \n",
              "1                                 3137                509              49  \n",
              "2                                 2123                298              69  \n",
              "3                                 2514                360              47  \n",
              "4                                 2125                393              47  \n",
              "5                                 2818                462              57  \n",
              "6                                 2685                433              36  \n",
              "7                                 3060                359              50  \n",
              "8                                 3017                570              74  \n",
              "9                                 2214                261              59  \n",
              "10                                2844                582              82  \n",
              "11                                2692                479              22  "
            ]
          },
          "execution_count": 891,
          "metadata": {},
          "output_type": "execute_result"
        }
      ],
      "source": [
        "grouped_data"
      ]
    },
    {
      "cell_type": "code",
      "execution_count": 892,
      "metadata": {
        "id": "x3ChAsQiYs11"
      },
      "outputs": [],
      "source": [
        "sorted_data = sd.Sort_Dataframeby_Month(grouped_data, 'arrival_date_month')"
      ]
    },
    {
      "cell_type": "code",
      "execution_count": 893,
      "metadata": {
        "id": "sr-TiZ5GY5kE"
      },
      "outputs": [],
      "source": [
        "sorted_data.set_index('arrival_date_month', inplace=True)"
      ]
    },
    {
      "cell_type": "code",
      "execution_count": 894,
      "metadata": {
        "colab": {
          "base_uri": "https://localhost:8080/",
          "height": 477
        },
        "id": "gGOH_Px7Y-iR",
        "outputId": "32f20215-c560-44fc-e731-800a4f154f09"
      },
      "outputs": [
        {
          "data": {
            "text/html": [
              "<div>\n",
              "<style scoped>\n",
              "    .dataframe tbody tr th:only-of-type {\n",
              "        vertical-align: middle;\n",
              "    }\n",
              "\n",
              "    .dataframe tbody tr th {\n",
              "        vertical-align: top;\n",
              "    }\n",
              "\n",
              "    .dataframe thead th {\n",
              "        text-align: right;\n",
              "    }\n",
              "</style>\n",
              "<table border=\"1\" class=\"dataframe\">\n",
              "  <thead>\n",
              "    <tr style=\"text-align: right;\">\n",
              "      <th></th>\n",
              "      <th>stay_both_weekdays_weekend</th>\n",
              "      <th>stay_just_weekdays</th>\n",
              "      <th>stay_just_weekend</th>\n",
              "      <th>undefined_data</th>\n",
              "    </tr>\n",
              "    <tr>\n",
              "      <th>arrival_date_month</th>\n",
              "      <th></th>\n",
              "      <th></th>\n",
              "      <th></th>\n",
              "      <th></th>\n",
              "    </tr>\n",
              "  </thead>\n",
              "  <tbody>\n",
              "    <tr>\n",
              "      <th>January</th>\n",
              "      <td>1550</td>\n",
              "      <td>2125</td>\n",
              "      <td>393</td>\n",
              "      <td>47</td>\n",
              "    </tr>\n",
              "    <tr>\n",
              "      <th>February</th>\n",
              "      <td>2438</td>\n",
              "      <td>2514</td>\n",
              "      <td>360</td>\n",
              "      <td>47</td>\n",
              "    </tr>\n",
              "    <tr>\n",
              "      <th>March</th>\n",
              "      <td>3151</td>\n",
              "      <td>3060</td>\n",
              "      <td>359</td>\n",
              "      <td>50</td>\n",
              "    </tr>\n",
              "    <tr>\n",
              "      <th>April</th>\n",
              "      <td>3627</td>\n",
              "      <td>2559</td>\n",
              "      <td>344</td>\n",
              "      <td>30</td>\n",
              "    </tr>\n",
              "    <tr>\n",
              "      <th>May</th>\n",
              "      <td>3442</td>\n",
              "      <td>3017</td>\n",
              "      <td>570</td>\n",
              "      <td>74</td>\n",
              "    </tr>\n",
              "    <tr>\n",
              "      <th>June</th>\n",
              "      <td>3241</td>\n",
              "      <td>2685</td>\n",
              "      <td>433</td>\n",
              "      <td>36</td>\n",
              "    </tr>\n",
              "    <tr>\n",
              "      <th>July</th>\n",
              "      <td>4570</td>\n",
              "      <td>2818</td>\n",
              "      <td>462</td>\n",
              "      <td>57</td>\n",
              "    </tr>\n",
              "    <tr>\n",
              "      <th>August</th>\n",
              "      <td>4929</td>\n",
              "      <td>3137</td>\n",
              "      <td>509</td>\n",
              "      <td>49</td>\n",
              "    </tr>\n",
              "    <tr>\n",
              "      <th>September</th>\n",
              "      <td>3192</td>\n",
              "      <td>2692</td>\n",
              "      <td>479</td>\n",
              "      <td>22</td>\n",
              "    </tr>\n",
              "    <tr>\n",
              "      <th>October</th>\n",
              "      <td>3393</td>\n",
              "      <td>2844</td>\n",
              "      <td>582</td>\n",
              "      <td>82</td>\n",
              "    </tr>\n",
              "    <tr>\n",
              "      <th>November</th>\n",
              "      <td>2117</td>\n",
              "      <td>2214</td>\n",
              "      <td>261</td>\n",
              "      <td>59</td>\n",
              "    </tr>\n",
              "    <tr>\n",
              "      <th>December</th>\n",
              "      <td>1901</td>\n",
              "      <td>2123</td>\n",
              "      <td>298</td>\n",
              "      <td>69</td>\n",
              "    </tr>\n",
              "  </tbody>\n",
              "</table>\n",
              "</div>"
            ],
            "text/plain": [
              "                    stay_both_weekdays_weekend  stay_just_weekdays  \\\n",
              "arrival_date_month                                                   \n",
              "January                                   1550                2125   \n",
              "February                                  2438                2514   \n",
              "March                                     3151                3060   \n",
              "April                                     3627                2559   \n",
              "May                                       3442                3017   \n",
              "June                                      3241                2685   \n",
              "July                                      4570                2818   \n",
              "August                                    4929                3137   \n",
              "September                                 3192                2692   \n",
              "October                                   3393                2844   \n",
              "November                                  2117                2214   \n",
              "December                                  1901                2123   \n",
              "\n",
              "                    stay_just_weekend  undefined_data  \n",
              "arrival_date_month                                     \n",
              "January                           393              47  \n",
              "February                          360              47  \n",
              "March                             359              50  \n",
              "April                             344              30  \n",
              "May                               570              74  \n",
              "June                              433              36  \n",
              "July                              462              57  \n",
              "August                            509              49  \n",
              "September                         479              22  \n",
              "October                           582              82  \n",
              "November                          261              59  \n",
              "December                          298              69  "
            ]
          },
          "execution_count": 894,
          "metadata": {},
          "output_type": "execute_result"
        }
      ],
      "source": [
        "sorted_data"
      ]
    },
    {
      "cell_type": "code",
      "execution_count": 895,
      "metadata": {
        "colab": {
          "base_uri": "https://localhost:8080/",
          "height": 569
        },
        "id": "8Zwg6YMIY_Z7",
        "outputId": "8fa6786b-1917-41c5-e07e-b6cded68423a"
      },
      "outputs": [
        {
          "data": {
            "text/plain": [
              "<Axes: xlabel='arrival_date_month'>"
            ]
          },
          "execution_count": 895,
          "metadata": {},
          "output_type": "execute_result"
        },
        {
          "data": {
            "image/png": "[encoded data removed]",
            "text/plain": [
              "<Figure size 1500x1000 with 1 Axes>"
            ]
          },
          "metadata": {},
          "output_type": "display_data"
        }
      ],
      "source": [
        "sorted_data.plot(kind='bar', stacked=True, figsize=(15,10))"
      ]
    },
    {
      "cell_type": "code",
      "execution_count": 896,
      "metadata": {
        "id": "tmO7L9rHZz-F"
      },
      "outputs": [],
      "source": [
        "# how to create some more features"
      ]
    },
    {
      "cell_type": "code",
      "execution_count": 897,
      "metadata": {
        "id": "LXsNf7VIZ4rj"
      },
      "outputs": [],
      "source": [
        "def family(row):\n",
        "  if (row.adults > 0) and (row.children > 0 or row.babies > 0):\n",
        "    return 1\n",
        "  \n",
        "  else:\n",
        "    return 0"
      ]
    },
    {
      "cell_type": "code",
      "execution_count": 898,
      "metadata": {
        "id": "x-dOesFsR01L"
      },
      "outputs": [],
      "source": [
        "data['is_family'] = data.apply(family, axis=1)"
      ]
    },
    {
      "cell_type": "code",
      "execution_count": 899,
      "metadata": {
        "id": "5lE6qVwMR8dq"
      },
      "outputs": [],
      "source": [
        "data['total_customer'] = data.adults + data.babies + data.children"
      ]
    },
    {
      "cell_type": "code",
      "execution_count": 900,
      "metadata": {
        "id": "sBR4Tm3tSFfW"
      },
      "outputs": [],
      "source": [
        "data['total_nights'] = data.stays_in_week_nights + data.stays_in_weekend_nights"
      ]
    },
    {
      "cell_type": "code",
      "execution_count": 901,
      "metadata": {
        "colab": {
          "base_uri": "https://localhost:8080/",
          "height": 342
        },
        "id": "LC6_mtAzSLEb",
        "outputId": "3c187128-4117-4f04-e132-8ea96c4e24fd"
      },
      "outputs": [
        {
          "data": {
            "text/html": [
              "<div>\n",
              "<style scoped>\n",
              "    .dataframe tbody tr th:only-of-type {\n",
              "        vertical-align: middle;\n",
              "    }\n",
              "\n",
              "    .dataframe tbody tr th {\n",
              "        vertical-align: top;\n",
              "    }\n",
              "\n",
              "    .dataframe thead th {\n",
              "        text-align: right;\n",
              "    }\n",
              "</style>\n",
              "<table border=\"1\" class=\"dataframe\">\n",
              "  <thead>\n",
              "    <tr style=\"text-align: right;\">\n",
              "      <th></th>\n",
              "      <th>hotel</th>\n",
              "      <th>is_canceled</th>\n",
              "      <th>lead_time</th>\n",
              "      <th>arrival_date_year</th>\n",
              "      <th>arrival_date_month</th>\n",
              "      <th>arrival_date_week_number</th>\n",
              "      <th>arrival_date_day_of_month</th>\n",
              "      <th>stays_in_weekend_nights</th>\n",
              "      <th>stays_in_week_nights</th>\n",
              "      <th>adults</th>\n",
              "      <th>...</th>\n",
              "      <th>days_in_waiting_list</th>\n",
              "      <th>customer_type</th>\n",
              "      <th>adr</th>\n",
              "      <th>required_car_parking_spaces</th>\n",
              "      <th>total_of_special_requests</th>\n",
              "      <th>reservation_status</th>\n",
              "      <th>reservation_status_date</th>\n",
              "      <th>is_family</th>\n",
              "      <th>total_customer</th>\n",
              "      <th>total_nights</th>\n",
              "    </tr>\n",
              "  </thead>\n",
              "  <tbody>\n",
              "    <tr>\n",
              "      <th>0</th>\n",
              "      <td>Resort Hotel</td>\n",
              "      <td>0</td>\n",
              "      <td>109</td>\n",
              "      <td>2016</td>\n",
              "      <td>January</td>\n",
              "      <td>1</td>\n",
              "      <td>1</td>\n",
              "      <td>0</td>\n",
              "      <td>1</td>\n",
              "      <td>2</td>\n",
              "      <td>...</td>\n",
              "      <td>0</td>\n",
              "      <td>Transient-Party</td>\n",
              "      <td>59.94</td>\n",
              "      <td>0</td>\n",
              "      <td>1</td>\n",
              "      <td>Check-Out</td>\n",
              "      <td>1/2/2016</td>\n",
              "      <td>0</td>\n",
              "      <td>2.0</td>\n",
              "      <td>1</td>\n",
              "    </tr>\n",
              "    <tr>\n",
              "      <th>1</th>\n",
              "      <td>Resort Hotel</td>\n",
              "      <td>0</td>\n",
              "      <td>109</td>\n",
              "      <td>2016</td>\n",
              "      <td>January</td>\n",
              "      <td>1</td>\n",
              "      <td>1</td>\n",
              "      <td>0</td>\n",
              "      <td>1</td>\n",
              "      <td>2</td>\n",
              "      <td>...</td>\n",
              "      <td>0</td>\n",
              "      <td>Transient-Party</td>\n",
              "      <td>116.10</td>\n",
              "      <td>1</td>\n",
              "      <td>1</td>\n",
              "      <td>Check-Out</td>\n",
              "      <td>1/2/2016</td>\n",
              "      <td>1</td>\n",
              "      <td>4.0</td>\n",
              "      <td>1</td>\n",
              "    </tr>\n",
              "    <tr>\n",
              "      <th>2</th>\n",
              "      <td>Resort Hotel</td>\n",
              "      <td>1</td>\n",
              "      <td>2</td>\n",
              "      <td>2016</td>\n",
              "      <td>January</td>\n",
              "      <td>1</td>\n",
              "      <td>1</td>\n",
              "      <td>0</td>\n",
              "      <td>1</td>\n",
              "      <td>2</td>\n",
              "      <td>...</td>\n",
              "      <td>0</td>\n",
              "      <td>Transient</td>\n",
              "      <td>89.00</td>\n",
              "      <td>0</td>\n",
              "      <td>1</td>\n",
              "      <td>No-Show</td>\n",
              "      <td>1/1/2016</td>\n",
              "      <td>0</td>\n",
              "      <td>2.0</td>\n",
              "      <td>1</td>\n",
              "    </tr>\n",
              "    <tr>\n",
              "      <th>3</th>\n",
              "      <td>Resort Hotel</td>\n",
              "      <td>0</td>\n",
              "      <td>88</td>\n",
              "      <td>2016</td>\n",
              "      <td>January</td>\n",
              "      <td>1</td>\n",
              "      <td>1</td>\n",
              "      <td>0</td>\n",
              "      <td>2</td>\n",
              "      <td>2</td>\n",
              "      <td>...</td>\n",
              "      <td>0</td>\n",
              "      <td>Transient</td>\n",
              "      <td>73.46</td>\n",
              "      <td>0</td>\n",
              "      <td>2</td>\n",
              "      <td>Check-Out</td>\n",
              "      <td>1/3/2016</td>\n",
              "      <td>0</td>\n",
              "      <td>2.0</td>\n",
              "      <td>2</td>\n",
              "    </tr>\n",
              "    <tr>\n",
              "      <th>4</th>\n",
              "      <td>Resort Hotel</td>\n",
              "      <td>1</td>\n",
              "      <td>20</td>\n",
              "      <td>2016</td>\n",
              "      <td>January</td>\n",
              "      <td>1</td>\n",
              "      <td>1</td>\n",
              "      <td>0</td>\n",
              "      <td>2</td>\n",
              "      <td>2</td>\n",
              "      <td>...</td>\n",
              "      <td>0</td>\n",
              "      <td>Transient</td>\n",
              "      <td>119.00</td>\n",
              "      <td>0</td>\n",
              "      <td>0</td>\n",
              "      <td>Canceled</td>\n",
              "      <td>12/22/2015</td>\n",
              "      <td>1</td>\n",
              "      <td>4.0</td>\n",
              "      <td>2</td>\n",
              "    </tr>\n",
              "  </tbody>\n",
              "</table>\n",
              "<p>5 rows × 33 columns</p>\n",
              "</div>"
            ],
            "text/plain": [
              "          hotel  is_canceled  lead_time  arrival_date_year arrival_date_month  \\\n",
              "0  Resort Hotel            0        109               2016            January   \n",
              "1  Resort Hotel            0        109               2016            January   \n",
              "2  Resort Hotel            1          2               2016            January   \n",
              "3  Resort Hotel            0         88               2016            January   \n",
              "4  Resort Hotel            1         20               2016            January   \n",
              "\n",
              "   arrival_date_week_number  arrival_date_day_of_month  \\\n",
              "0                         1                          1   \n",
              "1                         1                          1   \n",
              "2                         1                          1   \n",
              "3                         1                          1   \n",
              "4                         1                          1   \n",
              "\n",
              "   stays_in_weekend_nights  stays_in_week_nights  adults  ...  \\\n",
              "0                        0                     1       2  ...   \n",
              "1                        0                     1       2  ...   \n",
              "2                        0                     1       2  ...   \n",
              "3                        0                     2       2  ...   \n",
              "4                        0                     2       2  ...   \n",
              "\n",
              "   days_in_waiting_list    customer_type     adr required_car_parking_spaces  \\\n",
              "0                     0  Transient-Party   59.94                           0   \n",
              "1                     0  Transient-Party  116.10                           1   \n",
              "2                     0        Transient   89.00                           0   \n",
              "3                     0        Transient   73.46                           0   \n",
              "4                     0        Transient  119.00                           0   \n",
              "\n",
              "  total_of_special_requests reservation_status  reservation_status_date  \\\n",
              "0                         1          Check-Out                 1/2/2016   \n",
              "1                         1          Check-Out                 1/2/2016   \n",
              "2                         1            No-Show                 1/1/2016   \n",
              "3                         2          Check-Out                 1/3/2016   \n",
              "4                         0           Canceled               12/22/2015   \n",
              "\n",
              "   is_family  total_customer total_nights  \n",
              "0          0             2.0            1  \n",
              "1          1             4.0            1  \n",
              "2          0             2.0            1  \n",
              "3          0             2.0            2  \n",
              "4          1             4.0            2  \n",
              "\n",
              "[5 rows x 33 columns]"
            ]
          },
          "execution_count": 901,
          "metadata": {},
          "output_type": "execute_result"
        }
      ],
      "source": [
        "data.head()"
      ]
    },
    {
      "cell_type": "code",
      "execution_count": 902,
      "metadata": {
        "colab": {
          "base_uri": "https://localhost:8080/"
        },
        "id": "VnkP1INZSRMW",
        "outputId": "cf7c15b9-f243-4806-bcaa-41989bfe5ea1"
      },
      "outputs": [
        {
          "data": {
            "text/plain": [
              "array(['No Deposit', 'Non Refund', 'Refundable'], dtype=object)"
            ]
          },
          "execution_count": 902,
          "metadata": {},
          "output_type": "execute_result"
        }
      ],
      "source": [
        "data.deposit_type.unique()"
      ]
    },
    {
      "cell_type": "code",
      "execution_count": 903,
      "metadata": {
        "id": "qMB-PnrrSgpz"
      },
      "outputs": [],
      "source": [
        "dict1 = {\n",
        "    'No Deposit':0,\n",
        "    'Non Refund':1,\n",
        "    'Refundable':0\n",
        "    }"
      ]
    },
    {
      "cell_type": "code",
      "execution_count": 904,
      "metadata": {
        "id": "AJNVCCGfSrS2"
      },
      "outputs": [],
      "source": [
        "data['deposit_given'] = data.deposit_type.map(dict1)"
      ]
    },
    {
      "cell_type": "code",
      "execution_count": 905,
      "metadata": {
        "id": "Be5UwqA0S1Re"
      },
      "outputs": [],
      "source": [
        "# how to apply feature encoding on the data"
      ]
    },
    {
      "cell_type": "code",
      "execution_count": 906,
      "metadata": {
        "colab": {
          "base_uri": "https://localhost:8080/",
          "height": 342
        },
        "id": "Wkk_msKCS70C",
        "outputId": "95800644-9fb0-4d97-9bb3-5075e012dd8f"
      },
      "outputs": [
        {
          "data": {
            "text/html": [
              "<div>\n",
              "<style scoped>\n",
              "    .dataframe tbody tr th:only-of-type {\n",
              "        vertical-align: middle;\n",
              "    }\n",
              "\n",
              "    .dataframe tbody tr th {\n",
              "        vertical-align: top;\n",
              "    }\n",
              "\n",
              "    .dataframe thead th {\n",
              "        text-align: right;\n",
              "    }\n",
              "</style>\n",
              "<table border=\"1\" class=\"dataframe\">\n",
              "  <thead>\n",
              "    <tr style=\"text-align: right;\">\n",
              "      <th></th>\n",
              "      <th>hotel</th>\n",
              "      <th>is_canceled</th>\n",
              "      <th>lead_time</th>\n",
              "      <th>arrival_date_year</th>\n",
              "      <th>arrival_date_month</th>\n",
              "      <th>arrival_date_week_number</th>\n",
              "      <th>arrival_date_day_of_month</th>\n",
              "      <th>stays_in_weekend_nights</th>\n",
              "      <th>stays_in_week_nights</th>\n",
              "      <th>adults</th>\n",
              "      <th>...</th>\n",
              "      <th>customer_type</th>\n",
              "      <th>adr</th>\n",
              "      <th>required_car_parking_spaces</th>\n",
              "      <th>total_of_special_requests</th>\n",
              "      <th>reservation_status</th>\n",
              "      <th>reservation_status_date</th>\n",
              "      <th>is_family</th>\n",
              "      <th>total_customer</th>\n",
              "      <th>total_nights</th>\n",
              "      <th>deposit_given</th>\n",
              "    </tr>\n",
              "  </thead>\n",
              "  <tbody>\n",
              "    <tr>\n",
              "      <th>0</th>\n",
              "      <td>Resort Hotel</td>\n",
              "      <td>0</td>\n",
              "      <td>109</td>\n",
              "      <td>2016</td>\n",
              "      <td>January</td>\n",
              "      <td>1</td>\n",
              "      <td>1</td>\n",
              "      <td>0</td>\n",
              "      <td>1</td>\n",
              "      <td>2</td>\n",
              "      <td>...</td>\n",
              "      <td>Transient-Party</td>\n",
              "      <td>59.94</td>\n",
              "      <td>0</td>\n",
              "      <td>1</td>\n",
              "      <td>Check-Out</td>\n",
              "      <td>1/2/2016</td>\n",
              "      <td>0</td>\n",
              "      <td>2.0</td>\n",
              "      <td>1</td>\n",
              "      <td>0</td>\n",
              "    </tr>\n",
              "    <tr>\n",
              "      <th>1</th>\n",
              "      <td>Resort Hotel</td>\n",
              "      <td>0</td>\n",
              "      <td>109</td>\n",
              "      <td>2016</td>\n",
              "      <td>January</td>\n",
              "      <td>1</td>\n",
              "      <td>1</td>\n",
              "      <td>0</td>\n",
              "      <td>1</td>\n",
              "      <td>2</td>\n",
              "      <td>...</td>\n",
              "      <td>Transient-Party</td>\n",
              "      <td>116.10</td>\n",
              "      <td>1</td>\n",
              "      <td>1</td>\n",
              "      <td>Check-Out</td>\n",
              "      <td>1/2/2016</td>\n",
              "      <td>1</td>\n",
              "      <td>4.0</td>\n",
              "      <td>1</td>\n",
              "      <td>0</td>\n",
              "    </tr>\n",
              "    <tr>\n",
              "      <th>2</th>\n",
              "      <td>Resort Hotel</td>\n",
              "      <td>1</td>\n",
              "      <td>2</td>\n",
              "      <td>2016</td>\n",
              "      <td>January</td>\n",
              "      <td>1</td>\n",
              "      <td>1</td>\n",
              "      <td>0</td>\n",
              "      <td>1</td>\n",
              "      <td>2</td>\n",
              "      <td>...</td>\n",
              "      <td>Transient</td>\n",
              "      <td>89.00</td>\n",
              "      <td>0</td>\n",
              "      <td>1</td>\n",
              "      <td>No-Show</td>\n",
              "      <td>1/1/2016</td>\n",
              "      <td>0</td>\n",
              "      <td>2.0</td>\n",
              "      <td>1</td>\n",
              "      <td>0</td>\n",
              "    </tr>\n",
              "    <tr>\n",
              "      <th>3</th>\n",
              "      <td>Resort Hotel</td>\n",
              "      <td>0</td>\n",
              "      <td>88</td>\n",
              "      <td>2016</td>\n",
              "      <td>January</td>\n",
              "      <td>1</td>\n",
              "      <td>1</td>\n",
              "      <td>0</td>\n",
              "      <td>2</td>\n",
              "      <td>2</td>\n",
              "      <td>...</td>\n",
              "      <td>Transient</td>\n",
              "      <td>73.46</td>\n",
              "      <td>0</td>\n",
              "      <td>2</td>\n",
              "      <td>Check-Out</td>\n",
              "      <td>1/3/2016</td>\n",
              "      <td>0</td>\n",
              "      <td>2.0</td>\n",
              "      <td>2</td>\n",
              "      <td>0</td>\n",
              "    </tr>\n",
              "    <tr>\n",
              "      <th>4</th>\n",
              "      <td>Resort Hotel</td>\n",
              "      <td>1</td>\n",
              "      <td>20</td>\n",
              "      <td>2016</td>\n",
              "      <td>January</td>\n",
              "      <td>1</td>\n",
              "      <td>1</td>\n",
              "      <td>0</td>\n",
              "      <td>2</td>\n",
              "      <td>2</td>\n",
              "      <td>...</td>\n",
              "      <td>Transient</td>\n",
              "      <td>119.00</td>\n",
              "      <td>0</td>\n",
              "      <td>0</td>\n",
              "      <td>Canceled</td>\n",
              "      <td>12/22/2015</td>\n",
              "      <td>1</td>\n",
              "      <td>4.0</td>\n",
              "      <td>2</td>\n",
              "      <td>0</td>\n",
              "    </tr>\n",
              "  </tbody>\n",
              "</table>\n",
              "<p>5 rows × 34 columns</p>\n",
              "</div>"
            ],
            "text/plain": [
              "          hotel  is_canceled  lead_time  arrival_date_year arrival_date_month  \\\n",
              "0  Resort Hotel            0        109               2016            January   \n",
              "1  Resort Hotel            0        109               2016            January   \n",
              "2  Resort Hotel            1          2               2016            January   \n",
              "3  Resort Hotel            0         88               2016            January   \n",
              "4  Resort Hotel            1         20               2016            January   \n",
              "\n",
              "   arrival_date_week_number  arrival_date_day_of_month  \\\n",
              "0                         1                          1   \n",
              "1                         1                          1   \n",
              "2                         1                          1   \n",
              "3                         1                          1   \n",
              "4                         1                          1   \n",
              "\n",
              "   stays_in_weekend_nights  stays_in_week_nights  adults  ...  \\\n",
              "0                        0                     1       2  ...   \n",
              "1                        0                     1       2  ...   \n",
              "2                        0                     1       2  ...   \n",
              "3                        0                     2       2  ...   \n",
              "4                        0                     2       2  ...   \n",
              "\n",
              "     customer_type     adr required_car_parking_spaces  \\\n",
              "0  Transient-Party   59.94                           0   \n",
              "1  Transient-Party  116.10                           1   \n",
              "2        Transient   89.00                           0   \n",
              "3        Transient   73.46                           0   \n",
              "4        Transient  119.00                           0   \n",
              "\n",
              "  total_of_special_requests reservation_status reservation_status_date  \\\n",
              "0                         1          Check-Out                1/2/2016   \n",
              "1                         1          Check-Out                1/2/2016   \n",
              "2                         1            No-Show                1/1/2016   \n",
              "3                         2          Check-Out                1/3/2016   \n",
              "4                         0           Canceled              12/22/2015   \n",
              "\n",
              "   is_family  total_customer  total_nights deposit_given  \n",
              "0          0             2.0             1             0  \n",
              "1          1             4.0             1             0  \n",
              "2          0             2.0             1             0  \n",
              "3          0             2.0             2             0  \n",
              "4          1             4.0             2             0  \n",
              "\n",
              "[5 rows x 34 columns]"
            ]
          },
          "execution_count": 906,
          "metadata": {},
          "output_type": "execute_result"
        }
      ],
      "source": [
        "data.head()"
      ]
    },
    {
      "cell_type": "code",
      "execution_count": 907,
      "metadata": {
        "colab": {
          "base_uri": "https://localhost:8080/"
        },
        "id": "r7mJXT3YS8zO",
        "outputId": "14250c32-2966-4719-8db3-c93921beefe3"
      },
      "outputs": [
        {
          "data": {
            "text/plain": [
              "hotel                              object\n",
              "is_canceled                         int64\n",
              "lead_time                           int64\n",
              "arrival_date_year                   int64\n",
              "arrival_date_month                 object\n",
              "arrival_date_week_number            int64\n",
              "arrival_date_day_of_month           int64\n",
              "stays_in_weekend_nights             int64\n",
              "stays_in_week_nights                int64\n",
              "adults                              int64\n",
              "children                          float64\n",
              "babies                              int64\n",
              "meal                               object\n",
              "country                            object\n",
              "market_segment                     object\n",
              "distribution_channel               object\n",
              "is_repeated_guest                   int64\n",
              "previous_cancellations              int64\n",
              "previous_bookings_not_canceled      int64\n",
              "reserved_room_type                 object\n",
              "assigned_room_type                 object\n",
              "booking_changes                     int64\n",
              "deposit_type                       object\n",
              "days_in_waiting_list                int64\n",
              "customer_type                      object\n",
              "adr                               float64\n",
              "required_car_parking_spaces         int64\n",
              "total_of_special_requests           int64\n",
              "reservation_status                 object\n",
              "reservation_status_date            object\n",
              "is_family                           int64\n",
              "total_customer                    float64\n",
              "total_nights                        int64\n",
              "deposit_given                       int64\n",
              "dtype: object"
            ]
          },
          "execution_count": 907,
          "metadata": {},
          "output_type": "execute_result"
        }
      ],
      "source": [
        "data.dtypes"
      ]
    },
    {
      "cell_type": "code",
      "execution_count": 908,
      "metadata": {
        "id": "GCOMNEIkTAW7"
      },
      "outputs": [],
      "source": [
        "cat_features = [col for col in data.columns if data[col].dtype == 'object']"
      ]
    },
    {
      "cell_type": "code",
      "execution_count": 909,
      "metadata": {
        "colab": {
          "base_uri": "https://localhost:8080/"
        },
        "id": "5qEOShR1Vl1n",
        "outputId": "e91f5ab6-edcf-4b98-8ff9-3c2446886ac8"
      },
      "outputs": [
        {
          "data": {
            "text/plain": [
              "['hotel',\n",
              " 'arrival_date_month',\n",
              " 'meal',\n",
              " 'country',\n",
              " 'market_segment',\n",
              " 'distribution_channel',\n",
              " 'reserved_room_type',\n",
              " 'assigned_room_type',\n",
              " 'deposit_type',\n",
              " 'customer_type',\n",
              " 'reservation_status',\n",
              " 'reservation_status_date']"
            ]
          },
          "execution_count": 909,
          "metadata": {},
          "output_type": "execute_result"
        }
      ],
      "source": [
        "cat_features"
      ]
    },
    {
      "cell_type": "code",
      "execution_count": 910,
      "metadata": {
        "id": "wfkG1yZaTas4"
      },
      "outputs": [],
      "source": [
        "num_features = [col for col in data.columns if data[col].dtype != 'object']"
      ]
    },
    {
      "cell_type": "code",
      "execution_count": 911,
      "metadata": {
        "colab": {
          "base_uri": "https://localhost:8080/"
        },
        "id": "Ik0eP9eNTjrw",
        "outputId": "6b8be097-72c0-4bd3-cff0-e939f11770a2"
      },
      "outputs": [
        {
          "data": {
            "text/plain": [
              "['is_canceled',\n",
              " 'lead_time',\n",
              " 'arrival_date_year',\n",
              " 'arrival_date_week_number',\n",
              " 'arrival_date_day_of_month',\n",
              " 'stays_in_weekend_nights',\n",
              " 'stays_in_week_nights',\n",
              " 'adults',\n",
              " 'children',\n",
              " 'babies',\n",
              " 'is_repeated_guest',\n",
              " 'previous_cancellations',\n",
              " 'previous_bookings_not_canceled',\n",
              " 'booking_changes',\n",
              " 'days_in_waiting_list',\n",
              " 'adr',\n",
              " 'required_car_parking_spaces',\n",
              " 'total_of_special_requests',\n",
              " 'is_family',\n",
              " 'total_customer',\n",
              " 'total_nights',\n",
              " 'deposit_given']"
            ]
          },
          "execution_count": 911,
          "metadata": {},
          "output_type": "execute_result"
        }
      ],
      "source": [
        "num_features"
      ]
    },
    {
      "cell_type": "code",
      "execution_count": 912,
      "metadata": {
        "id": "vdwfv0lLTmb6"
      },
      "outputs": [],
      "source": [
        "data_cat = data[cat_features]"
      ]
    },
    {
      "cell_type": "code",
      "execution_count": 915,
      "metadata": {
        "id": "rRQ0oZXvT-za"
      },
      "outputs": [],
      "source": [
        "data_cat['cancellation'] = data.is_canceled"
      ]
    },
    {
      "cell_type": "code",
      "execution_count": 916,
      "metadata": {
        "colab": {
          "base_uri": "https://localhost:8080/",
          "height": 313
        },
        "id": "V2pskBnhUCen",
        "outputId": "2da3d381-7a54-453b-ea80-98543dfa0fcc"
      },
      "outputs": [
        {
          "data": {
            "text/html": [
              "<div>\n",
              "<style scoped>\n",
              "    .dataframe tbody tr th:only-of-type {\n",
              "        vertical-align: middle;\n",
              "    }\n",
              "\n",
              "    .dataframe tbody tr th {\n",
              "        vertical-align: top;\n",
              "    }\n",
              "\n",
              "    .dataframe thead th {\n",
              "        text-align: right;\n",
              "    }\n",
              "</style>\n",
              "<table border=\"1\" class=\"dataframe\">\n",
              "  <thead>\n",
              "    <tr style=\"text-align: right;\">\n",
              "      <th></th>\n",
              "      <th>hotel</th>\n",
              "      <th>arrival_date_month</th>\n",
              "      <th>meal</th>\n",
              "      <th>country</th>\n",
              "      <th>market_segment</th>\n",
              "      <th>distribution_channel</th>\n",
              "      <th>reserved_room_type</th>\n",
              "      <th>assigned_room_type</th>\n",
              "      <th>deposit_type</th>\n",
              "      <th>customer_type</th>\n",
              "      <th>reservation_status</th>\n",
              "      <th>reservation_status_date</th>\n",
              "      <th>cancellation</th>\n",
              "    </tr>\n",
              "  </thead>\n",
              "  <tbody>\n",
              "    <tr>\n",
              "      <th>0</th>\n",
              "      <td>Resort Hotel</td>\n",
              "      <td>January</td>\n",
              "      <td>BB</td>\n",
              "      <td>RUS</td>\n",
              "      <td>Online TA</td>\n",
              "      <td>TA/TO</td>\n",
              "      <td>A</td>\n",
              "      <td>D</td>\n",
              "      <td>No Deposit</td>\n",
              "      <td>Transient-Party</td>\n",
              "      <td>Check-Out</td>\n",
              "      <td>1/2/2016</td>\n",
              "      <td>0</td>\n",
              "    </tr>\n",
              "    <tr>\n",
              "      <th>1</th>\n",
              "      <td>Resort Hotel</td>\n",
              "      <td>January</td>\n",
              "      <td>BB</td>\n",
              "      <td>RUS</td>\n",
              "      <td>Online TA</td>\n",
              "      <td>TA/TO</td>\n",
              "      <td>H</td>\n",
              "      <td>H</td>\n",
              "      <td>No Deposit</td>\n",
              "      <td>Transient-Party</td>\n",
              "      <td>Check-Out</td>\n",
              "      <td>1/2/2016</td>\n",
              "      <td>0</td>\n",
              "    </tr>\n",
              "    <tr>\n",
              "      <th>2</th>\n",
              "      <td>Resort Hotel</td>\n",
              "      <td>January</td>\n",
              "      <td>BB</td>\n",
              "      <td>PRT</td>\n",
              "      <td>Online TA</td>\n",
              "      <td>TA/TO</td>\n",
              "      <td>D</td>\n",
              "      <td>D</td>\n",
              "      <td>No Deposit</td>\n",
              "      <td>Transient</td>\n",
              "      <td>No-Show</td>\n",
              "      <td>1/1/2016</td>\n",
              "      <td>1</td>\n",
              "    </tr>\n",
              "    <tr>\n",
              "      <th>3</th>\n",
              "      <td>Resort Hotel</td>\n",
              "      <td>January</td>\n",
              "      <td>HB</td>\n",
              "      <td>ARG</td>\n",
              "      <td>Online TA</td>\n",
              "      <td>TA/TO</td>\n",
              "      <td>A</td>\n",
              "      <td>D</td>\n",
              "      <td>No Deposit</td>\n",
              "      <td>Transient</td>\n",
              "      <td>Check-Out</td>\n",
              "      <td>1/3/2016</td>\n",
              "      <td>0</td>\n",
              "    </tr>\n",
              "    <tr>\n",
              "      <th>4</th>\n",
              "      <td>Resort Hotel</td>\n",
              "      <td>January</td>\n",
              "      <td>BB</td>\n",
              "      <td>PRT</td>\n",
              "      <td>Online TA</td>\n",
              "      <td>TA/TO</td>\n",
              "      <td>G</td>\n",
              "      <td>G</td>\n",
              "      <td>No Deposit</td>\n",
              "      <td>Transient</td>\n",
              "      <td>Canceled</td>\n",
              "      <td>12/22/2015</td>\n",
              "      <td>1</td>\n",
              "    </tr>\n",
              "  </tbody>\n",
              "</table>\n",
              "</div>"
            ],
            "text/plain": [
              "          hotel arrival_date_month meal country market_segment  \\\n",
              "0  Resort Hotel            January   BB     RUS      Online TA   \n",
              "1  Resort Hotel            January   BB     RUS      Online TA   \n",
              "2  Resort Hotel            January   BB     PRT      Online TA   \n",
              "3  Resort Hotel            January   HB     ARG      Online TA   \n",
              "4  Resort Hotel            January   BB     PRT      Online TA   \n",
              "\n",
              "  distribution_channel reserved_room_type assigned_room_type deposit_type  \\\n",
              "0                TA/TO                  A                  D   No Deposit   \n",
              "1                TA/TO                  H                  H   No Deposit   \n",
              "2                TA/TO                  D                  D   No Deposit   \n",
              "3                TA/TO                  A                  D   No Deposit   \n",
              "4                TA/TO                  G                  G   No Deposit   \n",
              "\n",
              "     customer_type reservation_status reservation_status_date  cancellation  \n",
              "0  Transient-Party          Check-Out                1/2/2016             0  \n",
              "1  Transient-Party          Check-Out                1/2/2016             0  \n",
              "2        Transient            No-Show                1/1/2016             1  \n",
              "3        Transient          Check-Out                1/3/2016             0  \n",
              "4        Transient           Canceled              12/22/2015             1  "
            ]
          },
          "execution_count": 916,
          "metadata": {},
          "output_type": "execute_result"
        }
      ],
      "source": [
        "data_cat.head()"
      ]
    },
    {
      "cell_type": "code",
      "execution_count": 917,
      "metadata": {
        "id": "gnIAjA4VUFJj"
      },
      "outputs": [],
      "source": [
        "cols = data_cat.columns"
      ]
    },
    {
      "cell_type": "code",
      "execution_count": 918,
      "metadata": {
        "id": "spvOeU3-UIJ-"
      },
      "outputs": [],
      "source": [
        "cols = cols[0:-1]"
      ]
    },
    {
      "cell_type": "code",
      "execution_count": 919,
      "metadata": {},
      "outputs": [
        {
          "data": {
            "text/html": [
              "<div>\n",
              "<style scoped>\n",
              "    .dataframe tbody tr th:only-of-type {\n",
              "        vertical-align: middle;\n",
              "    }\n",
              "\n",
              "    .dataframe tbody tr th {\n",
              "        vertical-align: top;\n",
              "    }\n",
              "\n",
              "    .dataframe thead th {\n",
              "        text-align: right;\n",
              "    }\n",
              "</style>\n",
              "<table border=\"1\" class=\"dataframe\">\n",
              "  <thead>\n",
              "    <tr style=\"text-align: right;\">\n",
              "      <th></th>\n",
              "      <th>hotel</th>\n",
              "      <th>arrival_date_month</th>\n",
              "      <th>meal</th>\n",
              "      <th>country</th>\n",
              "      <th>market_segment</th>\n",
              "      <th>distribution_channel</th>\n",
              "      <th>reserved_room_type</th>\n",
              "      <th>assigned_room_type</th>\n",
              "      <th>deposit_type</th>\n",
              "      <th>customer_type</th>\n",
              "      <th>reservation_status</th>\n",
              "      <th>reservation_status_date</th>\n",
              "      <th>cancellation</th>\n",
              "    </tr>\n",
              "  </thead>\n",
              "  <tbody>\n",
              "    <tr>\n",
              "      <th>0</th>\n",
              "      <td>Resort Hotel</td>\n",
              "      <td>January</td>\n",
              "      <td>BB</td>\n",
              "      <td>RUS</td>\n",
              "      <td>Online TA</td>\n",
              "      <td>TA/TO</td>\n",
              "      <td>A</td>\n",
              "      <td>D</td>\n",
              "      <td>No Deposit</td>\n",
              "      <td>Transient-Party</td>\n",
              "      <td>Check-Out</td>\n",
              "      <td>1/2/2016</td>\n",
              "      <td>0</td>\n",
              "    </tr>\n",
              "    <tr>\n",
              "      <th>1</th>\n",
              "      <td>Resort Hotel</td>\n",
              "      <td>January</td>\n",
              "      <td>BB</td>\n",
              "      <td>RUS</td>\n",
              "      <td>Online TA</td>\n",
              "      <td>TA/TO</td>\n",
              "      <td>H</td>\n",
              "      <td>H</td>\n",
              "      <td>No Deposit</td>\n",
              "      <td>Transient-Party</td>\n",
              "      <td>Check-Out</td>\n",
              "      <td>1/2/2016</td>\n",
              "      <td>0</td>\n",
              "    </tr>\n",
              "    <tr>\n",
              "      <th>2</th>\n",
              "      <td>Resort Hotel</td>\n",
              "      <td>January</td>\n",
              "      <td>BB</td>\n",
              "      <td>PRT</td>\n",
              "      <td>Online TA</td>\n",
              "      <td>TA/TO</td>\n",
              "      <td>D</td>\n",
              "      <td>D</td>\n",
              "      <td>No Deposit</td>\n",
              "      <td>Transient</td>\n",
              "      <td>No-Show</td>\n",
              "      <td>1/1/2016</td>\n",
              "      <td>1</td>\n",
              "    </tr>\n",
              "    <tr>\n",
              "      <th>3</th>\n",
              "      <td>Resort Hotel</td>\n",
              "      <td>January</td>\n",
              "      <td>HB</td>\n",
              "      <td>ARG</td>\n",
              "      <td>Online TA</td>\n",
              "      <td>TA/TO</td>\n",
              "      <td>A</td>\n",
              "      <td>D</td>\n",
              "      <td>No Deposit</td>\n",
              "      <td>Transient</td>\n",
              "      <td>Check-Out</td>\n",
              "      <td>1/3/2016</td>\n",
              "      <td>0</td>\n",
              "    </tr>\n",
              "    <tr>\n",
              "      <th>4</th>\n",
              "      <td>Resort Hotel</td>\n",
              "      <td>January</td>\n",
              "      <td>BB</td>\n",
              "      <td>PRT</td>\n",
              "      <td>Online TA</td>\n",
              "      <td>TA/TO</td>\n",
              "      <td>G</td>\n",
              "      <td>G</td>\n",
              "      <td>No Deposit</td>\n",
              "      <td>Transient</td>\n",
              "      <td>Canceled</td>\n",
              "      <td>12/22/2015</td>\n",
              "      <td>1</td>\n",
              "    </tr>\n",
              "    <tr>\n",
              "      <th>...</th>\n",
              "      <td>...</td>\n",
              "      <td>...</td>\n",
              "      <td>...</td>\n",
              "      <td>...</td>\n",
              "      <td>...</td>\n",
              "      <td>...</td>\n",
              "      <td>...</td>\n",
              "      <td>...</td>\n",
              "      <td>...</td>\n",
              "      <td>...</td>\n",
              "      <td>...</td>\n",
              "      <td>...</td>\n",
              "      <td>...</td>\n",
              "    </tr>\n",
              "    <tr>\n",
              "      <th>119205</th>\n",
              "      <td>City Hotel</td>\n",
              "      <td>December</td>\n",
              "      <td>BB</td>\n",
              "      <td>BRA</td>\n",
              "      <td>Direct</td>\n",
              "      <td>Direct</td>\n",
              "      <td>E</td>\n",
              "      <td>F</td>\n",
              "      <td>No Deposit</td>\n",
              "      <td>Transient</td>\n",
              "      <td>Check-Out</td>\n",
              "      <td>1/6/2017</td>\n",
              "      <td>0</td>\n",
              "    </tr>\n",
              "    <tr>\n",
              "      <th>119206</th>\n",
              "      <td>City Hotel</td>\n",
              "      <td>December</td>\n",
              "      <td>SC</td>\n",
              "      <td>FRA</td>\n",
              "      <td>Online TA</td>\n",
              "      <td>TA/TO</td>\n",
              "      <td>A</td>\n",
              "      <td>A</td>\n",
              "      <td>No Deposit</td>\n",
              "      <td>Transient</td>\n",
              "      <td>Check-Out</td>\n",
              "      <td>1/6/2017</td>\n",
              "      <td>0</td>\n",
              "    </tr>\n",
              "    <tr>\n",
              "      <th>119207</th>\n",
              "      <td>City Hotel</td>\n",
              "      <td>December</td>\n",
              "      <td>BB</td>\n",
              "      <td>FRA</td>\n",
              "      <td>Offline TA/TO</td>\n",
              "      <td>TA/TO</td>\n",
              "      <td>A</td>\n",
              "      <td>B</td>\n",
              "      <td>No Deposit</td>\n",
              "      <td>Transient</td>\n",
              "      <td>Check-Out</td>\n",
              "      <td>1/7/2017</td>\n",
              "      <td>0</td>\n",
              "    </tr>\n",
              "    <tr>\n",
              "      <th>119208</th>\n",
              "      <td>City Hotel</td>\n",
              "      <td>December</td>\n",
              "      <td>SC</td>\n",
              "      <td>DEU</td>\n",
              "      <td>Online TA</td>\n",
              "      <td>TA/TO</td>\n",
              "      <td>A</td>\n",
              "      <td>A</td>\n",
              "      <td>No Deposit</td>\n",
              "      <td>Transient-Party</td>\n",
              "      <td>Check-Out</td>\n",
              "      <td>1/8/2017</td>\n",
              "      <td>0</td>\n",
              "    </tr>\n",
              "    <tr>\n",
              "      <th>119209</th>\n",
              "      <td>City Hotel</td>\n",
              "      <td>December</td>\n",
              "      <td>SC</td>\n",
              "      <td>DEU</td>\n",
              "      <td>Online TA</td>\n",
              "      <td>TA/TO</td>\n",
              "      <td>A</td>\n",
              "      <td>A</td>\n",
              "      <td>No Deposit</td>\n",
              "      <td>Transient-Party</td>\n",
              "      <td>Check-Out</td>\n",
              "      <td>1/8/2017</td>\n",
              "      <td>0</td>\n",
              "    </tr>\n",
              "  </tbody>\n",
              "</table>\n",
              "<p>119210 rows × 13 columns</p>\n",
              "</div>"
            ],
            "text/plain": [
              "               hotel arrival_date_month meal country market_segment  \\\n",
              "0       Resort Hotel            January   BB     RUS      Online TA   \n",
              "1       Resort Hotel            January   BB     RUS      Online TA   \n",
              "2       Resort Hotel            January   BB     PRT      Online TA   \n",
              "3       Resort Hotel            January   HB     ARG      Online TA   \n",
              "4       Resort Hotel            January   BB     PRT      Online TA   \n",
              "...              ...                ...  ...     ...            ...   \n",
              "119205    City Hotel           December   BB     BRA         Direct   \n",
              "119206    City Hotel           December   SC     FRA      Online TA   \n",
              "119207    City Hotel           December   BB     FRA  Offline TA/TO   \n",
              "119208    City Hotel           December   SC     DEU      Online TA   \n",
              "119209    City Hotel           December   SC     DEU      Online TA   \n",
              "\n",
              "       distribution_channel reserved_room_type assigned_room_type  \\\n",
              "0                     TA/TO                  A                  D   \n",
              "1                     TA/TO                  H                  H   \n",
              "2                     TA/TO                  D                  D   \n",
              "3                     TA/TO                  A                  D   \n",
              "4                     TA/TO                  G                  G   \n",
              "...                     ...                ...                ...   \n",
              "119205               Direct                  E                  F   \n",
              "119206                TA/TO                  A                  A   \n",
              "119207                TA/TO                  A                  B   \n",
              "119208                TA/TO                  A                  A   \n",
              "119209                TA/TO                  A                  A   \n",
              "\n",
              "       deposit_type    customer_type reservation_status  \\\n",
              "0        No Deposit  Transient-Party          Check-Out   \n",
              "1        No Deposit  Transient-Party          Check-Out   \n",
              "2        No Deposit        Transient            No-Show   \n",
              "3        No Deposit        Transient          Check-Out   \n",
              "4        No Deposit        Transient           Canceled   \n",
              "...             ...              ...                ...   \n",
              "119205   No Deposit        Transient          Check-Out   \n",
              "119206   No Deposit        Transient          Check-Out   \n",
              "119207   No Deposit        Transient          Check-Out   \n",
              "119208   No Deposit  Transient-Party          Check-Out   \n",
              "119209   No Deposit  Transient-Party          Check-Out   \n",
              "\n",
              "       reservation_status_date  cancellation  \n",
              "0                     1/2/2016             0  \n",
              "1                     1/2/2016             0  \n",
              "2                     1/1/2016             1  \n",
              "3                     1/3/2016             0  \n",
              "4                   12/22/2015             1  \n",
              "...                        ...           ...  \n",
              "119205                1/6/2017             0  \n",
              "119206                1/6/2017             0  \n",
              "119207                1/7/2017             0  \n",
              "119208                1/8/2017             0  \n",
              "119209                1/8/2017             0  \n",
              "\n",
              "[119210 rows x 13 columns]"
            ]
          },
          "execution_count": 919,
          "metadata": {},
          "output_type": "execute_result"
        }
      ],
      "source": [
        "data_cat"
      ]
    },
    {
      "cell_type": "code",
      "execution_count": 920,
      "metadata": {
        "id": "2v5Srm26UNOl"
      },
      "outputs": [],
      "source": [
        "for col in cols:\n",
        "  dict2 = data_cat.groupby(col).cancellation.mean().to_dict()\n",
        "  data_cat[col] = data_cat[col].map(dict2)"
      ]
    },
    {
      "cell_type": "code",
      "execution_count": 921,
      "metadata": {
        "colab": {
          "base_uri": "https://localhost:8080/",
          "height": 226
        },
        "id": "bgQqIB32UtVO",
        "outputId": "eeb6daf9-ddac-4b8c-d51f-29d84d261972"
      },
      "outputs": [
        {
          "data": {
            "text/html": [
              "<div>\n",
              "<style scoped>\n",
              "    .dataframe tbody tr th:only-of-type {\n",
              "        vertical-align: middle;\n",
              "    }\n",
              "\n",
              "    .dataframe tbody tr th {\n",
              "        vertical-align: top;\n",
              "    }\n",
              "\n",
              "    .dataframe thead th {\n",
              "        text-align: right;\n",
              "    }\n",
              "</style>\n",
              "<table border=\"1\" class=\"dataframe\">\n",
              "  <thead>\n",
              "    <tr style=\"text-align: right;\">\n",
              "      <th></th>\n",
              "      <th>hotel</th>\n",
              "      <th>arrival_date_month</th>\n",
              "      <th>meal</th>\n",
              "      <th>country</th>\n",
              "      <th>market_segment</th>\n",
              "      <th>distribution_channel</th>\n",
              "      <th>reserved_room_type</th>\n",
              "      <th>assigned_room_type</th>\n",
              "      <th>deposit_type</th>\n",
              "      <th>customer_type</th>\n",
              "      <th>reservation_status</th>\n",
              "      <th>reservation_status_date</th>\n",
              "      <th>cancellation</th>\n",
              "    </tr>\n",
              "  </thead>\n",
              "  <tbody>\n",
              "    <tr>\n",
              "      <th>0</th>\n",
              "      <td>0.277674</td>\n",
              "      <td>0.305016</td>\n",
              "      <td>0.374106</td>\n",
              "      <td>0.379365</td>\n",
              "      <td>0.36759</td>\n",
              "      <td>0.410598</td>\n",
              "      <td>0.391567</td>\n",
              "      <td>0.251373</td>\n",
              "      <td>0.28402</td>\n",
              "      <td>0.254504</td>\n",
              "      <td>0.0</td>\n",
              "      <td>0.048276</td>\n",
              "      <td>0</td>\n",
              "    </tr>\n",
              "    <tr>\n",
              "      <th>1</th>\n",
              "      <td>0.277674</td>\n",
              "      <td>0.305016</td>\n",
              "      <td>0.374106</td>\n",
              "      <td>0.379365</td>\n",
              "      <td>0.36759</td>\n",
              "      <td>0.410598</td>\n",
              "      <td>0.407654</td>\n",
              "      <td>0.352528</td>\n",
              "      <td>0.28402</td>\n",
              "      <td>0.254504</td>\n",
              "      <td>0.0</td>\n",
              "      <td>0.048276</td>\n",
              "      <td>0</td>\n",
              "    </tr>\n",
              "    <tr>\n",
              "      <th>2</th>\n",
              "      <td>0.277674</td>\n",
              "      <td>0.305016</td>\n",
              "      <td>0.374106</td>\n",
              "      <td>0.562958</td>\n",
              "      <td>0.36759</td>\n",
              "      <td>0.410598</td>\n",
              "      <td>0.318108</td>\n",
              "      <td>0.251373</td>\n",
              "      <td>0.28402</td>\n",
              "      <td>0.407864</td>\n",
              "      <td>1.0</td>\n",
              "      <td>0.101010</td>\n",
              "      <td>1</td>\n",
              "    </tr>\n",
              "    <tr>\n",
              "      <th>3</th>\n",
              "      <td>0.277674</td>\n",
              "      <td>0.305016</td>\n",
              "      <td>0.344653</td>\n",
              "      <td>0.252336</td>\n",
              "      <td>0.36759</td>\n",
              "      <td>0.410598</td>\n",
              "      <td>0.391567</td>\n",
              "      <td>0.251373</td>\n",
              "      <td>0.28402</td>\n",
              "      <td>0.407864</td>\n",
              "      <td>0.0</td>\n",
              "      <td>0.108247</td>\n",
              "      <td>0</td>\n",
              "    </tr>\n",
              "    <tr>\n",
              "      <th>4</th>\n",
              "      <td>0.277674</td>\n",
              "      <td>0.305016</td>\n",
              "      <td>0.374106</td>\n",
              "      <td>0.562958</td>\n",
              "      <td>0.36759</td>\n",
              "      <td>0.410598</td>\n",
              "      <td>0.364723</td>\n",
              "      <td>0.306002</td>\n",
              "      <td>0.28402</td>\n",
              "      <td>0.407864</td>\n",
              "      <td>1.0</td>\n",
              "      <td>0.684211</td>\n",
              "      <td>1</td>\n",
              "    </tr>\n",
              "  </tbody>\n",
              "</table>\n",
              "</div>"
            ],
            "text/plain": [
              "      hotel  arrival_date_month      meal   country  market_segment  \\\n",
              "0  0.277674            0.305016  0.374106  0.379365         0.36759   \n",
              "1  0.277674            0.305016  0.374106  0.379365         0.36759   \n",
              "2  0.277674            0.305016  0.374106  0.562958         0.36759   \n",
              "3  0.277674            0.305016  0.344653  0.252336         0.36759   \n",
              "4  0.277674            0.305016  0.374106  0.562958         0.36759   \n",
              "\n",
              "   distribution_channel  reserved_room_type  assigned_room_type  deposit_type  \\\n",
              "0              0.410598            0.391567            0.251373       0.28402   \n",
              "1              0.410598            0.407654            0.352528       0.28402   \n",
              "2              0.410598            0.318108            0.251373       0.28402   \n",
              "3              0.410598            0.391567            0.251373       0.28402   \n",
              "4              0.410598            0.364723            0.306002       0.28402   \n",
              "\n",
              "   customer_type  reservation_status  reservation_status_date  cancellation  \n",
              "0       0.254504                 0.0                 0.048276             0  \n",
              "1       0.254504                 0.0                 0.048276             0  \n",
              "2       0.407864                 1.0                 0.101010             1  \n",
              "3       0.407864                 0.0                 0.108247             0  \n",
              "4       0.407864                 1.0                 0.684211             1  "
            ]
          },
          "execution_count": 921,
          "metadata": {},
          "output_type": "execute_result"
        }
      ],
      "source": [
        "data_cat.head()"
      ]
    },
    {
      "cell_type": "code",
      "execution_count": 922,
      "metadata": {
        "id": "bzlEz1JwUvDB"
      },
      "outputs": [],
      "source": [
        "# handle outliers"
      ]
    },
    {
      "cell_type": "code",
      "execution_count": 923,
      "metadata": {
        "colab": {
          "base_uri": "https://localhost:8080/",
          "height": 443
        },
        "id": "GKUaWIKGW-Uv",
        "outputId": "5801895c-f356-4324-949a-fe0af8a8de43"
      },
      "outputs": [
        {
          "data": {
            "text/html": [
              "<div>\n",
              "<style scoped>\n",
              "    .dataframe tbody tr th:only-of-type {\n",
              "        vertical-align: middle;\n",
              "    }\n",
              "\n",
              "    .dataframe tbody tr th {\n",
              "        vertical-align: top;\n",
              "    }\n",
              "\n",
              "    .dataframe thead th {\n",
              "        text-align: right;\n",
              "    }\n",
              "</style>\n",
              "<table border=\"1\" class=\"dataframe\">\n",
              "  <thead>\n",
              "    <tr style=\"text-align: right;\">\n",
              "      <th></th>\n",
              "      <th>is_canceled</th>\n",
              "      <th>lead_time</th>\n",
              "      <th>arrival_date_year</th>\n",
              "      <th>arrival_date_week_number</th>\n",
              "      <th>arrival_date_day_of_month</th>\n",
              "      <th>stays_in_weekend_nights</th>\n",
              "      <th>stays_in_week_nights</th>\n",
              "      <th>adults</th>\n",
              "      <th>children</th>\n",
              "      <th>babies</th>\n",
              "      <th>...</th>\n",
              "      <th>previous_bookings_not_canceled</th>\n",
              "      <th>booking_changes</th>\n",
              "      <th>days_in_waiting_list</th>\n",
              "      <th>adr</th>\n",
              "      <th>required_car_parking_spaces</th>\n",
              "      <th>total_of_special_requests</th>\n",
              "      <th>is_family</th>\n",
              "      <th>total_customer</th>\n",
              "      <th>total_nights</th>\n",
              "      <th>deposit_given</th>\n",
              "    </tr>\n",
              "  </thead>\n",
              "  <tbody>\n",
              "    <tr>\n",
              "      <th>0</th>\n",
              "      <td>0</td>\n",
              "      <td>109</td>\n",
              "      <td>2016</td>\n",
              "      <td>1</td>\n",
              "      <td>1</td>\n",
              "      <td>0</td>\n",
              "      <td>1</td>\n",
              "      <td>2</td>\n",
              "      <td>0.0</td>\n",
              "      <td>0</td>\n",
              "      <td>...</td>\n",
              "      <td>0</td>\n",
              "      <td>0</td>\n",
              "      <td>0</td>\n",
              "      <td>59.94</td>\n",
              "      <td>0</td>\n",
              "      <td>1</td>\n",
              "      <td>0</td>\n",
              "      <td>2.0</td>\n",
              "      <td>1</td>\n",
              "      <td>0</td>\n",
              "    </tr>\n",
              "    <tr>\n",
              "      <th>1</th>\n",
              "      <td>0</td>\n",
              "      <td>109</td>\n",
              "      <td>2016</td>\n",
              "      <td>1</td>\n",
              "      <td>1</td>\n",
              "      <td>0</td>\n",
              "      <td>1</td>\n",
              "      <td>2</td>\n",
              "      <td>2.0</td>\n",
              "      <td>0</td>\n",
              "      <td>...</td>\n",
              "      <td>0</td>\n",
              "      <td>0</td>\n",
              "      <td>0</td>\n",
              "      <td>116.10</td>\n",
              "      <td>1</td>\n",
              "      <td>1</td>\n",
              "      <td>1</td>\n",
              "      <td>4.0</td>\n",
              "      <td>1</td>\n",
              "      <td>0</td>\n",
              "    </tr>\n",
              "    <tr>\n",
              "      <th>2</th>\n",
              "      <td>1</td>\n",
              "      <td>2</td>\n",
              "      <td>2016</td>\n",
              "      <td>1</td>\n",
              "      <td>1</td>\n",
              "      <td>0</td>\n",
              "      <td>1</td>\n",
              "      <td>2</td>\n",
              "      <td>0.0</td>\n",
              "      <td>0</td>\n",
              "      <td>...</td>\n",
              "      <td>0</td>\n",
              "      <td>0</td>\n",
              "      <td>0</td>\n",
              "      <td>89.00</td>\n",
              "      <td>0</td>\n",
              "      <td>1</td>\n",
              "      <td>0</td>\n",
              "      <td>2.0</td>\n",
              "      <td>1</td>\n",
              "      <td>0</td>\n",
              "    </tr>\n",
              "    <tr>\n",
              "      <th>3</th>\n",
              "      <td>0</td>\n",
              "      <td>88</td>\n",
              "      <td>2016</td>\n",
              "      <td>1</td>\n",
              "      <td>1</td>\n",
              "      <td>0</td>\n",
              "      <td>2</td>\n",
              "      <td>2</td>\n",
              "      <td>0.0</td>\n",
              "      <td>0</td>\n",
              "      <td>...</td>\n",
              "      <td>0</td>\n",
              "      <td>0</td>\n",
              "      <td>0</td>\n",
              "      <td>73.46</td>\n",
              "      <td>0</td>\n",
              "      <td>2</td>\n",
              "      <td>0</td>\n",
              "      <td>2.0</td>\n",
              "      <td>2</td>\n",
              "      <td>0</td>\n",
              "    </tr>\n",
              "    <tr>\n",
              "      <th>4</th>\n",
              "      <td>1</td>\n",
              "      <td>20</td>\n",
              "      <td>2016</td>\n",
              "      <td>1</td>\n",
              "      <td>1</td>\n",
              "      <td>0</td>\n",
              "      <td>2</td>\n",
              "      <td>2</td>\n",
              "      <td>2.0</td>\n",
              "      <td>0</td>\n",
              "      <td>...</td>\n",
              "      <td>0</td>\n",
              "      <td>0</td>\n",
              "      <td>0</td>\n",
              "      <td>119.00</td>\n",
              "      <td>0</td>\n",
              "      <td>0</td>\n",
              "      <td>1</td>\n",
              "      <td>4.0</td>\n",
              "      <td>2</td>\n",
              "      <td>0</td>\n",
              "    </tr>\n",
              "    <tr>\n",
              "      <th>...</th>\n",
              "      <td>...</td>\n",
              "      <td>...</td>\n",
              "      <td>...</td>\n",
              "      <td>...</td>\n",
              "      <td>...</td>\n",
              "      <td>...</td>\n",
              "      <td>...</td>\n",
              "      <td>...</td>\n",
              "      <td>...</td>\n",
              "      <td>...</td>\n",
              "      <td>...</td>\n",
              "      <td>...</td>\n",
              "      <td>...</td>\n",
              "      <td>...</td>\n",
              "      <td>...</td>\n",
              "      <td>...</td>\n",
              "      <td>...</td>\n",
              "      <td>...</td>\n",
              "      <td>...</td>\n",
              "      <td>...</td>\n",
              "      <td>...</td>\n",
              "    </tr>\n",
              "    <tr>\n",
              "      <th>119205</th>\n",
              "      <td>0</td>\n",
              "      <td>173</td>\n",
              "      <td>2016</td>\n",
              "      <td>53</td>\n",
              "      <td>26</td>\n",
              "      <td>3</td>\n",
              "      <td>8</td>\n",
              "      <td>2</td>\n",
              "      <td>1.0</td>\n",
              "      <td>0</td>\n",
              "      <td>...</td>\n",
              "      <td>0</td>\n",
              "      <td>4</td>\n",
              "      <td>0</td>\n",
              "      <td>117.82</td>\n",
              "      <td>0</td>\n",
              "      <td>1</td>\n",
              "      <td>1</td>\n",
              "      <td>3.0</td>\n",
              "      <td>11</td>\n",
              "      <td>0</td>\n",
              "    </tr>\n",
              "    <tr>\n",
              "      <th>119206</th>\n",
              "      <td>0</td>\n",
              "      <td>17</td>\n",
              "      <td>2016</td>\n",
              "      <td>53</td>\n",
              "      <td>30</td>\n",
              "      <td>2</td>\n",
              "      <td>5</td>\n",
              "      <td>2</td>\n",
              "      <td>0.0</td>\n",
              "      <td>0</td>\n",
              "      <td>...</td>\n",
              "      <td>0</td>\n",
              "      <td>0</td>\n",
              "      <td>0</td>\n",
              "      <td>90.34</td>\n",
              "      <td>0</td>\n",
              "      <td>1</td>\n",
              "      <td>0</td>\n",
              "      <td>2.0</td>\n",
              "      <td>7</td>\n",
              "      <td>0</td>\n",
              "    </tr>\n",
              "    <tr>\n",
              "      <th>119207</th>\n",
              "      <td>0</td>\n",
              "      <td>107</td>\n",
              "      <td>2016</td>\n",
              "      <td>53</td>\n",
              "      <td>31</td>\n",
              "      <td>2</td>\n",
              "      <td>5</td>\n",
              "      <td>2</td>\n",
              "      <td>0.0</td>\n",
              "      <td>0</td>\n",
              "      <td>...</td>\n",
              "      <td>0</td>\n",
              "      <td>0</td>\n",
              "      <td>0</td>\n",
              "      <td>103.57</td>\n",
              "      <td>0</td>\n",
              "      <td>0</td>\n",
              "      <td>0</td>\n",
              "      <td>2.0</td>\n",
              "      <td>7</td>\n",
              "      <td>0</td>\n",
              "    </tr>\n",
              "    <tr>\n",
              "      <th>119208</th>\n",
              "      <td>0</td>\n",
              "      <td>310</td>\n",
              "      <td>2016</td>\n",
              "      <td>53</td>\n",
              "      <td>27</td>\n",
              "      <td>2</td>\n",
              "      <td>10</td>\n",
              "      <td>2</td>\n",
              "      <td>0.0</td>\n",
              "      <td>0</td>\n",
              "      <td>...</td>\n",
              "      <td>0</td>\n",
              "      <td>2</td>\n",
              "      <td>0</td>\n",
              "      <td>68.57</td>\n",
              "      <td>0</td>\n",
              "      <td>2</td>\n",
              "      <td>0</td>\n",
              "      <td>2.0</td>\n",
              "      <td>12</td>\n",
              "      <td>0</td>\n",
              "    </tr>\n",
              "    <tr>\n",
              "      <th>119209</th>\n",
              "      <td>0</td>\n",
              "      <td>310</td>\n",
              "      <td>2016</td>\n",
              "      <td>53</td>\n",
              "      <td>27</td>\n",
              "      <td>2</td>\n",
              "      <td>10</td>\n",
              "      <td>2</td>\n",
              "      <td>0.0</td>\n",
              "      <td>0</td>\n",
              "      <td>...</td>\n",
              "      <td>0</td>\n",
              "      <td>2</td>\n",
              "      <td>0</td>\n",
              "      <td>68.57</td>\n",
              "      <td>0</td>\n",
              "      <td>2</td>\n",
              "      <td>0</td>\n",
              "      <td>2.0</td>\n",
              "      <td>12</td>\n",
              "      <td>0</td>\n",
              "    </tr>\n",
              "  </tbody>\n",
              "</table>\n",
              "<p>119210 rows × 22 columns</p>\n",
              "</div>"
            ],
            "text/plain": [
              "        is_canceled  lead_time  arrival_date_year  arrival_date_week_number  \\\n",
              "0                 0        109               2016                         1   \n",
              "1                 0        109               2016                         1   \n",
              "2                 1          2               2016                         1   \n",
              "3                 0         88               2016                         1   \n",
              "4                 1         20               2016                         1   \n",
              "...             ...        ...                ...                       ...   \n",
              "119205            0        173               2016                        53   \n",
              "119206            0         17               2016                        53   \n",
              "119207            0        107               2016                        53   \n",
              "119208            0        310               2016                        53   \n",
              "119209            0        310               2016                        53   \n",
              "\n",
              "        arrival_date_day_of_month  stays_in_weekend_nights  \\\n",
              "0                               1                        0   \n",
              "1                               1                        0   \n",
              "2                               1                        0   \n",
              "3                               1                        0   \n",
              "4                               1                        0   \n",
              "...                           ...                      ...   \n",
              "119205                         26                        3   \n",
              "119206                         30                        2   \n",
              "119207                         31                        2   \n",
              "119208                         27                        2   \n",
              "119209                         27                        2   \n",
              "\n",
              "        stays_in_week_nights  adults  children  babies  ...  \\\n",
              "0                          1       2       0.0       0  ...   \n",
              "1                          1       2       2.0       0  ...   \n",
              "2                          1       2       0.0       0  ...   \n",
              "3                          2       2       0.0       0  ...   \n",
              "4                          2       2       2.0       0  ...   \n",
              "...                      ...     ...       ...     ...  ...   \n",
              "119205                     8       2       1.0       0  ...   \n",
              "119206                     5       2       0.0       0  ...   \n",
              "119207                     5       2       0.0       0  ...   \n",
              "119208                    10       2       0.0       0  ...   \n",
              "119209                    10       2       0.0       0  ...   \n",
              "\n",
              "        previous_bookings_not_canceled  booking_changes  days_in_waiting_list  \\\n",
              "0                                    0                0                     0   \n",
              "1                                    0                0                     0   \n",
              "2                                    0                0                     0   \n",
              "3                                    0                0                     0   \n",
              "4                                    0                0                     0   \n",
              "...                                ...              ...                   ...   \n",
              "119205                               0                4                     0   \n",
              "119206                               0                0                     0   \n",
              "119207                               0                0                     0   \n",
              "119208                               0                2                     0   \n",
              "119209                               0                2                     0   \n",
              "\n",
              "           adr  required_car_parking_spaces  total_of_special_requests  \\\n",
              "0        59.94                            0                          1   \n",
              "1       116.10                            1                          1   \n",
              "2        89.00                            0                          1   \n",
              "3        73.46                            0                          2   \n",
              "4       119.00                            0                          0   \n",
              "...        ...                          ...                        ...   \n",
              "119205  117.82                            0                          1   \n",
              "119206   90.34                            0                          1   \n",
              "119207  103.57                            0                          0   \n",
              "119208   68.57                            0                          2   \n",
              "119209   68.57                            0                          2   \n",
              "\n",
              "        is_family  total_customer  total_nights  deposit_given  \n",
              "0               0             2.0             1              0  \n",
              "1               1             4.0             1              0  \n",
              "2               0             2.0             1              0  \n",
              "3               0             2.0             2              0  \n",
              "4               1             4.0             2              0  \n",
              "...           ...             ...           ...            ...  \n",
              "119205          1             3.0            11              0  \n",
              "119206          0             2.0             7              0  \n",
              "119207          0             2.0             7              0  \n",
              "119208          0             2.0            12              0  \n",
              "119209          0             2.0            12              0  \n",
              "\n",
              "[119210 rows x 22 columns]"
            ]
          },
          "execution_count": 923,
          "metadata": {},
          "output_type": "execute_result"
        }
      ],
      "source": [
        "data[num_features]"
      ]
    },
    {
      "cell_type": "code",
      "execution_count": 924,
      "metadata": {
        "id": "YP2YKrsoXBZ7"
      },
      "outputs": [],
      "source": [
        "dataframe = pd.concat([data_cat, data[num_features]], axis=1)"
      ]
    },
    {
      "cell_type": "code",
      "execution_count": 925,
      "metadata": {
        "id": "5vTczPmoXOEa"
      },
      "outputs": [],
      "source": [
        "dataframe.drop('cancellation', axis=1, inplace=True)"
      ]
    },
    {
      "cell_type": "code",
      "execution_count": 926,
      "metadata": {
        "colab": {
          "base_uri": "https://localhost:8080/",
          "height": 193
        },
        "id": "Zch1eXJgXXCM",
        "outputId": "f7e72aea-8614-42e6-c5ed-f39ce312f3c2"
      },
      "outputs": [
        {
          "data": {
            "text/html": [
              "<div>\n",
              "<style scoped>\n",
              "    .dataframe tbody tr th:only-of-type {\n",
              "        vertical-align: middle;\n",
              "    }\n",
              "\n",
              "    .dataframe tbody tr th {\n",
              "        vertical-align: top;\n",
              "    }\n",
              "\n",
              "    .dataframe thead th {\n",
              "        text-align: right;\n",
              "    }\n",
              "</style>\n",
              "<table border=\"1\" class=\"dataframe\">\n",
              "  <thead>\n",
              "    <tr style=\"text-align: right;\">\n",
              "      <th></th>\n",
              "      <th>hotel</th>\n",
              "      <th>arrival_date_month</th>\n",
              "      <th>meal</th>\n",
              "      <th>country</th>\n",
              "      <th>market_segment</th>\n",
              "      <th>distribution_channel</th>\n",
              "      <th>reserved_room_type</th>\n",
              "      <th>assigned_room_type</th>\n",
              "      <th>deposit_type</th>\n",
              "      <th>customer_type</th>\n",
              "      <th>...</th>\n",
              "      <th>previous_bookings_not_canceled</th>\n",
              "      <th>booking_changes</th>\n",
              "      <th>days_in_waiting_list</th>\n",
              "      <th>adr</th>\n",
              "      <th>required_car_parking_spaces</th>\n",
              "      <th>total_of_special_requests</th>\n",
              "      <th>is_family</th>\n",
              "      <th>total_customer</th>\n",
              "      <th>total_nights</th>\n",
              "      <th>deposit_given</th>\n",
              "    </tr>\n",
              "  </thead>\n",
              "  <tbody>\n",
              "    <tr>\n",
              "      <th>0</th>\n",
              "      <td>0.277674</td>\n",
              "      <td>0.305016</td>\n",
              "      <td>0.374106</td>\n",
              "      <td>0.379365</td>\n",
              "      <td>0.36759</td>\n",
              "      <td>0.410598</td>\n",
              "      <td>0.391567</td>\n",
              "      <td>0.251373</td>\n",
              "      <td>0.28402</td>\n",
              "      <td>0.254504</td>\n",
              "      <td>...</td>\n",
              "      <td>0</td>\n",
              "      <td>0</td>\n",
              "      <td>0</td>\n",
              "      <td>59.94</td>\n",
              "      <td>0</td>\n",
              "      <td>1</td>\n",
              "      <td>0</td>\n",
              "      <td>2.0</td>\n",
              "      <td>1</td>\n",
              "      <td>0</td>\n",
              "    </tr>\n",
              "    <tr>\n",
              "      <th>1</th>\n",
              "      <td>0.277674</td>\n",
              "      <td>0.305016</td>\n",
              "      <td>0.374106</td>\n",
              "      <td>0.379365</td>\n",
              "      <td>0.36759</td>\n",
              "      <td>0.410598</td>\n",
              "      <td>0.407654</td>\n",
              "      <td>0.352528</td>\n",
              "      <td>0.28402</td>\n",
              "      <td>0.254504</td>\n",
              "      <td>...</td>\n",
              "      <td>0</td>\n",
              "      <td>0</td>\n",
              "      <td>0</td>\n",
              "      <td>116.10</td>\n",
              "      <td>1</td>\n",
              "      <td>1</td>\n",
              "      <td>1</td>\n",
              "      <td>4.0</td>\n",
              "      <td>1</td>\n",
              "      <td>0</td>\n",
              "    </tr>\n",
              "    <tr>\n",
              "      <th>2</th>\n",
              "      <td>0.277674</td>\n",
              "      <td>0.305016</td>\n",
              "      <td>0.374106</td>\n",
              "      <td>0.562958</td>\n",
              "      <td>0.36759</td>\n",
              "      <td>0.410598</td>\n",
              "      <td>0.318108</td>\n",
              "      <td>0.251373</td>\n",
              "      <td>0.28402</td>\n",
              "      <td>0.407864</td>\n",
              "      <td>...</td>\n",
              "      <td>0</td>\n",
              "      <td>0</td>\n",
              "      <td>0</td>\n",
              "      <td>89.00</td>\n",
              "      <td>0</td>\n",
              "      <td>1</td>\n",
              "      <td>0</td>\n",
              "      <td>2.0</td>\n",
              "      <td>1</td>\n",
              "      <td>0</td>\n",
              "    </tr>\n",
              "  </tbody>\n",
              "</table>\n",
              "<p>3 rows × 34 columns</p>\n",
              "</div>"
            ],
            "text/plain": [
              "      hotel  arrival_date_month      meal   country  market_segment  \\\n",
              "0  0.277674            0.305016  0.374106  0.379365         0.36759   \n",
              "1  0.277674            0.305016  0.374106  0.379365         0.36759   \n",
              "2  0.277674            0.305016  0.374106  0.562958         0.36759   \n",
              "\n",
              "   distribution_channel  reserved_room_type  assigned_room_type  deposit_type  \\\n",
              "0              0.410598            0.391567            0.251373       0.28402   \n",
              "1              0.410598            0.407654            0.352528       0.28402   \n",
              "2              0.410598            0.318108            0.251373       0.28402   \n",
              "\n",
              "   customer_type  ...  previous_bookings_not_canceled  booking_changes  \\\n",
              "0       0.254504  ...                               0                0   \n",
              "1       0.254504  ...                               0                0   \n",
              "2       0.407864  ...                               0                0   \n",
              "\n",
              "   days_in_waiting_list     adr  required_car_parking_spaces  \\\n",
              "0                     0   59.94                            0   \n",
              "1                     0  116.10                            1   \n",
              "2                     0   89.00                            0   \n",
              "\n",
              "   total_of_special_requests  is_family  total_customer  total_nights  \\\n",
              "0                          1          0             2.0             1   \n",
              "1                          1          1             4.0             1   \n",
              "2                          1          0             2.0             1   \n",
              "\n",
              "   deposit_given  \n",
              "0              0  \n",
              "1              0  \n",
              "2              0  \n",
              "\n",
              "[3 rows x 34 columns]"
            ]
          },
          "execution_count": 926,
          "metadata": {},
          "output_type": "execute_result"
        }
      ],
      "source": [
        "dataframe.head(3)"
      ]
    },
    {
      "cell_type": "code",
      "execution_count": 927,
      "metadata": {
        "colab": {
          "base_uri": "https://localhost:8080/",
          "height": 468
        },
        "id": "8VqBvulkXbIl",
        "outputId": "66608ff4-1af2-47b9-805b-40be8fe5fa4d"
      },
      "outputs": [
        {
          "data": {
            "text/plain": [
              "<Axes: xlabel='lead_time', ylabel='Count'>"
            ]
          },
          "execution_count": 927,
          "metadata": {},
          "output_type": "execute_result"
        },
        {
          "data": {
            "image/png": "[encoded data removed]",
            "text/plain": [
              "<Figure size 640x480 with 1 Axes>"
            ]
          },
          "metadata": {},
          "output_type": "display_data"
        }
      ],
      "source": [
        "sns.histplot(dataframe.lead_time, kde=True)"
      ]
    },
    {
      "cell_type": "code",
      "execution_count": 928,
      "metadata": {
        "id": "ESmqoml4XlKQ"
      },
      "outputs": [],
      "source": [
        "def handle_outliers(col):\n",
        "  dataframe[col] = np.log1p(dataframe[col])"
      ]
    },
    {
      "cell_type": "code",
      "execution_count": 929,
      "metadata": {
        "id": "6xEKhuVDXt8y"
      },
      "outputs": [],
      "source": [
        "handle_outliers('lead_time')"
      ]
    },
    {
      "cell_type": "code",
      "execution_count": 930,
      "metadata": {
        "colab": {
          "base_uri": "https://localhost:8080/",
          "height": 468
        },
        "id": "TsGHIi0_XxNY",
        "outputId": "dfc1da50-bfa5-440c-b92a-ce50fca304d9"
      },
      "outputs": [
        {
          "data": {
            "text/plain": [
              "<Axes: xlabel='lead_time', ylabel='Count'>"
            ]
          },
          "execution_count": 930,
          "metadata": {},
          "output_type": "execute_result"
        },
        {
          "data": {
            "image/png": "[encoded data removed]",
            "text/plain": [
              "<Figure size 640x480 with 1 Axes>"
            ]
          },
          "metadata": {},
          "output_type": "display_data"
        }
      ],
      "source": [
        "sns.histplot(dataframe.lead_time, kde=True)"
      ]
    },
    {
      "cell_type": "code",
      "execution_count": 931,
      "metadata": {
        "colab": {
          "base_uri": "https://localhost:8080/",
          "height": 467
        },
        "id": "0jPN-AYqX266",
        "outputId": "4a7cf87c-9dff-40dd-e912-4d6e58871767"
      },
      "outputs": [
        {
          "data": {
            "text/plain": [
              "<Axes: xlabel='adr', ylabel='Count'>"
            ]
          },
          "execution_count": 931,
          "metadata": {},
          "output_type": "execute_result"
        },
        {
          "data": {
            "image/png": "[encoded data removed]",
            "text/plain": [
              "<Figure size 640x480 with 1 Axes>"
            ]
          },
          "metadata": {},
          "output_type": "display_data"
        }
      ],
      "source": [
        "sns.histplot(dataframe.adr, kde=True)"
      ]
    },
    {
      "cell_type": "code",
      "execution_count": 932,
      "metadata": {
        "colab": {
          "base_uri": "https://localhost:8080/",
          "height": 130
        },
        "id": "jdedez_MX-Gt",
        "outputId": "56caa5eb-04a2-4ec3-e47c-b2597562d23e"
      },
      "outputs": [
        {
          "data": {
            "text/plain": [
              "14989   -6.38\n",
              "Name: adr, dtype: float64"
            ]
          },
          "execution_count": 932,
          "metadata": {},
          "output_type": "execute_result"
        }
      ],
      "source": [
        "dataframe[dataframe.adr < 0].adr"
      ]
    },
    {
      "cell_type": "code",
      "execution_count": 933,
      "metadata": {
        "id": "0ZdcpxEwYDNX"
      },
      "outputs": [],
      "source": [
        "handle_outliers('adr')"
      ]
    },
    {
      "cell_type": "code",
      "execution_count": 934,
      "metadata": {
        "colab": {
          "base_uri": "https://localhost:8080/"
        },
        "id": "JbPOyXP7YJtI",
        "outputId": "170b08a4-629f-4fc5-8cf4-6f5cec6a3f0f"
      },
      "outputs": [
        {
          "data": {
            "text/plain": [
              "1"
            ]
          },
          "execution_count": 934,
          "metadata": {},
          "output_type": "execute_result"
        }
      ],
      "source": [
        "dataframe['adr'].isnull().sum()"
      ]
    },
    {
      "cell_type": "code",
      "execution_count": 935,
      "metadata": {
        "id": "tRWWyvFOYQYF"
      },
      "outputs": [],
      "source": [
        "# one value is null because it contains negative values and was applied with log function which could not take any negative values."
      ]
    },
    {
      "cell_type": "code",
      "execution_count": 936,
      "metadata": {
        "colab": {
          "base_uri": "https://localhost:8080/",
          "height": 467
        },
        "id": "QXS0hhj2YUs6",
        "outputId": "3306d5fc-9d2b-4c0f-d5f0-0620d4588e70"
      },
      "outputs": [
        {
          "data": {
            "text/plain": [
              "<Axes: xlabel='adr', ylabel='Count'>"
            ]
          },
          "execution_count": 936,
          "metadata": {},
          "output_type": "execute_result"
        },
        {
          "data": {
            "image/png": "[encoded data removed]",
            "text/plain": [
              "<Figure size 640x480 with 1 Axes>"
            ]
          },
          "metadata": {},
          "output_type": "display_data"
        }
      ],
      "source": [
        "sns.histplot(dataframe.adr.dropna(), kde=True)"
      ]
    },
    {
      "cell_type": "code",
      "execution_count": 937,
      "metadata": {
        "id": "qrjtaMSpYYJS"
      },
      "outputs": [],
      "source": [
        "# select important features using correlation and univariate analysis"
      ]
    },
    {
      "cell_type": "code",
      "execution_count": 938,
      "metadata": {
        "colab": {
          "base_uri": "https://localhost:8080/",
          "height": 325
        },
        "id": "zR4lvLT7Yemp",
        "outputId": "6df0c8c1-739f-4d15-8e94-574ddbeb0970"
      },
      "outputs": [
        {
          "data": {
            "text/plain": [
              "<seaborn.axisgrid.FacetGrid at 0x1ca405ed9d0>"
            ]
          },
          "execution_count": 938,
          "metadata": {},
          "output_type": "execute_result"
        },
        {
          "data": {
            "image/png": "[encoded data removed]",
            "text/plain": [
              "<Figure size 391.486x300 with 1 Axes>"
            ]
          },
          "metadata": {},
          "output_type": "display_data"
        }
      ],
      "source": [
        "sns.FacetGrid(data, hue='is_canceled', xlim=(0,500)).map(sns.kdeplot, 'lead_time', shade=True).add_legend()"
      ]
    },
    {
      "cell_type": "code",
      "execution_count": 939,
      "metadata": {
        "id": "V0lz-JzHYqR2"
      },
      "outputs": [],
      "source": [
        "corr = dataframe.corr()"
      ]
    },
    {
      "cell_type": "code",
      "execution_count": 940,
      "metadata": {
        "colab": {
          "base_uri": "https://localhost:8080/"
        },
        "id": "BInkLcZ9Y1aA",
        "outputId": "093d630e-917b-43f0-d227-7b83e3e5b809"
      },
      "outputs": [
        {
          "data": {
            "text/plain": [
              "reservation_status                1.000000\n",
              "is_canceled                       1.000000\n",
              "reservation_status_date           0.488307\n",
              "deposit_type                      0.481530\n",
              "deposit_given                     0.481507\n",
              "country                           0.357232\n",
              "lead_time                         0.320075\n",
              "market_segment                    0.267006\n",
              "assigned_room_type                0.201570\n",
              "distribution_channel              0.177167\n",
              "hotel                             0.137082\n",
              "customer_type                     0.136617\n",
              "previous_cancellations            0.110139\n",
              "adr                               0.081660\n",
              "reserved_room_type                0.072769\n",
              "arrival_date_month                0.069886\n",
              "adults                            0.058182\n",
              "days_in_waiting_list              0.054301\n",
              "meal                              0.050584\n",
              "total_customer                    0.044826\n",
              "stays_in_week_nights              0.025542\n",
              "total_nights                      0.018554\n",
              "arrival_date_year                 0.016622\n",
              "arrival_date_week_number          0.008315\n",
              "children                          0.004851\n",
              "stays_in_weekend_nights          -0.001323\n",
              "arrival_date_day_of_month        -0.005948\n",
              "is_family                        -0.013226\n",
              "babies                           -0.032569\n",
              "previous_bookings_not_canceled   -0.057365\n",
              "is_repeated_guest                -0.083745\n",
              "booking_changes                  -0.144832\n",
              "required_car_parking_spaces      -0.195701\n",
              "total_of_special_requests        -0.234877\n",
              "Name: is_canceled, dtype: float64"
            ]
          },
          "execution_count": 940,
          "metadata": {},
          "output_type": "execute_result"
        }
      ],
      "source": [
        "corr.is_canceled.sort_values(ascending=False)"
      ]
    },
    {
      "cell_type": "code",
      "execution_count": 941,
      "metadata": {
        "colab": {
          "base_uri": "https://localhost:8080/"
        },
        "id": "b53hPtoKY8fW",
        "outputId": "3ccc369c-69e2-4b71-b527-2113e68a1813"
      },
      "outputs": [
        {
          "data": {
            "text/plain": [
              "Index(['reservation_status', 'is_canceled', 'reservation_status_date',\n",
              "       'deposit_type', 'deposit_given', 'country', 'lead_time',\n",
              "       'market_segment', 'assigned_room_type', 'distribution_channel', 'hotel',\n",
              "       'customer_type', 'previous_cancellations', 'adr', 'reserved_room_type',\n",
              "       'arrival_date_month', 'adults', 'days_in_waiting_list', 'meal',\n",
              "       'total_customer', 'stays_in_week_nights', 'total_nights',\n",
              "       'arrival_date_year', 'arrival_date_week_number', 'children',\n",
              "       'stays_in_weekend_nights', 'arrival_date_day_of_month', 'is_family',\n",
              "       'babies', 'previous_bookings_not_canceled', 'is_repeated_guest',\n",
              "       'booking_changes', 'required_car_parking_spaces',\n",
              "       'total_of_special_requests'],\n",
              "      dtype='object')"
            ]
          },
          "execution_count": 941,
          "metadata": {},
          "output_type": "execute_result"
        }
      ],
      "source": [
        "corr.is_canceled.sort_values(ascending=False).index"
      ]
    },
    {
      "cell_type": "code",
      "execution_count": 942,
      "metadata": {
        "id": "WjRFtIFXZGxo"
      },
      "outputs": [],
      "source": [
        "features_to_drop = ['reservation_status', 'reservation_status_date', 'arrival_date_year',\n",
        "                  'arrival_date_week_number', 'stays_in_weekend_nights', 'arrival_date_day_of_month', 'children']"
      ]
    },
    {
      "cell_type": "code",
      "execution_count": 943,
      "metadata": {
        "id": "i46Cr8wkZfRl"
      },
      "outputs": [],
      "source": [
        "dataframe.drop(features_to_drop, axis=1, inplace=True)"
      ]
    },
    {
      "cell_type": "code",
      "execution_count": 944,
      "metadata": {
        "colab": {
          "base_uri": "https://localhost:8080/"
        },
        "id": "9Iwy_kxPZqON",
        "outputId": "a3c936fc-5255-444f-adc8-4653819a8759"
      },
      "outputs": [
        {
          "data": {
            "text/plain": [
              "(119210, 27)"
            ]
          },
          "execution_count": 944,
          "metadata": {},
          "output_type": "execute_result"
        }
      ],
      "source": [
        "dataframe.shape"
      ]
    },
    {
      "cell_type": "code",
      "execution_count": 945,
      "metadata": {
        "id": "Nlk4F3ykZrSe"
      },
      "outputs": [],
      "source": [
        "# how to find important features for model building"
      ]
    },
    {
      "cell_type": "code",
      "execution_count": 946,
      "metadata": {
        "colab": {
          "base_uri": "https://localhost:8080/",
          "height": 161
        },
        "id": "NI4MBfyrZ0xZ",
        "outputId": "f205cbc2-29da-4fdc-f51b-5a735cbb6200"
      },
      "outputs": [
        {
          "data": {
            "text/html": [
              "<div>\n",
              "<style scoped>\n",
              "    .dataframe tbody tr th:only-of-type {\n",
              "        vertical-align: middle;\n",
              "    }\n",
              "\n",
              "    .dataframe tbody tr th {\n",
              "        vertical-align: top;\n",
              "    }\n",
              "\n",
              "    .dataframe thead th {\n",
              "        text-align: right;\n",
              "    }\n",
              "</style>\n",
              "<table border=\"1\" class=\"dataframe\">\n",
              "  <thead>\n",
              "    <tr style=\"text-align: right;\">\n",
              "      <th></th>\n",
              "      <th>hotel</th>\n",
              "      <th>arrival_date_month</th>\n",
              "      <th>meal</th>\n",
              "      <th>country</th>\n",
              "      <th>market_segment</th>\n",
              "      <th>distribution_channel</th>\n",
              "      <th>reserved_room_type</th>\n",
              "      <th>assigned_room_type</th>\n",
              "      <th>deposit_type</th>\n",
              "      <th>customer_type</th>\n",
              "      <th>...</th>\n",
              "      <th>previous_bookings_not_canceled</th>\n",
              "      <th>booking_changes</th>\n",
              "      <th>days_in_waiting_list</th>\n",
              "      <th>adr</th>\n",
              "      <th>required_car_parking_spaces</th>\n",
              "      <th>total_of_special_requests</th>\n",
              "      <th>is_family</th>\n",
              "      <th>total_customer</th>\n",
              "      <th>total_nights</th>\n",
              "      <th>deposit_given</th>\n",
              "    </tr>\n",
              "  </thead>\n",
              "  <tbody>\n",
              "    <tr>\n",
              "      <th>0</th>\n",
              "      <td>0.277674</td>\n",
              "      <td>0.305016</td>\n",
              "      <td>0.374106</td>\n",
              "      <td>0.379365</td>\n",
              "      <td>0.36759</td>\n",
              "      <td>0.410598</td>\n",
              "      <td>0.391567</td>\n",
              "      <td>0.251373</td>\n",
              "      <td>0.28402</td>\n",
              "      <td>0.254504</td>\n",
              "      <td>...</td>\n",
              "      <td>0</td>\n",
              "      <td>0</td>\n",
              "      <td>0</td>\n",
              "      <td>4.109890</td>\n",
              "      <td>0</td>\n",
              "      <td>1</td>\n",
              "      <td>0</td>\n",
              "      <td>2.0</td>\n",
              "      <td>1</td>\n",
              "      <td>0</td>\n",
              "    </tr>\n",
              "    <tr>\n",
              "      <th>1</th>\n",
              "      <td>0.277674</td>\n",
              "      <td>0.305016</td>\n",
              "      <td>0.374106</td>\n",
              "      <td>0.379365</td>\n",
              "      <td>0.36759</td>\n",
              "      <td>0.410598</td>\n",
              "      <td>0.407654</td>\n",
              "      <td>0.352528</td>\n",
              "      <td>0.28402</td>\n",
              "      <td>0.254504</td>\n",
              "      <td>...</td>\n",
              "      <td>0</td>\n",
              "      <td>0</td>\n",
              "      <td>0</td>\n",
              "      <td>4.763028</td>\n",
              "      <td>1</td>\n",
              "      <td>1</td>\n",
              "      <td>1</td>\n",
              "      <td>4.0</td>\n",
              "      <td>1</td>\n",
              "      <td>0</td>\n",
              "    </tr>\n",
              "    <tr>\n",
              "      <th>2</th>\n",
              "      <td>0.277674</td>\n",
              "      <td>0.305016</td>\n",
              "      <td>0.374106</td>\n",
              "      <td>0.562958</td>\n",
              "      <td>0.36759</td>\n",
              "      <td>0.410598</td>\n",
              "      <td>0.318108</td>\n",
              "      <td>0.251373</td>\n",
              "      <td>0.28402</td>\n",
              "      <td>0.407864</td>\n",
              "      <td>...</td>\n",
              "      <td>0</td>\n",
              "      <td>0</td>\n",
              "      <td>0</td>\n",
              "      <td>4.499810</td>\n",
              "      <td>0</td>\n",
              "      <td>1</td>\n",
              "      <td>0</td>\n",
              "      <td>2.0</td>\n",
              "      <td>1</td>\n",
              "      <td>0</td>\n",
              "    </tr>\n",
              "    <tr>\n",
              "      <th>3</th>\n",
              "      <td>0.277674</td>\n",
              "      <td>0.305016</td>\n",
              "      <td>0.344653</td>\n",
              "      <td>0.252336</td>\n",
              "      <td>0.36759</td>\n",
              "      <td>0.410598</td>\n",
              "      <td>0.391567</td>\n",
              "      <td>0.251373</td>\n",
              "      <td>0.28402</td>\n",
              "      <td>0.407864</td>\n",
              "      <td>...</td>\n",
              "      <td>0</td>\n",
              "      <td>0</td>\n",
              "      <td>0</td>\n",
              "      <td>4.310262</td>\n",
              "      <td>0</td>\n",
              "      <td>2</td>\n",
              "      <td>0</td>\n",
              "      <td>2.0</td>\n",
              "      <td>2</td>\n",
              "      <td>0</td>\n",
              "    </tr>\n",
              "    <tr>\n",
              "      <th>4</th>\n",
              "      <td>0.277674</td>\n",
              "      <td>0.305016</td>\n",
              "      <td>0.374106</td>\n",
              "      <td>0.562958</td>\n",
              "      <td>0.36759</td>\n",
              "      <td>0.410598</td>\n",
              "      <td>0.364723</td>\n",
              "      <td>0.306002</td>\n",
              "      <td>0.28402</td>\n",
              "      <td>0.407864</td>\n",
              "      <td>...</td>\n",
              "      <td>0</td>\n",
              "      <td>0</td>\n",
              "      <td>0</td>\n",
              "      <td>4.787492</td>\n",
              "      <td>0</td>\n",
              "      <td>0</td>\n",
              "      <td>1</td>\n",
              "      <td>4.0</td>\n",
              "      <td>2</td>\n",
              "      <td>0</td>\n",
              "    </tr>\n",
              "  </tbody>\n",
              "</table>\n",
              "<p>5 rows × 27 columns</p>\n",
              "</div>"
            ],
            "text/plain": [
              "      hotel  arrival_date_month      meal   country  market_segment  \\\n",
              "0  0.277674            0.305016  0.374106  0.379365         0.36759   \n",
              "1  0.277674            0.305016  0.374106  0.379365         0.36759   \n",
              "2  0.277674            0.305016  0.374106  0.562958         0.36759   \n",
              "3  0.277674            0.305016  0.344653  0.252336         0.36759   \n",
              "4  0.277674            0.305016  0.374106  0.562958         0.36759   \n",
              "\n",
              "   distribution_channel  reserved_room_type  assigned_room_type  deposit_type  \\\n",
              "0              0.410598            0.391567            0.251373       0.28402   \n",
              "1              0.410598            0.407654            0.352528       0.28402   \n",
              "2              0.410598            0.318108            0.251373       0.28402   \n",
              "3              0.410598            0.391567            0.251373       0.28402   \n",
              "4              0.410598            0.364723            0.306002       0.28402   \n",
              "\n",
              "   customer_type  ...  previous_bookings_not_canceled  booking_changes  \\\n",
              "0       0.254504  ...                               0                0   \n",
              "1       0.254504  ...                               0                0   \n",
              "2       0.407864  ...                               0                0   \n",
              "3       0.407864  ...                               0                0   \n",
              "4       0.407864  ...                               0                0   \n",
              "\n",
              "   days_in_waiting_list       adr  required_car_parking_spaces  \\\n",
              "0                     0  4.109890                            0   \n",
              "1                     0  4.763028                            1   \n",
              "2                     0  4.499810                            0   \n",
              "3                     0  4.310262                            0   \n",
              "4                     0  4.787492                            0   \n",
              "\n",
              "   total_of_special_requests  is_family  total_customer  total_nights  \\\n",
              "0                          1          0             2.0             1   \n",
              "1                          1          1             4.0             1   \n",
              "2                          1          0             2.0             1   \n",
              "3                          2          0             2.0             2   \n",
              "4                          0          1             4.0             2   \n",
              "\n",
              "   deposit_given  \n",
              "0              0  \n",
              "1              0  \n",
              "2              0  \n",
              "3              0  \n",
              "4              0  \n",
              "\n",
              "[5 rows x 27 columns]"
            ]
          },
          "execution_count": 946,
          "metadata": {},
          "output_type": "execute_result"
        }
      ],
      "source": [
        "dataframe.head()"
      ]
    },
    {
      "cell_type": "code",
      "execution_count": 947,
      "metadata": {
        "colab": {
          "base_uri": "https://localhost:8080/"
        },
        "id": "OkFTgojBZ1zZ",
        "outputId": "f695deb1-2ffc-4b16-d2ce-08a0fb59250a"
      },
      "outputs": [
        {
          "data": {
            "text/plain": [
              "hotel                             0\n",
              "arrival_date_month                0\n",
              "meal                              0\n",
              "country                           0\n",
              "market_segment                    0\n",
              "distribution_channel              0\n",
              "reserved_room_type                0\n",
              "assigned_room_type                0\n",
              "deposit_type                      0\n",
              "customer_type                     0\n",
              "is_canceled                       0\n",
              "lead_time                         0\n",
              "stays_in_week_nights              0\n",
              "adults                            0\n",
              "babies                            0\n",
              "is_repeated_guest                 0\n",
              "previous_cancellations            0\n",
              "previous_bookings_not_canceled    0\n",
              "booking_changes                   0\n",
              "days_in_waiting_list              0\n",
              "adr                               1\n",
              "required_car_parking_spaces       0\n",
              "total_of_special_requests         0\n",
              "is_family                         0\n",
              "total_customer                    0\n",
              "total_nights                      0\n",
              "deposit_given                     0\n",
              "dtype: int64"
            ]
          },
          "execution_count": 947,
          "metadata": {},
          "output_type": "execute_result"
        }
      ],
      "source": [
        "dataframe.isnull().sum()"
      ]
    },
    {
      "cell_type": "code",
      "execution_count": 948,
      "metadata": {
        "id": "QtThtJ9rZ463"
      },
      "outputs": [],
      "source": [
        "dataframe.dropna(inplace=True)"
      ]
    },
    {
      "cell_type": "code",
      "execution_count": 949,
      "metadata": {
        "id": "PfYgJcvvZ98L"
      },
      "outputs": [],
      "source": [
        "x = dataframe.drop('is_canceled', axis=1)"
      ]
    },
    {
      "cell_type": "code",
      "execution_count": 950,
      "metadata": {
        "id": "TeiC210-aB4a"
      },
      "outputs": [],
      "source": [
        "y = dataframe.is_canceled"
      ]
    },
    {
      "cell_type": "code",
      "execution_count": 951,
      "metadata": {
        "id": "xhdZGD_BaEM-"
      },
      "outputs": [],
      "source": [
        "from sklearn.linear_model import Lasso\n",
        "from sklearn.feature_selection import SelectFromModel"
      ]
    },
    {
      "cell_type": "code",
      "execution_count": 952,
      "metadata": {
        "id": "hw0tCTYlaKiw"
      },
      "outputs": [],
      "source": [
        "feature_sel_model = SelectFromModel(Lasso(alpha=0.005))"
      ]
    },
    {
      "cell_type": "code",
      "execution_count": 953,
      "metadata": {
        "colab": {
          "base_uri": "https://localhost:8080/",
          "height": 117
        },
        "id": "RNF65e_jaT5J",
        "outputId": "86ed2949-2a5c-4671-aa61-a91c531ffc58"
      },
      "outputs": [
        {
          "data": {
            "text/html": [
              "<style>#sk-container-id-4 {\n",
              "  /* Definition of color scheme common for light and dark mode */\n",
              "  --sklearn-color-text: black;\n",
              "  --sklearn-color-line: gray;\n",
              "  /* Definition of color scheme for unfitted estimators */\n",
              "  --sklearn-color-unfitted-level-0: #fff5e6;\n",
              "  --sklearn-color-unfitted-level-1: #f6e4d2;\n",
              "  --sklearn-color-unfitted-level-2: #ffe0b3;\n",
              "  --sklearn-color-unfitted-level-3: chocolate;\n",
              "  /* Definition of color scheme for fitted estimators */\n",
              "  --sklearn-color-fitted-level-0: #f0f8ff;\n",
              "  --sklearn-color-fitted-level-1: #d4ebff;\n",
              "  --sklearn-color-fitted-level-2: #b3dbfd;\n",
              "  --sklearn-color-fitted-level-3: cornflowerblue;\n",
              "\n",
              "  /* Specific color for light theme */\n",
              "  --sklearn-color-text-on-default-background: var(--sg-text-color, var(--theme-code-foreground, var(--jp-content-font-color1, black)));\n",
              "  --sklearn-color-background: var(--sg-background-color, var(--theme-background, var(--jp-layout-color0, white)));\n",
              "  --sklearn-color-border-box: var(--sg-text-color, var(--theme-code-foreground, var(--jp-content-font-color1, black)));\n",
              "  --sklearn-color-icon: #696969;\n",
              "\n",
              "  @media (prefers-color-scheme: dark) {\n",
              "    /* Redefinition of color scheme for dark theme */\n",
              "    --sklearn-color-text-on-default-background: var(--sg-text-color, var(--theme-code-foreground, var(--jp-content-font-color1, white)));\n",
              "    --sklearn-color-background: var(--sg-background-color, var(--theme-background, var(--jp-layout-color0, #111)));\n",
              "    --sklearn-color-border-box: var(--sg-text-color, var(--theme-code-foreground, var(--jp-content-font-color1, white)));\n",
              "    --sklearn-color-icon: #878787;\n",
              "  }\n",
              "}\n",
              "\n",
              "#sk-container-id-4 {\n",
              "  color: var(--sklearn-color-text);\n",
              "}\n",
              "\n",
              "#sk-container-id-4 pre {\n",
              "  padding: 0;\n",
              "}\n",
              "\n",
              "#sk-container-id-4 input.sk-hidden--visually {\n",
              "  border: 0;\n",
              "  clip: rect(1px 1px 1px 1px);\n",
              "  clip: rect(1px, 1px, 1px, 1px);\n",
              "  height: 1px;\n",
              "  margin: -1px;\n",
              "  overflow: hidden;\n",
              "  padding: 0;\n",
              "  position: absolute;\n",
              "  width: 1px;\n",
              "}\n",
              "\n",
              "#sk-container-id-4 div.sk-dashed-wrapped {\n",
              "  border: 1px dashed var(--sklearn-color-line);\n",
              "  margin: 0 0.4em 0.5em 0.4em;\n",
              "  box-sizing: border-box;\n",
              "  padding-bottom: 0.4em;\n",
              "  background-color: var(--sklearn-color-background);\n",
              "}\n",
              "\n",
              "#sk-container-id-4 div.sk-container {\n",
              "  /* jupyter's `normalize.less` sets `[hidden] { display: none; }`\n",
              "     but bootstrap.min.css set `[hidden] { display: none !important; }`\n",
              "     so we also need the `!important` here to be able to override the\n",
              "     default hidden behavior on the sphinx rendered scikit-learn.org.\n",
              "     See: https://github.com/scikit-learn/scikit-learn/issues/21755 */\n",
              "  display: inline-block !important;\n",
              "  position: relative;\n",
              "}\n",
              "\n",
              "#sk-container-id-4 div.sk-text-repr-fallback {\n",
              "  display: none;\n",
              "}\n",
              "\n",
              "div.sk-parallel-item,\n",
              "div.sk-serial,\n",
              "div.sk-item {\n",
              "  /* draw centered vertical line to link estimators */\n",
              "  background-image: linear-gradient(var(--sklearn-color-text-on-default-background), var(--sklearn-color-text-on-default-background));\n",
              "  background-size: 2px 100%;\n",
              "  background-repeat: no-repeat;\n",
              "  background-position: center center;\n",
              "}\n",
              "\n",
              "/* Parallel-specific style estimator block */\n",
              "\n",
              "#sk-container-id-4 div.sk-parallel-item::after {\n",
              "  content: \"\";\n",
              "  width: 100%;\n",
              "  border-bottom: 2px solid var(--sklearn-color-text-on-default-background);\n",
              "  flex-grow: 1;\n",
              "}\n",
              "\n",
              "#sk-container-id-4 div.sk-parallel {\n",
              "  display: flex;\n",
              "  align-items: stretch;\n",
              "  justify-content: center;\n",
              "  background-color: var(--sklearn-color-background);\n",
              "  position: relative;\n",
              "}\n",
              "\n",
              "#sk-container-id-4 div.sk-parallel-item {\n",
              "  display: flex;\n",
              "  flex-direction: column;\n",
              "}\n",
              "\n",
              "#sk-container-id-4 div.sk-parallel-item:first-child::after {\n",
              "  align-self: flex-end;\n",
              "  width: 50%;\n",
              "}\n",
              "\n",
              "#sk-container-id-4 div.sk-parallel-item:last-child::after {\n",
              "  align-self: flex-start;\n",
              "  width: 50%;\n",
              "}\n",
              "\n",
              "#sk-container-id-4 div.sk-parallel-item:only-child::after {\n",
              "  width: 0;\n",
              "}\n",
              "\n",
              "/* Serial-specific style estimator block */\n",
              "\n",
              "#sk-container-id-4 div.sk-serial {\n",
              "  display: flex;\n",
              "  flex-direction: column;\n",
              "  align-items: center;\n",
              "  background-color: var(--sklearn-color-background);\n",
              "  padding-right: 1em;\n",
              "  padding-left: 1em;\n",
              "}\n",
              "\n",
              "\n",
              "/* Toggleable style: style used for estimator/Pipeline/ColumnTransformer box that is\n",
              "clickable and can be expanded/collapsed.\n",
              "- Pipeline and ColumnTransformer use this feature and define the default style\n",
              "- Estimators will overwrite some part of the style using the `sk-estimator` class\n",
              "*/\n",
              "\n",
              "/* Pipeline and ColumnTransformer style (default) */\n",
              "\n",
              "#sk-container-id-4 div.sk-toggleable {\n",
              "  /* Default theme specific background. It is overwritten whether we have a\n",
              "  specific estimator or a Pipeline/ColumnTransformer */\n",
              "  background-color: var(--sklearn-color-background);\n",
              "}\n",
              "\n",
              "/* Toggleable label */\n",
              "#sk-container-id-4 label.sk-toggleable__label {\n",
              "  cursor: pointer;\n",
              "  display: block;\n",
              "  width: 100%;\n",
              "  margin-bottom: 0;\n",
              "  padding: 0.5em;\n",
              "  box-sizing: border-box;\n",
              "  text-align: center;\n",
              "}\n",
              "\n",
              "#sk-container-id-4 label.sk-toggleable__label-arrow:before {\n",
              "  /* Arrow on the left of the label */\n",
              "  content: \"▸\";\n",
              "  float: left;\n",
              "  margin-right: 0.25em;\n",
              "  color: var(--sklearn-color-icon);\n",
              "}\n",
              "\n",
              "#sk-container-id-4 label.sk-toggleable__label-arrow:hover:before {\n",
              "  color: var(--sklearn-color-text);\n",
              "}\n",
              "\n",
              "/* Toggleable content - dropdown */\n",
              "\n",
              "#sk-container-id-4 div.sk-toggleable__content {\n",
              "  max-height: 0;\n",
              "  max-width: 0;\n",
              "  overflow: hidden;\n",
              "  text-align: left;\n",
              "  /* unfitted */\n",
              "  background-color: var(--sklearn-color-unfitted-level-0);\n",
              "}\n",
              "\n",
              "#sk-container-id-4 div.sk-toggleable__content.fitted {\n",
              "  /* fitted */\n",
              "  background-color: var(--sklearn-color-fitted-level-0);\n",
              "}\n",
              "\n",
              "#sk-container-id-4 div.sk-toggleable__content pre {\n",
              "  margin: 0.2em;\n",
              "  border-radius: 0.25em;\n",
              "  color: var(--sklearn-color-text);\n",
              "  /* unfitted */\n",
              "  background-color: var(--sklearn-color-unfitted-level-0);\n",
              "}\n",
              "\n",
              "#sk-container-id-4 div.sk-toggleable__content.fitted pre {\n",
              "  /* unfitted */\n",
              "  background-color: var(--sklearn-color-fitted-level-0);\n",
              "}\n",
              "\n",
              "#sk-container-id-4 input.sk-toggleable__control:checked~div.sk-toggleable__content {\n",
              "  /* Expand drop-down */\n",
              "  max-height: 200px;\n",
              "  max-width: 100%;\n",
              "  overflow: auto;\n",
              "}\n",
              "\n",
              "#sk-container-id-4 input.sk-toggleable__control:checked~label.sk-toggleable__label-arrow:before {\n",
              "  content: \"▾\";\n",
              "}\n",
              "\n",
              "/* Pipeline/ColumnTransformer-specific style */\n",
              "\n",
              "#sk-container-id-4 div.sk-label input.sk-toggleable__control:checked~label.sk-toggleable__label {\n",
              "  color: var(--sklearn-color-text);\n",
              "  background-color: var(--sklearn-color-unfitted-level-2);\n",
              "}\n",
              "\n",
              "#sk-container-id-4 div.sk-label.fitted input.sk-toggleable__control:checked~label.sk-toggleable__label {\n",
              "  background-color: var(--sklearn-color-fitted-level-2);\n",
              "}\n",
              "\n",
              "/* Estimator-specific style */\n",
              "\n",
              "/* Colorize estimator box */\n",
              "#sk-container-id-4 div.sk-estimator input.sk-toggleable__control:checked~label.sk-toggleable__label {\n",
              "  /* unfitted */\n",
              "  background-color: var(--sklearn-color-unfitted-level-2);\n",
              "}\n",
              "\n",
              "#sk-container-id-4 div.sk-estimator.fitted input.sk-toggleable__control:checked~label.sk-toggleable__label {\n",
              "  /* fitted */\n",
              "  background-color: var(--sklearn-color-fitted-level-2);\n",
              "}\n",
              "\n",
              "#sk-container-id-4 div.sk-label label.sk-toggleable__label,\n",
              "#sk-container-id-4 div.sk-label label {\n",
              "  /* The background is the default theme color */\n",
              "  color: var(--sklearn-color-text-on-default-background);\n",
              "}\n",
              "\n",
              "/* On hover, darken the color of the background */\n",
              "#sk-container-id-4 div.sk-label:hover label.sk-toggleable__label {\n",
              "  color: var(--sklearn-color-text);\n",
              "  background-color: var(--sklearn-color-unfitted-level-2);\n",
              "}\n",
              "\n",
              "/* Label box, darken color on hover, fitted */\n",
              "#sk-container-id-4 div.sk-label.fitted:hover label.sk-toggleable__label.fitted {\n",
              "  color: var(--sklearn-color-text);\n",
              "  background-color: var(--sklearn-color-fitted-level-2);\n",
              "}\n",
              "\n",
              "/* Estimator label */\n",
              "\n",
              "#sk-container-id-4 div.sk-label label {\n",
              "  font-family: monospace;\n",
              "  font-weight: bold;\n",
              "  display: inline-block;\n",
              "  line-height: 1.2em;\n",
              "}\n",
              "\n",
              "#sk-container-id-4 div.sk-label-container {\n",
              "  text-align: center;\n",
              "}\n",
              "\n",
              "/* Estimator-specific */\n",
              "#sk-container-id-4 div.sk-estimator {\n",
              "  font-family: monospace;\n",
              "  border: 1px dotted var(--sklearn-color-border-box);\n",
              "  border-radius: 0.25em;\n",
              "  box-sizing: border-box;\n",
              "  margin-bottom: 0.5em;\n",
              "  /* unfitted */\n",
              "  background-color: var(--sklearn-color-unfitted-level-0);\n",
              "}\n",
              "\n",
              "#sk-container-id-4 div.sk-estimator.fitted {\n",
              "  /* fitted */\n",
              "  background-color: var(--sklearn-color-fitted-level-0);\n",
              "}\n",
              "\n",
              "/* on hover */\n",
              "#sk-container-id-4 div.sk-estimator:hover {\n",
              "  /* unfitted */\n",
              "  background-color: var(--sklearn-color-unfitted-level-2);\n",
              "}\n",
              "\n",
              "#sk-container-id-4 div.sk-estimator.fitted:hover {\n",
              "  /* fitted */\n",
              "  background-color: var(--sklearn-color-fitted-level-2);\n",
              "}\n",
              "\n",
              "/* Specification for estimator info (e.g. \"i\" and \"?\") */\n",
              "\n",
              "/* Common style for \"i\" and \"?\" */\n",
              "\n",
              ".sk-estimator-doc-link,\n",
              "a:link.sk-estimator-doc-link,\n",
              "a:visited.sk-estimator-doc-link {\n",
              "  float: right;\n",
              "  font-size: smaller;\n",
              "  line-height: 1em;\n",
              "  font-family: monospace;\n",
              "  background-color: var(--sklearn-color-background);\n",
              "  border-radius: 1em;\n",
              "  height: 1em;\n",
              "  width: 1em;\n",
              "  text-decoration: none !important;\n",
              "  margin-left: 1ex;\n",
              "  /* unfitted */\n",
              "  border: var(--sklearn-color-unfitted-level-1) 1pt solid;\n",
              "  color: var(--sklearn-color-unfitted-level-1);\n",
              "}\n",
              "\n",
              ".sk-estimator-doc-link.fitted,\n",
              "a:link.sk-estimator-doc-link.fitted,\n",
              "a:visited.sk-estimator-doc-link.fitted {\n",
              "  /* fitted */\n",
              "  border: var(--sklearn-color-fitted-level-1) 1pt solid;\n",
              "  color: var(--sklearn-color-fitted-level-1);\n",
              "}\n",
              "\n",
              "/* On hover */\n",
              "div.sk-estimator:hover .sk-estimator-doc-link:hover,\n",
              ".sk-estimator-doc-link:hover,\n",
              "div.sk-label-container:hover .sk-estimator-doc-link:hover,\n",
              ".sk-estimator-doc-link:hover {\n",
              "  /* unfitted */\n",
              "  background-color: var(--sklearn-color-unfitted-level-3);\n",
              "  color: var(--sklearn-color-background);\n",
              "  text-decoration: none;\n",
              "}\n",
              "\n",
              "div.sk-estimator.fitted:hover .sk-estimator-doc-link.fitted:hover,\n",
              ".sk-estimator-doc-link.fitted:hover,\n",
              "div.sk-label-container:hover .sk-estimator-doc-link.fitted:hover,\n",
              ".sk-estimator-doc-link.fitted:hover {\n",
              "  /* fitted */\n",
              "  background-color: var(--sklearn-color-fitted-level-3);\n",
              "  color: var(--sklearn-color-background);\n",
              "  text-decoration: none;\n",
              "}\n",
              "\n",
              "/* Span, style for the box shown on hovering the info icon */\n",
              ".sk-estimator-doc-link span {\n",
              "  display: none;\n",
              "  z-index: 9999;\n",
              "  position: relative;\n",
              "  font-weight: normal;\n",
              "  right: .2ex;\n",
              "  padding: .5ex;\n",
              "  margin: .5ex;\n",
              "  width: min-content;\n",
              "  min-width: 20ex;\n",
              "  max-width: 50ex;\n",
              "  color: var(--sklearn-color-text);\n",
              "  box-shadow: 2pt 2pt 4pt #999;\n",
              "  /* unfitted */\n",
              "  background: var(--sklearn-color-unfitted-level-0);\n",
              "  border: .5pt solid var(--sklearn-color-unfitted-level-3);\n",
              "}\n",
              "\n",
              ".sk-estimator-doc-link.fitted span {\n",
              "  /* fitted */\n",
              "  background: var(--sklearn-color-fitted-level-0);\n",
              "  border: var(--sklearn-color-fitted-level-3);\n",
              "}\n",
              "\n",
              ".sk-estimator-doc-link:hover span {\n",
              "  display: block;\n",
              "}\n",
              "\n",
              "/* \"?\"-specific style due to the `<a>` HTML tag */\n",
              "\n",
              "#sk-container-id-4 a.estimator_doc_link {\n",
              "  float: right;\n",
              "  font-size: 1rem;\n",
              "  line-height: 1em;\n",
              "  font-family: monospace;\n",
              "  background-color: var(--sklearn-color-background);\n",
              "  border-radius: 1rem;\n",
              "  height: 1rem;\n",
              "  width: 1rem;\n",
              "  text-decoration: none;\n",
              "  /* unfitted */\n",
              "  color: var(--sklearn-color-unfitted-level-1);\n",
              "  border: var(--sklearn-color-unfitted-level-1) 1pt solid;\n",
              "}\n",
              "\n",
              "#sk-container-id-4 a.estimator_doc_link.fitted {\n",
              "  /* fitted */\n",
              "  border: var(--sklearn-color-fitted-level-1) 1pt solid;\n",
              "  color: var(--sklearn-color-fitted-level-1);\n",
              "}\n",
              "\n",
              "/* On hover */\n",
              "#sk-container-id-4 a.estimator_doc_link:hover {\n",
              "  /* unfitted */\n",
              "  background-color: var(--sklearn-color-unfitted-level-3);\n",
              "  color: var(--sklearn-color-background);\n",
              "  text-decoration: none;\n",
              "}\n",
              "\n",
              "#sk-container-id-4 a.estimator_doc_link.fitted:hover {\n",
              "  /* fitted */\n",
              "  background-color: var(--sklearn-color-fitted-level-3);\n",
              "}\n",
              "</style><div id=\"sk-container-id-4\" class=\"sk-top-container\"><div class=\"sk-text-repr-fallback\"><pre>SelectFromModel(estimator=Lasso(alpha=0.005))</pre><b>In a Jupyter environment, please rerun this cell to show the HTML representation or trust the notebook. <br />On GitHub, the HTML representation is unable to render, please try loading this page with nbviewer.org.</b></div><div class=\"sk-container\" hidden><div class=\"sk-item sk-dashed-wrapped\"><div class=\"sk-label-container\"><div class=\"sk-label fitted sk-toggleable\"><input class=\"sk-toggleable__control sk-hidden--visually\" id=\"sk-estimator-id-8\" type=\"checkbox\" ><label for=\"sk-estimator-id-8\" class=\"sk-toggleable__label fitted sk-toggleable__label-arrow fitted\">&nbsp;&nbsp;SelectFromModel<a class=\"sk-estimator-doc-link fitted\" rel=\"noreferrer\" target=\"_blank\" href=\"https://scikit-learn.org/1.5/modules/generated/sklearn.feature_selection.SelectFromModel.html\">?<span>Documentation for SelectFromModel</span></a><span class=\"sk-estimator-doc-link fitted\">i<span>Fitted</span></span></label><div class=\"sk-toggleable__content fitted\"><pre>SelectFromModel(estimator=Lasso(alpha=0.005))</pre></div> </div></div><div class=\"sk-parallel\"><div class=\"sk-parallel-item\"><div class=\"sk-item\"><div class=\"sk-label-container\"><div class=\"sk-label fitted sk-toggleable\"><input class=\"sk-toggleable__control sk-hidden--visually\" id=\"sk-estimator-id-9\" type=\"checkbox\" ><label for=\"sk-estimator-id-9\" class=\"sk-toggleable__label fitted sk-toggleable__label-arrow fitted\">estimator: Lasso</label><div class=\"sk-toggleable__content fitted\"><pre>Lasso(alpha=0.005)</pre></div> </div></div><div class=\"sk-serial\"><div class=\"sk-item\"><div class=\"sk-estimator fitted sk-toggleable\"><input class=\"sk-toggleable__control sk-hidden--visually\" id=\"sk-estimator-id-10\" type=\"checkbox\" ><label for=\"sk-estimator-id-10\" class=\"sk-toggleable__label fitted sk-toggleable__label-arrow fitted\">&nbsp;Lasso<a class=\"sk-estimator-doc-link fitted\" rel=\"noreferrer\" target=\"_blank\" href=\"https://scikit-learn.org/1.5/modules/generated/sklearn.linear_model.Lasso.html\">?<span>Documentation for Lasso</span></a></label><div class=\"sk-toggleable__content fitted\"><pre>Lasso(alpha=0.005)</pre></div> </div></div></div></div></div></div></div></div></div>"
            ],
            "text/plain": [
              "SelectFromModel(estimator=Lasso(alpha=0.005))"
            ]
          },
          "execution_count": 953,
          "metadata": {},
          "output_type": "execute_result"
        }
      ],
      "source": [
        "feature_sel_model.fit(x, y)"
      ]
    },
    {
      "cell_type": "code",
      "execution_count": 962,
      "metadata": {
        "colab": {
          "base_uri": "https://localhost:8080/"
        },
        "id": "nZ08PI5uaXAA",
        "outputId": "93b0faa8-fd05-402e-f7b7-b1309ec2bcf8"
      },
      "outputs": [
        {
          "data": {
            "text/plain": [
              "array([False, False, False,  True, False, False, False, False, False,\n",
              "       False,  True, False, False, False, False,  True,  True,  True,\n",
              "        True,  True,  True,  True, False,  True,  True,  True])"
            ]
          },
          "execution_count": 962,
          "metadata": {},
          "output_type": "execute_result"
        }
      ],
      "source": [
        "feature_sel_model.get_support()"
      ]
    },
    {
      "cell_type": "code",
      "execution_count": 963,
      "metadata": {},
      "outputs": [],
      "source": [
        "cols = x.columns"
      ]
    },
    {
      "cell_type": "code",
      "execution_count": 964,
      "metadata": {
        "id": "cvLisoaSadPr"
      },
      "outputs": [],
      "source": [
        "selected_features = cols[feature_sel_model.get_support()]"
      ]
    },
    {
      "cell_type": "code",
      "execution_count": 965,
      "metadata": {
        "colab": {
          "base_uri": "https://localhost:8080/"
        },
        "id": "_jIm4AAdaixx",
        "outputId": "c396f5dc-a24f-4526-b4ce-31a86480ccbb"
      },
      "outputs": [
        {
          "data": {
            "text/plain": [
              "Index(['country', 'lead_time', 'previous_cancellations',\n",
              "       'previous_bookings_not_canceled', 'booking_changes',\n",
              "       'days_in_waiting_list', 'adr', 'required_car_parking_spaces',\n",
              "       'total_of_special_requests', 'total_customer', 'total_nights',\n",
              "       'deposit_given'],\n",
              "      dtype='object')"
            ]
          },
          "execution_count": 965,
          "metadata": {},
          "output_type": "execute_result"
        }
      ],
      "source": [
        "selected_features"
      ]
    },
    {
      "cell_type": "code",
      "execution_count": 966,
      "metadata": {
        "id": "sjzf57qmajyp"
      },
      "outputs": [],
      "source": [
        "x = x[selected_features]"
      ]
    },
    {
      "cell_type": "code",
      "execution_count": 967,
      "metadata": {
        "colab": {
          "base_uri": "https://localhost:8080/"
        },
        "id": "Bm4_i3JqanvS",
        "outputId": "e3f96d75-af7c-48d9-ffbc-25240be1ba11"
      },
      "outputs": [
        {
          "data": {
            "text/plain": [
              "0         0\n",
              "1         0\n",
              "2         1\n",
              "3         0\n",
              "4         1\n",
              "         ..\n",
              "119205    0\n",
              "119206    0\n",
              "119207    0\n",
              "119208    0\n",
              "119209    0\n",
              "Name: is_canceled, Length: 119209, dtype: int64"
            ]
          },
          "execution_count": 967,
          "metadata": {},
          "output_type": "execute_result"
        }
      ],
      "source": [
        "y"
      ]
    },
    {
      "cell_type": "code",
      "execution_count": 968,
      "metadata": {
        "id": "7tT5Bdg7aobk"
      },
      "outputs": [],
      "source": [
        "# build the ml model"
      ]
    },
    {
      "cell_type": "code",
      "execution_count": 969,
      "metadata": {
        "id": "IoovVaCKaqVq"
      },
      "outputs": [],
      "source": [
        "from sklearn.model_selection import train_test_split"
      ]
    },
    {
      "cell_type": "code",
      "execution_count": 970,
      "metadata": {
        "id": "cbwAXYyVatFJ"
      },
      "outputs": [],
      "source": [
        "X_train, X_test, y_train, y_test = train_test_split(x, y, test_size=0.25)"
      ]
    },
    {
      "cell_type": "code",
      "execution_count": 971,
      "metadata": {
        "colab": {
          "base_uri": "https://localhost:8080/"
        },
        "id": "69cXQxIwaztK",
        "outputId": "d033c366-efec-4c48-efab-252242853982"
      },
      "outputs": [
        {
          "data": {
            "text/plain": [
              "(89406, 12)"
            ]
          },
          "execution_count": 971,
          "metadata": {},
          "output_type": "execute_result"
        }
      ],
      "source": [
        "X_train.shape"
      ]
    },
    {
      "cell_type": "code",
      "execution_count": 972,
      "metadata": {
        "id": "pLJjgFq8a0pj"
      },
      "outputs": [],
      "source": [
        "from sklearn.linear_model import LogisticRegression"
      ]
    },
    {
      "cell_type": "code",
      "execution_count": 973,
      "metadata": {
        "id": "G2JdLMWXa5S0"
      },
      "outputs": [],
      "source": [
        "logreg = LogisticRegression()"
      ]
    },
    {
      "cell_type": "code",
      "execution_count": 974,
      "metadata": {
        "colab": {
          "base_uri": "https://localhost:8080/",
          "height": 74
        },
        "id": "n4bplAata7W9",
        "outputId": "acaf5696-03bb-4825-9875-953cc245e0e8"
      },
      "outputs": [
        {
          "data": {
            "text/html": [
              "<style>#sk-container-id-5 {\n",
              "  /* Definition of color scheme common for light and dark mode */\n",
              "  --sklearn-color-text: black;\n",
              "  --sklearn-color-line: gray;\n",
              "  /* Definition of color scheme for unfitted estimators */\n",
              "  --sklearn-color-unfitted-level-0: #fff5e6;\n",
              "  --sklearn-color-unfitted-level-1: #f6e4d2;\n",
              "  --sklearn-color-unfitted-level-2: #ffe0b3;\n",
              "  --sklearn-color-unfitted-level-3: chocolate;\n",
              "  /* Definition of color scheme for fitted estimators */\n",
              "  --sklearn-color-fitted-level-0: #f0f8ff;\n",
              "  --sklearn-color-fitted-level-1: #d4ebff;\n",
              "  --sklearn-color-fitted-level-2: #b3dbfd;\n",
              "  --sklearn-color-fitted-level-3: cornflowerblue;\n",
              "\n",
              "  /* Specific color for light theme */\n",
              "  --sklearn-color-text-on-default-background: var(--sg-text-color, var(--theme-code-foreground, var(--jp-content-font-color1, black)));\n",
              "  --sklearn-color-background: var(--sg-background-color, var(--theme-background, var(--jp-layout-color0, white)));\n",
              "  --sklearn-color-border-box: var(--sg-text-color, var(--theme-code-foreground, var(--jp-content-font-color1, black)));\n",
              "  --sklearn-color-icon: #696969;\n",
              "\n",
              "  @media (prefers-color-scheme: dark) {\n",
              "    /* Redefinition of color scheme for dark theme */\n",
              "    --sklearn-color-text-on-default-background: var(--sg-text-color, var(--theme-code-foreground, var(--jp-content-font-color1, white)));\n",
              "    --sklearn-color-background: var(--sg-background-color, var(--theme-background, var(--jp-layout-color0, #111)));\n",
              "    --sklearn-color-border-box: var(--sg-text-color, var(--theme-code-foreground, var(--jp-content-font-color1, white)));\n",
              "    --sklearn-color-icon: #878787;\n",
              "  }\n",
              "}\n",
              "\n",
              "#sk-container-id-5 {\n",
              "  color: var(--sklearn-color-text);\n",
              "}\n",
              "\n",
              "#sk-container-id-5 pre {\n",
              "  padding: 0;\n",
              "}\n",
              "\n",
              "#sk-container-id-5 input.sk-hidden--visually {\n",
              "  border: 0;\n",
              "  clip: rect(1px 1px 1px 1px);\n",
              "  clip: rect(1px, 1px, 1px, 1px);\n",
              "  height: 1px;\n",
              "  margin: -1px;\n",
              "  overflow: hidden;\n",
              "  padding: 0;\n",
              "  position: absolute;\n",
              "  width: 1px;\n",
              "}\n",
              "\n",
              "#sk-container-id-5 div.sk-dashed-wrapped {\n",
              "  border: 1px dashed var(--sklearn-color-line);\n",
              "  margin: 0 0.4em 0.5em 0.4em;\n",
              "  box-sizing: border-box;\n",
              "  padding-bottom: 0.4em;\n",
              "  background-color: var(--sklearn-color-background);\n",
              "}\n",
              "\n",
              "#sk-container-id-5 div.sk-container {\n",
              "  /* jupyter's `normalize.less` sets `[hidden] { display: none; }`\n",
              "     but bootstrap.min.css set `[hidden] { display: none !important; }`\n",
              "     so we also need the `!important` here to be able to override the\n",
              "     default hidden behavior on the sphinx rendered scikit-learn.org.\n",
              "     See: https://github.com/scikit-learn/scikit-learn/issues/21755 */\n",
              "  display: inline-block !important;\n",
              "  position: relative;\n",
              "}\n",
              "\n",
              "#sk-container-id-5 div.sk-text-repr-fallback {\n",
              "  display: none;\n",
              "}\n",
              "\n",
              "div.sk-parallel-item,\n",
              "div.sk-serial,\n",
              "div.sk-item {\n",
              "  /* draw centered vertical line to link estimators */\n",
              "  background-image: linear-gradient(var(--sklearn-color-text-on-default-background), var(--sklearn-color-text-on-default-background));\n",
              "  background-size: 2px 100%;\n",
              "  background-repeat: no-repeat;\n",
              "  background-position: center center;\n",
              "}\n",
              "\n",
              "/* Parallel-specific style estimator block */\n",
              "\n",
              "#sk-container-id-5 div.sk-parallel-item::after {\n",
              "  content: \"\";\n",
              "  width: 100%;\n",
              "  border-bottom: 2px solid var(--sklearn-color-text-on-default-background);\n",
              "  flex-grow: 1;\n",
              "}\n",
              "\n",
              "#sk-container-id-5 div.sk-parallel {\n",
              "  display: flex;\n",
              "  align-items: stretch;\n",
              "  justify-content: center;\n",
              "  background-color: var(--sklearn-color-background);\n",
              "  position: relative;\n",
              "}\n",
              "\n",
              "#sk-container-id-5 div.sk-parallel-item {\n",
              "  display: flex;\n",
              "  flex-direction: column;\n",
              "}\n",
              "\n",
              "#sk-container-id-5 div.sk-parallel-item:first-child::after {\n",
              "  align-self: flex-end;\n",
              "  width: 50%;\n",
              "}\n",
              "\n",
              "#sk-container-id-5 div.sk-parallel-item:last-child::after {\n",
              "  align-self: flex-start;\n",
              "  width: 50%;\n",
              "}\n",
              "\n",
              "#sk-container-id-5 div.sk-parallel-item:only-child::after {\n",
              "  width: 0;\n",
              "}\n",
              "\n",
              "/* Serial-specific style estimator block */\n",
              "\n",
              "#sk-container-id-5 div.sk-serial {\n",
              "  display: flex;\n",
              "  flex-direction: column;\n",
              "  align-items: center;\n",
              "  background-color: var(--sklearn-color-background);\n",
              "  padding-right: 1em;\n",
              "  padding-left: 1em;\n",
              "}\n",
              "\n",
              "\n",
              "/* Toggleable style: style used for estimator/Pipeline/ColumnTransformer box that is\n",
              "clickable and can be expanded/collapsed.\n",
              "- Pipeline and ColumnTransformer use this feature and define the default style\n",
              "- Estimators will overwrite some part of the style using the `sk-estimator` class\n",
              "*/\n",
              "\n",
              "/* Pipeline and ColumnTransformer style (default) */\n",
              "\n",
              "#sk-container-id-5 div.sk-toggleable {\n",
              "  /* Default theme specific background. It is overwritten whether we have a\n",
              "  specific estimator or a Pipeline/ColumnTransformer */\n",
              "  background-color: var(--sklearn-color-background);\n",
              "}\n",
              "\n",
              "/* Toggleable label */\n",
              "#sk-container-id-5 label.sk-toggleable__label {\n",
              "  cursor: pointer;\n",
              "  display: block;\n",
              "  width: 100%;\n",
              "  margin-bottom: 0;\n",
              "  padding: 0.5em;\n",
              "  box-sizing: border-box;\n",
              "  text-align: center;\n",
              "}\n",
              "\n",
              "#sk-container-id-5 label.sk-toggleable__label-arrow:before {\n",
              "  /* Arrow on the left of the label */\n",
              "  content: \"▸\";\n",
              "  float: left;\n",
              "  margin-right: 0.25em;\n",
              "  color: var(--sklearn-color-icon);\n",
              "}\n",
              "\n",
              "#sk-container-id-5 label.sk-toggleable__label-arrow:hover:before {\n",
              "  color: var(--sklearn-color-text);\n",
              "}\n",
              "\n",
              "/* Toggleable content - dropdown */\n",
              "\n",
              "#sk-container-id-5 div.sk-toggleable__content {\n",
              "  max-height: 0;\n",
              "  max-width: 0;\n",
              "  overflow: hidden;\n",
              "  text-align: left;\n",
              "  /* unfitted */\n",
              "  background-color: var(--sklearn-color-unfitted-level-0);\n",
              "}\n",
              "\n",
              "#sk-container-id-5 div.sk-toggleable__content.fitted {\n",
              "  /* fitted */\n",
              "  background-color: var(--sklearn-color-fitted-level-0);\n",
              "}\n",
              "\n",
              "#sk-container-id-5 div.sk-toggleable__content pre {\n",
              "  margin: 0.2em;\n",
              "  border-radius: 0.25em;\n",
              "  color: var(--sklearn-color-text);\n",
              "  /* unfitted */\n",
              "  background-color: var(--sklearn-color-unfitted-level-0);\n",
              "}\n",
              "\n",
              "#sk-container-id-5 div.sk-toggleable__content.fitted pre {\n",
              "  /* unfitted */\n",
              "  background-color: var(--sklearn-color-fitted-level-0);\n",
              "}\n",
              "\n",
              "#sk-container-id-5 input.sk-toggleable__control:checked~div.sk-toggleable__content {\n",
              "  /* Expand drop-down */\n",
              "  max-height: 200px;\n",
              "  max-width: 100%;\n",
              "  overflow: auto;\n",
              "}\n",
              "\n",
              "#sk-container-id-5 input.sk-toggleable__control:checked~label.sk-toggleable__label-arrow:before {\n",
              "  content: \"▾\";\n",
              "}\n",
              "\n",
              "/* Pipeline/ColumnTransformer-specific style */\n",
              "\n",
              "#sk-container-id-5 div.sk-label input.sk-toggleable__control:checked~label.sk-toggleable__label {\n",
              "  color: var(--sklearn-color-text);\n",
              "  background-color: var(--sklearn-color-unfitted-level-2);\n",
              "}\n",
              "\n",
              "#sk-container-id-5 div.sk-label.fitted input.sk-toggleable__control:checked~label.sk-toggleable__label {\n",
              "  background-color: var(--sklearn-color-fitted-level-2);\n",
              "}\n",
              "\n",
              "/* Estimator-specific style */\n",
              "\n",
              "/* Colorize estimator box */\n",
              "#sk-container-id-5 div.sk-estimator input.sk-toggleable__control:checked~label.sk-toggleable__label {\n",
              "  /* unfitted */\n",
              "  background-color: var(--sklearn-color-unfitted-level-2);\n",
              "}\n",
              "\n",
              "#sk-container-id-5 div.sk-estimator.fitted input.sk-toggleable__control:checked~label.sk-toggleable__label {\n",
              "  /* fitted */\n",
              "  background-color: var(--sklearn-color-fitted-level-2);\n",
              "}\n",
              "\n",
              "#sk-container-id-5 div.sk-label label.sk-toggleable__label,\n",
              "#sk-container-id-5 div.sk-label label {\n",
              "  /* The background is the default theme color */\n",
              "  color: var(--sklearn-color-text-on-default-background);\n",
              "}\n",
              "\n",
              "/* On hover, darken the color of the background */\n",
              "#sk-container-id-5 div.sk-label:hover label.sk-toggleable__label {\n",
              "  color: var(--sklearn-color-text);\n",
              "  background-color: var(--sklearn-color-unfitted-level-2);\n",
              "}\n",
              "\n",
              "/* Label box, darken color on hover, fitted */\n",
              "#sk-container-id-5 div.sk-label.fitted:hover label.sk-toggleable__label.fitted {\n",
              "  color: var(--sklearn-color-text);\n",
              "  background-color: var(--sklearn-color-fitted-level-2);\n",
              "}\n",
              "\n",
              "/* Estimator label */\n",
              "\n",
              "#sk-container-id-5 div.sk-label label {\n",
              "  font-family: monospace;\n",
              "  font-weight: bold;\n",
              "  display: inline-block;\n",
              "  line-height: 1.2em;\n",
              "}\n",
              "\n",
              "#sk-container-id-5 div.sk-label-container {\n",
              "  text-align: center;\n",
              "}\n",
              "\n",
              "/* Estimator-specific */\n",
              "#sk-container-id-5 div.sk-estimator {\n",
              "  font-family: monospace;\n",
              "  border: 1px dotted var(--sklearn-color-border-box);\n",
              "  border-radius: 0.25em;\n",
              "  box-sizing: border-box;\n",
              "  margin-bottom: 0.5em;\n",
              "  /* unfitted */\n",
              "  background-color: var(--sklearn-color-unfitted-level-0);\n",
              "}\n",
              "\n",
              "#sk-container-id-5 div.sk-estimator.fitted {\n",
              "  /* fitted */\n",
              "  background-color: var(--sklearn-color-fitted-level-0);\n",
              "}\n",
              "\n",
              "/* on hover */\n",
              "#sk-container-id-5 div.sk-estimator:hover {\n",
              "  /* unfitted */\n",
              "  background-color: var(--sklearn-color-unfitted-level-2);\n",
              "}\n",
              "\n",
              "#sk-container-id-5 div.sk-estimator.fitted:hover {\n",
              "  /* fitted */\n",
              "  background-color: var(--sklearn-color-fitted-level-2);\n",
              "}\n",
              "\n",
              "/* Specification for estimator info (e.g. \"i\" and \"?\") */\n",
              "\n",
              "/* Common style for \"i\" and \"?\" */\n",
              "\n",
              ".sk-estimator-doc-link,\n",
              "a:link.sk-estimator-doc-link,\n",
              "a:visited.sk-estimator-doc-link {\n",
              "  float: right;\n",
              "  font-size: smaller;\n",
              "  line-height: 1em;\n",
              "  font-family: monospace;\n",
              "  background-color: var(--sklearn-color-background);\n",
              "  border-radius: 1em;\n",
              "  height: 1em;\n",
              "  width: 1em;\n",
              "  text-decoration: none !important;\n",
              "  margin-left: 1ex;\n",
              "  /* unfitted */\n",
              "  border: var(--sklearn-color-unfitted-level-1) 1pt solid;\n",
              "  color: var(--sklearn-color-unfitted-level-1);\n",
              "}\n",
              "\n",
              ".sk-estimator-doc-link.fitted,\n",
              "a:link.sk-estimator-doc-link.fitted,\n",
              "a:visited.sk-estimator-doc-link.fitted {\n",
              "  /* fitted */\n",
              "  border: var(--sklearn-color-fitted-level-1) 1pt solid;\n",
              "  color: var(--sklearn-color-fitted-level-1);\n",
              "}\n",
              "\n",
              "/* On hover */\n",
              "div.sk-estimator:hover .sk-estimator-doc-link:hover,\n",
              ".sk-estimator-doc-link:hover,\n",
              "div.sk-label-container:hover .sk-estimator-doc-link:hover,\n",
              ".sk-estimator-doc-link:hover {\n",
              "  /* unfitted */\n",
              "  background-color: var(--sklearn-color-unfitted-level-3);\n",
              "  color: var(--sklearn-color-background);\n",
              "  text-decoration: none;\n",
              "}\n",
              "\n",
              "div.sk-estimator.fitted:hover .sk-estimator-doc-link.fitted:hover,\n",
              ".sk-estimator-doc-link.fitted:hover,\n",
              "div.sk-label-container:hover .sk-estimator-doc-link.fitted:hover,\n",
              ".sk-estimator-doc-link.fitted:hover {\n",
              "  /* fitted */\n",
              "  background-color: var(--sklearn-color-fitted-level-3);\n",
              "  color: var(--sklearn-color-background);\n",
              "  text-decoration: none;\n",
              "}\n",
              "\n",
              "/* Span, style for the box shown on hovering the info icon */\n",
              ".sk-estimator-doc-link span {\n",
              "  display: none;\n",
              "  z-index: 9999;\n",
              "  position: relative;\n",
              "  font-weight: normal;\n",
              "  right: .2ex;\n",
              "  padding: .5ex;\n",
              "  margin: .5ex;\n",
              "  width: min-content;\n",
              "  min-width: 20ex;\n",
              "  max-width: 50ex;\n",
              "  color: var(--sklearn-color-text);\n",
              "  box-shadow: 2pt 2pt 4pt #999;\n",
              "  /* unfitted */\n",
              "  background: var(--sklearn-color-unfitted-level-0);\n",
              "  border: .5pt solid var(--sklearn-color-unfitted-level-3);\n",
              "}\n",
              "\n",
              ".sk-estimator-doc-link.fitted span {\n",
              "  /* fitted */\n",
              "  background: var(--sklearn-color-fitted-level-0);\n",
              "  border: var(--sklearn-color-fitted-level-3);\n",
              "}\n",
              "\n",
              ".sk-estimator-doc-link:hover span {\n",
              "  display: block;\n",
              "}\n",
              "\n",
              "/* \"?\"-specific style due to the `<a>` HTML tag */\n",
              "\n",
              "#sk-container-id-5 a.estimator_doc_link {\n",
              "  float: right;\n",
              "  font-size: 1rem;\n",
              "  line-height: 1em;\n",
              "  font-family: monospace;\n",
              "  background-color: var(--sklearn-color-background);\n",
              "  border-radius: 1rem;\n",
              "  height: 1rem;\n",
              "  width: 1rem;\n",
              "  text-decoration: none;\n",
              "  /* unfitted */\n",
              "  color: var(--sklearn-color-unfitted-level-1);\n",
              "  border: var(--sklearn-color-unfitted-level-1) 1pt solid;\n",
              "}\n",
              "\n",
              "#sk-container-id-5 a.estimator_doc_link.fitted {\n",
              "  /* fitted */\n",
              "  border: var(--sklearn-color-fitted-level-1) 1pt solid;\n",
              "  color: var(--sklearn-color-fitted-level-1);\n",
              "}\n",
              "\n",
              "/* On hover */\n",
              "#sk-container-id-5 a.estimator_doc_link:hover {\n",
              "  /* unfitted */\n",
              "  background-color: var(--sklearn-color-unfitted-level-3);\n",
              "  color: var(--sklearn-color-background);\n",
              "  text-decoration: none;\n",
              "}\n",
              "\n",
              "#sk-container-id-5 a.estimator_doc_link.fitted:hover {\n",
              "  /* fitted */\n",
              "  background-color: var(--sklearn-color-fitted-level-3);\n",
              "}\n",
              "</style><div id=\"sk-container-id-5\" class=\"sk-top-container\"><div class=\"sk-text-repr-fallback\"><pre>LogisticRegression()</pre><b>In a Jupyter environment, please rerun this cell to show the HTML representation or trust the notebook. <br />On GitHub, the HTML representation is unable to render, please try loading this page with nbviewer.org.</b></div><div class=\"sk-container\" hidden><div class=\"sk-item\"><div class=\"sk-estimator fitted sk-toggleable\"><input class=\"sk-toggleable__control sk-hidden--visually\" id=\"sk-estimator-id-11\" type=\"checkbox\" checked><label for=\"sk-estimator-id-11\" class=\"sk-toggleable__label fitted sk-toggleable__label-arrow fitted\">&nbsp;&nbsp;LogisticRegression<a class=\"sk-estimator-doc-link fitted\" rel=\"noreferrer\" target=\"_blank\" href=\"https://scikit-learn.org/1.5/modules/generated/sklearn.linear_model.LogisticRegression.html\">?<span>Documentation for LogisticRegression</span></a><span class=\"sk-estimator-doc-link fitted\">i<span>Fitted</span></span></label><div class=\"sk-toggleable__content fitted\"><pre>LogisticRegression()</pre></div> </div></div></div></div>"
            ],
            "text/plain": [
              "LogisticRegression()"
            ]
          },
          "execution_count": 974,
          "metadata": {},
          "output_type": "execute_result"
        }
      ],
      "source": [
        "logreg.fit(X_train, y_train)"
      ]
    },
    {
      "cell_type": "code",
      "execution_count": 975,
      "metadata": {
        "id": "7zMOcgMZa8FC"
      },
      "outputs": [],
      "source": [
        "y_pred = logreg.predict(X_test)"
      ]
    },
    {
      "cell_type": "code",
      "execution_count": 976,
      "metadata": {
        "colab": {
          "base_uri": "https://localhost:8080/"
        },
        "id": "Nfzvl3rkbBIy",
        "outputId": "03968f27-705b-400e-ff1c-106ea934e735"
      },
      "outputs": [
        {
          "data": {
            "text/plain": [
              "array([0, 1, 0, ..., 0, 1, 1], dtype=int64)"
            ]
          },
          "execution_count": 976,
          "metadata": {},
          "output_type": "execute_result"
        }
      ],
      "source": [
        "y_pred"
      ]
    },
    {
      "cell_type": "code",
      "execution_count": 977,
      "metadata": {
        "id": "wIMQf4lTbB6H"
      },
      "outputs": [],
      "source": [
        "from sklearn.metrics import confusion_matrix"
      ]
    },
    {
      "cell_type": "code",
      "execution_count": 978,
      "metadata": {
        "colab": {
          "base_uri": "https://localhost:8080/"
        },
        "id": "_EemixbcbFuT",
        "outputId": "97d0afc4-b5f9-4f21-ff95-7bb1e4fc3b24"
      },
      "outputs": [
        {
          "data": {
            "text/plain": [
              "array([[17358,  1407],\n",
              "       [ 4578,  6460]], dtype=int64)"
            ]
          },
          "execution_count": 978,
          "metadata": {},
          "output_type": "execute_result"
        }
      ],
      "source": [
        "confusion_matrix(y_test, y_pred)"
      ]
    },
    {
      "cell_type": "code",
      "execution_count": 979,
      "metadata": {
        "id": "F5ltWmwvbKTJ"
      },
      "outputs": [],
      "source": [
        "from sklearn.metrics import accuracy_score"
      ]
    },
    {
      "cell_type": "code",
      "execution_count": 980,
      "metadata": {
        "colab": {
          "base_uri": "https://localhost:8080/"
        },
        "id": "ArFJpGnubN2n",
        "outputId": "cb90865d-6050-40a3-b48c-5826290c3333"
      },
      "outputs": [
        {
          "data": {
            "text/plain": [
              "0.7991812904741133"
            ]
          },
          "execution_count": 980,
          "metadata": {},
          "output_type": "execute_result"
        }
      ],
      "source": [
        "accuracy_score(y_test, y_pred)"
      ]
    },
    {
      "cell_type": "code",
      "execution_count": 981,
      "metadata": {
        "id": "ocYCQGbmbP7-"
      },
      "outputs": [],
      "source": [
        "# cross validate the model"
      ]
    },
    {
      "cell_type": "code",
      "execution_count": 982,
      "metadata": {
        "id": "RPiHx_Lajvhm"
      },
      "outputs": [],
      "source": [
        "from sklearn.model_selection import cross_val_score"
      ]
    },
    {
      "cell_type": "code",
      "execution_count": 983,
      "metadata": {
        "id": "pSaku717jzXC"
      },
      "outputs": [],
      "source": [
        "score = cross_val_score(logreg, x, y, cv=10)"
      ]
    },
    {
      "cell_type": "code",
      "execution_count": 984,
      "metadata": {
        "colab": {
          "base_uri": "https://localhost:8080/"
        },
        "id": "occfgEahj309",
        "outputId": "42a58240-0aed-4e94-bee7-64ed3dabe41c"
      },
      "outputs": [
        {
          "data": {
            "text/plain": [
              "array([0.77862595, 0.7841624 , 0.78240081, 0.81369013, 0.81486452,\n",
              "       0.7393675 , 0.74037413, 0.8557168 , 0.8307189 , 0.80276846])"
            ]
          },
          "execution_count": 984,
          "metadata": {},
          "output_type": "execute_result"
        }
      ],
      "source": [
        "score"
      ]
    },
    {
      "cell_type": "code",
      "execution_count": 985,
      "metadata": {
        "colab": {
          "base_uri": "https://localhost:8080/"
        },
        "id": "YuKYtp0Hj4Vj",
        "outputId": "67ff48f4-6af2-4aa3-af85-67bc311f0e46"
      },
      "outputs": [
        {
          "data": {
            "text/plain": [
              "0.7942689603930575"
            ]
          },
          "execution_count": 985,
          "metadata": {},
          "output_type": "execute_result"
        }
      ],
      "source": [
        "score.mean()"
      ]
    },
    {
      "cell_type": "code",
      "execution_count": 986,
      "metadata": {
        "id": "yX2p9qjOj519"
      },
      "outputs": [],
      "source": [
        "# using multiple algorithms"
      ]
    },
    {
      "cell_type": "code",
      "execution_count": 987,
      "metadata": {
        "id": "LOHiClxaj9kZ"
      },
      "outputs": [],
      "source": [
        "from sklearn.naive_bayes import GaussianNB\n",
        "from sklearn.linear_model import LogisticRegression\n",
        "from sklearn.neighbors import KNeighborsClassifier\n",
        "from sklearn.ensemble import RandomForestClassifier\n",
        "from sklearn.tree import DecisionTreeClassifier\n"
      ]
    },
    {
      "cell_type": "code",
      "execution_count": 988,
      "metadata": {
        "id": "KgmIzywAkT_1"
      },
      "outputs": [],
      "source": [
        "models = []"
      ]
    },
    {
      "cell_type": "code",
      "execution_count": 989,
      "metadata": {
        "id": "51CpEtmNkVCB"
      },
      "outputs": [],
      "source": [
        "models.append(('LogisticRegression', LogisticRegression()))\n",
        "models.append(('NaiveBayes', GaussianNB()))\n",
        "models.append(('RandomForest', RandomForestClassifier()))\n",
        "models.append(('DecisionTree', DecisionTreeClassifier()))\n",
        "models.append(('KNN', KNeighborsClassifier()))"
      ]
    },
    {
      "cell_type": "code",
      "execution_count": 990,
      "metadata": {
        "colab": {
          "base_uri": "https://localhost:8080/"
        },
        "id": "Cpw8hYljk0LJ",
        "outputId": "301f1d28-9208-4786-c121-954f0e790b88"
      },
      "outputs": [
        {
          "name": "stdout",
          "output_type": "stream",
          "text": [
            "LogisticRegression\n",
            "[[17358  1407]\n",
            " [ 4578  6460]]\n",
            "0.7991812904741133\n",
            "\n",
            "\n",
            "NaiveBayes\n",
            "[[ 6755 12010]\n",
            " [  616 10422]]\n",
            "0.5763513740227494\n",
            "\n",
            "\n",
            "RandomForest\n",
            "[[17168  1597]\n",
            " [ 2669  8369]]\n",
            "0.8568600476462102\n",
            "\n",
            "\n",
            "DecisionTree\n",
            "[[15998  2767]\n",
            " [ 2623  8415]]\n",
            "0.819145723584874\n",
            "\n",
            "\n",
            "KNN\n",
            "[[16771  1994]\n",
            " [ 3322  7716]]\n",
            "0.8216286950978089\n",
            "\n",
            "\n"
          ]
        }
      ],
      "source": [
        "for name, model in models:\n",
        "  print(name)\n",
        "  model.fit(X_train, y_train)\n",
        "  y_pred = model.predict(X_test)\n",
        "\n",
        "  cm = confusion_matrix(y_test, y_pred)\n",
        "  print(cm)\n",
        "\n",
        "  acc = accuracy_score(y_test, y_pred)\n",
        "  print(acc)\n",
        "  print('\\n')"
      ]
    }
  ],
  "metadata": {
    "colab": {
      "authorship_tag": "ABX9TyMIuc+R12F+t3FwV2Q/rBC0",
      "include_colab_link": true,
      "provenance": []
    },
    "kernelspec": {
      "display_name": ".venv",
      "language": "python",
      "name": "python3"
    },
    "language_info": {
      "codemirror_mode": {
        "name": "ipython",
        "version": 3
      },
      "file_extension": ".py",
      "mimetype": "text/x-python",
      "name": "python",
      "nbconvert_exporter": "python",
      "pygments_lexer": "ipython3",
      "version": "3.11.9"
    }
  },
  "nbformat": 4,
  "nbformat_minor": 0
}
