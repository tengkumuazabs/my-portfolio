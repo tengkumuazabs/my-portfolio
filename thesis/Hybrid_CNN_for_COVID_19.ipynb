{
  "cells": [
    {
      "cell_type": "code",
      "execution_count": 31,
      "metadata": {},
      "outputs": [],
      "source": [
        "import os\n",
        "import numpy as np\n",
        "import glob\n",
        "import joblib\n",
        "from sklearn.base import BaseEstimator, TransformerMixin\n",
        "from sklearn.pipeline import make_pipeline\n",
        "from sklearn.svm import SVC\n",
        "from sklearn.preprocessing import LabelEncoder\n",
        "from tensorflow.keras.preprocessing.image import load_img, img_to_array\n",
        "from tensorflow.keras.applications import ResNet50\n",
        "from tensorflow.keras.models import Model\n",
        "import cv2"
      ]
    },
    {
      "cell_type": "code",
      "execution_count": 32,
      "metadata": {},
      "outputs": [],
      "source": [
        "# Define the image loading function\n",
        "def load_data(data_dir):\n",
        "    images = []\n",
        "    labels = []\n",
        "    \n",
        "    # Iterate through class directories (0 and 1)\n",
        "    for label in ['0', '1']:\n",
        "        label_dir = os.path.join(data_dir, label)\n",
        "        if os.path.isdir(label_dir):\n",
        "            for img_file in os.listdir(label_dir):\n",
        "                img_path = os.path.join(label_dir, img_file)\n",
        "                if os.path.isfile(img_path):\n",
        "                    images.append(img_path)\n",
        "                    labels.append(label)  # Use '0' or '1' as labels\n",
        "\n",
        "    return np.array(images), np.array(labels)"
      ]
    },
    {
      "cell_type": "code",
      "execution_count": 33,
      "metadata": {},
      "outputs": [],
      "source": [
        "# Create the CNN feature extractor\n",
        "class CNNFeatureExtractor(BaseEstimator, TransformerMixin):\n",
        "    def __init__(self, model):\n",
        "        self.model = model\n",
        "\n",
        "    def fit(self, X, y=None):\n",
        "        return self\n",
        "\n",
        "    def transform(self, X):\n",
        "        num_images = len(X)\n",
        "        features = []\n",
        "\n",
        "        # Preallocate the array to hold all image data\n",
        "        img_array = []\n",
        "\n",
        "        for img_path in (X):\n",
        "            # Load the image using OpenCV\n",
        "            img = cv2.imread(img_path)\n",
        "            \n",
        "            # Convert to grayscale\n",
        "            img = cv2.cvtColor(img, cv2.COLOR_BGR2GRAY)\n",
        "            \n",
        "            # Apply CLAHE\n",
        "            clahe = cv2.createCLAHE()\n",
        "            img = clahe.apply(img)\n",
        "            \n",
        "            # Resize the image to the target size\n",
        "            img = cv2.resize(cv2.cvtColor(img, cv2.COLOR_GRAY2BGR), (224, 224))\n",
        "            # img = cv2.resize(img, (224, 224))\n",
        "            \n",
        "            # Normalize and add to the preallocated array\n",
        "            img_array.append(img.astype('float32') / 255.0)\n",
        "\n",
        "        # Extract features for all images at once\n",
        "        features = self.model.predict(np.array(img_array))\n",
        "\n",
        "        return features.reshape(features.shape[0], -1)"
      ]
    },
    {
      "cell_type": "code",
      "execution_count": 34,
      "metadata": {},
      "outputs": [],
      "source": [
        "# Load the pre-trained model\n",
        "base_model = ResNet50(weights='imagenet', include_top=False, input_shape=(224, 224, 3))\n",
        "\n",
        "# Load the training data\n",
        "X_train, y_train = load_data('images/original')\n",
        "\n",
        "# Encode labels\n",
        "le = LabelEncoder()\n",
        "y_train_encoded = le.fit_transform(y_train)"
      ]
    },
    {
      "cell_type": "code",
      "execution_count": 35,
      "metadata": {},
      "outputs": [],
      "source": [
        "# base_model = ResNet50(weights='imagenet', include_top=False, input_shape=(224, 224, 3))\n",
        "# feature_extractor = CNNFeatureExtractor(base_model)\n",
        "# sample_image_paths = X_train\n",
        "# feature_extractor.fit(sample_image_paths)\n",
        "# features = feature_extractor.transform(sample_image_paths)\n",
        "# print(f\"Extracted features shape: {features.shape}\")"
      ]
    },
    {
      "cell_type": "code",
      "execution_count": 36,
      "metadata": {},
      "outputs": [],
      "source": [
        "# Create the pipeline\n",
        "pipeline = make_pipeline(\n",
        "    CNNFeatureExtractor(model=base_model),\n",
        "    SVC(kernel='rbf', C=1, gamma='scale')\n",
        ")"
      ]
    },
    {
      "cell_type": "code",
      "execution_count": null,
      "metadata": {},
      "outputs": [],
      "source": [
        "# Train the pipeline\n",
        "pipeline.fit(X_train, y_train_encoded)\n",
        "\n",
        "# Save the pipeline and label encoder\n",
        "joblib.dump(pipeline, 'model.pkl')\n",
        "joblib.dump(le, 'label_encoder.pkl')"
      ]
    },
    {
      "cell_type": "code",
      "execution_count": 38,
      "metadata": {},
      "outputs": [],
      "source": [
        "# Load the pre-trained model and label encoder\n",
        "pipeline = joblib.load('model.pkl')\n",
        "le = joblib.load('label_encoder.pkl')"
      ]
    },
    {
      "cell_type": "code",
      "execution_count": 39,
      "metadata": {},
      "outputs": [],
      "source": [
        "# Load the test data\n",
        "X_test, y_test = load_data(r'test images\\Actualmed-COVID-chestxray-dataset-master\\categories') "
      ]
    },
    {
      "cell_type": "code",
      "execution_count": 40,
      "metadata": {},
      "outputs": [],
      "source": [
        "# Encode labels\n",
        "y_test_encoded = le.fit_transform(y_test)"
      ]
    },
    {
      "cell_type": "code",
      "execution_count": null,
      "metadata": {},
      "outputs": [],
      "source": [
        "y_pred = pipeline.predict(X_test)"
      ]
    },
    {
      "cell_type": "code",
      "execution_count": 27,
      "metadata": {},
      "outputs": [],
      "source": [
        "# Evaluate performance\n",
        "from sklearn.metrics import accuracy_score, precision_score, recall_score, f1_score, roc_auc_score\n",
        "\n",
        "accuracy = accuracy_score(y_test_encoded, y_pred)\n",
        "precision = precision_score(y_test_encoded, y_pred)\n",
        "recall = recall_score(y_test_encoded, y_pred)\n",
        "f1 = f1_score(y_test_encoded, y_pred)"
      ]
    },
    {
      "cell_type": "code",
      "execution_count": null,
      "metadata": {},
      "outputs": [],
      "source": [
        "# Print the evaluation metrics\n",
        "print(f'Accuracy: {accuracy:.4f}')\n",
        "print(f'Precision: {precision:.4f}')\n",
        "print(f'Recall: {recall:.4f}')\n",
        "print(f'F1 Score: {f1:.4f}')"
      ]
    },
    {
      "cell_type": "code",
      "execution_count": null,
      "metadata": {},
      "outputs": [],
      "source": [
        "# For AUC, we need the probabilities\n",
        "y_pred_proba = pipeline.decision_function(X_test) \n",
        "auc = roc_auc_score(y_test_encoded, y_pred_proba)"
      ]
    },
    {
      "cell_type": "code",
      "execution_count": null,
      "metadata": {},
      "outputs": [],
      "source": [
        "print(f'AUC: {auc:.4f}')"
      ]
    }
  ],
  "metadata": {
    "accelerator": "GPU",
    "colab": {
      "authorship_tag": "ABX9TyNaMOW8s0B4wi0sc+0lx4t+",
      "gpuType": "T4",
      "include_colab_link": true,
      "mount_file_id": "14xKwNB3SPL9sed2JAPY2oBi2GsxInWsi",
      "provenance": []
    },
    "kernelspec": {
      "display_name": "Python 3",
      "name": "python3"
    },
    "language_info": {
      "codemirror_mode": {
        "name": "ipython",
        "version": 3
      },
      "file_extension": ".py",
      "mimetype": "text/x-python",
      "name": "python",
      "nbconvert_exporter": "python",
      "pygments_lexer": "ipython3",
      "version": "3.11.9"
    }
  },
  "nbformat": 4,
  "nbformat_minor": 0
}
