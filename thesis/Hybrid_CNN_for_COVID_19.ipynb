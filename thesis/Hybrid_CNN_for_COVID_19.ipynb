{
  "cells": [
    {
      "cell_type": "markdown",
      "metadata": {
        "colab_type": "text",
        "id": "view-in-github"
      },
      "source": [
        "<a href=\"https://colab.research.google.com/github/tengkumuazabs/my-portfolio/blob/main/thesis/Hybrid_CNN_for_COVID_19.ipynb\" target=\"_parent\"><img src=\"https://colab.research.google.com/assets/colab-badge.svg\" alt=\"Open In Colab\"/></a>"
      ]
    },
    {
      "cell_type": "code",
      "execution_count": 1,
      "metadata": {
        "id": "8gi_TO5PsYjR"
      },
      "outputs": [],
      "source": [
        "import numpy as np\n",
        "import matplotlib.pyplot as plt\n",
        "import glob\n",
        "import cv2\n",
        "import pandas as pd\n",
        "import os\n",
        "import shutil\n",
        "import seaborn as sns\n",
        "from sklearn import svm\n",
        "from sklearn import preprocessing\n",
        "import matplotlib.pyplot as plt\n",
        "from sklearn.metrics import roc_curve, roc_auc_score, accuracy_score, precision_score, f1_score, recall_score, classification_report, mean_absolute_error, confusion_matrix, ConfusionMatrixDisplay\n",
        "from sklearn.ensemble import RandomForestClassifier\n",
        "from sklearn.model_selection import cross_val_score, KFold,StratifiedKFold\n",
        "from sklearn import preprocessing\n",
        "from sklearn.preprocessing import label_binarize\n",
        "import random\n",
        "from keras.models import Model, Sequential\n",
        "from keras.applications import InceptionV3, InceptionResNetV2, MobileNetV2, ResNet50, ResNet101, DenseNet201, DenseNet121, EfficientNetB0, VGG16, Xception, MobileNet, EfficientNetB2, Xception, InceptionResNetV2\n",
        "from sklearn.neighbors import KNeighborsClassifier\n",
        "from sklearn.decomposition import PCA\n",
        "from tensorflow import keras\n",
        "from tensorflow.keras import layers\n",
        "import tensorflow as tf\n",
        "from keras.layers import Dense, Dropout, Input\n",
        "from keras.utils import to_categorical\n",
        "import pickle"
      ]
    },
    {
      "cell_type": "code",
      "execution_count": null,
      "metadata": {
        "id": "GyChQaM-Decy"
      },
      "outputs": [],
      "source": [
        "images_original, images_clahe, images_he, images_comp, images_bcet, images_gamma = [], [], [], [], [] ,[]\n",
        "labels_original, labels_clahe, labels_he, labels_comp, labels_bcet, labels_gamma = [], [], [], [], [], []\n",
        "\n",
        "def append_img(images, labels, img_type):\n",
        "  img_class = [0, 1]\n",
        "  for img_class in img_class:\n",
        "    for index, img_path in enumerate(sorted(glob.glob('Thesis/colab images/{}/{}/*'.format(img_type, img_class)))):\n",
        "      img = cv2.imread(img_path)\n",
        "      images.append(img)\n",
        "      labels.append(img_class)\n",
        "      if index == 24:\n",
        "        break\n",
        "\n",
        "append_img(images_original, labels_original, 'original')\n",
        "append_img(images_clahe, labels_clahe, 'clahe')\n",
        "append_img(images_he, labels_he, 'he')\n",
        "append_img(images_comp, labels_comp, 'comp')\n",
        "append_img(images_bcet, labels_bcet, 'bcet')\n",
        "append_img(images_gamma, labels_gamma, 'gamma')"
      ]
    },
    {
      "cell_type": "code",
      "execution_count": null,
      "metadata": {
        "colab": {
          "base_uri": "https://localhost:8080/"
        },
        "id": "BopKePLT-Lx2",
        "outputId": "dea2f25d-572d-4f47-c7c2-c42ee024134d"
      },
      "outputs": [
        {
          "data": {
            "text/plain": [
              "50"
            ]
          },
          "execution_count": 143,
          "metadata": {},
          "output_type": "execute_result"
        }
      ],
      "source": [
        "len(labels_original)"
      ]
    },
    {
      "cell_type": "code",
      "execution_count": null,
      "metadata": {
        "id": "jBJZ_euuvZO-"
      },
      "outputs": [],
      "source": [
        "# Comparing images side by side\n",
        "w = random.randrange(0, 20)\n",
        "\n",
        "print(w)\n",
        "print(labels_clahe[w])\n",
        "\n",
        "\n",
        "f, axarr = plt.subplots(2,3)\n",
        "\n",
        "axarr[0, 0].imshow(images_he[w], cmap='gray')\n",
        "axarr[0, 1].imshow(images_clahe[w], cmap='gray')\n",
        "axarr[0, 1].imshow(images_he[w], cmap='gray')\n",
        "axarr[1, 0].imshow(images_comp[w], cmap='gray')\n",
        "axarr[1, 1].imshow(images_bcet[w], cmap='gray')\n",
        "axarr[1, 2].imshow(images_gamma[w], cmap='gray')"
      ]
    },
    {
      "cell_type": "code",
      "execution_count": null,
      "metadata": {
        "id": "4BulBSKdGc2_"
      },
      "outputs": [],
      "source": [
        "SIZE = 224"
      ]
    },
    {
      "cell_type": "code",
      "execution_count": null,
      "metadata": {
        "collapsed": true,
        "id": "cvL_-HpZ7ICp"
      },
      "outputs": [],
      "source": [
        "# Loading pretrained network\n",
        "inceptionv3 = InceptionV3(weights=None, include_top=False, input_shape=(SIZE, SIZE, 3))\n",
        "inceptionv3.load_weights('Thesis/Inception_224_up_uncrop.h5', skip_mismatch=True, by_name=True)\n",
        "\n",
        "efficientnetb2 = EfficientNetB2(weights=None, include_top=False, input_shape=(SIZE, SIZE, 3))\n",
        "efficientnetb2.load_weights('Thesis/EfficientNet_224_up_uncrop.h5', skip_mismatch=True, by_name=True)\n",
        "\n",
        "resnet50 = ResNet50(weights=None, include_top=False, input_shape=(SIZE, SIZE, 3))\n",
        "resnet50.load_weights('Thesis/ResNet50_224_up_uncrop.h5', skip_mismatch=True, by_name=True)\n",
        "\n",
        "densenet121 = DenseNet121(weights=None, include_top=False, input_shape=(SIZE, SIZE, 3))\n",
        "densenet121.load_weights('Thesis/DenseNet_224_up_uncrop.h5', skip_mismatch=True, by_name=True)\n",
        "\n",
        "xception = Xception(weights=None, include_top=False, input_shape=(SIZE, SIZE, 3))\n",
        "xception.load_weights('Thesis/Xception_224_up_uncrop.h5', skip_mismatch=True, by_name=True)\n",
        "\n",
        "inceptionresnet = InceptionResNetV2(weights=None, include_top=False, input_shape=(SIZE, SIZE, 3))\n",
        "inceptionresnet.load_weights('Thesis/InceptionResNet_224_up_uncrop.h5', skip_mismatch=True, by_name=True)"
      ]
    },
    {
      "cell_type": "code",
      "execution_count": null,
      "metadata": {
        "id": "JUwYoXA2lQd6"
      },
      "outputs": [],
      "source": [
        "cnn_models = [inceptionv3, efficientnetb2, densenet121, resnet50, xception, inceptionresnet]"
      ]
    },
    {
      "cell_type": "code",
      "execution_count": null,
      "metadata": {
        "id": "VeWGc_lVFFhr"
      },
      "outputs": [],
      "source": [
        "ml_models = [KNeighborsClassifier(), svm.SVC(probability=True)]"
      ]
    },
    {
      "cell_type": "code",
      "execution_count": null,
      "metadata": {
        "id": "ANatF4ou4l4f"
      },
      "outputs": [],
      "source": [
        "kfold = KFold(n_splits=5, shuffle=True, random_state=1)"
      ]
    },
    {
      "cell_type": "code",
      "execution_count": null,
      "metadata": {
        "id": "DOPczSKqrzDJ"
      },
      "outputs": [],
      "source": [
        "acc, precision, recall, f1, tprs, fprs, aucs, scores = [], [], [], [], [], [], [], []\n",
        "report_original, report_clahe = pd.DataFrame(), pd.DataFrame()"
      ]
    },
    {
      "cell_type": "code",
      "execution_count": null,
      "metadata": {
        "id": "GFxVJaY_FFfV"
      },
      "outputs": [],
      "source": [
        "# From pixel scaling to performance reporting\n",
        "def cv_algorithms(clf, images, labels, model):\n",
        "    global acc, precision, recall, f1, tprs, fprs, aucs, report\n",
        "\n",
        "    cv_no = 1\n",
        "\n",
        "    images = np.array(images)\n",
        "    labels = np.array(labels)\n",
        "\n",
        "    images = images / 255.0\n",
        "\n",
        "    images_extract = model.predict(images)\n",
        "    images_features = images_extract.reshape(images_extract.shape[0], -1)\n",
        "\n",
        "    pca = PCA(n_components=0.95)\n",
        "    images_features_pca = pca.fit_transform(images_features)\n",
        "\n",
        "    for train_index, test_index in kfold.split(images_features_pca, labels):\n",
        "\n",
        "        X_train, X_test = images_features_pca[train_index], images_features_pca[test_index]\n",
        "        y_train, y_test = labels[train_index], labels[test_index]\n",
        "\n",
        "        clf = clf\n",
        "\n",
        "        clf.fit(X_train, y_train.flatten())\n",
        "\n",
        "        prediction = clf.predict(X_test)\n",
        "\n",
        "        a = accuracy_score(y_test, prediction)\n",
        "        p = precision_score(y_test, prediction)\n",
        "        r = recall_score(y_test, prediction)\n",
        "        f = f1_score(y_test, prediction)\n",
        "\n",
        "        acc.append(f\"{a:.{3}f}\")\n",
        "        precision.append(f\"{p:.{3}f}\")\n",
        "        recall.append(f\"{r:.{3}f}\")\n",
        "        f1.append(f\"{f:.{3}f}\")\n",
        "\n",
        "        prediction_proba = clf.predict_proba(X_test)[:,1]\n",
        "\n",
        "        mean_fpr = np.linspace(0, 1, 100)\n",
        "        fpr, tpr, thresholds = roc_curve(y_test, prediction_proba)\n",
        "        tprs.append(np.interp(mean_fpr, fpr, tpr))\n",
        "\n",
        "        auc_score = roc_auc_score(y_test, prediction_proba)\n",
        "        aucs.append(f\"{auc_score:.{3}f}\")\n",
        "\n",
        "        cv_no += 1\n",
        "\n",
        "    acc = np.array(acc, dtype=np.float32)\n",
        "    precision = np.array(precision, dtype=np.float32)\n",
        "    recall = np.array(recall, dtype=np.float32)\n",
        "    f1 = np.array(f1, dtype=np.float32)\n",
        "    aucs = np.array(aucs, dtype=np.float32)\n",
        "\n",
        "    tprs_mean = np.mean(tprs, axis=0)\n",
        "    tprs_std = np.std(tprs, axis=0)\n",
        "    roc_auc_mean = np.mean(aucs)\n",
        "    roc_auc_std = np.std(aucs)\n",
        "\n",
        "    new_row = {\n",
        "        \"model\": model.name, \"clf\": clf, \"acc\": np.mean(acc), \"precision\": np.mean(precision), \"recall\": np.mean(recall), \"f1\": np.mean(f1), \"auc\": np.mean(aucs)\n",
        "      }\n",
        "\n",
        "    report = pd.concat([report, pd.DataFrame([new_row])])\n",
        "\n",
        "    acc, precision, recall, f1, tprs, fprs, aucs, scores = [], [], [], [], [], [], [],[]\n",
        "\n",
        "    return report"
      ]
    },
    {
      "cell_type": "code",
      "execution_count": null,
      "metadata": {
        "id": "nQN_bRsHFFj7"
      },
      "outputs": [],
      "source": [
        "def predict(cnn, ml, images, labels, report_type):\n",
        "  for i in cnn:\n",
        "    for j in ml:\n",
        "      cv_algorithms(j, images, labels, i)\n",
        "  return report"
      ]
    },
    {
      "cell_type": "code",
      "execution_count": null,
      "metadata": {
        "colab": {
          "base_uri": "https://localhost:8080/"
        },
        "id": "QkckLVbKFFmA",
        "outputId": "361e888f-91a9-40e2-bc7b-95d4b4d2aa58"
      },
      "outputs": [
        {
          "name": "stdout",
          "output_type": "stream",
          "text": [
            "27/27 [==============================] - 21s 768ms/step\n",
            "27/27 [==============================] - 20s 719ms/step\n",
            "27/27 [==============================] - 28s 1s/step\n",
            "27/27 [==============================] - 29s 1s/step\n",
            "27/27 [==============================] - 42s 2s/step\n",
            "27/27 [==============================] - 38s 1s/step\n",
            "27/27 [==============================] - 34s 1s/step\n",
            "27/27 [==============================] - 32s 1s/step\n",
            "27/27 [==============================] - 29s 1s/step\n",
            "27/27 [==============================] - 29s 1s/step\n",
            "27/27 [==============================] - 43s 2s/step\n",
            "27/27 [==============================] - 41s 2s/step\n"
          ]
        }
      ],
      "source": [
        "report = pd.DataFrame()\n",
        "report_original = predict(cnn_models, ml_models, images_original, labels_original, report_original)"
      ]
    },
    {
      "cell_type": "code",
      "execution_count": null,
      "metadata": {
        "colab": {
          "base_uri": "https://localhost:8080/"
        },
        "id": "BACDB44U7PGn",
        "outputId": "df51c3cd-4855-410e-9054-822506c41375"
      },
      "outputs": [
        {
          "name": "stdout",
          "output_type": "stream",
          "text": [
            "27/27 [==============================] - 15s 558ms/step\n",
            "27/27 [==============================] - 16s 579ms/step\n",
            "27/27 [==============================] - 28s 1s/step\n",
            "27/27 [==============================] - 27s 983ms/step\n",
            "27/27 [==============================] - 37s 1s/step\n",
            "27/27 [==============================] - 37s 1s/step\n",
            "27/27 [==============================] - 31s 1s/step\n",
            "27/27 [==============================] - 31s 1s/step\n",
            "27/27 [==============================] - 28s 1s/step\n",
            "27/27 [==============================] - 29s 1s/step\n",
            "27/27 [==============================] - 42s 2s/step\n",
            "27/27 [==============================] - 42s 2s/step\n"
          ]
        }
      ],
      "source": [
        "report = pd.DataFrame()\n",
        "report_clahe = predict(cnn_models, ml_models, images_clahe, labels_clahe, report_clahe)"
      ]
    },
    {
      "cell_type": "code",
      "execution_count": null,
      "metadata": {
        "id": "54SN-LaZMSvz"
      },
      "outputs": [],
      "source": [
        "report_original.to_csv('Thesis/report/report_original.csv')"
      ]
    },
    {
      "cell_type": "code",
      "execution_count": null,
      "metadata": {
        "id": "dmnN26LcMRo8"
      },
      "outputs": [],
      "source": [
        "report_clahe.to_csv('Thesis/report/report_clahe.csv')"
      ]
    },
    {
      "cell_type": "code",
      "execution_count": null,
      "metadata": {
        "id": "M7lKVpXtbz9B"
      },
      "outputs": [],
      "source": [
        "df_original = pd.read_csv('Thesis/report/report_original.csv').drop('Unnamed: 0', axis=1)"
      ]
    },
    {
      "cell_type": "code",
      "execution_count": null,
      "metadata": {
        "id": "jQMNiDkFcULW"
      },
      "outputs": [],
      "source": [
        "def to_percentage(col):\n",
        "  return col.transform(lambda x: '{:,.2%}'.format(x))"
      ]
    },
    {
      "cell_type": "code",
      "execution_count": null,
      "metadata": {
        "id": "9xNFnnbHbMQY"
      },
      "outputs": [],
      "source": [
        "df[['acc', 'precision', 'recall', 'f1', 'auc']] = df[['acc', 'precision', 'recall', 'f1', 'auc']].apply(to_percentage, axis=1)"
      ]
    },
    {
      "cell_type": "code",
      "execution_count": null,
      "metadata": {
        "colab": {
          "base_uri": "https://localhost:8080/",
          "height": 425
        },
        "id": "VQc0orJ8gFkI",
        "outputId": "5032256a-663f-4229-9225-d8b46fd06e2f"
      },
      "outputs": [
        {
          "data": {
            "text/html": [
              "<div>\n",
              "<style scoped>\n",
              "    .dataframe tbody tr th:only-of-type {\n",
              "        vertical-align: middle;\n",
              "    }\n",
              "\n",
              "    .dataframe tbody tr th {\n",
              "        vertical-align: top;\n",
              "    }\n",
              "\n",
              "    .dataframe thead th {\n",
              "        text-align: right;\n",
              "    }\n",
              "</style>\n",
              "<table border=\"1\" class=\"dataframe\">\n",
              "  <thead>\n",
              "    <tr style=\"text-align: right;\">\n",
              "      <th></th>\n",
              "      <th>model</th>\n",
              "      <th>clf</th>\n",
              "      <th>acc</th>\n",
              "      <th>precision</th>\n",
              "      <th>recall</th>\n",
              "      <th>f1</th>\n",
              "      <th>auc</th>\n",
              "    </tr>\n",
              "  </thead>\n",
              "  <tbody>\n",
              "    <tr>\n",
              "      <th>0</th>\n",
              "      <td>inception_v3</td>\n",
              "      <td>KNeighborsClassifier()</td>\n",
              "      <td>60.90%</td>\n",
              "      <td>71.88%</td>\n",
              "      <td>35.68%</td>\n",
              "      <td>47.60%</td>\n",
              "      <td>64.94%</td>\n",
              "    </tr>\n",
              "    <tr>\n",
              "      <th>1</th>\n",
              "      <td>inception_v3</td>\n",
              "      <td>SVC(probability=True)</td>\n",
              "      <td>72.66%</td>\n",
              "      <td>73.42%</td>\n",
              "      <td>71.34%</td>\n",
              "      <td>72.26%</td>\n",
              "      <td>78.00%</td>\n",
              "    </tr>\n",
              "    <tr>\n",
              "      <th>2</th>\n",
              "      <td>efficientnetb2</td>\n",
              "      <td>KNeighborsClassifier()</td>\n",
              "      <td>55.86%</td>\n",
              "      <td>56.06%</td>\n",
              "      <td>53.54%</td>\n",
              "      <td>54.68%</td>\n",
              "      <td>59.38%</td>\n",
              "    </tr>\n",
              "    <tr>\n",
              "      <th>3</th>\n",
              "      <td>efficientnetb2</td>\n",
              "      <td>SVC(probability=True)</td>\n",
              "      <td>58.92%</td>\n",
              "      <td>58.92%</td>\n",
              "      <td>59.92%</td>\n",
              "      <td>59.30%</td>\n",
              "      <td>62.20%</td>\n",
              "    </tr>\n",
              "    <tr>\n",
              "      <th>4</th>\n",
              "      <td>densenet121</td>\n",
              "      <td>KNeighborsClassifier()</td>\n",
              "      <td>71.38%</td>\n",
              "      <td>74.64%</td>\n",
              "      <td>65.42%</td>\n",
              "      <td>69.58%</td>\n",
              "      <td>75.86%</td>\n",
              "    </tr>\n",
              "    <tr>\n",
              "      <th>5</th>\n",
              "      <td>densenet121</td>\n",
              "      <td>SVC(probability=True)</td>\n",
              "      <td>74.54%</td>\n",
              "      <td>77.12%</td>\n",
              "      <td>69.84%</td>\n",
              "      <td>73.22%</td>\n",
              "      <td>80.64%</td>\n",
              "    </tr>\n",
              "    <tr>\n",
              "      <th>6</th>\n",
              "      <td>resnet50</td>\n",
              "      <td>KNeighborsClassifier()</td>\n",
              "      <td>62.20%</td>\n",
              "      <td>76.72%</td>\n",
              "      <td>35.92%</td>\n",
              "      <td>48.30%</td>\n",
              "      <td>67.64%</td>\n",
              "    </tr>\n",
              "    <tr>\n",
              "      <th>7</th>\n",
              "      <td>resnet50</td>\n",
              "      <td>SVC(probability=True)</td>\n",
              "      <td>72.64%</td>\n",
              "      <td>73.62%</td>\n",
              "      <td>71.08%</td>\n",
              "      <td>72.16%</td>\n",
              "      <td>80.60%</td>\n",
              "    </tr>\n",
              "    <tr>\n",
              "      <th>8</th>\n",
              "      <td>xception</td>\n",
              "      <td>KNeighborsClassifier()</td>\n",
              "      <td>55.28%</td>\n",
              "      <td>56.58%</td>\n",
              "      <td>45.28%</td>\n",
              "      <td>50.14%</td>\n",
              "      <td>55.26%</td>\n",
              "    </tr>\n",
              "    <tr>\n",
              "      <th>9</th>\n",
              "      <td>xception</td>\n",
              "      <td>SVC(probability=True)</td>\n",
              "      <td>60.54%</td>\n",
              "      <td>60.26%</td>\n",
              "      <td>61.34%</td>\n",
              "      <td>60.74%</td>\n",
              "      <td>65.28%</td>\n",
              "    </tr>\n",
              "    <tr>\n",
              "      <th>10</th>\n",
              "      <td>inception_resnet_v2</td>\n",
              "      <td>KNeighborsClassifier()</td>\n",
              "      <td>64.80%</td>\n",
              "      <td>66.84%</td>\n",
              "      <td>59.88%</td>\n",
              "      <td>63.04%</td>\n",
              "      <td>69.10%</td>\n",
              "    </tr>\n",
              "    <tr>\n",
              "      <th>11</th>\n",
              "      <td>inception_resnet_v2</td>\n",
              "      <td>SVC(probability=True)</td>\n",
              "      <td>69.28%</td>\n",
              "      <td>69.82%</td>\n",
              "      <td>68.36%</td>\n",
              "      <td>69.02%</td>\n",
              "      <td>74.08%</td>\n",
              "    </tr>\n",
              "  </tbody>\n",
              "</table>\n",
              "</div>"
            ],
            "text/plain": [
              "                  model                     clf     acc precision  recall  \\\n",
              "0          inception_v3  KNeighborsClassifier()  60.90%    71.88%  35.68%   \n",
              "1          inception_v3   SVC(probability=True)  72.66%    73.42%  71.34%   \n",
              "2        efficientnetb2  KNeighborsClassifier()  55.86%    56.06%  53.54%   \n",
              "3        efficientnetb2   SVC(probability=True)  58.92%    58.92%  59.92%   \n",
              "4           densenet121  KNeighborsClassifier()  71.38%    74.64%  65.42%   \n",
              "5           densenet121   SVC(probability=True)  74.54%    77.12%  69.84%   \n",
              "6              resnet50  KNeighborsClassifier()  62.20%    76.72%  35.92%   \n",
              "7              resnet50   SVC(probability=True)  72.64%    73.62%  71.08%   \n",
              "8              xception  KNeighborsClassifier()  55.28%    56.58%  45.28%   \n",
              "9              xception   SVC(probability=True)  60.54%    60.26%  61.34%   \n",
              "10  inception_resnet_v2  KNeighborsClassifier()  64.80%    66.84%  59.88%   \n",
              "11  inception_resnet_v2   SVC(probability=True)  69.28%    69.82%  68.36%   \n",
              "\n",
              "        f1     auc  \n",
              "0   47.60%  64.94%  \n",
              "1   72.26%  78.00%  \n",
              "2   54.68%  59.38%  \n",
              "3   59.30%  62.20%  \n",
              "4   69.58%  75.86%  \n",
              "5   73.22%  80.64%  \n",
              "6   48.30%  67.64%  \n",
              "7   72.16%  80.60%  \n",
              "8   50.14%  55.26%  \n",
              "9   60.74%  65.28%  \n",
              "10  63.04%  69.10%  \n",
              "11  69.02%  74.08%  "
            ]
          },
          "execution_count": 89,
          "metadata": {},
          "output_type": "execute_result"
        }
      ],
      "source": []
    },
    {
      "cell_type": "code",
      "execution_count": null,
      "metadata": {
        "id": "flKGPGiKb3TU"
      },
      "outputs": [],
      "source": [
        "df_clahe = pd.read_csv('Thesis/report/report_clahe.csv').drop('Unnamed: 0', axis=1)"
      ]
    },
    {
      "cell_type": "code",
      "execution_count": null,
      "metadata": {
        "id": "uso6YS_UsBdN"
      },
      "outputs": [],
      "source": [
        "df_clahe[['acc', 'precision', 'recall', 'f1', 'auc']] = df_clahe[['acc', 'precision', 'recall', 'f1', 'auc']].apply(to_percentage, axis=1)"
      ]
    },
    {
      "cell_type": "code",
      "execution_count": null,
      "metadata": {
        "colab": {
          "base_uri": "https://localhost:8080/",
          "height": 425
        },
        "id": "YEpCpbMRsGqX",
        "outputId": "4bb247da-5073-4f01-dc24-439e2cc7ca87"
      },
      "outputs": [
        {
          "data": {
            "text/html": [
              "<div>\n",
              "<style scoped>\n",
              "    .dataframe tbody tr th:only-of-type {\n",
              "        vertical-align: middle;\n",
              "    }\n",
              "\n",
              "    .dataframe tbody tr th {\n",
              "        vertical-align: top;\n",
              "    }\n",
              "\n",
              "    .dataframe thead th {\n",
              "        text-align: right;\n",
              "    }\n",
              "</style>\n",
              "<table border=\"1\" class=\"dataframe\">\n",
              "  <thead>\n",
              "    <tr style=\"text-align: right;\">\n",
              "      <th></th>\n",
              "      <th>model</th>\n",
              "      <th>clf</th>\n",
              "      <th>acc</th>\n",
              "      <th>precision</th>\n",
              "      <th>recall</th>\n",
              "      <th>f1</th>\n",
              "      <th>auc</th>\n",
              "    </tr>\n",
              "  </thead>\n",
              "  <tbody>\n",
              "    <tr>\n",
              "      <th>0</th>\n",
              "      <td>inception_v3</td>\n",
              "      <td>KNeighborsClassifier()</td>\n",
              "      <td>67.26%</td>\n",
              "      <td>67.34%</td>\n",
              "      <td>66.54%</td>\n",
              "      <td>66.90%</td>\n",
              "      <td>71.30%</td>\n",
              "    </tr>\n",
              "    <tr>\n",
              "      <th>1</th>\n",
              "      <td>inception_v3</td>\n",
              "      <td>SVC(probability=True)</td>\n",
              "      <td>73.70%</td>\n",
              "      <td>76.52%</td>\n",
              "      <td>69.30%</td>\n",
              "      <td>72.52%</td>\n",
              "      <td>79.98%</td>\n",
              "    </tr>\n",
              "    <tr>\n",
              "      <th>2</th>\n",
              "      <td>efficientnetb2</td>\n",
              "      <td>KNeighborsClassifier()</td>\n",
              "      <td>60.44%</td>\n",
              "      <td>61.34%</td>\n",
              "      <td>57.14%</td>\n",
              "      <td>59.06%</td>\n",
              "      <td>62.58%</td>\n",
              "    </tr>\n",
              "    <tr>\n",
              "      <th>3</th>\n",
              "      <td>efficientnetb2</td>\n",
              "      <td>SVC(probability=True)</td>\n",
              "      <td>60.44%</td>\n",
              "      <td>68.50%</td>\n",
              "      <td>38.50%</td>\n",
              "      <td>49.22%</td>\n",
              "      <td>65.90%</td>\n",
              "    </tr>\n",
              "    <tr>\n",
              "      <th>4</th>\n",
              "      <td>densenet121</td>\n",
              "      <td>KNeighborsClassifier()</td>\n",
              "      <td>69.94%</td>\n",
              "      <td>70.22%</td>\n",
              "      <td>68.88%</td>\n",
              "      <td>69.52%</td>\n",
              "      <td>76.32%</td>\n",
              "    </tr>\n",
              "    <tr>\n",
              "      <th>5</th>\n",
              "      <td>densenet121</td>\n",
              "      <td>SVC(probability=True)</td>\n",
              "      <td>74.76%</td>\n",
              "      <td>76.62%</td>\n",
              "      <td>71.24%</td>\n",
              "      <td>73.80%</td>\n",
              "      <td>81.72%</td>\n",
              "    </tr>\n",
              "    <tr>\n",
              "      <th>6</th>\n",
              "      <td>resnet50</td>\n",
              "      <td>KNeighborsClassifier()</td>\n",
              "      <td>58.10%</td>\n",
              "      <td>74.24%</td>\n",
              "      <td>25.08%</td>\n",
              "      <td>37.30%</td>\n",
              "      <td>63.52%</td>\n",
              "    </tr>\n",
              "    <tr>\n",
              "      <th>7</th>\n",
              "      <td>resnet50</td>\n",
              "      <td>SVC(probability=True)</td>\n",
              "      <td>75.10%</td>\n",
              "      <td>77.90%</td>\n",
              "      <td>71.16%</td>\n",
              "      <td>74.12%</td>\n",
              "      <td>81.84%</td>\n",
              "    </tr>\n",
              "    <tr>\n",
              "      <th>8</th>\n",
              "      <td>xception</td>\n",
              "      <td>KNeighborsClassifier()</td>\n",
              "      <td>51.64%</td>\n",
              "      <td>62.48%</td>\n",
              "      <td>8.20%</td>\n",
              "      <td>14.42%</td>\n",
              "      <td>51.68%</td>\n",
              "    </tr>\n",
              "    <tr>\n",
              "      <th>9</th>\n",
              "      <td>xception</td>\n",
              "      <td>SVC(probability=True)</td>\n",
              "      <td>52.24%</td>\n",
              "      <td>65.48%</td>\n",
              "      <td>9.16%</td>\n",
              "      <td>16.04%</td>\n",
              "      <td>48.34%</td>\n",
              "    </tr>\n",
              "    <tr>\n",
              "      <th>10</th>\n",
              "      <td>inception_resnet_v2</td>\n",
              "      <td>KNeighborsClassifier()</td>\n",
              "      <td>59.28%</td>\n",
              "      <td>61.62%</td>\n",
              "      <td>49.74%</td>\n",
              "      <td>54.92%</td>\n",
              "      <td>64.40%</td>\n",
              "    </tr>\n",
              "    <tr>\n",
              "      <th>11</th>\n",
              "      <td>inception_resnet_v2</td>\n",
              "      <td>SVC(probability=True)</td>\n",
              "      <td>67.38%</td>\n",
              "      <td>68.06%</td>\n",
              "      <td>65.44%</td>\n",
              "      <td>66.70%</td>\n",
              "      <td>73.12%</td>\n",
              "    </tr>\n",
              "  </tbody>\n",
              "</table>\n",
              "</div>"
            ],
            "text/plain": [
              "                  model                     clf     acc precision  recall  \\\n",
              "0          inception_v3  KNeighborsClassifier()  67.26%    67.34%  66.54%   \n",
              "1          inception_v3   SVC(probability=True)  73.70%    76.52%  69.30%   \n",
              "2        efficientnetb2  KNeighborsClassifier()  60.44%    61.34%  57.14%   \n",
              "3        efficientnetb2   SVC(probability=True)  60.44%    68.50%  38.50%   \n",
              "4           densenet121  KNeighborsClassifier()  69.94%    70.22%  68.88%   \n",
              "5           densenet121   SVC(probability=True)  74.76%    76.62%  71.24%   \n",
              "6              resnet50  KNeighborsClassifier()  58.10%    74.24%  25.08%   \n",
              "7              resnet50   SVC(probability=True)  75.10%    77.90%  71.16%   \n",
              "8              xception  KNeighborsClassifier()  51.64%    62.48%   8.20%   \n",
              "9              xception   SVC(probability=True)  52.24%    65.48%   9.16%   \n",
              "10  inception_resnet_v2  KNeighborsClassifier()  59.28%    61.62%  49.74%   \n",
              "11  inception_resnet_v2   SVC(probability=True)  67.38%    68.06%  65.44%   \n",
              "\n",
              "        f1     auc  \n",
              "0   66.90%  71.30%  \n",
              "1   72.52%  79.98%  \n",
              "2   59.06%  62.58%  \n",
              "3   49.22%  65.90%  \n",
              "4   69.52%  76.32%  \n",
              "5   73.80%  81.72%  \n",
              "6   37.30%  63.52%  \n",
              "7   74.12%  81.84%  \n",
              "8   14.42%  51.68%  \n",
              "9   16.04%  48.34%  \n",
              "10  54.92%  64.40%  \n",
              "11  66.70%  73.12%  "
            ]
          },
          "execution_count": 93,
          "metadata": {},
          "output_type": "execute_result"
        }
      ],
      "source": [
        "df_clahe"
      ]
    },
    {
      "cell_type": "code",
      "execution_count": null,
      "metadata": {
        "colab": {
          "base_uri": "https://localhost:8080/"
        },
        "id": "7oDhAaK2Nax8",
        "outputId": "49cd1a49-9934-4d45-8c01-2815f56a403d"
      },
      "outputs": [
        {
          "data": {
            "text/plain": [
              "0     6.359993\n",
              "0     1.979996\n",
              "0     3.200008\n",
              "0     3.700005\n",
              "0     0.459991\n",
              "0     1.080002\n",
              "0    -4.119995\n",
              "0     1.240013\n",
              "0    -3.579998\n",
              "0   -16.939999\n",
              "0    -4.699997\n",
              "0    -0.960007\n",
              "Name: auc, dtype: float32"
            ]
          },
          "execution_count": 331,
          "metadata": {},
          "output_type": "execute_result"
        }
      ],
      "source": [
        "report_clahe.auc * 100 - report_original.auc * 100"
      ]
    },
    {
      "cell_type": "code",
      "execution_count": null,
      "metadata": {
        "id": "-bCzrhECNa0g"
      },
      "outputs": [],
      "source": [
        "# using clahe can improve several hybrid models"
      ]
    },
    {
      "cell_type": "code",
      "execution_count": null,
      "metadata": {
        "id": "R3b2fzEKp-Ec"
      },
      "outputs": [],
      "source": [
        "def save_model(cnn, ml, images, labels, img_type):\n",
        "    images = np.array(images)\n",
        "    labels = np.array(labels)\n",
        "\n",
        "    images = images / 255.0\n",
        "\n",
        "    images_extract = cnn.predict(images)\n",
        "    images_features = images_extract.reshape(images_extract.shape[0], -1)\n",
        "\n",
        "    ml.fit(images_features, labels.flatten())\n",
        "\n",
        "    pickle.dump(ml, open(img_type + '_' + cnn.name + '_' + str(ml), \"wb\"))"
      ]
    },
    {
      "cell_type": "code",
      "execution_count": null,
      "metadata": {
        "colab": {
          "base_uri": "https://localhost:8080/"
        },
        "id": "EgKwcS00H4tE",
        "outputId": "b21c5292-3525-400f-8fc0-2ee5e54affb2"
      },
      "outputs": [
        {
          "name": "stdout",
          "output_type": "stream",
          "text": [
            "27/27 [==============================] - 21s 770ms/step\n",
            "27/27 [==============================] - 21s 781ms/step\n"
          ]
        }
      ],
      "source": [
        "save_model(inceptionv3, svm.SVC(kernel='linear', probability=True), images_original, labels_original, 'original')\n",
        "save_model(inceptionv3, svm.SVC(kernel='linear', probability=True), images_clahe, labels_clahe, 'clahe')"
      ]
    },
    {
      "cell_type": "code",
      "execution_count": null,
      "metadata": {
        "colab": {
          "base_uri": "https://localhost:8080/"
        },
        "id": "0Abyn_zhIh61",
        "outputId": "97e4dc82-5788-4cdc-c353-36e63f066c5d"
      },
      "outputs": [
        {
          "name": "stdout",
          "output_type": "stream",
          "text": [
            "27/27 [==============================] - 36s 1s/step\n",
            "27/27 [==============================] - 33s 1s/step\n"
          ]
        }
      ],
      "source": [
        "save_model(resnet50, svm.SVC(kernel='linear', probability=True), images_original, labels_original, 'original')\n",
        "save_model(resnet50, svm.SVC(kernel='linear', probability=True), images_clahe, labels_clahe, 'clahe')"
      ]
    },
    {
      "cell_type": "code",
      "execution_count": null,
      "metadata": {
        "colab": {
          "base_uri": "https://localhost:8080/"
        },
        "id": "lP0H4Y9dKyBy",
        "outputId": "d1b26ed1-d34c-449b-e4a3-473a21bcd153"
      },
      "outputs": [
        {
          "name": "stdout",
          "output_type": "stream",
          "text": [
            "27/27 [==============================] - 31s 1s/step\n",
            "27/27 [==============================] - 32s 1s/step\n"
          ]
        }
      ],
      "source": [
        "save_model(resnet50, svm.SVC(probability=True), images_original, labels_original, 'original')\n",
        "save_model(resnet50, svm.SVC(probability=True), images_clahe, labels_clahe, 'clahe')"
      ]
    },
    {
      "cell_type": "code",
      "execution_count": 8,
      "metadata": {
        "id": "aWt31b1yO7eg"
      },
      "outputs": [],
      "source": [
        "# # Group images by findings\n",
        "# metadata = pd.read_csv(r'test images\\Actualmed-COVID-chestxray-dataset\\metadata.csv')\n",
        "\n",
        "# if os.path.exists(r'test images\\Actualmed-COVID-chestxray-dataset\\categories\\No Finding') == False:\n",
        "#     os.makedirs(r'test images\\Actualmed-COVID-chestxray-dataset\\categories\\No Finding')\n",
        "# if os.path.exists(r'test images\\Actualmed-COVID-chestxray-dataset\\categories\\COVID-19') == False:\n",
        "#     os.makedirs(r'test images\\Actualmed-COVID-chestxray-dataset\\categories\\COVID-19')\n",
        "\n",
        "# from_folder = r'test images\\Actualmed-COVID-chestxray-dataset\\images'\n",
        "# no_finding_folder = r'test images\\Actualmed-COVID-chestxray-dataset\\categories\\No Finding'\n",
        "# covid_folder = r'test images\\Actualmed-COVID-chestxray-dataset\\categories\\COVID-19'\n",
        "\n",
        "# for index in metadata.index.values:\n",
        "#     img_name = metadata.iloc[index]['imagename']\n",
        "#     keyword = metadata.iloc[index]['finding']\n",
        "#     img = cv2.imread(from_folder + '/' + img_name)\n",
        "#     img = cv2.cvtColor(img, cv2.COLOR_RGB2GRAY)\n",
        "#     if keyword == 'No finding':\n",
        "#         cv2.imwrite(os.path.join(no_finding_folder, img_name), img)\n",
        "#     elif keyword == 'COVID-19':\n",
        "#         cv2.imwrite(os.path.join(covid_folder, img_name), img)"
      ]
    },
    {
      "cell_type": "code",
      "execution_count": null,
      "metadata": {
        "id": "8y7_a7OzQ52b"
      },
      "outputs": [],
      "source": [
        "images_test_original, images_test_clahe = [], []\n",
        "labels_test_original, labels_test_clahe = [], []"
      ]
    },
    {
      "cell_type": "code",
      "execution_count": null,
      "metadata": {
        "id": "BKwQ28OGK5OS"
      },
      "outputs": [],
      "source": [
        "for directory_path in sorted(glob.glob('Thesis/test images/Actualmed-COVID-chestxray-dataset-master/categories/*')):\n",
        "    label = directory_path.split(\"\\\\\")[-1]\n",
        "    for img_path in glob.glob(os.path.join(directory_path, '*.png')):\n",
        "        img = cv2.imread(img_path)\n",
        "        img = cv2.resize(img, (SIZE, SIZE), interpolation=cv2.INTER_AREA)\n",
        "        images_test_original.append(img)\n",
        "        labels_test_original.append(label)\n",
        "\n",
        "for img_path in sorted(glob.glob('Thesis/test images/covid-19-image-repository-master/png/*'))[0:180]:\n",
        "    img = cv2.imread(img_path)\n",
        "    img = cv2.resize(img, (SIZE, SIZE))\n",
        "    images_test_original.append(img)\n",
        "    labels_test_original.append('COVID-19')\n",
        "\n",
        "images_test_original = np.array(images_test_original)\n",
        "images_test_original = np.array(images_test_original)\n",
        "labels_test_original = label_binarize(labels_test_original, classes = ['No Finding', 'COVID-19'])"
      ]
    },
    {
      "cell_type": "code",
      "execution_count": null,
      "metadata": {
        "id": "saKDOtgAQ2Sl"
      },
      "outputs": [],
      "source": [
        "clahe = cv2.createCLAHE()\n",
        "\n",
        "for directory_path in sorted(glob.glob('Thesis/test images/Actualmed-COVID-chestxray-dataset-master/categories/*')):\n",
        "    label = directory_path.split(\"\\\\\")[-1]\n",
        "    for img_path in glob.glob(os.path.join(directory_path, '*.png')):\n",
        "        img = cv2.imread(img_path, cv2.IMREAD_GRAYSCALE)\n",
        "        img = clahe.apply(img)\n",
        "        img = cv2.cvtColor(img, cv2.COLOR_GRAY2RGB)\n",
        "        img = cv2.resize(img, (SIZE, SIZE), interpolation=cv2.INTER_AREA)\n",
        "        images_test_clahe.append(img)\n",
        "        labels_test_clahe.append(label)\n",
        "\n",
        "for img_path in sorted(glob.glob('Thesis/test images/covid-19-image-repository-master/png/*'))[0:180]:\n",
        "    img = cv2.imread(img_path, cv2.IMREAD_GRAYSCALE)\n",
        "    img = clahe.apply(img)\n",
        "    img = cv2.cvtColor(img, cv2.COLOR_GRAY2RGB)\n",
        "    img = cv2.resize(img, (SIZE, SIZE))\n",
        "    images_test_clahe.append(img)\n",
        "    labels_test_clahe.append('COVID-19')\n",
        "\n",
        "images_test_clahe = np.array(images_test_clahe)\n",
        "images_test_clahe = np.array(images_test_clahe)\n",
        "labels_test_clahe = label_binarize(labels_test_clahe, classes = ['No Finding', 'COVID-19'])"
      ]
    },
    {
      "cell_type": "code",
      "execution_count": null,
      "metadata": {
        "colab": {
          "base_uri": "https://localhost:8080/"
        },
        "id": "ZXrX_1PJQWkh",
        "outputId": "612357de-05ba-4d1d-ce84-5e72b08b49c4"
      },
      "outputs": [
        {
          "data": {
            "text/plain": [
              "(365, 224, 224, 3)"
            ]
          },
          "execution_count": 124,
          "metadata": {},
          "output_type": "execute_result"
        }
      ],
      "source": [
        "images_test_original.shape"
      ]
    },
    {
      "cell_type": "code",
      "execution_count": null,
      "metadata": {
        "colab": {
          "base_uri": "https://localhost:8080/"
        },
        "id": "X-mIg879RhYC",
        "outputId": "3c8bc2f9-d599-4330-a0a4-b4115754715d"
      },
      "outputs": [
        {
          "data": {
            "text/plain": [
              "array([1, 1, 1, 1, 1, 1, 1, 1, 1, 1, 1, 1, 1, 1, 1, 1, 1, 1, 1, 1, 1, 1,\n",
              "       1, 1, 1, 1, 1, 1, 1, 1, 1, 1, 1, 1, 1, 1, 1, 1, 1, 1, 1, 1, 1, 1,\n",
              "       1, 1, 1, 1, 1, 1, 1, 1, 1, 1, 1, 1, 1, 1, 0, 0, 0, 0, 0, 0, 0, 0,\n",
              "       0, 0, 0, 0, 0, 0, 0, 0, 0, 0, 0, 0, 0, 0, 0, 0, 0, 0, 0, 0, 0, 0,\n",
              "       0, 0, 0, 0, 0, 0, 0, 0, 0, 0, 0, 0, 0, 0, 0, 0, 0, 0, 0, 0, 0, 0,\n",
              "       0, 0, 0, 0, 0, 0, 0, 0, 0, 0, 0, 0, 0, 0, 0, 0, 0, 0, 0, 0, 0, 0,\n",
              "       0, 0, 0, 0, 0, 0, 0, 0, 0, 0, 0, 0, 0, 0, 0, 0, 0, 0, 0, 0, 0, 0,\n",
              "       0, 0, 0, 0, 0, 0, 0, 0, 0, 0, 0, 0, 0, 0, 0, 0, 0, 0, 0, 0, 0, 0,\n",
              "       0, 0, 0, 0, 0, 0, 0, 0, 0, 1, 1, 1, 1, 1, 1, 1, 1, 1, 1, 1, 1, 1,\n",
              "       1, 1, 1, 1, 1, 1, 1, 1, 1, 1, 1, 1, 1, 1, 1, 1, 1, 1, 1, 1, 1, 1,\n",
              "       1, 1, 1, 1, 1, 1, 1, 1, 1, 1, 1, 1, 1, 1, 1, 1, 1, 1, 1, 1, 1, 1,\n",
              "       1, 1, 1, 1, 1, 1, 1, 1, 1, 1, 1, 1, 1, 1, 1, 1, 1, 1, 1, 1, 1, 1,\n",
              "       1, 1, 1, 1, 1, 1, 1, 1, 1, 1, 1, 1, 1, 1, 1, 1, 1, 1, 1, 1, 1, 1,\n",
              "       1, 1, 1, 1, 1, 1, 1, 1, 1, 1, 1, 1, 1, 1, 1, 1, 1, 1, 1, 1, 1, 1,\n",
              "       1, 1, 1, 1, 1, 1, 1, 1, 1, 1, 1, 1, 1, 1, 1, 1, 1, 1, 1, 1, 1, 1,\n",
              "       1, 1, 1, 1, 1, 1, 1, 1, 1, 1, 1, 1, 1, 1, 1, 1, 1, 1, 1, 1, 1, 1,\n",
              "       1, 1, 1, 1, 1, 1, 1, 1, 1, 1, 1, 1, 1])"
            ]
          },
          "execution_count": 123,
          "metadata": {},
          "output_type": "execute_result"
        }
      ],
      "source": [
        "labels_test_original.ravel()"
      ]
    },
    {
      "cell_type": "code",
      "execution_count": null,
      "metadata": {
        "colab": {
          "base_uri": "https://localhost:8080/",
          "height": 539
        },
        "id": "KWuGmkmLRp2c",
        "outputId": "9d692e8a-20d9-49af-e1b6-059a2cc88eb1"
      },
      "outputs": [
        {
          "name": "stdout",
          "output_type": "stream",
          "text": [
            "88\n"
          ]
        },
        {
          "data": {
            "image/png": "[encoded data removed]",
            "text/plain": [
              "<Figure size 432x288 with 1 Axes>"
            ]
          },
          "metadata": {
            "needs_background": "light"
          },
          "output_type": "display_data"
        },
        {
          "data": {
            "image/png": "[encoded data removed]",
            "text/plain": [
              "<Figure size 432x288 with 1 Axes>"
            ]
          },
          "metadata": {
            "needs_background": "light"
          },
          "output_type": "display_data"
        }
      ],
      "source": [
        "w = random.randrange(0, 100)\n",
        "print(w)\n",
        "\n",
        "plt.imshow(images_test_original[w])\n",
        "plt.show()\n",
        "plt.imshow(images_test_clahe[w])\n",
        "plt.show()"
      ]
    },
    {
      "cell_type": "code",
      "execution_count": null,
      "metadata": {
        "id": "t6sqTtQjTxsD"
      },
      "outputs": [],
      "source": [
        "def testing(images, labels, model, pretrained):\n",
        "  X_test, y_test = images / 255.0, labels\n",
        "\n",
        "  X_test_extract = model.predict(X_test)\n",
        "  X_test_features = X_test_extract.reshape(X_test_extract.shape[0], -1)\n",
        "\n",
        "  clf = pickle.load(open(pretrained, \"rb\"))\n",
        "\n",
        "  prediction = clf.predict(X_test_features)\n",
        "\n",
        "  a = accuracy_score(y_test, prediction)\n",
        "  p = precision_score(y_test, prediction)\n",
        "  r = recall_score(y_test, prediction)\n",
        "  f = f1_score(y_test, prediction)\n",
        "\n",
        "  print('acc: ', a)\n",
        "  print('precision: ', p)\n",
        "  print('recall: ', r)\n",
        "  print('f1: ', f)\n",
        "\n",
        "  prediction_proba = clf.predict_proba(X_test_features)[:, 1]\n",
        "  auc_score = roc_auc_score(y_test, prediction_proba)\n",
        "\n",
        "  print('auc: ', auc_score)"
      ]
    },
    {
      "cell_type": "code",
      "execution_count": null,
      "metadata": {
        "colab": {
          "base_uri": "https://localhost:8080/"
        },
        "id": "n-IPYy-hUUoU",
        "outputId": "8fea2ebb-77da-4f14-bf44-f938b80ee8c1"
      },
      "outputs": [
        {
          "name": "stdout",
          "output_type": "stream",
          "text": [
            "12/12 [==============================] - 9s 731ms/step\n",
            "acc:  0.5561643835616439\n",
            "precision:  0.677570093457944\n",
            "recall:  0.6092436974789915\n",
            "f1:  0.6415929203539823\n",
            "auc:  0.5773506252894859\n",
            "12/12 [==============================] - 8s 667ms/step\n",
            "acc:  0.6602739726027397\n",
            "precision:  0.7435897435897436\n",
            "recall:  0.7310924369747899\n",
            "f1:  0.7372881355932203\n",
            "auc:  0.7084298286243631\n"
          ]
        }
      ],
      "source": [
        "testing(images_test_original, labels_test_original, inceptionv3, \"Thesis/trained models/original_inception_v3_SVC(kernel='linear', probability=True)\")\n",
        "testing(images_test_clahe, labels_test_clahe, inceptionv3, \"Thesis/trained models/original_inception_v3_SVC(kernel='linear', probability=True)\")"
      ]
    },
    {
      "cell_type": "code",
      "execution_count": null,
      "metadata": {
        "colab": {
          "base_uri": "https://localhost:8080/"
        },
        "id": "o7jkXqr-XSBj",
        "outputId": "100342c8-1569-499b-bf6e-bb18c7b9da73"
      },
      "outputs": [
        {
          "name": "stdout",
          "output_type": "stream",
          "text": [
            "12/12 [==============================] - 16s 1s/step\n",
            "acc:  0.7561643835616438\n",
            "precision:  0.7709090909090909\n",
            "recall:  0.8907563025210085\n",
            "f1:  0.8265107212475634\n",
            "auc:  0.8486402434989745\n",
            "12/12 [==============================] - 16s 1s/step\n",
            "acc:  0.7616438356164383\n",
            "precision:  0.8007968127490039\n",
            "recall:  0.8445378151260504\n",
            "f1:  0.8220858895705522\n",
            "auc:  0.8406338913518163\n"
          ]
        }
      ],
      "source": [
        "testing(images_test_original, labels_test_original, resnet50, \"Thesis/trained models/original_resnet50_SVC(kernel='linear', probability=True)\")\n",
        "testing(images_test_clahe, labels_test_clahe, resnet50, \"Thesis/trained models/clahe_resnet50_SVC(kernel='linear', probability=True)\")"
      ]
    },
    {
      "cell_type": "code",
      "execution_count": null,
      "metadata": {
        "colab": {
          "base_uri": "https://localhost:8080/"
        },
        "id": "dSjtzPg2aa35",
        "outputId": "61fb4571-901c-40b3-8967-c3dec80c6ea0"
      },
      "outputs": [
        {
          "name": "stdout",
          "output_type": "stream",
          "text": [
            "12/12 [==============================] - 16s 1s/step\n",
            "acc:  0.7808219178082192\n",
            "precision:  0.7743055555555556\n",
            "recall:  0.9369747899159664\n",
            "f1:  0.8479087452471483\n",
            "auc:  0.9111361079865016\n",
            "12/12 [==============================] - 16s 1s/step\n",
            "acc:  0.8547945205479452\n",
            "precision:  0.8517110266159695\n",
            "recall:  0.9411764705882353\n",
            "f1:  0.8942115768463074\n",
            "auc:  0.9380996493085424\n"
          ]
        }
      ],
      "source": [
        "testing(images_test_original, labels_test_original, resnet50, \"Thesis/trained models/original_resnet50_SVC(probability=True)\")\n",
        "testing(images_test_clahe, labels_test_clahe, resnet50, \"Thesis/trained models/clahe_resnet50_SVC(probability=True)\")"
      ]
    },
    {
      "cell_type": "code",
      "execution_count": null,
      "metadata": {
        "id": "JaSjQ0WtbdBT"
      },
      "outputs": [],
      "source": [
        "# applying clahe to several existing hybrid models from previous publications can improve their performances."
      ]
    },
    {
      "cell_type": "code",
      "execution_count": null,
      "metadata": {
        "id": "HZkRP-sAEQpV"
      },
      "outputs": [],
      "source": [
        "from sklearn.model_selection import train_test_split\n",
        "X_train, X_test, y_train, y_test = train_test_split(np.array(images_original)/255.0, np.array(labels_original), test_size=0.30, random_state=101)"
      ]
    },
    {
      "cell_type": "code",
      "execution_count": null,
      "metadata": {
        "id": "fIU47RwtBcQ4"
      },
      "outputs": [],
      "source": [
        "def get_model():\n",
        "\n",
        "    #Input shape = [width, height, color channels]\n",
        "    inputs = layers.Input(shape=(SIZE, SIZE, 3))\n",
        "\n",
        "    # Block One\n",
        "    x = layers.Conv2D(filters=16, kernel_size=3, padding='valid')(inputs)\n",
        "    x = layers.BatchNormalization()(x)\n",
        "    x = layers.Activation('relu')(x)\n",
        "    x = layers.MaxPool2D()(x)\n",
        "    x = layers.Dropout(0.2)(x)\n",
        "\n",
        "    # Block Two\n",
        "    x = layers.Conv2D(filters=32, kernel_size=3, padding='valid')(x)\n",
        "    x = layers.BatchNormalization()(x)\n",
        "    x = layers.Activation('relu')(x)\n",
        "    x = layers.MaxPool2D()(x)\n",
        "    x = layers.Dropout(0.2)(x)\n",
        "\n",
        "    # Block Three\n",
        "    x = layers.Conv2D(filters=64, kernel_size=3, padding='valid')(x)\n",
        "    x = layers.Conv2D(filters=64, kernel_size=3, padding='valid')(x)\n",
        "    x = layers.BatchNormalization()(x)\n",
        "    x = layers.Activation('relu')(x)\n",
        "    x = layers.MaxPool2D()(x)\n",
        "    x = layers.Dropout(0.4)(x)\n",
        "\n",
        "    # Head\n",
        "    #x = layers.BatchNormalization()(x)\n",
        "    x = layers.Flatten()(x)\n",
        "    x = layers.Dense(64, activation='relu')(x)\n",
        "    x = layers.Dropout(0.5)(x)\n",
        "\n",
        "    #Final Layer (Output)\n",
        "    output = layers.Dense(1, activation='sigmoid')(x)\n",
        "\n",
        "    model = keras.Model(inputs=[inputs], outputs=output)\n",
        "\n",
        "    return model"
      ]
    },
    {
      "cell_type": "code",
      "execution_count": null,
      "metadata": {
        "id": "kRv2x8kaCwIo"
      },
      "outputs": [],
      "source": [
        "model = get_model()\n",
        "model.compile(loss='binary_crossentropy', optimizer=keras.optimizers.Adam(learning_rate=3e-5), metrics='binary_accuracy')"
      ]
    },
    {
      "cell_type": "code",
      "execution_count": null,
      "metadata": {
        "colab": {
          "base_uri": "https://localhost:8080/"
        },
        "id": "5qe50RiiCyii",
        "outputId": "e783f73a-1a3e-486f-b012-1867cf49ef2d"
      },
      "outputs": [
        {
          "name": "stdout",
          "output_type": "stream",
          "text": [
            "Model: \"model\"\n",
            "_________________________________________________________________\n",
            " Layer (type)                Output Shape              Param #   \n",
            "=================================================================\n",
            " input_1 (InputLayer)        [(None, 224, 224, 3)]     0         \n",
            "                                                                 \n",
            " conv2d (Conv2D)             (None, 222, 222, 16)      448       \n",
            "                                                                 \n",
            " batch_normalization (BatchN  (None, 222, 222, 16)     64        \n",
            " ormalization)                                                   \n",
            "                                                                 \n",
            " activation (Activation)     (None, 222, 222, 16)      0         \n",
            "                                                                 \n",
            " max_pooling2d (MaxPooling2D  (None, 111, 111, 16)     0         \n",
            " )                                                               \n",
            "                                                                 \n",
            " dropout (Dropout)           (None, 111, 111, 16)      0         \n",
            "                                                                 \n",
            " conv2d_1 (Conv2D)           (None, 109, 109, 32)      4640      \n",
            "                                                                 \n",
            " batch_normalization_1 (Batc  (None, 109, 109, 32)     128       \n",
            " hNormalization)                                                 \n",
            "                                                                 \n",
            " activation_1 (Activation)   (None, 109, 109, 32)      0         \n",
            "                                                                 \n",
            " max_pooling2d_1 (MaxPooling  (None, 54, 54, 32)       0         \n",
            " 2D)                                                             \n",
            "                                                                 \n",
            " dropout_1 (Dropout)         (None, 54, 54, 32)        0         \n",
            "                                                                 \n",
            " conv2d_2 (Conv2D)           (None, 52, 52, 64)        18496     \n",
            "                                                                 \n",
            " conv2d_3 (Conv2D)           (None, 50, 50, 64)        36928     \n",
            "                                                                 \n",
            " batch_normalization_2 (Batc  (None, 50, 50, 64)       256       \n",
            " hNormalization)                                                 \n",
            "                                                                 \n",
            " activation_2 (Activation)   (None, 50, 50, 64)        0         \n",
            "                                                                 \n",
            " max_pooling2d_2 (MaxPooling  (None, 25, 25, 64)       0         \n",
            " 2D)                                                             \n",
            "                                                                 \n",
            " dropout_2 (Dropout)         (None, 25, 25, 64)        0         \n",
            "                                                                 \n",
            " flatten (Flatten)           (None, 40000)             0         \n",
            "                                                                 \n",
            " dense (Dense)               (None, 64)                2560064   \n",
            "                                                                 \n",
            " dropout_3 (Dropout)         (None, 64)                0         \n",
            "                                                                 \n",
            " dense_1 (Dense)             (None, 1)                 65        \n",
            "                                                                 \n",
            "=================================================================\n",
            "Total params: 2,621,089\n",
            "Trainable params: 2,620,865\n",
            "Non-trainable params: 224\n",
            "_________________________________________________________________\n"
          ]
        }
      ],
      "source": [
        "model.summary()"
      ]
    },
    {
      "cell_type": "code",
      "execution_count": null,
      "metadata": {
        "colab": {
          "base_uri": "https://localhost:8080/"
        },
        "id": "OPcwwkxEEduK",
        "outputId": "67763d36-5fd2-4b6c-f306-3edc77f038e3"
      },
      "outputs": [
        {
          "name": "stdout",
          "output_type": "stream",
          "text": [
            "Epoch 1/20\n",
            "19/19 [==============================] - 17s 808ms/step - loss: 0.8641 - binary_accuracy: 0.5386 - val_loss: 0.6937 - val_binary_accuracy: 0.4766\n",
            "Epoch 2/20\n",
            "19/19 [==============================] - 14s 749ms/step - loss: 0.7022 - binary_accuracy: 0.5738 - val_loss: 0.6933 - val_binary_accuracy: 0.4766\n",
            "Epoch 3/20\n",
            "19/19 [==============================] - 14s 762ms/step - loss: 0.6653 - binary_accuracy: 0.6174 - val_loss: 0.6940 - val_binary_accuracy: 0.4766\n",
            "Epoch 4/20\n",
            "19/19 [==============================] - 14s 743ms/step - loss: 0.6652 - binary_accuracy: 0.5856 - val_loss: 0.6943 - val_binary_accuracy: 0.4766\n",
            "Epoch 5/20\n",
            "19/19 [==============================] - 14s 758ms/step - loss: 0.6679 - binary_accuracy: 0.5872 - val_loss: 0.6993 - val_binary_accuracy: 0.4766\n",
            "Epoch 6/20\n",
            "19/19 [==============================] - 14s 750ms/step - loss: 0.6427 - binary_accuracy: 0.6023 - val_loss: 0.7027 - val_binary_accuracy: 0.4766\n",
            "Epoch 7/20\n",
            "19/19 [==============================] - 14s 751ms/step - loss: 0.6437 - binary_accuracy: 0.6560 - val_loss: 0.7109 - val_binary_accuracy: 0.4766\n",
            "Epoch 8/20\n",
            "19/19 [==============================] - 14s 751ms/step - loss: 0.6637 - binary_accuracy: 0.6074 - val_loss: 0.7098 - val_binary_accuracy: 0.4766\n",
            "Epoch 9/20\n",
            "19/19 [==============================] - 14s 758ms/step - loss: 0.6427 - binary_accuracy: 0.6208 - val_loss: 0.7029 - val_binary_accuracy: 0.4766\n",
            "Epoch 10/20\n",
            "19/19 [==============================] - 14s 746ms/step - loss: 0.6213 - binary_accuracy: 0.6611 - val_loss: 0.7071 - val_binary_accuracy: 0.4766\n",
            "Epoch 11/20\n",
            "19/19 [==============================] - 14s 750ms/step - loss: 0.6358 - binary_accuracy: 0.6376 - val_loss: 0.7217 - val_binary_accuracy: 0.4766\n",
            "Epoch 12/20\n",
            "19/19 [==============================] - 14s 751ms/step - loss: 0.6362 - binary_accuracy: 0.6426 - val_loss: 0.7274 - val_binary_accuracy: 0.4766\n",
            "Epoch 13/20\n",
            "19/19 [==============================] - 14s 752ms/step - loss: 0.6362 - binary_accuracy: 0.6242 - val_loss: 0.7023 - val_binary_accuracy: 0.4766\n",
            "Epoch 14/20\n",
            "19/19 [==============================] - 14s 751ms/step - loss: 0.6408 - binary_accuracy: 0.6393 - val_loss: 0.7181 - val_binary_accuracy: 0.4766\n",
            "Epoch 15/20\n",
            "19/19 [==============================] - 14s 746ms/step - loss: 0.6243 - binary_accuracy: 0.6560 - val_loss: 0.7061 - val_binary_accuracy: 0.4727\n",
            "Epoch 16/20\n",
            "19/19 [==============================] - 15s 764ms/step - loss: 0.6258 - binary_accuracy: 0.6409 - val_loss: 0.7264 - val_binary_accuracy: 0.4727\n",
            "Epoch 17/20\n",
            "19/19 [==============================] - 14s 744ms/step - loss: 0.6196 - binary_accuracy: 0.6661 - val_loss: 0.7165 - val_binary_accuracy: 0.4688\n",
            "Epoch 18/20\n",
            "19/19 [==============================] - 15s 769ms/step - loss: 0.6014 - binary_accuracy: 0.6661 - val_loss: 0.7154 - val_binary_accuracy: 0.4727\n",
            "Epoch 19/20\n",
            "19/19 [==============================] - 14s 740ms/step - loss: 0.6195 - binary_accuracy: 0.6460 - val_loss: 0.7279 - val_binary_accuracy: 0.4688\n",
            "Epoch 20/20\n",
            "19/19 [==============================] - 15s 802ms/step - loss: 0.5952 - binary_accuracy: 0.6594 - val_loss: 0.7270 - val_binary_accuracy: 0.4766\n"
          ]
        },
        {
          "data": {
            "text/plain": [
              "<keras.callbacks.History at 0x1eb14f5f5b0>"
            ]
          },
          "execution_count": 12,
          "metadata": {},
          "output_type": "execute_result"
        }
      ],
      "source": [
        "model.fit(x=X_train,\n",
        "          y=y_train,\n",
        "          epochs=20,\n",
        "          validation_data=(X_test, y_test), verbose=1\n",
        "          )"
      ]
    },
    {
      "cell_type": "code",
      "execution_count": null,
      "metadata": {
        "colab": {
          "base_uri": "https://localhost:8080/",
          "height": 283
        },
        "id": "yqjAdNLbEu9f",
        "outputId": "0b14e672-a4ea-481f-e29e-b66a9cbecc6f"
      },
      "outputs": [
        {
          "data": {
            "text/plain": [
              "<AxesSubplot:>"
            ]
          },
          "execution_count": 13,
          "metadata": {},
          "output_type": "execute_result"
        },
        {
          "data": {
            "image/png": "[encoded data removed]",
            "text/plain": [
              "<Figure size 432x288 with 1 Axes>"
            ]
          },
          "metadata": {
            "needs_background": "light"
          },
          "output_type": "display_data"
        }
      ],
      "source": [
        "model_loss = pd.DataFrame(model.history.history)\n",
        "model_loss.plot()"
      ]
    },
    {
      "cell_type": "code",
      "execution_count": null,
      "metadata": {
        "id": "XWF3J6cqG1wL"
      },
      "outputs": [],
      "source": [
        "# using cnn from scratch results in poor performances, most important one is val_loss which goes up that indicates overfitting"
      ]
    },
    {
      "cell_type": "code",
      "execution_count": null,
      "metadata": {
        "id": "8W76x9OGMSRW"
      },
      "outputs": [],
      "source": [
        "base_model = densenet121\n",
        "base_model.trainable = False\n",
        "\n",
        "def get_pretrained():\n",
        "\n",
        "    #Input shape = [width, height, color channels]\n",
        "    inputs = layers.Input(shape=(SIZE, SIZE, 3))\n",
        "\n",
        "    x = base_model(inputs)\n",
        "\n",
        "    # Head\n",
        "    x = layers.GlobalAveragePooling2D()(x)\n",
        "    x = layers.Dense(128, activation='relu')(x)\n",
        "    x = layers.Dropout(0.1)(x)\n",
        "\n",
        "    #Final Layer (Output)\n",
        "    output = layers.Dense(1, activation='sigmoid')(x)\n",
        "\n",
        "    model = keras.Model(inputs=[inputs], outputs=output)\n",
        "\n",
        "    return model"
      ]
    },
    {
      "cell_type": "code",
      "execution_count": null,
      "metadata": {
        "colab": {
          "base_uri": "https://localhost:8080/"
        },
        "id": "0Mp7oKrsMTFu",
        "outputId": "b6ca74ec-6088-4937-c1b2-b1b9501781aa"
      },
      "outputs": [
        {
          "name": "stdout",
          "output_type": "stream",
          "text": [
            "Model: \"model_2\"\n",
            "_________________________________________________________________\n",
            " Layer (type)                Output Shape              Param #   \n",
            "=================================================================\n",
            " input_4 (InputLayer)        [(None, 224, 224, 3)]     0         \n",
            "                                                                 \n",
            " densenet121 (Functional)    (None, 7, 7, 1024)        7037504   \n",
            "                                                                 \n",
            " global_average_pooling2d (G  (None, 1024)             0         \n",
            " lobalAveragePooling2D)                                          \n",
            "                                                                 \n",
            " dense_21 (Dense)            (None, 128)               131200    \n",
            "                                                                 \n",
            " dropout_4 (Dropout)         (None, 128)               0         \n",
            "                                                                 \n",
            " dense_22 (Dense)            (None, 1)                 129       \n",
            "                                                                 \n",
            "=================================================================\n",
            "Total params: 7,168,833\n",
            "Trainable params: 131,329\n",
            "Non-trainable params: 7,037,504\n",
            "_________________________________________________________________\n"
          ]
        }
      ],
      "source": [
        "model_pretrained = get_pretrained()\n",
        "model_pretrained.compile(loss='binary_crossentropy', optimizer = keras.optimizers.Adam(learning_rate=5e-5), metrics='binary_accuracy')\n",
        "\n",
        "model_pretrained.summary()"
      ]
    },
    {
      "cell_type": "code",
      "execution_count": null,
      "metadata": {
        "colab": {
          "base_uri": "https://localhost:8080/"
        },
        "id": "V9zHrfv7NXE_",
        "outputId": "e90fca7b-de32-413e-c045-73bd8830dd85"
      },
      "outputs": [
        {
          "name": "stdout",
          "output_type": "stream",
          "text": [
            "Epoch 1/20\n",
            "19/19 [==============================] - 46s 2s/step - loss: 0.6985 - binary_accuracy: 0.5067 - val_loss: 0.6779 - val_binary_accuracy: 0.5977\n",
            "Epoch 2/20\n",
            "19/19 [==============================] - 36s 2s/step - loss: 0.6797 - binary_accuracy: 0.5872 - val_loss: 0.6686 - val_binary_accuracy: 0.6992\n",
            "Epoch 3/20\n",
            "19/19 [==============================] - 35s 2s/step - loss: 0.6652 - binary_accuracy: 0.6376 - val_loss: 0.6546 - val_binary_accuracy: 0.7305\n",
            "Epoch 4/20\n",
            "19/19 [==============================] - 36s 2s/step - loss: 0.6523 - binary_accuracy: 0.6728 - val_loss: 0.6481 - val_binary_accuracy: 0.7227\n",
            "Epoch 5/20\n",
            "19/19 [==============================] - 36s 2s/step - loss: 0.6484 - binary_accuracy: 0.6779 - val_loss: 0.6430 - val_binary_accuracy: 0.7305\n",
            "Epoch 6/20\n",
            "19/19 [==============================] - 36s 2s/step - loss: 0.6442 - binary_accuracy: 0.6779 - val_loss: 0.6371 - val_binary_accuracy: 0.7344\n",
            "Epoch 7/20\n",
            "19/19 [==============================] - 36s 2s/step - loss: 0.6383 - binary_accuracy: 0.6930 - val_loss: 0.6328 - val_binary_accuracy: 0.7227\n",
            "Epoch 8/20\n",
            "19/19 [==============================] - 36s 2s/step - loss: 0.6337 - binary_accuracy: 0.6846 - val_loss: 0.6273 - val_binary_accuracy: 0.7188\n",
            "Epoch 9/20\n",
            "19/19 [==============================] - 36s 2s/step - loss: 0.6311 - binary_accuracy: 0.6930 - val_loss: 0.6252 - val_binary_accuracy: 0.7383\n",
            "Epoch 10/20\n",
            "19/19 [==============================] - 35s 2s/step - loss: 0.6255 - binary_accuracy: 0.6829 - val_loss: 0.6210 - val_binary_accuracy: 0.7305\n",
            "Epoch 11/20\n",
            "19/19 [==============================] - 34s 2s/step - loss: 0.6237 - binary_accuracy: 0.7081 - val_loss: 0.6191 - val_binary_accuracy: 0.7383\n",
            "Epoch 12/20\n",
            "19/19 [==============================] - 37s 2s/step - loss: 0.6187 - binary_accuracy: 0.6846 - val_loss: 0.6136 - val_binary_accuracy: 0.7266\n",
            "Epoch 13/20\n",
            "19/19 [==============================] - 35s 2s/step - loss: 0.6117 - binary_accuracy: 0.6913 - val_loss: 0.6124 - val_binary_accuracy: 0.7383\n",
            "Epoch 14/20\n",
            "19/19 [==============================] - 35s 2s/step - loss: 0.6116 - binary_accuracy: 0.7064 - val_loss: 0.6076 - val_binary_accuracy: 0.7188\n",
            "Epoch 15/20\n",
            "19/19 [==============================] - 35s 2s/step - loss: 0.6155 - binary_accuracy: 0.6896 - val_loss: 0.6068 - val_binary_accuracy: 0.7422\n",
            "Epoch 16/20\n",
            "19/19 [==============================] - 36s 2s/step - loss: 0.6057 - binary_accuracy: 0.7064 - val_loss: 0.6032 - val_binary_accuracy: 0.7266\n",
            "Epoch 17/20\n",
            "19/19 [==============================] - 36s 2s/step - loss: 0.6056 - binary_accuracy: 0.6963 - val_loss: 0.6014 - val_binary_accuracy: 0.7344\n",
            "Epoch 18/20\n",
            "19/19 [==============================] - 36s 2s/step - loss: 0.6029 - binary_accuracy: 0.7064 - val_loss: 0.5979 - val_binary_accuracy: 0.7266\n",
            "Epoch 19/20\n",
            "19/19 [==============================] - 35s 2s/step - loss: 0.5980 - binary_accuracy: 0.7315 - val_loss: 0.5961 - val_binary_accuracy: 0.7266\n",
            "Epoch 20/20\n",
            "19/19 [==============================] - 36s 2s/step - loss: 0.5991 - binary_accuracy: 0.7198 - val_loss: 0.5940 - val_binary_accuracy: 0.7266\n"
          ]
        },
        {
          "data": {
            "text/plain": [
              "<keras.callbacks.History at 0x1eb18880d60>"
            ]
          },
          "execution_count": 41,
          "metadata": {},
          "output_type": "execute_result"
        }
      ],
      "source": [
        "model_pretrained.fit(x=X_train,\n",
        "          y=y_train,\n",
        "          epochs=20,\n",
        "          validation_data=(X_test, y_test), verbose=1\n",
        "          )"
      ]
    },
    {
      "cell_type": "code",
      "execution_count": null,
      "metadata": {
        "colab": {
          "base_uri": "https://localhost:8080/",
          "height": 284
        },
        "id": "Q5UMi0i_Nb4W",
        "outputId": "a0799a9e-5acf-48e0-96f0-fb6dceeef805"
      },
      "outputs": [
        {
          "data": {
            "text/plain": [
              "<AxesSubplot:>"
            ]
          },
          "execution_count": 43,
          "metadata": {},
          "output_type": "execute_result"
        },
        {
          "data": {
            "image/png": "[encoded data removed]",
            "text/plain": [
              "<Figure size 432x288 with 1 Axes>"
            ]
          },
          "metadata": {
            "needs_background": "light"
          },
          "output_type": "display_data"
        }
      ],
      "source": [
        "model_loss = pd.DataFrame(model_pretrained.history.history)\n",
        "model_loss.plot()"
      ]
    },
    {
      "cell_type": "code",
      "execution_count": null,
      "metadata": {
        "id": "Ic4vl74MNeQl"
      },
      "outputs": [],
      "source": []
    }
  ],
  "metadata": {
    "accelerator": "GPU",
    "colab": {
      "authorship_tag": "ABX9TyNaMOW8s0B4wi0sc+0lx4t+",
      "gpuType": "T4",
      "include_colab_link": true,
      "mount_file_id": "14xKwNB3SPL9sed2JAPY2oBi2GsxInWsi",
      "provenance": []
    },
    "kernelspec": {
      "display_name": "Python 3",
      "name": "python3"
    },
    "language_info": {
      "codemirror_mode": {
        "name": "ipython",
        "version": 3
      },
      "file_extension": ".py",
      "mimetype": "text/x-python",
      "name": "python",
      "nbconvert_exporter": "python",
      "pygments_lexer": "ipython3",
      "version": "3.11.9"
    }
  },
  "nbformat": 4,
  "nbformat_minor": 0
}
